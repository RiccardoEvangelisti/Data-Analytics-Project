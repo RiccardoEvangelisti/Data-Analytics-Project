{
 "cells": [
  {
   "cell_type": "code",
   "execution_count": null,
   "metadata": {},
   "outputs": [],
   "source": [
    "MY_UNIQUE_ID = \"citeristi\"\n",
    "\n",
    "import pickle\n",
    "import pandas as pd\n",
    "from sklearn.base import r2_score\n",
    "from sklearn.metrics import mean_absolute_error, mean_absolute_percentage_error, mean_squared_error\n",
    "\n",
    "\n",
    "# Output: unique ID of the team\n",
    "def getName():\n",
    "    return MY_UNIQUE_ID\n",
    "\n",
    "\n",
    "# Input: Test dataframe\n",
    "# Output: PreProcessed test dataframe\n",
    "def preprocess(df, clfName):\n",
    "    X = df.iloc[:, 1:]\n",
    "    y = df.iloc[:, 0]\n",
    "    pipe_transormers = pickle.load(open(clfName+\"_preproc_\"+\".save\", \"rb\"))\n",
    "    X = pd.DataFrame(pipe_transormers.transform(X))\n",
    "    dfNew = pd.concat([X, y], axis=1)\n",
    "    return dfNew\n",
    "\n",
    "\n",
    "# Input: Regressor name (\"lr\": Linear Regression, \"SVR\": Support Vector Regressor)\n",
    "# Output: Regressor object\n",
    "def load(clfName):\n",
    "    return pickle.load(open(clfName+\"_model_\"+\".save\", \"rb\"))\n",
    "\n",
    "\n",
    "# Input: PreProcessed dataset, Regressor Name, Regressor Object\n",
    "# Output: Performance dictionary\n",
    "def predict(df, clfName, clf):\n",
    "    X = df.iloc[:, 1:]\n",
    "    y = df.iloc[:, 0]\n",
    "    ypred = clf.predict(X.values)\n",
    "    mse = mean_squared_error(ypred, y)\n",
    "    mae = mean_absolute_error(ypred, y)\n",
    "    mape = mean_absolute_percentage_error(ypred, y)\n",
    "    r2 = r2_score(ypred, y)\n",
    "    perf = {\"mse\": mse, \"mae\": mae, \"mape\": mape, \"r2square\": r2}\n",
    "    return perf"
   ]
  }
 ],
 "metadata": {
  "language_info": {
   "name": "python"
  }
 },
 "nbformat": 4,
 "nbformat_minor": 2
}
