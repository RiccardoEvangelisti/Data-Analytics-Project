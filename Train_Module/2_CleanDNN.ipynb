{
 "cells": [
  {
   "cell_type": "code",
   "execution_count": 16,
   "metadata": {
    "ExecuteTime": {
     "end_time": "2023-06-22T17:05:38.127067100Z",
     "start_time": "2023-06-22T17:05:38.098187500Z"
    },
    "collapsed": true
   },
   "outputs": [],
   "source": [
    "import os\n",
    "import shutil\n",
    "import random\n",
    "import pandas as pd\n",
    "import numpy as np\n",
    "import matplotlib.pyplot as plt\n",
    "from sklearn.model_selection import train_test_split\n",
    "from sklearn.metrics import mean_squared_error\n",
    "from sklearn.metrics import r2_score\n",
    "\n",
    "import torch\n",
    "from torch import nn, Tensor\n",
    "from torch.utils.data import Dataset, DataLoader, Subset\n",
    "from torch.utils.tensorboard import SummaryWriter  # log writer to visualize the loss functions\n",
    "from itertools import product\n",
    "\n",
    "random_state = 42"
   ]
  },
  {
   "cell_type": "markdown",
   "metadata": {},
   "source": [
    "---\n",
    "## Preparation"
   ]
  },
  {
   "cell_type": "markdown",
   "metadata": {},
   "source": [
    "### Device\n"
   ]
  },
  {
   "cell_type": "code",
   "execution_count": 17,
   "metadata": {},
   "outputs": [
    {
     "name": "stdout",
     "output_type": "stream",
     "text": [
      "Device: cuda\n"
     ]
    }
   ],
   "source": [
    "# PyTorch Device\n",
    "device = \"cuda\" if torch.cuda.is_available() else \"mps\" if torch.backends.mps.is_available() else \"cpu\"\n",
    "print(\"Device: {}\".format(device))"
   ]
  },
  {
   "cell_type": "markdown",
   "metadata": {},
   "source": [
    "### Set seeds\n"
   ]
  },
  {
   "cell_type": "code",
   "execution_count": 18,
   "metadata": {},
   "outputs": [],
   "source": [
    "# For reproducibility, fix all the seeds\n",
    "def fix_random(seed: int) -> None:\n",
    "    \"\"\"Fix all the possible sources of randomness.\n",
    "    Args:\n",
    "        seed: the seed to use.\n",
    "    \"\"\"\n",
    "    np.random.seed(seed)\n",
    "    random.seed(seed)\n",
    "    torch.manual_seed(seed)\n",
    "    torch.cuda.manual_seed(seed)\n",
    "\n",
    "    torch.backends.cudnn.benchmark = False\n",
    "    torch.backends.cudnn.deterministic = True  # slower"
   ]
  },
  {
   "cell_type": "markdown",
   "metadata": {},
   "source": [
    "Da valutare come vogliamo disporre le directory in base al preprocess che facciamo. Ho lasciato una versione che differenzia in base al preproc per averla già pronta da modificare nel caso serva\n"
   ]
  },
  {
   "cell_type": "code",
   "execution_count": 19,
   "metadata": {},
   "outputs": [],
   "source": [
    "# versione Rick\n",
    "base_dir = \"2_NN_outputs/\"\n",
    "model_dir = base_dir + \"models/\"\n",
    "runs_dir = base_dir + \"runs/\"\n",
    "\n",
    "shutil.rmtree(model_dir, ignore_errors=True)\n",
    "shutil.rmtree(runs_dir, ignore_errors=True)\n",
    "os.makedirs(model_dir, exist_ok=True)\n",
    "os.makedirs(runs_dir, exist_ok=True)\n",
    "\n",
    "######################\n",
    "# if not os.path.exists('results'):\n",
    "#     os.mkdir('results')\n",
    "\n",
    "# if not os.path.exists('results/pca'):\n",
    "#     os.mkdir('results/pca')\n",
    "\n",
    "# if not os.path.exists('results/no_pca'):\n",
    "#     os.mkdir('results/no_pca')"
   ]
  },
  {
   "cell_type": "markdown",
   "metadata": {},
   "source": [
    "### Data Layer\n"
   ]
  },
  {
   "cell_type": "code",
   "execution_count": 20,
   "metadata": {},
   "outputs": [],
   "source": [
    "class MyDataset(Dataset):\n",
    "    # Save X and y as Tensors, accordingly to the type of the data\n",
    "    # https://pytorch.org/docs/stable/tensors.html\n",
    "    def __init__(self, X, y):\n",
    "        self.X = torch.tensor(X, dtype=torch.float32, device=device)\n",
    "        self.y = torch.tensor(y, dtype=torch.float32, device=device)\n",
    "\n",
    "        # Useful attributes\n",
    "        self.num_features = X.shape[1]\n",
    "        self.num_classes = len(np.unique(y))\n",
    "\n",
    "    # Dataset size\n",
    "    def __len__(self):\n",
    "        return self.X.shape[0]\n",
    "\n",
    "    # Fetch a data sample (single sample or batch) for a given index/es\n",
    "    # (if the dataset is not in memory, it can read from file system and return the object)\n",
    "    def __getitem__(self, idx):\n",
    "        return self.X[idx, :], self.y[idx]"
   ]
  },
  {
   "cell_type": "markdown",
   "metadata": {},
   "source": [
    "### Defining the neural network architecture\n"
   ]
  },
  {
   "cell_type": "code",
   "execution_count": 21,
   "metadata": {
    "ExecuteTime": {
     "end_time": "2023-06-22T17:05:42.070805500Z",
     "start_time": "2023-06-22T17:05:42.065927700Z"
    }
   },
   "outputs": [],
   "source": [
    "# Neural Network class\n",
    "# Extend the abstract class \"Module\"\n",
    "class NeuralNetwork(nn.Module):\n",
    "    def __init__(self, input_size, hidden_size, num_classes):\n",
    "        super(NeuralNetwork, self).__init__()\n",
    "\n",
    "        # Useful attributes\n",
    "        self.input_size = input_size\n",
    "        self.hidden_size = hidden_size\n",
    "\n",
    "        # Definition of Layers\n",
    "        self.fc1 = nn.Linear(self.input_size, self.hidden_size)  # input to hidden\n",
    "        self.fc2 = nn.Linear(self.hidden_size, num_classes)  # hidden to output\n",
    "\n",
    "        # Activation Function\n",
    "        self.relu = nn.ReLU()\n",
    "\n",
    "    # How layers are connected between them\n",
    "    # This even defines the graph of backpropagation\n",
    "    def forward(self, x):\n",
    "        h = self.fc1(x)  # first layer\n",
    "        h = self.relu(h)  # activation function\n",
    "        output = self.fc2(h)  # second layer\n",
    "        return output\n",
    "\n",
    "    def _get_name(self):\n",
    "        return \"FeedForward\""
   ]
  },
  {
   "cell_type": "markdown",
   "metadata": {},
   "source": [
    "### Training Function\n"
   ]
  },
  {
   "cell_type": "code",
   "execution_count": 30,
   "metadata": {
    "ExecuteTime": {
     "end_time": "2023-06-22T17:05:42.116054200Z",
     "start_time": "2023-06-22T17:05:42.087104900Z"
    }
   },
   "outputs": [],
   "source": [
    "# Function for the training process\n",
    "def train_model(\n",
    "    model: nn.Module,  # instance of class to train\n",
    "    criterion,  # instance of loss function\n",
    "    optimizer,  # instance of optimizer\n",
    "    epochs,  # number of\n",
    "    train_loader: DataLoader,\n",
    "    val_loader: DataLoader,\n",
    "    device,  # to train on\n",
    "    log_writer,\n",
    "    log_name,\n",
    "):\n",
    "    n_iter = 0\n",
    "    best_valid_loss = float(\"inf\")  # initialized to worst possible value\n",
    "\n",
    "    # variabili per early stopping\n",
    "    ######################################### DA VEDERE\n",
    "    patience = 10\n",
    "    epochs_no_improve = 0\n",
    "\n",
    "    # EPOCHS\n",
    "    for epoch in range(epochs):\n",
    "        model.train()  # activate training mode (for BatchNorm or Dropout)\n",
    "\n",
    "        # BATCHES\n",
    "        for data, targets in train_loader:  # get_item from MyDataset class (single item or batch)\n",
    "            data, targets = data.to(device), targets.to(device)  # move data and targets to cpu/gpu\n",
    "\n",
    "            optimizer.zero_grad()  # gradient to zero\n",
    "\n",
    "            # Forward pass\n",
    "            y_pred = model(data)\n",
    "            display(y_pred)\n",
    "\n",
    "            # Compute Loss\n",
    "            loss = criterion(\n",
    "                y_pred, targets.view(y_pred.shape[0], 1)\n",
    "            )  # reshape because MSELoss requires same dimensionality\n",
    "            log_writer.add_scalar(\"Loss train / batches\", loss, n_iter)  # plot the batches\n",
    "\n",
    "            # Backward pass\n",
    "            loss.backward()\n",
    "            optimizer.step()\n",
    "\n",
    "            n_iter += 1\n",
    "\n",
    "        # Valuation\n",
    "        y_test, _, y_pred = test_model(model, val_loader, device)\n",
    "        loss_val = criterion(y_pred, y_test.view(y_pred.shape[0], 1))\n",
    "        log_writer.add_scalar(\"Loss val / epochs\", loss_val, epoch)  # plot the epochs\n",
    "\n",
    "        # Save the model with best loss through the epochs\n",
    "        if loss_val.item() < best_valid_loss:\n",
    "            best_valid_loss = loss_val.item()\n",
    "            torch.save(model.state_dict(), model_dir + log_name)\n",
    "\n",
    "        # #early stopping\n",
    "        # #####################################################DA VEDERE\n",
    "        # else:\n",
    "        #     epochs_no_improve += 1\n",
    "        #     if epochs_no_improve == patience:\n",
    "        #         print('Early stopping!')\n",
    "        #         break"
   ]
  },
  {
   "cell_type": "markdown",
   "metadata": {},
   "source": [
    "### Test Function\n"
   ]
  },
  {
   "cell_type": "code",
   "execution_count": 23,
   "metadata": {
    "ExecuteTime": {
     "end_time": "2023-06-22T17:05:42.116054200Z",
     "start_time": "2023-06-22T17:05:42.106079700Z"
    }
   },
   "outputs": [],
   "source": [
    "def test_model(model: nn.Module, data_loader: DataLoader, device) -> tuple[Tensor, Tensor, Tensor]:\n",
    "    \"\"\"return:\n",
    "    - y_test - true lables\n",
    "    - y_pred_c - has 1 column, where each element is the predicted label with bigger probability among the \"c\" predicted\n",
    "    - y_pred - has \"c\" columns as the number of classes of the test set\n",
    "    \"\"\"\n",
    "    model.eval()  # activate evaluation mode (for BatchNorm or Dropout)\n",
    "\n",
    "    y_pred = []\n",
    "    y_test = []\n",
    "\n",
    "    # ## oppure\n",
    "    # y_pred = torch.tensor([]).to(device)\n",
    "    # y_true = torch.tensor([]).to(device)\n",
    "\n",
    "    for data, targets in data_loader:\n",
    "        data, targets = data.to(device), targets.to(device)  # move data and targets to cpu/gpu\n",
    "\n",
    "        y_pred.append(model(data))  # accumulate predictions\n",
    "        y_test.append(targets)  # accumulate labels\n",
    "\n",
    "    y_test = torch.stack(y_test).squeeze()  # it's one column (each row is a different sample)\n",
    "    y_pred = torch.stack(\n",
    "        y_pred\n",
    "    ).squeeze()  # there are \"c\" columns as the number of classes. Each column is the probability (as float number) to that class (each row is a different sample)\n",
    "    y_pred_c = y_pred.argmax(\n",
    "        dim=1, keepdim=True\n",
    "    ).squeeze()  # return max position of prediction array: that is the class I will associate with the sample\n",
    "    return y_test, y_pred_c, y_pred"
   ]
  },
  {
   "cell_type": "markdown",
   "metadata": {},
   "source": [
    "---\n",
    "\n",
    "## Train\n"
   ]
  },
  {
   "cell_type": "markdown",
   "metadata": {},
   "source": [
    "### Data Loading\n"
   ]
  },
  {
   "cell_type": "code",
   "execution_count": 24,
   "metadata": {
    "ExecuteTime": {
     "end_time": "2023-06-22T17:05:40.242589800Z",
     "start_time": "2023-06-22T17:05:38.117070300Z"
    }
   },
   "outputs": [
    {
     "name": "stdout",
     "output_type": "stream",
     "text": [
      "Rows:  252175\n",
      "Columns:  91\n"
     ]
    }
   ],
   "source": [
    "df = pd.read_csv(\"train.csv\")\n",
    "num_rows, num_cols = df.shape\n",
    "print(\"Rows: \", num_rows)\n",
    "print(\"Columns: \", num_cols)"
   ]
  },
  {
   "cell_type": "code",
   "execution_count": 25,
   "metadata": {},
   "outputs": [
    {
     "name": "stdout",
     "output_type": "stream",
     "text": [
      "Null rows: 0\n",
      "Duplicated rows: 52\n"
     ]
    }
   ],
   "source": [
    "print(\"Null rows:\", df.shape[0] - df.dropna().shape[0])\n",
    "print(\"Duplicated rows:\", df.duplicated().sum())\n",
    "df.drop_duplicates(inplace=True)"
   ]
  },
  {
   "cell_type": "code",
   "execution_count": 26,
   "metadata": {
    "ExecuteTime": {
     "end_time": "2023-06-22T17:05:40.565714200Z",
     "start_time": "2023-06-22T17:05:40.248568300Z"
    }
   },
   "outputs": [],
   "source": [
    "df_X = df.iloc[:, 1:].values\n",
    "df_y = df.iloc[:, 0].values\n",
    "indices = np.arange(df_X.shape[0])  # useful later to split the data in train/val/test\n",
    "\n",
    "# Separate indices in train/val/set\n",
    "# \"stratify=y\" makes sure to keep the classes proportions on the dataset (useful on imbalanced classes)\n",
    "train_idx, test_idx = train_test_split(indices, test_size=0.2, stratify=df_y, random_state=random_state)\n",
    "train_idx, val_idx = train_test_split(train_idx, test_size=0.2, stratify=df_y[train_idx], random_state=random_state)"
   ]
  },
  {
   "cell_type": "code",
   "execution_count": 27,
   "metadata": {
    "ExecuteTime": {
     "end_time": "2023-06-22T17:05:42.056143500Z",
     "start_time": "2023-06-22T17:05:40.565714200Z"
    },
    "collapsed": false
   },
   "outputs": [],
   "source": [
    "# VEDERE COME PREPROCESSARE\n",
    "# visto che sono tutte gaussiane\n",
    "# possiamo normalizzare, batch normalizzare,\n",
    "# standardizzare + scaler che tolga gli outlier\n",
    "# altro?? da vedere"
   ]
  },
  {
   "cell_type": "code",
   "execution_count": 28,
   "metadata": {
    "ExecuteTime": {
     "end_time": "2023-06-22T17:05:42.066925800Z",
     "start_time": "2023-06-22T17:05:42.055145700Z"
    }
   },
   "outputs": [],
   "source": [
    "## ciclare sotto su batch size per train_loader\n",
    "# DataLoaders\n",
    "my_dataset = MyDataset(df_X, df_y)\n",
    "\n",
    "train_subset = Subset(my_dataset, train_idx)\n",
    "\n",
    "val_subset = Subset(my_dataset, val_idx)\n",
    "val_loader = DataLoader(val_subset, batch_size=1)\n",
    "\n",
    "test_subset = Subset(my_dataset, test_idx)\n",
    "test_loader = DataLoader(test_subset, batch_size=1)"
   ]
  },
  {
   "cell_type": "markdown",
   "metadata": {},
   "source": [
    "### Hyperparameters\n"
   ]
  },
  {
   "cell_type": "code",
   "execution_count": 29,
   "metadata": {},
   "outputs": [
    {
     "name": "stdout",
     "output_type": "stream",
     "text": [
      "Number of hyperparameter combinations: 36\n"
     ]
    }
   ],
   "source": [
    "# valutare hidden_size\n",
    "hidden_size = [128, 256, 512]  # 128\n",
    "# oppure\n",
    "# hidden_sizes =  [256, 512, 1024]\n",
    "\n",
    "# da valutare batch_size\n",
    "batch_size = [32, 64]  # 32\n",
    "# oppure\n",
    "# batch_size = [8,16,32]\n",
    "\n",
    "# abbiamo detto che non facciamo drop out\n",
    "# dropout_p = [0.2, 0.3]  # 0.2\n",
    "\n",
    "depth = [3, 4, 5]\n",
    "\n",
    "# da valutare learning_rate\n",
    "learning_rate = [0.001, 0.1]\n",
    "# oppure\n",
    "# learning_rate = [0.01, 0.001]\n",
    "# learning_rate = [0.1, 0.01, 0.001]\n",
    "\n",
    "num_epochs = [200]\n",
    "## o 5 o 10\n",
    "\n",
    "## capire se è il caso di ciclare anche su quei due parametri commentati\n",
    "hyperparameters = list(\n",
    "    product(\n",
    "        hidden_size,\n",
    "        depth,\n",
    "        num_epochs,\n",
    "        batch_size,\n",
    "        learning_rate,\n",
    "        # step_size_lr_decay,\n",
    "        # momentum\n",
    "    )\n",
    ")\n",
    "n_comb = len(hyperparameters)\n",
    "print(f\"Number of hyperparameter combinations: {n_comb}\")"
   ]
  },
  {
   "cell_type": "markdown",
   "metadata": {},
   "source": [
    "### Run\n",
    "\n",
    "Run Tensorboard from the command line:\n",
    "\n",
    "> tensorboard --logdir nn/runs/\n"
   ]
  },
  {
   "cell_type": "code",
   "execution_count": 32,
   "metadata": {},
   "outputs": [
    {
     "name": "stdout",
     "output_type": "stream",
     "text": [
      "Iteration 1/36\n",
      "hidden_size: 128, depth: 3, batch_size: 32, lr: 0.001\n"
     ]
    },
    {
     "data": {
      "text/plain": [
       "tensor([[-111.8737,  -69.8732,  -45.4978,  ...,  -54.0606,  150.7720,\n",
       "         -101.0543],\n",
       "        [-121.2442,   15.5505,  -89.5311,  ...,  -28.0234,   18.8668,\n",
       "         -129.3834],\n",
       "        [ -66.8996,    6.0704,  -70.4086,  ...,  -17.9268,   18.9979,\n",
       "         -134.6447],\n",
       "        ...,\n",
       "        [ -23.1416,   27.1338,   -0.2235,  ...,   -5.1121,  -19.0287,\n",
       "          -50.8169],\n",
       "        [-103.2039,   49.4598,  -36.3058,  ...,   -2.7572,  -43.5037,\n",
       "          -75.7192],\n",
       "        [ -57.3192,  -35.5319,   26.3158,  ...,  -33.7568,   -4.0851,\n",
       "          -46.0595]], device='cuda:0', grad_fn=<AddmmBackward0>)"
      ]
     },
     "metadata": {},
     "output_type": "display_data"
    },
    {
     "name": "stderr",
     "output_type": "stream",
     "text": [
      "c:\\Users\\evang.HOMEEVANGELISTI\\AppData\\Local\\Programs\\Python\\Python311\\Lib\\site-packages\\torch\\nn\\modules\\loss.py:535: UserWarning: Using a target size (torch.Size([32, 1])) that is different to the input size (torch.Size([32, 54])). This will likely lead to incorrect results due to broadcasting. Please ensure they have the same size.\n",
      "  return F.mse_loss(input, target, reduction=self.reduction)\n"
     ]
    },
    {
     "data": {
      "text/plain": [
       "tensor([[ 3.5847e+01,  2.0944e+00,  1.4561e+01,  ...,  7.6139e+01,\n",
       "          7.9179e+01, -1.1004e+02],\n",
       "        [ 6.9830e+01,  2.0710e+02, -1.0122e+01,  ...,  1.5144e+02,\n",
       "         -1.5103e+01, -1.4451e+02],\n",
       "        [-1.1517e+02, -1.1134e+02,  1.2262e+02,  ...,  8.5003e+01,\n",
       "          2.1716e+00, -9.7005e+01],\n",
       "        ...,\n",
       "        [-5.5936e+01,  4.3823e+01, -6.7995e+01,  ...,  3.3711e+00,\n",
       "          3.9756e+01, -9.7944e+01],\n",
       "        [-2.5988e+00,  6.8494e+01,  1.1077e+00,  ...,  6.8042e+01,\n",
       "          8.0512e+01, -6.5477e+01],\n",
       "        [-2.9404e+01,  7.9621e-02,  7.7100e+00,  ...,  9.4075e+00,\n",
       "          3.9694e+01, -3.8329e+01]], device='cuda:0', grad_fn=<AddmmBackward0>)"
      ]
     },
     "metadata": {},
     "output_type": "display_data"
    },
    {
     "data": {
      "text/plain": [
       "tensor([[ 2.1763e+01,  8.3546e+01,  6.0662e+01,  ...,  7.8233e+01,\n",
       "          5.7941e+01, -5.0952e+01],\n",
       "        [ 2.1351e+00,  6.4560e+01,  3.8036e+01,  ...,  9.3138e+01,\n",
       "          3.9276e+01, -8.3462e+01],\n",
       "        [ 6.0166e+00,  4.0978e+01,  9.1957e+00,  ...,  8.7090e-02,\n",
       "          2.4779e+01, -8.2097e+01],\n",
       "        ...,\n",
       "        [-5.1887e+01,  1.5536e+01,  4.2328e+01,  ...,  2.7674e+01,\n",
       "          5.6119e+01, -1.2367e+02],\n",
       "        [-1.8811e+01,  5.3549e+01,  3.6896e+01,  ...,  5.1048e+01,\n",
       "          2.8601e+01, -2.0085e+01],\n",
       "        [ 3.1652e+01,  1.0555e+01,  2.3438e+01,  ...,  3.8970e+00,\n",
       "          2.1126e+01, -2.7861e+01]], device='cuda:0', grad_fn=<AddmmBackward0>)"
      ]
     },
     "metadata": {},
     "output_type": "display_data"
    },
    {
     "data": {
      "text/plain": [
       "tensor([[ 159.0323,  237.5107,   42.3464,  ...,  166.1273,  -29.3692,\n",
       "         -246.2853],\n",
       "        [   2.6012,    7.0117,   13.5199,  ...,  -14.9064,    0.2777,\n",
       "          -29.5523],\n",
       "        [  35.1853,  233.1330,  173.9229,  ...,    8.3842,  119.2004,\n",
       "          -30.9911],\n",
       "        ...,\n",
       "        [   5.0182,   -6.3222,   91.5301,  ...,   81.1010,   82.2925,\n",
       "          -35.4210],\n",
       "        [  -2.3472,   15.7937,   44.4767,  ...,   54.0978,   55.5293,\n",
       "          -61.4294],\n",
       "        [  -9.5077,  101.0368,   73.2665,  ...,   62.6401,  111.8969,\n",
       "          -67.5559]], device='cuda:0', grad_fn=<AddmmBackward0>)"
      ]
     },
     "metadata": {},
     "output_type": "display_data"
    },
    {
     "data": {
      "text/plain": [
       "tensor([[ -17.1846,  220.7135, -108.3039,  ...,  133.0782,  335.5139,\n",
       "          -91.3250],\n",
       "        [  47.4157,   76.4974,   62.7804,  ...,  103.6322,   64.2896,\n",
       "          -38.6186],\n",
       "        [ 116.8463,  228.4349,   88.5019,  ...,  210.9227,  130.0024,\n",
       "         -115.2020],\n",
       "        ...,\n",
       "        [  69.5433,  109.4408,   10.7046,  ...,   74.5029,   39.8254,\n",
       "          -59.8185],\n",
       "        [   9.8966,   24.6376,   10.5933,  ...,   21.3359,   15.0667,\n",
       "          -14.5277],\n",
       "        [  43.2852,   13.3206,   44.7066,  ...,   10.4375,   61.2493,\n",
       "          -59.1526]], device='cuda:0', grad_fn=<AddmmBackward0>)"
      ]
     },
     "metadata": {},
     "output_type": "display_data"
    },
    {
     "data": {
      "text/plain": [
       "tensor([[167.3107, 317.0710, -10.7299,  ..., 225.3443, 119.4449, -85.2008],\n",
       "        [225.6129, 408.8842,  51.7040,  ..., 312.9597, 158.2970, -73.7454],\n",
       "        [ 60.0571, 119.5650,  77.3866,  ..., 120.2396,  80.4913,  -3.5747],\n",
       "        ...,\n",
       "        [263.1285, 306.5767, 226.1938,  ..., 350.7536, 240.7120,  -4.1500],\n",
       "        [ 22.1965,  48.5809,  27.9518,  ...,  56.2243,  32.2234, -44.3156],\n",
       "        [ 14.9100,  53.2328,  60.2978,  ...,  27.1410,  33.0583, -40.4680]],\n",
       "       device='cuda:0', grad_fn=<AddmmBackward0>)"
      ]
     },
     "metadata": {},
     "output_type": "display_data"
    },
    {
     "data": {
      "text/plain": [
       "tensor([[ 56.6549,  71.5571,  84.1731,  ...,  44.2424,  35.6109, -24.7832],\n",
       "        [ 46.1115,  88.6325,  85.1559,  ..., 100.2185,  62.4853,   6.0145],\n",
       "        [168.3384, 293.1011, 185.5187,  ..., 298.9649, 157.7257, -47.3005],\n",
       "        ...,\n",
       "        [ 73.1404, 121.5969,  73.1932,  ..., 143.7770,  89.2274,   1.4258],\n",
       "        [ 84.7505,  98.3412, 136.6363,  ..., 136.2395, 119.4005,  21.7991],\n",
       "        [ 42.5013,  69.1079,  80.9294,  ..., 102.2002, 108.5128, -15.8204]],\n",
       "       device='cuda:0', grad_fn=<AddmmBackward0>)"
      ]
     },
     "metadata": {},
     "output_type": "display_data"
    },
    {
     "data": {
      "text/plain": [
       "tensor([[ 72.5550, 106.0728,  75.9651,  ..., 127.3276,  77.2878, -19.9657],\n",
       "        [131.0567, 126.9952,  96.4756,  ..., 110.5665, 144.1311, -31.7734],\n",
       "        [ 17.3986,  30.4301,  30.9586,  ...,  40.7785,  38.4517,  -9.1209],\n",
       "        ...,\n",
       "        [ 44.2134,  27.0131,  46.8133,  ...,  28.9013,  17.9370,   4.2385],\n",
       "        [123.0843, 155.4880, 227.4155,  ..., 275.1264, 332.7450, -37.0653],\n",
       "        [382.4133, 601.7928, 215.4369,  ..., 517.8959, 453.4644, -72.9644]],\n",
       "       device='cuda:0', grad_fn=<AddmmBackward0>)"
      ]
     },
     "metadata": {},
     "output_type": "display_data"
    },
    {
     "data": {
      "text/plain": [
       "tensor([[166.3421, 220.4717, 143.8527,  ..., 203.0778, 187.1827,  -9.8180],\n",
       "        [303.6654, 394.9245,  71.8087,  ..., 304.3807, 202.7784,  80.0418],\n",
       "        [ 53.6630,  85.0746,  74.2844,  ..., 125.7923, 159.6413, -12.3578],\n",
       "        ...,\n",
       "        [130.0982, 112.7312, 160.8401,  ..., 119.1338, 136.0060, -15.8668],\n",
       "        [ 64.4000,   8.9158, 139.8693,  ..., 162.2926, 125.9777,  46.1961],\n",
       "        [185.6758, 162.6549, 144.4259,  ..., 287.3587, 285.2953,  33.7452]],\n",
       "       device='cuda:0', grad_fn=<AddmmBackward0>)"
      ]
     },
     "metadata": {},
     "output_type": "display_data"
    },
    {
     "data": {
      "text/plain": [
       "tensor([[422.4055, 470.5568, 415.9476,  ..., 450.5323, 344.1025,  45.6246],\n",
       "        [357.8425, 464.7842, 312.0245,  ..., 405.6855, 320.9998,   2.0965],\n",
       "        [128.2276, 229.1538, 140.7008,  ..., 195.1649, 200.5670,   6.9368],\n",
       "        ...,\n",
       "        [168.7024, 135.7333, 127.3196,  ..., 171.5383,  86.3421,  34.2016],\n",
       "        [ 28.3788,  37.4283,  54.0745,  ...,  43.5444,  87.1163,   6.9131],\n",
       "        [ 34.6828,  73.2603,  69.0347,  ...,  53.7166,  40.2055,  10.8854]],\n",
       "       device='cuda:0', grad_fn=<AddmmBackward0>)"
      ]
     },
     "metadata": {},
     "output_type": "display_data"
    },
    {
     "data": {
      "text/plain": [
       "tensor([[183.9532, 191.4518, 173.0724,  ..., 246.3748, 218.5027,  27.9847],\n",
       "        [186.8548, 206.9068, 110.2541,  ..., 219.3251, 213.5459,  20.4359],\n",
       "        [235.0990, 367.3860, 223.9815,  ..., 324.9702, 295.1396,  44.7664],\n",
       "        ...,\n",
       "        [215.0315, 235.3489, 214.1565,  ..., 278.6919, 197.4175,  49.6500],\n",
       "        [183.0582, 246.9709, 224.5444,  ..., 279.9647, 238.6432,  50.3939],\n",
       "        [433.9674, 455.3682, 286.1603,  ..., 466.5912, 385.5649,  30.5577]],\n",
       "       device='cuda:0', grad_fn=<AddmmBackward0>)"
      ]
     },
     "metadata": {},
     "output_type": "display_data"
    },
    {
     "data": {
      "text/plain": [
       "tensor([[140.6028, 188.1806, 169.4874,  ..., 150.5085,  95.8180,  58.8922],\n",
       "        [151.4605, 132.6360, 197.6946,  ..., 166.5797, 172.5006,  33.3234],\n",
       "        [ 70.7247,  51.8529, 101.1319,  ..., 123.1121, 148.1564,  54.6253],\n",
       "        ...,\n",
       "        [580.3054, 770.0926, 428.7766,  ..., 471.0905, 369.7794,  85.8253],\n",
       "        [254.0453, 194.0338, 248.7106,  ..., 220.9216, 204.1959,  96.0527],\n",
       "        [312.4967, 478.4709, 319.2478,  ..., 283.1038, 292.5486,  76.9375]],\n",
       "       device='cuda:0', grad_fn=<AddmmBackward0>)"
      ]
     },
     "metadata": {},
     "output_type": "display_data"
    },
    {
     "data": {
      "text/plain": [
       "tensor([[ 92.1992,  85.3776, 116.1307,  ...,  99.9701,  95.0095,  17.6189],\n",
       "        [486.2529, 545.4375, 307.1706,  ..., 429.3238, 352.1967,  42.0234],\n",
       "        [185.9629, 212.2024, 162.0180,  ..., 166.1407, 159.1026,  17.5800],\n",
       "        ...,\n",
       "        [268.0291, 285.5364, 238.2122,  ..., 320.8672, 310.4651,  82.2431],\n",
       "        [132.2185, 120.3025, 201.7849,  ..., 163.8985, 217.3208,  61.5300],\n",
       "        [256.6040, 321.4934, 302.8739,  ..., 344.9527, 272.7661,  53.8891]],\n",
       "       device='cuda:0', grad_fn=<AddmmBackward0>)"
      ]
     },
     "metadata": {},
     "output_type": "display_data"
    },
    {
     "data": {
      "text/plain": [
       "tensor([[164.4985, 181.7119, 187.3862,  ..., 185.6259, 195.1676,  60.1431],\n",
       "        [207.4641, 208.1806, 284.5234,  ..., 315.0594, 316.8919, 101.6616],\n",
       "        [354.2745, 479.2373, 340.8397,  ..., 446.3632, 300.0052, 104.2336],\n",
       "        ...,\n",
       "        [127.2415,  92.9585, 189.8366,  ..., 195.6025, 209.0174, 105.1411],\n",
       "        [270.2042, 325.5924, 283.0724,  ..., 347.2970, 283.7930,  89.1635],\n",
       "        [333.5463, 367.4588, 302.4900,  ..., 236.7428, 166.2538, 107.7050]],\n",
       "       device='cuda:0', grad_fn=<AddmmBackward0>)"
      ]
     },
     "metadata": {},
     "output_type": "display_data"
    },
    {
     "data": {
      "text/plain": [
       "tensor([[407.3401, 411.3473, 328.1587,  ..., 426.0509, 380.6872, 114.7141],\n",
       "        [445.8425, 400.1849, 464.3296,  ..., 552.4001, 456.4418, 295.0089],\n",
       "        [298.7263, 405.6610, 245.3692,  ..., 355.3729, 249.2260,  91.7665],\n",
       "        ...,\n",
       "        [357.4601, 434.8613, 375.6476,  ..., 412.0497, 315.3828, 117.7997],\n",
       "        [549.9035, 681.5771, 589.7711,  ..., 659.9910, 468.1349, 308.3111],\n",
       "        [564.5859, 608.9130, 513.6403,  ..., 408.8314, 493.0414, 124.2860]],\n",
       "       device='cuda:0', grad_fn=<AddmmBackward0>)"
      ]
     },
     "metadata": {},
     "output_type": "display_data"
    },
    {
     "data": {
      "text/plain": [
       "tensor([[252.8469, 261.0380, 229.2957,  ..., 255.3988, 230.0332,  79.8078],\n",
       "        [495.8761, 504.6407, 426.2617,  ..., 511.4915, 494.8379, 173.5062],\n",
       "        [444.0446, 517.2524, 471.7309,  ..., 429.1231, 409.0836, 185.1438],\n",
       "        ...,\n",
       "        [506.9106, 527.5091, 466.8644,  ..., 604.6727, 447.2975, 225.6175],\n",
       "        [550.2559, 674.4633, 448.2997,  ..., 507.7130, 496.7782, 133.8315],\n",
       "        [394.6943, 350.9256, 349.4360,  ..., 494.7331, 407.1680, 224.3722]],\n",
       "       device='cuda:0', grad_fn=<AddmmBackward0>)"
      ]
     },
     "metadata": {},
     "output_type": "display_data"
    },
    {
     "data": {
      "text/plain": [
       "tensor([[447.9442, 471.3267, 255.0464,  ..., 425.3030, 355.4152, 154.6147],\n",
       "        [599.3680, 519.3338, 637.7501,  ..., 638.6669, 559.5665, 255.0045],\n",
       "        [496.3091, 465.8097, 429.2235,  ..., 472.9144, 450.9507, 179.5968],\n",
       "        ...,\n",
       "        [373.5857, 403.3453, 344.1299,  ..., 342.2179, 289.1824, 153.4879],\n",
       "        [304.2002, 394.8899, 245.1178,  ..., 343.7492, 286.5309,  89.6976],\n",
       "        [371.2600, 359.0389, 430.3136,  ..., 353.9504, 358.1828, 167.2502]],\n",
       "       device='cuda:0', grad_fn=<AddmmBackward0>)"
      ]
     },
     "metadata": {},
     "output_type": "display_data"
    },
    {
     "data": {
      "text/plain": [
       "tensor([[356.6799, 324.3706, 362.8370,  ..., 458.4702, 357.7764, 182.5617],\n",
       "        [556.9343, 691.9288, 562.7853,  ..., 623.8743, 649.5234, 242.8514],\n",
       "        [536.4615, 614.5925, 617.5348,  ..., 584.8945, 487.9497, 267.6683],\n",
       "        ...,\n",
       "        [281.8172, 325.0063, 312.0966,  ..., 342.0196, 349.6511, 120.6902],\n",
       "        [646.3956, 606.4764, 715.6489,  ..., 788.6025, 579.4633, 372.4487],\n",
       "        [416.3609, 396.8837, 326.9426,  ..., 419.4790, 361.2090, 197.6347]],\n",
       "       device='cuda:0', grad_fn=<AddmmBackward0>)"
      ]
     },
     "metadata": {},
     "output_type": "display_data"
    },
    {
     "data": {
      "text/plain": [
       "tensor([[561.6583, 585.2234, 497.1216,  ..., 524.2472, 548.5754, 228.9715],\n",
       "        [612.4251, 641.3274, 543.0790,  ..., 611.3488, 559.7801, 274.0790],\n",
       "        [347.2882, 373.6907, 326.6970,  ..., 359.8246, 286.9135, 156.9279],\n",
       "        ...,\n",
       "        [240.2484, 274.3553, 224.1112,  ..., 230.3916, 191.2387, 121.2720],\n",
       "        [494.3863, 494.8931, 477.5872,  ..., 519.7935, 418.3591, 253.6076],\n",
       "        [376.2886, 413.4744, 336.9339,  ..., 403.7943, 297.1133, 160.8300]],\n",
       "       device='cuda:0', grad_fn=<AddmmBackward0>)"
      ]
     },
     "metadata": {},
     "output_type": "display_data"
    },
    {
     "data": {
      "text/plain": [
       "tensor([[ 241.0023,  255.8232,  268.2628,  ...,  261.9252,  229.8319,\n",
       "          116.1046],\n",
       "        [ 935.6758, 1057.2094,  948.4744,  ...,  959.0804,  782.6535,\n",
       "          436.8065],\n",
       "        [ 778.9666,  843.3382,  770.8338,  ...,  829.6477,  707.8248,\n",
       "          424.5968],\n",
       "        ...,\n",
       "        [1130.6246, 1206.3000, 1144.3801,  ..., 1115.9246, 1024.5029,\n",
       "          528.6183],\n",
       "        [1596.8917, 1697.7760, 1064.9226,  ..., 1602.5989, 1312.9868,\n",
       "          778.3983],\n",
       "        [ 811.1770,  830.4348,  743.2438,  ...,  754.6843,  699.5787,\n",
       "          391.6176]], device='cuda:0', grad_fn=<AddmmBackward0>)"
      ]
     },
     "metadata": {},
     "output_type": "display_data"
    },
    {
     "data": {
      "text/plain": [
       "tensor([[1066.5851, 1041.0251,  975.6443,  ...,  998.8869,  933.6050,\n",
       "          471.0395],\n",
       "        [1173.9800, 1326.4878, 1105.0022,  ..., 1118.7955,  930.5708,\n",
       "          615.8745],\n",
       "        [ 300.1758,  297.3946,  296.7947,  ...,  298.9709,  285.9695,\n",
       "          182.3302],\n",
       "        ...,\n",
       "        [ 454.1763,  483.7563,  455.6956,  ...,  481.7189,  435.1245,\n",
       "          250.5339],\n",
       "        [ 796.3097,  757.2344,  783.8770,  ...,  791.7573,  796.1500,\n",
       "          397.7703],\n",
       "        [ 513.5028,  460.6656,  553.1771,  ...,  566.7818,  658.9192,\n",
       "          268.2319]], device='cuda:0', grad_fn=<AddmmBackward0>)"
      ]
     },
     "metadata": {},
     "output_type": "display_data"
    },
    {
     "data": {
      "text/plain": [
       "tensor([[415.6915, 372.5002, 425.6266,  ..., 436.8848, 440.8804, 292.1654],\n",
       "        [700.2755, 735.4718, 732.2449,  ..., 821.3514, 620.7163, 435.7693],\n",
       "        [590.8005, 623.7902, 511.1056,  ..., 628.6432, 537.2341, 291.9615],\n",
       "        ...,\n",
       "        [785.6895, 794.6993, 806.8801,  ..., 797.5606, 708.2623, 448.1516],\n",
       "        [825.3738, 756.9222, 805.0209,  ..., 906.5474, 906.0662, 413.8489],\n",
       "        [207.5378, 195.5808, 231.4242,  ..., 225.5748, 228.0818, 133.4318]],\n",
       "       device='cuda:0', grad_fn=<AddmmBackward0>)"
      ]
     },
     "metadata": {},
     "output_type": "display_data"
    },
    {
     "data": {
      "text/plain": [
       "tensor([[1140.6228, 1044.6129,  909.9103,  ..., 1017.5974,  913.0643,\n",
       "          528.0814],\n",
       "        [ 524.0639,  530.0895,  523.6799,  ...,  598.3861,  517.4843,\n",
       "          328.0519],\n",
       "        [ 346.1172,  349.5489,  373.5276,  ...,  381.0817,  385.6649,\n",
       "          226.4803],\n",
       "        ...,\n",
       "        [ 283.6222,  266.4275,  342.9281,  ...,  344.4221,  334.0167,\n",
       "          208.0809],\n",
       "        [ 945.2589,  913.6425,  909.5374,  ..., 1055.8574,  946.7760,\n",
       "          578.7673],\n",
       "        [1092.5491, 1164.4335,  993.3929,  ...,  974.9100,  907.1685,\n",
       "          542.0781]], device='cuda:0', grad_fn=<AddmmBackward0>)"
      ]
     },
     "metadata": {},
     "output_type": "display_data"
    },
    {
     "data": {
      "text/plain": [
       "tensor([[1323.1273, 1367.0613, 1095.8887,  ..., 1230.9186, 1159.7786,\n",
       "          637.5573],\n",
       "        [ 761.5889,  771.9286,  780.6501,  ...,  708.6478,  726.4990,\n",
       "          489.6330],\n",
       "        [ 819.4476,  918.4249,  822.6195,  ...,  864.4824,  757.6277,\n",
       "          456.9794],\n",
       "        ...,\n",
       "        [ 853.7969,  960.3502,  800.3832,  ...,  827.7970,  717.1609,\n",
       "          475.0700],\n",
       "        [ 992.7682, 1120.9327,  966.9495,  ...,  995.7045,  908.4104,\n",
       "          594.9305],\n",
       "        [ 506.8278,  510.7871,  429.3722,  ...,  495.7382,  417.6928,\n",
       "          263.7176]], device='cuda:0', grad_fn=<AddmmBackward0>)"
      ]
     },
     "metadata": {},
     "output_type": "display_data"
    },
    {
     "data": {
      "text/plain": [
       "tensor([[1034.0408, 1061.8165,  829.8304,  ..., 1019.7486,  960.0977,\n",
       "          528.8864],\n",
       "        [ 575.9309,  584.8210,  583.3253,  ...,  618.7264,  619.2358,\n",
       "          371.9974],\n",
       "        [1231.0243, 1176.3973, 1064.2423,  ..., 1241.3289,  991.3625,\n",
       "          683.2645],\n",
       "        ...,\n",
       "        [ 468.4387,  479.6888,  457.0236,  ...,  493.2078,  441.6579,\n",
       "          273.8530],\n",
       "        [ 616.4708,  560.2020,  439.8825,  ...,  539.0192,  498.4612,\n",
       "          368.9769],\n",
       "        [1028.0026, 1005.9453,  896.6642,  ..., 1044.5170,  908.5692,\n",
       "          524.7797]], device='cuda:0', grad_fn=<AddmmBackward0>)"
      ]
     },
     "metadata": {},
     "output_type": "display_data"
    },
    {
     "data": {
      "text/plain": [
       "tensor([[ 735.3143,  739.8198,  715.0390,  ...,  819.5538,  769.3089,\n",
       "          466.3896],\n",
       "        [ 649.3616,  680.2208,  615.3023,  ...,  712.0364,  617.2580,\n",
       "          382.5157],\n",
       "        [ 828.4133,  803.6299,  759.7409,  ...,  797.0242,  706.4752,\n",
       "          477.5556],\n",
       "        ...,\n",
       "        [ 619.1785,  669.4885,  630.0616,  ...,  647.2949,  574.0427,\n",
       "          395.1781],\n",
       "        [1006.4822, 1128.4230, 1023.4744,  ...,  966.5511,  891.6346,\n",
       "          579.8492],\n",
       "        [ 901.3251,  794.5650,  892.4641,  ...,  911.9293,  893.8690,\n",
       "          588.1974]], device='cuda:0', grad_fn=<AddmmBackward0>)"
      ]
     },
     "metadata": {},
     "output_type": "display_data"
    },
    {
     "data": {
      "text/plain": [
       "tensor([[1232.9371, 1260.2472, 1273.9885,  ..., 1302.7659, 1241.4424,\n",
       "          858.3532],\n",
       "        [ 379.4024,  411.1713,  377.5914,  ...,  417.8022,  371.0953,\n",
       "          263.3203],\n",
       "        [ 488.2287,  531.2209,  514.4471,  ...,  554.7922,  475.4948,\n",
       "          352.6673],\n",
       "        ...,\n",
       "        [ 831.7903,  838.4590,  783.6830,  ...,  876.0333,  802.7608,\n",
       "          494.5753],\n",
       "        [1621.5250, 1494.8263, 1586.5784,  ..., 1733.0164, 1636.5710,\n",
       "         1043.0945],\n",
       "        [1012.5747,  978.4825,  923.9880,  ...,  976.1142,  887.9092,\n",
       "          579.6352]], device='cuda:0', grad_fn=<AddmmBackward0>)"
      ]
     },
     "metadata": {},
     "output_type": "display_data"
    },
    {
     "data": {
      "text/plain": [
       "tensor([[ 840.9673,  850.2580,  876.2272,  ...,  946.0441,  878.1293,\n",
       "          618.6816],\n",
       "        [ 503.5302,  562.1705,  469.8391,  ...,  535.6783,  495.4226,\n",
       "          312.9271],\n",
       "        [ 393.5316,  403.6993,  358.3581,  ...,  354.5609,  366.0379,\n",
       "          244.7209],\n",
       "        ...,\n",
       "        [ 544.2584,  561.0142,  527.3838,  ...,  552.3686,  515.3090,\n",
       "          359.2805],\n",
       "        [ 724.4896,  716.8556,  546.9462,  ...,  690.0073,  637.1749,\n",
       "          414.1946],\n",
       "        [1057.6494,  972.1017, 1032.4443,  ..., 1112.7097, 1013.1561,\n",
       "          701.0628]], device='cuda:0', grad_fn=<AddmmBackward0>)"
      ]
     },
     "metadata": {},
     "output_type": "display_data"
    },
    {
     "data": {
      "text/plain": [
       "tensor([[1179.8923, 1182.0601, 1142.2960,  ..., 1200.8417, 1000.0688,\n",
       "          774.8834],\n",
       "        [1181.2207, 1171.1890,  968.3516,  ..., 1156.4004, 1068.3185,\n",
       "          695.9218],\n",
       "        [1559.1987, 1553.8877, 1452.4211,  ..., 1500.8027, 1327.5870,\n",
       "          929.9722],\n",
       "        ...,\n",
       "        [ 794.8433,  781.8746,  751.4086,  ...,  705.1097,  660.2540,\n",
       "          485.9109],\n",
       "        [1522.8408, 1507.4880, 1299.0505,  ..., 1486.0067, 1352.8428,\n",
       "          947.3027],\n",
       "        [ 913.5418,  903.4615,  824.6461,  ...,  904.3776,  817.6052,\n",
       "          590.9896]], device='cuda:0', grad_fn=<AddmmBackward0>)"
      ]
     },
     "metadata": {},
     "output_type": "display_data"
    },
    {
     "data": {
      "text/plain": [
       "tensor([[ 933.1904,  896.8890, 1007.8958,  ..., 1011.5073,  915.7496,\n",
       "          729.4651],\n",
       "        [ 898.9335,  878.7663,  918.5626,  ..., 1007.9737,  954.9184,\n",
       "          647.5360],\n",
       "        [ 858.1424,  919.4888,  871.7918,  ...,  883.9880,  803.8926,\n",
       "          598.9128],\n",
       "        ...,\n",
       "        [ 531.5886,  539.0908,  511.5516,  ...,  539.0786,  506.2959,\n",
       "          351.0954],\n",
       "        [1328.4911, 1414.5309, 1288.7360,  ..., 1287.0674, 1248.5060,\n",
       "          922.0863],\n",
       "        [1503.4773, 1479.0251, 1500.4608,  ..., 1511.7896, 1497.1958,\n",
       "         1000.0387]], device='cuda:0', grad_fn=<AddmmBackward0>)"
      ]
     },
     "metadata": {},
     "output_type": "display_data"
    },
    {
     "data": {
      "text/plain": [
       "tensor([[ 882.8796,  847.8691,  954.3263,  ...,  953.5281,  989.9263,\n",
       "          624.6932],\n",
       "        [ 978.5225,  943.6448,  946.6340,  ..., 1058.9553,  922.6686,\n",
       "          668.9594],\n",
       "        [ 760.4999,  772.4719,  720.9277,  ...,  735.9153,  726.5778,\n",
       "          548.3083],\n",
       "        ...,\n",
       "        [1310.5775, 1358.1168, 1364.8198,  ..., 1459.9668, 1326.9310,\n",
       "          969.8348],\n",
       "        [ 999.2491, 1024.1102,  914.2948,  ..., 1007.3066,  940.0251,\n",
       "          633.8553],\n",
       "        [ 672.7912,  624.5237,  646.7119,  ...,  676.0036,  632.1332,\n",
       "          442.2635]], device='cuda:0', grad_fn=<AddmmBackward0>)"
      ]
     },
     "metadata": {},
     "output_type": "display_data"
    },
    {
     "data": {
      "text/plain": [
       "tensor([[1924.2148, 1915.6040, 1847.4899,  ..., 1944.8347, 1911.8894,\n",
       "         1350.2015],\n",
       "        [1272.5703, 1229.7811, 1321.8224,  ..., 1319.4435, 1231.0872,\n",
       "          933.8394],\n",
       "        [ 507.1657,  501.2632,  486.7610,  ...,  515.0478,  478.8548,\n",
       "          364.8225],\n",
       "        ...,\n",
       "        [1758.2094, 1661.0554, 1733.6538,  ..., 1767.8383, 1557.3663,\n",
       "         1305.4707],\n",
       "        [4342.3325, 4065.9250, 3654.1467,  ..., 4143.0688, 3895.9402,\n",
       "         2705.6521],\n",
       "        [ 729.2733,  767.1789,  683.5700,  ...,  771.5615,  762.6013,\n",
       "          516.9761]], device='cuda:0', grad_fn=<AddmmBackward0>)"
      ]
     },
     "metadata": {},
     "output_type": "display_data"
    },
    {
     "data": {
      "text/plain": [
       "tensor([[ 895.9529,  993.9797,  884.0401,  ...,  901.5119,  799.0245,\n",
       "          631.1987],\n",
       "        [2385.5107, 2522.5925, 2342.0359,  ..., 2540.6328, 2255.6064,\n",
       "         1852.3219],\n",
       "        [1109.1831, 1150.4528, 1104.2227,  ..., 1190.1946, 1072.3563,\n",
       "          792.7537],\n",
       "        ...,\n",
       "        [ 566.6076,  548.3979,  657.9976,  ...,  605.8163,  648.2391,\n",
       "          475.1450],\n",
       "        [1060.3496, 1078.6681, 1080.0327,  ..., 1114.4119, 1026.8307,\n",
       "          823.3722],\n",
       "        [ 552.8373,  517.3600,  596.9909,  ...,  579.5908,  556.5623,\n",
       "          429.6347]], device='cuda:0', grad_fn=<AddmmBackward0>)"
      ]
     },
     "metadata": {},
     "output_type": "display_data"
    },
    {
     "data": {
      "text/plain": [
       "tensor([[1983.5665, 1976.8093, 1953.5383,  ..., 1935.3677, 1841.3519,\n",
       "         1489.8873],\n",
       "        [ 621.1475,  595.3094,  616.5336,  ...,  654.3070,  568.1886,\n",
       "          461.9958],\n",
       "        [1997.5016, 1822.0662, 1772.3480,  ..., 1994.5256, 1923.5645,\n",
       "         1460.0793],\n",
       "        ...,\n",
       "        [2086.3965, 2154.0615, 2408.2390,  ..., 2324.4045, 2472.7437,\n",
       "         1867.4011],\n",
       "        [1344.2137, 1378.7551, 1378.2827,  ..., 1404.7336, 1255.7716,\n",
       "         1007.9024],\n",
       "        [1124.0187, 1001.8334, 1175.0557,  ..., 1179.0522, 1264.7698,\n",
       "          939.0352]], device='cuda:0', grad_fn=<AddmmBackward0>)"
      ]
     },
     "metadata": {},
     "output_type": "display_data"
    },
    {
     "data": {
      "text/plain": [
       "tensor([[1316.4165, 1454.3448, 1189.9056,  ..., 1347.4448, 1398.8397,\n",
       "         1017.4101],\n",
       "        [3193.4575, 3333.8794, 3099.1733,  ..., 3175.2637, 2940.5698,\n",
       "         2321.3586],\n",
       "        [ 868.2042,  913.6280,  898.9407,  ...,  910.5729,  781.9361,\n",
       "          686.8193],\n",
       "        ...,\n",
       "        [ 699.6327,  746.4094,  726.9523,  ...,  755.0506,  673.4393,\n",
       "          555.2515],\n",
       "        [1470.8182, 1503.5083, 1415.5306,  ..., 1505.3765, 1365.2998,\n",
       "         1112.7552],\n",
       "        [1083.9366, 1086.9740, 1040.5463,  ..., 1145.1946,  970.7276,\n",
       "          849.1382]], device='cuda:0', grad_fn=<AddmmBackward0>)"
      ]
     },
     "metadata": {},
     "output_type": "display_data"
    },
    {
     "data": {
      "text/plain": [
       "tensor([[1049.1434, 1011.7112,  993.7484,  ..., 1066.8929,  956.8660,\n",
       "          798.4971],\n",
       "        [1917.9292, 1837.0314, 1894.7025,  ..., 1950.7614, 1846.6779,\n",
       "         1472.7158],\n",
       "        [2275.6304, 2279.1162, 2090.0654,  ..., 2290.0044, 2221.0896,\n",
       "         1590.7637],\n",
       "        ...,\n",
       "        [2439.1440, 2374.0171, 2315.6670,  ..., 2362.3123, 2245.0647,\n",
       "         1770.0457],\n",
       "        [1093.1072, 1119.5338, 1062.8778,  ..., 1123.2684, 1049.6941,\n",
       "          849.1528],\n",
       "        [ 735.0957,  733.3940,  733.2390,  ...,  743.9791,  656.1953,\n",
       "          560.1348]], device='cuda:0', grad_fn=<AddmmBackward0>)"
      ]
     },
     "metadata": {},
     "output_type": "display_data"
    },
    {
     "data": {
      "text/plain": [
       "tensor([[2491.1326, 2592.1499, 2142.2971,  ..., 2557.3306, 2218.9873,\n",
       "         1814.7633],\n",
       "        [1355.5503, 1392.9684, 1276.7217,  ..., 1452.6526, 1364.2153,\n",
       "         1048.9800],\n",
       "        [1371.8193, 1438.6719, 1321.8525,  ..., 1439.9668, 1280.1172,\n",
       "         1094.7667],\n",
       "        ...,\n",
       "        [ 849.1075,  857.6293,  807.9064,  ...,  840.9902,  810.8535,\n",
       "          665.5207],\n",
       "        [2001.1132, 1955.5803, 1937.7061,  ..., 2039.5293, 1919.4233,\n",
       "         1459.5497],\n",
       "        [1158.1160, 1112.7675, 1153.8875,  ..., 1201.7158, 1146.2854,\n",
       "          914.6711]], device='cuda:0', grad_fn=<AddmmBackward0>)"
      ]
     },
     "metadata": {},
     "output_type": "display_data"
    },
    {
     "data": {
      "text/plain": [
       "tensor([[1696.4435, 1771.8389, 1654.1661,  ..., 1691.3579, 1624.7220,\n",
       "         1329.2202],\n",
       "        [1160.6622, 1125.4219, 1100.9491,  ..., 1168.2727, 1023.5446,\n",
       "          861.0448],\n",
       "        [1970.6063, 1937.5309, 1951.8179,  ..., 1975.1205, 1813.1017,\n",
       "         1546.1458],\n",
       "        ...,\n",
       "        [2466.0393, 2296.4685, 2424.6113,  ..., 2620.1790, 2397.1167,\n",
       "         1990.6604],\n",
       "        [3106.7678, 3054.0144, 3014.3191,  ..., 3165.8547, 3023.7864,\n",
       "         2363.3098],\n",
       "        [1631.9631, 1636.3210, 1600.7361,  ..., 1694.0267, 1576.3805,\n",
       "         1244.7936]], device='cuda:0', grad_fn=<AddmmBackward0>)"
      ]
     },
     "metadata": {},
     "output_type": "display_data"
    },
    {
     "data": {
      "text/plain": [
       "tensor([[ 642.2501,  722.5334,  640.8278,  ...,  731.8731,  628.8578,\n",
       "          578.7897],\n",
       "        [ 881.4187,  817.0419,  867.2671,  ...,  916.2955,  861.2690,\n",
       "          737.6207],\n",
       "        [1182.1591, 1210.3110, 1138.0759,  ..., 1102.5612, 1094.0962,\n",
       "          901.4601],\n",
       "        ...,\n",
       "        [2055.8735, 1963.2014, 1950.4071,  ..., 2097.5493, 1950.2693,\n",
       "         1614.9072],\n",
       "        [1678.3260, 1677.8522, 1676.1282,  ..., 1714.4103, 1658.6086,\n",
       "         1405.0713],\n",
       "        [ 790.4189,  757.5875,  693.8125,  ...,  631.8759,  689.6101,\n",
       "          534.9166]], device='cuda:0', grad_fn=<AddmmBackward0>)"
      ]
     },
     "metadata": {},
     "output_type": "display_data"
    },
    {
     "data": {
      "text/plain": [
       "tensor([[2288.0920, 2241.7024, 2233.4634,  ..., 2268.7710, 2267.8662,\n",
       "         1892.7220],\n",
       "        [1011.1392, 1036.8920, 1008.9351,  ..., 1056.8591,  976.8944,\n",
       "          841.2595],\n",
       "        [3709.5134, 3592.4072, 3804.0615,  ..., 3943.7188, 3410.6501,\n",
       "         3120.1331],\n",
       "        ...,\n",
       "        [1868.5901, 1832.0137, 1812.1017,  ..., 1871.1575, 1781.5981,\n",
       "         1467.3015],\n",
       "        [1350.1451, 1389.0862, 1348.5941,  ..., 1364.6514, 1276.6133,\n",
       "         1126.8304],\n",
       "        [1283.0092, 1321.2924, 1338.4562,  ..., 1359.0432, 1290.2219,\n",
       "         1111.3376]], device='cuda:0', grad_fn=<AddmmBackward0>)"
      ]
     },
     "metadata": {},
     "output_type": "display_data"
    },
    {
     "data": {
      "text/plain": [
       "tensor([[1876.4863, 1864.1851, 1836.9772,  ..., 1859.2231, 1713.8591,\n",
       "         1539.3212],\n",
       "        [2262.5325, 2449.7654, 2299.5969,  ..., 2351.2671, 2273.6382,\n",
       "         1990.8131],\n",
       "        [2233.6785, 2316.8535, 2241.6138,  ..., 2322.6089, 2252.3860,\n",
       "         1904.3400],\n",
       "        ...,\n",
       "        [1599.2906, 1585.0769, 1578.2948,  ..., 1648.1162, 1604.0189,\n",
       "         1333.1219],\n",
       "        [1082.5150, 1047.1362, 1084.1086,  ..., 1083.5352, 1027.6006,\n",
       "          897.7137],\n",
       "        [1750.4681, 1714.4352, 1750.0782,  ..., 1742.7147, 1677.6057,\n",
       "         1423.5492]], device='cuda:0', grad_fn=<AddmmBackward0>)"
      ]
     },
     "metadata": {},
     "output_type": "display_data"
    },
    {
     "data": {
      "text/plain": [
       "tensor([[1671.8003, 1727.6537, 1732.4249,  ..., 1747.1478, 1689.8314,\n",
       "         1481.4685],\n",
       "        [1260.1412, 1253.1904, 1286.2021,  ..., 1308.3134, 1225.4846,\n",
       "         1057.6832],\n",
       "        [1564.8585, 1540.4519, 1538.4019,  ..., 1557.4207, 1507.5170,\n",
       "         1331.8938],\n",
       "        ...,\n",
       "        [2445.9902, 2445.0957, 2416.8132,  ..., 2480.9353, 2460.6731,\n",
       "         2109.2126],\n",
       "        [ 907.6512,  850.3428,  885.8752,  ...,  855.9227,  922.8705,\n",
       "          760.7346],\n",
       "        [2978.5884, 2839.2161, 3065.3931,  ..., 3102.5820, 2958.9646,\n",
       "         2662.2205]], device='cuda:0', grad_fn=<AddmmBackward0>)"
      ]
     },
     "metadata": {},
     "output_type": "display_data"
    },
    {
     "data": {
      "text/plain": [
       "tensor([[ 720.7234,  720.0671,  690.7916,  ...,  750.5313,  680.1470,\n",
       "          581.9089],\n",
       "        [ 960.3507,  994.7507,  910.3535,  ...,  945.0167,  910.0175,\n",
       "          814.2493],\n",
       "        [1801.9817, 1733.7848, 1814.9385,  ..., 1787.2821, 1885.4299,\n",
       "         1557.7067],\n",
       "        ...,\n",
       "        [1437.7715, 1451.3588, 1417.5300,  ..., 1501.2599, 1432.1224,\n",
       "         1202.7300],\n",
       "        [1809.9202, 1761.3405, 1777.0591,  ..., 1888.2645, 1773.4232,\n",
       "         1576.7991],\n",
       "        [2253.0688, 2213.6958, 2172.4937,  ..., 2255.2778, 2117.6187,\n",
       "         1899.4036]], device='cuda:0', grad_fn=<AddmmBackward0>)"
      ]
     },
     "metadata": {},
     "output_type": "display_data"
    },
    {
     "data": {
      "text/plain": [
       "tensor([[2350.7776, 2373.1252, 2331.1885,  ..., 2314.4070, 2307.4060,\n",
       "         2073.3455],\n",
       "        [1650.0555, 1476.7841, 1559.0930,  ..., 1652.3192, 1661.4338,\n",
       "         1436.6343],\n",
       "        [2776.8115, 2701.8203, 2723.8472,  ..., 2837.9763, 2741.3406,\n",
       "         2461.9531],\n",
       "        ...,\n",
       "        [1043.1017, 1042.6572, 1030.8325,  ..., 1068.5740,  999.9922,\n",
       "          915.4286],\n",
       "        [1858.7935, 1817.9938, 1865.7612,  ..., 1853.1846, 1785.9104,\n",
       "         1628.4160],\n",
       "        [2324.5964, 2207.3083, 2359.9524,  ..., 2402.8459, 2470.9871,\n",
       "         1998.5033]], device='cuda:0', grad_fn=<AddmmBackward0>)"
      ]
     },
     "metadata": {},
     "output_type": "display_data"
    },
    {
     "data": {
      "text/plain": [
       "tensor([[1875.1697, 1924.4313, 1799.8634,  ..., 1828.2421, 1704.7701,\n",
       "         1609.1229],\n",
       "        [2479.3542, 2324.8701, 2377.1748,  ..., 2560.0605, 2393.8142,\n",
       "         2109.0811],\n",
       "        [1368.4543, 1390.5037, 1340.7474,  ..., 1340.0568, 1325.0697,\n",
       "         1221.6344],\n",
       "        ...,\n",
       "        [2099.3196, 2082.4202, 2001.9771,  ..., 2135.4822, 2040.2311,\n",
       "         1806.8409],\n",
       "        [1009.2314,  993.9634,  970.0371,  ..., 1038.5127,  988.4554,\n",
       "          882.7797],\n",
       "        [1735.9431, 1753.2119, 1807.7694,  ..., 1825.0219, 1734.7357,\n",
       "         1598.0521]], device='cuda:0', grad_fn=<AddmmBackward0>)"
      ]
     },
     "metadata": {},
     "output_type": "display_data"
    },
    {
     "data": {
      "text/plain": [
       "tensor([[1868.4791, 1825.0837, 1892.9993,  ..., 1853.8959, 1774.4216,\n",
       "         1655.4930],\n",
       "        [1720.5905, 1798.5803, 1553.1366,  ..., 1694.4703, 1691.9261,\n",
       "         1513.8075],\n",
       "        [ 995.6378,  939.5000, 1002.0980,  ..., 1020.2508, 1052.0480,\n",
       "          918.0099],\n",
       "        ...,\n",
       "        [1965.7006, 1944.5908, 1982.0813,  ..., 1985.9117, 1938.8335,\n",
       "         1838.4916],\n",
       "        [ 742.2156,  754.5472,  659.3452,  ...,  685.9505,  676.7563,\n",
       "          620.4257],\n",
       "        [1500.0785, 1422.5604, 1534.8031,  ..., 1511.4438, 1494.2446,\n",
       "         1399.3234]], device='cuda:0', grad_fn=<AddmmBackward0>)"
      ]
     },
     "metadata": {},
     "output_type": "display_data"
    },
    {
     "data": {
      "text/plain": [
       "tensor([[2635.3345, 2600.2168, 2599.8481,  ..., 2573.9680, 2518.8257,\n",
       "         2385.5737],\n",
       "        [1152.8805, 1155.3463, 1200.1129,  ..., 1150.0892, 1141.0854,\n",
       "         1099.9591],\n",
       "        [2487.3821, 2493.2883, 2415.2158,  ..., 2430.9282, 2510.4966,\n",
       "         2213.6541],\n",
       "        ...,\n",
       "        [ 893.0069,  874.4073,  922.8117,  ...,  933.6891,  926.2254,\n",
       "          839.5372],\n",
       "        [1826.6735, 1752.7567, 1882.3201,  ..., 2037.4211, 2063.9353,\n",
       "         1816.1638],\n",
       "        [1422.0900, 1482.0675, 1449.1191,  ..., 1394.7151, 1378.8136,\n",
       "         1314.0035]], device='cuda:0', grad_fn=<AddmmBackward0>)"
      ]
     },
     "metadata": {},
     "output_type": "display_data"
    },
    {
     "data": {
      "text/plain": [
       "tensor([[1911.6514, 1849.9644, 1760.6130,  ..., 1756.7614, 1701.8425,\n",
       "         1651.3180],\n",
       "        [1925.7384, 1860.3085, 1897.6659,  ..., 1912.5184, 1860.7700,\n",
       "         1708.5488],\n",
       "        [2189.6921, 2149.3022, 2150.0234,  ..., 2157.0435, 2108.5967,\n",
       "         1945.7961],\n",
       "        ...,\n",
       "        [2133.1790, 2136.3298, 2257.5828,  ..., 2254.9727, 2236.4543,\n",
       "         2073.8066],\n",
       "        [1404.8098, 1385.6115, 1275.2930,  ..., 1340.1447, 1318.3843,\n",
       "         1203.2125],\n",
       "        [ 777.3346,  795.7220,  779.6837,  ...,  791.5378,  752.8642,\n",
       "          743.4092]], device='cuda:0', grad_fn=<AddmmBackward0>)"
      ]
     },
     "metadata": {},
     "output_type": "display_data"
    },
    {
     "data": {
      "text/plain": [
       "tensor([[2896.8391, 2795.6509, 2827.6418,  ..., 2881.4553, 2934.0977,\n",
       "         2627.5867],\n",
       "        [2937.1362, 2855.9470, 2906.1995,  ..., 2848.9890, 2820.4758,\n",
       "         2686.9097],\n",
       "        [ 942.1608,  928.0710,  958.1691,  ...,  942.0614, 1009.9285,\n",
       "          934.0102],\n",
       "        ...,\n",
       "        [2750.5798, 2802.8352, 2718.9954,  ..., 2651.9585, 2605.0046,\n",
       "         2626.4441],\n",
       "        [1351.2612, 1368.3704, 1349.7709,  ..., 1362.1526, 1304.4199,\n",
       "         1290.1743],\n",
       "        [2256.1489, 2241.2349, 2162.1909,  ..., 2246.7434, 2203.7217,\n",
       "         2018.1267]], device='cuda:0', grad_fn=<AddmmBackward0>)"
      ]
     },
     "metadata": {},
     "output_type": "display_data"
    },
    {
     "data": {
      "text/plain": [
       "tensor([[1186.0891, 1137.8142, 1175.7343,  ..., 1177.8165, 1121.8978,\n",
       "         1083.7084],\n",
       "        [2638.5811, 2509.0942, 2463.1819,  ..., 2666.2441, 2582.4944,\n",
       "         2434.8518],\n",
       "        [1598.8811, 1632.0564, 1636.0712,  ..., 1549.7739, 1583.1383,\n",
       "         1534.0620],\n",
       "        ...,\n",
       "        [ 993.6073,  943.8373,  989.2925,  ..., 1004.8257, 1007.7832,\n",
       "          939.5219],\n",
       "        [3946.4639, 3948.1555, 3868.6135,  ..., 3750.8574, 3844.5930,\n",
       "         3494.0979],\n",
       "        [1059.3745, 1059.4656, 1126.6875,  ..., 1112.1306, 1081.8101,\n",
       "         1033.7390]], device='cuda:0', grad_fn=<AddmmBackward0>)"
      ]
     },
     "metadata": {},
     "output_type": "display_data"
    },
    {
     "data": {
      "text/plain": [
       "tensor([[1708.5228, 1599.3221, 1790.8958,  ..., 1871.8069, 2089.2090,\n",
       "         1858.9586],\n",
       "        [2072.6360, 2104.5447, 2169.4558,  ..., 2125.7317, 2127.6008,\n",
       "         2038.3154],\n",
       "        [ 703.1840,  737.9591,  719.9700,  ...,  729.4727,  720.3953,\n",
       "          723.8702],\n",
       "        ...,\n",
       "        [1949.0891, 1942.7161, 1866.9697,  ..., 1867.9890, 1827.0433,\n",
       "         1818.6008],\n",
       "        [2486.6179, 2421.6919, 2380.0208,  ..., 2410.9458, 2373.0291,\n",
       "         2285.5896],\n",
       "        [2118.7273, 1945.1946, 2267.4827,  ..., 2235.1765, 2346.9268,\n",
       "         2077.9353]], device='cuda:0', grad_fn=<AddmmBackward0>)"
      ]
     },
     "metadata": {},
     "output_type": "display_data"
    },
    {
     "data": {
      "text/plain": [
       "tensor([[1766.7742, 1781.4279, 1736.9241,  ..., 1772.9176, 1663.4155,\n",
       "         1605.1949],\n",
       "        [2156.6111, 2131.3870, 2129.2324,  ..., 2090.2959, 2043.6942,\n",
       "         2103.0452],\n",
       "        [2583.1665, 2428.3582, 2352.3840,  ..., 2393.1338, 2496.8237,\n",
       "         2383.6499],\n",
       "        ...,\n",
       "        [1028.4415, 1000.8669, 1037.7996,  ...,  995.5943, 1065.1661,\n",
       "         1023.3354],\n",
       "        [1925.2749, 1924.4836, 1851.2589,  ..., 1898.2854, 1913.3333,\n",
       "         1864.8401],\n",
       "        [1667.4945, 1597.0626, 1686.5189,  ..., 1695.4442, 1695.5652,\n",
       "         1576.5771]], device='cuda:0', grad_fn=<AddmmBackward0>)"
      ]
     },
     "metadata": {},
     "output_type": "display_data"
    },
    {
     "data": {
      "text/plain": [
       "tensor([[1722.3633, 1689.5389, 1744.9781,  ..., 1692.0541, 1678.0398,\n",
       "         1679.5320],\n",
       "        [1086.5330, 1089.1034, 1122.9200,  ..., 1085.1957, 1137.8582,\n",
       "         1107.5298],\n",
       "        [2582.2754, 2521.0662, 2475.3623,  ..., 2497.5891, 2461.6367,\n",
       "         2291.3582],\n",
       "        ...,\n",
       "        [ 815.9136,  841.7892,  831.1273,  ...,  801.6695,  799.7142,\n",
       "          817.5239],\n",
       "        [1775.8048, 1777.1469, 1665.2793,  ..., 1684.3828, 1648.9084,\n",
       "         1631.6294],\n",
       "        [1467.7297, 1486.8826, 1439.5468,  ..., 1475.1703, 1471.2321,\n",
       "         1447.2576]], device='cuda:0', grad_fn=<AddmmBackward0>)"
      ]
     },
     "metadata": {},
     "output_type": "display_data"
    },
    {
     "data": {
      "text/plain": [
       "tensor([[ 716.7157,  703.0692,  746.8461,  ...,  744.8708,  702.9496,\n",
       "          741.8594],\n",
       "        [3626.5571, 3695.1101, 3566.5322,  ..., 3375.9836, 3399.0801,\n",
       "         3454.7744],\n",
       "        [1316.3314, 1304.3478, 1445.9042,  ..., 1390.6888, 1397.3032,\n",
       "         1379.7401],\n",
       "        ...,\n",
       "        [1924.4244, 1892.1315, 1878.4647,  ..., 1867.4562, 2097.1672,\n",
       "         1932.7253],\n",
       "        [2266.8081, 2179.5273, 2269.4280,  ..., 2336.7117, 2235.9045,\n",
       "         2177.6841],\n",
       "        [1473.0725, 1464.5013, 1521.2847,  ..., 1481.4056, 1523.6294,\n",
       "         1470.6943]], device='cuda:0', grad_fn=<AddmmBackward0>)"
      ]
     },
     "metadata": {},
     "output_type": "display_data"
    },
    {
     "data": {
      "text/plain": [
       "tensor([[2331.6045, 2351.0828, 2400.8564,  ..., 2354.0527, 2393.7681,\n",
       "         2291.1055],\n",
       "        [1008.3254,  991.6669, 1024.9303,  ...,  995.9391, 1042.4756,\n",
       "         1024.9066],\n",
       "        [2292.0518, 2184.9990, 2170.1816,  ..., 2138.2500, 2122.4688,\n",
       "         2117.6375],\n",
       "        ...,\n",
       "        [1798.1349, 1764.9026, 1773.7639,  ..., 1740.6902, 1724.6594,\n",
       "         1719.3544],\n",
       "        [1291.9583, 1341.3009, 1375.8544,  ..., 1334.0007, 1349.9354,\n",
       "         1362.8044],\n",
       "        [1339.0118, 1324.9224, 1266.5720,  ..., 1212.9338, 1299.9567,\n",
       "         1262.1823]], device='cuda:0', grad_fn=<AddmmBackward0>)"
      ]
     },
     "metadata": {},
     "output_type": "display_data"
    },
    {
     "data": {
      "text/plain": [
       "tensor([[ 974.7125, 1000.8688,  918.6606,  ...,  934.1470,  876.8047,\n",
       "          983.5305],\n",
       "        [1584.4747, 1517.1154, 1621.8223,  ..., 1583.8784, 1654.4691,\n",
       "         1611.0138],\n",
       "        [1849.3494, 1837.6227, 1791.7798,  ..., 1809.3243, 1879.6729,\n",
       "         1806.9686],\n",
       "        ...,\n",
       "        [1568.3390, 1639.5149, 1690.1893,  ..., 1669.1105, 1731.9186,\n",
       "         1721.7765],\n",
       "        [1539.3877, 1496.3364, 1574.5564,  ..., 1557.6217, 1560.2455,\n",
       "         1554.7651],\n",
       "        [2356.2324, 2413.8005, 2444.5129,  ..., 2350.4023, 2470.0071,\n",
       "         2401.9673]], device='cuda:0', grad_fn=<AddmmBackward0>)"
      ]
     },
     "metadata": {},
     "output_type": "display_data"
    },
    {
     "data": {
      "text/plain": [
       "tensor([[1456.1276, 1454.7740, 1458.5349,  ..., 1429.1383, 1454.4556,\n",
       "         1484.1859],\n",
       "        [2151.5073, 2017.2134, 1962.2092,  ..., 2027.0344, 2053.3679,\n",
       "         1987.4338],\n",
       "        [ 665.8051,  700.8737,  694.0173,  ...,  736.4659,  677.9019,\n",
       "          734.1653],\n",
       "        ...,\n",
       "        [1881.4457, 1830.1263, 1844.2101,  ..., 1812.9906, 1791.8059,\n",
       "         1903.9779],\n",
       "        [2095.8884, 2099.7400, 2150.1055,  ..., 2101.2256, 1949.1306,\n",
       "         2036.5485],\n",
       "        [1426.3037, 1408.6174, 1451.3707,  ..., 1392.6139, 1458.9028,\n",
       "         1489.3112]], device='cuda:0', grad_fn=<AddmmBackward0>)"
      ]
     },
     "metadata": {},
     "output_type": "display_data"
    },
    {
     "data": {
      "text/plain": [
       "tensor([[1372.5029, 1288.9628, 1404.5640,  ..., 1370.7576, 1378.6490,\n",
       "         1451.6434],\n",
       "        [1488.1632, 1476.8781, 1547.6469,  ..., 1476.8033, 1558.6799,\n",
       "         1545.5636],\n",
       "        [1726.1147, 1686.4611, 1808.5972,  ..., 1773.6237, 1710.7947,\n",
       "         1835.7689],\n",
       "        ...,\n",
       "        [2032.1406, 2017.8743, 2027.4121,  ..., 2021.7408, 1945.6985,\n",
       "         1999.2875],\n",
       "        [ 425.9585,  427.4300,  446.2870,  ...,  435.3538,  432.1479,\n",
       "          449.9557],\n",
       "        [1657.4596, 1646.4980, 1787.9349,  ..., 1733.3254, 1726.7329,\n",
       "         1754.2332]], device='cuda:0', grad_fn=<AddmmBackward0>)"
      ]
     },
     "metadata": {},
     "output_type": "display_data"
    },
    {
     "data": {
      "text/plain": [
       "tensor([[1207.6115, 1207.1876, 1306.4438,  ..., 1232.5774, 1240.3123,\n",
       "         1311.2343],\n",
       "        [1290.5172, 1316.2051, 1408.0000,  ..., 1355.5532, 1277.3608,\n",
       "         1396.2856],\n",
       "        [2132.3669, 2146.0835, 2199.6143,  ..., 2113.1062, 2178.5559,\n",
       "         2219.8943],\n",
       "        ...,\n",
       "        [3085.8723, 3009.5015, 2800.8940,  ..., 2970.6350, 2773.5874,\n",
       "         2970.9609],\n",
       "        [1899.1523, 1919.7516, 2004.7452,  ..., 1949.7557, 1916.5707,\n",
       "         2029.5420],\n",
       "        [ 870.0443,  842.4416,  889.5982,  ...,  852.6097,  858.8696,\n",
       "          872.2838]], device='cuda:0', grad_fn=<AddmmBackward0>)"
      ]
     },
     "metadata": {},
     "output_type": "display_data"
    },
    {
     "data": {
      "text/plain": [
       "tensor([[1280.2794, 1251.5620, 1273.6002,  ..., 1270.5551, 1264.5614,\n",
       "         1286.5939],\n",
       "        [2084.5862, 2021.8801, 2089.1042,  ..., 2073.9990, 2146.5051,\n",
       "         2285.7620],\n",
       "        [1429.8954, 1423.0475, 1544.9391,  ..., 1444.0612, 1500.8607,\n",
       "         1527.4647],\n",
       "        ...,\n",
       "        [1031.8644, 1019.3284, 1038.8666,  ..., 1040.0281, 1057.5946,\n",
       "         1063.8430],\n",
       "        [2406.5137, 2480.6399, 2475.6616,  ..., 2343.7898, 2491.4038,\n",
       "         2478.1411],\n",
       "        [ 808.0392,  794.9741,  802.4809,  ...,  809.6984,  801.4557,\n",
       "          837.7630]], device='cuda:0', grad_fn=<AddmmBackward0>)"
      ]
     },
     "metadata": {},
     "output_type": "display_data"
    },
    {
     "data": {
      "text/plain": [
       "tensor([[ 589.7974,  591.9966,  569.7733,  ...,  563.3715,  574.7732,\n",
       "          605.0032],\n",
       "        [1952.3470, 1893.3629, 2039.1757,  ..., 1930.3505, 2024.6554,\n",
       "         2067.7029],\n",
       "        [1552.9535, 1455.0936, 1457.4744,  ..., 1456.1383, 1445.6342,\n",
       "         1487.9902],\n",
       "        ...,\n",
       "        [1558.8584, 1504.7130, 1641.5260,  ..., 1509.2201, 1645.3937,\n",
       "         1651.7722],\n",
       "        [3272.7358, 3252.1577, 3300.4683,  ..., 3032.9287, 3217.4229,\n",
       "         3383.7756],\n",
       "        [1405.6135, 1396.4315, 1290.4637,  ..., 1355.3297, 1350.8755,\n",
       "         1319.0073]], device='cuda:0', grad_fn=<AddmmBackward0>)"
      ]
     },
     "metadata": {},
     "output_type": "display_data"
    },
    {
     "data": {
      "text/plain": [
       "tensor([[2192.2322, 2180.8018, 2322.1506,  ..., 2197.1565, 2336.5146,\n",
       "         2340.5728],\n",
       "        [3596.4915, 3647.0188, 3790.6831,  ..., 3501.4841, 3595.5198,\n",
       "         3693.1377],\n",
       "        [2338.4160, 2460.1436, 2186.4431,  ..., 2160.9497, 2312.6506,\n",
       "         2329.1609],\n",
       "        ...,\n",
       "        [3220.3054, 3112.8203, 3372.4297,  ..., 3274.1189, 3186.9773,\n",
       "         3510.2251],\n",
       "        [2036.0977, 2024.7540, 1951.9460,  ..., 1937.8705, 1977.7701,\n",
       "         2073.9102],\n",
       "        [1867.0228, 1740.9396, 1958.7350,  ..., 1964.1799, 1909.4402,\n",
       "         1979.0143]], device='cuda:0', grad_fn=<AddmmBackward0>)"
      ]
     },
     "metadata": {},
     "output_type": "display_data"
    },
    {
     "data": {
      "text/plain": [
       "tensor([[2170.3103, 2252.7012, 2355.7024,  ..., 2322.8037, 2314.7041,\n",
       "         2387.9980],\n",
       "        [1696.0083, 1753.6473, 1823.5963,  ..., 1714.7633, 1716.9452,\n",
       "         1868.3098],\n",
       "        [2255.6724, 2250.9438, 2202.1699,  ..., 2064.2354, 2185.7427,\n",
       "         2320.6990],\n",
       "        ...,\n",
       "        [1973.5830, 2009.2418, 2166.3250,  ..., 1985.1642, 2054.2837,\n",
       "         2139.7324],\n",
       "        [1075.9818, 1043.6643, 1115.2401,  ..., 1105.4623, 1115.3647,\n",
       "         1160.4961],\n",
       "        [ 864.9366,  876.6970,  923.9545,  ...,  857.2426,  971.5869,\n",
       "          992.9659]], device='cuda:0', grad_fn=<AddmmBackward0>)"
      ]
     },
     "metadata": {},
     "output_type": "display_data"
    },
    {
     "data": {
      "text/plain": [
       "tensor([[2451.5718, 2395.6045, 2552.6333,  ..., 2446.4443, 2687.1875,\n",
       "         2625.0483],\n",
       "        [1761.7156, 1762.7656, 1757.6475,  ..., 1722.3199, 1715.8812,\n",
       "         1820.3951],\n",
       "        [1599.9949, 1548.7190, 1741.5103,  ..., 1683.4249, 1877.5099,\n",
       "         1818.1899],\n",
       "        ...,\n",
       "        [1539.3246, 1450.7719, 1537.2354,  ..., 1524.2804, 1654.3083,\n",
       "         1605.0848],\n",
       "        [ 812.0653,  833.6725,  826.8988,  ...,  743.8066,  785.0919,\n",
       "          860.0383],\n",
       "        [1046.4098, 1082.9825, 1060.8335,  ..., 1112.8473, 1121.1838,\n",
       "         1137.9324]], device='cuda:0', grad_fn=<AddmmBackward0>)"
      ]
     },
     "metadata": {},
     "output_type": "display_data"
    },
    {
     "data": {
      "text/plain": [
       "tensor([[1787.6481, 1670.8361, 1924.5939,  ..., 1767.6349, 1948.6797,\n",
       "         1945.5879],\n",
       "        [1227.5616, 1351.0957, 1362.2943,  ..., 1305.4205, 1341.8207,\n",
       "         1379.1862],\n",
       "        [ 889.0494,  935.1517, 1010.2645,  ...,  998.5595,  918.8199,\n",
       "         1029.9012],\n",
       "        ...,\n",
       "        [1964.2686, 1973.6340, 1947.0708,  ..., 1838.3358, 1881.6541,\n",
       "         2013.7928],\n",
       "        [ 895.9396,  909.6911,  951.0463,  ...,  901.3168,  905.2879,\n",
       "          959.1749],\n",
       "        [1145.7789, 1158.2028, 1200.9980,  ..., 1182.4513, 1237.6544,\n",
       "         1224.5579]], device='cuda:0', grad_fn=<AddmmBackward0>)"
      ]
     },
     "metadata": {},
     "output_type": "display_data"
    },
    {
     "data": {
      "text/plain": [
       "tensor([[1171.9769, 1216.7367, 1264.8936,  ..., 1239.9435, 1272.9905,\n",
       "         1267.2291],\n",
       "        [1149.8344, 1129.2218, 1232.4226,  ..., 1171.8944, 1173.7502,\n",
       "         1247.4641],\n",
       "        [ 856.0310,  817.2476,  924.1875,  ...,  884.1963,  896.8720,\n",
       "          942.5974],\n",
       "        ...,\n",
       "        [ 842.1953,  840.6843,  820.4143,  ...,  812.3485,  834.5211,\n",
       "          886.4788],\n",
       "        [1034.6783,  936.0043, 1068.6663,  ..., 1007.1374, 1049.3142,\n",
       "         1101.7590],\n",
       "        [1956.7849, 1996.0641, 2088.8162,  ..., 2012.4393, 1964.3914,\n",
       "         2125.8394]], device='cuda:0', grad_fn=<AddmmBackward0>)"
      ]
     },
     "metadata": {},
     "output_type": "display_data"
    },
    {
     "data": {
      "text/plain": [
       "tensor([[ 913.2574,  867.6171,  932.6861,  ...,  950.1769,  914.3069,\n",
       "         1005.8705],\n",
       "        [2350.3765, 2233.1533, 1860.4851,  ..., 2104.3240, 2260.2661,\n",
       "         2222.2451],\n",
       "        [2183.5864, 1979.7947, 2164.3772,  ..., 1987.6274, 2184.0911,\n",
       "         2310.6169],\n",
       "        ...,\n",
       "        [1021.9906, 1007.6813, 1069.7529,  ..., 1050.4008, 1071.7340,\n",
       "         1108.8870],\n",
       "        [1201.1519, 1177.3936, 1194.3030,  ..., 1190.5051, 1181.2177,\n",
       "         1249.5964],\n",
       "        [1750.9489, 1822.1071, 1683.9061,  ..., 1767.1948, 1779.6151,\n",
       "         1848.8391]], device='cuda:0', grad_fn=<AddmmBackward0>)"
      ]
     },
     "metadata": {},
     "output_type": "display_data"
    },
    {
     "data": {
      "text/plain": [
       "tensor([[2380.5850, 2394.0354, 2518.7695,  ..., 2514.9136, 2402.4778,\n",
       "         2567.5605],\n",
       "        [1232.3544, 1196.4813, 1280.1018,  ..., 1277.9707, 1255.1566,\n",
       "         1314.5442],\n",
       "        [1232.9385, 1226.3373, 1372.5558,  ..., 1325.7048, 1301.6094,\n",
       "         1427.5818],\n",
       "        ...,\n",
       "        [3184.9734, 3231.9006, 3163.7161,  ..., 2987.6699, 3095.5693,\n",
       "         3279.0352],\n",
       "        [1127.3364, 1105.0837, 1088.0909,  ..., 1135.0862, 1156.0780,\n",
       "         1091.0671],\n",
       "        [1412.7869, 1432.6820, 1503.0864,  ..., 1476.9763, 1502.3893,\n",
       "         1633.2944]], device='cuda:0', grad_fn=<AddmmBackward0>)"
      ]
     },
     "metadata": {},
     "output_type": "display_data"
    },
    {
     "data": {
      "text/plain": [
       "tensor([[1871.8490, 1873.6080, 1797.6006,  ..., 1865.4607, 1888.0042,\n",
       "         1948.1335],\n",
       "        [1603.8463, 1598.0402, 1793.9681,  ..., 1677.6835, 1704.2478,\n",
       "         1766.3031],\n",
       "        [1997.7935, 1984.4969, 2097.5549,  ..., 2010.9242, 2110.0457,\n",
       "         2105.2322],\n",
       "        ...,\n",
       "        [1382.9666, 1429.9994, 1506.8345,  ..., 1472.3236, 1423.3433,\n",
       "         1545.8778],\n",
       "        [1725.8782, 1656.2520, 1588.9187,  ..., 1579.0951, 1619.9023,\n",
       "         1686.8541],\n",
       "        [1004.3308,  984.3373, 1072.2523,  ..., 1073.1807, 1084.8088,\n",
       "         1111.3110]], device='cuda:0', grad_fn=<AddmmBackward0>)"
      ]
     },
     "metadata": {},
     "output_type": "display_data"
    },
    {
     "data": {
      "text/plain": [
       "tensor([[1203.5201, 1171.6052, 1211.5763,  ..., 1207.2034, 1199.2924,\n",
       "         1214.2355],\n",
       "        [1054.9404, 1064.0219, 1158.3892,  ..., 1118.5647, 1127.0637,\n",
       "         1186.8738],\n",
       "        [2602.1118, 2714.0442, 2693.9868,  ..., 2540.7812, 2617.8142,\n",
       "         2674.6914],\n",
       "        ...,\n",
       "        [3086.8604, 3290.3440, 3457.4146,  ..., 3265.7922, 3842.5022,\n",
       "         3673.4463],\n",
       "        [1502.7891, 1462.8105, 1579.0444,  ..., 1514.0151, 1488.8376,\n",
       "         1619.3369],\n",
       "        [1687.3512, 1716.6528, 1710.4602,  ..., 1626.4131, 1703.3933,\n",
       "         1698.8824]], device='cuda:0', grad_fn=<AddmmBackward0>)"
      ]
     },
     "metadata": {},
     "output_type": "display_data"
    },
    {
     "data": {
      "text/plain": [
       "tensor([[2169.8079, 2109.4192, 2310.4507,  ..., 2191.2798, 2171.6853,\n",
       "         2350.0906],\n",
       "        [2071.4612, 1976.6127, 2140.6331,  ..., 2087.4834, 2099.4336,\n",
       "         2220.3794],\n",
       "        [ 909.2452,  918.1923,  925.9547,  ...,  967.6027,  972.4083,\n",
       "          953.6118],\n",
       "        ...,\n",
       "        [2150.7585, 2013.1854, 2173.0022,  ..., 2074.8193, 2253.9348,\n",
       "         2328.0234],\n",
       "        [1464.7458, 1437.0516, 1530.0398,  ..., 1489.9663, 1518.4095,\n",
       "         1578.3527],\n",
       "        [ 977.5038,  910.6905, 1073.8755,  ..., 1058.9193, 1087.9260,\n",
       "         1091.6472]], device='cuda:0', grad_fn=<AddmmBackward0>)"
      ]
     },
     "metadata": {},
     "output_type": "display_data"
    },
    {
     "data": {
      "text/plain": [
       "tensor([[1248.3947, 1295.0859, 1286.7834,  ..., 1298.8291, 1251.7485,\n",
       "         1363.0913],\n",
       "        [1042.7225, 1028.5598, 1050.9574,  ..., 1004.7496, 1046.1213,\n",
       "         1055.6884],\n",
       "        [1944.7728, 1767.3513, 1970.7708,  ..., 1932.4130, 2046.4224,\n",
       "         2076.4578],\n",
       "        ...,\n",
       "        [ 995.1235, 1030.7642,  930.1803,  ...,  990.2829, 1028.6245,\n",
       "         1019.7917],\n",
       "        [1519.4313, 1550.2830, 1753.9333,  ..., 1656.3032, 1663.4758,\n",
       "         1752.2706],\n",
       "        [ 773.1352,  750.7524,  819.5150,  ...,  816.8290,  804.5377,\n",
       "          843.5871]], device='cuda:0', grad_fn=<AddmmBackward0>)"
      ]
     },
     "metadata": {},
     "output_type": "display_data"
    },
    {
     "data": {
      "text/plain": [
       "tensor([[4563.6343, 4655.5981, 4600.4297,  ..., 4556.7617, 4115.8784,\n",
       "         4731.7056],\n",
       "        [1269.3545, 1231.0630, 1243.3854,  ..., 1227.9686, 1241.2465,\n",
       "         1313.5754],\n",
       "        [ 750.6570,  722.1345,  752.2355,  ...,  727.3839,  753.2711,\n",
       "          772.0552],\n",
       "        ...,\n",
       "        [1439.1033, 1389.7074, 1499.7847,  ..., 1530.5085, 1475.2848,\n",
       "         1548.0702],\n",
       "        [2129.2554, 2056.4619, 2117.6304,  ..., 2088.0759, 2080.9551,\n",
       "         2124.3457],\n",
       "        [1268.0269, 1244.3584, 1279.8724,  ..., 1278.1777, 1333.6632,\n",
       "         1290.0353]], device='cuda:0', grad_fn=<AddmmBackward0>)"
      ]
     },
     "metadata": {},
     "output_type": "display_data"
    },
    {
     "data": {
      "text/plain": [
       "tensor([[1550.8184, 1586.8250, 1667.5266,  ..., 1672.0477, 1498.1316,\n",
       "         1741.3739],\n",
       "        [1471.4910, 1453.1167, 1620.3701,  ..., 1565.7988, 1538.9736,\n",
       "         1629.0607],\n",
       "        [1328.2600, 1352.8961, 1338.7222,  ..., 1380.2024, 1377.7584,\n",
       "         1411.4733],\n",
       "        ...,\n",
       "        [2073.8560, 2049.3945, 2082.0535,  ..., 2139.6147, 2043.2102,\n",
       "         2174.2283],\n",
       "        [1330.7224, 1264.8668, 1415.1904,  ..., 1351.2456, 1354.3489,\n",
       "         1465.4149],\n",
       "        [1401.8790, 1371.2531, 1404.4723,  ..., 1378.3992, 1324.8480,\n",
       "         1423.7489]], device='cuda:0', grad_fn=<AddmmBackward0>)"
      ]
     },
     "metadata": {},
     "output_type": "display_data"
    },
    {
     "data": {
      "text/plain": [
       "tensor([[2573.1448, 2547.9126, 2676.8594,  ..., 2510.9524, 2579.2043,\n",
       "         2694.6450],\n",
       "        [ 968.8205,  944.9269, 1007.4633,  ...,  978.7098,  941.8130,\n",
       "         1016.3740],\n",
       "        [1389.9249, 1339.5219, 1411.9650,  ..., 1342.4523, 1412.4443,\n",
       "         1447.5702],\n",
       "        ...,\n",
       "        [1334.5571, 1302.4033, 1309.0294,  ..., 1340.2411, 1299.1208,\n",
       "         1369.0513],\n",
       "        [1259.5992, 1284.5684, 1250.5115,  ..., 1269.9659, 1267.1217,\n",
       "         1354.9856],\n",
       "        [1844.1807, 1827.9418, 1903.0972,  ..., 1917.0468, 1837.2574,\n",
       "         1969.7986]], device='cuda:0', grad_fn=<AddmmBackward0>)"
      ]
     },
     "metadata": {},
     "output_type": "display_data"
    },
    {
     "data": {
      "text/plain": [
       "tensor([[ 949.0598,  904.0582,  897.4358,  ...,  888.0985,  858.4089,\n",
       "          933.0443],\n",
       "        [1513.4509, 1553.6969, 1579.9872,  ..., 1703.3270, 1556.9829,\n",
       "         1682.4827],\n",
       "        [1697.1111, 1777.4164, 1819.9125,  ..., 1767.0481, 1708.0356,\n",
       "         1824.9438],\n",
       "        ...,\n",
       "        [2429.6267, 2338.8984, 2431.3230,  ..., 2533.5774, 2526.7629,\n",
       "         2643.9153],\n",
       "        [ 980.9301,  954.2103,  996.0861,  ...,  987.8140,  981.5197,\n",
       "         1043.6238],\n",
       "        [1560.1176, 1444.1808, 1560.0828,  ..., 1557.3905, 1511.0356,\n",
       "         1612.5176]], device='cuda:0', grad_fn=<AddmmBackward0>)"
      ]
     },
     "metadata": {},
     "output_type": "display_data"
    },
    {
     "data": {
      "text/plain": [
       "tensor([[ 987.7516,  986.2678,  957.6036,  ..., 1028.4962,  991.1629,\n",
       "          976.8228],\n",
       "        [1227.1595, 1148.1434, 1359.2968,  ..., 1296.2222, 1361.6669,\n",
       "         1344.8795],\n",
       "        [2001.9012, 2042.5232, 2211.2512,  ..., 2139.2087, 2045.1700,\n",
       "         2160.3889],\n",
       "        ...,\n",
       "        [1838.5269, 1837.9585, 1788.4646,  ..., 1870.8247, 1846.4525,\n",
       "         1816.3616],\n",
       "        [2650.0464, 2616.1345, 2661.8105,  ..., 2617.8462, 2582.0767,\n",
       "         2669.8442],\n",
       "        [ 640.0360,  660.9825,  674.2316,  ...,  670.9100,  656.1058,\n",
       "          713.8253]], device='cuda:0', grad_fn=<AddmmBackward0>)"
      ]
     },
     "metadata": {},
     "output_type": "display_data"
    },
    {
     "data": {
      "text/plain": [
       "tensor([[ 965.9723,  986.3189, 1016.1966,  ..., 1025.7705,  944.4058,\n",
       "         1054.6112],\n",
       "        [1693.1305, 1628.1284, 1677.7167,  ..., 1709.3402, 1695.0570,\n",
       "         1729.5631],\n",
       "        [1291.2786, 1224.6952, 1241.8093,  ..., 1265.5853, 1351.2300,\n",
       "         1344.5955],\n",
       "        ...,\n",
       "        [1808.5581, 1799.4530, 1782.9656,  ..., 1802.1029, 1841.2251,\n",
       "         1824.2479],\n",
       "        [1021.2648,  999.4113, 1065.4017,  ..., 1048.1356, 1033.6917,\n",
       "         1076.9430],\n",
       "        [2067.7441, 1984.6757, 2078.9814,  ..., 2103.9988, 2284.6011,\n",
       "         2173.0425]], device='cuda:0', grad_fn=<AddmmBackward0>)"
      ]
     },
     "metadata": {},
     "output_type": "display_data"
    },
    {
     "data": {
      "text/plain": [
       "tensor([[1996.2159, 1796.4390, 1962.7786,  ..., 1966.1096, 2074.5818,\n",
       "         2084.5103],\n",
       "        [1682.4434, 1651.3632, 1731.6810,  ..., 1691.3972, 1711.7616,\n",
       "         1751.5537],\n",
       "        [ 822.7476,  810.6302,  840.4990,  ...,  850.3632,  824.1629,\n",
       "          862.8343],\n",
       "        ...,\n",
       "        [1347.8333, 1349.1121, 1310.1614,  ..., 1365.2366, 1334.5496,\n",
       "         1410.3381],\n",
       "        [1172.9058, 1199.1680, 1184.7935,  ..., 1224.8702, 1219.7241,\n",
       "         1222.5144],\n",
       "        [2933.4927, 2900.6658, 2848.1934,  ..., 2907.3562, 2874.6946,\n",
       "         2836.3633]], device='cuda:0', grad_fn=<AddmmBackward0>)"
      ]
     },
     "metadata": {},
     "output_type": "display_data"
    },
    {
     "data": {
      "text/plain": [
       "tensor([[2289.7207, 2470.2380, 2322.9102,  ..., 2414.5227, 2308.5830,\n",
       "         2391.4277],\n",
       "        [2198.2852, 2256.3215, 2209.4875,  ..., 2308.4529, 2218.4958,\n",
       "         2339.0249],\n",
       "        [1845.3204, 1715.3055, 1852.9678,  ..., 1879.2054, 1745.4636,\n",
       "         1900.3123],\n",
       "        ...,\n",
       "        [ 755.8103,  714.2513,  722.8059,  ...,  755.7592,  711.6774,\n",
       "          792.1370],\n",
       "        [1101.4385, 1162.8489, 1113.4613,  ..., 1168.6815, 1091.6455,\n",
       "         1173.9326],\n",
       "        [1235.3253, 1263.3352, 1294.4055,  ..., 1329.4081, 1264.9221,\n",
       "         1310.1450]], device='cuda:0', grad_fn=<AddmmBackward0>)"
      ]
     },
     "metadata": {},
     "output_type": "display_data"
    },
    {
     "data": {
      "text/plain": [
       "tensor([[ 826.9856,  836.2742,  939.2062,  ...,  919.6577,  952.8448,\n",
       "          959.0554],\n",
       "        [1636.8364, 1636.5658, 1681.1743,  ..., 1753.6245, 1646.1398,\n",
       "         1737.6938],\n",
       "        [2593.7839, 2409.8389, 2415.6069,  ..., 2547.5222, 2407.3057,\n",
       "         2444.1802],\n",
       "        ...,\n",
       "        [1327.3435, 1267.5358, 1329.4023,  ..., 1370.7462, 1304.9904,\n",
       "         1375.4193],\n",
       "        [2485.8433, 2472.3342, 2400.7502,  ..., 2493.0962, 2467.2468,\n",
       "         2446.8774],\n",
       "        [3268.2893, 3260.6812, 3117.1079,  ..., 3167.0056, 3115.6936,\n",
       "         3058.4692]], device='cuda:0', grad_fn=<AddmmBackward0>)"
      ]
     },
     "metadata": {},
     "output_type": "display_data"
    },
    {
     "data": {
      "text/plain": [
       "tensor([[2619.2559, 2465.4146, 2437.7356,  ..., 2558.2075, 2378.5432,\n",
       "         2493.1416],\n",
       "        [2199.3538, 2183.9160, 2203.2495,  ..., 2234.6221, 2159.0669,\n",
       "         2219.2693],\n",
       "        [1621.8162, 1555.1333, 1713.3945,  ..., 1698.3706, 1651.9387,\n",
       "         1699.6823],\n",
       "        ...,\n",
       "        [1745.4785, 1695.2825, 1808.3572,  ..., 1815.4083, 1807.4246,\n",
       "         1851.8644],\n",
       "        [ 861.2119,  877.1064,  917.3809,  ...,  927.2839,  922.0211,\n",
       "          940.7799],\n",
       "        [2836.0854, 2765.9758, 2718.9070,  ..., 2827.4092, 2682.3457,\n",
       "         2675.6663]], device='cuda:0', grad_fn=<AddmmBackward0>)"
      ]
     },
     "metadata": {},
     "output_type": "display_data"
    },
    {
     "data": {
      "text/plain": [
       "tensor([[3379.8972, 3429.4868, 3076.6794,  ..., 3329.5537, 3109.1987,\n",
       "         3084.4509],\n",
       "        [2132.7363, 2065.8938, 2363.9792,  ..., 2325.9270, 2301.3032,\n",
       "         2453.9297],\n",
       "        [1700.7672, 1724.1587, 1786.3966,  ..., 1812.6781, 1779.8138,\n",
       "         1796.9061],\n",
       "        ...,\n",
       "        [1646.6495, 1613.9850, 1564.6162,  ..., 1549.0452, 1525.5575,\n",
       "         1636.9845],\n",
       "        [1515.7821, 1427.6219, 1535.7115,  ..., 1544.0861, 1641.8477,\n",
       "         1601.1205],\n",
       "        [1754.8643, 1768.6797, 1870.5219,  ..., 1927.5995, 2028.3481,\n",
       "         1984.1904]], device='cuda:0', grad_fn=<AddmmBackward0>)"
      ]
     },
     "metadata": {},
     "output_type": "display_data"
    },
    {
     "data": {
      "text/plain": [
       "tensor([[1531.6641, 1563.8171, 1560.4238,  ..., 1563.7606, 1504.0471,\n",
       "         1575.3561],\n",
       "        [2817.8823, 2788.4363, 2906.7610,  ..., 2878.9822, 2959.3484,\n",
       "         2954.2593],\n",
       "        [ 859.8710,  845.8370,  867.5178,  ...,  877.5773,  858.8102,\n",
       "          870.3709],\n",
       "        ...,\n",
       "        [1809.7566, 1820.9257, 1738.8291,  ..., 1775.7401, 1856.9663,\n",
       "         1846.5320],\n",
       "        [2639.8423, 2660.2134, 2677.9089,  ..., 2768.2126, 2642.8513,\n",
       "         2775.5662],\n",
       "        [2505.4702, 2471.3572, 2610.0212,  ..., 2759.8025, 2704.9094,\n",
       "         2763.4675]], device='cuda:0', grad_fn=<AddmmBackward0>)"
      ]
     },
     "metadata": {},
     "output_type": "display_data"
    },
    {
     "data": {
      "text/plain": [
       "tensor([[ 978.6016, 1093.6163,  981.3431,  ..., 1074.7812,  913.7006,\n",
       "         1047.0673],\n",
       "        [2416.6106, 2344.5945, 2488.1155,  ..., 2503.0723, 2360.8538,\n",
       "         2471.6841],\n",
       "        [1145.0139, 1185.6859, 1178.5748,  ..., 1201.7166, 1167.7212,\n",
       "         1191.8939],\n",
       "        ...,\n",
       "        [2126.6750, 2145.0415, 2117.0493,  ..., 2153.5352, 2167.7710,\n",
       "         2127.4546],\n",
       "        [1651.6570, 1800.7360, 1599.8553,  ..., 1719.1737, 1797.7480,\n",
       "         1811.0448],\n",
       "        [2174.0247, 2252.3801, 2420.3162,  ..., 2348.2905, 2235.6868,\n",
       "         2351.6887]], device='cuda:0', grad_fn=<AddmmBackward0>)"
      ]
     },
     "metadata": {},
     "output_type": "display_data"
    },
    {
     "data": {
      "text/plain": [
       "tensor([[1335.7263, 1232.3909, 1334.1511,  ..., 1350.3894, 1347.4321,\n",
       "         1384.8737],\n",
       "        [2337.3359, 2319.2253, 2303.6335,  ..., 2376.6257, 2381.1074,\n",
       "         2329.7161],\n",
       "        [1287.5035, 1282.9783, 1374.2805,  ..., 1418.7518, 1402.2500,\n",
       "         1385.9371],\n",
       "        ...,\n",
       "        [2534.7607, 2477.6758, 2589.1062,  ..., 2526.6423, 2486.7952,\n",
       "         2502.4817],\n",
       "        [1570.5592, 1444.8016, 1661.3821,  ..., 1570.6713, 1682.0687,\n",
       "         1579.4639],\n",
       "        [ 641.2601,  609.2457,  647.5349,  ...,  633.1400,  609.4951,\n",
       "          638.6981]], device='cuda:0', grad_fn=<AddmmBackward0>)"
      ]
     },
     "metadata": {},
     "output_type": "display_data"
    },
    {
     "data": {
      "text/plain": [
       "tensor([[1133.4220, 1138.2734, 1146.7186,  ..., 1179.1300, 1125.2079,\n",
       "         1161.0171],\n",
       "        [1616.0643, 1594.9690, 1648.5475,  ..., 1718.6268, 1600.1707,\n",
       "         1684.7723],\n",
       "        [2550.2410, 2584.6790, 2633.3735,  ..., 2747.0120, 2624.3472,\n",
       "         2704.3176],\n",
       "        ...,\n",
       "        [1808.3422, 1823.5612, 1826.8693,  ..., 1835.6945, 1861.0017,\n",
       "         1929.6733],\n",
       "        [1841.6967, 1875.0817, 1946.8361,  ..., 1963.7146, 1900.9106,\n",
       "         1937.9025],\n",
       "        [2879.4917, 2768.3721, 2982.9944,  ..., 3049.4731, 2900.7034,\n",
       "         2982.5654]], device='cuda:0', grad_fn=<AddmmBackward0>)"
      ]
     },
     "metadata": {},
     "output_type": "display_data"
    },
    {
     "data": {
      "text/plain": [
       "tensor([[1138.9261, 1084.0449, 1198.4967,  ..., 1209.9794, 1168.4382,\n",
       "         1185.0442],\n",
       "        [1418.4683, 1402.5707, 1373.2621,  ..., 1418.1683, 1382.5605,\n",
       "         1397.6022],\n",
       "        [1704.8809, 1702.6136, 1776.7188,  ..., 1784.7081, 1745.9871,\n",
       "         1821.0212],\n",
       "        ...,\n",
       "        [ 947.5510, 1040.9169,  863.0979,  ...,  928.9927, 1064.8894,\n",
       "          943.7051],\n",
       "        [2399.8669, 2240.0835, 2271.4075,  ..., 2337.4197, 2515.3665,\n",
       "         2313.3521],\n",
       "        [ 869.0285,  850.3311,  867.4004,  ...,  928.6439,  870.9694,\n",
       "          898.6565]], device='cuda:0', grad_fn=<AddmmBackward0>)"
      ]
     },
     "metadata": {},
     "output_type": "display_data"
    },
    {
     "data": {
      "text/plain": [
       "tensor([[2168.8953, 2219.8364, 2251.7307,  ..., 2252.6772, 2292.3191,\n",
       "         2287.6865],\n",
       "        [ 923.1935,  828.1498,  874.0476,  ...,  890.1107,  885.1129,\n",
       "          871.8148],\n",
       "        [1547.3193, 1583.3934, 1556.1957,  ..., 1578.9406, 1505.3628,\n",
       "         1612.0829],\n",
       "        ...,\n",
       "        [1964.3882, 1868.4694, 2021.9849,  ..., 2053.0859, 1986.5769,\n",
       "         1996.5378],\n",
       "        [3008.7737, 2891.4443, 2772.8362,  ..., 2794.8032, 2804.7600,\n",
       "         2778.4163],\n",
       "        [1401.4031, 1396.7731, 1442.4585,  ..., 1446.7570, 1437.7631,\n",
       "         1438.4071]], device='cuda:0', grad_fn=<AddmmBackward0>)"
      ]
     },
     "metadata": {},
     "output_type": "display_data"
    },
    {
     "data": {
      "text/plain": [
       "tensor([[2891.6208, 2853.8689, 3039.6113,  ..., 3009.5056, 3034.6565,\n",
       "         2956.5376],\n",
       "        [1925.0154, 1861.6003, 1951.4296,  ..., 1930.0670, 1968.4097,\n",
       "         1973.3457],\n",
       "        [1317.8534, 1326.5446, 1269.7789,  ..., 1351.6276, 1306.1479,\n",
       "         1340.0879],\n",
       "        ...,\n",
       "        [1685.3063, 1634.8525, 1705.6564,  ..., 1769.4476, 1711.1912,\n",
       "         1753.6738],\n",
       "        [1249.9504, 1229.9559, 1236.6078,  ..., 1290.5831, 1232.4116,\n",
       "         1245.7930],\n",
       "        [1334.6196, 1321.0625, 1334.3485,  ..., 1382.6476, 1387.5787,\n",
       "         1390.8846]], device='cuda:0', grad_fn=<AddmmBackward0>)"
      ]
     },
     "metadata": {},
     "output_type": "display_data"
    },
    {
     "data": {
      "text/plain": [
       "tensor([[1693.5045, 1699.0549, 1685.7517,  ..., 1724.9523, 1609.5200,\n",
       "         1635.3967],\n",
       "        [1459.9597, 1528.5403, 1483.5280,  ..., 1557.2755, 1463.2581,\n",
       "         1506.0585],\n",
       "        [1798.8987, 1807.1320, 1831.0415,  ..., 1849.0238, 1865.9954,\n",
       "         1905.7000],\n",
       "        ...,\n",
       "        [2441.8401, 2364.1384, 2402.0183,  ..., 2451.9668, 2405.6101,\n",
       "         2355.0173],\n",
       "        [2097.5574, 2322.4270, 2053.3315,  ..., 2302.1299, 2424.6882,\n",
       "         2195.0066],\n",
       "        [1397.4958, 1458.9513, 1450.2246,  ..., 1473.1791, 1465.8679,\n",
       "         1527.9534]], device='cuda:0', grad_fn=<AddmmBackward0>)"
      ]
     },
     "metadata": {},
     "output_type": "display_data"
    },
    {
     "data": {
      "text/plain": [
       "tensor([[1528.3364, 1455.3513, 1565.6541,  ..., 1554.8003, 1524.1232,\n",
       "         1582.4132],\n",
       "        [1496.1428, 1382.7822, 1457.9994,  ..., 1525.8920, 1447.3218,\n",
       "         1447.2903],\n",
       "        [1461.2343, 1497.7617, 1507.6263,  ..., 1506.4390, 1496.3762,\n",
       "         1500.5287],\n",
       "        ...,\n",
       "        [1318.3674, 1347.1541, 1350.4633,  ..., 1433.4658, 1435.9246,\n",
       "         1388.2382],\n",
       "        [3102.8176, 3030.4485, 3366.4470,  ..., 3156.8699, 3286.5198,\n",
       "         3216.6689],\n",
       "        [2152.3538, 2210.1748, 2182.7642,  ..., 2194.5686, 2232.4961,\n",
       "         2142.0464]], device='cuda:0', grad_fn=<AddmmBackward0>)"
      ]
     },
     "metadata": {},
     "output_type": "display_data"
    },
    {
     "data": {
      "text/plain": [
       "tensor([[1504.2183, 1502.4774, 1515.5000,  ..., 1569.1779, 1483.9470,\n",
       "         1534.2731],\n",
       "        [1522.9863, 1545.7618, 1453.8386,  ..., 1532.7094, 1481.8965,\n",
       "         1493.0585],\n",
       "        [1581.0956, 1635.8651, 1628.0505,  ..., 1624.4231, 1626.8796,\n",
       "         1669.7316],\n",
       "        ...,\n",
       "        [1778.9460, 1806.8453, 1805.4524,  ..., 1860.3831, 1863.4032,\n",
       "         1786.6310],\n",
       "        [ 823.8481,  869.2075,  828.9874,  ...,  845.0430,  829.7452,\n",
       "          848.0792],\n",
       "        [2788.0635, 2855.1704, 2549.7986,  ..., 2588.5674, 2570.0154,\n",
       "         2584.3401]], device='cuda:0', grad_fn=<AddmmBackward0>)"
      ]
     },
     "metadata": {},
     "output_type": "display_data"
    },
    {
     "data": {
      "text/plain": [
       "tensor([[ 355.4982,  361.4927,  403.2704,  ...,  362.4347,  372.5409,\n",
       "          391.0800],\n",
       "        [ 982.9642,  987.5573, 1008.1666,  ..., 1015.1086, 1000.0945,\n",
       "         1015.0492],\n",
       "        [1611.2363, 1705.6223, 1568.7780,  ..., 1653.4088, 1711.3723,\n",
       "         1618.6281],\n",
       "        ...,\n",
       "        [1940.5082, 1911.3654, 1994.6637,  ..., 2118.8792, 2021.2209,\n",
       "         2051.9829],\n",
       "        [2425.8877, 2337.0425, 2394.8027,  ..., 2447.6204, 2405.7305,\n",
       "         2444.5486],\n",
       "        [ 882.7198,  871.0273,  886.4849,  ...,  912.7026,  915.5587,\n",
       "          930.0059]], device='cuda:0', grad_fn=<AddmmBackward0>)"
      ]
     },
     "metadata": {},
     "output_type": "display_data"
    },
    {
     "data": {
      "text/plain": [
       "tensor([[1229.4835, 1153.7705, 1183.4490,  ..., 1235.1307, 1190.1473,\n",
       "         1232.9065],\n",
       "        [1245.9604, 1233.4919, 1236.0662,  ..., 1280.5577, 1221.6461,\n",
       "         1263.6581],\n",
       "        [1723.8082, 1739.4858, 1713.7726,  ..., 1790.5586, 1699.7528,\n",
       "         1714.7194],\n",
       "        ...,\n",
       "        [1770.6246, 1798.2170, 1869.9355,  ..., 1829.1163, 1784.8546,\n",
       "         1811.4501],\n",
       "        [1985.8922, 2068.1301, 1946.6418,  ..., 1988.7010, 1942.7430,\n",
       "         1929.4940],\n",
       "        [1502.2460, 1524.7812, 1555.4363,  ..., 1611.9161, 1640.9745,\n",
       "         1547.6691]], device='cuda:0', grad_fn=<AddmmBackward0>)"
      ]
     },
     "metadata": {},
     "output_type": "display_data"
    },
    {
     "data": {
      "text/plain": [
       "tensor([[3297.1489, 3161.1973, 3148.1772,  ..., 3280.3535, 3364.2148,\n",
       "         3203.8787],\n",
       "        [1253.7866, 1300.5787, 1239.7640,  ..., 1284.3885, 1256.2131,\n",
       "         1342.7120],\n",
       "        [1902.2079, 1871.4612, 1865.9039,  ..., 1924.6552, 1917.5876,\n",
       "         1901.1215],\n",
       "        ...,\n",
       "        [1689.9917, 1733.9471, 1715.8077,  ..., 1688.9767, 1647.2845,\n",
       "         1656.6569],\n",
       "        [ 793.5933,  806.4832,  830.6680,  ...,  846.6245,  841.8851,\n",
       "          843.4672],\n",
       "        [1042.5648, 1090.5294, 1082.4191,  ..., 1088.2125, 1056.5258,\n",
       "         1103.8822]], device='cuda:0', grad_fn=<AddmmBackward0>)"
      ]
     },
     "metadata": {},
     "output_type": "display_data"
    },
    {
     "data": {
      "text/plain": [
       "tensor([[2842.8945, 2917.7632, 2946.7019,  ..., 2863.1633, 2890.9136,\n",
       "         2831.5896],\n",
       "        [2245.5842, 2315.9910, 2288.1655,  ..., 2265.2551, 2250.8462,\n",
       "         2181.8135],\n",
       "        [2321.9841, 2383.4346, 2298.2607,  ..., 2334.3845, 2290.5708,\n",
       "         2207.9651],\n",
       "        ...,\n",
       "        [1729.0654, 1807.6598, 1808.9012,  ..., 1805.0784, 1937.0322,\n",
       "         1782.2831],\n",
       "        [2555.0442, 2548.3789, 2332.6982,  ..., 2387.6533, 2450.8110,\n",
       "         2307.8079],\n",
       "        [1445.1671, 1408.2833, 1436.4554,  ..., 1446.9077, 1460.7048,\n",
       "         1449.0446]], device='cuda:0', grad_fn=<AddmmBackward0>)"
      ]
     },
     "metadata": {},
     "output_type": "display_data"
    },
    {
     "data": {
      "text/plain": [
       "tensor([[2253.4702, 2254.3818, 2392.4695,  ..., 2218.3386, 2326.5867,\n",
       "         2202.1301],\n",
       "        [1591.6649, 1711.4607, 1468.8394,  ..., 1608.4834, 1601.5554,\n",
       "         1547.2166],\n",
       "        [2314.9106, 2405.0925, 2651.3467,  ..., 2496.1262, 2540.8857,\n",
       "         2551.2256],\n",
       "        ...,\n",
       "        [1570.3156, 1594.7886, 1595.0718,  ..., 1581.2704, 1577.8635,\n",
       "         1602.0223],\n",
       "        [ 511.5134,  524.7386,  525.3817,  ...,  536.7967,  524.4969,\n",
       "          528.3245],\n",
       "        [1590.1180, 1585.1840, 1588.8337,  ..., 1609.1270, 1538.6536,\n",
       "         1552.2690]], device='cuda:0', grad_fn=<AddmmBackward0>)"
      ]
     },
     "metadata": {},
     "output_type": "display_data"
    },
    {
     "data": {
      "text/plain": [
       "tensor([[2317.8530, 2298.9233, 2324.6284,  ..., 2365.8811, 2285.8682,\n",
       "         2344.5686],\n",
       "        [ 988.0324, 1018.4420, 1040.8719,  ..., 1078.4397, 1050.0762,\n",
       "         1019.1456],\n",
       "        [1004.3002, 1045.9531, 1109.1239,  ..., 1068.6577, 1069.2139,\n",
       "         1051.5509],\n",
       "        ...,\n",
       "        [1003.5206, 1027.0642, 1097.0413,  ..., 1038.6744, 1157.4324,\n",
       "         1082.3409],\n",
       "        [ 811.9816,  801.7761,  801.8796,  ...,  824.6297,  806.8769,\n",
       "          791.2057],\n",
       "        [1349.1490, 1320.8124, 1354.5134,  ..., 1306.2422, 1377.7356,\n",
       "         1333.4380]], device='cuda:0', grad_fn=<AddmmBackward0>)"
      ]
     },
     "metadata": {},
     "output_type": "display_data"
    },
    {
     "data": {
      "text/plain": [
       "tensor([[1765.4176, 1759.8121, 1760.8990,  ..., 1752.8300, 1792.7152,\n",
       "         1738.8947],\n",
       "        [1588.6880, 1630.9437, 1591.5216,  ..., 1591.4183, 1558.5187,\n",
       "         1512.9186],\n",
       "        [1264.8967, 1263.3052, 1232.1083,  ..., 1237.3705, 1212.0494,\n",
       "         1198.9061],\n",
       "        ...,\n",
       "        [ 935.4173,  942.5507,  949.7889,  ...,  966.1706,  978.8459,\n",
       "          964.6048],\n",
       "        [1296.9182, 1323.2064, 1291.5143,  ..., 1305.5549, 1290.9404,\n",
       "         1294.9850],\n",
       "        [ 459.7388,  455.4746,  485.6236,  ...,  485.3459,  472.7487,\n",
       "          479.4873]], device='cuda:0', grad_fn=<AddmmBackward0>)"
      ]
     },
     "metadata": {},
     "output_type": "display_data"
    },
    {
     "data": {
      "text/plain": [
       "tensor([[2456.2148, 2461.7620, 2526.2458,  ..., 2471.9854, 2456.9399,\n",
       "         2483.7771],\n",
       "        [1408.3744, 1448.7631, 1416.6611,  ..., 1397.2147, 1445.8154,\n",
       "         1376.2848],\n",
       "        [1646.4769, 1655.6221, 1670.7404,  ..., 1702.0321, 1658.9392,\n",
       "         1619.0850],\n",
       "        ...,\n",
       "        [ 896.6020,  964.6545,  838.2280,  ...,  844.7070,  913.1028,\n",
       "          916.9044],\n",
       "        [1285.5624, 1282.4600, 1289.2875,  ..., 1308.3986, 1315.3386,\n",
       "         1292.2313],\n",
       "        [1860.0564, 1891.6478, 1837.2355,  ..., 1893.4696, 1858.8395,\n",
       "         1859.7804]], device='cuda:0', grad_fn=<AddmmBackward0>)"
      ]
     },
     "metadata": {},
     "output_type": "display_data"
    },
    {
     "data": {
      "text/plain": [
       "tensor([[1103.1212, 1122.6680, 1101.1980,  ..., 1112.2303, 1093.8964,\n",
       "         1081.4858],\n",
       "        [2092.7495, 2074.5173, 2329.1150,  ..., 2213.2751, 2273.5815,\n",
       "         2229.7256],\n",
       "        [1652.0569, 1657.0276, 1615.6707,  ..., 1594.3688, 1599.2131,\n",
       "         1586.7358],\n",
       "        ...,\n",
       "        [1270.4349, 1253.6560, 1223.7876,  ..., 1235.0557, 1217.0469,\n",
       "         1208.0916],\n",
       "        [1844.2760, 1808.5759, 1899.9812,  ..., 1918.8680, 1849.7078,\n",
       "         1875.1639],\n",
       "        [1836.8147, 1938.2155, 1739.7224,  ..., 1752.5819, 1741.9792,\n",
       "         1765.6656]], device='cuda:0', grad_fn=<AddmmBackward0>)"
      ]
     },
     "metadata": {},
     "output_type": "display_data"
    },
    {
     "data": {
      "text/plain": [
       "tensor([[ 703.9941,  676.4559,  700.2498,  ...,  708.4642,  695.4653,\n",
       "          705.7551],\n",
       "        [1349.8169, 1366.7961, 1392.5112,  ..., 1341.6125, 1361.5740,\n",
       "         1349.8844],\n",
       "        [4176.2886, 4208.1440, 4231.3467,  ..., 4187.7417, 4142.4604,\n",
       "         4161.6577],\n",
       "        ...,\n",
       "        [1682.0377, 1715.4750, 1600.1245,  ..., 1660.1151, 1634.4622,\n",
       "         1573.2621],\n",
       "        [ 675.7352,  693.4858,  674.1480,  ...,  673.7770,  680.3796,\n",
       "          664.8688],\n",
       "        [2074.1003, 2125.4263, 1974.4432,  ..., 1998.5386, 2063.6199,\n",
       "         1972.3451]], device='cuda:0', grad_fn=<AddmmBackward0>)"
      ]
     },
     "metadata": {},
     "output_type": "display_data"
    },
    {
     "data": {
      "text/plain": [
       "tensor([[1529.7203, 1602.2722, 1515.9575,  ..., 1559.0245, 1580.1583,\n",
       "         1522.2567],\n",
       "        [3236.7292, 3559.2942, 3447.4072,  ..., 3525.1851, 3286.7568,\n",
       "         3491.9277],\n",
       "        [2459.2224, 2418.3523, 2482.6675,  ..., 2451.6394, 2407.9158,\n",
       "         2406.8857],\n",
       "        ...,\n",
       "        [1595.3782, 1601.5537, 1561.2230,  ..., 1611.0991, 1530.8083,\n",
       "         1588.1296],\n",
       "        [1011.6179,  982.4954, 1060.2721,  ..., 1095.2059, 1169.1351,\n",
       "         1071.1428],\n",
       "        [3930.8127, 3711.1709, 3576.0688,  ..., 3746.9719, 3866.5098,\n",
       "         3549.6660]], device='cuda:0', grad_fn=<AddmmBackward0>)"
      ]
     },
     "metadata": {},
     "output_type": "display_data"
    },
    {
     "data": {
      "text/plain": [
       "tensor([[ 971.7377,  971.3183,  984.5470,  ...,  977.2026,  944.6651,\n",
       "          983.7228],\n",
       "        [1889.0687, 1970.5574, 2000.3754,  ..., 1864.5358, 2003.7985,\n",
       "         1911.0206],\n",
       "        [1456.8497, 1490.1744, 1290.8258,  ..., 1335.8374, 1349.6022,\n",
       "         1373.4001],\n",
       "        ...,\n",
       "        [2246.9285, 2328.9961, 2380.5635,  ..., 2341.0400, 2306.9553,\n",
       "         2271.9622],\n",
       "        [1359.8573, 1346.5192, 1373.1742,  ..., 1384.8054, 1332.9692,\n",
       "         1344.9298],\n",
       "        [1500.9822, 1501.8359, 1568.0385,  ..., 1633.3374, 1560.6606,\n",
       "         1552.9893]], device='cuda:0', grad_fn=<AddmmBackward0>)"
      ]
     },
     "metadata": {},
     "output_type": "display_data"
    },
    {
     "data": {
      "text/plain": [
       "tensor([[1440.6046, 1463.7573, 1455.0193,  ..., 1473.7125, 1440.8121,\n",
       "         1463.3297],\n",
       "        [1613.9484, 1592.9440, 1645.8477,  ..., 1621.6208, 1581.7010,\n",
       "         1592.0625],\n",
       "        [1818.2773, 1735.7117, 1850.7728,  ..., 1804.1732, 1877.8942,\n",
       "         1846.4736],\n",
       "        ...,\n",
       "        [ 700.7885,  733.6149,  752.1452,  ...,  732.1251,  739.1520,\n",
       "          764.0071],\n",
       "        [ 875.2481,  902.0689,  920.9063,  ...,  863.0232,  896.6661,\n",
       "          906.4575],\n",
       "        [1273.7042, 1319.8737, 1313.4241,  ..., 1330.7782, 1286.9849,\n",
       "         1316.8777]], device='cuda:0', grad_fn=<AddmmBackward0>)"
      ]
     },
     "metadata": {},
     "output_type": "display_data"
    },
    {
     "data": {
      "text/plain": [
       "tensor([[2179.3994, 2232.3069, 2249.6597,  ..., 2182.3020, 2169.0884,\n",
       "         2220.9663],\n",
       "        [ 765.5354,  787.1777,  813.8811,  ...,  802.3821,  787.1469,\n",
       "          783.3090],\n",
       "        [1376.1825, 1402.0260, 1368.9803,  ..., 1437.0316, 1372.4836,\n",
       "         1422.0469],\n",
       "        ...,\n",
       "        [ 833.9547,  874.9587,  838.6576,  ...,  856.0186,  814.5326,\n",
       "          845.5978],\n",
       "        [1658.8706, 1770.6036, 1464.6091,  ..., 1595.7346, 1626.6797,\n",
       "         1461.8500],\n",
       "        [1413.7867, 1380.1986, 1470.6038,  ..., 1459.8132, 1442.6653,\n",
       "         1457.2491]], device='cuda:0', grad_fn=<AddmmBackward0>)"
      ]
     },
     "metadata": {},
     "output_type": "display_data"
    },
    {
     "data": {
      "text/plain": [
       "tensor([[1537.2194, 1524.9520, 1611.3828,  ..., 1616.1315, 1595.2391,\n",
       "         1610.6544],\n",
       "        [2045.5356, 1981.3528, 2088.9695,  ..., 2086.3464, 2028.6099,\n",
       "         2021.3463],\n",
       "        [2609.7622, 2776.6455, 2394.6536,  ..., 2270.2312, 2443.7434,\n",
       "         2409.1956],\n",
       "        ...,\n",
       "        [1615.4003, 1688.3499, 1559.0739,  ..., 1562.9315, 1715.4611,\n",
       "         1657.5229],\n",
       "        [1515.5607, 1516.7871, 1594.7990,  ..., 1550.0706, 1600.2150,\n",
       "         1577.6188],\n",
       "        [2697.8425, 2832.8408, 2712.3064,  ..., 2727.3345, 2667.3877,\n",
       "         2670.4001]], device='cuda:0', grad_fn=<AddmmBackward0>)"
      ]
     },
     "metadata": {},
     "output_type": "display_data"
    },
    {
     "data": {
      "text/plain": [
       "tensor([[1945.5789, 2000.5018, 1989.8809,  ..., 2025.3468, 2000.7802,\n",
       "         2023.9766],\n",
       "        [1214.3302, 1181.4226, 1227.6067,  ..., 1209.0714, 1232.0973,\n",
       "         1204.0865],\n",
       "        [1459.4233, 1445.7162, 1463.4839,  ..., 1474.6117, 1461.7960,\n",
       "         1455.2588],\n",
       "        ...,\n",
       "        [1491.7214, 1485.5375, 1490.4811,  ..., 1490.0004, 1432.8903,\n",
       "         1465.0497],\n",
       "        [2770.0413, 2786.7603, 2900.4819,  ..., 2927.1250, 2876.2473,\n",
       "         2884.1875],\n",
       "        [2235.3875, 2288.4475, 2212.8723,  ..., 2297.3320, 2207.0176,\n",
       "         2197.7849]], device='cuda:0', grad_fn=<AddmmBackward0>)"
      ]
     },
     "metadata": {},
     "output_type": "display_data"
    },
    {
     "data": {
      "text/plain": [
       "tensor([[1630.0801, 1607.9016, 1591.4408,  ..., 1618.9159, 1615.7665,\n",
       "         1595.7704],\n",
       "        [2157.3474, 2161.1394, 2149.2114,  ..., 2201.0125, 2192.9482,\n",
       "         2196.7415],\n",
       "        [3582.2476, 3713.0459, 3692.4424,  ..., 3896.0059, 3489.9033,\n",
       "         3666.5762],\n",
       "        ...,\n",
       "        [1849.4602, 1860.2148, 1873.1526,  ..., 1848.8040, 1895.1677,\n",
       "         1849.3739],\n",
       "        [1341.0140, 1369.6790, 1318.0853,  ..., 1344.9685, 1350.5316,\n",
       "         1326.0709],\n",
       "        [1733.1663, 1677.4833, 1794.0717,  ..., 1678.5007, 1857.7877,\n",
       "         1776.2422]], device='cuda:0', grad_fn=<AddmmBackward0>)"
      ]
     },
     "metadata": {},
     "output_type": "display_data"
    },
    {
     "data": {
      "text/plain": [
       "tensor([[1860.2169, 1916.4980, 1852.8685,  ..., 1824.3455, 1922.3907,\n",
       "         1866.6409],\n",
       "        [1099.3436, 1075.3232, 1099.4144,  ..., 1126.4070, 1138.3792,\n",
       "         1121.5129],\n",
       "        [2194.6440, 2314.9878, 2246.8440,  ..., 2230.6514, 2240.7068,\n",
       "         2297.6462],\n",
       "        ...,\n",
       "        [2283.3308, 2237.6626, 2203.5085,  ..., 2248.7346, 2146.0522,\n",
       "         2128.1855],\n",
       "        [ 977.7747, 1016.6641, 1046.2452,  ..., 1038.0990, 1070.3721,\n",
       "         1044.7175],\n",
       "        [2074.6321, 2151.0425, 2259.7939,  ..., 2171.9209, 2209.4785,\n",
       "         2176.2488]], device='cuda:0', grad_fn=<AddmmBackward0>)"
      ]
     },
     "metadata": {},
     "output_type": "display_data"
    },
    {
     "data": {
      "text/plain": [
       "tensor([[ 926.6256,  972.2898,  964.3599,  ...,  959.4391,  948.9958,\n",
       "          975.9262],\n",
       "        [1729.2239, 1718.6395, 1726.3832,  ..., 1655.1266, 1609.5277,\n",
       "         1663.1523],\n",
       "        [1426.4900, 1463.6989, 1386.7953,  ..., 1390.7809, 1320.3430,\n",
       "         1388.9087],\n",
       "        ...,\n",
       "        [4194.9585, 4293.5503, 4114.7261,  ..., 4082.3601, 4045.4636,\n",
       "         4025.6096],\n",
       "        [2239.3066, 2270.0129, 2229.5286,  ..., 2242.6404, 2190.7263,\n",
       "         2206.6511],\n",
       "        [1806.9568, 1809.5718, 1791.3029,  ..., 1799.6144, 1759.3231,\n",
       "         1723.6887]], device='cuda:0', grad_fn=<AddmmBackward0>)"
      ]
     },
     "metadata": {},
     "output_type": "display_data"
    },
    {
     "data": {
      "text/plain": [
       "tensor([[3810.9307, 4007.3950, 4233.9785,  ..., 3983.2261, 4396.1221,\n",
       "         4108.5493],\n",
       "        [1177.1841, 1218.9310, 1176.9720,  ..., 1257.0355, 1369.4901,\n",
       "         1256.4548],\n",
       "        [1095.8157, 1101.9718, 1127.5302,  ..., 1125.9196, 1083.0302,\n",
       "         1115.2686],\n",
       "        ...,\n",
       "        [1462.1475, 1444.5028, 1491.7638,  ..., 1496.7054, 1510.3912,\n",
       "         1487.7458],\n",
       "        [2417.5532, 2497.8875, 2391.7856,  ..., 2442.9177, 2399.3784,\n",
       "         2413.4478],\n",
       "        [1697.4912, 1784.1437, 1875.3617,  ..., 1754.3301, 1938.7458,\n",
       "         1856.5978]], device='cuda:0', grad_fn=<AddmmBackward0>)"
      ]
     },
     "metadata": {},
     "output_type": "display_data"
    },
    {
     "data": {
      "text/plain": [
       "tensor([[1450.2603, 1467.0809, 1421.1561,  ..., 1399.1617, 1387.4507,\n",
       "         1402.1473],\n",
       "        [ 971.1467,  970.7995,  970.3819,  ...,  962.3182,  969.7451,\n",
       "          984.3987],\n",
       "        [1904.6636, 1884.7841, 1950.4456,  ..., 1822.9559, 1923.4669,\n",
       "         1853.4797],\n",
       "        ...,\n",
       "        [2393.1116, 2363.8413, 2321.2224,  ..., 2302.0557, 2436.0007,\n",
       "         2329.9163],\n",
       "        [1100.4363, 1045.8658, 1080.8855,  ..., 1120.0637, 1108.5944,\n",
       "         1117.4623],\n",
       "        [1143.0323, 1136.8223, 1139.4274,  ..., 1146.8492, 1127.4252,\n",
       "         1139.4166]], device='cuda:0', grad_fn=<AddmmBackward0>)"
      ]
     },
     "metadata": {},
     "output_type": "display_data"
    },
    {
     "data": {
      "text/plain": [
       "tensor([[ 853.8709,  863.3115,  878.8297,  ...,  887.3882,  894.7812,\n",
       "          894.8870],\n",
       "        [1866.5199, 1947.7833, 1864.2417,  ..., 1823.6388, 1803.6206,\n",
       "         1810.9009],\n",
       "        [2231.0195, 2256.3538, 2269.5615,  ..., 2295.9836, 2181.8484,\n",
       "         2198.8340],\n",
       "        ...,\n",
       "        [1076.8328, 1122.7144, 1113.7637,  ..., 1158.9822, 1140.2928,\n",
       "         1107.9486],\n",
       "        [2771.0688, 2665.1023, 2680.6006,  ..., 2739.3538, 2749.5088,\n",
       "         2846.1887],\n",
       "        [1221.2664, 1168.2605, 1279.6278,  ..., 1249.1128, 1262.9323,\n",
       "         1266.5283]], device='cuda:0', grad_fn=<AddmmBackward0>)"
      ]
     },
     "metadata": {},
     "output_type": "display_data"
    },
    {
     "data": {
      "text/plain": [
       "tensor([[2645.1030, 2587.0527, 2672.4612,  ..., 2610.8179, 2609.4893,\n",
       "         2688.8879],\n",
       "        [1812.3341, 1777.7992, 1858.8140,  ..., 1804.6943, 1853.3206,\n",
       "         1812.3040],\n",
       "        [1542.2432, 1626.6411, 1461.3939,  ..., 1534.8591, 1466.8770,\n",
       "         1488.4961],\n",
       "        ...,\n",
       "        [1632.7672, 1545.1077, 1747.2637,  ..., 1739.2931, 1658.8386,\n",
       "         1741.4070],\n",
       "        [1378.2106, 1391.8568, 1432.5486,  ..., 1342.7324, 1416.4823,\n",
       "         1432.9756],\n",
       "        [1214.7189, 1212.0388, 1236.1150,  ..., 1235.9049, 1250.3114,\n",
       "         1286.9233]], device='cuda:0', grad_fn=<AddmmBackward0>)"
      ]
     },
     "metadata": {},
     "output_type": "display_data"
    },
    {
     "data": {
      "text/plain": [
       "tensor([[1476.3102, 1415.6870, 1589.0449,  ..., 1539.5419, 1682.9993,\n",
       "         1591.9193],\n",
       "        [1550.8264, 1586.3445, 1604.8185,  ..., 1546.8818, 1544.7646,\n",
       "         1571.9261],\n",
       "        [1649.7639, 1706.4854, 1707.2407,  ..., 1729.0642, 1732.9438,\n",
       "         1722.9186],\n",
       "        ...,\n",
       "        [1507.7277, 1501.6606, 1403.3372,  ..., 1394.9116, 1462.2976,\n",
       "         1441.3325],\n",
       "        [1858.5000, 1920.7374, 1805.4385,  ..., 1866.6134, 1856.6270,\n",
       "         1870.8341],\n",
       "        [1789.7812, 1738.5510, 1688.8895,  ..., 1699.9827, 1778.4073,\n",
       "         1729.4757]], device='cuda:0', grad_fn=<AddmmBackward0>)"
      ]
     },
     "metadata": {},
     "output_type": "display_data"
    },
    {
     "data": {
      "text/plain": [
       "tensor([[1014.6873,  971.3098, 1047.2526,  ..., 1028.2809, 1028.5599,\n",
       "         1043.1672],\n",
       "        [ 919.7336,  925.3484,  932.7866,  ...,  957.8728,  929.1340,\n",
       "          940.0110],\n",
       "        [1709.7549, 1604.0836, 1621.0808,  ..., 1668.2648, 1679.4099,\n",
       "         1691.2479],\n",
       "        ...,\n",
       "        [ 961.7554,  963.6702,  949.3323,  ...,  968.3877,  933.4230,\n",
       "          955.2053],\n",
       "        [1732.8107, 1789.1323, 1742.6737,  ..., 1740.2419, 1719.5553,\n",
       "         1714.8021],\n",
       "        [1343.7439, 1469.4348, 1517.3790,  ..., 1449.9159, 1830.2018,\n",
       "         1551.1771]], device='cuda:0', grad_fn=<AddmmBackward0>)"
      ]
     },
     "metadata": {},
     "output_type": "display_data"
    },
    {
     "data": {
      "text/plain": [
       "tensor([[1911.5475, 1818.4113, 1885.2231,  ..., 1872.4946, 1823.5731,\n",
       "         1823.1678],\n",
       "        [2146.1506, 2173.9783, 2167.5925,  ..., 2144.1094, 2141.4482,\n",
       "         2159.2917],\n",
       "        [4340.0645, 4847.2153, 4519.6064,  ..., 4295.3672, 4315.4478,\n",
       "         4515.6724],\n",
       "        ...,\n",
       "        [1533.7715, 1499.7823, 1511.1479,  ..., 1583.2295, 1542.9034,\n",
       "         1534.7358],\n",
       "        [1303.6079, 1298.7075, 1293.8698,  ..., 1294.3606, 1275.2739,\n",
       "         1314.0840],\n",
       "        [ 959.8311,  944.8818,  972.4995,  ...,  939.5255,  952.2360,\n",
       "          961.4705]], device='cuda:0', grad_fn=<AddmmBackward0>)"
      ]
     },
     "metadata": {},
     "output_type": "display_data"
    },
    {
     "data": {
      "text/plain": [
       "tensor([[1928.5724, 1929.0173, 1747.9553,  ..., 1710.5668, 1809.8188,\n",
       "         1830.6295],\n",
       "        [2234.2151, 2140.2903, 2231.7051,  ..., 2095.1379, 2235.0635,\n",
       "         2276.5217],\n",
       "        [2292.2864, 2341.2627, 2295.9976,  ..., 2247.3679, 2169.3042,\n",
       "         2280.1597],\n",
       "        ...,\n",
       "        [ 894.8015,  874.1311,  878.4878,  ...,  886.0469,  843.7253,\n",
       "          890.1598],\n",
       "        [1246.8361, 1217.3596, 1255.8105,  ..., 1281.0327, 1250.4424,\n",
       "         1269.0343],\n",
       "        [1757.4872, 1732.6276, 1802.0312,  ..., 1768.3346, 1870.9149,\n",
       "         1768.2651]], device='cuda:0', grad_fn=<AddmmBackward0>)"
      ]
     },
     "metadata": {},
     "output_type": "display_data"
    },
    {
     "data": {
      "text/plain": [
       "tensor([[1066.8896, 1080.3804, 1118.1211,  ..., 1099.0463, 1132.3285,\n",
       "         1128.8281],\n",
       "        [2495.5720, 2688.3149, 2661.7219,  ..., 2484.7400, 2403.7205,\n",
       "         2404.5701],\n",
       "        [1222.1438, 1223.7134, 1117.5049,  ..., 1120.2494, 1085.8840,\n",
       "         1114.7465],\n",
       "        ...,\n",
       "        [3062.0449, 3074.9021, 3059.6062,  ..., 3088.6914, 3032.7793,\n",
       "         3005.1594],\n",
       "        [1823.7506, 1857.1672, 1775.9132,  ..., 1843.7347, 1881.9771,\n",
       "         1804.8966],\n",
       "        [1102.3376, 1104.2037, 1110.9631,  ..., 1099.6505, 1135.4218,\n",
       "         1118.1953]], device='cuda:0', grad_fn=<AddmmBackward0>)"
      ]
     },
     "metadata": {},
     "output_type": "display_data"
    },
    {
     "data": {
      "text/plain": [
       "tensor([[ 989.9939, 1022.2382, 1037.1465,  ..., 1011.3455,  989.5777,\n",
       "         1034.7974],\n",
       "        [ 999.3759, 1007.5503,  977.2015,  ...,  993.1862,  992.4570,\n",
       "          975.3652],\n",
       "        [3666.7244, 3737.2776, 3694.8147,  ..., 3588.2844, 4006.6584,\n",
       "         3668.4277],\n",
       "        ...,\n",
       "        [3060.3582, 2935.6328, 2826.3367,  ..., 2970.3894, 2858.6980,\n",
       "         2818.8689],\n",
       "        [1389.0067, 1382.3182, 1481.8477,  ..., 1454.4294, 1456.8649,\n",
       "         1502.0979],\n",
       "        [2351.5349, 2375.9434, 2222.6421,  ..., 2218.9453, 2197.3320,\n",
       "         2222.1948]], device='cuda:0', grad_fn=<AddmmBackward0>)"
      ]
     },
     "metadata": {},
     "output_type": "display_data"
    },
    {
     "data": {
      "text/plain": [
       "tensor([[1914.9320, 1924.4491, 1927.5122,  ..., 1905.3074, 1839.9172,\n",
       "         1851.9655],\n",
       "        [ 910.2258,  900.4767,  942.0935,  ...,  934.0524,  924.2737,\n",
       "          943.0209],\n",
       "        [2331.0903, 2451.1814, 2334.2068,  ..., 2340.3223, 2210.1382,\n",
       "         2376.8640],\n",
       "        ...,\n",
       "        [1495.2157, 1504.5348, 1536.4854,  ..., 1567.4337, 1602.2169,\n",
       "         1542.1241],\n",
       "        [1452.1427, 1464.2686, 1456.5879,  ..., 1458.0282, 1403.8291,\n",
       "         1494.3091],\n",
       "        [2128.9402, 1982.5247, 2125.2852,  ..., 2082.0288, 2049.3408,\n",
       "         2096.9109]], device='cuda:0', grad_fn=<AddmmBackward0>)"
      ]
     },
     "metadata": {},
     "output_type": "display_data"
    },
    {
     "data": {
      "text/plain": [
       "tensor([[2407.2654, 2526.8501, 2190.3691,  ..., 2266.9097, 2316.8352,\n",
       "         2229.1602],\n",
       "        [3346.3450, 3393.1846, 3220.0317,  ..., 3306.5271, 3093.7019,\n",
       "         3027.5671],\n",
       "        [2086.4175, 2038.4294, 2051.3198,  ..., 2058.0764, 2097.5540,\n",
       "         2072.9604],\n",
       "        ...,\n",
       "        [1206.6191, 1166.5903, 1202.1755,  ..., 1237.0288, 1225.8722,\n",
       "         1247.5763],\n",
       "        [1739.1111, 1723.2974, 1747.0886,  ..., 1755.1128, 1711.7013,\n",
       "         1745.1449],\n",
       "        [2288.1367, 2280.5894, 2361.6118,  ..., 2320.4741, 2341.3149,\n",
       "         2349.3650]], device='cuda:0', grad_fn=<AddmmBackward0>)"
      ]
     },
     "metadata": {},
     "output_type": "display_data"
    },
    {
     "data": {
      "text/plain": [
       "tensor([[1491.9355, 1486.2634, 1518.4994,  ..., 1553.5590, 1503.4614,\n",
       "         1531.0081],\n",
       "        [ 936.3268,  893.3599,  951.1969,  ...,  911.7826,  930.0407,\n",
       "          926.5761],\n",
       "        [1792.7892, 1883.1859, 1833.1207,  ..., 1750.1654, 1814.5049,\n",
       "         1842.8572],\n",
       "        ...,\n",
       "        [1916.3912, 1957.6998, 1874.1825,  ..., 1831.5706, 1897.2306,\n",
       "         1843.4167],\n",
       "        [ 965.6817, 1014.3327,  941.7417,  ...,  990.3400,  989.1039,\n",
       "          967.8290],\n",
       "        [2103.6316, 2188.4653, 2182.3354,  ..., 2221.6431, 2194.6931,\n",
       "         2248.1455]], device='cuda:0', grad_fn=<AddmmBackward0>)"
      ]
     },
     "metadata": {},
     "output_type": "display_data"
    },
    {
     "data": {
      "text/plain": [
       "tensor([[1635.6180, 1595.1826, 1708.2128,  ..., 1748.0603, 1725.7920,\n",
       "         1725.6045],\n",
       "        [1357.3978, 1345.3851, 1379.8480,  ..., 1388.9238, 1367.2079,\n",
       "         1356.5630],\n",
       "        [ 756.5099,  814.4309,  733.6935,  ...,  765.5870,  768.6917,\n",
       "          770.6003],\n",
       "        ...,\n",
       "        [3846.3235, 3837.1709, 3981.9890,  ..., 3720.8730, 3886.5332,\n",
       "         3949.1904],\n",
       "        [2061.9504, 2052.4949, 1904.5861,  ..., 1977.3810, 1992.3740,\n",
       "         2021.0437],\n",
       "        [2134.7483, 2117.2683, 2130.9824,  ..., 2119.7749, 2047.2968,\n",
       "         2096.0159]], device='cuda:0', grad_fn=<AddmmBackward0>)"
      ]
     },
     "metadata": {},
     "output_type": "display_data"
    },
    {
     "data": {
      "text/plain": [
       "tensor([[1994.8042, 1955.3551, 1912.0980,  ..., 1944.1282, 1904.2806,\n",
       "         1889.2030],\n",
       "        [3272.4734, 3625.1631, 2928.7319,  ..., 3296.5498, 3195.9297,\n",
       "         3173.3706],\n",
       "        [1198.6873, 1214.5745, 1172.3434,  ..., 1200.1085, 1167.2987,\n",
       "         1198.2825],\n",
       "        ...,\n",
       "        [2125.5884, 2094.5459, 2112.0493,  ..., 2137.3489, 2116.8555,\n",
       "         2103.4331],\n",
       "        [1834.3890, 1838.3212, 1861.5530,  ..., 1859.4109, 1844.1139,\n",
       "         1882.5703],\n",
       "        [1597.5043, 1513.6400, 1483.6610,  ..., 1552.7657, 1461.4607,\n",
       "         1507.4514]], device='cuda:0', grad_fn=<AddmmBackward0>)"
      ]
     },
     "metadata": {},
     "output_type": "display_data"
    },
    {
     "data": {
      "text/plain": [
       "tensor([[1704.7211, 1682.5144, 1572.5492,  ..., 1637.0590, 1606.2062,\n",
       "         1590.2385],\n",
       "        [1609.2590, 1613.5507, 1603.9646,  ..., 1636.3898, 1629.0574,\n",
       "         1662.3645],\n",
       "        [1803.0518, 1673.1874, 1765.2454,  ..., 1707.6105, 1762.3254,\n",
       "         1785.2509],\n",
       "        ...,\n",
       "        [1449.9475, 1511.3811, 1532.7290,  ..., 1496.4778, 1501.3361,\n",
       "         1512.3903],\n",
       "        [1107.8225, 1139.5474, 1138.5701,  ..., 1185.9843, 1261.9454,\n",
       "         1173.3519],\n",
       "        [1613.3153, 1620.5020, 1569.8008,  ..., 1642.8025, 1587.8828,\n",
       "         1557.9039]], device='cuda:0', grad_fn=<AddmmBackward0>)"
      ]
     },
     "metadata": {},
     "output_type": "display_data"
    },
    {
     "data": {
      "text/plain": [
       "tensor([[1293.4362, 1236.8950, 1292.8895,  ..., 1335.8560, 1293.2366,\n",
       "         1333.4734],\n",
       "        [1516.1056, 1476.9078, 1487.7169,  ..., 1500.3721, 1438.5908,\n",
       "         1495.1058],\n",
       "        [1355.7528, 1370.4061, 1375.0211,  ..., 1382.6729, 1311.7614,\n",
       "         1356.7896],\n",
       "        ...,\n",
       "        [ 984.3730,  920.9609, 1039.1766,  ..., 1018.8480, 1056.1036,\n",
       "         1033.5785],\n",
       "        [3801.3210, 3954.5645, 3544.8872,  ..., 3607.7983, 3394.6021,\n",
       "         3370.1484],\n",
       "        [2439.2034, 2314.6584, 2446.1572,  ..., 2384.6804, 2433.4651,\n",
       "         2452.0063]], device='cuda:0', grad_fn=<AddmmBackward0>)"
      ]
     },
     "metadata": {},
     "output_type": "display_data"
    },
    {
     "data": {
      "text/plain": [
       "tensor([[1528.0562, 1524.8083, 1586.3579,  ..., 1577.7108, 1623.9586,\n",
       "         1614.2904],\n",
       "        [1219.1821, 1183.6163, 1209.2444,  ..., 1257.9810, 1192.4773,\n",
       "         1235.7820],\n",
       "        [1996.1924, 1982.4746, 1890.3798,  ..., 1974.8481, 2145.7490,\n",
       "         2053.3933],\n",
       "        ...,\n",
       "        [2358.9370, 2324.1565, 2280.3755,  ..., 2369.2886, 2291.1895,\n",
       "         2223.1846],\n",
       "        [2200.7444, 2125.3987, 2120.3088,  ..., 2002.9103, 2081.2979,\n",
       "         2104.2686],\n",
       "        [2850.9937, 3022.1345, 2236.8848,  ..., 2757.3472, 2800.9084,\n",
       "         2722.5166]], device='cuda:0', grad_fn=<AddmmBackward0>)"
      ]
     },
     "metadata": {},
     "output_type": "display_data"
    },
    {
     "data": {
      "text/plain": [
       "tensor([[1654.1638, 1662.0411, 1710.5219,  ..., 1686.4209, 1630.6987,\n",
       "         1672.1475],\n",
       "        [ 877.4751,  901.9589,  908.8214,  ...,  908.6440,  884.5242,\n",
       "          905.6624],\n",
       "        [1638.2937, 1672.5096, 1650.6083,  ..., 1694.0898, 1694.2653,\n",
       "         1593.9843],\n",
       "        ...,\n",
       "        [1052.4181, 1032.3718, 1054.9960,  ..., 1059.5618, 1065.7812,\n",
       "         1060.6960],\n",
       "        [ 695.5161,  662.7442,  666.3477,  ...,  699.0421,  661.7250,\n",
       "          697.9173],\n",
       "        [3981.0303, 3909.0659, 3610.8748,  ..., 3867.6111, 3795.8450,\n",
       "         3676.7520]], device='cuda:0', grad_fn=<AddmmBackward0>)"
      ]
     },
     "metadata": {},
     "output_type": "display_data"
    },
    {
     "data": {
      "text/plain": [
       "tensor([[1437.5139, 1447.0574, 1439.8951,  ..., 1453.9512, 1419.2694,\n",
       "         1437.8022],\n",
       "        [1978.4965, 1910.3706, 1977.2120,  ..., 1980.4875, 1989.6140,\n",
       "         2008.1403],\n",
       "        [1363.0654, 1418.4854, 1536.3914,  ..., 1584.0243, 1491.2203,\n",
       "         1608.2147],\n",
       "        ...,\n",
       "        [1643.6443, 1582.0336, 1684.7678,  ..., 1674.9034, 1725.6321,\n",
       "         1662.2061],\n",
       "        [2840.3542, 2799.6182, 3001.9106,  ..., 2898.2527, 2814.1973,\n",
       "         2970.9583],\n",
       "        [2263.9236, 2219.6597, 2311.5571,  ..., 2296.1724, 2431.6106,\n",
       "         2364.6697]], device='cuda:0', grad_fn=<AddmmBackward0>)"
      ]
     },
     "metadata": {},
     "output_type": "display_data"
    },
    {
     "data": {
      "text/plain": [
       "tensor([[1289.3505, 1302.9261, 1297.5046,  ..., 1332.3821, 1369.5791,\n",
       "         1350.6194],\n",
       "        [1540.9059, 1533.8789, 1568.8633,  ..., 1540.2653, 1530.0564,\n",
       "         1603.0396],\n",
       "        [1573.6115, 1548.7703, 1689.8778,  ..., 1628.9253, 1658.9391,\n",
       "         1698.9691],\n",
       "        ...,\n",
       "        [2018.3448, 2036.2689, 2055.1348,  ..., 2057.6733, 1965.4904,\n",
       "         2016.7192],\n",
       "        [1857.2529, 1949.7861, 1881.5251,  ..., 1857.0967, 1792.9528,\n",
       "         1885.0881],\n",
       "        [1468.6425, 1404.9844, 1460.6637,  ..., 1527.7057, 1443.8372,\n",
       "         1485.7946]], device='cuda:0', grad_fn=<AddmmBackward0>)"
      ]
     },
     "metadata": {},
     "output_type": "display_data"
    },
    {
     "data": {
      "text/plain": [
       "tensor([[2513.9214, 2551.0410, 2542.2939,  ..., 2545.2009, 2485.5798,\n",
       "         2535.4768],\n",
       "        [1293.9905, 1242.1217, 1308.3530,  ..., 1352.1012, 1322.2990,\n",
       "         1354.3796],\n",
       "        [1110.7410, 1106.5167, 1037.2111,  ..., 1094.3627, 1072.7738,\n",
       "         1072.8898],\n",
       "        ...,\n",
       "        [2219.7297, 2172.5137, 2217.2300,  ..., 2360.1511, 2247.5471,\n",
       "         2281.2278],\n",
       "        [2064.7449, 2053.9363, 2116.7275,  ..., 2165.0312, 2131.8909,\n",
       "         2111.4216],\n",
       "        [3070.5779, 3011.8860, 3131.8364,  ..., 3010.5996, 3135.5784,\n",
       "         3123.9197]], device='cuda:0', grad_fn=<AddmmBackward0>)"
      ]
     },
     "metadata": {},
     "output_type": "display_data"
    },
    {
     "data": {
      "text/plain": [
       "tensor([[2272.2966, 2344.2451, 2340.1902,  ..., 2352.6079, 2242.9541,\n",
       "         2375.1240],\n",
       "        [1520.2611, 1577.1106, 1610.0072,  ..., 1636.1698, 1527.4287,\n",
       "         1606.2545],\n",
       "        [2772.4885, 2770.3271, 2637.9353,  ..., 2722.5476, 2771.5974,\n",
       "         2736.7393],\n",
       "        ...,\n",
       "        [ 974.2578,  971.6848,  988.6712,  ..., 1014.3680,  968.7031,\n",
       "          997.7293],\n",
       "        [1353.3962, 1353.2227, 1364.3712,  ..., 1405.1337, 1321.0516,\n",
       "         1368.1116],\n",
       "        [2184.7651, 2152.5850, 2142.2053,  ..., 2228.9832, 2223.6262,\n",
       "         2176.1133]], device='cuda:0', grad_fn=<AddmmBackward0>)"
      ]
     },
     "metadata": {},
     "output_type": "display_data"
    },
    {
     "data": {
      "text/plain": [
       "tensor([[3008.1018, 2999.2170, 3154.3892,  ..., 3124.5037, 3086.3257,\n",
       "         3107.6643],\n",
       "        [1752.4744, 1734.1083, 1643.2213,  ..., 1728.3020, 1670.9874,\n",
       "         1670.5979],\n",
       "        [2507.2708, 2509.5225, 2454.2136,  ..., 2499.7007, 2469.9272,\n",
       "         2468.9607],\n",
       "        ...,\n",
       "        [1547.9121, 1553.8718, 1676.7948,  ..., 1606.8550, 1704.2021,\n",
       "         1665.6595],\n",
       "        [1712.7563, 1742.3103, 1861.2976,  ..., 1776.9408, 1789.8086,\n",
       "         1772.3954],\n",
       "        [2024.3911, 2069.2002, 2164.2444,  ..., 2008.3177, 2090.3599,\n",
       "         2142.6560]], device='cuda:0', grad_fn=<AddmmBackward0>)"
      ]
     },
     "metadata": {},
     "output_type": "display_data"
    },
    {
     "data": {
      "text/plain": [
       "tensor([[1329.4330, 1268.0938, 1306.7043,  ..., 1315.6007, 1275.2581,\n",
       "         1324.4709],\n",
       "        [1530.0007, 1546.9854, 1539.4038,  ..., 1509.9454, 1557.8059,\n",
       "         1559.9791],\n",
       "        [ 869.1374,  877.2914,  881.6237,  ...,  914.5170,  870.2300,\n",
       "          904.3491],\n",
       "        ...,\n",
       "        [1889.7648, 1958.4668, 1830.5989,  ..., 1910.9657, 1810.8412,\n",
       "         1831.3007],\n",
       "        [2020.4103, 2050.7297, 2035.7258,  ..., 2086.1721, 2065.0264,\n",
       "         2066.0930],\n",
       "        [2517.4529, 2405.3516, 2340.8198,  ..., 2659.9937, 2365.9338,\n",
       "         2558.3665]], device='cuda:0', grad_fn=<AddmmBackward0>)"
      ]
     },
     "metadata": {},
     "output_type": "display_data"
    },
    {
     "data": {
      "text/plain": [
       "tensor([[1257.7134, 1257.2856, 1220.2740,  ..., 1296.8499, 1259.2667,\n",
       "         1224.0924],\n",
       "        [2281.0437, 2287.1201, 2327.5037,  ..., 2232.4426, 2313.1777,\n",
       "         2340.3467],\n",
       "        [ 967.9732,  960.1856,  960.8344,  ...,  968.9066,  966.4243,\n",
       "          977.3902],\n",
       "        ...,\n",
       "        [1484.6471, 1545.2542, 1680.5981,  ..., 1475.9281, 1547.3176,\n",
       "         1647.7299],\n",
       "        [1612.2227, 1603.9121, 1605.0024,  ..., 1610.1700, 1578.3711,\n",
       "         1613.1604],\n",
       "        [2608.0615, 2718.1187, 2738.4038,  ..., 2718.7161, 2637.0652,\n",
       "         2679.6504]], device='cuda:0', grad_fn=<AddmmBackward0>)"
      ]
     },
     "metadata": {},
     "output_type": "display_data"
    },
    {
     "data": {
      "text/plain": [
       "tensor([[1072.5157,  964.1480, 1070.1510,  ..., 1101.7313, 1159.7942,\n",
       "         1129.0935],\n",
       "        [1218.5756, 1209.3453, 1244.5836,  ..., 1281.3850, 1240.4089,\n",
       "         1250.5503],\n",
       "        [1900.2109, 1851.8168, 1946.5833,  ..., 1904.6736, 1910.5144,\n",
       "         1927.4702],\n",
       "        ...,\n",
       "        [1840.5262, 1847.6464, 1828.0863,  ..., 1868.8079, 1830.1786,\n",
       "         1864.8558],\n",
       "        [1376.4095, 1382.4159, 1392.0624,  ..., 1411.1765, 1383.3945,\n",
       "         1431.0006],\n",
       "        [2230.3916, 2281.7639, 2407.6135,  ..., 2311.6714, 2448.7693,\n",
       "         2353.0042]], device='cuda:0', grad_fn=<AddmmBackward0>)"
      ]
     },
     "metadata": {},
     "output_type": "display_data"
    },
    {
     "data": {
      "text/plain": [
       "tensor([[1784.5033, 1779.2249, 1912.3643,  ..., 1864.2968, 1940.8990,\n",
       "         1876.2810],\n",
       "        [2284.3105, 2288.9915, 2194.9976,  ..., 2210.0393, 2220.9353,\n",
       "         2139.7988],\n",
       "        [1416.6779, 1339.5398, 1396.6836,  ..., 1418.8859, 1463.3456,\n",
       "         1416.9130],\n",
       "        ...,\n",
       "        [1256.1340, 1207.3098, 1231.0535,  ..., 1270.8174, 1201.5580,\n",
       "         1244.1611],\n",
       "        [2017.8438, 2003.8237, 2064.4204,  ..., 2040.0554, 2001.3287,\n",
       "         2068.3203],\n",
       "        [1655.4700, 1555.0653, 1694.2089,  ..., 1727.9419, 1733.4365,\n",
       "         1695.8778]], device='cuda:0', grad_fn=<AddmmBackward0>)"
      ]
     },
     "metadata": {},
     "output_type": "display_data"
    },
    {
     "data": {
      "text/plain": [
       "tensor([[1262.5032, 1252.3301, 1247.9003,  ..., 1244.6495, 1210.9965,\n",
       "         1224.5103],\n",
       "        [ 873.2951,  853.8073,  882.9541,  ...,  878.4460,  899.0383,\n",
       "          901.5045],\n",
       "        [3354.6501, 3325.0137, 3416.8938,  ..., 3407.9534, 3353.9119,\n",
       "         3424.4958],\n",
       "        ...,\n",
       "        [1977.0349, 1950.9014, 1968.6622,  ..., 1976.0925, 1929.0785,\n",
       "         1969.7531],\n",
       "        [1401.0222, 1328.1184, 1378.0208,  ..., 1370.5176, 1391.2950,\n",
       "         1340.7949],\n",
       "        [1465.2853, 1434.4344, 1522.1942,  ..., 1546.2711, 1589.0972,\n",
       "         1590.7839]], device='cuda:0', grad_fn=<AddmmBackward0>)"
      ]
     },
     "metadata": {},
     "output_type": "display_data"
    },
    {
     "data": {
      "text/plain": [
       "tensor([[1460.1462, 1450.7465, 1463.6978,  ..., 1439.7914, 1492.9302,\n",
       "         1483.1140],\n",
       "        [1020.8493, 1005.7164, 1058.4479,  ..., 1044.7366, 1014.2626,\n",
       "         1040.4209],\n",
       "        [1721.1545, 1707.7854, 1668.3331,  ..., 1717.4503, 1736.1201,\n",
       "         1725.6305],\n",
       "        ...,\n",
       "        [1273.2725, 1315.0067, 1286.3224,  ..., 1284.8645, 1251.8218,\n",
       "         1298.4995],\n",
       "        [3086.2710, 3242.9407, 2731.8916,  ..., 2821.8975, 3006.5718,\n",
       "         2998.6370],\n",
       "        [1194.9507, 1169.9141, 1199.8585,  ..., 1229.1226, 1240.4058,\n",
       "         1241.1367]], device='cuda:0', grad_fn=<AddmmBackward0>)"
      ]
     },
     "metadata": {},
     "output_type": "display_data"
    },
    {
     "data": {
      "text/plain": [
       "tensor([[1059.5422, 1028.0233, 1042.9016,  ..., 1043.3276, 1030.3120,\n",
       "         1048.7761],\n",
       "        [2222.0579, 2102.6079, 2327.0164,  ..., 2231.0276, 2553.6746,\n",
       "         2332.6272],\n",
       "        [2016.9357, 2020.8649, 2002.9436,  ..., 2053.2708, 2011.4813,\n",
       "         2087.5339],\n",
       "        ...,\n",
       "        [2571.8420, 2664.4314, 2652.3877,  ..., 2629.6565, 2579.8948,\n",
       "         2583.4685],\n",
       "        [ 942.3973,  957.6601,  963.9881,  ...,  967.5729,  952.2974,\n",
       "          962.7003],\n",
       "        [1685.1000, 1589.0519, 1736.6649,  ..., 1763.1678, 1787.2466,\n",
       "         1781.8669]], device='cuda:0', grad_fn=<AddmmBackward0>)"
      ]
     },
     "metadata": {},
     "output_type": "display_data"
    },
    {
     "data": {
      "text/plain": [
       "tensor([[1018.6894, 1032.7268,  929.2033,  ..., 1019.0143,  974.8931,\n",
       "          953.0515],\n",
       "        [1003.0634, 1000.2115, 1016.4403,  ..., 1029.6244, 1007.1157,\n",
       "         1036.2698],\n",
       "        [1402.3054, 1418.1106, 1385.8914,  ..., 1372.2460, 1456.6163,\n",
       "         1444.4465],\n",
       "        ...,\n",
       "        [1911.6973, 1830.7091, 1889.1440,  ..., 1844.8374, 1848.1487,\n",
       "         1864.9323],\n",
       "        [1518.3865, 1511.5962, 1548.1462,  ..., 1570.8080, 1508.2142,\n",
       "         1572.8237],\n",
       "        [3068.2043, 3057.7388, 3120.5774,  ..., 2980.6396, 3024.4009,\n",
       "         3064.3145]], device='cuda:0', grad_fn=<AddmmBackward0>)"
      ]
     },
     "metadata": {},
     "output_type": "display_data"
    },
    {
     "data": {
      "text/plain": [
       "tensor([[1862.8817, 1969.1307, 1773.2787,  ..., 1887.1796, 1954.2003,\n",
       "         1818.5713],\n",
       "        [2100.5161, 2251.4304, 2129.8896,  ..., 2277.0901, 2145.6787,\n",
       "         2198.3845],\n",
       "        [1397.3833, 1447.0723, 1435.5886,  ..., 1494.5157, 1398.7267,\n",
       "         1453.6294],\n",
       "        ...,\n",
       "        [1796.7855, 1796.5695, 1756.5446,  ..., 1783.5742, 1703.1295,\n",
       "         1788.3174],\n",
       "        [1184.9652, 1170.8113, 1244.8331,  ..., 1158.6776, 1295.3851,\n",
       "         1201.2263],\n",
       "        [1521.6953, 1459.0483, 1519.1276,  ..., 1551.8461, 1493.9369,\n",
       "         1542.5607]], device='cuda:0', grad_fn=<AddmmBackward0>)"
      ]
     },
     "metadata": {},
     "output_type": "display_data"
    },
    {
     "data": {
      "text/plain": [
       "tensor([[ 993.0819,  976.4709,  923.8115,  ..., 1007.0344,  905.5280,\n",
       "          975.2248],\n",
       "        [1965.0701, 2002.5787, 1976.5282,  ..., 2012.3486, 1911.7351,\n",
       "         1913.3359],\n",
       "        [1609.3658, 1571.5739, 1623.5934,  ..., 1630.5599, 1633.5312,\n",
       "         1656.2478],\n",
       "        ...,\n",
       "        [2269.8762, 2197.1858, 2223.9294,  ..., 2213.4031, 2201.2854,\n",
       "         2145.7429],\n",
       "        [2126.4951, 2246.5845, 2106.8923,  ..., 2045.5538, 2387.9221,\n",
       "         2323.9297],\n",
       "        [1606.3317, 1594.7277, 1575.6239,  ..., 1583.2228, 1618.2302,\n",
       "         1593.5349]], device='cuda:0', grad_fn=<AddmmBackward0>)"
      ]
     },
     "metadata": {},
     "output_type": "display_data"
    },
    {
     "data": {
      "text/plain": [
       "tensor([[2191.6189, 2142.9629, 2266.6160,  ..., 2245.2085, 2235.3350,\n",
       "         2281.5540],\n",
       "        [2043.7141, 1945.7432, 2048.3127,  ..., 2052.7361, 1979.4163,\n",
       "         2067.2375],\n",
       "        [1841.3165, 1805.8816, 1866.2565,  ..., 1859.8992, 1866.5981,\n",
       "         1845.7076],\n",
       "        ...,\n",
       "        [1644.7123, 1600.2102, 1627.5024,  ..., 1633.7827, 1628.3716,\n",
       "         1626.0424],\n",
       "        [1614.4723, 1668.8265, 1665.6117,  ..., 1653.8519, 1653.2255,\n",
       "         1617.4449],\n",
       "        [ 576.5587,  579.1411,  606.7526,  ...,  595.4019,  591.0637,\n",
       "          589.2382]], device='cuda:0', grad_fn=<AddmmBackward0>)"
      ]
     },
     "metadata": {},
     "output_type": "display_data"
    },
    {
     "data": {
      "text/plain": [
       "tensor([[1280.0720, 1196.9271, 1294.6060,  ..., 1299.0415, 1281.1864,\n",
       "         1305.3915],\n",
       "        [1115.2701, 1085.2605, 1132.9900,  ..., 1108.5649, 1131.0059,\n",
       "         1131.6927],\n",
       "        [2056.7681, 2071.2832, 2149.1360,  ..., 2200.8208, 2161.2041,\n",
       "         2141.7097],\n",
       "        ...,\n",
       "        [2227.4783, 2259.9817, 2307.2339,  ..., 2332.0830, 2400.0049,\n",
       "         2246.1475],\n",
       "        [2040.8815, 2042.1121, 2056.1416,  ..., 2040.1552, 2060.5938,\n",
       "         2092.3296],\n",
       "        [1448.5232, 1370.1307, 1451.1648,  ..., 1506.5266, 1397.6433,\n",
       "         1437.8866]], device='cuda:0', grad_fn=<AddmmBackward0>)"
      ]
     },
     "metadata": {},
     "output_type": "display_data"
    },
    {
     "data": {
      "text/plain": [
       "tensor([[ 847.3934,  838.2100,  838.2618,  ...,  850.2837,  826.2045,\n",
       "          843.1317],\n",
       "        [1485.4603, 1464.2217, 1480.8033,  ..., 1458.4584, 1414.0210,\n",
       "         1465.6544],\n",
       "        [1131.2107, 1168.3127, 1204.8479,  ..., 1143.1613, 1174.3561,\n",
       "         1204.9369],\n",
       "        ...,\n",
       "        [1901.9071, 1810.7274, 1835.3363,  ..., 1894.1261, 1890.9197,\n",
       "         1939.4230],\n",
       "        [1099.6556, 1112.0582, 1111.2198,  ..., 1126.3864, 1057.0599,\n",
       "         1155.9592],\n",
       "        [1763.7933, 1784.9360, 1797.5984,  ..., 1778.4633, 1764.8243,\n",
       "         1773.2266]], device='cuda:0', grad_fn=<AddmmBackward0>)"
      ]
     },
     "metadata": {},
     "output_type": "display_data"
    },
    {
     "data": {
      "text/plain": [
       "tensor([[1317.5811, 1280.4728, 1324.7100,  ..., 1324.6912, 1348.7181,\n",
       "         1324.9844],\n",
       "        [1489.3481, 1490.4464, 1586.6003,  ..., 1550.0594, 1531.0377,\n",
       "         1549.9895],\n",
       "        [1271.6395, 1256.7867, 1260.5237,  ..., 1285.8477, 1247.8171,\n",
       "         1265.7556],\n",
       "        ...,\n",
       "        [1662.7638, 1621.6827, 1660.1583,  ..., 1675.5421, 1604.4790,\n",
       "         1654.2820],\n",
       "        [1753.5762, 1784.6141, 1795.8367,  ..., 1869.0706, 1848.7526,\n",
       "         1807.8428],\n",
       "        [1331.8491, 1332.6580, 1382.8683,  ..., 1359.4166, 1321.8766,\n",
       "         1338.9478]], device='cuda:0', grad_fn=<AddmmBackward0>)"
      ]
     },
     "metadata": {},
     "output_type": "display_data"
    },
    {
     "data": {
      "text/plain": [
       "tensor([[1775.2800, 1661.7712, 1778.4093,  ..., 1720.1105, 1769.6024,\n",
       "         1746.8374],\n",
       "        [2304.4080, 2306.4673, 2300.9248,  ..., 2401.7483, 2256.7271,\n",
       "         2345.2515],\n",
       "        [1453.7493, 1462.1594, 1451.8109,  ..., 1459.7574, 1406.5986,\n",
       "         1441.3035],\n",
       "        ...,\n",
       "        [1824.8846, 1843.6169, 1955.0565,  ..., 1917.9688, 1908.1621,\n",
       "         1858.3584],\n",
       "        [1889.9120, 1915.1381, 1896.2753,  ..., 1878.5396, 1936.4330,\n",
       "         1847.1483],\n",
       "        [1284.8802, 1275.6326, 1243.0657,  ..., 1287.8291, 1235.3685,\n",
       "         1267.2048]], device='cuda:0', grad_fn=<AddmmBackward0>)"
      ]
     },
     "metadata": {},
     "output_type": "display_data"
    },
    {
     "data": {
      "text/plain": [
       "tensor([[1883.7860, 1872.6906, 1891.4346,  ..., 1934.6440, 1851.7638,\n",
       "         1875.2828],\n",
       "        [1399.3391, 1414.1340, 1429.5168,  ..., 1435.4795, 1439.7223,\n",
       "         1427.2040],\n",
       "        [1731.7543, 1714.2225, 1721.7036,  ..., 1768.7566, 1733.4794,\n",
       "         1714.4542],\n",
       "        ...,\n",
       "        [1424.6696, 1451.1771, 1448.8817,  ..., 1465.5073, 1413.7522,\n",
       "         1443.4332],\n",
       "        [ 891.2653,  893.8011,  909.8952,  ...,  910.0319,  878.4609,\n",
       "          883.6090],\n",
       "        [1096.3392, 1058.1874, 1113.9497,  ..., 1099.9753, 1119.9835,\n",
       "         1113.6298]], device='cuda:0', grad_fn=<AddmmBackward0>)"
      ]
     },
     "metadata": {},
     "output_type": "display_data"
    },
    {
     "data": {
      "text/plain": [
       "tensor([[2836.2920, 3016.9429, 2213.7146,  ..., 2540.4407, 2812.8635,\n",
       "         2881.7178],\n",
       "        [2324.2932, 2265.6506, 2260.8774,  ..., 2294.0950, 2307.0667,\n",
       "         2178.3938],\n",
       "        [2717.2224, 2714.2322, 2675.1104,  ..., 2705.3423, 2757.6160,\n",
       "         2670.7537],\n",
       "        ...,\n",
       "        [1987.8893, 1974.6942, 2053.7380,  ..., 2016.3411, 2036.5958,\n",
       "         1953.8185],\n",
       "        [1837.7057, 1793.6476, 1887.4196,  ..., 1920.2572, 1888.1782,\n",
       "         1867.5394],\n",
       "        [1530.7396, 1552.1470, 1567.2142,  ..., 1562.7329, 1618.7440,\n",
       "         1536.0706]], device='cuda:0', grad_fn=<AddmmBackward0>)"
      ]
     },
     "metadata": {},
     "output_type": "display_data"
    },
    {
     "data": {
      "text/plain": [
       "tensor([[2456.4058, 2482.5073, 2518.5039,  ..., 2518.5984, 2521.4155,\n",
       "         2439.9900],\n",
       "        [ 825.1160,  870.5421,  880.5229,  ...,  849.5060,  845.6642,\n",
       "          862.3621],\n",
       "        [1125.1772, 1107.8782, 1157.2719,  ..., 1121.3828, 1148.9843,\n",
       "         1143.0430],\n",
       "        ...,\n",
       "        [1297.2511, 1281.2596, 1280.2329,  ..., 1249.6113, 1269.8311,\n",
       "         1279.8018],\n",
       "        [ 710.8071,  692.6152,  702.8535,  ...,  707.5935,  691.7594,\n",
       "          703.4914],\n",
       "        [2256.6931, 2072.8450, 2190.2502,  ..., 2271.2314, 2173.2996,\n",
       "         2362.7732]], device='cuda:0', grad_fn=<AddmmBackward0>)"
      ]
     },
     "metadata": {},
     "output_type": "display_data"
    },
    {
     "data": {
      "text/plain": [
       "tensor([[1056.2980, 1035.5211, 1082.5645,  ..., 1071.7104, 1053.6282,\n",
       "         1059.0547],\n",
       "        [1046.5573, 1018.6713, 1045.1943,  ..., 1027.5320, 1015.5742,\n",
       "         1041.1647],\n",
       "        [3643.5647, 3369.4746, 4339.7612,  ..., 3647.8425, 4381.9736,\n",
       "         4071.0242],\n",
       "        ...,\n",
       "        [1761.8566, 1838.5826, 1766.9393,  ..., 1836.8700, 1820.1240,\n",
       "         1769.1798],\n",
       "        [2502.9988, 2449.1931, 2540.8447,  ..., 2569.6814, 2560.3027,\n",
       "         2514.5881],\n",
       "        [1150.9186, 1144.7677, 1147.6979,  ..., 1166.3986, 1140.6051,\n",
       "         1150.8170]], device='cuda:0', grad_fn=<AddmmBackward0>)"
      ]
     },
     "metadata": {},
     "output_type": "display_data"
    },
    {
     "data": {
      "text/plain": [
       "tensor([[1232.9269, 1237.8208, 1227.7805,  ..., 1235.7631, 1202.3610,\n",
       "         1226.5905],\n",
       "        [1123.3000, 1091.3201, 1074.2668,  ..., 1120.7905, 1088.4565,\n",
       "         1126.6324],\n",
       "        [1487.4899, 1386.7070, 1479.3274,  ..., 1538.7230, 1530.3779,\n",
       "         1484.1969],\n",
       "        ...,\n",
       "        [1235.0210, 1229.2388, 1223.5352,  ..., 1246.9086, 1216.8751,\n",
       "         1231.8964],\n",
       "        [1825.2410, 1768.2869, 1630.0586,  ..., 1661.2280, 1749.1184,\n",
       "         1770.2710],\n",
       "        [ 929.6316,  901.3412,  919.7553,  ...,  929.9352,  928.4555,\n",
       "          936.9298]], device='cuda:0', grad_fn=<AddmmBackward0>)"
      ]
     },
     "metadata": {},
     "output_type": "display_data"
    },
    {
     "data": {
      "text/plain": [
       "tensor([[1849.8895, 1826.0000, 1801.9296,  ..., 1913.2635, 1811.3898,\n",
       "         1883.1580],\n",
       "        [1899.5432, 1945.6257, 1923.2407,  ..., 1886.9923, 1939.9961,\n",
       "         1922.8798],\n",
       "        [2351.0894, 2350.1692, 2431.3801,  ..., 2417.9517, 2435.2415,\n",
       "         2443.2285],\n",
       "        ...,\n",
       "        [2105.7996, 2137.9092, 2148.1636,  ..., 2149.8208, 2072.7881,\n",
       "         2105.1885],\n",
       "        [1846.3479, 1865.4978, 1856.9412,  ..., 1943.9685, 1755.3378,\n",
       "         1875.2275],\n",
       "        [2460.9954, 2464.0708, 2274.1726,  ..., 2339.4639, 2368.7922,\n",
       "         2226.0222]], device='cuda:0', grad_fn=<AddmmBackward0>)"
      ]
     },
     "metadata": {},
     "output_type": "display_data"
    },
    {
     "data": {
      "text/plain": [
       "tensor([[3056.6440, 3155.0525, 3051.9089,  ..., 3002.5400, 2893.8477,\n",
       "         3016.0291],\n",
       "        [1573.5859, 1580.4236, 1603.1700,  ..., 1557.3772, 1630.1560,\n",
       "         1570.4728],\n",
       "        [2880.4697, 2949.9060, 2828.8975,  ..., 2754.1489, 2852.8452,\n",
       "         2765.2275],\n",
       "        ...,\n",
       "        [2178.7273, 2208.4939, 2273.3306,  ..., 2274.4075, 2220.6519,\n",
       "         2246.4104],\n",
       "        [ 988.6594, 1090.4497, 1104.2557,  ..., 1122.3997, 1166.6503,\n",
       "         1134.9395],\n",
       "        [3549.8972, 3450.5271, 3450.5391,  ..., 3434.1785, 3464.6040,\n",
       "         3451.4517]], device='cuda:0', grad_fn=<AddmmBackward0>)"
      ]
     },
     "metadata": {},
     "output_type": "display_data"
    },
    {
     "data": {
      "text/plain": [
       "tensor([[2001.7191, 1947.3359, 2137.4773,  ..., 2068.4761, 1993.2130,\n",
       "         2015.9646],\n",
       "        [ 812.3303,  818.8812,  809.1873,  ...,  813.9946,  796.5531,\n",
       "          803.3441],\n",
       "        [3059.3755, 2992.1221, 3094.9314,  ..., 3083.5325, 3048.8879,\n",
       "         3063.4370],\n",
       "        ...,\n",
       "        [2100.0457, 2158.8250, 2043.0826,  ..., 2035.1403, 2113.0798,\n",
       "         1957.7561],\n",
       "        [2655.3606, 2775.3020, 2506.3218,  ..., 2575.2727, 2679.7043,\n",
       "         2538.6279],\n",
       "        [3661.1565, 3785.3611, 3610.5852,  ..., 3724.8645, 3631.2158,\n",
       "         3488.6101]], device='cuda:0', grad_fn=<AddmmBackward0>)"
      ]
     },
     "metadata": {},
     "output_type": "display_data"
    },
    {
     "data": {
      "text/plain": [
       "tensor([[2219.5959, 2258.0569, 1839.4408,  ..., 1910.8175, 2039.6473,\n",
       "         2071.3508],\n",
       "        [1736.2104, 1757.8195, 1744.6138,  ..., 1746.3845, 1780.7186,\n",
       "         1719.3600],\n",
       "        [2875.7910, 2919.5142, 2928.3489,  ..., 2946.1284, 2904.3308,\n",
       "         2885.7312],\n",
       "        ...,\n",
       "        [ 961.7576,  925.9579,  978.2704,  ...,  963.3130,  942.8426,\n",
       "          990.4717],\n",
       "        [ 610.4793,  603.7458,  613.3906,  ...,  634.4568,  623.7083,\n",
       "          629.4075],\n",
       "        [1412.0068, 1401.6155, 1378.7677,  ..., 1410.2140, 1392.6504,\n",
       "         1377.7938]], device='cuda:0', grad_fn=<AddmmBackward0>)"
      ]
     },
     "metadata": {},
     "output_type": "display_data"
    },
    {
     "data": {
      "text/plain": [
       "tensor([[2011.3254, 1992.6951, 2135.4575,  ..., 2077.4585, 2213.0835,\n",
       "         2236.7302],\n",
       "        [1564.6902, 1591.7555, 1578.2079,  ..., 1549.6147, 1540.1182,\n",
       "         1601.4069],\n",
       "        [1430.9443, 1395.7993, 1420.4868,  ..., 1420.7384, 1419.2495,\n",
       "         1423.0397],\n",
       "        ...,\n",
       "        [2451.9438, 2387.2368, 2402.1355,  ..., 2464.4009, 2377.6614,\n",
       "         2410.4492],\n",
       "        [2096.1665, 2069.8506, 2084.0247,  ..., 2044.7112, 2057.4421,\n",
       "         2003.1425],\n",
       "        [1522.0815, 1526.1716, 1587.8571,  ..., 1570.8303, 1576.8889,\n",
       "         1549.2379]], device='cuda:0', grad_fn=<AddmmBackward0>)"
      ]
     },
     "metadata": {},
     "output_type": "display_data"
    },
    {
     "data": {
      "text/plain": [
       "tensor([[2510.9004, 2548.2761, 2553.6648,  ..., 2559.3816, 2549.4924,\n",
       "         2563.3955],\n",
       "        [2078.1077, 2095.5693, 2083.3872,  ..., 1973.4315, 2101.0234,\n",
       "         2039.5265],\n",
       "        [3178.1157, 3221.3313, 3164.7988,  ..., 3073.2637, 3062.5088,\n",
       "         3139.4353],\n",
       "        ...,\n",
       "        [2090.9082, 2069.3042, 2089.3782,  ..., 2045.2980, 2101.3789,\n",
       "         2077.0256],\n",
       "        [3190.3369, 3198.8892, 3173.6992,  ..., 3085.2610, 3330.4971,\n",
       "         3152.2393],\n",
       "        [1331.4471, 1372.8323, 1433.3315,  ..., 1399.1002, 1415.4048,\n",
       "         1421.8993]], device='cuda:0', grad_fn=<AddmmBackward0>)"
      ]
     },
     "metadata": {},
     "output_type": "display_data"
    },
    {
     "data": {
      "text/plain": [
       "tensor([[ 902.3480,  939.3619,  805.2874,  ...,  855.3884,  874.6610,\n",
       "          815.2137],\n",
       "        [1800.8322, 1820.0671, 1860.2445,  ..., 1851.4124, 1842.5338,\n",
       "         1844.3517],\n",
       "        [2277.9653, 2088.9019, 2303.9312,  ..., 2357.9136, 2264.8845,\n",
       "         2288.8582],\n",
       "        ...,\n",
       "        [2788.3223, 2995.0037, 2832.0396,  ..., 2768.6650, 2774.0303,\n",
       "         2854.9507],\n",
       "        [1081.9637, 1051.6975, 1054.5168,  ..., 1075.5166, 1073.8877,\n",
       "         1083.1870],\n",
       "        [1886.6973, 1817.0835, 1673.7271,  ..., 1799.2162, 1732.8265,\n",
       "         1677.2551]], device='cuda:0', grad_fn=<AddmmBackward0>)"
      ]
     },
     "metadata": {},
     "output_type": "display_data"
    },
    {
     "data": {
      "text/plain": [
       "tensor([[2610.4849, 2603.8396, 2684.7246,  ..., 2667.6238, 2796.0642,\n",
       "         2677.6118],\n",
       "        [1348.5272, 1352.7233, 1338.0621,  ..., 1321.1082, 1296.3204,\n",
       "         1330.2412],\n",
       "        [1316.3018, 1277.0845, 1332.6692,  ..., 1315.9736, 1306.4419,\n",
       "         1343.9783],\n",
       "        ...,\n",
       "        [1466.6952, 1473.6582, 1521.8055,  ..., 1458.4585, 1466.6920,\n",
       "         1487.8228],\n",
       "        [1697.9513, 1686.8738, 1731.5032,  ..., 1725.9028, 1692.5848,\n",
       "         1724.6190],\n",
       "        [1548.4865, 1520.1553, 1548.9884,  ..., 1567.9370, 1570.2709,\n",
       "         1551.2142]], device='cuda:0', grad_fn=<AddmmBackward0>)"
      ]
     },
     "metadata": {},
     "output_type": "display_data"
    },
    {
     "data": {
      "text/plain": [
       "tensor([[1069.9158, 1068.4980, 1078.9919,  ..., 1070.0120, 1057.4413,\n",
       "         1084.1644],\n",
       "        [2840.5532, 2972.7859, 2971.0383,  ..., 2863.3088, 2952.8132,\n",
       "         2793.1882],\n",
       "        [1894.5636, 1930.3646, 1850.9385,  ..., 1873.4460, 1930.4020,\n",
       "         1910.2001],\n",
       "        ...,\n",
       "        [2406.1650, 2399.5308, 2328.9944,  ..., 2411.3037, 2356.3726,\n",
       "         2311.9109],\n",
       "        [2394.6963, 2371.8210, 2425.6782,  ..., 2439.8486, 2410.1448,\n",
       "         2484.3621],\n",
       "        [1481.4326, 1486.0383, 1556.1860,  ..., 1530.6211, 1529.1726,\n",
       "         1518.8733]], device='cuda:0', grad_fn=<AddmmBackward0>)"
      ]
     },
     "metadata": {},
     "output_type": "display_data"
    },
    {
     "data": {
      "text/plain": [
       "tensor([[2436.2222, 2296.1777, 2415.1956,  ..., 2437.7957, 2532.6270,\n",
       "         2443.3804],\n",
       "        [ 996.2650, 1012.6483,  999.9036,  ..., 1014.4816,  996.6154,\n",
       "          979.6266],\n",
       "        [2277.6562, 2262.8218, 2398.5820,  ..., 2376.9177, 2366.4412,\n",
       "         2316.6699],\n",
       "        ...,\n",
       "        [1712.6135, 1685.6406, 1658.1920,  ..., 1696.2668, 1705.4712,\n",
       "         1707.9778],\n",
       "        [1366.5426, 1211.4734, 1504.9393,  ..., 1287.1309, 1443.8522,\n",
       "         1520.3441],\n",
       "        [1975.5181, 2075.7571, 1941.9108,  ..., 2051.5051, 1995.3243,\n",
       "         2047.4849]], device='cuda:0', grad_fn=<AddmmBackward0>)"
      ]
     },
     "metadata": {},
     "output_type": "display_data"
    },
    {
     "data": {
      "text/plain": [
       "tensor([[1525.2740, 1511.7349, 1454.1301,  ..., 1441.4207, 1466.2004,\n",
       "         1417.7700],\n",
       "        [2007.9816, 1871.2675, 2106.1628,  ..., 2006.8745, 2094.8042,\n",
       "         2028.8018],\n",
       "        [1057.8190, 1047.7156, 1033.9138,  ..., 1052.9479, 1026.8468,\n",
       "         1055.6262],\n",
       "        ...,\n",
       "        [2015.6609, 2023.9973, 1905.9263,  ..., 1964.4263, 1932.8649,\n",
       "         1880.9312],\n",
       "        [2012.2706, 2096.9377, 2058.6179,  ..., 2073.6077, 2078.6919,\n",
       "         1984.0618],\n",
       "        [1424.3514, 1421.4626, 1448.6975,  ..., 1430.2300, 1380.4092,\n",
       "         1406.9991]], device='cuda:0', grad_fn=<AddmmBackward0>)"
      ]
     },
     "metadata": {},
     "output_type": "display_data"
    },
    {
     "data": {
      "text/plain": [
       "tensor([[1091.7715, 1103.3259, 1081.9939,  ..., 1078.2416, 1118.8903,\n",
       "         1097.0626],\n",
       "        [2075.5667, 2107.0715, 2078.4778,  ..., 2031.0046, 1992.0415,\n",
       "         2029.5338],\n",
       "        [1891.6588, 1933.6049, 1967.8922,  ..., 1950.3291, 1889.6135,\n",
       "         1972.8196],\n",
       "        ...,\n",
       "        [1059.0333, 1057.9290, 1106.3488,  ..., 1136.8804, 1174.9529,\n",
       "         1111.7466],\n",
       "        [1266.4701, 1293.2653, 1287.8049,  ..., 1290.2765, 1255.3473,\n",
       "         1294.5883],\n",
       "        [2639.3582, 2621.4707, 2728.5798,  ..., 2635.8315, 2685.5576,\n",
       "         2620.6133]], device='cuda:0', grad_fn=<AddmmBackward0>)"
      ]
     },
     "metadata": {},
     "output_type": "display_data"
    },
    {
     "data": {
      "text/plain": [
       "tensor([[1506.6852, 1509.7753, 1521.3838,  ..., 1547.0574, 1546.4884,\n",
       "         1555.4910],\n",
       "        [1282.3411, 1289.3827, 1324.3296,  ..., 1281.6073, 1332.5927,\n",
       "         1297.1555],\n",
       "        [1466.6168, 1488.3085, 1455.3257,  ..., 1486.4369, 1416.2925,\n",
       "         1474.7828],\n",
       "        ...,\n",
       "        [1375.3358, 1427.9153, 1360.4221,  ..., 1394.7360, 1326.9242,\n",
       "         1396.2037],\n",
       "        [1150.2678, 1134.3682, 1166.5767,  ..., 1173.9640, 1144.1654,\n",
       "         1152.9513],\n",
       "        [2327.5354, 2203.0430, 2268.9133,  ..., 2289.0542, 2312.5605,\n",
       "         2240.8660]], device='cuda:0', grad_fn=<AddmmBackward0>)"
      ]
     },
     "metadata": {},
     "output_type": "display_data"
    },
    {
     "data": {
      "text/plain": [
       "tensor([[1197.3422, 1196.5461, 1191.2306,  ..., 1205.6107, 1183.7942,\n",
       "         1200.7074],\n",
       "        [1304.6393, 1256.6144, 1304.5535,  ..., 1246.9612, 1243.0519,\n",
       "         1275.3352],\n",
       "        [1971.2616, 2099.4871, 2109.1758,  ..., 1992.2917, 2096.0901,\n",
       "         2013.8160],\n",
       "        ...,\n",
       "        [2324.5728, 2547.3008, 2133.4343,  ..., 2328.7043, 2358.9729,\n",
       "         2384.3118],\n",
       "        [2266.2048, 2224.3677, 2470.0862,  ..., 2535.3398, 2581.5273,\n",
       "         2515.1182],\n",
       "        [1059.2642, 1062.2693, 1085.4562,  ..., 1076.8652, 1092.1719,\n",
       "         1072.3763]], device='cuda:0', grad_fn=<AddmmBackward0>)"
      ]
     },
     "metadata": {},
     "output_type": "display_data"
    },
    {
     "data": {
      "text/plain": [
       "tensor([[1944.9430, 1995.0758, 2108.3311,  ..., 2160.9343, 2121.6589,\n",
       "         2116.5237],\n",
       "        [1873.4791, 1884.0482, 1789.7808,  ..., 1893.9137, 1794.6237,\n",
       "         1818.6040],\n",
       "        [1762.9768, 1867.9260, 1796.8555,  ..., 1819.0398, 1874.5338,\n",
       "         1826.2300],\n",
       "        ...,\n",
       "        [ 938.6501,  923.2906,  875.2958,  ...,  894.9402,  933.1715,\n",
       "          922.4958],\n",
       "        [1597.7896, 1638.1852, 1582.7456,  ..., 1645.2660, 1601.0841,\n",
       "         1596.9258],\n",
       "        [2268.9392, 2329.6089, 2340.8521,  ..., 2259.3279, 2285.2925,\n",
       "         2393.1526]], device='cuda:0', grad_fn=<AddmmBackward0>)"
      ]
     },
     "metadata": {},
     "output_type": "display_data"
    },
    {
     "data": {
      "text/plain": [
       "tensor([[1677.2827, 1712.0706, 1614.8909,  ..., 1656.5656, 1718.3511,\n",
       "         1647.2025],\n",
       "        [2504.6562, 2544.8088, 2453.4902,  ..., 2518.1650, 2336.9644,\n",
       "         2481.2104],\n",
       "        [2343.3291, 2393.7935, 2301.6204,  ..., 2315.3357, 2324.1365,\n",
       "         2244.4766],\n",
       "        ...,\n",
       "        [ 981.0120,  925.5847,  796.0462,  ...,  812.7336,  918.8272,\n",
       "          870.9532],\n",
       "        [2149.2075, 2099.6753, 2076.5601,  ..., 2101.6934, 2092.0295,\n",
       "         2072.1411],\n",
       "        [ 845.2197,  863.8237,  876.6487,  ...,  859.6100,  861.5524,\n",
       "          870.4257]], device='cuda:0', grad_fn=<AddmmBackward0>)"
      ]
     },
     "metadata": {},
     "output_type": "display_data"
    },
    {
     "data": {
      "text/plain": [
       "tensor([[ 969.1573,  969.1798,  945.3987,  ...,  950.3112, 1008.2908,\n",
       "          955.8536],\n",
       "        [1668.2650, 1706.3682, 1625.9487,  ..., 1667.9879, 1625.3643,\n",
       "         1686.5441],\n",
       "        [1601.6632, 1673.5441, 1660.2421,  ..., 1598.2411, 1553.6525,\n",
       "         1681.1366],\n",
       "        ...,\n",
       "        [2365.4592, 2366.2495, 2376.6956,  ..., 2398.7449, 2549.4038,\n",
       "         2463.7415],\n",
       "        [1546.7584, 1518.5599, 1455.3462,  ..., 1487.5378, 1419.7974,\n",
       "         1500.1077],\n",
       "        [1939.9840, 2017.6863, 1990.7495,  ..., 1976.3434, 1907.2703,\n",
       "         1968.4125]], device='cuda:0', grad_fn=<AddmmBackward0>)"
      ]
     },
     "metadata": {},
     "output_type": "display_data"
    },
    {
     "data": {
      "text/plain": [
       "tensor([[1456.2986, 1499.3378, 1495.2614,  ..., 1506.6581, 1459.2037,\n",
       "         1496.8602],\n",
       "        [1588.1801, 1560.3536, 1647.8857,  ..., 1622.5593, 1646.2787,\n",
       "         1645.1038],\n",
       "        [1610.7406, 1611.3839, 1637.2272,  ..., 1653.5369, 1605.0039,\n",
       "         1646.0132],\n",
       "        ...,\n",
       "        [1494.1924, 1520.3822, 1551.1714,  ..., 1577.3755, 1496.1591,\n",
       "         1549.5740],\n",
       "        [2376.5349, 2430.5845, 2448.5044,  ..., 2429.5874, 2489.7769,\n",
       "         2418.6062],\n",
       "        [1788.7783, 1836.9084, 1854.4310,  ..., 1827.8745, 1844.1893,\n",
       "         1854.8315]], device='cuda:0', grad_fn=<AddmmBackward0>)"
      ]
     },
     "metadata": {},
     "output_type": "display_data"
    },
    {
     "data": {
      "text/plain": [
       "tensor([[1532.6736, 1578.2878, 1586.4340,  ..., 1586.7532, 1544.9121,\n",
       "         1540.0941],\n",
       "        [1242.6686, 1295.3208, 1348.0292,  ..., 1339.8424, 1356.7931,\n",
       "         1304.4421],\n",
       "        [2113.2761, 1963.4016, 2010.8441,  ..., 2070.0059, 2066.9163,\n",
       "         2056.7139],\n",
       "        ...,\n",
       "        [2658.7637, 2666.1011, 2615.9844,  ..., 2663.2913, 2622.0630,\n",
       "         2711.1604],\n",
       "        [1262.8932, 1281.8102, 1242.2816,  ..., 1288.1123, 1252.1266,\n",
       "         1259.0425],\n",
       "        [1922.6748, 1907.5884, 1928.9386,  ..., 1908.0223, 1885.4618,\n",
       "         1901.9248]], device='cuda:0', grad_fn=<AddmmBackward0>)"
      ]
     },
     "metadata": {},
     "output_type": "display_data"
    },
    {
     "data": {
      "text/plain": [
       "tensor([[1751.1088, 1711.0765, 1761.1072,  ..., 1750.2954, 1747.0126,\n",
       "         1771.1111],\n",
       "        [1445.4784, 1429.2803, 1457.2764,  ..., 1452.7598, 1424.1165,\n",
       "         1438.2784],\n",
       "        [1663.1124, 1729.1985, 1765.2820,  ..., 1695.9275, 1667.3536,\n",
       "         1727.6219],\n",
       "        ...,\n",
       "        [1422.9182, 1314.2065, 1388.2402,  ..., 1381.9294, 1382.2478,\n",
       "         1418.4398],\n",
       "        [1095.1080, 1109.5135, 1095.9304,  ..., 1083.2672, 1082.4241,\n",
       "         1081.9279],\n",
       "        [1944.7695, 1849.4275, 2012.6802,  ..., 2042.8770, 1971.9598,\n",
       "         1994.0260]], device='cuda:0', grad_fn=<AddmmBackward0>)"
      ]
     },
     "metadata": {},
     "output_type": "display_data"
    },
    {
     "data": {
      "text/plain": [
       "tensor([[2262.6255, 2069.3979, 2219.6028,  ..., 2175.3765, 2362.4556,\n",
       "         2282.7439],\n",
       "        [2103.4268, 2167.4927, 2139.3254,  ..., 2174.6450, 2181.6260,\n",
       "         2136.5032],\n",
       "        [2556.2231, 2636.1096, 2463.4280,  ..., 2390.2000, 2468.0059,\n",
       "         2496.4768],\n",
       "        ...,\n",
       "        [2325.8311, 2340.5640, 2281.3083,  ..., 2282.3125, 2392.9175,\n",
       "         2343.2090],\n",
       "        [2357.4517, 2307.3809, 2334.1931,  ..., 2351.6289, 2296.3784,\n",
       "         2408.3147],\n",
       "        [1949.1620, 1927.4558, 1968.2562,  ..., 1975.4156, 1910.5377,\n",
       "         1937.6415]], device='cuda:0', grad_fn=<AddmmBackward0>)"
      ]
     },
     "metadata": {},
     "output_type": "display_data"
    },
    {
     "data": {
      "text/plain": [
       "tensor([[1565.1808, 1452.1816, 1527.5800,  ..., 1536.5806, 1579.7971,\n",
       "         1589.0476],\n",
       "        [1004.8325, 1006.7295,  973.3936,  ..., 1031.4700,  954.2339,\n",
       "         1009.4226],\n",
       "        [2399.3494, 2779.3960, 2357.0786,  ..., 2534.2778, 2042.8099,\n",
       "         2253.5642],\n",
       "        ...,\n",
       "        [1975.0768, 1924.6217, 1946.2183,  ..., 1975.3987, 1915.3710,\n",
       "         2004.8450],\n",
       "        [1699.6860, 1663.2448, 1707.5371,  ..., 1677.5524, 1632.6112,\n",
       "         1685.2141],\n",
       "        [1852.8335, 1717.3071, 1773.9736,  ..., 1800.2439, 1748.1127,\n",
       "         1812.0100]], device='cuda:0', grad_fn=<AddmmBackward0>)"
      ]
     },
     "metadata": {},
     "output_type": "display_data"
    },
    {
     "data": {
      "text/plain": [
       "tensor([[ 577.6077,  626.5535,  543.3482,  ...,  594.2654,  600.0401,\n",
       "          639.2448],\n",
       "        [1725.4514, 1682.7607, 1708.8927,  ..., 1696.3556, 1685.6688,\n",
       "         1672.7678],\n",
       "        [1277.3235, 1260.4415, 1305.1779,  ..., 1297.0890, 1283.6523,\n",
       "         1339.0881],\n",
       "        ...,\n",
       "        [1789.4556, 1779.9020, 1774.4132,  ..., 1797.9427, 1774.2358,\n",
       "         1762.3212],\n",
       "        [2040.7510, 2126.8394, 2016.2611,  ..., 2043.3986, 2005.4209,\n",
       "         2079.6223],\n",
       "        [1422.9242, 1410.1499, 1270.9225,  ..., 1306.2253, 1370.2684,\n",
       "         1366.4980]], device='cuda:0', grad_fn=<AddmmBackward0>)"
      ]
     },
     "metadata": {},
     "output_type": "display_data"
    },
    {
     "data": {
      "text/plain": [
       "tensor([[2968.4062, 3115.0579, 3018.1560,  ..., 3164.5129, 3096.0498,\n",
       "         3032.8723],\n",
       "        [2929.0005, 2803.8420, 3081.2869,  ..., 2898.3748, 2902.0015,\n",
       "         2964.3152],\n",
       "        [1877.6954, 1890.2661, 2008.3119,  ..., 1975.7927, 2121.2007,\n",
       "         1978.3257],\n",
       "        ...,\n",
       "        [2030.6761, 2050.9180, 2021.1583,  ..., 2025.8409, 2001.3096,\n",
       "         2050.8081],\n",
       "        [1506.5895, 1510.0088, 1509.3118,  ..., 1521.5865, 1478.2947,\n",
       "         1521.7008],\n",
       "        [1639.0000, 1650.8257, 1675.5216,  ..., 1691.7892, 1602.5753,\n",
       "         1682.1927]], device='cuda:0', grad_fn=<AddmmBackward0>)"
      ]
     },
     "metadata": {},
     "output_type": "display_data"
    },
    {
     "data": {
      "text/plain": [
       "tensor([[2333.3608, 2391.1628, 2391.0352,  ..., 2391.3098, 2369.8738,\n",
       "         2401.9910],\n",
       "        [2031.9705, 2008.0446, 1994.8771,  ..., 2009.3108, 2011.7188,\n",
       "         2061.9602],\n",
       "        [1933.9523, 1937.1538, 1921.7360,  ..., 1904.9791, 1883.3744,\n",
       "         1918.3713],\n",
       "        ...,\n",
       "        [1464.8783, 1449.8823, 1485.2532,  ..., 1414.0670, 1577.2817,\n",
       "         1444.0337],\n",
       "        [2190.6812, 2211.2893, 2185.7529,  ..., 2197.0745, 2129.6963,\n",
       "         2164.2329],\n",
       "        [1768.4166, 1721.6049, 1780.7186,  ..., 1672.5514, 1810.2153,\n",
       "         1784.8413]], device='cuda:0', grad_fn=<AddmmBackward0>)"
      ]
     },
     "metadata": {},
     "output_type": "display_data"
    },
    {
     "data": {
      "text/plain": [
       "tensor([[1406.3927, 1407.1887, 1376.6439,  ..., 1383.7603, 1322.4072,\n",
       "         1343.3787],\n",
       "        [1369.8969, 1401.9550, 1410.2971,  ..., 1340.0754, 1403.4590,\n",
       "         1361.1921],\n",
       "        [2812.6299, 2832.8401, 2898.6558,  ..., 2882.1235, 2956.1917,\n",
       "         2868.6277],\n",
       "        ...,\n",
       "        [1582.5770, 1582.5515, 1614.3347,  ..., 1609.2288, 1591.9653,\n",
       "         1599.6077],\n",
       "        [1291.4064, 1366.9053, 1345.3887,  ..., 1272.6918, 1315.4741,\n",
       "         1348.3708],\n",
       "        [1442.5795, 1423.1028, 1497.7400,  ..., 1466.8663, 1463.9761,\n",
       "         1467.0405]], device='cuda:0', grad_fn=<AddmmBackward0>)"
      ]
     },
     "metadata": {},
     "output_type": "display_data"
    },
    {
     "data": {
      "text/plain": [
       "tensor([[1795.7104, 1773.3286, 1845.1533,  ..., 1790.2108, 1784.5149,\n",
       "         1802.8910],\n",
       "        [2787.9851, 2652.0889, 2715.4050,  ..., 2659.3777, 2732.6404,\n",
       "         2667.3208],\n",
       "        [2777.0061, 2758.7256, 2710.2422,  ..., 2707.1536, 2699.4226,\n",
       "         2630.9614],\n",
       "        ...,\n",
       "        [1101.9609, 1104.3420, 1085.7144,  ..., 1093.0369, 1083.7386,\n",
       "         1104.9949],\n",
       "        [1882.0269, 1913.1237, 1943.4722,  ..., 1896.8832, 1865.7167,\n",
       "         1881.2810],\n",
       "        [1623.3372, 1795.1371, 1768.8627,  ..., 1824.0881, 1636.7883,\n",
       "         1818.7540]], device='cuda:0', grad_fn=<AddmmBackward0>)"
      ]
     },
     "metadata": {},
     "output_type": "display_data"
    },
    {
     "data": {
      "text/plain": [
       "tensor([[1445.4868, 1483.0718, 1415.1862,  ..., 1452.7771, 1444.6465,\n",
       "         1426.0858],\n",
       "        [1537.2067, 1592.8726, 1362.3689,  ..., 1394.2408, 1522.0388,\n",
       "         1598.0260],\n",
       "        [1898.1959, 1812.0527, 1818.3391,  ..., 1845.0964, 1738.7178,\n",
       "         1802.4735],\n",
       "        ...,\n",
       "        [1443.8048, 1520.5366, 1548.2042,  ..., 1495.6333, 1630.0924,\n",
       "         1547.4398],\n",
       "        [1656.9067, 1670.9321, 1599.3683,  ..., 1469.4126, 1612.2849,\n",
       "         1555.2047],\n",
       "        [1925.8705, 1945.5586, 1862.3595,  ..., 1763.0535, 1808.6709,\n",
       "         1754.4620]], device='cuda:0', grad_fn=<AddmmBackward0>)"
      ]
     },
     "metadata": {},
     "output_type": "display_data"
    },
    {
     "data": {
      "text/plain": [
       "tensor([[2518.2227, 2567.3230, 2422.0762,  ..., 2395.2739, 2394.8931,\n",
       "         2409.8430],\n",
       "        [1186.0867, 1140.4098, 1161.4225,  ..., 1140.6296, 1206.7445,\n",
       "         1182.3801],\n",
       "        [1616.2373, 1619.4061, 1609.1650,  ..., 1605.9617, 1608.7970,\n",
       "         1604.5542],\n",
       "        ...,\n",
       "        [1558.2228, 1633.1256, 1599.1385,  ..., 1608.3488, 1612.0912,\n",
       "         1605.3730],\n",
       "        [1706.8821, 1698.1222, 1703.4180,  ..., 1713.4010, 1671.8793,\n",
       "         1750.7875],\n",
       "        [1505.7949, 1505.8326, 1474.9265,  ..., 1470.4103, 1485.6910,\n",
       "         1463.6201]], device='cuda:0', grad_fn=<AddmmBackward0>)"
      ]
     },
     "metadata": {},
     "output_type": "display_data"
    },
    {
     "data": {
      "text/plain": [
       "tensor([[1942.5802, 1926.6798, 2048.7422,  ..., 1979.8131, 2090.9321,\n",
       "         2029.4271],\n",
       "        [1667.6266, 1717.9907, 1659.5973,  ..., 1662.4778, 1612.2839,\n",
       "         1641.9225],\n",
       "        [2015.7185, 1923.2563, 1997.2788,  ..., 2004.0381, 2021.9220,\n",
       "         2030.7114],\n",
       "        ...,\n",
       "        [2251.9810, 2280.2568, 2172.9541,  ..., 2137.4326, 2376.0818,\n",
       "         2132.2993],\n",
       "        [2590.0823, 2521.7627, 2365.3003,  ..., 2502.2996, 2406.2349,\n",
       "         2373.0034],\n",
       "        [1554.5424, 1630.1650, 1662.7186,  ..., 1720.2731, 1780.1897,\n",
       "         1655.2554]], device='cuda:0', grad_fn=<AddmmBackward0>)"
      ]
     },
     "metadata": {},
     "output_type": "display_data"
    },
    {
     "data": {
      "text/plain": [
       "tensor([[1966.5066, 1980.7329, 2036.8806,  ..., 1997.2755, 2017.0294,\n",
       "         1972.9564],\n",
       "        [1744.4247, 1690.8585, 1811.6389,  ..., 1738.5878, 1678.4818,\n",
       "         1744.0648],\n",
       "        [1980.1354, 1940.2264, 1967.9382,  ..., 1938.5074, 1894.1837,\n",
       "         1944.3263],\n",
       "        ...,\n",
       "        [1980.6265, 2000.9525, 2012.0139,  ..., 2025.1838, 2008.0995,\n",
       "         2045.5836],\n",
       "        [2512.2673, 2476.6113, 2594.4485,  ..., 2587.6653, 2617.8865,\n",
       "         2576.9001],\n",
       "        [2275.5344, 2290.2197, 2230.4524,  ..., 2327.4182, 2269.5339,\n",
       "         2297.8682]], device='cuda:0', grad_fn=<AddmmBackward0>)"
      ]
     },
     "metadata": {},
     "output_type": "display_data"
    },
    {
     "data": {
      "text/plain": [
       "tensor([[1560.1327, 1525.2229, 1530.1337,  ..., 1536.0415, 1446.4048,\n",
       "         1543.6296],\n",
       "        [2858.6016, 2904.2380, 2873.7258,  ..., 2915.5056, 2795.5947,\n",
       "         2835.2224],\n",
       "        [1432.1190, 1434.6038, 1385.8115,  ..., 1413.4053, 1390.3904,\n",
       "         1408.9879],\n",
       "        ...,\n",
       "        [1476.2938, 1500.1449, 1526.3114,  ..., 1519.3073, 1495.4417,\n",
       "         1499.6449],\n",
       "        [1726.8300, 1689.6604, 1677.8119,  ..., 1649.8674, 1670.8389,\n",
       "         1722.2883],\n",
       "        [1218.3306, 1217.3446, 1208.8427,  ..., 1172.8824, 1156.0833,\n",
       "         1177.9829]], device='cuda:0', grad_fn=<AddmmBackward0>)"
      ]
     },
     "metadata": {},
     "output_type": "display_data"
    },
    {
     "data": {
      "text/plain": [
       "tensor([[1335.7074, 1313.4596, 1357.4758,  ..., 1368.9983, 1387.5289,\n",
       "         1359.3412],\n",
       "        [6249.1187, 6503.1660, 6574.6943,  ..., 6727.3511, 6069.2651,\n",
       "         6563.6187],\n",
       "        [1981.4752, 2001.1981, 1952.5404,  ..., 1977.2379, 1959.5828,\n",
       "         1972.6501],\n",
       "        ...,\n",
       "        [1443.1537, 1446.2246, 1487.3374,  ..., 1501.7539, 1501.6813,\n",
       "         1476.6770],\n",
       "        [2598.2173, 2622.1025, 2657.0449,  ..., 2626.7881, 2521.8733,\n",
       "         2607.9653],\n",
       "        [1780.1519, 1802.2455, 1760.6565,  ..., 1786.0116, 1720.3342,\n",
       "         1800.3376]], device='cuda:0', grad_fn=<AddmmBackward0>)"
      ]
     },
     "metadata": {},
     "output_type": "display_data"
    },
    {
     "data": {
      "text/plain": [
       "tensor([[2312.6038, 2225.3174, 2245.4285,  ..., 2257.1074, 2237.6707,\n",
       "         2237.0266],\n",
       "        [2393.1323, 2285.9021, 2358.3015,  ..., 2400.7161, 2372.2126,\n",
       "         2305.7434],\n",
       "        [3735.8071, 3640.1172, 3535.1089,  ..., 3662.8035, 3691.4744,\n",
       "         3672.1687],\n",
       "        ...,\n",
       "        [2941.6941, 2933.1079, 2916.9119,  ..., 2963.1333, 2927.4009,\n",
       "         2927.8652],\n",
       "        [1822.1707, 1742.9882, 1898.0618,  ..., 1836.7455, 1806.6581,\n",
       "         1846.7661],\n",
       "        [2112.1663, 2272.1057, 2211.5637,  ..., 2232.3582, 2145.4202,\n",
       "         2130.4099]], device='cuda:0', grad_fn=<AddmmBackward0>)"
      ]
     },
     "metadata": {},
     "output_type": "display_data"
    },
    {
     "data": {
      "text/plain": [
       "tensor([[1691.3248, 1626.9491, 1614.1930,  ..., 1660.0309, 1600.7206,\n",
       "         1620.3076],\n",
       "        [1088.6055, 1113.6708, 1106.9521,  ..., 1122.0095, 1109.9135,\n",
       "         1124.8186],\n",
       "        [1432.7882, 1424.9794, 1396.3125,  ..., 1436.8951, 1396.0383,\n",
       "         1427.4082],\n",
       "        ...,\n",
       "        [1037.8644, 1038.6801, 1034.1737,  ..., 1045.1774, 1027.4302,\n",
       "         1016.2150],\n",
       "        [2285.9985, 2279.1123, 2248.6653,  ..., 2308.1748, 2209.2805,\n",
       "         2253.9277],\n",
       "        [1589.8009, 1574.3337, 1607.5388,  ..., 1598.7076, 1562.1910,\n",
       "         1605.8684]], device='cuda:0', grad_fn=<AddmmBackward0>)"
      ]
     },
     "metadata": {},
     "output_type": "display_data"
    },
    {
     "data": {
      "text/plain": [
       "tensor([[2286.3899, 2279.6504, 2279.1794,  ..., 2326.7356, 2293.7512,\n",
       "         2257.0166],\n",
       "        [1481.2341, 1426.2932, 1514.4727,  ..., 1536.0310, 1518.0690,\n",
       "         1509.0803],\n",
       "        [ 549.2712,  580.7054,  529.4304,  ...,  567.5219,  605.2537,\n",
       "          560.8879],\n",
       "        ...,\n",
       "        [1512.3965, 1483.8534, 1476.0762,  ..., 1485.0035, 1414.1093,\n",
       "         1444.0431],\n",
       "        [1396.9844, 1401.5760, 1383.6683,  ..., 1366.9564, 1367.3036,\n",
       "         1390.2501],\n",
       "        [2009.7555, 2073.4883, 2033.5365,  ..., 1952.0829, 1983.5474,\n",
       "         1999.2891]], device='cuda:0', grad_fn=<AddmmBackward0>)"
      ]
     },
     "metadata": {},
     "output_type": "display_data"
    },
    {
     "data": {
      "text/plain": [
       "tensor([[1070.8843, 1098.0399,  923.9574,  ..., 1023.7164, 1075.4340,\n",
       "         1081.1014],\n",
       "        [1184.9365, 1194.2285, 1196.1912,  ..., 1188.2078, 1162.8923,\n",
       "         1207.0831],\n",
       "        [1773.5583, 1730.3397, 1748.7778,  ..., 1745.0114, 1749.9792,\n",
       "         1783.3944],\n",
       "        ...,\n",
       "        [1614.5015, 1588.6278, 1500.1965,  ..., 1584.9457, 1729.7604,\n",
       "         1570.2861],\n",
       "        [2039.8739, 2063.7117, 2006.7603,  ..., 2026.0195, 2000.8556,\n",
       "         1977.6361],\n",
       "        [ 925.3787,  898.7102,  897.5947,  ...,  922.2618,  991.7401,\n",
       "          945.9695]], device='cuda:0', grad_fn=<AddmmBackward0>)"
      ]
     },
     "metadata": {},
     "output_type": "display_data"
    },
    {
     "data": {
      "text/plain": [
       "tensor([[2088.8823, 2106.5500, 2057.6960,  ..., 2068.6360, 2044.5654,\n",
       "         2084.7520],\n",
       "        [1988.1536, 1896.7767, 2011.1888,  ..., 1957.2496, 2088.1523,\n",
       "         1962.0663],\n",
       "        [1828.6008, 1855.3724, 1804.6342,  ..., 1723.9717, 1759.1718,\n",
       "         1791.3082],\n",
       "        ...,\n",
       "        [1703.4849, 1719.8191, 1631.2368,  ..., 1618.3146, 1731.3253,\n",
       "         1674.0757],\n",
       "        [1018.6443,  984.7250, 1011.6890,  ..., 1017.6515, 1002.5147,\n",
       "         1019.7800],\n",
       "        [1409.1616, 1422.4689, 1415.6411,  ..., 1427.6681, 1401.6216,\n",
       "         1424.6409]], device='cuda:0', grad_fn=<AddmmBackward0>)"
      ]
     },
     "metadata": {},
     "output_type": "display_data"
    },
    {
     "data": {
      "text/plain": [
       "tensor([[ 812.9739,  780.0375,  749.8145,  ...,  770.6262,  844.4048,\n",
       "          884.3145],\n",
       "        [2517.0122, 2445.3667, 2418.6353,  ..., 2425.8804, 2440.8152,\n",
       "         2399.8569],\n",
       "        [2241.7637, 2203.7000, 2281.5703,  ..., 2339.4399, 2355.2847,\n",
       "         2296.4773],\n",
       "        ...,\n",
       "        [1685.3680, 1600.1954, 1609.8235,  ..., 1615.7028, 1563.0398,\n",
       "         1564.5710],\n",
       "        [2012.4988, 1922.0756, 2001.3489,  ..., 2011.3091, 1929.2963,\n",
       "         2012.4821],\n",
       "        [1266.5428, 1232.3456, 1222.7551,  ..., 1262.4932, 1278.9801,\n",
       "         1278.3143]], device='cuda:0', grad_fn=<AddmmBackward0>)"
      ]
     },
     "metadata": {},
     "output_type": "display_data"
    },
    {
     "data": {
      "text/plain": [
       "tensor([[1567.2166, 1462.9622, 1536.2314,  ..., 1506.3752, 1523.8993,\n",
       "         1549.8143],\n",
       "        [1466.3403, 1491.0923, 1480.0210,  ..., 1483.2458, 1453.0231,\n",
       "         1476.9055],\n",
       "        [1909.5920, 1855.4354, 1879.3317,  ..., 1843.5302, 2003.6212,\n",
       "         1851.9199],\n",
       "        ...,\n",
       "        [1039.3279, 1023.4377,  992.5757,  ..., 1014.9456, 1003.0302,\n",
       "         1026.7532],\n",
       "        [1460.2892, 1492.7714, 1384.1160,  ..., 1485.3372, 1513.3644,\n",
       "         1408.4033],\n",
       "        [2294.8264, 2363.6958, 2244.3147,  ..., 2370.3347, 2357.5173,\n",
       "         2300.0776]], device='cuda:0', grad_fn=<AddmmBackward0>)"
      ]
     },
     "metadata": {},
     "output_type": "display_data"
    },
    {
     "data": {
      "text/plain": [
       "tensor([[1915.1339, 1896.1064, 1926.8385,  ..., 1915.7826, 1879.3126,\n",
       "         1925.6433],\n",
       "        [2040.5271, 1995.7925, 2034.8704,  ..., 1988.4291, 2010.4199,\n",
       "         1994.1213],\n",
       "        [1736.1952, 1793.9149, 1740.2172,  ..., 1791.4100, 1745.0833,\n",
       "         1759.4675],\n",
       "        ...,\n",
       "        [1681.8466, 1676.6533, 1737.6409,  ..., 1706.8081, 1700.8195,\n",
       "         1658.6418],\n",
       "        [1407.2063, 1406.0764, 1386.6719,  ..., 1344.7256, 1362.3802,\n",
       "         1346.8990],\n",
       "        [1800.4509, 1843.2758, 1844.1447,  ..., 1764.3783, 1766.5201,\n",
       "         1789.4836]], device='cuda:0', grad_fn=<AddmmBackward0>)"
      ]
     },
     "metadata": {},
     "output_type": "display_data"
    },
    {
     "data": {
      "text/plain": [
       "tensor([[2307.8635, 2191.1067, 2264.9973,  ..., 2287.1167, 2196.7842,\n",
       "         2266.8496],\n",
       "        [1014.4439,  972.8671,  982.5407,  ...,  972.9627,  978.5062,\n",
       "          986.8550],\n",
       "        [1767.6232, 1699.1633, 1696.6652,  ..., 1757.0902, 1771.9613,\n",
       "         1770.2478],\n",
       "        ...,\n",
       "        [ 787.3662,  762.3845,  744.0563,  ...,  778.2543,  755.4761,\n",
       "          750.3228],\n",
       "        [1490.0947, 1455.9893, 1448.7377,  ..., 1421.4270, 1404.6858,\n",
       "         1390.0417],\n",
       "        [1457.8702, 1430.3121, 1392.5099,  ..., 1423.2871, 1485.8663,\n",
       "         1441.4720]], device='cuda:0', grad_fn=<AddmmBackward0>)"
      ]
     },
     "metadata": {},
     "output_type": "display_data"
    },
    {
     "data": {
      "text/plain": [
       "tensor([[1349.4011, 1326.9386, 1366.8074,  ..., 1361.4814, 1310.6022,\n",
       "         1333.6832],\n",
       "        [2107.3308, 2113.3999, 2148.3611,  ..., 2174.4429, 2211.3364,\n",
       "         2141.1165],\n",
       "        [2046.2386, 1988.3424, 2045.3088,  ..., 2000.5166, 2075.3755,\n",
       "         2025.4420],\n",
       "        ...,\n",
       "        [1688.5001, 1691.0723, 1749.4172,  ..., 1698.6145, 1647.1973,\n",
       "         1715.3158],\n",
       "        [1371.5448, 1388.7913, 1295.3708,  ..., 1299.2766, 1331.7681,\n",
       "         1303.2732],\n",
       "        [2215.0391, 2260.5476, 2174.8083,  ..., 2270.6902, 2121.5225,\n",
       "         2195.7388]], device='cuda:0', grad_fn=<AddmmBackward0>)"
      ]
     },
     "metadata": {},
     "output_type": "display_data"
    },
    {
     "data": {
      "text/plain": [
       "tensor([[2493.5488, 2379.3865, 2394.1240,  ..., 2442.4314, 2327.5906,\n",
       "         2322.3013],\n",
       "        [2341.3438, 2301.1106, 2325.1343,  ..., 2435.5735, 2409.1443,\n",
       "         2264.5928],\n",
       "        [1646.8658, 1656.4351, 1698.7712,  ..., 1679.9158, 1699.7985,\n",
       "         1675.8734],\n",
       "        ...,\n",
       "        [1898.3174, 1958.3701, 1927.1558,  ..., 1914.9371, 1935.8436,\n",
       "         1893.9332],\n",
       "        [2212.9890, 2339.6172, 2287.0779,  ..., 2175.6211, 2325.3704,\n",
       "         2145.4302],\n",
       "        [1297.5950, 1248.9744, 1289.6594,  ..., 1296.8455, 1277.8510,\n",
       "         1301.7068]], device='cuda:0', grad_fn=<AddmmBackward0>)"
      ]
     },
     "metadata": {},
     "output_type": "display_data"
    },
    {
     "data": {
      "text/plain": [
       "tensor([[1901.0413, 1909.5126, 1903.3568,  ..., 1922.8265, 1879.4573,\n",
       "         1889.1888],\n",
       "        [1090.8271, 1272.1157, 1097.2476,  ..., 1259.3159, 1088.4094,\n",
       "         1247.5898],\n",
       "        [2187.2349, 2051.9346, 2096.1304,  ..., 2119.3586, 2074.1304,\n",
       "         2105.9199],\n",
       "        ...,\n",
       "        [1782.4381, 1754.5573, 1833.7196,  ..., 1732.5400, 1796.3015,\n",
       "         1778.4420],\n",
       "        [ 836.1878,  831.0074,  851.4911,  ...,  843.8228,  839.4557,\n",
       "          849.4766],\n",
       "        [1267.4684, 1324.9503, 1266.4557,  ..., 1298.2642, 1250.0176,\n",
       "         1311.1213]], device='cuda:0', grad_fn=<AddmmBackward0>)"
      ]
     },
     "metadata": {},
     "output_type": "display_data"
    },
    {
     "data": {
      "text/plain": [
       "tensor([[1986.4913, 1854.5187, 1872.9263,  ..., 1895.7875, 1863.7852,\n",
       "         1919.5702],\n",
       "        [2169.3569, 2116.9312, 2167.5322,  ..., 2223.0486, 2153.5742,\n",
       "         2123.5581],\n",
       "        [1678.8221, 1604.8182, 1689.4946,  ..., 1650.0526, 1654.3490,\n",
       "         1662.8979],\n",
       "        ...,\n",
       "        [1691.3351, 1718.0342, 1695.7917,  ..., 1660.8054, 1743.8779,\n",
       "         1669.9399],\n",
       "        [1231.2061, 1294.6006, 1273.3011,  ..., 1306.5697, 1327.2571,\n",
       "         1314.1619],\n",
       "        [2246.4202, 2196.1389, 2094.2388,  ..., 2101.3281, 2156.1182,\n",
       "         2164.7668]], device='cuda:0', grad_fn=<AddmmBackward0>)"
      ]
     },
     "metadata": {},
     "output_type": "display_data"
    },
    {
     "data": {
      "text/plain": [
       "tensor([[2808.7490, 2766.6790, 2861.9250,  ..., 2810.1047, 2806.2051,\n",
       "         2800.0642],\n",
       "        [2322.5547, 2297.3315, 2263.6484,  ..., 2287.7212, 2290.2798,\n",
       "         2264.6221],\n",
       "        [1573.8911, 1533.5563, 1553.4901,  ..., 1520.5575, 1521.6281,\n",
       "         1594.1958],\n",
       "        ...,\n",
       "        [2008.9832, 2173.1516, 1907.1022,  ..., 2067.6594, 2115.2805,\n",
       "         2042.9589],\n",
       "        [2083.3994, 2145.3474, 2148.2161,  ..., 2011.8740, 2074.0752,\n",
       "         2046.2411],\n",
       "        [1754.9766, 1699.5688, 1569.0121,  ..., 1633.2034, 1579.5052,\n",
       "         1571.4514]], device='cuda:0', grad_fn=<AddmmBackward0>)"
      ]
     },
     "metadata": {},
     "output_type": "display_data"
    },
    {
     "data": {
      "text/plain": [
       "tensor([[1954.3370, 1961.7675, 2002.6443,  ..., 1973.1528, 1985.9219,\n",
       "         1962.2932],\n",
       "        [2499.2883, 2452.3711, 2487.9788,  ..., 2547.4592, 2562.8796,\n",
       "         2542.0671],\n",
       "        [1845.4252, 1794.4756, 1857.8412,  ..., 1832.5376, 1764.2887,\n",
       "         1858.1189],\n",
       "        ...,\n",
       "        [1426.7654, 1448.9806, 1432.8313,  ..., 1421.0173, 1470.5533,\n",
       "         1434.2791],\n",
       "        [2183.6580, 2310.3579, 2091.0581,  ..., 2209.1216, 2194.5037,\n",
       "         2220.8743],\n",
       "        [2073.0046, 1990.9855, 2018.0585,  ..., 2020.7725, 2008.2832,\n",
       "         2050.0889]], device='cuda:0', grad_fn=<AddmmBackward0>)"
      ]
     },
     "metadata": {},
     "output_type": "display_data"
    },
    {
     "data": {
      "text/plain": [
       "tensor([[3124.0403, 3157.6714, 3055.5271,  ..., 3197.9602, 3180.7429,\n",
       "         3154.7903],\n",
       "        [2462.9561, 2513.5767, 2459.0952,  ..., 2444.7271, 2504.8862,\n",
       "         2479.6169],\n",
       "        [2363.8601, 2284.6138, 2346.5667,  ..., 2354.3994, 2376.3701,\n",
       "         2308.3384],\n",
       "        ...,\n",
       "        [2000.6053, 2001.3569, 2070.9661,  ..., 2085.2283, 2072.1533,\n",
       "         2035.6034],\n",
       "        [ 983.9749, 1006.2215, 1038.2480,  ...,  995.4253, 1013.0894,\n",
       "         1000.5540],\n",
       "        [2253.8159, 2190.1406, 2183.8315,  ..., 2155.9158, 2180.9883,\n",
       "         2183.6284]], device='cuda:0', grad_fn=<AddmmBackward0>)"
      ]
     },
     "metadata": {},
     "output_type": "display_data"
    },
    {
     "data": {
      "text/plain": [
       "tensor([[2107.3425, 2130.5349, 2114.0601,  ..., 2020.1184, 2022.7090,\n",
       "         2105.5916],\n",
       "        [2137.5620, 2182.9021, 2167.7036,  ..., 2127.2708, 2122.3000,\n",
       "         2076.6062],\n",
       "        [1689.0184, 1648.4272, 1863.5657,  ..., 1748.5770, 1736.6586,\n",
       "         1790.3212],\n",
       "        ...,\n",
       "        [1914.8447, 1872.0178, 1868.6353,  ..., 1848.2268, 1853.6964,\n",
       "         1849.0383],\n",
       "        [1486.5215, 1456.5115, 1459.2144,  ..., 1457.6473, 1458.8131,\n",
       "         1459.5815],\n",
       "        [1732.2015, 1616.2852, 1694.8691,  ..., 1653.7833, 1636.3744,\n",
       "         1613.7365]], device='cuda:0', grad_fn=<AddmmBackward0>)"
      ]
     },
     "metadata": {},
     "output_type": "display_data"
    },
    {
     "data": {
      "text/plain": [
       "tensor([[1479.5952, 1506.9386, 1514.7375,  ..., 1483.7203, 1483.7457,\n",
       "         1499.3940],\n",
       "        [2664.5393, 2824.4995, 2580.7781,  ..., 2455.5845, 2744.2800,\n",
       "         2697.3757],\n",
       "        [1580.0493, 1463.8774, 1559.3832,  ..., 1520.1310, 1625.8682,\n",
       "         1602.4406],\n",
       "        ...,\n",
       "        [1331.5137, 1320.2275, 1319.6527,  ..., 1373.0337, 1353.8844,\n",
       "         1315.5422],\n",
       "        [ 707.3536,  700.0699,  704.8507,  ...,  693.8286,  686.3621,\n",
       "          694.7187],\n",
       "        [1763.8209, 1760.0796, 1835.8356,  ..., 1805.4150, 1832.7584,\n",
       "         1796.1600]], device='cuda:0', grad_fn=<AddmmBackward0>)"
      ]
     },
     "metadata": {},
     "output_type": "display_data"
    },
    {
     "data": {
      "text/plain": [
       "tensor([[2037.2028, 2096.1897, 2134.8120,  ..., 2065.3342, 2157.0701,\n",
       "         2157.3726],\n",
       "        [1854.2961, 1982.8818, 1856.8910,  ..., 1970.5785, 1935.5875,\n",
       "         1975.5250],\n",
       "        [1597.0027, 1553.3688, 1554.6400,  ..., 1539.5177, 1579.1558,\n",
       "         1561.7480],\n",
       "        ...,\n",
       "        [2400.8369, 2438.5259, 2366.4121,  ..., 2419.7639, 2360.4697,\n",
       "         2335.0068],\n",
       "        [1214.7021, 1224.4198, 1229.2555,  ..., 1251.4210, 1229.9800,\n",
       "         1225.7371],\n",
       "        [2226.1597, 2207.0654, 2180.6360,  ..., 2142.7751, 2207.2258,\n",
       "         2185.3005]], device='cuda:0', grad_fn=<AddmmBackward0>)"
      ]
     },
     "metadata": {},
     "output_type": "display_data"
    },
    {
     "data": {
      "text/plain": [
       "tensor([[1868.7369, 1873.5601, 1887.3260,  ..., 1864.2803, 1896.8844,\n",
       "         1881.1304],\n",
       "        [2087.9165, 2166.6177, 2095.2983,  ..., 2109.5212, 2092.3376,\n",
       "         2070.6284],\n",
       "        [1359.0184, 1340.6354, 1380.0349,  ..., 1342.9099, 1374.8175,\n",
       "         1378.8326],\n",
       "        ...,\n",
       "        [1724.1152, 1705.8203, 1784.0461,  ..., 1745.8402, 1751.2682,\n",
       "         1703.0203],\n",
       "        [1837.2418, 1826.3859, 1855.6099,  ..., 1845.1812, 1835.5275,\n",
       "         1840.9036],\n",
       "        [ 923.4854,  959.2271,  944.0197,  ...,  923.3012,  914.5751,\n",
       "          923.0326]], device='cuda:0', grad_fn=<AddmmBackward0>)"
      ]
     },
     "metadata": {},
     "output_type": "display_data"
    },
    {
     "data": {
      "text/plain": [
       "tensor([[1570.6476, 1569.0533, 1585.0023,  ..., 1574.4940, 1606.5238,\n",
       "         1610.3383],\n",
       "        [2348.2021, 2331.0916, 2353.8237,  ..., 2372.1096, 2314.0459,\n",
       "         2338.7710],\n",
       "        [2831.3633, 2757.9832, 2766.7195,  ..., 2789.8218, 2802.2063,\n",
       "         2709.8035],\n",
       "        ...,\n",
       "        [1803.7180, 1880.9093, 1810.0817,  ..., 1825.5621, 1793.8718,\n",
       "         1825.9347],\n",
       "        [1073.5508, 1041.5815, 1025.1779,  ..., 1032.9907, 1029.1694,\n",
       "         1031.8275],\n",
       "        [1961.1359, 1991.2936, 1991.3822,  ..., 2019.6169, 1944.0651,\n",
       "         1974.9501]], device='cuda:0', grad_fn=<AddmmBackward0>)"
      ]
     },
     "metadata": {},
     "output_type": "display_data"
    },
    {
     "data": {
      "text/plain": [
       "tensor([[1378.4451, 1359.7397, 1360.1228,  ..., 1373.1868, 1330.6427,\n",
       "         1380.8890],\n",
       "        [2762.1135, 2643.7119, 2767.3650,  ..., 2614.3926, 2762.0103,\n",
       "         2714.0325],\n",
       "        [1403.8307, 1459.0564, 1380.7598,  ..., 1379.5840, 1456.8097,\n",
       "         1405.5530],\n",
       "        ...,\n",
       "        [2204.6060, 2125.6479, 2315.3110,  ..., 2245.7456, 2173.8594,\n",
       "         2239.1104],\n",
       "        [1563.6530, 1582.3230, 1527.3687,  ..., 1502.3292, 1605.5087,\n",
       "         1594.9913],\n",
       "        [1968.9517, 1980.5198, 2176.0325,  ..., 2048.7603, 2054.2791,\n",
       "         2043.4061]], device='cuda:0', grad_fn=<AddmmBackward0>)"
      ]
     },
     "metadata": {},
     "output_type": "display_data"
    },
    {
     "data": {
      "text/plain": [
       "tensor([[1754.4236, 1748.4059, 1742.8821,  ..., 1758.1512, 1726.2872,\n",
       "         1701.7576],\n",
       "        [2984.1230, 2826.3477, 3104.6074,  ..., 3006.1267, 3009.1826,\n",
       "         2976.4836],\n",
       "        [1346.6470, 1350.4222, 1344.5580,  ..., 1388.9712, 1306.3262,\n",
       "         1298.5298],\n",
       "        ...,\n",
       "        [1981.9609, 1942.0955, 1839.2092,  ..., 1888.9580, 1915.9395,\n",
       "         1835.0483],\n",
       "        [2033.3127, 1946.5447, 1967.9271,  ..., 1976.0345, 1969.5770,\n",
       "         1971.0010],\n",
       "        [1813.9170, 1807.3549, 1902.4902,  ..., 1902.8053, 1955.1606,\n",
       "         1890.8368]], device='cuda:0', grad_fn=<AddmmBackward0>)"
      ]
     },
     "metadata": {},
     "output_type": "display_data"
    },
    {
     "data": {
      "text/plain": [
       "tensor([[1839.7692, 1855.4753, 1876.0109,  ..., 1874.3293, 1858.1234,\n",
       "         1863.5719],\n",
       "        [2047.8907, 2002.6898, 2012.0632,  ..., 1991.5073, 2070.6458,\n",
       "         2053.7881],\n",
       "        [1808.0479, 1788.8701, 1765.2156,  ..., 1730.2576, 1807.3038,\n",
       "         1719.8645],\n",
       "        ...,\n",
       "        [1338.1465, 1387.4502, 1351.6134,  ..., 1359.1401, 1337.7511,\n",
       "         1398.8622],\n",
       "        [1087.5588, 1075.9410, 1107.8379,  ..., 1148.5974, 1073.0912,\n",
       "         1090.6919],\n",
       "        [2230.0676, 2214.2546, 2209.9775,  ..., 2182.4048, 2198.9326,\n",
       "         2178.4702]], device='cuda:0', grad_fn=<AddmmBackward0>)"
      ]
     },
     "metadata": {},
     "output_type": "display_data"
    },
    {
     "data": {
      "text/plain": [
       "tensor([[1795.3435, 1707.0259, 1767.2228,  ..., 1769.5612, 1758.6440,\n",
       "         1771.3014],\n",
       "        [1473.0317, 1414.7389, 1492.6139,  ..., 1500.5167, 1506.7664,\n",
       "         1462.7739],\n",
       "        [3153.7913, 2982.4641, 3152.2974,  ..., 3073.6130, 3115.1038,\n",
       "         2998.5686],\n",
       "        ...,\n",
       "        [1379.3730, 1362.3066, 1399.5006,  ..., 1389.1652, 1368.8091,\n",
       "         1364.5808],\n",
       "        [2236.7041, 2167.4814, 2227.9087,  ..., 2220.0913, 2261.3306,\n",
       "         2198.6680],\n",
       "        [2356.7183, 2321.8000, 1968.0752,  ..., 2115.9729, 2287.8103,\n",
       "         2317.1797]], device='cuda:0', grad_fn=<AddmmBackward0>)"
      ]
     },
     "metadata": {},
     "output_type": "display_data"
    },
    {
     "data": {
      "text/plain": [
       "tensor([[1411.2948, 1426.5443, 1412.6273,  ..., 1398.2085, 1373.2955,\n",
       "         1407.2411],\n",
       "        [1115.2837, 1098.2218, 1127.4371,  ..., 1091.7549, 1092.3551,\n",
       "         1116.7493],\n",
       "        [ 698.9684,  717.3280,  699.7972,  ...,  677.9074,  680.6414,\n",
       "          697.3520],\n",
       "        ...,\n",
       "        [1984.7383, 1899.8444, 2033.4153,  ..., 2005.0790, 2041.4701,\n",
       "         2040.8508],\n",
       "        [1954.4756, 1899.8801, 1984.3704,  ..., 1879.0044, 1891.9050,\n",
       "         1951.0815],\n",
       "        [2204.0281, 2176.5486, 2159.8386,  ..., 2240.1113, 2271.8674,\n",
       "         2190.9270]], device='cuda:0', grad_fn=<AddmmBackward0>)"
      ]
     },
     "metadata": {},
     "output_type": "display_data"
    },
    {
     "data": {
      "text/plain": [
       "tensor([[2103.8447, 2120.3540, 2126.0701,  ..., 2090.5376, 2041.0913,\n",
       "         2039.2501],\n",
       "        [1830.5626, 1862.4827, 1670.7406,  ..., 1708.7493, 1864.7085,\n",
       "         1797.3712],\n",
       "        [1247.3043, 1245.2460, 1311.0286,  ..., 1298.5111, 1256.8669,\n",
       "         1272.6246],\n",
       "        ...,\n",
       "        [1092.7804, 1074.9514, 1100.9031,  ..., 1076.5659, 1084.5730,\n",
       "         1088.9207],\n",
       "        [2286.5408, 2312.8564, 2360.8848,  ..., 2332.5359, 2265.4404,\n",
       "         2340.9583],\n",
       "        [1973.9651, 1968.2361, 2021.8250,  ..., 1945.8719, 1975.0225,\n",
       "         2009.6874]], device='cuda:0', grad_fn=<AddmmBackward0>)"
      ]
     },
     "metadata": {},
     "output_type": "display_data"
    },
    {
     "data": {
      "text/plain": [
       "tensor([[1592.6202, 1578.9213, 1573.1885,  ..., 1547.6063, 1581.1484,\n",
       "         1585.2377],\n",
       "        [1292.0453, 1323.8152, 1264.1422,  ..., 1296.7723, 1263.8187,\n",
       "         1269.8391],\n",
       "        [2189.1863, 2255.4177, 2319.2793,  ..., 2249.0308, 2297.4092,\n",
       "         2225.2075],\n",
       "        ...,\n",
       "        [1594.7225, 1722.1921, 1643.4745,  ..., 1426.7450, 1520.9408,\n",
       "         1737.1187],\n",
       "        [1790.2981, 1832.8759, 1785.3114,  ..., 1813.3749, 1768.9064,\n",
       "         1834.8010],\n",
       "        [ 805.5637,  833.9741,  818.6766,  ...,  783.5058,  847.7832,\n",
       "          902.5039]], device='cuda:0', grad_fn=<AddmmBackward0>)"
      ]
     },
     "metadata": {},
     "output_type": "display_data"
    },
    {
     "data": {
      "text/plain": [
       "tensor([[1105.9459, 1105.0126, 1132.3557,  ..., 1111.6766, 1102.6184,\n",
       "         1118.8302],\n",
       "        [2678.7292, 2612.3147, 2818.5376,  ..., 2736.2083, 2728.3792,\n",
       "         2808.2664],\n",
       "        [ 681.5656,  688.4368,  655.0695,  ...,  630.6342,  743.8154,\n",
       "          709.5190],\n",
       "        ...,\n",
       "        [2075.0608, 1934.7521, 2107.4138,  ..., 2035.7675, 2075.9954,\n",
       "         2057.8215],\n",
       "        [2837.9395, 2750.3850, 2809.6465,  ..., 2730.7231, 2933.0369,\n",
       "         2804.6838],\n",
       "        [1087.0878, 1080.3495, 1098.8621,  ..., 1047.5956, 1039.3027,\n",
       "         1076.5504]], device='cuda:0', grad_fn=<AddmmBackward0>)"
      ]
     },
     "metadata": {},
     "output_type": "display_data"
    },
    {
     "data": {
      "text/plain": [
       "tensor([[1815.5713, 1837.8262, 1852.8021,  ..., 1854.9709, 1814.8115,\n",
       "         1828.1808],\n",
       "        [2010.8163, 1997.7523, 2064.4814,  ..., 2073.3174, 2051.6462,\n",
       "         2076.7849],\n",
       "        [2172.1523, 2187.8611, 2148.1597,  ..., 2155.6575, 2173.1799,\n",
       "         2101.6506],\n",
       "        ...,\n",
       "        [2221.7629, 2176.2324, 2098.2568,  ..., 2188.5496, 2095.5674,\n",
       "         2189.3210],\n",
       "        [2193.2561, 2127.4377, 2212.1309,  ..., 2191.8521, 2358.4216,\n",
       "         2235.9929],\n",
       "        [1886.4468, 1889.8120, 1855.9818,  ..., 1790.1396, 1920.1155,\n",
       "         1872.6779]], device='cuda:0', grad_fn=<AddmmBackward0>)"
      ]
     },
     "metadata": {},
     "output_type": "display_data"
    },
    {
     "data": {
      "text/plain": [
       "tensor([[1651.4369, 1616.7635, 1674.1001,  ..., 1668.9594, 1734.7322,\n",
       "         1666.8011],\n",
       "        [1383.1232, 1430.2728, 1415.6881,  ..., 1460.4664, 1445.7377,\n",
       "         1409.7673],\n",
       "        [3688.4006, 3578.5029, 3774.6111,  ..., 3698.5156, 3578.3643,\n",
       "         3641.1636],\n",
       "        ...,\n",
       "        [1456.5411, 1552.9071, 1344.3708,  ..., 1533.5380, 1374.9827,\n",
       "         1482.1904],\n",
       "        [2129.2126, 2010.3217, 2136.3779,  ..., 2051.6609, 2066.3669,\n",
       "         2073.4417],\n",
       "        [1431.7300, 1430.7094, 1355.2073,  ..., 1405.3722, 1411.0841,\n",
       "         1419.0822]], device='cuda:0', grad_fn=<AddmmBackward0>)"
      ]
     },
     "metadata": {},
     "output_type": "display_data"
    },
    {
     "data": {
      "text/plain": [
       "tensor([[2672.0071, 2717.7900, 2535.9563,  ..., 2564.7134, 2579.6089,\n",
       "         2568.4065],\n",
       "        [2150.5449, 2159.2949, 2110.2454,  ..., 2088.4402, 2064.6104,\n",
       "         2071.4302],\n",
       "        [2166.3716, 2230.2097, 2197.4858,  ..., 2185.2642, 2195.2212,\n",
       "         2147.1025],\n",
       "        ...,\n",
       "        [ 607.7396,  595.1918,  735.4625,  ...,  611.8262,  776.4114,\n",
       "          710.2292],\n",
       "        [1915.5632, 1790.9822, 1968.9099,  ..., 2005.5687, 2086.1328,\n",
       "         1999.5890],\n",
       "        [1206.8013, 1267.6533, 1231.4771,  ..., 1115.3253, 1283.4650,\n",
       "         1225.9401]], device='cuda:0', grad_fn=<AddmmBackward0>)"
      ]
     },
     "metadata": {},
     "output_type": "display_data"
    },
    {
     "data": {
      "text/plain": [
       "tensor([[2601.8352, 2674.4775, 2683.3342,  ..., 2654.5022, 2739.0168,\n",
       "         2622.7004],\n",
       "        [1357.5409, 1302.2867, 1306.3370,  ..., 1317.6969, 1278.3729,\n",
       "         1333.1498],\n",
       "        [1253.0538, 1259.8937, 1266.4232,  ..., 1261.7461, 1259.9795,\n",
       "         1241.6998],\n",
       "        ...,\n",
       "        [2299.3232, 2315.5872, 2345.5127,  ..., 2183.8967, 2334.8669,\n",
       "         2261.9148],\n",
       "        [1831.5837, 1869.1371, 1813.5148,  ..., 1805.0454, 1834.6501,\n",
       "         1832.6515],\n",
       "        [2422.7798, 2488.5171, 2473.6628,  ..., 2364.7769, 2314.3933,\n",
       "         2417.1130]], device='cuda:0', grad_fn=<AddmmBackward0>)"
      ]
     },
     "metadata": {},
     "output_type": "display_data"
    },
    {
     "data": {
      "text/plain": [
       "tensor([[1087.0879, 1154.4089, 1101.8342,  ..., 1076.7753, 1059.0616,\n",
       "         1101.5342],\n",
       "        [2853.3281, 2815.0776, 2781.4299,  ..., 2738.2371, 2756.9419,\n",
       "         2789.4180],\n",
       "        [1329.7882, 1332.6418, 1364.7515,  ..., 1352.3854, 1397.9491,\n",
       "         1358.0359],\n",
       "        ...,\n",
       "        [1884.0747, 1865.1687, 1887.0676,  ..., 1902.1099, 1886.2485,\n",
       "         1895.9403],\n",
       "        [2209.7717, 2226.4585, 2192.1121,  ..., 2174.6018, 2183.7344,\n",
       "         2194.2598],\n",
       "        [1787.9990, 1826.3823, 1823.5079,  ..., 1808.0416, 1783.8013,\n",
       "         1785.3320]], device='cuda:0', grad_fn=<AddmmBackward0>)"
      ]
     },
     "metadata": {},
     "output_type": "display_data"
    },
    {
     "data": {
      "text/plain": [
       "tensor([[1461.7765, 1455.7279, 1482.3763,  ..., 1452.1261, 1452.0629,\n",
       "         1452.3813],\n",
       "        [1425.4064, 1467.1399, 1427.3551,  ..., 1461.4586, 1393.7629,\n",
       "         1428.8928],\n",
       "        [1224.6218, 1208.2402, 1192.3821,  ..., 1214.8622, 1178.1868,\n",
       "         1213.5488],\n",
       "        ...,\n",
       "        [1696.9203, 1751.3616, 1700.2375,  ..., 1721.8423, 1702.3848,\n",
       "         1672.4927],\n",
       "        [2255.7761, 2270.6641, 2166.6479,  ..., 2217.8992, 2174.0239,\n",
       "         2227.7205],\n",
       "        [1783.2617, 1831.8756, 1820.5774,  ..., 1816.4885, 1768.6606,\n",
       "         1760.8945]], device='cuda:0', grad_fn=<AddmmBackward0>)"
      ]
     },
     "metadata": {},
     "output_type": "display_data"
    },
    {
     "data": {
      "text/plain": [
       "tensor([[1523.6742, 1564.8016, 1538.2266,  ..., 1588.0710, 1520.6370,\n",
       "         1594.6671],\n",
       "        [2198.1021, 2122.3608, 2256.6692,  ..., 2214.0908, 2247.4426,\n",
       "         2250.5645],\n",
       "        [2022.6213, 2029.1870, 2068.1851,  ..., 2087.6372, 2003.6111,\n",
       "         2035.8282],\n",
       "        ...,\n",
       "        [2581.8174, 2650.0681, 2842.5049,  ..., 2629.5574, 2824.4861,\n",
       "         2680.8682],\n",
       "        [2105.3267, 2087.4070, 2068.0486,  ..., 2056.3672, 2147.2690,\n",
       "         2167.4839],\n",
       "        [1166.1930, 1144.9143, 1188.7257,  ..., 1169.0544, 1129.0244,\n",
       "         1164.2422]], device='cuda:0', grad_fn=<AddmmBackward0>)"
      ]
     },
     "metadata": {},
     "output_type": "display_data"
    },
    {
     "data": {
      "text/plain": [
       "tensor([[1781.7213, 1861.5730, 1677.2803,  ..., 1792.0537, 1667.1305,\n",
       "         1689.8224],\n",
       "        [2743.0964, 2748.4207, 2825.1335,  ..., 2840.3723, 2805.3240,\n",
       "         2759.3655],\n",
       "        [2757.1985, 2753.6565, 2795.6582,  ..., 2796.4773, 2814.6626,\n",
       "         2789.8352],\n",
       "        ...,\n",
       "        [2624.2065, 2606.5793, 2528.0984,  ..., 2451.7061, 2452.2180,\n",
       "         2403.8611],\n",
       "        [2466.3022, 2492.2544, 2512.7510,  ..., 2526.6575, 2524.9355,\n",
       "         2527.9348],\n",
       "        [ 726.7589,  717.2082,  718.6900,  ...,  713.9320,  681.3117,\n",
       "          707.0832]], device='cuda:0', grad_fn=<AddmmBackward0>)"
      ]
     },
     "metadata": {},
     "output_type": "display_data"
    },
    {
     "data": {
      "text/plain": [
       "tensor([[1897.0441, 1898.0325, 1931.8718,  ..., 1874.9673, 1977.6202,\n",
       "         1894.9966],\n",
       "        [2036.7791, 1930.8708, 2045.0452,  ..., 1927.1678, 1977.2595,\n",
       "         2047.1958],\n",
       "        [2402.0693, 2389.7905, 2497.8887,  ..., 2567.5640, 2577.3445,\n",
       "         2578.4236],\n",
       "        ...,\n",
       "        [2118.9622, 2161.1633, 2123.1245,  ..., 2063.4285, 2062.4524,\n",
       "         2052.0627],\n",
       "        [1422.2886, 1429.0906, 1403.5312,  ..., 1426.7902, 1428.0880,\n",
       "         1409.6919],\n",
       "        [1060.0352, 1090.8599, 1131.0642,  ..., 1084.6195, 1235.7430,\n",
       "         1139.7014]], device='cuda:0', grad_fn=<AddmmBackward0>)"
      ]
     },
     "metadata": {},
     "output_type": "display_data"
    },
    {
     "data": {
      "text/plain": [
       "tensor([[1685.4076, 1786.6515, 1792.8335,  ..., 1761.2256, 1708.7681,\n",
       "         1765.0129],\n",
       "        [1450.7228, 1466.9368, 1472.1841,  ..., 1461.9294, 1420.9500,\n",
       "         1427.0830],\n",
       "        [2411.4885, 2381.4421, 2421.5647,  ..., 2405.4993, 2350.0007,\n",
       "         2346.0007],\n",
       "        ...,\n",
       "        [2346.8057, 2286.7314, 2408.2542,  ..., 2397.9648, 2477.7686,\n",
       "         2480.4448],\n",
       "        [1970.2358, 2159.7817, 1961.3605,  ..., 1913.1438, 1913.7043,\n",
       "         2027.8574],\n",
       "        [1612.7769, 1608.4727, 1633.6108,  ..., 1607.0305, 1615.7623,\n",
       "         1607.5900]], device='cuda:0', grad_fn=<AddmmBackward0>)"
      ]
     },
     "metadata": {},
     "output_type": "display_data"
    },
    {
     "data": {
      "text/plain": [
       "tensor([[1496.9906, 1487.0059, 1500.7086,  ..., 1473.1418, 1473.6216,\n",
       "         1491.8508],\n",
       "        [3034.7239, 2805.7773, 2827.6648,  ..., 2908.0527, 2832.3406,\n",
       "         2962.3257],\n",
       "        [1479.9872, 1486.2976, 1439.1538,  ..., 1478.3010, 1460.5690,\n",
       "         1459.3099],\n",
       "        ...,\n",
       "        [1279.4069, 1323.8562, 1257.5181,  ..., 1274.8701, 1272.6340,\n",
       "         1274.7850],\n",
       "        [1476.7356, 1454.6711, 1432.2628,  ..., 1438.1581, 1439.2368,\n",
       "         1456.8385],\n",
       "        [1533.0614, 1566.2803, 1447.3314,  ..., 1516.9579, 1474.8668,\n",
       "         1528.1951]], device='cuda:0', grad_fn=<AddmmBackward0>)"
      ]
     },
     "metadata": {},
     "output_type": "display_data"
    },
    {
     "data": {
      "text/plain": [
       "tensor([[1060.9185, 1044.1674, 1067.0840,  ..., 1063.2974, 1051.2495,\n",
       "         1051.5125],\n",
       "        [1547.7617, 1580.4727, 1570.7054,  ..., 1564.4425, 1523.5010,\n",
       "         1525.9109],\n",
       "        [1553.3289, 1638.6724, 1518.7789,  ..., 1665.2985, 1650.1853,\n",
       "         1541.1886],\n",
       "        ...,\n",
       "        [1537.2144, 1529.6499, 1509.4464,  ..., 1544.2285, 1479.0159,\n",
       "         1503.5990],\n",
       "        [2047.7729, 2015.0522, 2058.8960,  ..., 2055.9224, 2067.6172,\n",
       "         2057.8699],\n",
       "        [2640.4832, 2501.7024, 2583.5164,  ..., 2563.5957, 2494.8721,\n",
       "         2568.9719]], device='cuda:0', grad_fn=<AddmmBackward0>)"
      ]
     },
     "metadata": {},
     "output_type": "display_data"
    },
    {
     "data": {
      "text/plain": [
       "tensor([[3258.5403, 3174.7344, 3173.6602,  ..., 3261.9941, 3160.3499,\n",
       "         3149.6594],\n",
       "        [1963.9911, 1916.9290, 2004.4277,  ..., 1963.6183, 1948.7902,\n",
       "         1976.2755],\n",
       "        [1230.2463, 1231.3728, 1246.4323,  ..., 1231.6521, 1265.6245,\n",
       "         1236.1910],\n",
       "        ...,\n",
       "        [2253.4019, 2159.7898, 2194.4294,  ..., 2139.8447, 2186.1277,\n",
       "         2195.4727],\n",
       "        [1227.0858, 1241.6727, 1295.0884,  ..., 1187.4290, 1250.2723,\n",
       "         1246.9347],\n",
       "        [1530.9907, 1525.2791, 1504.3390,  ..., 1510.4265, 1509.7405,\n",
       "         1520.3436]], device='cuda:0', grad_fn=<AddmmBackward0>)"
      ]
     },
     "metadata": {},
     "output_type": "display_data"
    },
    {
     "data": {
      "text/plain": [
       "tensor([[3162.3435, 3127.8040, 3073.2620,  ..., 3040.3936, 3130.8640,\n",
       "         3127.9888],\n",
       "        [1253.7327, 1273.3555, 1278.6044,  ..., 1253.7239, 1365.0793,\n",
       "         1260.0807],\n",
       "        [1841.3496, 1819.1533, 1944.1847,  ..., 1878.8719, 1864.5216,\n",
       "         1882.4396],\n",
       "        ...,\n",
       "        [1581.7725, 1624.2534, 1547.5597,  ..., 1555.4688, 1449.3323,\n",
       "         1553.1792],\n",
       "        [1122.8551, 1119.5144, 1098.6483,  ..., 1095.2600, 1074.6305,\n",
       "         1086.5499],\n",
       "        [1467.8104, 1451.5933, 1424.5764,  ..., 1433.4788, 1419.9611,\n",
       "         1455.7847]], device='cuda:0', grad_fn=<AddmmBackward0>)"
      ]
     },
     "metadata": {},
     "output_type": "display_data"
    },
    {
     "data": {
      "text/plain": [
       "tensor([[1693.2089, 1686.2112, 1690.2028,  ..., 1734.6960, 1665.9819,\n",
       "         1701.2100],\n",
       "        [2161.0581, 2123.6355, 2137.2063,  ..., 2153.8440, 2116.2756,\n",
       "         2166.7092],\n",
       "        [2082.8325, 2107.3887, 2031.7197,  ..., 2051.4785, 2026.7391,\n",
       "         2010.3870],\n",
       "        ...,\n",
       "        [1466.0247, 1454.7765, 1485.3842,  ..., 1477.9008, 1458.1676,\n",
       "         1490.9312],\n",
       "        [3045.3921, 3007.2148, 2931.1067,  ..., 3028.3777, 2962.8235,\n",
       "         2908.3489],\n",
       "        [2770.2935, 2844.9846, 2746.2200,  ..., 2841.7231, 2808.1233,\n",
       "         2783.1072]], device='cuda:0', grad_fn=<AddmmBackward0>)"
      ]
     },
     "metadata": {},
     "output_type": "display_data"
    },
    {
     "data": {
      "text/plain": [
       "tensor([[1666.3654, 1631.6487, 1657.7162,  ..., 1670.2427, 1648.4260,\n",
       "         1659.8960],\n",
       "        [2742.5264, 2716.4045, 2675.4705,  ..., 2598.9758, 2676.5522,\n",
       "         2769.0356],\n",
       "        [1856.8978, 1846.9712, 1901.0278,  ..., 1887.4672, 1813.0525,\n",
       "         1890.0853],\n",
       "        ...,\n",
       "        [1993.2745, 1997.0161, 1944.3335,  ..., 1994.5184, 1959.9716,\n",
       "         1962.0498],\n",
       "        [1930.8698, 1890.7479, 2108.4102,  ..., 1989.3447, 2195.4795,\n",
       "         2038.6123],\n",
       "        [1403.3055, 1389.7805, 1454.4819,  ..., 1401.7998, 1389.9895,\n",
       "         1368.8420]], device='cuda:0', grad_fn=<AddmmBackward0>)"
      ]
     },
     "metadata": {},
     "output_type": "display_data"
    },
    {
     "data": {
      "text/plain": [
       "tensor([[2945.4915, 2862.6260, 2988.9575,  ..., 3096.0693, 3078.9124,\n",
       "         2975.1379],\n",
       "        [2218.1294, 2163.1460, 2235.5071,  ..., 2226.8789, 2141.4348,\n",
       "         2223.9939],\n",
       "        [1413.1111, 1400.2018, 1404.7201,  ..., 1428.8555, 1371.8198,\n",
       "         1411.1747],\n",
       "        ...,\n",
       "        [2148.3862, 2155.8042, 2095.4280,  ..., 2130.8779, 2085.5168,\n",
       "         2085.2515],\n",
       "        [1358.8549, 1384.9399, 1368.3511,  ..., 1399.1227, 1348.8649,\n",
       "         1379.0532],\n",
       "        [1780.9205, 1790.5430, 1792.3636,  ..., 1738.6188, 1791.4146,\n",
       "         1805.3801]], device='cuda:0', grad_fn=<AddmmBackward0>)"
      ]
     },
     "metadata": {},
     "output_type": "display_data"
    },
    {
     "data": {
      "text/plain": [
       "tensor([[1731.6844, 1747.6411, 1763.8702,  ..., 1754.8540, 1745.6176,\n",
       "         1745.3336],\n",
       "        [1335.9620, 1315.7727, 1373.3380,  ..., 1380.1873, 1371.7649,\n",
       "         1361.6965],\n",
       "        [1863.5016, 1879.8035, 1854.5865,  ..., 1876.0861, 1831.5872,\n",
       "         1846.2250],\n",
       "        ...,\n",
       "        [1119.6713, 1109.4999, 1100.8130,  ..., 1114.1873, 1096.6396,\n",
       "         1083.1816],\n",
       "        [1357.0531, 1344.9434, 1318.9572,  ..., 1353.9548, 1336.3494,\n",
       "         1343.1008],\n",
       "        [ 787.8032,  762.0030,  758.7798,  ...,  737.8152,  751.0466,\n",
       "          765.6190]], device='cuda:0', grad_fn=<AddmmBackward0>)"
      ]
     },
     "metadata": {},
     "output_type": "display_data"
    },
    {
     "data": {
      "text/plain": [
       "tensor([[1180.3231, 1169.7686, 1156.3468,  ..., 1181.0475, 1139.9347,\n",
       "         1165.3066],\n",
       "        [1915.8035, 1805.1514, 1927.1403,  ..., 1843.9468, 1707.8591,\n",
       "         1848.8225],\n",
       "        [2341.4199, 2350.1755, 2392.5686,  ..., 2425.1333, 2406.9292,\n",
       "         2361.4558],\n",
       "        ...,\n",
       "        [3086.8467, 3125.1821, 3014.9390,  ..., 3190.4692, 3101.1204,\n",
       "         3079.7427],\n",
       "        [2246.9031, 2166.7212, 2153.3684,  ..., 2212.1750, 2136.5735,\n",
       "         2255.3157],\n",
       "        [1473.2987, 1449.9312, 1453.8839,  ..., 1489.9391, 1436.6615,\n",
       "         1448.9220]], device='cuda:0', grad_fn=<AddmmBackward0>)"
      ]
     },
     "metadata": {},
     "output_type": "display_data"
    },
    {
     "data": {
      "text/plain": [
       "tensor([[2000.3699, 1967.8600, 2018.5238,  ..., 2040.1163, 1977.6384,\n",
       "         2014.6249],\n",
       "        [1764.6136, 1832.7241, 1848.3898,  ..., 1772.1080, 1951.9058,\n",
       "         1871.3785],\n",
       "        [1260.3256, 1268.4304, 1257.8870,  ..., 1277.2234, 1249.5244,\n",
       "         1259.1473],\n",
       "        ...,\n",
       "        [2386.4182, 2361.7053, 2356.4634,  ..., 2375.7419, 2330.6106,\n",
       "         2360.2598],\n",
       "        [ 808.4480,  801.8875,  848.0617,  ...,  886.3174,  878.4333,\n",
       "          906.6315],\n",
       "        [1882.3375, 1876.2662, 1860.3307,  ..., 1885.1304, 1861.6726,\n",
       "         1861.7555]], device='cuda:0', grad_fn=<AddmmBackward0>)"
      ]
     },
     "metadata": {},
     "output_type": "display_data"
    },
    {
     "data": {
      "text/plain": [
       "tensor([[1463.9331, 1425.4156, 1369.9479,  ..., 1416.6978, 1410.6538,\n",
       "         1401.0343],\n",
       "        [1385.2476, 1374.3896, 1380.5961,  ..., 1406.9728, 1389.2628,\n",
       "         1385.2222],\n",
       "        [1998.3296, 1895.0461, 1839.8727,  ..., 1963.9337, 1857.3793,\n",
       "         1876.2549],\n",
       "        ...,\n",
       "        [ 785.4647,  817.8141,  786.9467,  ...,  802.6859,  806.0886,\n",
       "          791.5335],\n",
       "        [1769.6715, 1707.3802, 1757.8994,  ..., 1806.5919, 1735.9333,\n",
       "         1741.2390],\n",
       "        [1764.2753, 1763.6040, 1879.2268,  ..., 1804.4066, 1949.0878,\n",
       "         1849.9476]], device='cuda:0', grad_fn=<AddmmBackward0>)"
      ]
     },
     "metadata": {},
     "output_type": "display_data"
    },
    {
     "data": {
      "text/plain": [
       "tensor([[1356.4139, 1352.9003, 1370.2289,  ..., 1328.8422, 1328.1738,\n",
       "         1375.5706],\n",
       "        [1194.1484, 1135.5363, 1181.1445,  ..., 1213.7886, 1171.4738,\n",
       "         1205.7954],\n",
       "        [1529.1860, 1525.3363, 1558.8198,  ..., 1534.7710, 1555.0078,\n",
       "         1541.8152],\n",
       "        ...,\n",
       "        [1689.5966, 1707.2334, 1723.1832,  ..., 1746.6696, 1709.1642,\n",
       "         1733.0703],\n",
       "        [4461.8237, 4575.2358, 4361.4731,  ..., 4406.3462, 4312.2500,\n",
       "         4510.4404],\n",
       "        [1012.7737,  992.0328, 1002.1475,  ..., 1001.0095,  985.2493,\n",
       "          976.8813]], device='cuda:0', grad_fn=<AddmmBackward0>)"
      ]
     },
     "metadata": {},
     "output_type": "display_data"
    },
    {
     "data": {
      "text/plain": [
       "tensor([[1870.3641, 1835.7350, 1860.6171,  ..., 1770.5768, 1824.2218,\n",
       "         1898.3293],\n",
       "        [1979.2250, 1925.9269, 2001.1180,  ..., 1969.7825, 1962.8945,\n",
       "         2017.2899],\n",
       "        [2571.2708, 2836.0962, 2494.5327,  ..., 2517.6038, 2811.8271,\n",
       "         2644.0203],\n",
       "        ...,\n",
       "        [1917.5201, 1887.9426, 1813.0464,  ..., 1878.0336, 1819.8987,\n",
       "         1779.3464],\n",
       "        [1680.2050, 1692.7308, 1774.1418,  ..., 1763.0020, 1668.3571,\n",
       "         1761.0332],\n",
       "        [1351.8890, 1388.7814, 1552.7627,  ..., 1437.6826, 1625.8693,\n",
       "         1549.3640]], device='cuda:0', grad_fn=<AddmmBackward0>)"
      ]
     },
     "metadata": {},
     "output_type": "display_data"
    },
    {
     "data": {
      "text/plain": [
       "tensor([[1762.2491, 1822.6597, 1779.6350,  ..., 1797.8218, 1744.2825,\n",
       "         1764.2539],\n",
       "        [1770.9279, 1686.2542, 1770.3152,  ..., 1783.4827, 1775.2000,\n",
       "         1762.9019],\n",
       "        [1657.8309, 1656.4309, 1645.4053,  ..., 1659.7822, 1630.6370,\n",
       "         1668.5410],\n",
       "        ...,\n",
       "        [1757.8844, 1698.0139, 1753.0269,  ..., 1777.6089, 1738.8768,\n",
       "         1741.1399],\n",
       "        [1664.8204, 1584.4219, 1677.1917,  ..., 1708.4882, 1664.4431,\n",
       "         1649.4258],\n",
       "        [1978.4807, 1998.4148, 2024.9929,  ..., 2091.7146, 2087.4626,\n",
       "         1983.7432]], device='cuda:0', grad_fn=<AddmmBackward0>)"
      ]
     },
     "metadata": {},
     "output_type": "display_data"
    },
    {
     "data": {
      "text/plain": [
       "tensor([[1371.5278, 1353.6621, 1358.3334,  ..., 1385.3116, 1381.5138,\n",
       "         1383.3850],\n",
       "        [1545.4707, 1542.9270, 1550.4722,  ..., 1568.2018, 1541.8304,\n",
       "         1538.5803],\n",
       "        [2036.5225, 2072.2195, 2037.7850,  ..., 2029.3425, 1970.6664,\n",
       "         2020.5193],\n",
       "        ...,\n",
       "        [2414.0894, 2421.3865, 2536.5085,  ..., 2532.6458, 2468.0813,\n",
       "         2524.8743],\n",
       "        [3799.0645, 3703.6243, 3717.4468,  ..., 3587.3728, 3551.0637,\n",
       "         3454.6731],\n",
       "        [1817.3020, 1810.7479, 1828.7893,  ..., 1823.6290, 1891.3607,\n",
       "         1837.2687]], device='cuda:0', grad_fn=<AddmmBackward0>)"
      ]
     },
     "metadata": {},
     "output_type": "display_data"
    },
    {
     "data": {
      "text/plain": [
       "tensor([[1646.9419, 1650.5074, 1644.9478,  ..., 1646.7917, 1669.3408,\n",
       "         1636.6543],\n",
       "        [1587.8763, 1559.2275, 1541.1930,  ..., 1549.1184, 1522.6797,\n",
       "         1551.8745],\n",
       "        [1992.8378, 2046.0448, 2059.1921,  ..., 2085.1951, 2112.1748,\n",
       "         2125.5527],\n",
       "        ...,\n",
       "        [1587.1838, 1488.4614, 1533.4224,  ..., 1543.5085, 1532.5514,\n",
       "         1552.2927],\n",
       "        [1554.1222, 1555.1315, 1566.9041,  ..., 1594.5344, 1533.0483,\n",
       "         1544.4506],\n",
       "        [2117.4871, 2010.8256, 2117.3096,  ..., 2126.4133, 2072.9309,\n",
       "         2083.6714]], device='cuda:0', grad_fn=<AddmmBackward0>)"
      ]
     },
     "metadata": {},
     "output_type": "display_data"
    },
    {
     "data": {
      "text/plain": [
       "tensor([[2592.9993, 2734.4880, 2634.5618,  ..., 2676.7446, 2529.6985,\n",
       "         2619.8213],\n",
       "        [1721.5432, 1660.2162, 1691.7540,  ..., 1715.9954, 1719.3082,\n",
       "         1740.6471],\n",
       "        [1901.6992, 1834.5571, 1956.7820,  ..., 1995.2998, 1915.9647,\n",
       "         1902.8038],\n",
       "        ...,\n",
       "        [1949.3737, 2133.7026, 1868.8258,  ..., 2058.7866, 1825.8030,\n",
       "         1988.9480],\n",
       "        [3153.7070, 3353.3445, 3192.5039,  ..., 3452.0190, 2943.6050,\n",
       "         3377.3928],\n",
       "        [1568.0347, 1581.4452, 1539.1613,  ..., 1556.7416, 1537.7238,\n",
       "         1550.4982]], device='cuda:0', grad_fn=<AddmmBackward0>)"
      ]
     },
     "metadata": {},
     "output_type": "display_data"
    },
    {
     "data": {
      "text/plain": [
       "tensor([[1024.1943, 1039.1831, 1004.9268,  ..., 1010.1237,  991.4802,\n",
       "         1005.0167],\n",
       "        [ 895.4998,  889.1318,  921.7535,  ...,  904.2162,  935.7056,\n",
       "          901.9680],\n",
       "        [1553.4655, 1511.8297, 1558.7963,  ..., 1575.6262, 1536.3159,\n",
       "         1548.3481],\n",
       "        ...,\n",
       "        [1353.6906, 1352.6050, 1351.2662,  ..., 1351.4205, 1356.5771,\n",
       "         1337.8323],\n",
       "        [1229.3243, 1215.2455, 1215.5127,  ..., 1219.7059, 1181.0092,\n",
       "         1200.6589],\n",
       "        [1495.5009, 1491.8761, 1500.5782,  ..., 1487.1790, 1455.7925,\n",
       "         1495.1469]], device='cuda:0', grad_fn=<AddmmBackward0>)"
      ]
     },
     "metadata": {},
     "output_type": "display_data"
    },
    {
     "data": {
      "text/plain": [
       "tensor([[1650.5134, 1621.2908, 1623.5359,  ..., 1584.6783, 1631.5607,\n",
       "         1531.2043],\n",
       "        [2177.5479, 2181.5725, 2180.0269,  ..., 2256.8206, 2175.9680,\n",
       "         2149.5476],\n",
       "        [1048.7789, 1037.4890, 1092.8248,  ..., 1073.4736, 1082.2325,\n",
       "         1098.8124],\n",
       "        ...,\n",
       "        [2219.1233, 2252.0715, 2215.2544,  ..., 2224.4055, 2212.7673,\n",
       "         2176.3193],\n",
       "        [ 628.1382,  652.1262,  636.0692,  ...,  641.8069,  630.7246,\n",
       "          601.0851],\n",
       "        [2103.2424, 2070.2317, 2078.7544,  ..., 2155.9822, 2075.2729,\n",
       "         2112.4316]], device='cuda:0', grad_fn=<AddmmBackward0>)"
      ]
     },
     "metadata": {},
     "output_type": "display_data"
    },
    {
     "data": {
      "text/plain": [
       "tensor([[1263.2863, 1278.2638, 1279.9026,  ..., 1242.3152, 1296.6752,\n",
       "         1314.8512],\n",
       "        [1677.0619, 1658.6707, 1654.7917,  ..., 1642.4358, 1662.3760,\n",
       "         1647.6942],\n",
       "        [2090.3118, 2046.6750, 1666.1938,  ..., 2010.3434, 1768.4398,\n",
       "         1918.4858],\n",
       "        ...,\n",
       "        [2676.3699, 2610.1340, 2841.6946,  ..., 2627.4900, 2731.2583,\n",
       "         2639.0168],\n",
       "        [2520.6379, 2418.3020, 2374.1143,  ..., 2397.1768, 2408.3159,\n",
       "         2343.6509],\n",
       "        [1484.6692, 1466.4702, 1454.1938,  ..., 1467.2605, 1460.0767,\n",
       "         1463.8737]], device='cuda:0', grad_fn=<AddmmBackward0>)"
      ]
     },
     "metadata": {},
     "output_type": "display_data"
    },
    {
     "data": {
      "text/plain": [
       "tensor([[2048.3083, 2018.5916, 2086.9028,  ..., 2023.7161, 2008.8059,\n",
       "         2070.0095],\n",
       "        [1954.2866, 1956.0511, 1924.9604,  ..., 1952.7355, 1982.3094,\n",
       "         1928.2974],\n",
       "        [2593.5610, 2606.8418, 2688.8450,  ..., 2689.6333, 2653.7305,\n",
       "         2565.9094],\n",
       "        ...,\n",
       "        [1341.3955, 1334.0248, 1321.9287,  ..., 1354.7910, 1319.7675,\n",
       "         1328.8774],\n",
       "        [1824.6859, 1804.8890, 1839.4912,  ..., 1939.3024, 1869.9128,\n",
       "         1820.7966],\n",
       "        [1882.6401, 1918.6936, 1913.1692,  ..., 1921.4865, 1929.6367,\n",
       "         1852.0975]], device='cuda:0', grad_fn=<AddmmBackward0>)"
      ]
     },
     "metadata": {},
     "output_type": "display_data"
    },
    {
     "data": {
      "text/plain": [
       "tensor([[1783.9823, 1733.8993, 1780.6055,  ..., 1750.0493, 1779.0597,\n",
       "         1744.6993],\n",
       "        [1882.1808, 1872.1250, 1910.9697,  ..., 1861.5681, 1893.2706,\n",
       "         1927.5409],\n",
       "        [1844.6655, 1855.6407, 1890.4624,  ..., 1910.4116, 1905.5778,\n",
       "         1976.0829],\n",
       "        ...,\n",
       "        [1510.5962, 1483.7555, 1523.3301,  ..., 1499.1426, 1539.8971,\n",
       "         1477.4257],\n",
       "        [ 661.8632,  687.8165,  662.7162,  ...,  670.2512,  668.5934,\n",
       "          669.0598],\n",
       "        [1784.2003, 1711.4341, 1742.7637,  ..., 1720.1785, 1737.3270,\n",
       "         1727.5852]], device='cuda:0', grad_fn=<AddmmBackward0>)"
      ]
     },
     "metadata": {},
     "output_type": "display_data"
    },
    {
     "data": {
      "text/plain": [
       "tensor([[1476.4049, 1471.2034, 1486.6886,  ..., 1531.0946, 1493.5217,\n",
       "         1491.4868],\n",
       "        [2364.4734, 2365.4863, 2380.1648,  ..., 2356.9475, 2321.4265,\n",
       "         2364.0845],\n",
       "        [1743.1714, 1742.1826, 1747.0718,  ..., 1765.1895, 1722.7402,\n",
       "         1701.7637],\n",
       "        ...,\n",
       "        [1552.2424, 1516.2572, 1565.7876,  ..., 1551.5594, 1585.4771,\n",
       "         1553.3420],\n",
       "        [1350.0027, 1343.7522, 1340.8726,  ..., 1351.6528, 1316.1642,\n",
       "         1330.8647],\n",
       "        [1624.8914, 1598.1426, 1561.0648,  ..., 1597.1549, 1572.0613,\n",
       "         1580.4255]], device='cuda:0', grad_fn=<AddmmBackward0>)"
      ]
     },
     "metadata": {},
     "output_type": "display_data"
    },
    {
     "data": {
      "text/plain": [
       "tensor([[2310.2112, 2392.1863, 2310.7139,  ..., 2351.1475, 2308.7620,\n",
       "         2282.3643],\n",
       "        [2423.9829, 2468.0515, 2489.7659,  ..., 2459.4294, 2417.2390,\n",
       "         2417.9639],\n",
       "        [2115.5627, 2145.5076, 2106.2065,  ..., 2114.5085, 2127.0071,\n",
       "         2140.5593],\n",
       "        ...,\n",
       "        [1394.5370, 1396.0009, 1420.8121,  ..., 1442.4943, 1427.6993,\n",
       "         1405.6787],\n",
       "        [1163.0930, 1160.0660, 1164.6368,  ..., 1167.8735, 1166.4458,\n",
       "         1158.7594],\n",
       "        [2807.1475, 2952.3989, 2801.2664,  ..., 2784.7839, 2669.8806,\n",
       "         2794.5430]], device='cuda:0', grad_fn=<AddmmBackward0>)"
      ]
     },
     "metadata": {},
     "output_type": "display_data"
    },
    {
     "data": {
      "text/plain": [
       "tensor([[1593.7461, 1630.1326, 1601.6433,  ..., 1616.0149, 1568.5149,\n",
       "         1623.8188],\n",
       "        [2177.8848, 2230.6423, 2174.7739,  ..., 2207.7371, 2212.0625,\n",
       "         2119.7974],\n",
       "        [1090.4315, 1168.7826, 1101.0674,  ..., 1154.9202, 1149.4261,\n",
       "         1157.4098],\n",
       "        ...,\n",
       "        [2807.4521, 2710.3733, 2834.1655,  ..., 2885.6763, 2828.8950,\n",
       "         2848.2400],\n",
       "        [2936.3350, 2808.3879, 2983.3787,  ..., 2906.1621, 2847.2031,\n",
       "         2911.5134],\n",
       "        [2149.2373, 2189.4592, 2161.4326,  ..., 2201.6975, 2151.1907,\n",
       "         2138.4041]], device='cuda:0', grad_fn=<AddmmBackward0>)"
      ]
     },
     "metadata": {},
     "output_type": "display_data"
    },
    {
     "data": {
      "text/plain": [
       "tensor([[3134.7476, 3163.2939, 3114.8215,  ..., 3164.6230, 3213.4258,\n",
       "         3122.7908],\n",
       "        [1356.8218, 1372.0253, 1328.5680,  ..., 1352.2729, 1339.9274,\n",
       "         1351.1392],\n",
       "        [1834.7050, 1825.4088, 1911.5593,  ..., 1906.2622, 1907.9364,\n",
       "         1905.7462],\n",
       "        ...,\n",
       "        [1851.9957, 1784.8953, 1903.3119,  ..., 1870.5237, 1899.4017,\n",
       "         1804.7546],\n",
       "        [1473.9220, 1499.1565, 1507.4713,  ..., 1533.8947, 1521.9603,\n",
       "         1486.1821],\n",
       "        [1715.2137, 1840.5343, 1680.7303,  ..., 1724.0964, 1663.0127,\n",
       "         1752.7375]], device='cuda:0', grad_fn=<AddmmBackward0>)"
      ]
     },
     "metadata": {},
     "output_type": "display_data"
    },
    {
     "data": {
      "text/plain": [
       "tensor([[1698.0321, 1682.4576, 1675.2504,  ..., 1682.7562, 1647.3202,\n",
       "         1648.0726],\n",
       "        [2781.6816, 2784.4666, 2754.8052,  ..., 2796.9724, 2751.1731,\n",
       "         2758.8484],\n",
       "        [1944.0460, 1992.7383, 2002.4635,  ..., 2014.7780, 1996.9896,\n",
       "         1959.4813],\n",
       "        ...,\n",
       "        [1949.2098, 2003.1075, 2012.1735,  ..., 2030.8877, 1945.4104,\n",
       "         1976.9099],\n",
       "        [1781.0601, 1705.5045, 1816.7776,  ..., 1816.4158, 1864.1913,\n",
       "         1796.2101],\n",
       "        [1212.4983, 1241.6156, 1362.4227,  ..., 1244.8059, 1319.9487,\n",
       "         1308.4143]], device='cuda:0', grad_fn=<AddmmBackward0>)"
      ]
     },
     "metadata": {},
     "output_type": "display_data"
    },
    {
     "data": {
      "text/plain": [
       "tensor([[2487.5383, 2710.4189, 2643.0964,  ..., 2452.3623, 2610.4126,\n",
       "         2547.9824],\n",
       "        [2121.3071, 2083.4736, 2073.6602,  ..., 2077.6152, 2105.6743,\n",
       "         2076.1069],\n",
       "        [1945.7242, 1869.4611, 2047.7030,  ..., 1987.5026, 1971.2832,\n",
       "         1994.6953],\n",
       "        ...,\n",
       "        [1733.9865, 1802.1644, 1700.0430,  ..., 1683.0690, 1728.4777,\n",
       "         1679.4956],\n",
       "        [ 859.3403,  869.6686,  895.6843,  ...,  859.8346,  880.9901,\n",
       "          873.2150],\n",
       "        [1951.8569, 1977.7668, 1797.3895,  ..., 2028.1454, 1796.7056,\n",
       "         1936.3173]], device='cuda:0', grad_fn=<AddmmBackward0>)"
      ]
     },
     "metadata": {},
     "output_type": "display_data"
    },
    {
     "data": {
      "text/plain": [
       "tensor([[1753.7654, 1881.7817, 1782.8807,  ..., 1826.4542, 1942.7584,\n",
       "         1787.2900],\n",
       "        [1780.4736, 1801.4884, 1739.2377,  ..., 1751.1019, 1753.5698,\n",
       "         1751.7130],\n",
       "        [1161.4351, 1162.7792, 1157.0060,  ..., 1184.8085, 1178.6929,\n",
       "         1169.0801],\n",
       "        ...,\n",
       "        [1591.1063, 1563.5493, 1633.0725,  ..., 1579.7062, 1580.6084,\n",
       "         1587.6814],\n",
       "        [2815.3704, 2815.7986, 2806.9407,  ..., 2798.8403, 2791.3262,\n",
       "         2764.2896],\n",
       "        [2076.3213, 2054.5605, 2040.5099,  ..., 2107.2649, 2093.0017,\n",
       "         2062.7537]], device='cuda:0', grad_fn=<AddmmBackward0>)"
      ]
     },
     "metadata": {},
     "output_type": "display_data"
    },
    {
     "data": {
      "text/plain": [
       "tensor([[1976.1625, 1971.5757, 1964.3734,  ..., 1920.2554, 2011.8928,\n",
       "         2026.2798],\n",
       "        [2554.2100, 2660.8096, 2816.1270,  ..., 2672.6963, 2864.5403,\n",
       "         2733.9775],\n",
       "        [1040.7604, 1037.8975, 1034.5431,  ..., 1040.5625, 1028.9980,\n",
       "         1031.9338],\n",
       "        ...,\n",
       "        [2078.7937, 2042.2981, 2084.5857,  ..., 2071.8992, 2039.2419,\n",
       "         2043.3638],\n",
       "        [1603.9574, 1733.3661, 1532.2683,  ..., 1556.0286, 1613.7117,\n",
       "         1774.5769],\n",
       "        [1357.6589, 1332.5201, 1354.4890,  ..., 1375.4692, 1354.6315,\n",
       "         1352.5928]], device='cuda:0', grad_fn=<AddmmBackward0>)"
      ]
     },
     "metadata": {},
     "output_type": "display_data"
    },
    {
     "data": {
      "text/plain": [
       "tensor([[1229.8466, 1227.0311, 1254.5912,  ..., 1253.2551, 1248.6451,\n",
       "         1255.4982],\n",
       "        [1743.8750, 1703.9188, 1674.1666,  ..., 1734.8394, 1740.1957,\n",
       "         1722.7139],\n",
       "        [ 992.1155, 1040.0991,  966.5389,  ...,  994.7466, 1017.6821,\n",
       "         1013.7576],\n",
       "        ...,\n",
       "        [1895.5944, 1971.8539, 2081.6008,  ..., 1991.9624, 2012.7050,\n",
       "         2043.3480],\n",
       "        [1498.7345, 1406.2155, 1431.1423,  ..., 1459.4590, 1455.0795,\n",
       "         1498.2142],\n",
       "        [2912.9514, 2870.4170, 3020.8770,  ..., 2887.1333, 3022.5686,\n",
       "         3049.7603]], device='cuda:0', grad_fn=<AddmmBackward0>)"
      ]
     },
     "metadata": {},
     "output_type": "display_data"
    },
    {
     "data": {
      "text/plain": [
       "tensor([[1421.1705, 1434.0454, 1439.0526,  ..., 1466.5747, 1386.5670,\n",
       "         1420.2684],\n",
       "        [2652.5059, 2618.7661, 2394.9080,  ..., 2448.4209, 2398.5295,\n",
       "         2527.2402],\n",
       "        [1534.9204, 1581.1852, 1469.8125,  ..., 1503.6851, 1536.5393,\n",
       "         1546.9561],\n",
       "        ...,\n",
       "        [1984.9607, 1995.0112, 1919.6061,  ..., 1950.0852, 1940.9772,\n",
       "         1937.3901],\n",
       "        [1770.6335, 1788.1271, 1632.0055,  ..., 1806.3889, 1810.4316,\n",
       "         1774.8253],\n",
       "        [1929.2052, 2005.8597, 2000.8424,  ..., 1961.1910, 1963.9962,\n",
       "         1947.6884]], device='cuda:0', grad_fn=<AddmmBackward0>)"
      ]
     },
     "metadata": {},
     "output_type": "display_data"
    },
    {
     "data": {
      "text/plain": [
       "tensor([[1732.4869, 1778.6276, 1705.8063,  ..., 1709.8035, 1719.7018,\n",
       "         1754.6144],\n",
       "        [2055.7859, 1959.0118, 2147.7429,  ..., 2078.3064, 2139.8235,\n",
       "         2109.4131],\n",
       "        [1824.5508, 1769.6606, 1782.5883,  ..., 1892.2803, 1833.6531,\n",
       "         1826.0682],\n",
       "        ...,\n",
       "        [2269.5520, 2220.0334, 2298.0371,  ..., 2345.5962, 2290.0271,\n",
       "         2294.6826],\n",
       "        [1254.3330, 1289.2479, 1409.8585,  ..., 1302.7283, 1348.1876,\n",
       "         1319.7592],\n",
       "        [2122.3367, 2149.3159, 2054.1128,  ..., 2098.1909, 2034.6359,\n",
       "         2113.1936]], device='cuda:0', grad_fn=<AddmmBackward0>)"
      ]
     },
     "metadata": {},
     "output_type": "display_data"
    },
    {
     "data": {
      "text/plain": [
       "tensor([[3329.9807, 3332.6013, 3347.8699,  ..., 3395.9104, 3466.8435,\n",
       "         3280.1555],\n",
       "        [1514.8923, 1453.0358, 1543.7350,  ..., 1498.6395, 1467.7804,\n",
       "         1506.5292],\n",
       "        [1998.8206, 2012.9164, 2033.3976,  ..., 2058.5508, 2008.5328,\n",
       "         2095.1487],\n",
       "        ...,\n",
       "        [1088.8854, 1054.2159, 1040.5717,  ..., 1063.2649, 1053.7579,\n",
       "         1057.0613],\n",
       "        [2214.3147, 2273.5010, 2352.7212,  ..., 2352.8804, 2275.5781,\n",
       "         2331.9351],\n",
       "        [1111.1182, 1133.4893, 1176.0905,  ..., 1152.1603, 1172.8512,\n",
       "         1179.7523]], device='cuda:0', grad_fn=<AddmmBackward0>)"
      ]
     },
     "metadata": {},
     "output_type": "display_data"
    },
    {
     "data": {
      "text/plain": [
       "tensor([[1914.3750, 1880.7142, 1976.5428,  ..., 1869.7903, 2036.3718,\n",
       "         1948.1638],\n",
       "        [2218.8184, 2239.5916, 2210.0620,  ..., 2265.2634, 2240.2395,\n",
       "         2188.6816],\n",
       "        [2402.7590, 2421.0112, 2384.2266,  ..., 2357.3994, 2405.3638,\n",
       "         2356.1990],\n",
       "        ...,\n",
       "        [1562.2168, 1549.6532, 1562.2504,  ..., 1557.1703, 1533.5093,\n",
       "         1557.2035],\n",
       "        [1581.6017, 1677.8680, 1637.4733,  ..., 1640.9856, 1683.2123,\n",
       "         1702.4141],\n",
       "        [1190.6338, 1207.4165, 1162.1373,  ..., 1160.6979, 1172.4440,\n",
       "         1133.1591]], device='cuda:0', grad_fn=<AddmmBackward0>)"
      ]
     },
     "metadata": {},
     "output_type": "display_data"
    },
    {
     "data": {
      "text/plain": [
       "tensor([[2196.0342, 2197.2554, 2177.9780,  ..., 2186.6816, 2158.1062,\n",
       "         2174.2371],\n",
       "        [2019.7657, 2034.0638, 2030.1776,  ..., 2033.5952, 1986.8407,\n",
       "         1999.5865],\n",
       "        [1837.2776, 1845.6534, 1879.3102,  ..., 1844.9066, 1836.8420,\n",
       "         1841.2461],\n",
       "        ...,\n",
       "        [1744.5635, 1838.4835, 1757.3646,  ..., 1743.5437, 1800.1400,\n",
       "         1810.8713],\n",
       "        [2030.2955, 2233.7378, 2201.3955,  ..., 2117.6382, 1996.2738,\n",
       "         2093.5225],\n",
       "        [1275.5050, 1283.6486, 1268.8120,  ..., 1250.5781, 1291.1388,\n",
       "         1286.9299]], device='cuda:0', grad_fn=<AddmmBackward0>)"
      ]
     },
     "metadata": {},
     "output_type": "display_data"
    },
    {
     "data": {
      "text/plain": [
       "tensor([[1760.1342, 1837.2958, 1817.8041,  ..., 1819.2949, 1743.6359,\n",
       "         1760.0758],\n",
       "        [1154.5054, 1112.0947, 1129.8785,  ..., 1144.8168, 1135.2904,\n",
       "         1148.4673],\n",
       "        [2997.8542, 2890.3127, 2969.3154,  ..., 2991.2971, 2956.2439,\n",
       "         2938.5205],\n",
       "        ...,\n",
       "        [1867.9331, 1855.5679, 1872.3788,  ..., 1897.6542, 1906.9657,\n",
       "         1890.5212],\n",
       "        [2002.2888, 1956.0306, 2219.4082,  ..., 1979.9784, 2124.5935,\n",
       "         2116.9302],\n",
       "        [2568.4443, 2520.4216, 2529.7725,  ..., 2566.7966, 2502.8962,\n",
       "         2533.2307]], device='cuda:0', grad_fn=<AddmmBackward0>)"
      ]
     },
     "metadata": {},
     "output_type": "display_data"
    },
    {
     "data": {
      "text/plain": [
       "tensor([[2406.1211, 2363.0288, 2480.3213,  ..., 2443.0674, 2508.7256,\n",
       "         2431.9309],\n",
       "        [2239.1426, 2228.5852, 2336.0327,  ..., 2231.2527, 2241.7192,\n",
       "         2305.7996],\n",
       "        [1480.2083, 1492.1913, 1513.1205,  ..., 1485.3171, 1476.9897,\n",
       "         1491.0885],\n",
       "        ...,\n",
       "        [1042.3960, 1062.7520, 1037.6089,  ..., 1003.8911, 1172.2111,\n",
       "         1058.9111],\n",
       "        [1512.0736, 1496.0881, 1529.0240,  ..., 1498.6709, 1526.0475,\n",
       "         1487.1235],\n",
       "        [1447.7986, 1414.6562, 1429.0670,  ..., 1408.5725, 1428.5909,\n",
       "         1412.1252]], device='cuda:0', grad_fn=<AddmmBackward0>)"
      ]
     },
     "metadata": {},
     "output_type": "display_data"
    },
    {
     "data": {
      "text/plain": [
       "tensor([[2190.5967, 2178.5537, 2177.0308,  ..., 2241.3586, 2183.1208,\n",
       "         2213.2727],\n",
       "        [1529.8612, 1523.8667, 1504.1027,  ..., 1523.8623, 1535.2480,\n",
       "         1537.5129],\n",
       "        [3069.0596, 2867.0410, 3143.8281,  ..., 3020.9944, 3048.3582,\n",
       "         3121.7703],\n",
       "        ...,\n",
       "        [2509.2864, 2442.4856, 2403.1675,  ..., 2378.5798, 2381.7944,\n",
       "         2467.3711],\n",
       "        [1859.9653, 1905.1484, 1924.9362,  ..., 1861.2039, 1854.4756,\n",
       "         1853.5194],\n",
       "        [1785.4556, 1743.4896, 1603.2250,  ..., 1693.5833, 1627.3673,\n",
       "         1714.3116]], device='cuda:0', grad_fn=<AddmmBackward0>)"
      ]
     },
     "metadata": {},
     "output_type": "display_data"
    },
    {
     "data": {
      "text/plain": [
       "tensor([[1652.5365, 1731.7455, 1540.4784,  ..., 1644.2897, 1700.6467,\n",
       "         1705.6904],\n",
       "        [ 955.2512,  931.1093,  959.8247,  ...,  973.5518,  977.0229,\n",
       "          972.8997],\n",
       "        [1261.3779, 1242.6141, 1302.6239,  ..., 1256.3562, 1267.5236,\n",
       "         1293.3049],\n",
       "        ...,\n",
       "        [2087.5688, 2175.1162, 2152.8650,  ..., 2070.2900, 2100.9690,\n",
       "         2048.7744],\n",
       "        [1757.2921, 1747.2538, 1746.8218,  ..., 1762.0974, 1757.1238,\n",
       "         1754.3495],\n",
       "        [1697.4734, 1645.6569, 1697.1671,  ..., 1652.2520, 1709.2540,\n",
       "         1705.8840]], device='cuda:0', grad_fn=<AddmmBackward0>)"
      ]
     },
     "metadata": {},
     "output_type": "display_data"
    },
    {
     "data": {
      "text/plain": [
       "tensor([[1636.2919, 1718.8718, 1665.7037,  ..., 1588.5306, 1624.2666,\n",
       "         1580.7823],\n",
       "        [1900.4580, 1859.1698, 1980.0056,  ..., 2007.7512, 1948.7217,\n",
       "         1967.3396],\n",
       "        [1589.9261, 1586.9716, 1615.8815,  ..., 1612.6141, 1574.3142,\n",
       "         1605.0880],\n",
       "        ...,\n",
       "        [1746.5179, 1632.3960, 1673.8115,  ..., 1730.3770, 1629.1750,\n",
       "         1686.8630],\n",
       "        [1775.7701, 1819.8953, 1908.7439,  ..., 1849.1808, 1899.0614,\n",
       "         1839.4994],\n",
       "        [1742.9623, 1657.8550, 1652.8109,  ..., 1718.0460, 1692.0377,\n",
       "         1723.2881]], device='cuda:0', grad_fn=<AddmmBackward0>)"
      ]
     },
     "metadata": {},
     "output_type": "display_data"
    },
    {
     "data": {
      "text/plain": [
       "tensor([[2248.2380, 2346.3210, 2390.7451,  ..., 2168.9797, 2175.6851,\n",
       "         2312.2610],\n",
       "        [1024.9441, 1061.4337, 1082.0530,  ...,  994.6396,  982.9310,\n",
       "          967.4253],\n",
       "        [2683.6509, 2696.4187, 2637.6069,  ..., 2633.2834, 2611.8560,\n",
       "         2603.7800],\n",
       "        ...,\n",
       "        [3193.1077, 3179.3860, 3250.7759,  ..., 3199.3108, 3341.5796,\n",
       "         3185.8997],\n",
       "        [1518.9977, 1502.4310, 1503.5803,  ..., 1516.7184, 1475.2396,\n",
       "         1502.5680],\n",
       "        [2379.9558, 2427.7227, 2346.7305,  ..., 2452.1384, 2333.7024,\n",
       "         2440.6169]], device='cuda:0', grad_fn=<AddmmBackward0>)"
      ]
     },
     "metadata": {},
     "output_type": "display_data"
    },
    {
     "data": {
      "text/plain": [
       "tensor([[1357.7234, 1284.3424, 1303.6396,  ..., 1316.3550, 1289.7053,\n",
       "         1287.4109],\n",
       "        [3028.4463, 2907.7449, 2938.6028,  ..., 2844.0076, 2892.0684,\n",
       "         2857.9739],\n",
       "        [2165.5664, 2206.6147, 2155.7961,  ..., 2204.6377, 2215.3337,\n",
       "         2195.1997],\n",
       "        ...,\n",
       "        [1788.4734, 1743.9697, 1767.9700,  ..., 1801.7754, 1667.1378,\n",
       "         1728.9174],\n",
       "        [ 700.0447,  693.5525,  674.4918,  ...,  674.5906,  701.7363,\n",
       "          669.9830],\n",
       "        [1788.7130, 1786.6302, 1745.6731,  ..., 1773.1094, 1781.7766,\n",
       "         1767.9783]], device='cuda:0', grad_fn=<AddmmBackward0>)"
      ]
     },
     "metadata": {},
     "output_type": "display_data"
    },
    {
     "data": {
      "text/plain": [
       "tensor([[1490.1995, 1486.6846, 1476.7762,  ..., 1465.4747, 1446.0630,\n",
       "         1466.7750],\n",
       "        [ 905.1107,  919.0884,  875.4800,  ...,  895.7747,  891.8619,\n",
       "          871.8840],\n",
       "        [1969.0153, 1993.8119, 2050.0615,  ..., 1885.4379, 1892.6754,\n",
       "         1905.3468],\n",
       "        ...,\n",
       "        [1455.0664, 1454.9980, 1434.4474,  ..., 1477.3038, 1427.9995,\n",
       "         1447.8495],\n",
       "        [1890.1074, 1901.1705, 1961.3412,  ..., 1882.5262, 1921.9857,\n",
       "         1950.7142],\n",
       "        [1453.5095, 1501.6240, 1738.8595,  ..., 1395.3599, 1574.0221,\n",
       "         1782.1947]], device='cuda:0', grad_fn=<AddmmBackward0>)"
      ]
     },
     "metadata": {},
     "output_type": "display_data"
    },
    {
     "data": {
      "text/plain": [
       "tensor([[1699.6366, 1735.5179, 1753.6056,  ..., 1712.7152, 1674.6268,\n",
       "         1729.9199],\n",
       "        [1821.0734, 1853.0023, 1827.1770,  ..., 1850.8799, 1793.3766,\n",
       "         1822.4387],\n",
       "        [1269.9899, 1251.2440, 1276.5137,  ..., 1294.4368, 1287.8221,\n",
       "         1282.5094],\n",
       "        ...,\n",
       "        [2317.4746, 2383.9099, 2341.7117,  ..., 2402.8694, 2407.6304,\n",
       "         2385.9954],\n",
       "        [1875.8335, 1834.5128, 1893.0479,  ..., 1889.3962, 1863.3787,\n",
       "         1883.1912],\n",
       "        [1251.8973, 1213.6414, 1213.2203,  ..., 1215.2301, 1232.3057,\n",
       "         1222.5868]], device='cuda:0', grad_fn=<AddmmBackward0>)"
      ]
     },
     "metadata": {},
     "output_type": "display_data"
    },
    {
     "data": {
      "text/plain": [
       "tensor([[1992.6772, 2044.6814, 2088.3093,  ..., 2120.6816, 2101.3979,\n",
       "         2068.5410],\n",
       "        [1682.0267, 1702.7825, 1751.1638,  ..., 1711.0424, 1729.3997,\n",
       "         1728.4551],\n",
       "        [2128.7637, 2118.4146, 2208.9187,  ..., 2160.5610, 2151.3030,\n",
       "         2148.1416],\n",
       "        ...,\n",
       "        [1055.5968, 1132.3269,  983.9733,  ..., 1020.7509, 1059.4631,\n",
       "          994.3368],\n",
       "        [3040.6826, 2937.9329, 3214.0920,  ..., 3236.0334, 3125.1885,\n",
       "         3162.7939],\n",
       "        [2421.7969, 2438.6191, 2466.0505,  ..., 2420.7031, 2428.9963,\n",
       "         2421.1753]], device='cuda:0', grad_fn=<AddmmBackward0>)"
      ]
     },
     "metadata": {},
     "output_type": "display_data"
    },
    {
     "data": {
      "text/plain": [
       "tensor([[2441.3909, 2461.1580, 2421.4556,  ..., 2466.2761, 2409.6008,\n",
       "         2433.4480],\n",
       "        [2003.9584, 1951.5948, 1954.0687,  ..., 1996.7731, 1963.1562,\n",
       "         1966.7250],\n",
       "        [3032.6633, 3148.8081, 3114.5254,  ..., 3182.8606, 2979.0735,\n",
       "         3152.3357],\n",
       "        ...,\n",
       "        [2093.3120, 2110.1577, 2105.3130,  ..., 2113.1970, 2095.5637,\n",
       "         2068.6270],\n",
       "        [2143.1438, 2092.9985, 2109.9390,  ..., 2120.6333, 2098.3740,\n",
       "         2123.6211],\n",
       "        [ 999.4865, 1040.4766, 1011.0060,  ..., 1001.2400,  970.7253,\n",
       "         1004.7951]], device='cuda:0', grad_fn=<AddmmBackward0>)"
      ]
     },
     "metadata": {},
     "output_type": "display_data"
    },
    {
     "data": {
      "text/plain": [
       "tensor([[2160.7229, 2098.0991, 2197.5034,  ..., 2191.8367, 2080.4470,\n",
       "         2123.6262],\n",
       "        [1913.6073, 1898.6752, 1949.1888,  ..., 1932.9509, 1963.9316,\n",
       "         1906.3669],\n",
       "        [2404.3267, 2342.8340, 2355.6426,  ..., 2262.1077, 2354.1138,\n",
       "         2297.4963],\n",
       "        ...,\n",
       "        [2670.1992, 2822.1182, 2649.1316,  ..., 2700.1338, 2756.7485,\n",
       "         2755.4238],\n",
       "        [1383.6537, 1473.2761, 1450.2687,  ..., 1486.3835, 1522.5481,\n",
       "         1439.7865],\n",
       "        [2349.5032, 2393.9619, 2268.4312,  ..., 2339.3181, 2257.8545,\n",
       "         2326.4492]], device='cuda:0', grad_fn=<AddmmBackward0>)"
      ]
     },
     "metadata": {},
     "output_type": "display_data"
    },
    {
     "data": {
      "text/plain": [
       "tensor([[1212.0283, 1189.6200, 1128.9397,  ..., 1168.7355, 1146.0930,\n",
       "         1196.1047],\n",
       "        [1461.6497, 1453.5571, 1462.9355,  ..., 1424.1929, 1425.1105,\n",
       "         1443.8350],\n",
       "        [2846.1350, 2809.5994, 2852.4006,  ..., 2905.6450, 2855.2563,\n",
       "         2854.8496],\n",
       "        ...,\n",
       "        [2293.1914, 2314.5281, 2258.1858,  ..., 2275.0225, 2302.6785,\n",
       "         2284.2102],\n",
       "        [2263.4551, 2273.4646, 2336.0889,  ..., 2348.2153, 2199.5774,\n",
       "         2318.1394],\n",
       "        [2346.6582, 2354.1655, 2383.4492,  ..., 2355.5693, 2362.6184,\n",
       "         2384.5540]], device='cuda:0', grad_fn=<AddmmBackward0>)"
      ]
     },
     "metadata": {},
     "output_type": "display_data"
    },
    {
     "data": {
      "text/plain": [
       "tensor([[1574.7662, 1575.9836, 1554.8524,  ..., 1581.8398, 1542.8188,\n",
       "         1559.5966],\n",
       "        [2401.0283, 2374.8557, 2394.0156,  ..., 2443.9648, 2433.2126,\n",
       "         2405.8887],\n",
       "        [3458.4485, 3581.8479, 3621.5381,  ..., 3562.0125, 3625.0981,\n",
       "         3535.2764],\n",
       "        ...,\n",
       "        [1143.3799, 1153.1555, 1187.5125,  ..., 1110.1096, 1112.4806,\n",
       "         1139.4447],\n",
       "        [1833.3314, 1810.7175, 1849.5669,  ..., 1868.8872, 1837.6843,\n",
       "         1836.9752],\n",
       "        [2373.3899, 2245.8916, 2403.4021,  ..., 2395.8003, 2396.0151,\n",
       "         2372.3359]], device='cuda:0', grad_fn=<AddmmBackward0>)"
      ]
     },
     "metadata": {},
     "output_type": "display_data"
    },
    {
     "data": {
      "text/plain": [
       "tensor([[2373.2314, 2349.1814, 2376.9866,  ..., 2455.3535, 2410.9009,\n",
       "         2394.1865],\n",
       "        [1746.3048, 1679.8969, 1724.2893,  ..., 1763.0685, 1759.0215,\n",
       "         1716.1282],\n",
       "        [2042.8461, 2104.1116, 2079.1062,  ..., 2098.2800, 1982.0220,\n",
       "         2085.7476],\n",
       "        ...,\n",
       "        [1469.7158, 1501.9731, 1465.1193,  ..., 1452.4158, 1411.3373,\n",
       "         1393.2476],\n",
       "        [1669.9337, 1679.0455, 1697.0599,  ..., 1719.8503, 1742.7590,\n",
       "         1701.7426],\n",
       "        [1578.4923, 1556.4773, 1571.2798,  ..., 1557.2853, 1561.7505,\n",
       "         1557.0560]], device='cuda:0', grad_fn=<AddmmBackward0>)"
      ]
     },
     "metadata": {},
     "output_type": "display_data"
    },
    {
     "data": {
      "text/plain": [
       "tensor([[2018.6779, 2016.4025, 1997.0914,  ..., 2066.9688, 2000.1851,\n",
       "         1999.0310],\n",
       "        [2093.0474, 2087.7229, 2077.2244,  ..., 2069.1616, 2090.0310,\n",
       "         2067.2205],\n",
       "        [1638.7546, 1654.8273, 1645.8683,  ..., 1659.8025, 1605.1836,\n",
       "         1635.0409],\n",
       "        ...,\n",
       "        [1853.9803, 1863.5439, 1868.4384,  ..., 1846.3000, 1820.7661,\n",
       "         1796.5752],\n",
       "        [1809.0176, 1848.9515, 1803.9265,  ..., 1843.8483, 1815.5011,\n",
       "         1821.6187],\n",
       "        [3160.1404, 3237.9172, 3222.3142,  ..., 3224.1858, 3222.5745,\n",
       "         3199.4651]], device='cuda:0', grad_fn=<AddmmBackward0>)"
      ]
     },
     "metadata": {},
     "output_type": "display_data"
    },
    {
     "data": {
      "text/plain": [
       "tensor([[2426.5750, 2426.6821, 2434.3267,  ..., 2450.0525, 2370.5698,\n",
       "         2460.0183],\n",
       "        [2854.4016, 2882.3774, 2803.2632,  ..., 2818.8562, 2934.9409,\n",
       "         2835.6575],\n",
       "        [1845.7775, 1883.6735, 1860.0934,  ..., 1872.2366, 1769.2477,\n",
       "         1873.5697],\n",
       "        ...,\n",
       "        [1836.6924, 1841.5973, 1852.8707,  ..., 1842.0438, 1847.5538,\n",
       "         1832.4784],\n",
       "        [1078.1630, 1066.6394, 1086.6367,  ..., 1068.1633, 1077.2761,\n",
       "         1056.4957],\n",
       "        [2034.2802, 1988.2185, 2003.1007,  ..., 1983.6892, 1917.9440,\n",
       "         1963.2892]], device='cuda:0', grad_fn=<AddmmBackward0>)"
      ]
     },
     "metadata": {},
     "output_type": "display_data"
    },
    {
     "data": {
      "text/plain": [
       "tensor([[1860.5436, 1868.1364, 1828.7198,  ..., 1797.7051, 1920.6422,\n",
       "         1902.0791],\n",
       "        [1764.6591, 1786.7314, 1777.5717,  ..., 1823.4818, 1777.5641,\n",
       "         1808.7655],\n",
       "        [2461.6743, 2441.7261, 2425.3188,  ..., 2440.0144, 2391.9014,\n",
       "         2409.1384],\n",
       "        ...,\n",
       "        [2743.3501, 2783.9927, 2765.7019,  ..., 2770.2720, 2797.0881,\n",
       "         2663.0059],\n",
       "        [2011.7241, 2155.5808, 1864.9647,  ..., 1899.0994, 1975.8654,\n",
       "         2047.7391],\n",
       "        [1999.4558, 1942.8120, 2008.1508,  ..., 2034.1281, 1944.8816,\n",
       "         1971.7930]], device='cuda:0', grad_fn=<AddmmBackward0>)"
      ]
     },
     "metadata": {},
     "output_type": "display_data"
    },
    {
     "data": {
      "text/plain": [
       "tensor([[2327.0581, 2155.7974, 2280.0918,  ..., 2385.0457, 2237.9646,\n",
       "         2226.7637],\n",
       "        [1971.3237, 1993.6210, 1960.1075,  ..., 1971.6683, 1882.3450,\n",
       "         2071.7542],\n",
       "        [1352.4774, 1472.1417, 1336.2111,  ..., 1455.6534, 1286.7716,\n",
       "         1346.5975],\n",
       "        ...,\n",
       "        [2960.3630, 3095.1519, 3016.8638,  ..., 2961.0391, 2944.0020,\n",
       "         2945.8911],\n",
       "        [2350.5601, 2281.7822, 2289.7356,  ..., 2283.2498, 2226.4990,\n",
       "         2249.3982],\n",
       "        [1640.0143, 1684.6351, 1710.6200,  ..., 1675.1870, 1660.0104,\n",
       "         1657.1577]], device='cuda:0', grad_fn=<AddmmBackward0>)"
      ]
     },
     "metadata": {},
     "output_type": "display_data"
    },
    {
     "data": {
      "text/plain": [
       "tensor([[1798.4137, 1745.4095, 1782.5774,  ..., 1766.7115, 1754.6904,\n",
       "         1752.7018],\n",
       "        [3014.9978, 2792.8748, 2903.1467,  ..., 3072.0132, 2942.8484,\n",
       "         2889.2148],\n",
       "        [1265.4285, 1306.2657, 1267.6865,  ..., 1272.0205, 1263.0452,\n",
       "         1246.7882],\n",
       "        ...,\n",
       "        [2820.6843, 2938.7659, 2826.0549,  ..., 2858.0811, 2745.8999,\n",
       "         2777.8579],\n",
       "        [2146.5801, 2142.2354, 2151.5884,  ..., 2140.4070, 2163.8772,\n",
       "         2154.5391],\n",
       "        [1612.4191, 1585.0873, 1622.1982,  ..., 1582.3704, 1554.1377,\n",
       "         1578.1874]], device='cuda:0', grad_fn=<AddmmBackward0>)"
      ]
     },
     "metadata": {},
     "output_type": "display_data"
    },
    {
     "data": {
      "text/plain": [
       "tensor([[2165.0193, 2267.5754, 2163.4126,  ..., 2180.8120, 2112.9502,\n",
       "         2174.9875],\n",
       "        [1674.2635, 1667.3954, 1700.2826,  ..., 1716.5485, 1718.7699,\n",
       "         1676.4041],\n",
       "        [ 926.9828,  886.8637,  912.5965,  ...,  877.4744,  930.2352,\n",
       "          941.6501],\n",
       "        ...,\n",
       "        [2119.4114, 2066.0930, 2077.3416,  ..., 2120.8342, 2054.3110,\n",
       "         2116.0176],\n",
       "        [1448.7841, 1427.0839, 1469.7019,  ..., 1489.4319, 1456.0981,\n",
       "         1466.0907],\n",
       "        [1609.8527, 1601.0048, 1587.7157,  ..., 1583.1273, 1588.7864,\n",
       "         1580.0189]], device='cuda:0', grad_fn=<AddmmBackward0>)"
      ]
     },
     "metadata": {},
     "output_type": "display_data"
    },
    {
     "data": {
      "text/plain": [
       "tensor([[1669.3074, 1655.0604, 1683.0300,  ..., 1643.0486, 1708.2114,\n",
       "         1671.0334],\n",
       "        [1446.4011, 1473.5145, 1424.2090,  ..., 1459.7888, 1454.1287,\n",
       "         1443.1577],\n",
       "        [1617.6057, 1651.0791, 1540.1290,  ..., 1561.7627, 1649.3651,\n",
       "         1592.5457],\n",
       "        ...,\n",
       "        [2467.3950, 2457.7512, 2464.2134,  ..., 2434.5171, 2519.4597,\n",
       "         2451.0444],\n",
       "        [1532.8671, 1554.4095, 1553.8414,  ..., 1596.5645, 1601.6023,\n",
       "         1554.0264],\n",
       "        [1853.4500, 1835.8032, 1832.6235,  ..., 1831.5571, 1837.7427,\n",
       "         1842.7286]], device='cuda:0', grad_fn=<AddmmBackward0>)"
      ]
     },
     "metadata": {},
     "output_type": "display_data"
    },
    {
     "data": {
      "text/plain": [
       "tensor([[1284.6163, 1282.1324, 1229.7612,  ..., 1251.8262, 1231.4946,\n",
       "         1221.0439],\n",
       "        [1747.7704, 1742.3641, 1709.0995,  ..., 1714.3081, 1737.9012,\n",
       "         1728.8357],\n",
       "        [1375.1760, 1359.2726, 1345.2424,  ..., 1332.9797, 1347.3365,\n",
       "         1392.6399],\n",
       "        ...,\n",
       "        [1450.3922, 1457.1556, 1464.1382,  ..., 1446.4636, 1446.4712,\n",
       "         1429.2780],\n",
       "        [1953.2404, 1834.3356, 2104.4019,  ..., 1970.4009, 2110.7373,\n",
       "         2044.6810],\n",
       "        [1386.6400, 1384.7482, 1390.9254,  ..., 1401.3915, 1387.8484,\n",
       "         1372.8542]], device='cuda:0', grad_fn=<AddmmBackward0>)"
      ]
     },
     "metadata": {},
     "output_type": "display_data"
    },
    {
     "data": {
      "text/plain": [
       "tensor([[2774.1658, 2742.6055, 2762.0559,  ..., 2774.1338, 2740.3672,\n",
       "         2749.3613],\n",
       "        [1445.6855, 1415.5494, 1406.6245,  ..., 1419.9532, 1421.4884,\n",
       "         1410.5100],\n",
       "        [1994.8096, 2024.6436, 2060.7500,  ..., 2049.3958, 2040.8910,\n",
       "         2032.4838],\n",
       "        ...,\n",
       "        [1299.1368, 1325.5867, 1302.1167,  ..., 1285.4735, 1285.0383,\n",
       "         1253.1125],\n",
       "        [1805.2803, 1847.8883, 1840.2008,  ..., 1784.9747, 1807.3315,\n",
       "         1762.0973],\n",
       "        [1645.9144, 1611.9380, 1627.7413,  ..., 1608.1571, 1605.6327,\n",
       "         1598.6697]], device='cuda:0', grad_fn=<AddmmBackward0>)"
      ]
     },
     "metadata": {},
     "output_type": "display_data"
    },
    {
     "data": {
      "text/plain": [
       "tensor([[2043.2596, 2030.1487, 1956.7852,  ..., 2004.0792, 2009.4012,\n",
       "         1979.7388],\n",
       "        [1760.2211, 1789.8165, 1786.8000,  ..., 1684.7164, 1611.6725,\n",
       "         1839.4275],\n",
       "        [1660.9058, 1728.9681, 1689.7655,  ..., 1686.0804, 1689.4478,\n",
       "         1673.8894],\n",
       "        ...,\n",
       "        [1910.5963, 1887.6045, 1874.5944,  ..., 1901.2683, 1897.0594,\n",
       "         1920.2728],\n",
       "        [1952.3320, 1924.3325, 2006.4069,  ..., 1973.4635, 1990.8292,\n",
       "         1940.2241],\n",
       "        [1444.5122, 1430.0015, 1426.5789,  ..., 1442.7229, 1425.1481,\n",
       "         1456.6892]], device='cuda:0', grad_fn=<AddmmBackward0>)"
      ]
     },
     "metadata": {},
     "output_type": "display_data"
    },
    {
     "data": {
      "text/plain": [
       "tensor([[1092.1270, 1105.5487, 1142.0385,  ..., 1035.5945, 1156.2419,\n",
       "         1140.3264],\n",
       "        [2103.3328, 2230.1958, 2168.4817,  ..., 2075.7913, 2187.8159,\n",
       "         2123.0435],\n",
       "        [2335.3982, 2262.8000, 2316.2725,  ..., 2350.5564, 2341.9590,\n",
       "         2314.1255],\n",
       "        ...,\n",
       "        [ 903.8743,  894.4367,  912.5590,  ...,  895.5081,  896.0274,\n",
       "          900.7753],\n",
       "        [1127.9817, 1142.8256, 1077.9019,  ..., 1089.4014, 1048.8853,\n",
       "         1031.1649],\n",
       "        [1309.2963, 1398.7924, 1144.1215,  ..., 1230.2046, 1238.1110,\n",
       "         1355.0465]], device='cuda:0', grad_fn=<AddmmBackward0>)"
      ]
     },
     "metadata": {},
     "output_type": "display_data"
    },
    {
     "data": {
      "text/plain": [
       "tensor([[ 911.0204,  880.9666,  913.6416,  ...,  894.3668,  890.5013,\n",
       "          893.1022],\n",
       "        [1300.3821, 1300.7156, 1298.5240,  ..., 1270.8627, 1216.8068,\n",
       "         1264.9436],\n",
       "        [1853.6094, 1922.0272, 2079.9617,  ..., 2019.1573, 1969.0963,\n",
       "         2040.9485],\n",
       "        ...,\n",
       "        [1590.3519, 1583.7365, 1629.2261,  ..., 1603.3011, 1608.9617,\n",
       "         1593.1138],\n",
       "        [1207.4506, 1177.0745, 1262.9951,  ..., 1180.2058, 1274.1528,\n",
       "         1192.3190],\n",
       "        [1485.1559, 1538.8513, 1532.9130,  ..., 1519.9382, 1493.9370,\n",
       "         1513.3085]], device='cuda:0', grad_fn=<AddmmBackward0>)"
      ]
     },
     "metadata": {},
     "output_type": "display_data"
    },
    {
     "data": {
      "text/plain": [
       "tensor([[2713.1890, 2413.9194, 2521.5032,  ..., 2754.8577, 2559.7607,\n",
       "         2719.4382],\n",
       "        [1961.4054, 2085.9771, 2017.0850,  ..., 2061.0476, 1939.7079,\n",
       "         2066.7249],\n",
       "        [2398.0493, 2376.3586, 2383.3064,  ..., 2371.2336, 2375.4043,\n",
       "         2369.9993],\n",
       "        ...,\n",
       "        [1345.8850, 1340.7628, 1365.9277,  ..., 1322.0938, 1360.6584,\n",
       "         1344.2013],\n",
       "        [1812.5167, 1873.4149, 1759.6649,  ..., 1813.7904, 1767.6677,\n",
       "         1807.0065],\n",
       "        [1240.0421, 1300.1427, 1283.5161,  ..., 1300.5671, 1265.8762,\n",
       "         1265.8632]], device='cuda:0', grad_fn=<AddmmBackward0>)"
      ]
     },
     "metadata": {},
     "output_type": "display_data"
    },
    {
     "data": {
      "text/plain": [
       "tensor([[2509.5686, 2485.2932, 2441.8481,  ..., 2437.7683, 2464.0427,\n",
       "         2518.1919],\n",
       "        [1119.9089, 1125.4316, 1161.7526,  ..., 1141.4519, 1205.6240,\n",
       "         1142.5703],\n",
       "        [1185.5250, 1197.1710, 1219.7880,  ..., 1191.0490, 1170.8513,\n",
       "         1187.1901],\n",
       "        ...,\n",
       "        [1526.4683, 1578.2653, 1593.6970,  ..., 1538.3048, 1526.0497,\n",
       "         1519.7708],\n",
       "        [1813.8208, 1735.2382, 1785.3224,  ..., 1797.3209, 1754.1022,\n",
       "         1799.5731],\n",
       "        [3220.4263, 3486.5491, 3639.9087,  ..., 3339.8801, 3274.0676,\n",
       "         3636.0547]], device='cuda:0', grad_fn=<AddmmBackward0>)"
      ]
     },
     "metadata": {},
     "output_type": "display_data"
    },
    {
     "data": {
      "text/plain": [
       "tensor([[1581.6632, 1589.8252, 1602.8417,  ..., 1641.2488, 1607.9581,\n",
       "         1632.1785],\n",
       "        [1068.1997, 1096.3950, 1104.7860,  ..., 1070.7134, 1120.2474,\n",
       "         1137.0260],\n",
       "        [1278.9185, 1336.0546, 1314.5676,  ..., 1311.6288, 1257.0170,\n",
       "         1270.7960],\n",
       "        ...,\n",
       "        [1871.1614, 1882.1307, 1842.5751,  ..., 1886.4766, 1861.5660,\n",
       "         1861.1605],\n",
       "        [1931.5818, 1958.1666, 1999.0996,  ..., 1924.6311, 1977.4410,\n",
       "         1963.7488],\n",
       "        [2231.2917, 2291.3147, 2289.8889,  ..., 2185.9053, 2256.9182,\n",
       "         2221.3540]], device='cuda:0', grad_fn=<AddmmBackward0>)"
      ]
     },
     "metadata": {},
     "output_type": "display_data"
    },
    {
     "data": {
      "text/plain": [
       "tensor([[1799.8732, 1832.2922, 1822.2528,  ..., 1779.9198, 1795.7278,\n",
       "         1818.0123],\n",
       "        [2168.3445, 2164.5396, 2196.4412,  ..., 2190.9009, 2220.3596,\n",
       "         2177.9219],\n",
       "        [2303.4998, 2130.9316, 2279.0266,  ..., 2196.5637, 2187.6426,\n",
       "         2217.2891],\n",
       "        ...,\n",
       "        [3373.1047, 3288.8374, 3406.7930,  ..., 3376.1836, 3602.1611,\n",
       "         3641.2632],\n",
       "        [1600.0461, 1580.5615, 1629.4248,  ..., 1621.2904, 1605.4642,\n",
       "         1620.0084],\n",
       "        [1517.2906, 1559.3170, 1534.1462,  ..., 1534.1613, 1462.6567,\n",
       "         1502.8000]], device='cuda:0', grad_fn=<AddmmBackward0>)"
      ]
     },
     "metadata": {},
     "output_type": "display_data"
    },
    {
     "data": {
      "text/plain": [
       "tensor([[1711.1748, 1688.7308, 1710.8611,  ..., 1721.4413, 1669.0741,\n",
       "         1745.9778],\n",
       "        [1564.1537, 1536.7133, 1576.7716,  ..., 1560.2266, 1514.5170,\n",
       "         1539.7572],\n",
       "        [ 892.9378,  820.3645,  958.9285,  ...,  899.2313,  908.7627,\n",
       "          886.0051],\n",
       "        ...,\n",
       "        [ 742.2810,  742.4130,  655.5713,  ...,  682.0081,  736.2300,\n",
       "          744.3624],\n",
       "        [1669.5770, 1680.7264, 1645.1318,  ..., 1716.3558, 1658.1625,\n",
       "         1687.9535],\n",
       "        [1920.8855, 2003.4095, 1984.2269,  ..., 1945.6870, 1922.9677,\n",
       "         1931.2218]], device='cuda:0', grad_fn=<AddmmBackward0>)"
      ]
     },
     "metadata": {},
     "output_type": "display_data"
    },
    {
     "data": {
      "text/plain": [
       "tensor([[1369.5068, 1329.3829, 1221.7822,  ..., 1276.0057, 1351.7550,\n",
       "         1286.0288],\n",
       "        [1982.4441, 1985.9784, 1949.5066,  ..., 1957.5802, 2001.7706,\n",
       "         1958.3751],\n",
       "        [ 794.3475,  788.0202,  767.7178,  ...,  772.4678,  751.1581,\n",
       "          769.0627],\n",
       "        ...,\n",
       "        [1677.8104, 1641.3674, 1650.8105,  ..., 1676.0731, 1657.8802,\n",
       "         1654.2865],\n",
       "        [ 869.5788,  879.0250,  868.3892,  ...,  880.1722,  855.0754,\n",
       "          863.7254],\n",
       "        [2018.9700, 2064.3196, 2030.3743,  ..., 2046.6406, 1968.7876,\n",
       "         2063.0608]], device='cuda:0', grad_fn=<AddmmBackward0>)"
      ]
     },
     "metadata": {},
     "output_type": "display_data"
    },
    {
     "data": {
      "text/plain": [
       "tensor([[1198.8815, 1240.6711, 1146.7979,  ..., 1182.0736, 1206.4694,\n",
       "         1190.8291],\n",
       "        [1466.3146, 1416.9543, 1530.6273,  ..., 1525.5829, 1468.6665,\n",
       "         1500.9113],\n",
       "        [1865.9624, 1864.8553, 1875.1879,  ..., 1899.4211, 1903.1229,\n",
       "         1872.9888],\n",
       "        ...,\n",
       "        [1820.2014, 1773.7527, 1719.6230,  ..., 1718.8324, 1747.7323,\n",
       "         1711.5885],\n",
       "        [1630.2145, 1655.1036, 1682.4196,  ..., 1663.4067, 1669.7001,\n",
       "         1657.6804],\n",
       "        [1936.0000, 1844.9941, 1886.3433,  ..., 1906.3405, 1878.0553,\n",
       "         1911.6862]], device='cuda:0', grad_fn=<AddmmBackward0>)"
      ]
     },
     "metadata": {},
     "output_type": "display_data"
    },
    {
     "data": {
      "text/plain": [
       "tensor([[1796.0571, 1792.3334, 1817.2821,  ..., 1806.7644, 1827.1737,\n",
       "         1810.9819],\n",
       "        [2797.8237, 2667.0847, 2900.2107,  ..., 2871.1633, 3031.0146,\n",
       "         2798.8662],\n",
       "        [1730.6458, 1705.5913, 1744.4415,  ..., 1772.5439, 1796.0123,\n",
       "         1740.1984],\n",
       "        ...,\n",
       "        [1084.0417, 1101.0895, 1134.7919,  ..., 1082.9385, 1112.1910,\n",
       "         1110.2783],\n",
       "        [2508.9465, 2453.9897, 2480.8967,  ..., 2507.0310, 2477.0278,\n",
       "         2451.1880],\n",
       "        [2084.6118, 2045.8928, 2043.3549,  ..., 2028.9308, 2128.9150,\n",
       "         2138.9858]], device='cuda:0', grad_fn=<AddmmBackward0>)"
      ]
     },
     "metadata": {},
     "output_type": "display_data"
    },
    {
     "data": {
      "text/plain": [
       "tensor([[1901.8207, 1967.6505, 1772.0671,  ..., 1755.5819, 1805.4553,\n",
       "         1826.9000],\n",
       "        [1850.2443, 2047.4679, 1880.1335,  ..., 1819.9785, 1798.7554,\n",
       "         1885.5165],\n",
       "        [1420.5826, 1402.4536, 1378.7603,  ..., 1394.5697, 1416.9150,\n",
       "         1401.7266],\n",
       "        ...,\n",
       "        [1408.0052, 1455.9149, 1426.1135,  ..., 1433.5659, 1411.7213,\n",
       "         1417.1829],\n",
       "        [1311.9056, 1332.7405, 1337.6665,  ..., 1307.0876, 1336.0405,\n",
       "         1299.2008],\n",
       "        [1917.3959, 1960.6760, 1925.3640,  ..., 1925.0490, 1971.0302,\n",
       "         1968.7712]], device='cuda:0', grad_fn=<AddmmBackward0>)"
      ]
     },
     "metadata": {},
     "output_type": "display_data"
    },
    {
     "data": {
      "text/plain": [
       "tensor([[1612.0677, 1631.2889, 1602.2653,  ..., 1628.1635, 1595.8323,\n",
       "         1587.0112],\n",
       "        [1649.4926, 1719.1572, 1711.7865,  ..., 1722.8342, 1765.8540,\n",
       "         1716.4198],\n",
       "        [1479.0059, 1474.1794, 1472.3954,  ..., 1460.9392, 1490.0638,\n",
       "         1508.0979],\n",
       "        ...,\n",
       "        [1648.2424, 1618.5771, 1625.4028,  ..., 1637.1934, 1598.5648,\n",
       "         1612.2319],\n",
       "        [2315.9834, 2215.6719, 2149.3628,  ..., 2138.6021, 2143.5679,\n",
       "         2196.2263],\n",
       "        [1831.1561, 1844.8856, 1833.5342,  ..., 1903.5167, 1790.9261,\n",
       "         1891.4246]], device='cuda:0', grad_fn=<AddmmBackward0>)"
      ]
     },
     "metadata": {},
     "output_type": "display_data"
    },
    {
     "data": {
      "text/plain": [
       "tensor([[1758.4371, 1617.2285, 1752.1163,  ..., 1711.7822, 1693.3439,\n",
       "         1791.4209],\n",
       "        [1653.7952, 1650.1288, 1649.5579,  ..., 1693.3092, 1634.6259,\n",
       "         1621.3844],\n",
       "        [2594.7153, 2531.7937, 2576.5503,  ..., 2593.9448, 2622.4768,\n",
       "         2579.1851],\n",
       "        ...,\n",
       "        [2008.3191, 2082.7131, 1828.9202,  ..., 1841.0184, 1754.6298,\n",
       "         1820.2100],\n",
       "        [2271.5374, 2281.2097, 2249.7478,  ..., 2257.0051, 2237.9114,\n",
       "         2219.9814],\n",
       "        [1466.9072, 1477.4668, 1440.9099,  ..., 1454.8804, 1499.2856,\n",
       "         1454.1365]], device='cuda:0', grad_fn=<AddmmBackward0>)"
      ]
     },
     "metadata": {},
     "output_type": "display_data"
    },
    {
     "data": {
      "text/plain": [
       "tensor([[1637.3445, 1614.7484, 1513.6594,  ..., 1567.0155, 1561.2024,\n",
       "         1608.3671],\n",
       "        [2139.8267, 2144.9250, 2118.8445,  ..., 2156.5063, 2120.7441,\n",
       "         2127.2424],\n",
       "        [1685.5885, 1639.4707, 1682.0231,  ..., 1668.1340, 1754.9614,\n",
       "         1717.6376],\n",
       "        ...,\n",
       "        [2608.9692, 2605.0615, 2535.1782,  ..., 2535.0500, 2580.3840,\n",
       "         2492.1958],\n",
       "        [1447.3575, 1474.6082, 1454.2690,  ..., 1463.8927, 1466.8313,\n",
       "         1422.8978],\n",
       "        [1749.2286, 1697.7406, 1731.7440,  ..., 1757.7094, 1724.5114,\n",
       "         1740.0934]], device='cuda:0', grad_fn=<AddmmBackward0>)"
      ]
     },
     "metadata": {},
     "output_type": "display_data"
    },
    {
     "data": {
      "text/plain": [
       "tensor([[1615.5347, 1634.7449, 1593.1862,  ..., 1644.7363, 1581.0457,\n",
       "         1619.9908],\n",
       "        [1836.8802, 1835.3770, 1804.4547,  ..., 1813.3710, 1809.2640,\n",
       "         1834.7041],\n",
       "        [1506.0758, 1487.0129, 1492.1097,  ..., 1516.5767, 1460.5720,\n",
       "         1461.1968],\n",
       "        ...,\n",
       "        [1525.4744, 1549.2424, 1542.5800,  ..., 1549.3274, 1522.5293,\n",
       "         1540.0830],\n",
       "        [1659.4825, 1623.8367, 1741.4403,  ..., 1742.6426, 1813.8439,\n",
       "         1708.4490],\n",
       "        [2762.8618, 2747.0913, 2788.7090,  ..., 2773.9365, 2736.9106,\n",
       "         2777.6746]], device='cuda:0', grad_fn=<AddmmBackward0>)"
      ]
     },
     "metadata": {},
     "output_type": "display_data"
    },
    {
     "data": {
      "text/plain": [
       "tensor([[1661.4736, 1759.5277, 1619.4767,  ..., 1750.3322, 1675.4146,\n",
       "         1627.6072],\n",
       "        [1397.7800, 1359.9664, 1364.8842,  ..., 1407.2197, 1414.2242,\n",
       "         1360.4944],\n",
       "        [2315.1790, 2331.7651, 2238.3030,  ..., 2366.0996, 2400.9810,\n",
       "         2295.4519],\n",
       "        ...,\n",
       "        [1339.5742, 1323.4039, 1313.4432,  ..., 1336.4059, 1320.5626,\n",
       "         1311.1785],\n",
       "        [1871.7048, 1826.2465, 1832.3007,  ..., 1833.0675, 1847.5441,\n",
       "         1860.4615],\n",
       "        [1924.7666, 1810.2554, 1861.7683,  ..., 1912.2024, 1859.5377,\n",
       "         1892.8506]], device='cuda:0', grad_fn=<AddmmBackward0>)"
      ]
     },
     "metadata": {},
     "output_type": "display_data"
    },
    {
     "data": {
      "text/plain": [
       "tensor([[2371.1372, 2296.8550, 2404.8284,  ..., 2465.8816, 2361.6995,\n",
       "         2416.7632],\n",
       "        [1713.5619, 1702.2883, 1697.9038,  ..., 1701.7751, 1653.0176,\n",
       "         1698.5797],\n",
       "        [1536.2821, 1551.5798, 1584.2815,  ..., 1550.7749, 1536.6040,\n",
       "         1543.0320],\n",
       "        ...,\n",
       "        [1659.8781, 1687.6261, 1664.8191,  ..., 1666.9771, 1621.2998,\n",
       "         1646.2529],\n",
       "        [1564.2880, 1516.9323, 1502.0984,  ..., 1532.2427, 1525.7856,\n",
       "         1519.6699],\n",
       "        [1838.5851, 1827.6541, 1818.3325,  ..., 1839.7444, 1857.4835,\n",
       "         1822.3202]], device='cuda:0', grad_fn=<AddmmBackward0>)"
      ]
     },
     "metadata": {},
     "output_type": "display_data"
    },
    {
     "data": {
      "text/plain": [
       "tensor([[1764.7544, 1770.9613, 1769.0948,  ..., 1745.6436, 1755.5991,\n",
       "         1747.8966],\n",
       "        [2255.7859, 2241.2588, 2142.5344,  ..., 2183.8132, 2158.0991,\n",
       "         2176.0303],\n",
       "        [1693.5555, 1690.3844, 1688.4772,  ..., 1743.5374, 1704.4746,\n",
       "         1683.8253],\n",
       "        ...,\n",
       "        [2293.3196, 2325.3086, 2290.2043,  ..., 2289.9517, 2307.2373,\n",
       "         2319.5959],\n",
       "        [1820.0640, 1865.6816, 1777.0087,  ..., 1832.0427, 1769.4329,\n",
       "         1775.0862],\n",
       "        [2278.9548, 2288.4639, 2268.1780,  ..., 2267.2969, 2273.2124,\n",
       "         2272.2759]], device='cuda:0', grad_fn=<AddmmBackward0>)"
      ]
     },
     "metadata": {},
     "output_type": "display_data"
    },
    {
     "data": {
      "text/plain": [
       "tensor([[1363.1565, 1346.1714, 1368.2531,  ..., 1381.5831, 1388.6974,\n",
       "         1394.5101],\n",
       "        [3693.9851, 3892.2834, 3625.6829,  ..., 3774.8181, 3566.1875,\n",
       "         3322.2583],\n",
       "        [3216.7004, 3443.4348, 3549.2104,  ..., 3330.2268, 3658.9829,\n",
       "         3493.2781],\n",
       "        ...,\n",
       "        [1281.9741, 1284.0908, 1285.5079,  ..., 1296.0472, 1268.0621,\n",
       "         1261.7390],\n",
       "        [2388.1853, 2383.9365, 2387.4587,  ..., 2375.5244, 2302.1013,\n",
       "         2308.7134],\n",
       "        [3307.6460, 3316.5554, 3337.7761,  ..., 3301.0686, 3240.2720,\n",
       "         3355.9365]], device='cuda:0', grad_fn=<AddmmBackward0>)"
      ]
     },
     "metadata": {},
     "output_type": "display_data"
    },
    {
     "data": {
      "text/plain": [
       "tensor([[1607.2765, 1649.8743, 1610.7279,  ..., 1602.8641, 1546.1676,\n",
       "         1576.5219],\n",
       "        [1255.6052, 1300.3083, 1402.1683,  ..., 1298.1267, 1360.1945,\n",
       "         1339.2223],\n",
       "        [1670.0272, 1645.9572, 1593.2952,  ..., 1651.6224, 1694.4049,\n",
       "         1651.1564],\n",
       "        ...,\n",
       "        [1189.8264, 1212.8292, 1170.4672,  ..., 1194.2417, 1319.5995,\n",
       "         1235.6039],\n",
       "        [1836.2815, 1922.5347, 2278.8999,  ..., 1941.0995, 2531.0720,\n",
       "         2350.4170],\n",
       "        [1369.2522, 1391.3037, 1357.0800,  ..., 1292.5895, 1273.8927,\n",
       "         1399.0975]], device='cuda:0', grad_fn=<AddmmBackward0>)"
      ]
     },
     "metadata": {},
     "output_type": "display_data"
    },
    {
     "data": {
      "text/plain": [
       "tensor([[1085.4275, 1106.9849, 1089.1329,  ..., 1104.4795, 1090.2687,\n",
       "         1055.8774],\n",
       "        [1613.1411, 1571.2428, 1598.2042,  ..., 1604.7665, 1541.2950,\n",
       "         1592.7391],\n",
       "        [1382.7056, 1383.8890, 1407.7037,  ..., 1394.8748, 1367.4380,\n",
       "         1361.6299],\n",
       "        ...,\n",
       "        [ 906.4996,  962.8361,  899.9264,  ...,  924.4002,  942.4916,\n",
       "         1017.6439],\n",
       "        [1705.5269, 1650.7432, 1635.1542,  ..., 1680.1011, 1661.9242,\n",
       "         1666.0637],\n",
       "        [3472.7344, 3774.5996, 3502.2847,  ..., 3544.1423, 3692.3633,\n",
       "         3749.1355]], device='cuda:0', grad_fn=<AddmmBackward0>)"
      ]
     },
     "metadata": {},
     "output_type": "display_data"
    },
    {
     "data": {
      "text/plain": [
       "tensor([[2132.9880, 2104.4707, 2129.8176,  ..., 2145.1865, 2157.2273,\n",
       "         2119.1169],\n",
       "        [2287.9492, 2206.1321, 2333.6384,  ..., 2301.1904, 2293.8149,\n",
       "         2309.3818],\n",
       "        [2311.1628, 2350.3044, 2297.6641,  ..., 2301.2837, 2220.7568,\n",
       "         2284.3123],\n",
       "        ...,\n",
       "        [2551.5076, 2523.7461, 2664.8989,  ..., 2490.3796, 2541.7117,\n",
       "         2519.7649],\n",
       "        [1100.3730, 1198.2498, 1087.1063,  ..., 1083.8961, 1180.0167,\n",
       "         1178.1625],\n",
       "        [2295.9729, 2570.1084, 2284.0010,  ..., 2335.1533, 2196.5630,\n",
       "         2297.0713]], device='cuda:0', grad_fn=<AddmmBackward0>)"
      ]
     },
     "metadata": {},
     "output_type": "display_data"
    },
    {
     "data": {
      "text/plain": [
       "tensor([[2068.0547, 1853.8159, 2053.3679,  ..., 2130.8562, 2064.7803,\n",
       "         2077.2600],\n",
       "        [1494.9672, 1430.9011, 1462.3207,  ..., 1458.2355, 1444.5670,\n",
       "         1463.3961],\n",
       "        [2273.1807, 2321.9104, 2311.7964,  ..., 2300.4185, 2249.4514,\n",
       "         2325.8142],\n",
       "        ...,\n",
       "        [1990.5616, 1996.1283, 2012.7148,  ..., 2030.4952, 2014.9867,\n",
       "         2083.4458],\n",
       "        [2152.0508, 2135.9036, 2184.6323,  ..., 2101.4590, 2099.0896,\n",
       "         2143.1108],\n",
       "        [1812.6133, 1833.8413, 1925.2339,  ..., 1935.1163, 1935.9095,\n",
       "         1854.6562]], device='cuda:0', grad_fn=<AddmmBackward0>)"
      ]
     },
     "metadata": {},
     "output_type": "display_data"
    },
    {
     "data": {
      "text/plain": [
       "tensor([[1546.8560, 1528.6700, 1411.9541,  ..., 1484.1219, 1494.7758,\n",
       "         1454.8198],\n",
       "        [1765.0620, 1736.4591, 1783.0552,  ..., 1782.5380, 1763.5961,\n",
       "         1763.1094],\n",
       "        [1437.1382, 1450.0330, 1515.7593,  ..., 1424.8759, 1524.7115,\n",
       "         1468.9243],\n",
       "        ...,\n",
       "        [2504.1770, 2521.0576, 2570.5156,  ..., 2579.6018, 2443.3528,\n",
       "         2504.8408],\n",
       "        [1894.3337, 1860.8973, 1730.1184,  ..., 1784.8364, 1852.6620,\n",
       "         1880.7795],\n",
       "        [ 798.9959,  806.8904,  777.2849,  ...,  790.0305,  761.8479,\n",
       "          783.1014]], device='cuda:0', grad_fn=<AddmmBackward0>)"
      ]
     },
     "metadata": {},
     "output_type": "display_data"
    },
    {
     "data": {
      "text/plain": [
       "tensor([[2407.4695, 2486.1455, 2438.9299,  ..., 2512.8796, 2432.4482,\n",
       "         2453.1746],\n",
       "        [1608.6117, 1607.0914, 1565.4995,  ..., 1606.4116, 1584.1455,\n",
       "         1585.7075],\n",
       "        [2519.2324, 2560.4949, 2535.7825,  ..., 2552.4338, 2527.9473,\n",
       "         2526.8401],\n",
       "        ...,\n",
       "        [1585.9042, 1646.3917, 1617.1547,  ..., 1595.0590, 1571.7236,\n",
       "         1620.5721],\n",
       "        [ 878.9778,  964.7101,  883.1312,  ...,  941.4083,  900.1539,\n",
       "          939.0235],\n",
       "        [1824.9727, 1776.9637, 1926.7515,  ..., 1931.2295, 1944.6194,\n",
       "         1894.7664]], device='cuda:0', grad_fn=<AddmmBackward0>)"
      ]
     },
     "metadata": {},
     "output_type": "display_data"
    },
    {
     "data": {
      "text/plain": [
       "tensor([[1588.6725, 1579.6587, 1652.5259,  ..., 1597.9509, 1653.0536,\n",
       "         1589.0300],\n",
       "        [1513.1357, 1501.6097, 1460.8090,  ..., 1490.2661, 1418.4949,\n",
       "         1461.3529],\n",
       "        [1770.8663, 1748.3224, 1782.3859,  ..., 1776.6033, 1756.4073,\n",
       "         1748.6051],\n",
       "        ...,\n",
       "        [2303.2778, 2211.6267, 2188.5005,  ..., 2128.9841, 2262.9875,\n",
       "         2281.1294],\n",
       "        [1989.5823, 1990.7513, 1912.2445,  ..., 2000.7719, 1911.7603,\n",
       "         2007.0704],\n",
       "        [2036.7484, 2102.3965, 2026.8339,  ..., 2047.4078, 1890.7410,\n",
       "         2074.6633]], device='cuda:0', grad_fn=<AddmmBackward0>)"
      ]
     },
     "metadata": {},
     "output_type": "display_data"
    },
    {
     "data": {
      "text/plain": [
       "tensor([[1310.9427, 1303.8317, 1306.5626,  ..., 1294.6476, 1272.6260,\n",
       "         1286.3641],\n",
       "        [1179.7893, 1183.5189, 1198.5675,  ..., 1186.6271, 1204.2942,\n",
       "         1168.2577],\n",
       "        [1825.8179, 1850.4497, 1876.1182,  ..., 1869.6097, 1803.0148,\n",
       "         1848.3553],\n",
       "        ...,\n",
       "        [2757.1838, 2695.1084, 2684.6235,  ..., 2810.6252, 2700.2024,\n",
       "         2828.6790],\n",
       "        [1425.3606, 1396.8768, 1422.8536,  ..., 1471.0092, 1423.7365,\n",
       "         1438.1818],\n",
       "        [1689.5450, 1696.8181, 1682.5997,  ..., 1682.6958, 1697.3014,\n",
       "         1697.6200]], device='cuda:0', grad_fn=<AddmmBackward0>)"
      ]
     },
     "metadata": {},
     "output_type": "display_data"
    },
    {
     "data": {
      "text/plain": [
       "tensor([[2032.1080, 2091.5977, 2046.7432,  ..., 2006.7427, 1983.8540,\n",
       "         2064.2070],\n",
       "        [3017.4990, 2988.8003, 3090.8923,  ..., 3035.0078, 2961.0654,\n",
       "         2974.6067],\n",
       "        [1516.9053, 1436.7910, 1482.8820,  ..., 1518.8362, 1444.9688,\n",
       "         1530.4712],\n",
       "        ...,\n",
       "        [1222.2179, 1285.9727, 1259.1045,  ..., 1252.5941, 1287.5222,\n",
       "         1281.8298],\n",
       "        [2066.0112, 2090.4307, 2055.8191,  ..., 2068.0962, 2062.1831,\n",
       "         2088.9646],\n",
       "        [1680.3571, 1705.0527, 1601.0842,  ..., 1632.1693, 1674.2207,\n",
       "         1702.3625]], device='cuda:0', grad_fn=<AddmmBackward0>)"
      ]
     },
     "metadata": {},
     "output_type": "display_data"
    },
    {
     "data": {
      "text/plain": [
       "tensor([[1279.7722, 1273.2716, 1322.3727,  ..., 1238.0161, 1278.0155,\n",
       "         1288.1447],\n",
       "        [1583.4404, 1698.1124, 1654.4122,  ..., 1651.4655, 1596.5912,\n",
       "         1626.2386],\n",
       "        [2016.9141, 2087.2961, 2174.9504,  ..., 2093.3091, 2073.9314,\n",
       "         2071.9102],\n",
       "        ...,\n",
       "        [2359.0283, 2333.0229, 2322.6079,  ..., 2293.1245, 2220.0591,\n",
       "         2228.5967],\n",
       "        [1887.2958, 1852.3427, 1891.0292,  ..., 1884.6908, 1851.8469,\n",
       "         1870.0421],\n",
       "        [ 834.4927,  848.3874,  856.3818,  ...,  826.9828,  827.7286,\n",
       "          852.1116]], device='cuda:0', grad_fn=<AddmmBackward0>)"
      ]
     },
     "metadata": {},
     "output_type": "display_data"
    },
    {
     "data": {
      "text/plain": [
       "tensor([[1241.3346, 1223.3047, 1205.0875,  ..., 1243.1517, 1208.9451,\n",
       "         1201.5386],\n",
       "        [1513.1190, 1527.3406, 1514.4152,  ..., 1516.3251, 1488.2252,\n",
       "         1512.6019],\n",
       "        [1420.8810, 1379.7793, 1332.8691,  ..., 1307.8578, 1348.4940,\n",
       "         1394.0646],\n",
       "        ...,\n",
       "        [2502.7288, 2625.7229, 2621.5718,  ..., 2569.6519, 2530.5093,\n",
       "         2557.5591],\n",
       "        [2122.8669, 2122.6707, 2011.1401,  ..., 2098.5247, 2019.6252,\n",
       "         2195.9634],\n",
       "        [1788.0020, 1810.8883, 1809.4052,  ..., 1809.8335, 1743.0791,\n",
       "         1789.7334]], device='cuda:0', grad_fn=<AddmmBackward0>)"
      ]
     },
     "metadata": {},
     "output_type": "display_data"
    },
    {
     "data": {
      "text/plain": [
       "tensor([[2329.1238, 2298.8379, 2251.1104,  ..., 2278.4465, 2306.4736,\n",
       "         2309.9070],\n",
       "        [1770.5476, 1736.2609, 1757.1149,  ..., 1761.6515, 1729.8142,\n",
       "         1773.6807],\n",
       "        [1019.1781, 1010.9542, 1128.7399,  ..., 1023.1174, 1097.1677,\n",
       "         1096.4189],\n",
       "        ...,\n",
       "        [1557.3020, 1611.9171, 1604.3319,  ..., 1583.0538, 1531.3988,\n",
       "         1544.3347],\n",
       "        [1789.1691, 1793.8258, 1766.7141,  ..., 1766.2456, 1741.5303,\n",
       "         1751.0195],\n",
       "        [ 511.7371,  544.3398,  504.0370,  ...,  540.2350,  524.9703,\n",
       "          507.1320]], device='cuda:0', grad_fn=<AddmmBackward0>)"
      ]
     },
     "metadata": {},
     "output_type": "display_data"
    },
    {
     "data": {
      "text/plain": [
       "tensor([[1827.1951, 1864.7588, 1860.2299,  ..., 1895.4847, 1815.3961,\n",
       "         1836.3802],\n",
       "        [2078.3574, 1946.4460, 2186.0481,  ..., 2134.9016, 2124.5164,\n",
       "         2149.3047],\n",
       "        [2405.3362, 2419.8008, 2367.2666,  ..., 2408.9458, 2327.1267,\n",
       "         2355.5723],\n",
       "        ...,\n",
       "        [1728.6132, 1694.1855, 1736.0803,  ..., 1703.7190, 1686.5920,\n",
       "         1714.5768],\n",
       "        [1365.3033, 1342.4061, 1277.6013,  ..., 1357.9404, 1403.5663,\n",
       "         1340.3690],\n",
       "        [1312.2357, 1310.9163, 1304.7881,  ..., 1262.8281, 1257.7469,\n",
       "         1271.7046]], device='cuda:0', grad_fn=<AddmmBackward0>)"
      ]
     },
     "metadata": {},
     "output_type": "display_data"
    },
    {
     "data": {
      "text/plain": [
       "tensor([[2188.2422, 2213.9683, 2199.0095,  ..., 2172.7305, 2194.0708,\n",
       "         2201.1704],\n",
       "        [1623.4763, 1623.8527, 1623.5651,  ..., 1631.1586, 1568.6840,\n",
       "         1605.4258],\n",
       "        [1773.5831, 1774.2977, 1723.6819,  ..., 1691.7292, 1808.7180,\n",
       "         1789.4377],\n",
       "        ...,\n",
       "        [2371.6470, 2584.5144, 1997.3778,  ..., 2197.0498, 2355.9023,\n",
       "         2430.4573],\n",
       "        [1640.4432, 1670.1447, 1654.1417,  ..., 1647.6531, 1619.0992,\n",
       "         1636.7532],\n",
       "        [2237.3071, 2231.2974, 2228.4468,  ..., 2210.0889, 2218.0129,\n",
       "         2181.5850]], device='cuda:0', grad_fn=<AddmmBackward0>)"
      ]
     },
     "metadata": {},
     "output_type": "display_data"
    },
    {
     "ename": "KeyboardInterrupt",
     "evalue": "",
     "output_type": "error",
     "traceback": [
      "\u001b[1;31m---------------------------------------------------------------------------\u001b[0m",
      "\u001b[1;31mKeyboardInterrupt\u001b[0m                         Traceback (most recent call last)",
      "Cell \u001b[1;32mIn[32], line 63\u001b[0m\n\u001b[0;32m     59\u001b[0m log_writer \u001b[38;5;241m=\u001b[39m SummaryWriter(runs_dir \u001b[38;5;241m+\u001b[39m model\u001b[38;5;241m.\u001b[39m_get_name() \u001b[38;5;241m+\u001b[39m \u001b[38;5;28mstr\u001b[39m(n_iter))  \u001b[38;5;66;03m# Start tensorboard\u001b[39;00m\n\u001b[0;32m     61\u001b[0m \u001b[38;5;66;03m# POTREI FARMI RESTITUIRE IL MIGLIOR MODELLO DAL TRAIN E POI SALVARLO PER USARLO DIRETTAMENTE SOTTO NEL TEST FINALE\u001b[39;00m\n\u001b[0;32m     62\u001b[0m \u001b[38;5;66;03m# Train\u001b[39;00m\n\u001b[1;32m---> 63\u001b[0m \u001b[43mtrain_model\u001b[49m\u001b[43m(\u001b[49m\n\u001b[0;32m     64\u001b[0m \u001b[43m    \u001b[49m\u001b[43mmodel\u001b[49m\u001b[43m,\u001b[49m\n\u001b[0;32m     65\u001b[0m \u001b[43m    \u001b[49m\u001b[43mcriterion\u001b[49m\u001b[43m,\u001b[49m\n\u001b[0;32m     66\u001b[0m \u001b[43m    \u001b[49m\u001b[43moptimizer\u001b[49m\u001b[43m,\u001b[49m\n\u001b[0;32m     67\u001b[0m \u001b[43m    \u001b[49m\u001b[43mnum_epochs\u001b[49m\u001b[43m,\u001b[49m\n\u001b[0;32m     68\u001b[0m \u001b[43m    \u001b[49m\u001b[43mtrain_loader\u001b[49m\u001b[43m,\u001b[49m\n\u001b[0;32m     69\u001b[0m \u001b[43m    \u001b[49m\u001b[43mval_loader\u001b[49m\u001b[43m,\u001b[49m\n\u001b[0;32m     70\u001b[0m \u001b[43m    \u001b[49m\u001b[43mdevice\u001b[49m\u001b[43m,\u001b[49m\n\u001b[0;32m     71\u001b[0m \u001b[43m    \u001b[49m\u001b[43mlog_writer\u001b[49m\u001b[43m,\u001b[49m\n\u001b[0;32m     72\u001b[0m \u001b[43m    \u001b[49m\u001b[43mmodel\u001b[49m\u001b[38;5;241;43m.\u001b[39;49m\u001b[43m_get_name\u001b[49m\u001b[43m(\u001b[49m\u001b[43m)\u001b[49m\u001b[43m,\u001b[49m\n\u001b[0;32m     73\u001b[0m \u001b[43m\u001b[49m\u001b[43m)\u001b[49m\n\u001b[0;32m     75\u001b[0m \u001b[38;5;66;03m# Load best model\u001b[39;00m\n\u001b[0;32m     76\u001b[0m model\u001b[38;5;241m.\u001b[39mload_state_dict(torch\u001b[38;5;241m.\u001b[39mload(model_dir \u001b[38;5;241m+\u001b[39m model\u001b[38;5;241m.\u001b[39m_get_name()))\n",
      "Cell \u001b[1;32mIn[30], line 26\u001b[0m, in \u001b[0;36mtrain_model\u001b[1;34m(model, criterion, optimizer, epochs, train_loader, val_loader, device, log_writer, log_name)\u001b[0m\n\u001b[0;32m     23\u001b[0m model\u001b[38;5;241m.\u001b[39mtrain()  \u001b[38;5;66;03m# activate training mode (for BatchNorm or Dropout)\u001b[39;00m\n\u001b[0;32m     25\u001b[0m \u001b[38;5;66;03m# BATCHES\u001b[39;00m\n\u001b[1;32m---> 26\u001b[0m \u001b[43m\u001b[49m\u001b[38;5;28;43;01mfor\u001b[39;49;00m\u001b[43m \u001b[49m\u001b[43mdata\u001b[49m\u001b[43m,\u001b[49m\u001b[43m \u001b[49m\u001b[43mtargets\u001b[49m\u001b[43m \u001b[49m\u001b[38;5;129;43;01min\u001b[39;49;00m\u001b[43m \u001b[49m\u001b[43mtrain_loader\u001b[49m\u001b[43m:\u001b[49m\u001b[43m  \u001b[49m\u001b[38;5;66;43;03m# get_item from MyDataset class (single item or batch)\u001b[39;49;00m\n\u001b[0;32m     27\u001b[0m \u001b[43m    \u001b[49m\u001b[43mdata\u001b[49m\u001b[43m,\u001b[49m\u001b[43m \u001b[49m\u001b[43mtargets\u001b[49m\u001b[43m \u001b[49m\u001b[38;5;241;43m=\u001b[39;49m\u001b[43m \u001b[49m\u001b[43mdata\u001b[49m\u001b[38;5;241;43m.\u001b[39;49m\u001b[43mto\u001b[49m\u001b[43m(\u001b[49m\u001b[43mdevice\u001b[49m\u001b[43m)\u001b[49m\u001b[43m,\u001b[49m\u001b[43m \u001b[49m\u001b[43mtargets\u001b[49m\u001b[38;5;241;43m.\u001b[39;49m\u001b[43mto\u001b[49m\u001b[43m(\u001b[49m\u001b[43mdevice\u001b[49m\u001b[43m)\u001b[49m\u001b[43m  \u001b[49m\u001b[38;5;66;43;03m# move data and targets to cpu/gpu\u001b[39;49;00m\n\u001b[0;32m     29\u001b[0m \u001b[43m    \u001b[49m\u001b[43moptimizer\u001b[49m\u001b[38;5;241;43m.\u001b[39;49m\u001b[43mzero_grad\u001b[49m\u001b[43m(\u001b[49m\u001b[43m)\u001b[49m\u001b[43m  \u001b[49m\u001b[38;5;66;43;03m# gradient to zero\u001b[39;49;00m\n",
      "File \u001b[1;32mc:\\Users\\evang.HOMEEVANGELISTI\\AppData\\Local\\Programs\\Python\\Python311\\Lib\\site-packages\\torch\\utils\\data\\dataloader.py:630\u001b[0m, in \u001b[0;36m_BaseDataLoaderIter.__next__\u001b[1;34m(self)\u001b[0m\n\u001b[0;32m    627\u001b[0m \u001b[38;5;28;01mif\u001b[39;00m \u001b[38;5;28mself\u001b[39m\u001b[38;5;241m.\u001b[39m_sampler_iter \u001b[38;5;129;01mis\u001b[39;00m \u001b[38;5;28;01mNone\u001b[39;00m:\n\u001b[0;32m    628\u001b[0m     \u001b[38;5;66;03m# TODO(https://github.com/pytorch/pytorch/issues/76750)\u001b[39;00m\n\u001b[0;32m    629\u001b[0m     \u001b[38;5;28mself\u001b[39m\u001b[38;5;241m.\u001b[39m_reset()  \u001b[38;5;66;03m# type: ignore[call-arg]\u001b[39;00m\n\u001b[1;32m--> 630\u001b[0m data \u001b[38;5;241m=\u001b[39m \u001b[38;5;28;43mself\u001b[39;49m\u001b[38;5;241;43m.\u001b[39;49m\u001b[43m_next_data\u001b[49m\u001b[43m(\u001b[49m\u001b[43m)\u001b[49m\n\u001b[0;32m    631\u001b[0m \u001b[38;5;28mself\u001b[39m\u001b[38;5;241m.\u001b[39m_num_yielded \u001b[38;5;241m+\u001b[39m\u001b[38;5;241m=\u001b[39m \u001b[38;5;241m1\u001b[39m\n\u001b[0;32m    632\u001b[0m \u001b[38;5;28;01mif\u001b[39;00m \u001b[38;5;28mself\u001b[39m\u001b[38;5;241m.\u001b[39m_dataset_kind \u001b[38;5;241m==\u001b[39m _DatasetKind\u001b[38;5;241m.\u001b[39mIterable \u001b[38;5;129;01mand\u001b[39;00m \\\n\u001b[0;32m    633\u001b[0m         \u001b[38;5;28mself\u001b[39m\u001b[38;5;241m.\u001b[39m_IterableDataset_len_called \u001b[38;5;129;01mis\u001b[39;00m \u001b[38;5;129;01mnot\u001b[39;00m \u001b[38;5;28;01mNone\u001b[39;00m \u001b[38;5;129;01mand\u001b[39;00m \\\n\u001b[0;32m    634\u001b[0m         \u001b[38;5;28mself\u001b[39m\u001b[38;5;241m.\u001b[39m_num_yielded \u001b[38;5;241m>\u001b[39m \u001b[38;5;28mself\u001b[39m\u001b[38;5;241m.\u001b[39m_IterableDataset_len_called:\n",
      "File \u001b[1;32mc:\\Users\\evang.HOMEEVANGELISTI\\AppData\\Local\\Programs\\Python\\Python311\\Lib\\site-packages\\torch\\utils\\data\\dataloader.py:674\u001b[0m, in \u001b[0;36m_SingleProcessDataLoaderIter._next_data\u001b[1;34m(self)\u001b[0m\n\u001b[0;32m    672\u001b[0m \u001b[38;5;28;01mdef\u001b[39;00m \u001b[38;5;21m_next_data\u001b[39m(\u001b[38;5;28mself\u001b[39m):\n\u001b[0;32m    673\u001b[0m     index \u001b[38;5;241m=\u001b[39m \u001b[38;5;28mself\u001b[39m\u001b[38;5;241m.\u001b[39m_next_index()  \u001b[38;5;66;03m# may raise StopIteration\u001b[39;00m\n\u001b[1;32m--> 674\u001b[0m     data \u001b[38;5;241m=\u001b[39m \u001b[38;5;28;43mself\u001b[39;49m\u001b[38;5;241;43m.\u001b[39;49m\u001b[43m_dataset_fetcher\u001b[49m\u001b[38;5;241;43m.\u001b[39;49m\u001b[43mfetch\u001b[49m\u001b[43m(\u001b[49m\u001b[43mindex\u001b[49m\u001b[43m)\u001b[49m  \u001b[38;5;66;03m# may raise StopIteration\u001b[39;00m\n\u001b[0;32m    675\u001b[0m     \u001b[38;5;28;01mif\u001b[39;00m \u001b[38;5;28mself\u001b[39m\u001b[38;5;241m.\u001b[39m_pin_memory:\n\u001b[0;32m    676\u001b[0m         data \u001b[38;5;241m=\u001b[39m _utils\u001b[38;5;241m.\u001b[39mpin_memory\u001b[38;5;241m.\u001b[39mpin_memory(data, \u001b[38;5;28mself\u001b[39m\u001b[38;5;241m.\u001b[39m_pin_memory_device)\n",
      "File \u001b[1;32mc:\\Users\\evang.HOMEEVANGELISTI\\AppData\\Local\\Programs\\Python\\Python311\\Lib\\site-packages\\torch\\utils\\data\\_utils\\fetch.py:54\u001b[0m, in \u001b[0;36m_MapDatasetFetcher.fetch\u001b[1;34m(self, possibly_batched_index)\u001b[0m\n\u001b[0;32m     52\u001b[0m \u001b[38;5;28;01melse\u001b[39;00m:\n\u001b[0;32m     53\u001b[0m     data \u001b[38;5;241m=\u001b[39m \u001b[38;5;28mself\u001b[39m\u001b[38;5;241m.\u001b[39mdataset[possibly_batched_index]\n\u001b[1;32m---> 54\u001b[0m \u001b[38;5;28;01mreturn\u001b[39;00m \u001b[38;5;28;43mself\u001b[39;49m\u001b[38;5;241;43m.\u001b[39;49m\u001b[43mcollate_fn\u001b[49m\u001b[43m(\u001b[49m\u001b[43mdata\u001b[49m\u001b[43m)\u001b[49m\n",
      "File \u001b[1;32mc:\\Users\\evang.HOMEEVANGELISTI\\AppData\\Local\\Programs\\Python\\Python311\\Lib\\site-packages\\torch\\utils\\data\\_utils\\collate.py:265\u001b[0m, in \u001b[0;36mdefault_collate\u001b[1;34m(batch)\u001b[0m\n\u001b[0;32m    204\u001b[0m \u001b[38;5;28;01mdef\u001b[39;00m \u001b[38;5;21mdefault_collate\u001b[39m(batch):\n\u001b[0;32m    205\u001b[0m \u001b[38;5;250m    \u001b[39m\u001b[38;5;124mr\u001b[39m\u001b[38;5;124;03m\"\"\"\u001b[39;00m\n\u001b[0;32m    206\u001b[0m \u001b[38;5;124;03m        Function that takes in a batch of data and puts the elements within the batch\u001b[39;00m\n\u001b[0;32m    207\u001b[0m \u001b[38;5;124;03m        into a tensor with an additional outer dimension - batch size. The exact output type can be\u001b[39;00m\n\u001b[1;32m   (...)\u001b[0m\n\u001b[0;32m    263\u001b[0m \u001b[38;5;124;03m            >>> default_collate(batch)  # Handle `CustomType` automatically\u001b[39;00m\n\u001b[0;32m    264\u001b[0m \u001b[38;5;124;03m    \"\"\"\u001b[39;00m\n\u001b[1;32m--> 265\u001b[0m     \u001b[38;5;28;01mreturn\u001b[39;00m \u001b[43mcollate\u001b[49m\u001b[43m(\u001b[49m\u001b[43mbatch\u001b[49m\u001b[43m,\u001b[49m\u001b[43m \u001b[49m\u001b[43mcollate_fn_map\u001b[49m\u001b[38;5;241;43m=\u001b[39;49m\u001b[43mdefault_collate_fn_map\u001b[49m\u001b[43m)\u001b[49m\n",
      "File \u001b[1;32mc:\\Users\\evang.HOMEEVANGELISTI\\AppData\\Local\\Programs\\Python\\Python311\\Lib\\site-packages\\torch\\utils\\data\\_utils\\collate.py:142\u001b[0m, in \u001b[0;36mcollate\u001b[1;34m(batch, collate_fn_map)\u001b[0m\n\u001b[0;32m    139\u001b[0m transposed \u001b[38;5;241m=\u001b[39m \u001b[38;5;28mlist\u001b[39m(\u001b[38;5;28mzip\u001b[39m(\u001b[38;5;241m*\u001b[39mbatch))  \u001b[38;5;66;03m# It may be accessed twice, so we use a list.\u001b[39;00m\n\u001b[0;32m    141\u001b[0m \u001b[38;5;28;01mif\u001b[39;00m \u001b[38;5;28misinstance\u001b[39m(elem, \u001b[38;5;28mtuple\u001b[39m):\n\u001b[1;32m--> 142\u001b[0m     \u001b[38;5;28;01mreturn\u001b[39;00m \u001b[43m[\u001b[49m\u001b[43mcollate\u001b[49m\u001b[43m(\u001b[49m\u001b[43msamples\u001b[49m\u001b[43m,\u001b[49m\u001b[43m \u001b[49m\u001b[43mcollate_fn_map\u001b[49m\u001b[38;5;241;43m=\u001b[39;49m\u001b[43mcollate_fn_map\u001b[49m\u001b[43m)\u001b[49m\u001b[43m \u001b[49m\u001b[38;5;28;43;01mfor\u001b[39;49;00m\u001b[43m \u001b[49m\u001b[43msamples\u001b[49m\u001b[43m \u001b[49m\u001b[38;5;129;43;01min\u001b[39;49;00m\u001b[43m \u001b[49m\u001b[43mtransposed\u001b[49m\u001b[43m]\u001b[49m  \u001b[38;5;66;03m# Backwards compatibility.\u001b[39;00m\n\u001b[0;32m    143\u001b[0m \u001b[38;5;28;01melse\u001b[39;00m:\n\u001b[0;32m    144\u001b[0m     \u001b[38;5;28;01mtry\u001b[39;00m:\n",
      "File \u001b[1;32mc:\\Users\\evang.HOMEEVANGELISTI\\AppData\\Local\\Programs\\Python\\Python311\\Lib\\site-packages\\torch\\utils\\data\\_utils\\collate.py:142\u001b[0m, in \u001b[0;36m<listcomp>\u001b[1;34m(.0)\u001b[0m\n\u001b[0;32m    139\u001b[0m transposed \u001b[38;5;241m=\u001b[39m \u001b[38;5;28mlist\u001b[39m(\u001b[38;5;28mzip\u001b[39m(\u001b[38;5;241m*\u001b[39mbatch))  \u001b[38;5;66;03m# It may be accessed twice, so we use a list.\u001b[39;00m\n\u001b[0;32m    141\u001b[0m \u001b[38;5;28;01mif\u001b[39;00m \u001b[38;5;28misinstance\u001b[39m(elem, \u001b[38;5;28mtuple\u001b[39m):\n\u001b[1;32m--> 142\u001b[0m     \u001b[38;5;28;01mreturn\u001b[39;00m [\u001b[43mcollate\u001b[49m\u001b[43m(\u001b[49m\u001b[43msamples\u001b[49m\u001b[43m,\u001b[49m\u001b[43m \u001b[49m\u001b[43mcollate_fn_map\u001b[49m\u001b[38;5;241;43m=\u001b[39;49m\u001b[43mcollate_fn_map\u001b[49m\u001b[43m)\u001b[49m \u001b[38;5;28;01mfor\u001b[39;00m samples \u001b[38;5;129;01min\u001b[39;00m transposed]  \u001b[38;5;66;03m# Backwards compatibility.\u001b[39;00m\n\u001b[0;32m    143\u001b[0m \u001b[38;5;28;01melse\u001b[39;00m:\n\u001b[0;32m    144\u001b[0m     \u001b[38;5;28;01mtry\u001b[39;00m:\n",
      "File \u001b[1;32mc:\\Users\\evang.HOMEEVANGELISTI\\AppData\\Local\\Programs\\Python\\Python311\\Lib\\site-packages\\torch\\utils\\data\\_utils\\collate.py:119\u001b[0m, in \u001b[0;36mcollate\u001b[1;34m(batch, collate_fn_map)\u001b[0m\n\u001b[0;32m    117\u001b[0m \u001b[38;5;28;01mif\u001b[39;00m collate_fn_map \u001b[38;5;129;01mis\u001b[39;00m \u001b[38;5;129;01mnot\u001b[39;00m \u001b[38;5;28;01mNone\u001b[39;00m:\n\u001b[0;32m    118\u001b[0m     \u001b[38;5;28;01mif\u001b[39;00m elem_type \u001b[38;5;129;01min\u001b[39;00m collate_fn_map:\n\u001b[1;32m--> 119\u001b[0m         \u001b[38;5;28;01mreturn\u001b[39;00m \u001b[43mcollate_fn_map\u001b[49m\u001b[43m[\u001b[49m\u001b[43melem_type\u001b[49m\u001b[43m]\u001b[49m\u001b[43m(\u001b[49m\u001b[43mbatch\u001b[49m\u001b[43m,\u001b[49m\u001b[43m \u001b[49m\u001b[43mcollate_fn_map\u001b[49m\u001b[38;5;241;43m=\u001b[39;49m\u001b[43mcollate_fn_map\u001b[49m\u001b[43m)\u001b[49m\n\u001b[0;32m    121\u001b[0m     \u001b[38;5;28;01mfor\u001b[39;00m collate_type \u001b[38;5;129;01min\u001b[39;00m collate_fn_map:\n\u001b[0;32m    122\u001b[0m         \u001b[38;5;28;01mif\u001b[39;00m \u001b[38;5;28misinstance\u001b[39m(elem, collate_type):\n",
      "File \u001b[1;32mc:\\Users\\evang.HOMEEVANGELISTI\\AppData\\Local\\Programs\\Python\\Python311\\Lib\\site-packages\\torch\\utils\\data\\_utils\\collate.py:162\u001b[0m, in \u001b[0;36mcollate_tensor_fn\u001b[1;34m(batch, collate_fn_map)\u001b[0m\n\u001b[0;32m    160\u001b[0m     storage \u001b[38;5;241m=\u001b[39m elem\u001b[38;5;241m.\u001b[39m_typed_storage()\u001b[38;5;241m.\u001b[39m_new_shared(numel, device\u001b[38;5;241m=\u001b[39melem\u001b[38;5;241m.\u001b[39mdevice)\n\u001b[0;32m    161\u001b[0m     out \u001b[38;5;241m=\u001b[39m elem\u001b[38;5;241m.\u001b[39mnew(storage)\u001b[38;5;241m.\u001b[39mresize_(\u001b[38;5;28mlen\u001b[39m(batch), \u001b[38;5;241m*\u001b[39m\u001b[38;5;28mlist\u001b[39m(elem\u001b[38;5;241m.\u001b[39msize()))\n\u001b[1;32m--> 162\u001b[0m \u001b[38;5;28;01mreturn\u001b[39;00m \u001b[43mtorch\u001b[49m\u001b[38;5;241;43m.\u001b[39;49m\u001b[43mstack\u001b[49m\u001b[43m(\u001b[49m\u001b[43mbatch\u001b[49m\u001b[43m,\u001b[49m\u001b[43m \u001b[49m\u001b[38;5;241;43m0\u001b[39;49m\u001b[43m,\u001b[49m\u001b[43m \u001b[49m\u001b[43mout\u001b[49m\u001b[38;5;241;43m=\u001b[39;49m\u001b[43mout\u001b[49m\u001b[43m)\u001b[49m\n",
      "\u001b[1;31mKeyboardInterrupt\u001b[0m: "
     ]
    }
   ],
   "source": [
    "fix_random(random_state)\n",
    "\n",
    "n_iter = 0\n",
    "best_loss = np.inf\n",
    "best_combination = None\n",
    "best_model = None\n",
    "\n",
    "## da vedere hyperparametri su cui ciclare\n",
    "for hidden_size, depth, num_epochs, batch_size, lr in hyperparameters:\n",
    "    n_iter += 1\n",
    "    print(f\"Iteration {n_iter}/{n_comb}\")\n",
    "    ## da vedere hyperparametri da stampare\n",
    "    print(f\"hidden_size: {hidden_size}, depth: {depth}, batch_size: {batch_size}, lr: {lr}\")\n",
    "\n",
    "    log = f\"hidden_size: {hidden_size}, depth: {depth}, batch_size: {batch_size}, lr: {lr}\"\n",
    "\n",
    "    ## if PREPROCESS == TRUE\n",
    "    ## cambio dir su cui scrivo\n",
    "\n",
    "    # if pca_t == True:\n",
    "    #     if os.path.exists('risultati/nn/pca'+log):\n",
    "    #         print('Model alredy trained. Skipping...')\n",
    "    #         continue\n",
    "    #     writer= SummaryWriter('risultati/nn/pca/'+log)\n",
    "    # else:\n",
    "    #     if os.path.exists('risultati/nn/no_pca/'+log):\n",
    "    #         print('Model alredy trained. Skipping...')\n",
    "    #         continue\n",
    "    #     writer= SummaryWriter('risultati/nn/no_pca'+log)\n",
    "\n",
    "    train_loader = DataLoader(train_subset, batch_size=batch_size, shuffle=True)\n",
    "\n",
    "    config = {\n",
    "        \"hidden_size\": hidden_size,\n",
    "        \"depth\": depth,\n",
    "        \"batch_size\": batch_size,\n",
    "        \"lr\": lr\n",
    "        ## altri possibili parametri\n",
    "    }\n",
    "\n",
    "    # get model\n",
    "    model = NeuralNetwork(my_dataset.num_features, hidden_size, my_dataset.num_classes)\n",
    "    model.to(device)  # move the NN to device\n",
    "\n",
    "    # FOR REGRESSION TASKS\n",
    "    # It is mathematically the preferred loss function under the inference framework of maximum likelihood if the distribution of the target variable is Gaussian.\n",
    "    criterion = nn.MSELoss()\n",
    "    ## provare anche\n",
    "    # Mean Absolute Error (MAE) -> less sensitive to outliers\n",
    "    # Huber Loss -> combination of MAE\n",
    "    # Log-Cosh Loss -> smooth approximation of the MAE loss function. It is less sensitive to outliers than MSE and more robust than MAE.\n",
    "\n",
    "    ## QUALE OPTIMIZER USIAMO??\n",
    "    # optimizer = torch.optim.SGD(model.parameters(), lr=lr)\n",
    "    optimizer = torch.optim.Adam(model.parameters(), lr=lr)\n",
    "    # Momentum\n",
    "    # RMSprop\n",
    "\n",
    "    log_writer = SummaryWriter(runs_dir + model._get_name() + str(n_iter))  # Start tensorboard\n",
    "\n",
    "    # POTREI FARMI RESTITUIRE IL MIGLIOR MODELLO DAL TRAIN E POI SALVARLO PER USARLO DIRETTAMENTE SOTTO NEL TEST FINALE\n",
    "    # Train\n",
    "    train_model(\n",
    "        model,\n",
    "        criterion,\n",
    "        optimizer,\n",
    "        num_epochs,\n",
    "        train_loader,\n",
    "        val_loader,\n",
    "        device,\n",
    "        log_writer,\n",
    "        model._get_name(),\n",
    "    )\n",
    "\n",
    "    # Load best model\n",
    "    model.load_state_dict(torch.load(model_dir + model._get_name()))\n",
    "    model.to(device)\n",
    "\n",
    "    # Test after the training\n",
    "    y_true, y_pred = test_model(model, test_loader, device)\n",
    "    test_loss = mean_squared_error(y_true, y_pred)\n",
    "    print(\"Test loss: {test_loss:.4f} - Best loss: {best_loss:.4f}\")\n",
    "\n",
    "    log_writer.add_hparams(config, {\"hparam/test_loss\": test_loss})\n",
    "\n",
    "    if test_loss < best_loss:\n",
    "        best_loss = test_loss\n",
    "        best_model = model  ## controllare che vada bene salvarlo così\n",
    "        best_combination = config\n",
    "\n",
    "    # Close tensorboard writer after a training\n",
    "    log_writer.flush()\n",
    "    log_writer.close()"
   ]
  },
  {
   "cell_type": "markdown",
   "metadata": {},
   "source": [
    "### Best results"
   ]
  },
  {
   "cell_type": "code",
   "execution_count": null,
   "metadata": {},
   "outputs": [],
   "source": [
    "print(\"Best combination:\", best_combination)\n",
    "print(\"Best loss:\", best_loss)"
   ]
  },
  {
   "cell_type": "code",
   "execution_count": null,
   "metadata": {},
   "outputs": [],
   "source": [
    "y_pred, y_true = test_model(best_model, test_loader, device)\n",
    "\n",
    "mse = mean_squared_error(y_true, y_pred)\n",
    "r2 = r2_score(y_true, y_pred)\n",
    "\n",
    "print(\"MSE:\", mse)\n",
    "print(\"R2:\", r2)"
   ]
  }
 ],
 "metadata": {
  "kernelspec": {
   "display_name": "Python 3 (ipykernel)",
   "language": "python",
   "name": "python3"
  },
  "language_info": {
   "codemirror_mode": {
    "name": "ipython",
    "version": 3
   },
   "file_extension": ".py",
   "mimetype": "text/x-python",
   "name": "python",
   "nbconvert_exporter": "python",
   "pygments_lexer": "ipython3",
   "version": "3.11.7"
  }
 },
 "nbformat": 4,
 "nbformat_minor": 1
}
