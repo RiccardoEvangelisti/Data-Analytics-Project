{
 "cells": [
  {
   "cell_type": "code",
   "execution_count": 1,
   "metadata": {},
   "outputs": [],
   "source": [
    "import sys\n",
    "import numpy as np\n",
    "import pandas as pd\n",
    "import matplotlib.pyplot as plt\n",
    "import seaborn as sns\n",
    "from sklearn import preprocessing\n",
    "from sklearn.covariance import (\n",
    "    OAS,\n",
    "    EmpiricalCovariance,\n",
    "    LedoitWolf,\n",
    "    MinCovDet,\n",
    ")\n",
    "from sklearn.metrics import r2_score\n",
    "from sklearn.metrics import mean_squared_error\n",
    "from sklearn.model_selection import GridSearchCV\n",
    "from sklearn.pipeline import Pipeline\n",
    "from sklearn.decomposition import PCA, FastICA\n",
    "from sklearn.discriminant_analysis import LinearDiscriminantAnalysis, QuadraticDiscriminantAnalysis\n",
    "from sklearn.ensemble import RandomForestRegressor\n",
    "from sklearn.model_selection import train_test_split\n",
    "from sklearn.model_selection import StratifiedKFold\n",
    "from sklearn.linear_model import LinearRegression\n",
    "\n",
    "\n",
    "\n",
    "plt.style.use(\"seaborn-v0_8\")"
   ]
  },
  {
   "cell_type": "code",
   "execution_count": 2,
   "metadata": {},
   "outputs": [
    {
     "name": "stdout",
     "output_type": "stream",
     "text": [
      "Train length: 176522\n",
      "Test length: 75653\n"
     ]
    }
   ],
   "source": [
    "random_state = 42\n",
    "\n",
    "df = pd.read_csv(\"train.csv\")\n",
    "\n",
    "df_X = df.iloc[:, 1:]\n",
    "df_y = df.iloc[:, 0]\n",
    "\n",
    "# \"stratify\" is set because the target is very imbalanced\n",
    "X_train, X_test, y_train, y_test = train_test_split(df_X, df_y, test_size=0.3, stratify=df_y, random_state=random_state)\n",
    "print(\"Train length: {}\\nTest length: {}\".format(X_train.shape[0], X_test.shape[0]))"
   ]
  },
  {
   "cell_type": "markdown",
   "metadata": {},
   "source": [
    "---\n",
    "## Preprocessing\n",
    "\n",
    "- To speed up the GridSearch, were removed the parameters of the following preprocessing methods that gave, in general, very low results.\n",
    "Some of them are just commented.\n",
    "- [Whitening transformation](https://en.wikipedia.org/wiki/Whitening_transformation) is tested\n",
    "- [Shrinkage](https://en.wikipedia.org/wiki/Shrinkage_(statistics)#:~:text=In%20statistics%2C%20shrinkage%20is%20the,coefficient%20of%20determination%20'shrinks') is tested\n",
    "- It's applied StandardScaler and not MinMaxScaler before PCA because the data has a normal distribution and PCA prefers standardized data."
   ]
  },
  {
   "cell_type": "code",
   "execution_count": 40,
   "metadata": {},
   "outputs": [],
   "source": [
    "# step_name, [(transformer_name, transformer_constructor()), ...], step_param_grid\n",
    "transformers_list = [\n",
    "    # (\"raw\", [(\"raw\", \"passthrough\")], {}),  # does nothing to the data\n",
    "    # (\"std-scaled\", [(\"std-scaler\", preprocessing.StandardScaler())], {}), # DA TOGLIEREEEE???????????\n",
    "    # (\"min-maxed\", [(\"min-max\", preprocessing.MinMaxScaler())], {}), # DA TOGLIEREEEE???????????\n",
    "    # (\n",
    "    #     \"std-scaler + pca\",\n",
    "    #     [(\"std-scaler\", preprocessing.StandardScaler()), (\"pca\", PCA(random_state=random_state))],\n",
    "    #     {\n",
    "    #         \"pca__svd_solver\": [\"auto\"],\n",
    "    #         \"pca__n_components\": [\"mle\"],\n",
    "    #         \"pca__whiten\": [True, False],\n",
    "    #     },\n",
    "    # ),\n",
    "    # (\n",
    "    #     \"std-scaler + pca 0.95%\",\n",
    "    #     [(\"std-scaler\", preprocessing.StandardScaler()), (\"pca\", PCA(random_state=random_state))],\n",
    "    #     {\n",
    "    #         \"pca__svd_solver\": [\"full\"],\n",
    "    #         \"pca__n_components\": [0.95],\n",
    "    #         \"pca__whiten\": [True, False],\n",
    "    #     },\n",
    "    # ),\n",
    "    # (\n",
    "    #     \"lda1\",\n",
    "    #     [(\"lda\", LinearDiscriminantAnalysis())],\n",
    "    #     {\n",
    "    #         \"lda__solver\": [\"eigen\"],\n",
    "    #         \"lda__shrinkage\": [\"auto\", None],\n",
    "    #     },\n",
    "    # ),\n",
    "    (\n",
    "        \"lda2\",\n",
    "        [(\"lda\", LinearDiscriminantAnalysis())],\n",
    "        {\n",
    "            \"lda__solver\": [\"eigen\"],\n",
    "            \"lda__covariance_estimator\": [\n",
    "                EmpiricalCovariance(),\n",
    "                LedoitWolf(),\n",
    "                MinCovDet(),\n",
    "                OAS(),\n",
    "            ],\n",
    "        },\n",
    "    ),\n",
    "    # (\n",
    "    #     \"lda3\",\n",
    "    #     [(\"lda\", LinearDiscriminantAnalysis())],\n",
    "    #     {\n",
    "    #         \"lda__solver\": [\"svd\"],\n",
    "    #         \"lda__store_covariance\": [True, False],\n",
    "    #     },\n",
    "    # ),\n",
    "    # (\n",
    "    #     \"ica\",\n",
    "    #     [(\"ica\", FastICA(random_state=random_state))],\n",
    "    #     {\n",
    "    #         \"ica__whiten\": [\"arbitrary-variance\", \"unit-variance\"],\n",
    "    #         \"ica__whiten_solver\": [\"eigh\"],\n",
    "    #         \"ica__fun\": [\"logcosh\", \"exp\", \"cube\"],\n",
    "    #         \"ica__max_iter\": [400],\n",
    "    #     },\n",
    "    # ),\n",
    "]"
   ]
  },
  {
   "cell_type": "markdown",
   "metadata": {},
   "source": [
    "---\n",
    "## Modeling\n",
    "- For every preprocess method defined above, execute a GridSearch over the preprocess parameters plus the model parameters\n",
    "- Then it's chosen the best model with the best preprocess method looking at the R^2 and MSE scores (confermare???????????????)\n",
    "- \"StratifiedKFold\" is chosen to keep the proportion of umbalanced target lables"
   ]
  },
  {
   "cell_type": "markdown",
   "metadata": {},
   "source": [
    "### RandomForestRegressor\n",
    "- The parameter \"max_samples=0.1\" is set to speed up the train phase, losing some accuracy."
   ]
  },
  {
   "cell_type": "code",
   "execution_count": 10,
   "metadata": {},
   "outputs": [
    {
     "name": "stdout",
     "output_type": "stream",
     "text": [
      "Fitting 5 folds for each of 8 candidates, totalling 40 fits\n"
     ]
    },
    {
     "name": "stdout",
     "output_type": "stream",
     "text": [
      "[CV 1/5] END lda__covariance_estimator=LedoitWolf(), lda__solver=eigen, rf__criterion=squared_error, rf__max_samples=0.1, rf__n_estimators=200, rf__warm_start=False;, score=0.112 total time= 5.4min\n",
      "[CV 3/5] END lda__covariance_estimator=LedoitWolf(), lda__solver=eigen, rf__criterion=squared_error, rf__max_samples=0.1, rf__n_estimators=200, rf__warm_start=True;, score=0.120 total time= 5.5min\n",
      "[CV 4/5] END lda__covariance_estimator=LedoitWolf(), lda__solver=eigen, rf__criterion=squared_error, rf__max_samples=0.1, rf__n_estimators=200, rf__warm_start=True;, score=0.115 total time= 5.5min\n",
      "[CV 5/5] END lda__covariance_estimator=LedoitWolf(), lda__solver=eigen, rf__criterion=squared_error, rf__max_samples=0.1, rf__n_estimators=200, rf__warm_start=True;, score=0.109 total time= 5.5min\n",
      "[CV 1/5] END lda__covariance_estimator=LedoitWolf(), lda__solver=eigen, rf__criterion=squared_error, rf__max_samples=0.1, rf__n_estimators=200, rf__warm_start=True;, score=0.113 total time= 5.5min\n",
      "[CV 3/5] END lda__covariance_estimator=EmpiricalCovariance(), lda__solver=eigen, rf__criterion=squared_error, rf__max_samples=0.1, rf__n_estimators=200, rf__warm_start=False;, score=0.289 total time= 5.5min\n",
      "[CV 1/5] END lda__covariance_estimator=EmpiricalCovariance(), lda__solver=eigen, rf__criterion=squared_error, rf__max_samples=0.1, rf__n_estimators=200, rf__warm_start=True;, score=0.288 total time= 5.5min\n",
      "[CV 1/5] END lda__covariance_estimator=EmpiricalCovariance(), lda__solver=eigen, rf__criterion=squared_error, rf__max_samples=0.1, rf__n_estimators=200, rf__warm_start=False;, score=0.287 total time= 5.5min\n",
      "[CV 2/5] END lda__covariance_estimator=EmpiricalCovariance(), lda__solver=eigen, rf__criterion=squared_error, rf__max_samples=0.1, rf__n_estimators=200, rf__warm_start=True;, score=0.286 total time= 5.6min\n",
      "[CV 2/5] END lda__covariance_estimator=LedoitWolf(), lda__solver=eigen, rf__criterion=squared_error, rf__max_samples=0.1, rf__n_estimators=200, rf__warm_start=True;, score=0.119 total time= 5.6min\n",
      "[CV 5/5] END lda__covariance_estimator=EmpiricalCovariance(), lda__solver=eigen, rf__criterion=squared_error, rf__max_samples=0.1, rf__n_estimators=200, rf__warm_start=False;, score=0.287 total time= 5.6min\n",
      "[CV 3/5] END lda__covariance_estimator=EmpiricalCovariance(), lda__solver=eigen, rf__criterion=squared_error, rf__max_samples=0.1, rf__n_estimators=200, rf__warm_start=True;, score=0.290 total time= 5.6min\n",
      "[CV 4/5] END lda__covariance_estimator=EmpiricalCovariance(), lda__solver=eigen, rf__criterion=squared_error, rf__max_samples=0.1, rf__n_estimators=200, rf__warm_start=False;, score=0.291 total time= 5.6min\n",
      "[CV 2/5] END lda__covariance_estimator=EmpiricalCovariance(), lda__solver=eigen, rf__criterion=squared_error, rf__max_samples=0.1, rf__n_estimators=200, rf__warm_start=False;, score=0.287 total time= 5.6min\n",
      "[CV 5/5] END lda__covariance_estimator=EmpiricalCovariance(), lda__solver=eigen, rf__criterion=squared_error, rf__max_samples=0.1, rf__n_estimators=200, rf__warm_start=True;, score=0.287 total time= 5.6min\n",
      "[CV 4/5] END lda__covariance_estimator=EmpiricalCovariance(), lda__solver=eigen, rf__criterion=squared_error, rf__max_samples=0.1, rf__n_estimators=200, rf__warm_start=True;, score=0.293 total time= 5.7min\n",
      "[CV 3/5] END lda__covariance_estimator=LedoitWolf(), lda__solver=eigen, rf__criterion=squared_error, rf__max_samples=0.1, rf__n_estimators=200, rf__warm_start=False;, score=0.119 total time= 2.4min\n",
      "[CV 2/5] END lda__covariance_estimator=LedoitWolf(), lda__solver=eigen, rf__criterion=squared_error, rf__max_samples=0.1, rf__n_estimators=200, rf__warm_start=False;, score=0.118 total time= 2.5min\n",
      "[CV 4/5] END lda__covariance_estimator=LedoitWolf(), lda__solver=eigen, rf__criterion=squared_error, rf__max_samples=0.1, rf__n_estimators=200, rf__warm_start=False;, score=0.115 total time= 2.4min\n",
      "[CV 5/5] END lda__covariance_estimator=LedoitWolf(), lda__solver=eigen, rf__criterion=squared_error, rf__max_samples=0.1, rf__n_estimators=200, rf__warm_start=False;, score=0.111 total time= 2.4min\n",
      "[CV 1/5] END lda__covariance_estimator=OAS(), lda__solver=eigen, rf__criterion=squared_error, rf__max_samples=0.1, rf__n_estimators=200, rf__warm_start=True;, score=0.149 total time= 2.3min\n",
      "[CV 2/5] END lda__covariance_estimator=OAS(), lda__solver=eigen, rf__criterion=squared_error, rf__max_samples=0.1, rf__n_estimators=200, rf__warm_start=True;, score=0.154 total time= 2.4min\n",
      "[CV 3/5] END lda__covariance_estimator=OAS(), lda__solver=eigen, rf__criterion=squared_error, rf__max_samples=0.1, rf__n_estimators=200, rf__warm_start=True;, score=0.155 total time= 2.4min\n",
      "[CV 4/5] END lda__covariance_estimator=OAS(), lda__solver=eigen, rf__criterion=squared_error, rf__max_samples=0.1, rf__n_estimators=200, rf__warm_start=True;, score=0.156 total time= 2.4min\n",
      "[CV 1/5] END lda__covariance_estimator=OAS(), lda__solver=eigen, rf__criterion=squared_error, rf__max_samples=0.1, rf__n_estimators=200, rf__warm_start=False;, score=0.149 total time= 2.4min\n",
      "[CV 5/5] END lda__covariance_estimator=OAS(), lda__solver=eigen, rf__criterion=squared_error, rf__max_samples=0.1, rf__n_estimators=200, rf__warm_start=True;, score=0.147 total time= 2.4min\n",
      "[CV 2/5] END lda__covariance_estimator=OAS(), lda__solver=eigen, rf__criterion=squared_error, rf__max_samples=0.1, rf__n_estimators=200, rf__warm_start=False;, score=0.156 total time= 2.4min\n",
      "[CV 3/5] END lda__covariance_estimator=OAS(), lda__solver=eigen, rf__criterion=squared_error, rf__max_samples=0.1, rf__n_estimators=200, rf__warm_start=False;, score=0.157 total time= 2.4min\n",
      "[CV 4/5] END lda__covariance_estimator=OAS(), lda__solver=eigen, rf__criterion=squared_error, rf__max_samples=0.1, rf__n_estimators=200, rf__warm_start=False;, score=0.156 total time= 1.1min\n",
      "[CV 5/5] END lda__covariance_estimator=OAS(), lda__solver=eigen, rf__criterion=squared_error, rf__max_samples=0.1, rf__n_estimators=200, rf__warm_start=False;, score=0.147 total time= 1.1min\n",
      "[CV 2/5] END lda__covariance_estimator=MinCovDet(), lda__solver=eigen, rf__criterion=squared_error, rf__max_samples=0.1, rf__n_estimators=200, rf__warm_start=False;, score=0.291 total time=14.0min\n",
      "[CV 3/5] END lda__covariance_estimator=MinCovDet(), lda__solver=eigen, rf__criterion=squared_error, rf__max_samples=0.1, rf__n_estimators=200, rf__warm_start=False;, score=0.293 total time=14.4min\n",
      "[CV 1/5] END lda__covariance_estimator=MinCovDet(), lda__solver=eigen, rf__criterion=squared_error, rf__max_samples=0.1, rf__n_estimators=200, rf__warm_start=False;, score=0.291 total time=14.5min\n",
      "[CV 3/5] END lda__covariance_estimator=MinCovDet(), lda__solver=eigen, rf__criterion=squared_error, rf__max_samples=0.1, rf__n_estimators=200, rf__warm_start=True;, score=0.295 total time=14.6min\n",
      "[CV 4/5] END lda__covariance_estimator=MinCovDet(), lda__solver=eigen, rf__criterion=squared_error, rf__max_samples=0.1, rf__n_estimators=200, rf__warm_start=True;, score=0.297 total time=14.6min\n",
      "[CV 1/5] END lda__covariance_estimator=MinCovDet(), lda__solver=eigen, rf__criterion=squared_error, rf__max_samples=0.1, rf__n_estimators=200, rf__warm_start=True;, score=0.291 total time=14.6min\n",
      "[CV 5/5] END lda__covariance_estimator=MinCovDet(), lda__solver=eigen, rf__criterion=squared_error, rf__max_samples=0.1, rf__n_estimators=200, rf__warm_start=True;, score=0.296 total time=14.7min\n",
      "[CV 5/5] END lda__covariance_estimator=MinCovDet(), lda__solver=eigen, rf__criterion=squared_error, rf__max_samples=0.1, rf__n_estimators=200, rf__warm_start=False;, score=0.295 total time=14.6min\n",
      "[CV 4/5] END lda__covariance_estimator=MinCovDet(), lda__solver=eigen, rf__criterion=squared_error, rf__max_samples=0.1, rf__n_estimators=200, rf__warm_start=False;, score=0.299 total time=14.7min\n",
      "[CV 2/5] END lda__covariance_estimator=MinCovDet(), lda__solver=eigen, rf__criterion=squared_error, rf__max_samples=0.1, rf__n_estimators=200, rf__warm_start=True;, score=0.292 total time=14.8min\n",
      "----> lda2 data. Params: {'lda__covariance_estimator': MinCovDet(), 'lda__solver': 'eigen', 'rf__criterion': 'squared_error', 'rf__max_samples': 0.1, 'rf__n_estimators': 200, 'rf__warm_start': True}. R^2: 0.30339866892557454. MSE: 76.76298913394048\n"
     ]
    }
   ],
   "source": [
    "best_estimators = {}\n",
    "\n",
    "cv = StratifiedKFold(n_splits=5)\n",
    "\n",
    "param_estimator = {\n",
    "    \"rf__max_samples\": [0.1],\n",
    "    \"rf__criterion\": [\"squared_error\"],\n",
    "    \"rf__n_estimators\": [200],\n",
    "}\n",
    "\n",
    "for name_step, transformers, param_grid in transformers_list:\n",
    "    pipe = Pipeline([*transformers, (\"rf\", RandomForestRegressor(n_jobs=-1))])\n",
    "    gs = GridSearchCV(pipe, param_grid={**param_estimator, **param_grid}, n_jobs=-1, cv=cv, verbose=3)\n",
    "\n",
    "    gs.fit(X_train.values, y_train)\n",
    "\n",
    "    best_estimators[name_step] = gs\n",
    "\n",
    "    y_pred = gs.best_estimator_.predict(X_test.values)\n",
    "\n",
    "    print(\n",
    "        \"----> {} data. Params: {}. R^2: {}. MSE: {}\".format(\n",
    "            name_step, gs.best_params_, r2_score(y_test, y_pred), mean_squared_error(y_test, y_pred)\n",
    "        )\n",
    "    )"
   ]
  },
  {
   "cell_type": "code",
   "execution_count": 14,
   "metadata": {},
   "outputs": [
    {
     "name": "stdout",
     "output_type": "stream",
     "text": [
      "----> lda2 data. Params: {'lda__covariance_estimator': MinCovDet(), 'lda__solver': 'eigen', 'rf__criterion': 'squared_error', 'rf__max_samples': 0.1, 'rf__n_estimators': 200, 'rf__warm_start': True}. R^2: 0.30339866892557454. MSE: 76.76298913394048\n",
      "lda2: number of components=53, total variance=1.1941348329657178\n"
     ]
    }
   ],
   "source": [
    "# ATTENZIONE VEDI SOTTOOOOO\n",
    "\n",
    "for name_step, estimator in best_estimators.items():\n",
    "    \n",
    "    y_pred = gs.best_estimator_.predict(X_test.values)\n",
    "    \n",
    "    print(\n",
    "        \"----> {} data. Params: {}. R^2: {}. MSE: {}\".format(\n",
    "            name_step, gs.best_params_, r2_score(y_test, y_pred), mean_squared_error(y_test, y_pred)\n",
    "        )\n",
    "    )\n",
    "    if name_step in [\"std-scaler + pca\", \"std-scaler + pca 0.95%\", \"lda1\", \"lda2\", \"lda3\"]:\n",
    "        ratio = best_estimators[name_step][0].explained_variance_ratio_\n",
    "        print(\n",
    "            \"{}: number of components={}, total variance={}\".format(name_step, len(ratio), np.flip(ratio.cumsum())[0])\n",
    "        )\n",
    "    if name_step in [\"ica\"]:\n",
    "        print(\"{}: number of components={}\".format(name_step, best_estimators[name_step][0].components_))"
   ]
  },
  {
   "cell_type": "markdown",
   "metadata": {},
   "source": [
    "---\n",
    "## Linear Regression"
   ]
  },
  {
   "cell_type": "code",
   "execution_count": 41,
   "metadata": {},
   "outputs": [
    {
     "name": "stdout",
     "output_type": "stream",
     "text": [
      "Fitting 5 folds for each of 4 candidates, totalling 20 fits\n",
      "[CV 1/5] END lda__covariance_estimator=EmpiricalCovariance(), lda__solver=eigen;, score=0.226 total time=   2.2s\n",
      "[CV 5/5] END lda__covariance_estimator=EmpiricalCovariance(), lda__solver=eigen;, score=0.232 total time=   2.3s\n",
      "[CV 3/5] END lda__covariance_estimator=EmpiricalCovariance(), lda__solver=eigen;, score=0.233 total time=   2.6s\n",
      "[CV 2/5] END lda__covariance_estimator=EmpiricalCovariance(), lda__solver=eigen;, score=0.233 total time=   3.5s\n",
      "[CV 2/5] END lda__covariance_estimator=LedoitWolf(), lda__solver=eigen;, score=0.093 total time=   3.6s\n",
      "[CV 4/5] END lda__covariance_estimator=EmpiricalCovariance(), lda__solver=eigen;, score=0.231 total time=   3.6s\n",
      "[CV 3/5] END lda__covariance_estimator=LedoitWolf(), lda__solver=eigen;, score=0.090 total time=   3.7s\n",
      "[CV 1/5] END lda__covariance_estimator=LedoitWolf(), lda__solver=eigen;, score=0.088 total time=   3.8s\n",
      "[CV 5/5] END lda__covariance_estimator=LedoitWolf(), lda__solver=eigen;, score=0.090 total time=   3.8s\n",
      "[CV 1/5] END lda__covariance_estimator=OAS(), lda__solver=eigen;, score=0.107 total time=   3.5s\n",
      "[CV 4/5] END lda__covariance_estimator=LedoitWolf(), lda__solver=eigen;, score=0.091 total time=   3.9s\n",
      "[CV 2/5] END lda__covariance_estimator=OAS(), lda__solver=eigen;, score=0.112 total time=   2.5s\n",
      "[CV 3/5] END lda__covariance_estimator=OAS(), lda__solver=eigen;, score=0.109 total time=   2.2s\n",
      "[CV 4/5] END lda__covariance_estimator=OAS(), lda__solver=eigen;, score=0.110 total time=   1.9s\n",
      "[CV 5/5] END lda__covariance_estimator=OAS(), lda__solver=eigen;, score=0.109 total time=   1.4s\n",
      "[CV 2/5] END lda__covariance_estimator=MinCovDet(), lda__solver=eigen;, score=0.225 total time= 4.8min\n",
      "[CV 5/5] END lda__covariance_estimator=MinCovDet(), lda__solver=eigen;, score=0.226 total time= 4.9min\n",
      "[CV 3/5] END lda__covariance_estimator=MinCovDet(), lda__solver=eigen;, score=0.226 total time= 5.0min\n",
      "[CV 1/5] END lda__covariance_estimator=MinCovDet(), lda__solver=eigen;, score=0.218 total time= 5.0min\n",
      "[CV 4/5] END lda__covariance_estimator=MinCovDet(), lda__solver=eigen;, score=0.222 total time= 5.0min\n",
      "----> lda2 data. Params: {'lda__covariance_estimator': EmpiricalCovariance(), 'lda__solver': 'eigen'}. R^2: 0.2378258492422084. MSE: 83.9888806450468\n"
     ]
    }
   ],
   "source": [
    "best_estimators = {}\n",
    "\n",
    "cv = StratifiedKFold(n_splits=5)\n",
    "\n",
    "param_estimator = {}\n",
    "\n",
    "for name_step, transformers, param_grid in transformers_list:\n",
    "    pipe = Pipeline([*transformers, (\"lr\", LinearRegression())])\n",
    "    gs = GridSearchCV(pipe, param_grid={**param_estimator, **param_grid}, n_jobs=-1, cv=cv, verbose=3)\n",
    "\n",
    "    gs.fit(X_train.values, y_train)\n",
    "\n",
    "    best_estimators[name_step] = gs\n",
    "\n",
    "    y_pred = gs.best_estimator_.predict(X_test.values)\n",
    "\n",
    "    print(\n",
    "        \"----> {} data. Params: {}. R^2: {}. MSE: {}\".format(\n",
    "            name_step, gs.best_params_, r2_score(y_test, y_pred), mean_squared_error(y_test, y_pred)\n",
    "        )\n",
    "    )"
   ]
  },
  {
   "cell_type": "code",
   "execution_count": 42,
   "metadata": {},
   "outputs": [
    {
     "name": "stdout",
     "output_type": "stream",
     "text": [
      "----> lda2 data. Params: {'lda__covariance_estimator': EmpiricalCovariance(), 'lda__solver': 'eigen'}. R^2: 0.2378258492422084. MSE: 83.9888806450468\n",
      "\tlda2: number of components=53, total variance=0.9999999999999859\n"
     ]
    }
   ],
   "source": [
    "for name_step, gs in best_estimators.items():\n",
    "    y_pred = gs.best_estimator_.predict(X_test.values)\n",
    "\n",
    "    print(\n",
    "        \"----> {} data. Params: {}. R^2: {}. MSE: {}\".format(\n",
    "            name_step, gs.best_params_, r2_score(y_test, y_pred), mean_squared_error(y_test, y_pred)\n",
    "        )\n",
    "    )\n",
    "    if name_step in [\"std-scaler + pca\", \"std-scaler + pca 0.95%\"]:\n",
    "        ratio = gs.best_estimator_[1].explained_variance_ratio_\n",
    "        print(\n",
    "            \"\\t{}: number of components={}, total variance={}\".format(name_step, len(ratio), np.flip(ratio.cumsum())[0])\n",
    "        )\n",
    "    if name_step in [\"lda1\", \"lda2\", \"lda3\"]:\n",
    "        ratio = gs.best_estimator_[0].explained_variance_ratio_\n",
    "        print(\n",
    "            \"\\t{}: number of components={}, total variance={}\".format(name_step, len(ratio), np.flip(ratio.cumsum())[0])\n",
    "        )\n",
    "    if name_step in [\"ica\"]:\n",
    "        print(\"\\t{}: number of components={}\".format(name_step, len(gs.best_estimator_[0].components_)))"
   ]
  }
 ],
 "metadata": {
  "kernelspec": {
   "display_name": "Python 3",
   "language": "python",
   "name": "python3"
  },
  "language_info": {
   "codemirror_mode": {
    "name": "ipython",
    "version": 3
   },
   "file_extension": ".py",
   "mimetype": "text/x-python",
   "name": "python",
   "nbconvert_exporter": "python",
   "pygments_lexer": "ipython3",
   "version": "3.10.12"
  }
 },
 "nbformat": 4,
 "nbformat_minor": 2
}
