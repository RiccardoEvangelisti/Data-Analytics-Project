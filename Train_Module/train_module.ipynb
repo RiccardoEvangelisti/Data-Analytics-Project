{
 "cells": [
  {
   "cell_type": "code",
   "execution_count": 2,
   "metadata": {},
   "outputs": [],
   "source": [
    "import numpy as np\n",
    "import pandas as pd\n",
    "import matplotlib.pyplot as plt\n",
    "import seaborn as sns\n",
    "from sklearn import preprocessing\n",
    "from sklearn.covariance import (\n",
    "    OAS,\n",
    "    EmpiricalCovariance,\n",
    "    LedoitWolf,\n",
    "    MinCovDet,\n",
    ")\n",
    "from sklearn.metrics import r2_score,mean_squared_error\n",
    "from sklearn.model_selection import GridSearchCV\n",
    "from sklearn.pipeline import Pipeline\n",
    "from sklearn.decomposition import PCA, FastICA\n",
    "from sklearn.discriminant_analysis import LinearDiscriminantAnalysis\n",
    "from sklearn.ensemble import RandomForestRegressor\n",
    "from sklearn.model_selection import train_test_split,StratifiedKFold\n",
    "from sklearn.linear_model import LinearRegression\n",
    "import pickle\n",
    "\n",
    "\n",
    "plt.style.use(\"seaborn-v0_8\")"
   ]
  },
  {
   "cell_type": "code",
   "execution_count": 3,
   "metadata": {},
   "outputs": [
    {
     "name": "stdout",
     "output_type": "stream",
     "text": [
      "Train: (176522, 90)\n",
      "Test: (75653, 90)\n"
     ]
    }
   ],
   "source": [
    "random_state = 42\n",
    "\n",
    "df = pd.read_csv(\"train.csv\")\n",
    "\n",
    "df_X = df.iloc[:, 1:]\n",
    "df_y = df.iloc[:, 0]\n",
    "\n",
    "# \"stratify\" is set because the target is very imbalanced\n",
    "X_train, X_test, y_train, y_test = train_test_split(df_X, df_y, test_size=0.3, stratify=df_y, random_state=random_state)\n",
    "print(\"Train: {}\\nTest: {}\".format(X_train.shape, X_test.shape))"
   ]
  },
  {
   "cell_type": "markdown",
   "metadata": {},
   "source": [
    "---\n",
    "# Preprocessing\n",
    "\n",
    "- To speed up the GridSearch, were removed the parameters of the following preprocessing methods that gave, in general, very low results.\n",
    "Some of them are just commented.\n",
    "- [Whitening transformation](https://en.wikipedia.org/wiki/Whitening_transformation) is tested\n",
    "- [Shrinkage](https://en.wikipedia.org/wiki/Shrinkage_(statistics)#:~:text=In%20statistics%2C%20shrinkage%20is%20the,coefficient%20of%20determination%20'shrinks') is tested\n",
    "- It's applied StandardScaler and not MinMaxScaler before PCA because the data has a normal distribution and PCA prefers standardized data."
   ]
  },
  {
   "cell_type": "code",
   "execution_count": 27,
   "metadata": {},
   "outputs": [],
   "source": [
    "# step_name, [(transformer_name, transformer_constructor()), ...], step_param_grid\n",
    "transformers_list = [\n",
    "    (\"raw\", [(\"raw\", \"passthrough\")], {}),  # does nothing to the data\n",
    "    (\"std-scaled\", [(\"std-scaler\", preprocessing.StandardScaler())], {}), # DA TOGLIEREEEE???????????\n",
    "    # (\"min-maxed\", [(\"min-max\", preprocessing.MinMaxScaler())], {}), # DA TOGLIEREEEE???????????\n",
    "    # (\n",
    "    #     \"std-scaler + pca\",\n",
    "    #     [(\"std-scaler\", preprocessing.StandardScaler()), (\"pca\", PCA(random_state=random_state))],\n",
    "    #     {\n",
    "    #         \"pca__svd_solver\": [\"auto\"],\n",
    "    #         \"pca__n_components\": [\"mle\"],\n",
    "    #         \"pca__whiten\": [True, False],\n",
    "    #     },\n",
    "    # ), # DA TOGLIEREEEE???????????\n",
    "    (\n",
    "        \"std-scaler + pca 0.95%\",\n",
    "        [(\"std-scaler\", preprocessing.StandardScaler()), (\"pca\", PCA(random_state=random_state))],\n",
    "        {\n",
    "            \"pca__svd_solver\": [\"full\"],\n",
    "            \"pca__n_components\": [0.95],\n",
    "            \"pca__whiten\": [True, False],\n",
    "        },\n",
    "    ),\n",
    "    \n",
    "    \n",
    "    (\n",
    "        \"std-scaler + lda1\",\n",
    "        [(\"std-scaler\", preprocessing.StandardScaler()), (\"lda\", LinearDiscriminantAnalysis())],\n",
    "        {\n",
    "            \"lda__solver\": [\"eigen\"],\n",
    "            \"lda__shrinkage\": [\"auto\", None],\n",
    "        },\n",
    "    ),\n",
    "    (\n",
    "        \"std-scaler + lda2\",\n",
    "        [(\"std-scaler\", preprocessing.StandardScaler()), (\"lda\", LinearDiscriminantAnalysis())],\n",
    "        {\n",
    "            \"lda__solver\": [\"eigen\"],\n",
    "            \"lda__covariance_estimator\": [\n",
    "                EmpiricalCovariance(),\n",
    "                LedoitWolf(),\n",
    "                MinCovDet(),\n",
    "                OAS(),\n",
    "            ],\n",
    "        },\n",
    "    ),\n",
    "    (\n",
    "        \"std-scaler + lda3\",\n",
    "        [(\"std-scaler\", preprocessing.StandardScaler()), (\"lda\", LinearDiscriminantAnalysis())],\n",
    "        {\n",
    "            \"lda__solver\": [\"svd\"],\n",
    "            \"lda__store_covariance\": [True, False],\n",
    "        },\n",
    "    ),\n",
    "    (\n",
    "        \"std-scaler + ica\",\n",
    "        [(\"std-scaler\", preprocessing.StandardScaler()), (\"ica\", FastICA(random_state=random_state))],\n",
    "        {\n",
    "            \"ica__whiten\": [\"arbitrary-variance\", \"unit-variance\"],\n",
    "            \"ica__whiten_solver\": [\"eigh\"],\n",
    "            \"ica__fun\": [\"logcosh\", \"exp\", \"cube\"],\n",
    "            \"ica__max_iter\": [400],\n",
    "        },\n",
    "    ),\n",
    "    \n",
    "    \n",
    "    \n",
    "    # (\n",
    "    #     \"lda1\",\n",
    "    #     [(\"lda\", LinearDiscriminantAnalysis())],\n",
    "    #     {\n",
    "    #         \"lda__solver\": [\"eigen\"],\n",
    "    #         \"lda__shrinkage\": [\"auto\", None],\n",
    "    #     },\n",
    "    # ),\n",
    "    # (\n",
    "    #     \"lda2\",\n",
    "    #     [(\"lda\", LinearDiscriminantAnalysis())],\n",
    "    #     {\n",
    "    #         \"lda__solver\": [\"eigen\"],\n",
    "    #         \"lda__covariance_estimator\": [\n",
    "    #             EmpiricalCovariance(),\n",
    "    #             LedoitWolf(),\n",
    "    #             MinCovDet(),\n",
    "    #             OAS(),\n",
    "    #         ],\n",
    "    #     },\n",
    "    # ),\n",
    "    # (\n",
    "    #     \"lda3\",\n",
    "    #     [(\"lda\", LinearDiscriminantAnalysis())],\n",
    "    #     {\n",
    "    #         \"lda__solver\": [\"svd\"],\n",
    "    #         \"lda__store_covariance\": [True, False],\n",
    "    #     },\n",
    "    # ),\n",
    "    # (\n",
    "    #     \"ica\",\n",
    "    #     [(\"ica\", FastICA(random_state=random_state))],\n",
    "    #     {\n",
    "    #         \"ica__whiten\": [\"arbitrary-variance\", \"unit-variance\"],\n",
    "    #         \"ica__whiten_solver\": [\"eigh\"],\n",
    "    #         \"ica__fun\": [\"logcosh\", \"exp\", \"cube\"],\n",
    "    #         \"ica__max_iter\": [400],\n",
    "    #     },\n",
    "    # ),\n",
    "]"
   ]
  },
  {
   "cell_type": "markdown",
   "metadata": {},
   "source": [
    "---\n",
    "---\n",
    "# Modeling\n",
    "- For every preprocess method defined above, execute a GridSearch over the preprocess parameters plus the model parameters\n",
    "- Then it's chosen the best model with the best preprocess method looking at the R^2 score\n",
    "- \"StratifiedKFold\" is chosen to keep the proportion of imbalanced target lables"
   ]
  },
  {
   "cell_type": "code",
   "execution_count": 5,
   "metadata": {},
   "outputs": [],
   "source": [
    "def gridSearch(name_estimator, estimator, param_estimator,cv):\n",
    "    searches = {}\n",
    "    predictions = {}\n",
    "    for name_step, transformers, param_grid in transformers_list:\n",
    "        pipe = Pipeline([*transformers, (name_estimator, estimator)])\n",
    "        gs = GridSearchCV(pipe, param_grid={**param_estimator, **param_grid}, n_jobs=-1, cv=cv, verbose=3)\n",
    "\n",
    "        gs.fit(X_train.values, y_train)\n",
    "\n",
    "        y_pred = gs.best_estimator_.predict(X_test.values)\n",
    "\n",
    "        searches[name_step] = gs\n",
    "        predictions[name_step] = y_pred\n",
    "        \n",
    "        # print(\n",
    "        #     \"----> {} data. Params: {}. R^2: {}. MSE: {}\".format(\n",
    "        #         name_step, gs.best_params_, r2_score(y_test, y_pred), mean_squared_error(y_test, y_pred)\n",
    "        #     )\n",
    "        # )\n",
    "    return searches,predictions"
   ]
  },
  {
   "cell_type": "code",
   "execution_count": 6,
   "metadata": {},
   "outputs": [],
   "source": [
    "def print_store_results(searches:dict, predictions:dict, name_est):\n",
    "    \n",
    "    best_r2_score = -100\n",
    "    best_preprocessor = []\n",
    "    best_estimator = None\n",
    "    best_search_name = None\n",
    "    \n",
    "    for name_step, gs in searches.items():\n",
    "        \n",
    "        r2 = r2_score(y_test, predictions[name_step])\n",
    "        \n",
    "        if r2 > best_r2_score:\n",
    "            best_r2_score = r2\n",
    "            best_search_name = name_step\n",
    "            best_preprocessor = gs.best_estimator_[:-1] # take all but estimator\n",
    "            best_estimator = gs.best_estimator_[-1]\n",
    "        \n",
    "        print(\n",
    "            \"----> {} data. Params: {}. R^2: {}. MSE: {}\".format(\n",
    "                name_step, gs.best_params_, r2, mean_squared_error(y_test, predictions[name_step])\n",
    "            )\n",
    "        )\n",
    "        \n",
    "        if name_step in [\"std-scaler + pca\", \"std-scaler + pca 0.95%\"]:\n",
    "            ratio = gs.best_estimator_[1].explained_variance_ratio_\n",
    "            print(\n",
    "                \"\\t{}: number of components={}, total variance={}\".format(name_step, len(ratio), np.flip(ratio.cumsum())[0])\n",
    "            )\n",
    "        if name_step in [\"lda1\", \"lda2\", \"lda3\"]:\n",
    "            ratio = gs.best_estimator_[0].explained_variance_ratio_\n",
    "            print(\n",
    "                \"\\t{}: number of components={}, total variance={}\".format(name_step, len(ratio), np.flip(ratio.cumsum())[0])\n",
    "            )\n",
    "        if name_step in [\"ica\"]:\n",
    "            print(\"\\t{}: number of components={}\".format(name_step, len(gs.best_estimator_[0].components_)))\n",
    "    \n",
    "    file = open(name_est+\"_preproc_\"+\".save\", \"wb\")\n",
    "    pickle.dump(best_preprocessor, file)\n",
    "    file = open(name_est+\"_model_\"+\".save\", \"wb\")\n",
    "    pickle.dump(best_estimator, file)\n",
    "    file.close()\n",
    "    \n",
    "    print(\n",
    "            \"\\nSAVED: ----> {} data. R^2: {}\".format(best_search_name, best_r2_score)\n",
    "        )"
   ]
  },
  {
   "cell_type": "markdown",
   "metadata": {},
   "source": [
    "---\n",
    "## Linear Regression"
   ]
  },
  {
   "cell_type": "code",
   "execution_count": 28,
   "metadata": {},
   "outputs": [
    {
     "name": "stdout",
     "output_type": "stream",
     "text": [
      "Fitting 5 folds for each of 1 candidates, totalling 5 fits\n",
      "----> raw data. Params: {}. R^2: 0.23782584924220862. MSE: 83.98888064504679\n",
      "Fitting 5 folds for each of 1 candidates, totalling 5 fits\n",
      "----> std-scaled data. Params: {}. R^2: 0.2378258492422083. MSE: 83.98888064504682\n",
      "Fitting 5 folds for each of 2 candidates, totalling 10 fits\n",
      "----> std-scaler + pca 0.95% data. Params: {'pca__n_components': 0.95, 'pca__svd_solver': 'full', 'pca__whiten': True}. R^2: 0.1797402974001988. MSE: 90.38970186944773\n",
      "Fitting 5 folds for each of 2 candidates, totalling 10 fits\n",
      "----> std-scaler + lda1 data. Params: {'lda__shrinkage': None, 'lda__solver': 'eigen'}. R^2: 0.23782584924220818. MSE: 83.98888064504683\n",
      "Fitting 5 folds for each of 4 candidates, totalling 20 fits\n"
     ]
    }
   ],
   "source": [
    "cv = StratifiedKFold(n_splits=5)\n",
    "\n",
    "param_estimator = {}\n",
    "\n",
    "searches,predictions = gridSearch(\"lr\", LinearRegression(), param_estimator,cv)"
   ]
  },
  {
   "cell_type": "code",
   "execution_count": null,
   "metadata": {},
   "outputs": [
    {
     "name": "stdout",
     "output_type": "stream",
     "text": [
      "----> raw data. Params: {}. R^2: 0.23782584924220862. MSE: 83.98888064504679\n",
      "----> std-scaled data. Params: {}. R^2: 0.2378258492422083. MSE: 83.98888064504682\n",
      "----> std-scaler + pca data. Params: {'pca__n_components': 'mle', 'pca__svd_solver': 'auto', 'pca__whiten': False}. R^2: 0.23644509139323022. MSE: 84.14103524916483\n",
      "\tstd-scaler + pca: number of components=89, total variance=0.9993618510268998\n",
      "----> std-scaler + pca 0.95% data. Params: {'pca__n_components': 0.95, 'pca__svd_solver': 'full', 'pca__whiten': True}. R^2: 0.1797402974001988. MSE: 90.38970186944773\n",
      "\tstd-scaler + pca 0.95%: number of components=67, total variance=0.9526203397533136\n",
      "----> lda2 data. Params: {'lda__covariance_estimator': EmpiricalCovariance(), 'lda__solver': 'eigen'}. R^2: 0.23782584924220895. MSE: 83.98888064504675\n",
      "\tlda2: number of components=53, total variance=0.999999999999971\n",
      "\n",
      "SAVED: ----> lda2 data. R^2: 0.23782584924220895\n"
     ]
    }
   ],
   "source": [
    "print_store_results(searches,predictions, \"lr\")"
   ]
  },
  {
   "cell_type": "markdown",
   "metadata": {},
   "source": [
    "---\n",
    "## RandomForestRegressor\n",
    "- The parameter \"max_samples=0.1\" is set to speed up the train phase, losing some accuracy."
   ]
  },
  {
   "cell_type": "code",
   "execution_count": null,
   "metadata": {},
   "outputs": [
    {
     "name": "stdout",
     "output_type": "stream",
     "text": [
      "Fitting 5 folds for each of 8 candidates, totalling 40 fits\n"
     ]
    },
    {
     "name": "stdout",
     "output_type": "stream",
     "text": [
      "[CV 1/5] END lda__covariance_estimator=LedoitWolf(), lda__solver=eigen, rf__criterion=squared_error, rf__max_samples=0.1, rf__n_estimators=200, rf__warm_start=False;, score=0.112 total time= 5.4min\n",
      "[CV 3/5] END lda__covariance_estimator=LedoitWolf(), lda__solver=eigen, rf__criterion=squared_error, rf__max_samples=0.1, rf__n_estimators=200, rf__warm_start=True;, score=0.120 total time= 5.5min\n",
      "[CV 4/5] END lda__covariance_estimator=LedoitWolf(), lda__solver=eigen, rf__criterion=squared_error, rf__max_samples=0.1, rf__n_estimators=200, rf__warm_start=True;, score=0.115 total time= 5.5min\n",
      "[CV 5/5] END lda__covariance_estimator=LedoitWolf(), lda__solver=eigen, rf__criterion=squared_error, rf__max_samples=0.1, rf__n_estimators=200, rf__warm_start=True;, score=0.109 total time= 5.5min\n",
      "[CV 1/5] END lda__covariance_estimator=LedoitWolf(), lda__solver=eigen, rf__criterion=squared_error, rf__max_samples=0.1, rf__n_estimators=200, rf__warm_start=True;, score=0.113 total time= 5.5min\n",
      "[CV 3/5] END lda__covariance_estimator=EmpiricalCovariance(), lda__solver=eigen, rf__criterion=squared_error, rf__max_samples=0.1, rf__n_estimators=200, rf__warm_start=False;, score=0.289 total time= 5.5min\n",
      "[CV 1/5] END lda__covariance_estimator=EmpiricalCovariance(), lda__solver=eigen, rf__criterion=squared_error, rf__max_samples=0.1, rf__n_estimators=200, rf__warm_start=True;, score=0.288 total time= 5.5min\n",
      "[CV 1/5] END lda__covariance_estimator=EmpiricalCovariance(), lda__solver=eigen, rf__criterion=squared_error, rf__max_samples=0.1, rf__n_estimators=200, rf__warm_start=False;, score=0.287 total time= 5.5min\n",
      "[CV 2/5] END lda__covariance_estimator=EmpiricalCovariance(), lda__solver=eigen, rf__criterion=squared_error, rf__max_samples=0.1, rf__n_estimators=200, rf__warm_start=True;, score=0.286 total time= 5.6min\n",
      "[CV 2/5] END lda__covariance_estimator=LedoitWolf(), lda__solver=eigen, rf__criterion=squared_error, rf__max_samples=0.1, rf__n_estimators=200, rf__warm_start=True;, score=0.119 total time= 5.6min\n",
      "[CV 5/5] END lda__covariance_estimator=EmpiricalCovariance(), lda__solver=eigen, rf__criterion=squared_error, rf__max_samples=0.1, rf__n_estimators=200, rf__warm_start=False;, score=0.287 total time= 5.6min\n",
      "[CV 3/5] END lda__covariance_estimator=EmpiricalCovariance(), lda__solver=eigen, rf__criterion=squared_error, rf__max_samples=0.1, rf__n_estimators=200, rf__warm_start=True;, score=0.290 total time= 5.6min\n",
      "[CV 4/5] END lda__covariance_estimator=EmpiricalCovariance(), lda__solver=eigen, rf__criterion=squared_error, rf__max_samples=0.1, rf__n_estimators=200, rf__warm_start=False;, score=0.291 total time= 5.6min\n",
      "[CV 2/5] END lda__covariance_estimator=EmpiricalCovariance(), lda__solver=eigen, rf__criterion=squared_error, rf__max_samples=0.1, rf__n_estimators=200, rf__warm_start=False;, score=0.287 total time= 5.6min\n",
      "[CV 5/5] END lda__covariance_estimator=EmpiricalCovariance(), lda__solver=eigen, rf__criterion=squared_error, rf__max_samples=0.1, rf__n_estimators=200, rf__warm_start=True;, score=0.287 total time= 5.6min\n",
      "[CV 4/5] END lda__covariance_estimator=EmpiricalCovariance(), lda__solver=eigen, rf__criterion=squared_error, rf__max_samples=0.1, rf__n_estimators=200, rf__warm_start=True;, score=0.293 total time= 5.7min\n",
      "[CV 3/5] END lda__covariance_estimator=LedoitWolf(), lda__solver=eigen, rf__criterion=squared_error, rf__max_samples=0.1, rf__n_estimators=200, rf__warm_start=False;, score=0.119 total time= 2.4min\n",
      "[CV 2/5] END lda__covariance_estimator=LedoitWolf(), lda__solver=eigen, rf__criterion=squared_error, rf__max_samples=0.1, rf__n_estimators=200, rf__warm_start=False;, score=0.118 total time= 2.5min\n",
      "[CV 4/5] END lda__covariance_estimator=LedoitWolf(), lda__solver=eigen, rf__criterion=squared_error, rf__max_samples=0.1, rf__n_estimators=200, rf__warm_start=False;, score=0.115 total time= 2.4min\n",
      "[CV 5/5] END lda__covariance_estimator=LedoitWolf(), lda__solver=eigen, rf__criterion=squared_error, rf__max_samples=0.1, rf__n_estimators=200, rf__warm_start=False;, score=0.111 total time= 2.4min\n",
      "[CV 1/5] END lda__covariance_estimator=OAS(), lda__solver=eigen, rf__criterion=squared_error, rf__max_samples=0.1, rf__n_estimators=200, rf__warm_start=True;, score=0.149 total time= 2.3min\n",
      "[CV 2/5] END lda__covariance_estimator=OAS(), lda__solver=eigen, rf__criterion=squared_error, rf__max_samples=0.1, rf__n_estimators=200, rf__warm_start=True;, score=0.154 total time= 2.4min\n",
      "[CV 3/5] END lda__covariance_estimator=OAS(), lda__solver=eigen, rf__criterion=squared_error, rf__max_samples=0.1, rf__n_estimators=200, rf__warm_start=True;, score=0.155 total time= 2.4min\n",
      "[CV 4/5] END lda__covariance_estimator=OAS(), lda__solver=eigen, rf__criterion=squared_error, rf__max_samples=0.1, rf__n_estimators=200, rf__warm_start=True;, score=0.156 total time= 2.4min\n",
      "[CV 1/5] END lda__covariance_estimator=OAS(), lda__solver=eigen, rf__criterion=squared_error, rf__max_samples=0.1, rf__n_estimators=200, rf__warm_start=False;, score=0.149 total time= 2.4min\n",
      "[CV 5/5] END lda__covariance_estimator=OAS(), lda__solver=eigen, rf__criterion=squared_error, rf__max_samples=0.1, rf__n_estimators=200, rf__warm_start=True;, score=0.147 total time= 2.4min\n",
      "[CV 2/5] END lda__covariance_estimator=OAS(), lda__solver=eigen, rf__criterion=squared_error, rf__max_samples=0.1, rf__n_estimators=200, rf__warm_start=False;, score=0.156 total time= 2.4min\n",
      "[CV 3/5] END lda__covariance_estimator=OAS(), lda__solver=eigen, rf__criterion=squared_error, rf__max_samples=0.1, rf__n_estimators=200, rf__warm_start=False;, score=0.157 total time= 2.4min\n",
      "[CV 4/5] END lda__covariance_estimator=OAS(), lda__solver=eigen, rf__criterion=squared_error, rf__max_samples=0.1, rf__n_estimators=200, rf__warm_start=False;, score=0.156 total time= 1.1min\n",
      "[CV 5/5] END lda__covariance_estimator=OAS(), lda__solver=eigen, rf__criterion=squared_error, rf__max_samples=0.1, rf__n_estimators=200, rf__warm_start=False;, score=0.147 total time= 1.1min\n",
      "[CV 2/5] END lda__covariance_estimator=MinCovDet(), lda__solver=eigen, rf__criterion=squared_error, rf__max_samples=0.1, rf__n_estimators=200, rf__warm_start=False;, score=0.291 total time=14.0min\n",
      "[CV 3/5] END lda__covariance_estimator=MinCovDet(), lda__solver=eigen, rf__criterion=squared_error, rf__max_samples=0.1, rf__n_estimators=200, rf__warm_start=False;, score=0.293 total time=14.4min\n",
      "[CV 1/5] END lda__covariance_estimator=MinCovDet(), lda__solver=eigen, rf__criterion=squared_error, rf__max_samples=0.1, rf__n_estimators=200, rf__warm_start=False;, score=0.291 total time=14.5min\n",
      "[CV 3/5] END lda__covariance_estimator=MinCovDet(), lda__solver=eigen, rf__criterion=squared_error, rf__max_samples=0.1, rf__n_estimators=200, rf__warm_start=True;, score=0.295 total time=14.6min\n",
      "[CV 4/5] END lda__covariance_estimator=MinCovDet(), lda__solver=eigen, rf__criterion=squared_error, rf__max_samples=0.1, rf__n_estimators=200, rf__warm_start=True;, score=0.297 total time=14.6min\n",
      "[CV 1/5] END lda__covariance_estimator=MinCovDet(), lda__solver=eigen, rf__criterion=squared_error, rf__max_samples=0.1, rf__n_estimators=200, rf__warm_start=True;, score=0.291 total time=14.6min\n",
      "[CV 5/5] END lda__covariance_estimator=MinCovDet(), lda__solver=eigen, rf__criterion=squared_error, rf__max_samples=0.1, rf__n_estimators=200, rf__warm_start=True;, score=0.296 total time=14.7min\n",
      "[CV 5/5] END lda__covariance_estimator=MinCovDet(), lda__solver=eigen, rf__criterion=squared_error, rf__max_samples=0.1, rf__n_estimators=200, rf__warm_start=False;, score=0.295 total time=14.6min\n",
      "[CV 4/5] END lda__covariance_estimator=MinCovDet(), lda__solver=eigen, rf__criterion=squared_error, rf__max_samples=0.1, rf__n_estimators=200, rf__warm_start=False;, score=0.299 total time=14.7min\n",
      "[CV 2/5] END lda__covariance_estimator=MinCovDet(), lda__solver=eigen, rf__criterion=squared_error, rf__max_samples=0.1, rf__n_estimators=200, rf__warm_start=True;, score=0.292 total time=14.8min\n",
      "----> lda2 data. Params: {'lda__covariance_estimator': MinCovDet(), 'lda__solver': 'eigen', 'rf__criterion': 'squared_error', 'rf__max_samples': 0.1, 'rf__n_estimators': 200, 'rf__warm_start': True}. R^2: 0.30339866892557454. MSE: 76.76298913394048\n"
     ]
    }
   ],
   "source": [
    "best_estimators = {}\n",
    "\n",
    "cv = StratifiedKFold(n_splits=5)\n",
    "\n",
    "param_estimator = {\n",
    "    \"rf__max_samples\": [0.1],\n",
    "    \"rf__criterion\": [\"squared_error\"],\n",
    "    \"rf__n_estimators\": [200],\n",
    "}\n",
    "\n",
    "searches,predictions = gridSearch(\"rf\", RandomForestRegressor(n_jobs=-1), param_estimator,cv)"
   ]
  },
  {
   "cell_type": "code",
   "execution_count": null,
   "metadata": {},
   "outputs": [
    {
     "name": "stdout",
     "output_type": "stream",
     "text": [
      "----> lda2 data. Params: {'lda__covariance_estimator': MinCovDet(), 'lda__solver': 'eigen', 'rf__criterion': 'squared_error', 'rf__max_samples': 0.1, 'rf__n_estimators': 200, 'rf__warm_start': True}. R^2: 0.30339866892557454. MSE: 76.76298913394048\n",
      "lda2: number of components=53, total variance=1.1941348329657178\n"
     ]
    }
   ],
   "source": [
    "print_store_results(searches,predictions)"
   ]
  }
 ],
 "metadata": {
  "kernelspec": {
   "display_name": "Python 3",
   "language": "python",
   "name": "python3"
  },
  "language_info": {
   "codemirror_mode": {
    "name": "ipython",
    "version": 3
   },
   "file_extension": ".py",
   "mimetype": "text/x-python",
   "name": "python",
   "nbconvert_exporter": "python",
   "pygments_lexer": "ipython3",
   "version": "3.11.7"
  }
 },
 "nbformat": 4,
 "nbformat_minor": 2
}
