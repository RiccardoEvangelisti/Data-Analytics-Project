{
 "cells": [
  {
   "cell_type": "code",
   "execution_count": 1,
   "metadata": {
    "ExecuteTime": {
     "end_time": "2023-06-22T17:05:38.127067100Z",
     "start_time": "2023-06-22T17:05:38.098187500Z"
    },
    "collapsed": true
   },
   "outputs": [
    {
     "name": "stdout",
     "output_type": "stream",
     "text": [
      "WARNING:tensorflow:From c:\\Users\\evang.HOMEEVANGELISTI\\AppData\\Local\\Programs\\Python\\Python311\\Lib\\site-packages\\keras\\src\\losses.py:2976: The name tf.losses.sparse_softmax_cross_entropy is deprecated. Please use tf.compat.v1.losses.sparse_softmax_cross_entropy instead.\n",
      "\n"
     ]
    }
   ],
   "source": [
    "import os\n",
    "import shutil\n",
    "import random\n",
    "import pandas as pd\n",
    "import numpy as np\n",
    "import math\n",
    "from sklearn.model_selection import train_test_split\n",
    "from sklearn.metrics import mean_squared_error, r2_score\n",
    "from datetime import datetime\n",
    "\n",
    "from sklearn import preprocessing\n",
    "from sklearn.covariance import OAS\n",
    "from sklearn.discriminant_analysis import LinearDiscriminantAnalysis\n",
    "from sklearn.kernel_approximation import Nystroem\n",
    "from sklearn.pipeline import Pipeline\n",
    "\n",
    "import torch\n",
    "from torch.optim import RMSprop, Adam, SGD\n",
    "from torch import nn, Tensor\n",
    "from torch.utils.data import Dataset, DataLoader, Subset\n",
    "from torch.utils.tensorboard import SummaryWriter\n",
    "from itertools import product\n",
    "from torch.optim.lr_scheduler import ReduceLROnPlateau\n",
    "\n",
    "random_state = 42"
   ]
  },
  {
   "cell_type": "markdown",
   "metadata": {},
   "source": [
    "---\n",
    "## Preparation"
   ]
  },
  {
   "cell_type": "code",
   "execution_count": 2,
   "metadata": {},
   "outputs": [],
   "source": [
    "base_dir = \"2_NN_outputs/\"\n",
    "model_dir = base_dir + \"models/\"\n",
    "runs_dir = base_dir + \"runs/\"\n",
    "\n",
    "# shutil.rmtree(model_dir, ignore_errors=True)\n",
    "# shutil.rmtree(runs_dir, ignore_errors=True)\n",
    "# os.makedirs(model_dir, exist_ok=True)\n",
    "# os.makedirs(runs_dir, exist_ok=True)"
   ]
  },
  {
   "cell_type": "markdown",
   "metadata": {},
   "source": [
    "### Device\n"
   ]
  },
  {
   "cell_type": "code",
   "execution_count": 3,
   "metadata": {},
   "outputs": [
    {
     "name": "stdout",
     "output_type": "stream",
     "text": [
      "Device: cuda\n"
     ]
    }
   ],
   "source": [
    "# PyTorch Device\n",
    "device = \"cuda\" if torch.cuda.is_available() else \"mps\" if torch.backends.mps.is_available() else \"cpu\"\n",
    "print(\"Device: {}\".format(device))"
   ]
  },
  {
   "cell_type": "markdown",
   "metadata": {},
   "source": [
    "### Set seeds\n"
   ]
  },
  {
   "cell_type": "code",
   "execution_count": 4,
   "metadata": {},
   "outputs": [],
   "source": [
    "# For reproducibility, fix all the seeds\n",
    "def fix_random(seed: int) -> None:\n",
    "    \"\"\"Fix all the possible sources of randomness.\n",
    "    Args:\n",
    "        seed: the seed to use.\n",
    "    \"\"\"\n",
    "    np.random.seed(seed)\n",
    "    random.seed(seed)\n",
    "    torch.manual_seed(seed)\n",
    "    torch.cuda.manual_seed(seed)\n",
    "\n",
    "    torch.backends.cudnn.benchmark = False\n",
    "    torch.backends.cudnn.deterministic = True  # slower"
   ]
  },
  {
   "cell_type": "markdown",
   "metadata": {},
   "source": [
    "### Data Layer\n"
   ]
  },
  {
   "cell_type": "code",
   "execution_count": 5,
   "metadata": {},
   "outputs": [],
   "source": [
    "class MyDataset(Dataset):\n",
    "    # Save X and y as Tensors, accordingly to the type of the data\n",
    "    def __init__(self, X, y):\n",
    "        self.X = torch.tensor(X, dtype=torch.float32, device=device)\n",
    "        self.y = torch.tensor(y, dtype=torch.float32, device=device)\n",
    "\n",
    "        self.num_features = X.shape[1]\n",
    "\n",
    "    # Dataset size\n",
    "    def __len__(self):\n",
    "        return self.X.shape[0]\n",
    "\n",
    "    def __getitem__(self, idx):\n",
    "        return self.X[idx, :], self.y[idx]"
   ]
  },
  {
   "cell_type": "markdown",
   "metadata": {},
   "source": [
    "### Neural Network Architectures"
   ]
  },
  {
   "cell_type": "code",
   "execution_count": 6,
   "metadata": {
    "ExecuteTime": {
     "end_time": "2023-06-22T17:05:42.070805500Z",
     "start_time": "2023-06-22T17:05:42.065927700Z"
    }
   },
   "outputs": [],
   "source": [
    "class NeuralNetworkSimple(nn.Module):\n",
    "    def __init__(self, input_size, hidden_size, depth):\n",
    "        super(NeuralNetworkSimple, self).__init__()\n",
    "\n",
    "        self.input_layer = nn.Sequential(\n",
    "            nn.Linear(input_size, hidden_size),\n",
    "            nn.ReLU(),\n",
    "        )\n",
    "\n",
    "        self.hidden_layers = nn.Sequential(*[nn.Linear(hidden_size, hidden_size), nn.ReLU()] * (depth - 1))\n",
    "\n",
    "        self.output = nn.Linear(hidden_size, 1)\n",
    "\n",
    "    def forward(self, x):\n",
    "        h_in = self.input_layer(x)\n",
    "        h_out = self.hidden_layers(h_in)\n",
    "        out = self.output(h_out)\n",
    "        return out\n",
    "\n",
    "    def _get_description(self):\n",
    "        return \"[Linear(hidden_size)+ReLU]*depth\""
   ]
  },
  {
   "cell_type": "code",
   "execution_count": 7,
   "metadata": {},
   "outputs": [],
   "source": [
    "class NeuralNetworkDropout(nn.Module):\n",
    "    def __init__(self, input_size, hidden_size, depth, dropout_rate):\n",
    "        super(NeuralNetworkDropout, self).__init__()\n",
    "\n",
    "        self.input_layer = nn.Sequential(\n",
    "            nn.Linear(input_size, hidden_size),\n",
    "            nn.ReLU(),\n",
    "            nn.Dropout(dropout_rate),\n",
    "        )\n",
    "\n",
    "        self.hidden_layers = nn.Sequential(\n",
    "            *[\n",
    "                nn.Linear(hidden_size, hidden_size),\n",
    "                nn.ReLU(),\n",
    "                nn.Dropout(dropout_rate),\n",
    "            ]\n",
    "            * (depth - 1)\n",
    "        )\n",
    "\n",
    "        self.output = nn.Linear(hidden_size, 1)\n",
    "\n",
    "    def forward(self, x):\n",
    "        h_in = self.input_layer(x)\n",
    "        h_out = self.hidden_layers(h_in)\n",
    "        out = self.output(h_out)\n",
    "        return out\n",
    "\n",
    "    def _get_description(self):\n",
    "        return \"[Linear(hidden_size)+ReLU+Dropout(dropout_rate)]*depth\""
   ]
  },
  {
   "cell_type": "code",
   "execution_count": 8,
   "metadata": {},
   "outputs": [],
   "source": [
    "class NeuralNetworkBatchNorm(nn.Module):\n",
    "    def __init__(self, input_size, hidden_size, depth):\n",
    "        super(NeuralNetworkBatchNorm, self).__init__()\n",
    "\n",
    "        self.input_layer = nn.Sequential(\n",
    "            nn.Linear(input_size, hidden_size),\n",
    "            nn.BatchNorm1d(hidden_size),\n",
    "            nn.ReLU(),\n",
    "        )\n",
    "\n",
    "        self.hidden_layers = nn.Sequential(\n",
    "            *[\n",
    "                nn.Linear(hidden_size, hidden_size),\n",
    "                nn.BatchNorm1d(hidden_size),\n",
    "                nn.ReLU(),\n",
    "            ]\n",
    "            * (depth - 1)\n",
    "        )\n",
    "\n",
    "        self.output = nn.Linear(hidden_size, 1)\n",
    "\n",
    "    def forward(self, x):\n",
    "        h_in = self.input_layer(x)\n",
    "        h_out = self.hidden_layers(h_in)\n",
    "        out = self.output(h_out)\n",
    "        return out\n",
    "\n",
    "    def _get_description(self):\n",
    "        return \"[Linear(hidden_size)+BatchNorm1d+ReLU]*depth\""
   ]
  },
  {
   "cell_type": "code",
   "execution_count": 9,
   "metadata": {},
   "outputs": [],
   "source": [
    "class NeuralNetworkDropoutBatchNorm(nn.Module):\n",
    "    def __init__(self, input_size, hidden_size, depth, dropout_rate):\n",
    "        super(NeuralNetworkDropoutBatchNorm, self).__init__()\n",
    "\n",
    "        self.input_layer = nn.Sequential(\n",
    "            nn.Linear(input_size, hidden_size),\n",
    "            nn.BatchNorm1d(hidden_size),\n",
    "            nn.ReLU(),\n",
    "            nn.Dropout(dropout_rate),\n",
    "        )\n",
    "\n",
    "        self.hidden_layers = nn.Sequential(\n",
    "            *[\n",
    "                nn.Linear(hidden_size, hidden_size),\n",
    "                nn.BatchNorm1d(hidden_size),\n",
    "                nn.ReLU(),\n",
    "                nn.Dropout(dropout_rate),\n",
    "            ]\n",
    "            * (depth - 1)\n",
    "        )\n",
    "\n",
    "        self.output = nn.Linear(hidden_size, 1)\n",
    "\n",
    "    def forward(self, x):\n",
    "        h_in = self.input_layer(x)\n",
    "        h_out = self.hidden_layers(h_in)\n",
    "        out = self.output(h_out)\n",
    "        return out\n",
    "\n",
    "    def _get_description(self):\n",
    "        return \"[Linear(hidden_size)+BatchNorm1d+ReLU+Dropout]*depth\""
   ]
  },
  {
   "cell_type": "markdown",
   "metadata": {},
   "source": [
    "### Early Stopper"
   ]
  },
  {
   "cell_type": "code",
   "execution_count": 10,
   "metadata": {},
   "outputs": [],
   "source": [
    "class EarlyStopper:\n",
    "    def __init__(self, patience=1, delta=0):\n",
    "        self.patience: int = patience\n",
    "        self.delta: int = delta\n",
    "        self.counter = 0\n",
    "        self.min_validation_loss = float(\"inf\")\n",
    "\n",
    "    def early_stop(self, validation_loss):\n",
    "        if validation_loss <= (self.min_validation_loss - self.delta):\n",
    "            self.min_validation_loss = validation_loss\n",
    "            self.counter = 0\n",
    "            return False\n",
    "        else:\n",
    "            self.counter += 1\n",
    "            # print(\"\\tEarly stopper: {}/{} epochs\".format(self.counter, self.patience))\n",
    "            if self.counter >= self.patience:\n",
    "                return True"
   ]
  },
  {
   "cell_type": "markdown",
   "metadata": {},
   "source": [
    "### Train Function\n"
   ]
  },
  {
   "cell_type": "code",
   "execution_count": 11,
   "metadata": {
    "ExecuteTime": {
     "end_time": "2023-06-22T17:05:42.116054200Z",
     "start_time": "2023-06-22T17:05:42.087104900Z"
    }
   },
   "outputs": [],
   "source": [
    "# Function for the training process\n",
    "def train_model(\n",
    "    model: nn.Module,  # instance of class to train\n",
    "    criterion,  # instance of loss function\n",
    "    optimizer,  # instance of optimizer\n",
    "    epochs,  # number of\n",
    "    train_loader: DataLoader,\n",
    "    val_loader: DataLoader,\n",
    "    scheduler,\n",
    "    early_stopper,\n",
    "    device,  # to train on\n",
    "    log_writer,\n",
    "    log_name,\n",
    "):\n",
    "    n_iter = 0\n",
    "    best_valid_loss = float(\"inf\")  # initialized to worst possible value\n",
    "\n",
    "    # EPOCHS\n",
    "    for epoch in range(epochs):\n",
    "        model.train()  # activate training mode (for BatchNorm or Dropout)\n",
    "\n",
    "        # BATCHES\n",
    "        for data, targets in train_loader:  # get_item from MyDataset class (single item or batch)\n",
    "            data, targets = data.to(device), targets.to(device)\n",
    "\n",
    "            optimizer.zero_grad()  # gradient to zero\n",
    "\n",
    "            # Forward pass\n",
    "            y_pred = model(data)\n",
    "\n",
    "            # Compute Loss\n",
    "            loss = criterion(y_pred.squeeze(), targets)  # reshape because MSELoss requires same dimensionality\n",
    "            log_writer.add_scalar(\"Loss train/batches\", loss, n_iter)  # plot the batches\n",
    "\n",
    "            # Backward pass\n",
    "            loss.backward()\n",
    "            optimizer.step()\n",
    "\n",
    "            n_iter += 1\n",
    "\n",
    "        # Valuation\n",
    "        y_test, y_pred = test_model(model, val_loader, device)\n",
    "        loss_val = criterion(y_pred.squeeze(), y_test)\n",
    "        log_writer.add_scalar(\"Loss val/epochs\", loss_val, epoch)  # plot the epochs\n",
    "\n",
    "        scheduler.step(loss_val)\n",
    "\n",
    "        # Save the model with best loss through the epochs\n",
    "        if loss_val.item() < best_valid_loss:\n",
    "            best_valid_loss = loss_val.item()\n",
    "            torch.save(model.state_dict(), model_dir + log_name)\n",
    "\n",
    "        # Early Stopping\n",
    "        if early_stopper.early_stop(loss_val.item()):\n",
    "            print(\"Early stopped!\")\n",
    "            break"
   ]
  },
  {
   "cell_type": "markdown",
   "metadata": {},
   "source": [
    "### Test Function\n"
   ]
  },
  {
   "cell_type": "code",
   "execution_count": 12,
   "metadata": {
    "ExecuteTime": {
     "end_time": "2023-06-22T17:05:42.116054200Z",
     "start_time": "2023-06-22T17:05:42.106079700Z"
    }
   },
   "outputs": [],
   "source": [
    "def test_model(model: nn.Module, data_loader: DataLoader, device) -> tuple[Tensor, Tensor, Tensor]:\n",
    "    model.eval()  # activate evaluation mode (for BatchNorm or Dropout)\n",
    "\n",
    "    y_pred = []\n",
    "    y_test = []\n",
    "\n",
    "    for data, targets in data_loader:\n",
    "        data, targets = data.to(device), targets.to(device)\n",
    "\n",
    "        y_pred.append(model(data))  # accumulate predictions\n",
    "        y_test.append(targets)  # accumulate labels\n",
    "\n",
    "    y_test = torch.stack(y_test).squeeze()\n",
    "    y_pred = torch.stack(y_pred).squeeze()\n",
    "    return y_test, y_pred"
   ]
  },
  {
   "cell_type": "markdown",
   "metadata": {},
   "source": [
    "---"
   ]
  },
  {
   "cell_type": "markdown",
   "metadata": {},
   "source": [
    "### Data Acquisition\n"
   ]
  },
  {
   "cell_type": "code",
   "execution_count": 13,
   "metadata": {
    "ExecuteTime": {
     "end_time": "2023-06-22T17:05:40.242589800Z",
     "start_time": "2023-06-22T17:05:38.117070300Z"
    }
   },
   "outputs": [
    {
     "name": "stdout",
     "output_type": "stream",
     "text": [
      "Rows:  252123\n",
      "Columns:  91\n",
      "Train:  176486\n",
      "Validation:  50424\n",
      "Test:  25213\n"
     ]
    }
   ],
   "source": [
    "df = pd.read_csv(\"train.csv\").drop_duplicates()\n",
    "print(\"Rows: \", df.shape[0])\n",
    "print(\"Columns: \", df.shape[1])\n",
    "\n",
    "df_X = df.iloc[:, 1:].values\n",
    "df_y = df.iloc[:, 0].values\n",
    "indices = np.arange(df_X.shape[0])\n",
    "\n",
    "# Separate indices in train/val/set (70 train, 20 val, 10 test)\n",
    "train_idx, test_idx = train_test_split(indices, test_size=0.3, stratify=df_y, random_state=random_state)\n",
    "val_idx, test_idx = train_test_split(test_idx, test_size=1 / 3, stratify=df_y[test_idx], random_state=random_state)\n",
    "\n",
    "print(\"Train: \", len(train_idx))\n",
    "print(\"Validation: \", len(val_idx))\n",
    "print(\"Test: \", len(test_idx))"
   ]
  },
  {
   "cell_type": "markdown",
   "metadata": {},
   "source": [
    "### Preprocessing"
   ]
  },
  {
   "cell_type": "code",
   "execution_count": 14,
   "metadata": {
    "ExecuteTime": {
     "end_time": "2023-06-22T17:05:42.056143500Z",
     "start_time": "2023-06-22T17:05:40.565714200Z"
    },
    "collapsed": false
   },
   "outputs": [],
   "source": [
    "# %%script false --no-raise-error\n",
    "\n",
    "# pipeline = Pipeline([(\"raw\", None)])\n",
    "# preprocess_name = \"RAW\"\n",
    "\n",
    "# pipeline = Pipeline(\n",
    "#     steps=[\n",
    "#         (\"min-max\", preprocessing.MinMaxScaler()),\n",
    "#         (\"l2\", preprocessing.Normalizer(norm=\"l2\")),\n",
    "#     ]\n",
    "# )\n",
    "# preprocess_name = \"MinMax+L2\"\n",
    "\n",
    "pipeline = Pipeline(\n",
    "    steps=[\n",
    "        (\"std\", preprocessing.StandardScaler()),\n",
    "        (\"l2\", preprocessing.Normalizer(norm=\"l2\")),\n",
    "    ]\n",
    ")\n",
    "preprocess_name = \"STD+L2\"\n",
    "\n",
    "# pipeline = Pipeline(\n",
    "#     steps=[\n",
    "#         (\"min-max\", preprocessing.MinMaxScaler()),\n",
    "#         (\"lmax\", preprocessing.Normalizer(norm=\"max\")),\n",
    "#         (\"lda\", LinearDiscriminantAnalysis(solver=\"eigen\", shrinkage=None, covariance_estimator=OAS())),\n",
    "#     ]\n",
    "# )\n",
    "# preprocess_name = \"MinMax+Lmax+LDA\"\n",
    "\n",
    "# pipeline = Pipeline(\n",
    "#     [\n",
    "#         (\"min-max\", preprocessing.MinMaxScaler()),\n",
    "#         (\"lda\", LinearDiscriminantAnalysis(solver=\"eigen\", covariance_estimator=OAS())),\n",
    "#         (\"nys\", Nystroem(random_state=random_state, n_jobs=-1, gamma=0.010, n_components=1000)),\n",
    "#     ]\n",
    "# )\n",
    "# preprocess_name = \"MinMax+LDA+NYS\"\n",
    "\n",
    "pipeline.fit(df_X[train_idx], df_y[train_idx])\n",
    "\n",
    "df_X_t = pipeline.transform(df_X)"
   ]
  },
  {
   "cell_type": "markdown",
   "metadata": {},
   "source": [
    "### Hyperparameters\n"
   ]
  },
  {
   "cell_type": "code",
   "execution_count": 15,
   "metadata": {},
   "outputs": [
    {
     "name": "stdout",
     "output_type": "stream",
     "text": [
      "Combinations size: 2\n"
     ]
    }
   ],
   "source": [
    "hidden_size = [256]  # 128, 256, 512, 1024]\n",
    "\n",
    "batch_size = [48]  # [8, 16, 32, 64]\n",
    "\n",
    "depth = [2,4]  # [3, 4, 5]\n",
    "\n",
    "learning_rate = [0.0001]  # [0.001, 0.1]\n",
    "\n",
    "num_epochs = [200]\n",
    "\n",
    "\n",
    "# def log_cosh_loss(y_pred: torch.Tensor, y_true: torch.Tensor) -> torch.Tensor:\n",
    "#     def _log_cosh(x: torch.Tensor) -> torch.Tensor:\n",
    "#         return x + torch.nn.functional.softplus(-2.0 * x) - math.log(2.0)\n",
    "\n",
    "#     return torch.mean(_log_cosh(y_pred - y_true))\n",
    "\n",
    "\n",
    "# class LogCoshLoss(torch.nn.Module):\n",
    "#     def init(self):\n",
    "#         super().init()\n",
    "\n",
    "#     def forward(self, y_pred: torch.Tensor, y_true: torch.Tensor) -> torch.Tensor:\n",
    "#         return log_cosh_loss(y_pred, y_true)\n",
    "\n",
    "\n",
    "class LogCoshLoss(torch.nn.Module):\n",
    "    def init(self):\n",
    "        super().init()\n",
    "\n",
    "    def forward(self, y_pred: torch.Tensor, y_true: torch.Tensor) -> torch.Tensor:\n",
    "        return torch.mean(y_pred - y_true + torch.nn.functional.softplus(-2.0 * (y_pred - y_true)) - math.log(2.0))\n",
    "\n",
    "\n",
    "criterion = [nn.MSELoss()]  # nn.L1Loss(), nn.HuberLoss(), LogCoshLoss()\n",
    "\n",
    "optimizer = [RMSprop]  # Adam, SGD\n",
    "momentum = [0.9]  # 0.9\n",
    "\n",
    "scheduler_patience = [15]\n",
    "scheduler_threshold = [1]\n",
    "scheduler_threshold_mode = [\"abs\"]  # \"rel\"\n",
    "scheduler_factor = [0.1]\n",
    "scheduler_min_lr = [0.0000001]\n",
    "\n",
    "early_stopper_patience = [30]\n",
    "\n",
    "dropout_rate = [0.1]\n",
    "\n",
    "hyperparameters = list(\n",
    "    product(\n",
    "        hidden_size,\n",
    "        depth,\n",
    "        num_epochs,\n",
    "        batch_size,\n",
    "        learning_rate,\n",
    "        criterion,\n",
    "        optimizer,\n",
    "        scheduler_patience,\n",
    "        scheduler_threshold,\n",
    "        momentum,\n",
    "        dropout_rate,\n",
    "        early_stopper_patience,\n",
    "        scheduler_threshold_mode,\n",
    "        scheduler_factor,\n",
    "        scheduler_min_lr,\n",
    "    )\n",
    ")\n",
    "n_comb = len(hyperparameters)\n",
    "print(f\"Combinations size: {n_comb}\")"
   ]
  },
  {
   "cell_type": "markdown",
   "metadata": {},
   "source": [
    "### Run"
   ]
  },
  {
   "cell_type": "code",
   "execution_count": 16,
   "metadata": {},
   "outputs": [
    {
     "name": "stdout",
     "output_type": "stream",
     "text": [
      "\n",
      "=================================================================================\n",
      "Iteration 1/2\n",
      "ID                                                         20240207-004606645\n",
      "R^2                                                                      None\n",
      "MSE                                                                      None\n",
      "preprocess                                                             STD+L2\n",
      "NN_architecture             [Linear(hidden_size)+ReLU+Dropout(dropout_rate...\n",
      "depth                                                                       2\n",
      "hidden_size                                                               256\n",
      "dropout_rate                                                              0.1\n",
      "batch_size                                                                 48\n",
      "learning_rate                                                          0.0001\n",
      "criterion                                                           MSELoss()\n",
      "optimizer                                                             RMSprop\n",
      "momentum                                                                  0.9\n",
      "scheduler_patience                                                         15\n",
      "scheduler_threshold                                                         1\n",
      "scheduler_threshold_mode                                                  abs\n",
      "scheduler_factor                                                          0.1\n",
      "scheduler_min_lr                                                          0.0\n",
      "early_stopper_patience                                                     30\n",
      "num_epochs                                                                200\n",
      "Name: 0, dtype: object\n",
      "Epoch 00027: reducing learning rate of group 0 to 1.0000e-05.\n"
     ]
    }
   ],
   "source": [
    "best_loss = np.inf\n",
    "best_combination = None\n",
    "best_model = None\n",
    "\n",
    "results_tt = pd.DataFrame(\n",
    "    columns=[\n",
    "        \"ID\",\n",
    "        \"R^2\",\n",
    "        \"MSE\",\n",
    "        \"preprocess\",\n",
    "        \"NN_architecture\",\n",
    "        \"depth\",\n",
    "        \"hidden_size\",\n",
    "        \"dropout_rate\",\n",
    "        \"batch_size\",\n",
    "        \"learning_rate\",\n",
    "        \"criterion\",\n",
    "        \"optimizer\",\n",
    "        \"momentum\",\n",
    "        \"scheduler_patience\",\n",
    "        \"scheduler_threshold\",\n",
    "        \"scheduler_threshold_mode\",\n",
    "        \"scheduler_factor\",\n",
    "        \"scheduler_min_lr\",\n",
    "        \"early_stopper_patience\",\n",
    "        \"num_epochs\",\n",
    "    ]\n",
    ")\n",
    "\n",
    "for n_iter, (\n",
    "    hidden_size,\n",
    "    depth,\n",
    "    num_epochs,\n",
    "    batch_size,\n",
    "    learning_rate,\n",
    "    criterion,\n",
    "    optimizer,\n",
    "    scheduler_patience,\n",
    "    scheduler_threshold,\n",
    "    momentum,\n",
    "    dropout_rate,\n",
    "    early_stopper_patience,\n",
    "    scheduler_threshold_mode,\n",
    "    scheduler_factor,\n",
    "    scheduler_min_lr,\n",
    ") in enumerate(hyperparameters):\n",
    "    fix_random(random_state)\n",
    "    print(\"\\n=================================================================================\")\n",
    "    print(f\"Iteration {n_iter+1}/{n_comb}\")\n",
    "\n",
    "    # Data Loaders\n",
    "    my_dataset = MyDataset(df_X_t, df_y)\n",
    "    train_loader = DataLoader(Subset(my_dataset, train_idx), batch_size=batch_size, shuffle=True)\n",
    "    val_loader = DataLoader(Subset(my_dataset, val_idx), batch_size=1)\n",
    "    test_loader = DataLoader(Subset(my_dataset, test_idx), batch_size=1)\n",
    "\n",
    "    model = NeuralNetworkDropout(my_dataset.num_features, hidden_size, depth=depth, dropout_rate=dropout_rate)\n",
    "    model.to(device)\n",
    "\n",
    "    optimizer = optimizer(model.parameters(), lr=learning_rate, momentum=momentum)\n",
    "    scheduler = ReduceLROnPlateau(\n",
    "        optimizer,\n",
    "        patience=scheduler_patience,\n",
    "        threshold=scheduler_threshold,\n",
    "        threshold_mode=scheduler_threshold_mode,\n",
    "        factor=scheduler_factor,\n",
    "        min_lr=scheduler_min_lr,\n",
    "        verbose=True,\n",
    "    )\n",
    "\n",
    "    early_stopper = EarlyStopper(patience=early_stopper_patience, delta=0.1)\n",
    "\n",
    "    log_name = datetime.now().strftime(\"%Y%m%d-%H%M%S\") + str(datetime.now().microsecond // 1000).zfill(3)\n",
    "    log_writer = SummaryWriter(runs_dir + log_name)\n",
    "\n",
    "    # Save configuration to df\n",
    "    results_tt.loc[len(results_tt)] = [\n",
    "        log_name,\n",
    "        None,\n",
    "        None,\n",
    "        preprocess_name,\n",
    "        model._get_description(),\n",
    "        depth,\n",
    "        hidden_size,\n",
    "        dropout_rate,\n",
    "        batch_size,\n",
    "        learning_rate,\n",
    "        criterion,\n",
    "        optimizer.__class__.__name__,\n",
    "        momentum,\n",
    "        scheduler_patience,\n",
    "        scheduler_threshold,\n",
    "        scheduler_threshold_mode,\n",
    "        scheduler_factor,\n",
    "        scheduler_min_lr,\n",
    "        early_stopper_patience,\n",
    "        num_epochs,\n",
    "    ]\n",
    "    print(results_tt.loc[len(results_tt) - 1])\n",
    "\n",
    "    # Train\n",
    "    train_model(\n",
    "        model,\n",
    "        criterion,\n",
    "        optimizer,\n",
    "        num_epochs,\n",
    "        train_loader,\n",
    "        val_loader,\n",
    "        scheduler,\n",
    "        early_stopper,\n",
    "        device,\n",
    "        log_writer,\n",
    "        log_name,\n",
    "    )\n",
    "\n",
    "    # Load best model (saven in the train function)\n",
    "    model.load_state_dict(torch.load(model_dir + log_name))\n",
    "    model.to(device)\n",
    "\n",
    "    # Test\n",
    "    y_true, y_pred = test_model(model, test_loader, device)\n",
    "    test_loss = criterion(y_pred, y_true)\n",
    "    print(f\"\\nTest loss (for given criterion): {test_loss:.4f}\")\n",
    "    r2 = r2_score(y_true.cpu().detach().numpy(), y_pred.cpu().detach().numpy())\n",
    "    mse = mean_squared_error(y_true.detach().numpy(), y_pred.detach().numpy())\n",
    "    print(f\"R^2: {r2:.4f}, MSE:{mse:.4f}\")\n",
    "\n",
    "    # Add results to df\n",
    "    results_tt.loc[len(results_tt) - 1, \"R^2\"] = r2\n",
    "    results_tt.loc[len(results_tt) - 1, \"MSE\"] = mse\n",
    "    results_tt.loc[[len(results_tt) - 1]].to_csv(\"2_output.csv\", mode=\"a\", index=False, header=False)\n",
    "\n",
    "    if test_loss < best_loss:\n",
    "        best_model = model\n",
    "        best_combination = results_tt.loc[len(results_tt) - 1]\n",
    "\n",
    "    log_writer.flush()\n",
    "    log_writer.close()"
   ]
  },
  {
   "cell_type": "markdown",
   "metadata": {},
   "source": [
    "### Best results"
   ]
  },
  {
   "cell_type": "code",
   "execution_count": null,
   "metadata": {},
   "outputs": [
    {
     "name": "stdout",
     "output_type": "stream",
     "text": [
      "Best combination:\n",
      "ID                                        20240206-214134213\n",
      "R^2                                                 0.348497\n",
      "MSE                                                71.713081\n",
      "preprocess                                            STD+L2\n",
      "NN_architecture             [Linear(hidden_size)+ReLU]*depth\n",
      "depth                                                      3\n",
      "hidden_size                                              256\n",
      "dropout_rate                                            None\n",
      "batch_size                                                48\n",
      "learning_rate                                         0.0001\n",
      "criterion                                          MSELoss()\n",
      "optimizer                                            RMSprop\n",
      "momentum                                                 0.9\n",
      "scheduler_patience                                         5\n",
      "scheduler_threshold                                        1\n",
      "scheduler_threshold_mode                                 abs\n",
      "scheduler_factor                                         0.1\n",
      "scheduler_min_lr                                         0.0\n",
      "early_stopper_patience                                    30\n",
      "num_epochs                                               200\n",
      "Name: 0, dtype: object\n"
     ]
    }
   ],
   "source": [
    "print(\"Best combination:\")\n",
    "print(best_combination)"
   ]
  },
  {
   "cell_type": "code",
   "execution_count": null,
   "metadata": {},
   "outputs": [
    {
     "data": {
      "text/html": [
       "<style type=\"text/css\">\n",
       "</style>\n",
       "<table id=\"T_4531f\">\n",
       "  <thead>\n",
       "    <tr>\n",
       "      <th class=\"blank level0\" >&nbsp;</th>\n",
       "      <th id=\"T_4531f_level0_col0\" class=\"col_heading level0 col0\" >ID</th>\n",
       "      <th id=\"T_4531f_level0_col1\" class=\"col_heading level0 col1\" >R^2</th>\n",
       "      <th id=\"T_4531f_level0_col2\" class=\"col_heading level0 col2\" >MSE</th>\n",
       "      <th id=\"T_4531f_level0_col3\" class=\"col_heading level0 col3\" >preprocess</th>\n",
       "      <th id=\"T_4531f_level0_col4\" class=\"col_heading level0 col4\" >NN_architecture</th>\n",
       "      <th id=\"T_4531f_level0_col5\" class=\"col_heading level0 col5\" >depth</th>\n",
       "      <th id=\"T_4531f_level0_col6\" class=\"col_heading level0 col6\" >hidden_size</th>\n",
       "      <th id=\"T_4531f_level0_col7\" class=\"col_heading level0 col7\" >dropout_rate</th>\n",
       "      <th id=\"T_4531f_level0_col8\" class=\"col_heading level0 col8\" >batch_size</th>\n",
       "      <th id=\"T_4531f_level0_col9\" class=\"col_heading level0 col9\" >learning_rate</th>\n",
       "      <th id=\"T_4531f_level0_col10\" class=\"col_heading level0 col10\" >criterion</th>\n",
       "      <th id=\"T_4531f_level0_col11\" class=\"col_heading level0 col11\" >optimizer</th>\n",
       "      <th id=\"T_4531f_level0_col12\" class=\"col_heading level0 col12\" >momentum</th>\n",
       "      <th id=\"T_4531f_level0_col13\" class=\"col_heading level0 col13\" >scheduler_patience</th>\n",
       "      <th id=\"T_4531f_level0_col14\" class=\"col_heading level0 col14\" >scheduler_threshold</th>\n",
       "      <th id=\"T_4531f_level0_col15\" class=\"col_heading level0 col15\" >scheduler_threshold_mode</th>\n",
       "      <th id=\"T_4531f_level0_col16\" class=\"col_heading level0 col16\" >scheduler_factor</th>\n",
       "      <th id=\"T_4531f_level0_col17\" class=\"col_heading level0 col17\" >scheduler_min_lr</th>\n",
       "      <th id=\"T_4531f_level0_col18\" class=\"col_heading level0 col18\" >early_stopper_patience</th>\n",
       "      <th id=\"T_4531f_level0_col19\" class=\"col_heading level0 col19\" >num_epochs</th>\n",
       "    </tr>\n",
       "  </thead>\n",
       "  <tbody>\n",
       "    <tr>\n",
       "      <th id=\"T_4531f_level0_row0\" class=\"row_heading level0 row0\" >17</th>\n",
       "      <td id=\"T_4531f_row0_col0\" class=\"data row0 col0\" >20240206-210056780</td>\n",
       "      <td id=\"T_4531f_row0_col1\" class=\"data row0 col1\" >0.3487365</td>\n",
       "      <td id=\"T_4531f_row0_col2\" class=\"data row0 col2\" >71.6867000</td>\n",
       "      <td id=\"T_4531f_row0_col3\" class=\"data row0 col3\" >STD+L2</td>\n",
       "      <td id=\"T_4531f_row0_col4\" class=\"data row0 col4\" >[Linear(hidden_size)+ReLU]*depth</td>\n",
       "      <td id=\"T_4531f_row0_col5\" class=\"data row0 col5\" >3</td>\n",
       "      <td id=\"T_4531f_row0_col6\" class=\"data row0 col6\" >256</td>\n",
       "      <td id=\"T_4531f_row0_col7\" class=\"data row0 col7\" >nan</td>\n",
       "      <td id=\"T_4531f_row0_col8\" class=\"data row0 col8\" >48</td>\n",
       "      <td id=\"T_4531f_row0_col9\" class=\"data row0 col9\" >0.0001000</td>\n",
       "      <td id=\"T_4531f_row0_col10\" class=\"data row0 col10\" >MSELoss()</td>\n",
       "      <td id=\"T_4531f_row0_col11\" class=\"data row0 col11\" >RMSprop</td>\n",
       "      <td id=\"T_4531f_row0_col12\" class=\"data row0 col12\" >0.9000000</td>\n",
       "      <td id=\"T_4531f_row0_col13\" class=\"data row0 col13\" >6</td>\n",
       "      <td id=\"T_4531f_row0_col14\" class=\"data row0 col14\" >1</td>\n",
       "      <td id=\"T_4531f_row0_col15\" class=\"data row0 col15\" >abs</td>\n",
       "      <td id=\"T_4531f_row0_col16\" class=\"data row0 col16\" >0.1000000</td>\n",
       "      <td id=\"T_4531f_row0_col17\" class=\"data row0 col17\" >0.0000001</td>\n",
       "      <td id=\"T_4531f_row0_col18\" class=\"data row0 col18\" >30</td>\n",
       "      <td id=\"T_4531f_row0_col19\" class=\"data row0 col19\" >200</td>\n",
       "    </tr>\n",
       "    <tr>\n",
       "      <th id=\"T_4531f_level0_row1\" class=\"row_heading level0 row1\" >19</th>\n",
       "      <td id=\"T_4531f_row1_col0\" class=\"data row1 col0\" >20240206-214134213</td>\n",
       "      <td id=\"T_4531f_row1_col1\" class=\"data row1 col1\" >0.3484968</td>\n",
       "      <td id=\"T_4531f_row1_col2\" class=\"data row1 col2\" >71.7130800</td>\n",
       "      <td id=\"T_4531f_row1_col3\" class=\"data row1 col3\" >STD+L2</td>\n",
       "      <td id=\"T_4531f_row1_col4\" class=\"data row1 col4\" >[Linear(hidden_size)+ReLU]*depth</td>\n",
       "      <td id=\"T_4531f_row1_col5\" class=\"data row1 col5\" >3</td>\n",
       "      <td id=\"T_4531f_row1_col6\" class=\"data row1 col6\" >256</td>\n",
       "      <td id=\"T_4531f_row1_col7\" class=\"data row1 col7\" >nan</td>\n",
       "      <td id=\"T_4531f_row1_col8\" class=\"data row1 col8\" >48</td>\n",
       "      <td id=\"T_4531f_row1_col9\" class=\"data row1 col9\" >0.0001000</td>\n",
       "      <td id=\"T_4531f_row1_col10\" class=\"data row1 col10\" >MSELoss()</td>\n",
       "      <td id=\"T_4531f_row1_col11\" class=\"data row1 col11\" >RMSprop</td>\n",
       "      <td id=\"T_4531f_row1_col12\" class=\"data row1 col12\" >0.9000000</td>\n",
       "      <td id=\"T_4531f_row1_col13\" class=\"data row1 col13\" >5</td>\n",
       "      <td id=\"T_4531f_row1_col14\" class=\"data row1 col14\" >1</td>\n",
       "      <td id=\"T_4531f_row1_col15\" class=\"data row1 col15\" >abs</td>\n",
       "      <td id=\"T_4531f_row1_col16\" class=\"data row1 col16\" >0.1000000</td>\n",
       "      <td id=\"T_4531f_row1_col17\" class=\"data row1 col17\" >0.0000001</td>\n",
       "      <td id=\"T_4531f_row1_col18\" class=\"data row1 col18\" >30</td>\n",
       "      <td id=\"T_4531f_row1_col19\" class=\"data row1 col19\" >200</td>\n",
       "    </tr>\n",
       "    <tr>\n",
       "      <th id=\"T_4531f_level0_row2\" class=\"row_heading level0 row2\" >18</th>\n",
       "      <td id=\"T_4531f_row2_col0\" class=\"data row2 col0\" >20240206-211921236</td>\n",
       "      <td id=\"T_4531f_row2_col1\" class=\"data row2 col1\" >0.3429920</td>\n",
       "      <td id=\"T_4531f_row2_col2\" class=\"data row2 col2\" >72.3190160</td>\n",
       "      <td id=\"T_4531f_row2_col3\" class=\"data row2 col3\" >STD+L2</td>\n",
       "      <td id=\"T_4531f_row2_col4\" class=\"data row2 col4\" >[Linear(hidden_size)+ReLU]*depth</td>\n",
       "      <td id=\"T_4531f_row2_col5\" class=\"data row2 col5\" >3</td>\n",
       "      <td id=\"T_4531f_row2_col6\" class=\"data row2 col6\" >256</td>\n",
       "      <td id=\"T_4531f_row2_col7\" class=\"data row2 col7\" >nan</td>\n",
       "      <td id=\"T_4531f_row2_col8\" class=\"data row2 col8\" >48</td>\n",
       "      <td id=\"T_4531f_row2_col9\" class=\"data row2 col9\" >0.0001000</td>\n",
       "      <td id=\"T_4531f_row2_col10\" class=\"data row2 col10\" >MSELoss()</td>\n",
       "      <td id=\"T_4531f_row2_col11\" class=\"data row2 col11\" >RMSprop</td>\n",
       "      <td id=\"T_4531f_row2_col12\" class=\"data row2 col12\" >0.9000000</td>\n",
       "      <td id=\"T_4531f_row2_col13\" class=\"data row2 col13\" >8</td>\n",
       "      <td id=\"T_4531f_row2_col14\" class=\"data row2 col14\" >1</td>\n",
       "      <td id=\"T_4531f_row2_col15\" class=\"data row2 col15\" >abs</td>\n",
       "      <td id=\"T_4531f_row2_col16\" class=\"data row2 col16\" >0.1000000</td>\n",
       "      <td id=\"T_4531f_row2_col17\" class=\"data row2 col17\" >0.0000001</td>\n",
       "      <td id=\"T_4531f_row2_col18\" class=\"data row2 col18\" >30</td>\n",
       "      <td id=\"T_4531f_row2_col19\" class=\"data row2 col19\" >200</td>\n",
       "    </tr>\n",
       "    <tr>\n",
       "      <th id=\"T_4531f_level0_row3\" class=\"row_heading level0 row3\" >0</th>\n",
       "      <td id=\"T_4531f_row3_col0\" class=\"data row3 col0\" >20240206-154156639</td>\n",
       "      <td id=\"T_4531f_row3_col1\" class=\"data row3 col1\" >0.3429571</td>\n",
       "      <td id=\"T_4531f_row3_col2\" class=\"data row3 col2\" >72.3228450</td>\n",
       "      <td id=\"T_4531f_row3_col3\" class=\"data row3 col3\" >STD+L2</td>\n",
       "      <td id=\"T_4531f_row3_col4\" class=\"data row3 col4\" >[Linear(hidden_size)+ReLU]*depth</td>\n",
       "      <td id=\"T_4531f_row3_col5\" class=\"data row3 col5\" >3</td>\n",
       "      <td id=\"T_4531f_row3_col6\" class=\"data row3 col6\" >256</td>\n",
       "      <td id=\"T_4531f_row3_col7\" class=\"data row3 col7\" >nan</td>\n",
       "      <td id=\"T_4531f_row3_col8\" class=\"data row3 col8\" >48</td>\n",
       "      <td id=\"T_4531f_row3_col9\" class=\"data row3 col9\" >0.0001000</td>\n",
       "      <td id=\"T_4531f_row3_col10\" class=\"data row3 col10\" >MSELoss()</td>\n",
       "      <td id=\"T_4531f_row3_col11\" class=\"data row3 col11\" >RMSprop</td>\n",
       "      <td id=\"T_4531f_row3_col12\" class=\"data row3 col12\" >0.9000000</td>\n",
       "      <td id=\"T_4531f_row3_col13\" class=\"data row3 col13\" >7</td>\n",
       "      <td id=\"T_4531f_row3_col14\" class=\"data row3 col14\" >1</td>\n",
       "      <td id=\"T_4531f_row3_col15\" class=\"data row3 col15\" >abs</td>\n",
       "      <td id=\"T_4531f_row3_col16\" class=\"data row3 col16\" >0.1000000</td>\n",
       "      <td id=\"T_4531f_row3_col17\" class=\"data row3 col17\" >0.0000001</td>\n",
       "      <td id=\"T_4531f_row3_col18\" class=\"data row3 col18\" >30</td>\n",
       "      <td id=\"T_4531f_row3_col19\" class=\"data row3 col19\" >200</td>\n",
       "    </tr>\n",
       "    <tr>\n",
       "      <th id=\"T_4531f_level0_row4\" class=\"row_heading level0 row4\" >10</th>\n",
       "      <td id=\"T_4531f_row4_col0\" class=\"data row4 col0\" >20240206-182123124</td>\n",
       "      <td id=\"T_4531f_row4_col1\" class=\"data row4 col1\" >0.3284024</td>\n",
       "      <td id=\"T_4531f_row4_col2\" class=\"data row4 col2\" >73.9249340</td>\n",
       "      <td id=\"T_4531f_row4_col3\" class=\"data row4 col3\" >STD+L2</td>\n",
       "      <td id=\"T_4531f_row4_col4\" class=\"data row4 col4\" >[Linear(hidden_size)+ReLU]*depth</td>\n",
       "      <td id=\"T_4531f_row4_col5\" class=\"data row4 col5\" >3</td>\n",
       "      <td id=\"T_4531f_row4_col6\" class=\"data row4 col6\" >256</td>\n",
       "      <td id=\"T_4531f_row4_col7\" class=\"data row4 col7\" >nan</td>\n",
       "      <td id=\"T_4531f_row4_col8\" class=\"data row4 col8\" >16</td>\n",
       "      <td id=\"T_4531f_row4_col9\" class=\"data row4 col9\" >0.0001000</td>\n",
       "      <td id=\"T_4531f_row4_col10\" class=\"data row4 col10\" >MSELoss()</td>\n",
       "      <td id=\"T_4531f_row4_col11\" class=\"data row4 col11\" >Adam</td>\n",
       "      <td id=\"T_4531f_row4_col12\" class=\"data row4 col12\" >nan</td>\n",
       "      <td id=\"T_4531f_row4_col13\" class=\"data row4 col13\" >7</td>\n",
       "      <td id=\"T_4531f_row4_col14\" class=\"data row4 col14\" >1</td>\n",
       "      <td id=\"T_4531f_row4_col15\" class=\"data row4 col15\" >abs</td>\n",
       "      <td id=\"T_4531f_row4_col16\" class=\"data row4 col16\" >0.1000000</td>\n",
       "      <td id=\"T_4531f_row4_col17\" class=\"data row4 col17\" >0.0000001</td>\n",
       "      <td id=\"T_4531f_row4_col18\" class=\"data row4 col18\" >10</td>\n",
       "      <td id=\"T_4531f_row4_col19\" class=\"data row4 col19\" >200</td>\n",
       "    </tr>\n",
       "    <tr>\n",
       "      <th id=\"T_4531f_level0_row5\" class=\"row_heading level0 row5\" >11</th>\n",
       "      <td id=\"T_4531f_row5_col0\" class=\"data row5 col0\" >20240206-184024498</td>\n",
       "      <td id=\"T_4531f_row5_col1\" class=\"data row5 col1\" >0.3245813</td>\n",
       "      <td id=\"T_4531f_row5_col2\" class=\"data row5 col2\" >74.3455400</td>\n",
       "      <td id=\"T_4531f_row5_col3\" class=\"data row5 col3\" >STD+L2</td>\n",
       "      <td id=\"T_4531f_row5_col4\" class=\"data row5 col4\" >[Linear(hidden_size)+ReLU]*depth</td>\n",
       "      <td id=\"T_4531f_row5_col5\" class=\"data row5 col5\" >3</td>\n",
       "      <td id=\"T_4531f_row5_col6\" class=\"data row5 col6\" >256</td>\n",
       "      <td id=\"T_4531f_row5_col7\" class=\"data row5 col7\" >nan</td>\n",
       "      <td id=\"T_4531f_row5_col8\" class=\"data row5 col8\" >48</td>\n",
       "      <td id=\"T_4531f_row5_col9\" class=\"data row5 col9\" >0.0001000</td>\n",
       "      <td id=\"T_4531f_row5_col10\" class=\"data row5 col10\" >MSELoss()</td>\n",
       "      <td id=\"T_4531f_row5_col11\" class=\"data row5 col11\" >Adam</td>\n",
       "      <td id=\"T_4531f_row5_col12\" class=\"data row5 col12\" >nan</td>\n",
       "      <td id=\"T_4531f_row5_col13\" class=\"data row5 col13\" >7</td>\n",
       "      <td id=\"T_4531f_row5_col14\" class=\"data row5 col14\" >1</td>\n",
       "      <td id=\"T_4531f_row5_col15\" class=\"data row5 col15\" >abs</td>\n",
       "      <td id=\"T_4531f_row5_col16\" class=\"data row5 col16\" >0.1000000</td>\n",
       "      <td id=\"T_4531f_row5_col17\" class=\"data row5 col17\" >0.0000001</td>\n",
       "      <td id=\"T_4531f_row5_col18\" class=\"data row5 col18\" >10</td>\n",
       "      <td id=\"T_4531f_row5_col19\" class=\"data row5 col19\" >200</td>\n",
       "    </tr>\n",
       "    <tr>\n",
       "      <th id=\"T_4531f_level0_row6\" class=\"row_heading level0 row6\" >22</th>\n",
       "      <td id=\"T_4531f_row6_col0\" class=\"data row6 col0\" >20240206-233127778</td>\n",
       "      <td id=\"T_4531f_row6_col1\" class=\"data row6 col1\" >0.3202058</td>\n",
       "      <td id=\"T_4531f_row6_col2\" class=\"data row6 col2\" >74.8271700</td>\n",
       "      <td id=\"T_4531f_row6_col3\" class=\"data row6 col3\" >STD+L2</td>\n",
       "      <td id=\"T_4531f_row6_col4\" class=\"data row6 col4\" >[Linear(hidden_size)+ReLU]*depth</td>\n",
       "      <td id=\"T_4531f_row6_col5\" class=\"data row6 col5\" >4</td>\n",
       "      <td id=\"T_4531f_row6_col6\" class=\"data row6 col6\" >256</td>\n",
       "      <td id=\"T_4531f_row6_col7\" class=\"data row6 col7\" >nan</td>\n",
       "      <td id=\"T_4531f_row6_col8\" class=\"data row6 col8\" >48</td>\n",
       "      <td id=\"T_4531f_row6_col9\" class=\"data row6 col9\" >0.0001000</td>\n",
       "      <td id=\"T_4531f_row6_col10\" class=\"data row6 col10\" >MSELoss()</td>\n",
       "      <td id=\"T_4531f_row6_col11\" class=\"data row6 col11\" >RMSprop</td>\n",
       "      <td id=\"T_4531f_row6_col12\" class=\"data row6 col12\" >0.9000000</td>\n",
       "      <td id=\"T_4531f_row6_col13\" class=\"data row6 col13\" >6</td>\n",
       "      <td id=\"T_4531f_row6_col14\" class=\"data row6 col14\" >1</td>\n",
       "      <td id=\"T_4531f_row6_col15\" class=\"data row6 col15\" >abs</td>\n",
       "      <td id=\"T_4531f_row6_col16\" class=\"data row6 col16\" >0.1000000</td>\n",
       "      <td id=\"T_4531f_row6_col17\" class=\"data row6 col17\" >0.0000001</td>\n",
       "      <td id=\"T_4531f_row6_col18\" class=\"data row6 col18\" >30</td>\n",
       "      <td id=\"T_4531f_row6_col19\" class=\"data row6 col19\" >200</td>\n",
       "    </tr>\n",
       "    <tr>\n",
       "      <th id=\"T_4531f_level0_row7\" class=\"row_heading level0 row7\" >21</th>\n",
       "      <td id=\"T_4531f_row7_col0\" class=\"data row7 col0\" >20240206-230530583</td>\n",
       "      <td id=\"T_4531f_row7_col1\" class=\"data row7 col1\" >0.3192972</td>\n",
       "      <td id=\"T_4531f_row7_col2\" class=\"data row7 col2\" >74.9271800</td>\n",
       "      <td id=\"T_4531f_row7_col3\" class=\"data row7 col3\" >STD+L2</td>\n",
       "      <td id=\"T_4531f_row7_col4\" class=\"data row7 col4\" >[Linear(hidden_size)+ReLU]*depth</td>\n",
       "      <td id=\"T_4531f_row7_col5\" class=\"data row7 col5\" >2</td>\n",
       "      <td id=\"T_4531f_row7_col6\" class=\"data row7 col6\" >256</td>\n",
       "      <td id=\"T_4531f_row7_col7\" class=\"data row7 col7\" >nan</td>\n",
       "      <td id=\"T_4531f_row7_col8\" class=\"data row7 col8\" >48</td>\n",
       "      <td id=\"T_4531f_row7_col9\" class=\"data row7 col9\" >0.0001000</td>\n",
       "      <td id=\"T_4531f_row7_col10\" class=\"data row7 col10\" >MSELoss()</td>\n",
       "      <td id=\"T_4531f_row7_col11\" class=\"data row7 col11\" >RMSprop</td>\n",
       "      <td id=\"T_4531f_row7_col12\" class=\"data row7 col12\" >0.9000000</td>\n",
       "      <td id=\"T_4531f_row7_col13\" class=\"data row7 col13\" >6</td>\n",
       "      <td id=\"T_4531f_row7_col14\" class=\"data row7 col14\" >1</td>\n",
       "      <td id=\"T_4531f_row7_col15\" class=\"data row7 col15\" >abs</td>\n",
       "      <td id=\"T_4531f_row7_col16\" class=\"data row7 col16\" >0.1000000</td>\n",
       "      <td id=\"T_4531f_row7_col17\" class=\"data row7 col17\" >0.0000001</td>\n",
       "      <td id=\"T_4531f_row7_col18\" class=\"data row7 col18\" >30</td>\n",
       "      <td id=\"T_4531f_row7_col19\" class=\"data row7 col19\" >200</td>\n",
       "    </tr>\n",
       "    <tr>\n",
       "      <th id=\"T_4531f_level0_row8\" class=\"row_heading level0 row8\" >8</th>\n",
       "      <td id=\"T_4531f_row8_col0\" class=\"data row8 col0\" >20240206-175132544</td>\n",
       "      <td id=\"T_4531f_row8_col1\" class=\"data row8 col1\" >0.3047261</td>\n",
       "      <td id=\"T_4531f_row8_col2\" class=\"data row8 col2\" >76.5310700</td>\n",
       "      <td id=\"T_4531f_row8_col3\" class=\"data row8 col3\" >STD+L2</td>\n",
       "      <td id=\"T_4531f_row8_col4\" class=\"data row8 col4\" >[Linear(hidden_size)+ReLU]*depth</td>\n",
       "      <td id=\"T_4531f_row8_col5\" class=\"data row8 col5\" >3</td>\n",
       "      <td id=\"T_4531f_row8_col6\" class=\"data row8 col6\" >90</td>\n",
       "      <td id=\"T_4531f_row8_col7\" class=\"data row8 col7\" >nan</td>\n",
       "      <td id=\"T_4531f_row8_col8\" class=\"data row8 col8\" >16</td>\n",
       "      <td id=\"T_4531f_row8_col9\" class=\"data row8 col9\" >0.0001000</td>\n",
       "      <td id=\"T_4531f_row8_col10\" class=\"data row8 col10\" >MSELoss()</td>\n",
       "      <td id=\"T_4531f_row8_col11\" class=\"data row8 col11\" >Adam</td>\n",
       "      <td id=\"T_4531f_row8_col12\" class=\"data row8 col12\" >nan</td>\n",
       "      <td id=\"T_4531f_row8_col13\" class=\"data row8 col13\" >7</td>\n",
       "      <td id=\"T_4531f_row8_col14\" class=\"data row8 col14\" >1</td>\n",
       "      <td id=\"T_4531f_row8_col15\" class=\"data row8 col15\" >abs</td>\n",
       "      <td id=\"T_4531f_row8_col16\" class=\"data row8 col16\" >0.1000000</td>\n",
       "      <td id=\"T_4531f_row8_col17\" class=\"data row8 col17\" >0.0000001</td>\n",
       "      <td id=\"T_4531f_row8_col18\" class=\"data row8 col18\" >10</td>\n",
       "      <td id=\"T_4531f_row8_col19\" class=\"data row8 col19\" >200</td>\n",
       "    </tr>\n",
       "    <tr>\n",
       "      <th id=\"T_4531f_level0_row9\" class=\"row_heading level0 row9\" >9</th>\n",
       "      <td id=\"T_4531f_row9_col0\" class=\"data row9 col0\" >20240206-180605006</td>\n",
       "      <td id=\"T_4531f_row9_col1\" class=\"data row9 col1\" >0.3007348</td>\n",
       "      <td id=\"T_4531f_row9_col2\" class=\"data row9 col2\" >76.9704000</td>\n",
       "      <td id=\"T_4531f_row9_col3\" class=\"data row9 col3\" >STD+L2</td>\n",
       "      <td id=\"T_4531f_row9_col4\" class=\"data row9 col4\" >[Linear(hidden_size)+ReLU]*depth</td>\n",
       "      <td id=\"T_4531f_row9_col5\" class=\"data row9 col5\" >2</td>\n",
       "      <td id=\"T_4531f_row9_col6\" class=\"data row9 col6\" >256</td>\n",
       "      <td id=\"T_4531f_row9_col7\" class=\"data row9 col7\" >nan</td>\n",
       "      <td id=\"T_4531f_row9_col8\" class=\"data row9 col8\" >16</td>\n",
       "      <td id=\"T_4531f_row9_col9\" class=\"data row9 col9\" >0.0001000</td>\n",
       "      <td id=\"T_4531f_row9_col10\" class=\"data row9 col10\" >MSELoss()</td>\n",
       "      <td id=\"T_4531f_row9_col11\" class=\"data row9 col11\" >Adam</td>\n",
       "      <td id=\"T_4531f_row9_col12\" class=\"data row9 col12\" >nan</td>\n",
       "      <td id=\"T_4531f_row9_col13\" class=\"data row9 col13\" >7</td>\n",
       "      <td id=\"T_4531f_row9_col14\" class=\"data row9 col14\" >1</td>\n",
       "      <td id=\"T_4531f_row9_col15\" class=\"data row9 col15\" >abs</td>\n",
       "      <td id=\"T_4531f_row9_col16\" class=\"data row9 col16\" >0.1000000</td>\n",
       "      <td id=\"T_4531f_row9_col17\" class=\"data row9 col17\" >0.0000001</td>\n",
       "      <td id=\"T_4531f_row9_col18\" class=\"data row9 col18\" >10</td>\n",
       "      <td id=\"T_4531f_row9_col19\" class=\"data row9 col19\" >200</td>\n",
       "    </tr>\n",
       "    <tr>\n",
       "      <th id=\"T_4531f_level0_row10\" class=\"row_heading level0 row10\" >13</th>\n",
       "      <td id=\"T_4531f_row10_col0\" class=\"data row10 col0\" >20240206-191153285</td>\n",
       "      <td id=\"T_4531f_row10_col1\" class=\"data row10 col1\" >0.3003055</td>\n",
       "      <td id=\"T_4531f_row10_col2\" class=\"data row10 col2\" >77.0176500</td>\n",
       "      <td id=\"T_4531f_row10_col3\" class=\"data row10 col3\" >STD+L2</td>\n",
       "      <td id=\"T_4531f_row10_col4\" class=\"data row10 col4\" >[Linear(hidden_size)+ReLU]*depth</td>\n",
       "      <td id=\"T_4531f_row10_col5\" class=\"data row10 col5\" >1</td>\n",
       "      <td id=\"T_4531f_row10_col6\" class=\"data row10 col6\" >256</td>\n",
       "      <td id=\"T_4531f_row10_col7\" class=\"data row10 col7\" >nan</td>\n",
       "      <td id=\"T_4531f_row10_col8\" class=\"data row10 col8\" >16</td>\n",
       "      <td id=\"T_4531f_row10_col9\" class=\"data row10 col9\" >0.0001000</td>\n",
       "      <td id=\"T_4531f_row10_col10\" class=\"data row10 col10\" >MSELoss()</td>\n",
       "      <td id=\"T_4531f_row10_col11\" class=\"data row10 col11\" >RMSprop</td>\n",
       "      <td id=\"T_4531f_row10_col12\" class=\"data row10 col12\" >0.9000000</td>\n",
       "      <td id=\"T_4531f_row10_col13\" class=\"data row10 col13\" >7</td>\n",
       "      <td id=\"T_4531f_row10_col14\" class=\"data row10 col14\" >1</td>\n",
       "      <td id=\"T_4531f_row10_col15\" class=\"data row10 col15\" >abs</td>\n",
       "      <td id=\"T_4531f_row10_col16\" class=\"data row10 col16\" >0.1000000</td>\n",
       "      <td id=\"T_4531f_row10_col17\" class=\"data row10 col17\" >0.0000001</td>\n",
       "      <td id=\"T_4531f_row10_col18\" class=\"data row10 col18\" >10</td>\n",
       "      <td id=\"T_4531f_row10_col19\" class=\"data row10 col19\" >200</td>\n",
       "    </tr>\n",
       "    <tr>\n",
       "      <th id=\"T_4531f_level0_row11\" class=\"row_heading level0 row11\" >20</th>\n",
       "      <td id=\"T_4531f_row11_col0\" class=\"data row11 col0\" >20240206-224016114</td>\n",
       "      <td id=\"T_4531f_row11_col1\" class=\"data row11 col1\" >0.2960523</td>\n",
       "      <td id=\"T_4531f_row11_col2\" class=\"data row11 col2\" >77.4858250</td>\n",
       "      <td id=\"T_4531f_row11_col3\" class=\"data row11 col3\" >STD+L2</td>\n",
       "      <td id=\"T_4531f_row11_col4\" class=\"data row11 col4\" >[Linear(hidden_size)+ReLU+Dropout(dropout_rate)]*depth</td>\n",
       "      <td id=\"T_4531f_row11_col5\" class=\"data row11 col5\" >3</td>\n",
       "      <td id=\"T_4531f_row11_col6\" class=\"data row11 col6\" >256</td>\n",
       "      <td id=\"T_4531f_row11_col7\" class=\"data row11 col7\" >0.1000000</td>\n",
       "      <td id=\"T_4531f_row11_col8\" class=\"data row11 col8\" >16</td>\n",
       "      <td id=\"T_4531f_row11_col9\" class=\"data row11 col9\" >0.0001000</td>\n",
       "      <td id=\"T_4531f_row11_col10\" class=\"data row11 col10\" >MSELoss()</td>\n",
       "      <td id=\"T_4531f_row11_col11\" class=\"data row11 col11\" >RMSprop</td>\n",
       "      <td id=\"T_4531f_row11_col12\" class=\"data row11 col12\" >0.9000000</td>\n",
       "      <td id=\"T_4531f_row11_col13\" class=\"data row11 col13\" >15</td>\n",
       "      <td id=\"T_4531f_row11_col14\" class=\"data row11 col14\" >1</td>\n",
       "      <td id=\"T_4531f_row11_col15\" class=\"data row11 col15\" >abs</td>\n",
       "      <td id=\"T_4531f_row11_col16\" class=\"data row11 col16\" >0.1000000</td>\n",
       "      <td id=\"T_4531f_row11_col17\" class=\"data row11 col17\" >0.0000001</td>\n",
       "      <td id=\"T_4531f_row11_col18\" class=\"data row11 col18\" >30</td>\n",
       "      <td id=\"T_4531f_row11_col19\" class=\"data row11 col19\" >200</td>\n",
       "    </tr>\n",
       "    <tr>\n",
       "      <th id=\"T_4531f_level0_row12\" class=\"row_heading level0 row12\" >7</th>\n",
       "      <td id=\"T_4531f_row12_col0\" class=\"data row12 col0\" >20240206-174105465</td>\n",
       "      <td id=\"T_4531f_row12_col1\" class=\"data row12 col1\" >0.2921461</td>\n",
       "      <td id=\"T_4531f_row12_col2\" class=\"data row12 col2\" >77.9157800</td>\n",
       "      <td id=\"T_4531f_row12_col3\" class=\"data row12 col3\" >STD+L2</td>\n",
       "      <td id=\"T_4531f_row12_col4\" class=\"data row12 col4\" >[Linear(hidden_size)+ReLU]*depth</td>\n",
       "      <td id=\"T_4531f_row12_col5\" class=\"data row12 col5\" >2</td>\n",
       "      <td id=\"T_4531f_row12_col6\" class=\"data row12 col6\" >90</td>\n",
       "      <td id=\"T_4531f_row12_col7\" class=\"data row12 col7\" >nan</td>\n",
       "      <td id=\"T_4531f_row12_col8\" class=\"data row12 col8\" >16</td>\n",
       "      <td id=\"T_4531f_row12_col9\" class=\"data row12 col9\" >0.0001000</td>\n",
       "      <td id=\"T_4531f_row12_col10\" class=\"data row12 col10\" >MSELoss()</td>\n",
       "      <td id=\"T_4531f_row12_col11\" class=\"data row12 col11\" >Adam</td>\n",
       "      <td id=\"T_4531f_row12_col12\" class=\"data row12 col12\" >nan</td>\n",
       "      <td id=\"T_4531f_row12_col13\" class=\"data row12 col13\" >7</td>\n",
       "      <td id=\"T_4531f_row12_col14\" class=\"data row12 col14\" >1</td>\n",
       "      <td id=\"T_4531f_row12_col15\" class=\"data row12 col15\" >abs</td>\n",
       "      <td id=\"T_4531f_row12_col16\" class=\"data row12 col16\" >0.1000000</td>\n",
       "      <td id=\"T_4531f_row12_col17\" class=\"data row12 col17\" >0.0000001</td>\n",
       "      <td id=\"T_4531f_row12_col18\" class=\"data row12 col18\" >10</td>\n",
       "      <td id=\"T_4531f_row12_col19\" class=\"data row12 col19\" >200</td>\n",
       "    </tr>\n",
       "    <tr>\n",
       "      <th id=\"T_4531f_level0_row13\" class=\"row_heading level0 row13\" >5</th>\n",
       "      <td id=\"T_4531f_row13_col0\" class=\"data row13 col0\" >20240206-170331118</td>\n",
       "      <td id=\"T_4531f_row13_col1\" class=\"data row13 col1\" >0.2914964</td>\n",
       "      <td id=\"T_4531f_row13_col2\" class=\"data row13 col2\" >77.9873050</td>\n",
       "      <td id=\"T_4531f_row13_col3\" class=\"data row13 col3\" >STD+L2</td>\n",
       "      <td id=\"T_4531f_row13_col4\" class=\"data row13 col4\" >[Linear(hidden_size)+ReLU]*depth</td>\n",
       "      <td id=\"T_4531f_row13_col5\" class=\"data row13 col5\" >1</td>\n",
       "      <td id=\"T_4531f_row13_col6\" class=\"data row13 col6\" >90</td>\n",
       "      <td id=\"T_4531f_row13_col7\" class=\"data row13 col7\" >nan</td>\n",
       "      <td id=\"T_4531f_row13_col8\" class=\"data row13 col8\" >8</td>\n",
       "      <td id=\"T_4531f_row13_col9\" class=\"data row13 col9\" >0.0001000</td>\n",
       "      <td id=\"T_4531f_row13_col10\" class=\"data row13 col10\" >MSELoss()</td>\n",
       "      <td id=\"T_4531f_row13_col11\" class=\"data row13 col11\" >Adam</td>\n",
       "      <td id=\"T_4531f_row13_col12\" class=\"data row13 col12\" >nan</td>\n",
       "      <td id=\"T_4531f_row13_col13\" class=\"data row13 col13\" >7</td>\n",
       "      <td id=\"T_4531f_row13_col14\" class=\"data row13 col14\" >1</td>\n",
       "      <td id=\"T_4531f_row13_col15\" class=\"data row13 col15\" >abs</td>\n",
       "      <td id=\"T_4531f_row13_col16\" class=\"data row13 col16\" >0.1000000</td>\n",
       "      <td id=\"T_4531f_row13_col17\" class=\"data row13 col17\" >0.0000001</td>\n",
       "      <td id=\"T_4531f_row13_col18\" class=\"data row13 col18\" >10</td>\n",
       "      <td id=\"T_4531f_row13_col19\" class=\"data row13 col19\" >200</td>\n",
       "    </tr>\n",
       "    <tr>\n",
       "      <th id=\"T_4531f_level0_row14\" class=\"row_heading level0 row14\" >12</th>\n",
       "      <td id=\"T_4531f_row14_col0\" class=\"data row14 col0\" >20240206-185852192</td>\n",
       "      <td id=\"T_4531f_row14_col1\" class=\"data row14 col1\" >0.2912983</td>\n",
       "      <td id=\"T_4531f_row14_col2\" class=\"data row14 col2\" >78.0091100</td>\n",
       "      <td id=\"T_4531f_row14_col3\" class=\"data row14 col3\" >STD+L2</td>\n",
       "      <td id=\"T_4531f_row14_col4\" class=\"data row14 col4\" >[Linear(hidden_size)+ReLU]*depth</td>\n",
       "      <td id=\"T_4531f_row14_col5\" class=\"data row14 col5\" >1</td>\n",
       "      <td id=\"T_4531f_row14_col6\" class=\"data row14 col6\" >256</td>\n",
       "      <td id=\"T_4531f_row14_col7\" class=\"data row14 col7\" >nan</td>\n",
       "      <td id=\"T_4531f_row14_col8\" class=\"data row14 col8\" >16</td>\n",
       "      <td id=\"T_4531f_row14_col9\" class=\"data row14 col9\" >0.0001000</td>\n",
       "      <td id=\"T_4531f_row14_col10\" class=\"data row14 col10\" >MSELoss()</td>\n",
       "      <td id=\"T_4531f_row14_col11\" class=\"data row14 col11\" >Adam</td>\n",
       "      <td id=\"T_4531f_row14_col12\" class=\"data row14 col12\" >nan</td>\n",
       "      <td id=\"T_4531f_row14_col13\" class=\"data row14 col13\" >7</td>\n",
       "      <td id=\"T_4531f_row14_col14\" class=\"data row14 col14\" >1</td>\n",
       "      <td id=\"T_4531f_row14_col15\" class=\"data row14 col15\" >abs</td>\n",
       "      <td id=\"T_4531f_row14_col16\" class=\"data row14 col16\" >0.1000000</td>\n",
       "      <td id=\"T_4531f_row14_col17\" class=\"data row14 col17\" >0.0000001</td>\n",
       "      <td id=\"T_4531f_row14_col18\" class=\"data row14 col18\" >10</td>\n",
       "      <td id=\"T_4531f_row14_col19\" class=\"data row14 col19\" >200</td>\n",
       "    </tr>\n",
       "    <tr>\n",
       "      <th id=\"T_4531f_level0_row15\" class=\"row_heading level0 row15\" >16</th>\n",
       "      <td id=\"T_4531f_row15_col0\" class=\"data row15 col0\" >20240206-203816175</td>\n",
       "      <td id=\"T_4531f_row15_col1\" class=\"data row15 col1\" >0.2910849</td>\n",
       "      <td id=\"T_4531f_row15_col2\" class=\"data row15 col2\" >78.0325850</td>\n",
       "      <td id=\"T_4531f_row15_col3\" class=\"data row15 col3\" >STD+L2</td>\n",
       "      <td id=\"T_4531f_row15_col4\" class=\"data row15 col4\" >[Linear(hidden_size)+ReLU]*depth</td>\n",
       "      <td id=\"T_4531f_row15_col5\" class=\"data row15 col5\" >1</td>\n",
       "      <td id=\"T_4531f_row15_col6\" class=\"data row15 col6\" >48</td>\n",
       "      <td id=\"T_4531f_row15_col7\" class=\"data row15 col7\" >nan</td>\n",
       "      <td id=\"T_4531f_row15_col8\" class=\"data row15 col8\" >16</td>\n",
       "      <td id=\"T_4531f_row15_col9\" class=\"data row15 col9\" >0.0001000</td>\n",
       "      <td id=\"T_4531f_row15_col10\" class=\"data row15 col10\" >MSELoss()</td>\n",
       "      <td id=\"T_4531f_row15_col11\" class=\"data row15 col11\" >RMSprop</td>\n",
       "      <td id=\"T_4531f_row15_col12\" class=\"data row15 col12\" >0.9000000</td>\n",
       "      <td id=\"T_4531f_row15_col13\" class=\"data row15 col13\" >8</td>\n",
       "      <td id=\"T_4531f_row15_col14\" class=\"data row15 col14\" >1</td>\n",
       "      <td id=\"T_4531f_row15_col15\" class=\"data row15 col15\" >abs</td>\n",
       "      <td id=\"T_4531f_row15_col16\" class=\"data row15 col16\" >0.1000000</td>\n",
       "      <td id=\"T_4531f_row15_col17\" class=\"data row15 col17\" >0.0000001</td>\n",
       "      <td id=\"T_4531f_row15_col18\" class=\"data row15 col18\" >30</td>\n",
       "      <td id=\"T_4531f_row15_col19\" class=\"data row15 col19\" >200</td>\n",
       "    </tr>\n",
       "    <tr>\n",
       "      <th id=\"T_4531f_level0_row16\" class=\"row_heading level0 row16\" >4</th>\n",
       "      <td id=\"T_4531f_row16_col0\" class=\"data row16 col0\" >20240206-164553430</td>\n",
       "      <td id=\"T_4531f_row16_col1\" class=\"data row16 col1\" >0.2910789</td>\n",
       "      <td id=\"T_4531f_row16_col2\" class=\"data row16 col2\" >78.0332640</td>\n",
       "      <td id=\"T_4531f_row16_col3\" class=\"data row16 col3\" >STD+L2</td>\n",
       "      <td id=\"T_4531f_row16_col4\" class=\"data row16 col4\" >[Linear(hidden_size)+ReLU]*depth</td>\n",
       "      <td id=\"T_4531f_row16_col5\" class=\"data row16 col5\" >1</td>\n",
       "      <td id=\"T_4531f_row16_col6\" class=\"data row16 col6\" >90</td>\n",
       "      <td id=\"T_4531f_row16_col7\" class=\"data row16 col7\" >nan</td>\n",
       "      <td id=\"T_4531f_row16_col8\" class=\"data row16 col8\" >16</td>\n",
       "      <td id=\"T_4531f_row16_col9\" class=\"data row16 col9\" >0.0001000</td>\n",
       "      <td id=\"T_4531f_row16_col10\" class=\"data row16 col10\" >MSELoss()</td>\n",
       "      <td id=\"T_4531f_row16_col11\" class=\"data row16 col11\" >Adam</td>\n",
       "      <td id=\"T_4531f_row16_col12\" class=\"data row16 col12\" >nan</td>\n",
       "      <td id=\"T_4531f_row16_col13\" class=\"data row16 col13\" >7</td>\n",
       "      <td id=\"T_4531f_row16_col14\" class=\"data row16 col14\" >1</td>\n",
       "      <td id=\"T_4531f_row16_col15\" class=\"data row16 col15\" >abs</td>\n",
       "      <td id=\"T_4531f_row16_col16\" class=\"data row16 col16\" >0.1000000</td>\n",
       "      <td id=\"T_4531f_row16_col17\" class=\"data row16 col17\" >0.0000001</td>\n",
       "      <td id=\"T_4531f_row16_col18\" class=\"data row16 col18\" >10</td>\n",
       "      <td id=\"T_4531f_row16_col19\" class=\"data row16 col19\" >200</td>\n",
       "    </tr>\n",
       "    <tr>\n",
       "      <th id=\"T_4531f_level0_row17\" class=\"row_heading level0 row17\" >15</th>\n",
       "      <td id=\"T_4531f_row17_col0\" class=\"data row17 col0\" >20240206-202543398</td>\n",
       "      <td id=\"T_4531f_row17_col1\" class=\"data row17 col1\" >0.2908917</td>\n",
       "      <td id=\"T_4531f_row17_col2\" class=\"data row17 col2\" >78.0538600</td>\n",
       "      <td id=\"T_4531f_row17_col3\" class=\"data row17 col3\" >STD+L2</td>\n",
       "      <td id=\"T_4531f_row17_col4\" class=\"data row17 col4\" >[Linear(hidden_size)+ReLU]*depth</td>\n",
       "      <td id=\"T_4531f_row17_col5\" class=\"data row17 col5\" >1</td>\n",
       "      <td id=\"T_4531f_row17_col6\" class=\"data row17 col6\" >48</td>\n",
       "      <td id=\"T_4531f_row17_col7\" class=\"data row17 col7\" >nan</td>\n",
       "      <td id=\"T_4531f_row17_col8\" class=\"data row17 col8\" >16</td>\n",
       "      <td id=\"T_4531f_row17_col9\" class=\"data row17 col9\" >0.0001000</td>\n",
       "      <td id=\"T_4531f_row17_col10\" class=\"data row17 col10\" >MSELoss()</td>\n",
       "      <td id=\"T_4531f_row17_col11\" class=\"data row17 col11\" >RMSprop</td>\n",
       "      <td id=\"T_4531f_row17_col12\" class=\"data row17 col12\" >0.9000000</td>\n",
       "      <td id=\"T_4531f_row17_col13\" class=\"data row17 col13\" >6</td>\n",
       "      <td id=\"T_4531f_row17_col14\" class=\"data row17 col14\" >1</td>\n",
       "      <td id=\"T_4531f_row17_col15\" class=\"data row17 col15\" >abs</td>\n",
       "      <td id=\"T_4531f_row17_col16\" class=\"data row17 col16\" >0.1000000</td>\n",
       "      <td id=\"T_4531f_row17_col17\" class=\"data row17 col17\" >0.0000001</td>\n",
       "      <td id=\"T_4531f_row17_col18\" class=\"data row17 col18\" >30</td>\n",
       "      <td id=\"T_4531f_row17_col19\" class=\"data row17 col19\" >200</td>\n",
       "    </tr>\n",
       "    <tr>\n",
       "      <th id=\"T_4531f_level0_row18\" class=\"row_heading level0 row18\" >3</th>\n",
       "      <td id=\"T_4531f_row18_col0\" class=\"data row18 col0\" >20240206-163728417</td>\n",
       "      <td id=\"T_4531f_row18_col1\" class=\"data row18 col1\" >0.2902611</td>\n",
       "      <td id=\"T_4531f_row18_col2\" class=\"data row18 col2\" >78.1232700</td>\n",
       "      <td id=\"T_4531f_row18_col3\" class=\"data row18 col3\" >STD+L2</td>\n",
       "      <td id=\"T_4531f_row18_col4\" class=\"data row18 col4\" >[Linear(hidden_size)+ReLU]*depth</td>\n",
       "      <td id=\"T_4531f_row18_col5\" class=\"data row18 col5\" >1</td>\n",
       "      <td id=\"T_4531f_row18_col6\" class=\"data row18 col6\" >90</td>\n",
       "      <td id=\"T_4531f_row18_col7\" class=\"data row18 col7\" >nan</td>\n",
       "      <td id=\"T_4531f_row18_col8\" class=\"data row18 col8\" >32</td>\n",
       "      <td id=\"T_4531f_row18_col9\" class=\"data row18 col9\" >0.0001000</td>\n",
       "      <td id=\"T_4531f_row18_col10\" class=\"data row18 col10\" >MSELoss()</td>\n",
       "      <td id=\"T_4531f_row18_col11\" class=\"data row18 col11\" >Adam</td>\n",
       "      <td id=\"T_4531f_row18_col12\" class=\"data row18 col12\" >nan</td>\n",
       "      <td id=\"T_4531f_row18_col13\" class=\"data row18 col13\" >7</td>\n",
       "      <td id=\"T_4531f_row18_col14\" class=\"data row18 col14\" >1</td>\n",
       "      <td id=\"T_4531f_row18_col15\" class=\"data row18 col15\" >abs</td>\n",
       "      <td id=\"T_4531f_row18_col16\" class=\"data row18 col16\" >0.1000000</td>\n",
       "      <td id=\"T_4531f_row18_col17\" class=\"data row18 col17\" >0.0000001</td>\n",
       "      <td id=\"T_4531f_row18_col18\" class=\"data row18 col18\" >10</td>\n",
       "      <td id=\"T_4531f_row18_col19\" class=\"data row18 col19\" >200</td>\n",
       "    </tr>\n",
       "    <tr>\n",
       "      <th id=\"T_4531f_level0_row19\" class=\"row_heading level0 row19\" >2</th>\n",
       "      <td id=\"T_4531f_row19_col0\" class=\"data row19 col0\" >20240206-162649612</td>\n",
       "      <td id=\"T_4531f_row19_col1\" class=\"data row19 col1\" >0.2888384</td>\n",
       "      <td id=\"T_4531f_row19_col2\" class=\"data row19 col2\" >78.2798800</td>\n",
       "      <td id=\"T_4531f_row19_col3\" class=\"data row19 col3\" >STD+L2</td>\n",
       "      <td id=\"T_4531f_row19_col4\" class=\"data row19 col4\" >[Linear(hidden_size)+ReLU]*depth</td>\n",
       "      <td id=\"T_4531f_row19_col5\" class=\"data row19 col5\" >1</td>\n",
       "      <td id=\"T_4531f_row19_col6\" class=\"data row19 col6\" >90</td>\n",
       "      <td id=\"T_4531f_row19_col7\" class=\"data row19 col7\" >nan</td>\n",
       "      <td id=\"T_4531f_row19_col8\" class=\"data row19 col8\" >64</td>\n",
       "      <td id=\"T_4531f_row19_col9\" class=\"data row19 col9\" >0.0001000</td>\n",
       "      <td id=\"T_4531f_row19_col10\" class=\"data row19 col10\" >MSELoss()</td>\n",
       "      <td id=\"T_4531f_row19_col11\" class=\"data row19 col11\" >Adam</td>\n",
       "      <td id=\"T_4531f_row19_col12\" class=\"data row19 col12\" >nan</td>\n",
       "      <td id=\"T_4531f_row19_col13\" class=\"data row19 col13\" >7</td>\n",
       "      <td id=\"T_4531f_row19_col14\" class=\"data row19 col14\" >1</td>\n",
       "      <td id=\"T_4531f_row19_col15\" class=\"data row19 col15\" >abs</td>\n",
       "      <td id=\"T_4531f_row19_col16\" class=\"data row19 col16\" >0.1000000</td>\n",
       "      <td id=\"T_4531f_row19_col17\" class=\"data row19 col17\" >0.0000001</td>\n",
       "      <td id=\"T_4531f_row19_col18\" class=\"data row19 col18\" >10</td>\n",
       "      <td id=\"T_4531f_row19_col19\" class=\"data row19 col19\" >200</td>\n",
       "    </tr>\n",
       "    <tr>\n",
       "      <th id=\"T_4531f_level0_row20\" class=\"row_heading level0 row20\" >6</th>\n",
       "      <td id=\"T_4531f_row20_col0\" class=\"data row20 col0\" >20240206-171616815</td>\n",
       "      <td id=\"T_4531f_row20_col1\" class=\"data row20 col1\" >0.2887554</td>\n",
       "      <td id=\"T_4531f_row20_col2\" class=\"data row20 col2\" >78.2890100</td>\n",
       "      <td id=\"T_4531f_row20_col3\" class=\"data row20 col3\" >STD+L2</td>\n",
       "      <td id=\"T_4531f_row20_col4\" class=\"data row20 col4\" >[Linear(hidden_size)+BatchNorm1d+ReLU]*depth</td>\n",
       "      <td id=\"T_4531f_row20_col5\" class=\"data row20 col5\" >1</td>\n",
       "      <td id=\"T_4531f_row20_col6\" class=\"data row20 col6\" >90</td>\n",
       "      <td id=\"T_4531f_row20_col7\" class=\"data row20 col7\" >nan</td>\n",
       "      <td id=\"T_4531f_row20_col8\" class=\"data row20 col8\" >16</td>\n",
       "      <td id=\"T_4531f_row20_col9\" class=\"data row20 col9\" >0.0001000</td>\n",
       "      <td id=\"T_4531f_row20_col10\" class=\"data row20 col10\" >MSELoss()</td>\n",
       "      <td id=\"T_4531f_row20_col11\" class=\"data row20 col11\" >Adam</td>\n",
       "      <td id=\"T_4531f_row20_col12\" class=\"data row20 col12\" >nan</td>\n",
       "      <td id=\"T_4531f_row20_col13\" class=\"data row20 col13\" >7</td>\n",
       "      <td id=\"T_4531f_row20_col14\" class=\"data row20 col14\" >1</td>\n",
       "      <td id=\"T_4531f_row20_col15\" class=\"data row20 col15\" >abs</td>\n",
       "      <td id=\"T_4531f_row20_col16\" class=\"data row20 col16\" >0.1000000</td>\n",
       "      <td id=\"T_4531f_row20_col17\" class=\"data row20 col17\" >0.0000001</td>\n",
       "      <td id=\"T_4531f_row20_col18\" class=\"data row20 col18\" >10</td>\n",
       "      <td id=\"T_4531f_row20_col19\" class=\"data row20 col19\" >200</td>\n",
       "    </tr>\n",
       "    <tr>\n",
       "      <th id=\"T_4531f_level0_row21\" class=\"row_heading level0 row21\" >1</th>\n",
       "      <td id=\"T_4531f_row21_col0\" class=\"data row21 col0\" >20240206-160859573</td>\n",
       "      <td id=\"T_4531f_row21_col1\" class=\"data row21 col1\" >0.2868538</td>\n",
       "      <td id=\"T_4531f_row21_col2\" class=\"data row21 col2\" >78.4983400</td>\n",
       "      <td id=\"T_4531f_row21_col3\" class=\"data row21 col3\" >STD+L2</td>\n",
       "      <td id=\"T_4531f_row21_col4\" class=\"data row21 col4\" >[Linear(hidden_size)+ReLU]*depth</td>\n",
       "      <td id=\"T_4531f_row21_col5\" class=\"data row21 col5\" >1</td>\n",
       "      <td id=\"T_4531f_row21_col6\" class=\"data row21 col6\" >90</td>\n",
       "      <td id=\"T_4531f_row21_col7\" class=\"data row21 col7\" >nan</td>\n",
       "      <td id=\"T_4531f_row21_col8\" class=\"data row21 col8\" >128</td>\n",
       "      <td id=\"T_4531f_row21_col9\" class=\"data row21 col9\" >0.0001000</td>\n",
       "      <td id=\"T_4531f_row21_col10\" class=\"data row21 col10\" >MSELoss()</td>\n",
       "      <td id=\"T_4531f_row21_col11\" class=\"data row21 col11\" >Adam</td>\n",
       "      <td id=\"T_4531f_row21_col12\" class=\"data row21 col12\" >nan</td>\n",
       "      <td id=\"T_4531f_row21_col13\" class=\"data row21 col13\" >7</td>\n",
       "      <td id=\"T_4531f_row21_col14\" class=\"data row21 col14\" >1</td>\n",
       "      <td id=\"T_4531f_row21_col15\" class=\"data row21 col15\" >abs</td>\n",
       "      <td id=\"T_4531f_row21_col16\" class=\"data row21 col16\" >0.1000000</td>\n",
       "      <td id=\"T_4531f_row21_col17\" class=\"data row21 col17\" >0.0000001</td>\n",
       "      <td id=\"T_4531f_row21_col18\" class=\"data row21 col18\" >30</td>\n",
       "      <td id=\"T_4531f_row21_col19\" class=\"data row21 col19\" >200</td>\n",
       "    </tr>\n",
       "    <tr>\n",
       "      <th id=\"T_4531f_level0_row22\" class=\"row_heading level0 row22\" >14</th>\n",
       "      <td id=\"T_4531f_row22_col0\" class=\"data row22 col0\" >20240206-195219218</td>\n",
       "      <td id=\"T_4531f_row22_col1\" class=\"data row22 col1\" >0.2813763</td>\n",
       "      <td id=\"T_4531f_row22_col2\" class=\"data row22 col2\" >79.1012600</td>\n",
       "      <td id=\"T_4531f_row22_col3\" class=\"data row22 col3\" >STD+L2</td>\n",
       "      <td id=\"T_4531f_row22_col4\" class=\"data row22 col4\" >[Linear(hidden_size)+ReLU]*depth</td>\n",
       "      <td id=\"T_4531f_row22_col5\" class=\"data row22 col5\" >1</td>\n",
       "      <td id=\"T_4531f_row22_col6\" class=\"data row22 col6\" >256</td>\n",
       "      <td id=\"T_4531f_row22_col7\" class=\"data row22 col7\" >nan</td>\n",
       "      <td id=\"T_4531f_row22_col8\" class=\"data row22 col8\" >16</td>\n",
       "      <td id=\"T_4531f_row22_col9\" class=\"data row22 col9\" >0.0001000</td>\n",
       "      <td id=\"T_4531f_row22_col10\" class=\"data row22 col10\" >MSELoss()</td>\n",
       "      <td id=\"T_4531f_row22_col11\" class=\"data row22 col11\" >RMSprop</td>\n",
       "      <td id=\"T_4531f_row22_col12\" class=\"data row22 col12\" >0.9000000</td>\n",
       "      <td id=\"T_4531f_row22_col13\" class=\"data row22 col13\" >200</td>\n",
       "      <td id=\"T_4531f_row22_col14\" class=\"data row22 col14\" >1</td>\n",
       "      <td id=\"T_4531f_row22_col15\" class=\"data row22 col15\" >abs</td>\n",
       "      <td id=\"T_4531f_row22_col16\" class=\"data row22 col16\" >0.1000000</td>\n",
       "      <td id=\"T_4531f_row22_col17\" class=\"data row22 col17\" >0.0000001</td>\n",
       "      <td id=\"T_4531f_row22_col18\" class=\"data row22 col18\" >35</td>\n",
       "      <td id=\"T_4531f_row22_col19\" class=\"data row22 col19\" >200</td>\n",
       "    </tr>\n",
       "    <tr>\n",
       "      <th id=\"T_4531f_level0_row23\" class=\"row_heading level0 row23\" >23</th>\n",
       "      <td id=\"T_4531f_row23_col0\" class=\"data row23 col0\" >20240206-234420195</td>\n",
       "      <td id=\"T_4531f_row23_col1\" class=\"data row23 col1\" >-0.0088767</td>\n",
       "      <td id=\"T_4531f_row23_col2\" class=\"data row23 col2\" >111.0503600</td>\n",
       "      <td id=\"T_4531f_row23_col3\" class=\"data row23 col3\" >STD+L2</td>\n",
       "      <td id=\"T_4531f_row23_col4\" class=\"data row23 col4\" >[Linear(hidden_size)+ReLU+Dropout(dropout_rate)]*depth</td>\n",
       "      <td id=\"T_4531f_row23_col5\" class=\"data row23 col5\" >3</td>\n",
       "      <td id=\"T_4531f_row23_col6\" class=\"data row23 col6\" >256</td>\n",
       "      <td id=\"T_4531f_row23_col7\" class=\"data row23 col7\" >0.1000000</td>\n",
       "      <td id=\"T_4531f_row23_col8\" class=\"data row23 col8\" >16</td>\n",
       "      <td id=\"T_4531f_row23_col9\" class=\"data row23 col9\" >0.0010000</td>\n",
       "      <td id=\"T_4531f_row23_col10\" class=\"data row23 col10\" >MSELoss()</td>\n",
       "      <td id=\"T_4531f_row23_col11\" class=\"data row23 col11\" >RMSprop</td>\n",
       "      <td id=\"T_4531f_row23_col12\" class=\"data row23 col12\" >0.9000000</td>\n",
       "      <td id=\"T_4531f_row23_col13\" class=\"data row23 col13\" >15</td>\n",
       "      <td id=\"T_4531f_row23_col14\" class=\"data row23 col14\" >1</td>\n",
       "      <td id=\"T_4531f_row23_col15\" class=\"data row23 col15\" >abs</td>\n",
       "      <td id=\"T_4531f_row23_col16\" class=\"data row23 col16\" >0.1000000</td>\n",
       "      <td id=\"T_4531f_row23_col17\" class=\"data row23 col17\" >0.0000001</td>\n",
       "      <td id=\"T_4531f_row23_col18\" class=\"data row23 col18\" >30</td>\n",
       "      <td id=\"T_4531f_row23_col19\" class=\"data row23 col19\" >200</td>\n",
       "    </tr>\n",
       "  </tbody>\n",
       "</table>\n"
      ],
      "text/plain": [
       "<pandas.io.formats.style.Styler at 0x19e7e92f610>"
      ]
     },
     "execution_count": 26,
     "metadata": {},
     "output_type": "execute_result"
    }
   ],
   "source": [
    "pd.read_csv(\"2_output.csv\").sort_values(by=\"R^2\", ascending=False).style.format(precision=7)"
   ]
  },
  {
   "cell_type": "code",
   "execution_count": null,
   "metadata": {},
   "outputs": [
    {
     "name": "stdout",
     "output_type": "stream",
     "text": [
      "MSE: 74.82717\n",
      "R2: 0.32020577903910585\n"
     ]
    }
   ],
   "source": [
    "y_true, y_pred = test_model(best_model, test_loader, device)\n",
    "\n",
    "mse = mean_squared_error(y_true.cpu().detach().numpy(), y_pred.cpu().detach().numpy())\n",
    "r2 = r2_score(y_true.cpu().detach().numpy(), y_pred.cpu().detach().numpy())\n",
    "\n",
    "print(\"MSE:\", mse)\n",
    "print(\"R2:\", r2)"
   ]
  },
  {
   "cell_type": "code",
   "execution_count": null,
   "metadata": {},
   "outputs": [],
   "source": [
    "# df = pd.read_csv(\"2_output.csv\")\n",
    "\n",
    "# df.insert(len(df.columns) - 2, \"scheduler_min_lr\", 0)\n",
    "\n",
    "# df.to_csv(\"2_output.csv\", index=False)"
   ]
  },
  {
   "cell_type": "code",
   "execution_count": null,
   "metadata": {},
   "outputs": [
    {
     "data": {
      "application/vnd.plotly.v1+json": {
       "config": {
        "plotlyServerURL": "https://plot.ly"
       },
       "data": [
        {
         "dimensions": [
          {
           "label": "preprocess",
           "ticktext": [
            "STD+L2",
            "MinMax+L2",
            "STD+L1",
            "STD+LMAX"
           ],
           "tickvals": [
            0,
            1,
            2,
            3
           ],
           "values": [
            0,
            0,
            0,
            0,
            0,
            0,
            0,
            0,
            0,
            0,
            0,
            0,
            0,
            0,
            0,
            0,
            0,
            1,
            2,
            3,
            0,
            0,
            0,
            0
           ]
          },
          {
           "label": "NN_architecture",
           "ticktext": [
            "[Linear(hidden_size)+ReLU]*depth",
            "[Linear(hidden_size)+ReLU+Dropout(dropout_rate)]*depth",
            "[Linear(hidden_size)]*depth"
           ],
           "tickvals": [
            0,
            1,
            2
           ],
           "values": [
            0,
            0,
            0,
            0,
            0,
            0,
            0,
            0,
            0,
            0,
            0,
            0,
            0,
            0,
            0,
            0,
            0,
            0,
            0,
            0,
            1,
            2,
            2,
            2
           ]
          },
          {
           "label": "depth",
           "ticktext": [
            3
           ],
           "tickvals": [
            0
           ],
           "values": [
            0,
            0,
            0,
            0,
            0,
            0,
            0,
            0,
            0,
            0,
            0,
            0,
            0,
            0,
            0,
            0,
            0,
            0,
            0,
            0,
            0,
            0,
            0,
            0
           ]
          },
          {
           "label": "hidden_size",
           "ticktext": [
            256
           ],
           "tickvals": [
            0
           ],
           "values": [
            0,
            0,
            0,
            0,
            0,
            0,
            0,
            0,
            0,
            0,
            0,
            0,
            0,
            0,
            0,
            0,
            0,
            0,
            0,
            0,
            0,
            0,
            0,
            0
           ]
          },
          {
           "label": "dropout_rate",
           "ticktext": [
            "None",
            0.1
           ],
           "tickvals": [
            0,
            1
           ],
           "values": [
            0,
            0,
            0,
            0,
            0,
            0,
            0,
            0,
            0,
            0,
            0,
            0,
            0,
            0,
            0,
            0,
            0,
            0,
            0,
            0,
            1,
            1,
            1,
            1
           ]
          },
          {
           "label": "batch_size",
           "ticktext": [
            48
           ],
           "tickvals": [
            0
           ],
           "values": [
            0,
            0,
            0,
            0,
            0,
            0,
            0,
            0,
            0,
            0,
            0,
            0,
            0,
            0,
            0,
            0,
            0,
            0,
            0,
            0,
            0,
            0,
            0,
            0
           ]
          },
          {
           "label": "learning_rate",
           "ticktext": [
            0.0001
           ],
           "tickvals": [
            0
           ],
           "values": [
            0,
            0,
            0,
            0,
            0,
            0,
            0,
            0,
            0,
            0,
            0,
            0,
            0,
            0,
            0,
            0,
            0,
            0,
            0,
            0,
            0,
            0,
            0,
            0
           ]
          },
          {
           "label": "criterion",
           "ticktext": [
            "MSELoss()",
            "L1Loss()",
            "HuberLoss()",
            "LogCoshLoss()"
           ],
           "tickvals": [
            0,
            1,
            2,
            3
           ],
           "values": [
            0,
            0,
            0,
            0,
            0,
            0,
            0,
            0,
            0,
            0,
            0,
            0,
            0,
            1,
            2,
            3,
            0,
            0,
            0,
            0,
            0,
            0,
            0,
            0
           ]
          },
          {
           "label": "optimizer",
           "ticktext": [
            "RMSprop"
           ],
           "tickvals": [
            0
           ],
           "values": [
            0,
            0,
            0,
            0,
            0,
            0,
            0,
            0,
            0,
            0,
            0,
            0,
            0,
            0,
            0,
            0,
            0,
            0,
            0,
            0,
            0,
            0,
            0,
            0
           ]
          },
          {
           "label": "momentum",
           "ticktext": [
            0.9
           ],
           "tickvals": [
            0
           ],
           "values": [
            0,
            0,
            0,
            0,
            0,
            0,
            0,
            0,
            0,
            0,
            0,
            0,
            0,
            0,
            0,
            0,
            0,
            0,
            0,
            0,
            0,
            0,
            0,
            0
           ]
          },
          {
           "label": "scheduler_patience",
           "ticktext": [
            7,
            10,
            200,
            5,
            20
           ],
           "tickvals": [
            0,
            1,
            2,
            3,
            4
           ],
           "values": [
            0,
            0,
            1,
            1,
            2,
            1,
            3,
            0,
            1,
            0,
            0,
            0,
            0,
            0,
            0,
            0,
            0,
            1,
            1,
            1,
            1,
            0,
            1,
            4
           ]
          },
          {
           "label": "scheduler_threshold",
           "ticktext": [
            1,
            2,
            1.5
           ],
           "tickvals": [
            0,
            1,
            2
           ],
           "values": [
            0,
            1,
            0,
            2,
            0,
            0,
            0,
            0,
            0,
            0,
            0,
            0,
            0,
            0,
            0,
            0,
            0,
            0,
            0,
            0,
            0,
            0,
            0,
            0
           ]
          },
          {
           "label": "scheduler_threshold_mode",
           "ticktext": [
            "abs",
            "rel"
           ],
           "tickvals": [
            0,
            1
           ],
           "values": [
            0,
            0,
            0,
            0,
            0,
            0,
            0,
            1,
            1,
            0,
            0,
            0,
            0,
            0,
            0,
            0,
            1,
            0,
            0,
            0,
            0,
            0,
            0,
            0
           ]
          },
          {
           "label": "scheduler_factor",
           "ticktext": [
            0.1,
            0.2
           ],
           "tickvals": [
            0,
            1
           ],
           "values": [
            0,
            0,
            0,
            0,
            0,
            0,
            0,
            0,
            0,
            1,
            0,
            0,
            0,
            0,
            0,
            0,
            0,
            0,
            0,
            0,
            0,
            0,
            0,
            0
           ]
          },
          {
           "label": "scheduler_min_lr",
           "ticktext": [
            0,
            0.000001,
            1e-7
           ],
           "tickvals": [
            0,
            1,
            2
           ],
           "values": [
            0,
            0,
            0,
            0,
            0,
            0,
            0,
            0,
            0,
            0,
            1,
            1,
            2,
            2,
            2,
            2,
            2,
            2,
            2,
            2,
            2,
            2,
            2,
            2
           ]
          },
          {
           "label": "early_stopper_patience",
           "ticktext": [
            10,
            200,
            15,
            30
           ],
           "tickvals": [
            0,
            1,
            2,
            3
           ],
           "values": [
            0,
            0,
            0,
            0,
            1,
            2,
            0,
            0,
            2,
            0,
            0,
            3,
            3,
            3,
            3,
            3,
            3,
            2,
            2,
            2,
            2,
            3,
            3,
            3
           ]
          },
          {
           "label": "num_epochs",
           "ticktext": [
            200
           ],
           "tickvals": [
            0
           ],
           "values": [
            0,
            0,
            0,
            0,
            0,
            0,
            0,
            0,
            0,
            0,
            0,
            0,
            0,
            0,
            0,
            0,
            0,
            0,
            0,
            0,
            0,
            0,
            0,
            0
           ]
          },
          {
           "label": "R^2",
           "tickvals": [
            0.2,
            0.22,
            0.24,
            0.25,
            0.27,
            0.29,
            0.31,
            0.32,
            0.34
           ],
           "values": [
            0.34,
            0.33,
            0.22,
            0.22,
            0.23,
            0.32,
            0.33,
            0.33,
            0.33,
            0.33,
            0.34,
            0.34,
            0.34,
            0.31,
            0.32,
            0.32,
            0.33,
            0.28,
            0.32,
            0.28,
            0.2,
            0.29,
            0.29,
            0.29
           ]
          },
          {
           "label": "MSE",
           "tickvals": [
            72.93,
            73.72,
            74.52,
            75.31,
            76.1,
            76.9,
            77.69,
            78.48,
            79.28,
            80.07,
            80.86,
            81.65,
            82.45,
            83.24,
            84.03,
            84.83,
            85.62,
            86.41,
            87.21,
            88
           ],
           "values": [
            72.95,
            73.69,
            86.46,
            86.46,
            85.18,
            74.85,
            73.68,
            73.77,
            73.51,
            73.35,
            73.01,
            73.01,
            72.93,
            76.58,
            75.27,
            75.09,
            73.77,
            79.29,
            74.71,
            79.47,
            88,
            78.19,
            78.18,
            78.19
           ]
          }
         ],
         "labelangle": -15,
         "line": {
          "color": [
           72.95,
           73.69,
           86.46,
           86.46,
           85.18,
           74.85,
           73.68,
           73.77,
           73.51,
           73.35,
           73.01,
           73.01,
           72.93,
           76.58,
           75.27,
           75.09,
           73.77,
           79.29,
           74.71,
           79.47,
           88,
           78.19,
           78.18,
           78.19
          ],
          "colorscale": [
           [
            0,
            "#440154"
           ],
           [
            0.1111111111111111,
            "#482878"
           ],
           [
            0.2222222222222222,
            "#3e4989"
           ],
           [
            0.3333333333333333,
            "#31688e"
           ],
           [
            0.4444444444444444,
            "#26828e"
           ],
           [
            0.5555555555555556,
            "#1f9e89"
           ],
           [
            0.6666666666666666,
            "#35b779"
           ],
           [
            0.7777777777777778,
            "#6ece58"
           ],
           [
            0.8888888888888888,
            "#b5de2b"
           ],
           [
            1,
            "#fde725"
           ]
          ],
          "showscale": true
         },
         "type": "parcoords"
        }
       ],
       "layout": {
        "template": {
         "data": {
          "bar": [
           {
            "error_x": {
             "color": "#2a3f5f"
            },
            "error_y": {
             "color": "#2a3f5f"
            },
            "marker": {
             "line": {
              "color": "#E5ECF6",
              "width": 0.5
             },
             "pattern": {
              "fillmode": "overlay",
              "size": 10,
              "solidity": 0.2
             }
            },
            "type": "bar"
           }
          ],
          "barpolar": [
           {
            "marker": {
             "line": {
              "color": "#E5ECF6",
              "width": 0.5
             },
             "pattern": {
              "fillmode": "overlay",
              "size": 10,
              "solidity": 0.2
             }
            },
            "type": "barpolar"
           }
          ],
          "carpet": [
           {
            "aaxis": {
             "endlinecolor": "#2a3f5f",
             "gridcolor": "white",
             "linecolor": "white",
             "minorgridcolor": "white",
             "startlinecolor": "#2a3f5f"
            },
            "baxis": {
             "endlinecolor": "#2a3f5f",
             "gridcolor": "white",
             "linecolor": "white",
             "minorgridcolor": "white",
             "startlinecolor": "#2a3f5f"
            },
            "type": "carpet"
           }
          ],
          "choropleth": [
           {
            "colorbar": {
             "outlinewidth": 0,
             "ticks": ""
            },
            "type": "choropleth"
           }
          ],
          "contour": [
           {
            "colorbar": {
             "outlinewidth": 0,
             "ticks": ""
            },
            "colorscale": [
             [
              0,
              "#0d0887"
             ],
             [
              0.1111111111111111,
              "#46039f"
             ],
             [
              0.2222222222222222,
              "#7201a8"
             ],
             [
              0.3333333333333333,
              "#9c179e"
             ],
             [
              0.4444444444444444,
              "#bd3786"
             ],
             [
              0.5555555555555556,
              "#d8576b"
             ],
             [
              0.6666666666666666,
              "#ed7953"
             ],
             [
              0.7777777777777778,
              "#fb9f3a"
             ],
             [
              0.8888888888888888,
              "#fdca26"
             ],
             [
              1,
              "#f0f921"
             ]
            ],
            "type": "contour"
           }
          ],
          "contourcarpet": [
           {
            "colorbar": {
             "outlinewidth": 0,
             "ticks": ""
            },
            "type": "contourcarpet"
           }
          ],
          "heatmap": [
           {
            "colorbar": {
             "outlinewidth": 0,
             "ticks": ""
            },
            "colorscale": [
             [
              0,
              "#0d0887"
             ],
             [
              0.1111111111111111,
              "#46039f"
             ],
             [
              0.2222222222222222,
              "#7201a8"
             ],
             [
              0.3333333333333333,
              "#9c179e"
             ],
             [
              0.4444444444444444,
              "#bd3786"
             ],
             [
              0.5555555555555556,
              "#d8576b"
             ],
             [
              0.6666666666666666,
              "#ed7953"
             ],
             [
              0.7777777777777778,
              "#fb9f3a"
             ],
             [
              0.8888888888888888,
              "#fdca26"
             ],
             [
              1,
              "#f0f921"
             ]
            ],
            "type": "heatmap"
           }
          ],
          "heatmapgl": [
           {
            "colorbar": {
             "outlinewidth": 0,
             "ticks": ""
            },
            "colorscale": [
             [
              0,
              "#0d0887"
             ],
             [
              0.1111111111111111,
              "#46039f"
             ],
             [
              0.2222222222222222,
              "#7201a8"
             ],
             [
              0.3333333333333333,
              "#9c179e"
             ],
             [
              0.4444444444444444,
              "#bd3786"
             ],
             [
              0.5555555555555556,
              "#d8576b"
             ],
             [
              0.6666666666666666,
              "#ed7953"
             ],
             [
              0.7777777777777778,
              "#fb9f3a"
             ],
             [
              0.8888888888888888,
              "#fdca26"
             ],
             [
              1,
              "#f0f921"
             ]
            ],
            "type": "heatmapgl"
           }
          ],
          "histogram": [
           {
            "marker": {
             "pattern": {
              "fillmode": "overlay",
              "size": 10,
              "solidity": 0.2
             }
            },
            "type": "histogram"
           }
          ],
          "histogram2d": [
           {
            "colorbar": {
             "outlinewidth": 0,
             "ticks": ""
            },
            "colorscale": [
             [
              0,
              "#0d0887"
             ],
             [
              0.1111111111111111,
              "#46039f"
             ],
             [
              0.2222222222222222,
              "#7201a8"
             ],
             [
              0.3333333333333333,
              "#9c179e"
             ],
             [
              0.4444444444444444,
              "#bd3786"
             ],
             [
              0.5555555555555556,
              "#d8576b"
             ],
             [
              0.6666666666666666,
              "#ed7953"
             ],
             [
              0.7777777777777778,
              "#fb9f3a"
             ],
             [
              0.8888888888888888,
              "#fdca26"
             ],
             [
              1,
              "#f0f921"
             ]
            ],
            "type": "histogram2d"
           }
          ],
          "histogram2dcontour": [
           {
            "colorbar": {
             "outlinewidth": 0,
             "ticks": ""
            },
            "colorscale": [
             [
              0,
              "#0d0887"
             ],
             [
              0.1111111111111111,
              "#46039f"
             ],
             [
              0.2222222222222222,
              "#7201a8"
             ],
             [
              0.3333333333333333,
              "#9c179e"
             ],
             [
              0.4444444444444444,
              "#bd3786"
             ],
             [
              0.5555555555555556,
              "#d8576b"
             ],
             [
              0.6666666666666666,
              "#ed7953"
             ],
             [
              0.7777777777777778,
              "#fb9f3a"
             ],
             [
              0.8888888888888888,
              "#fdca26"
             ],
             [
              1,
              "#f0f921"
             ]
            ],
            "type": "histogram2dcontour"
           }
          ],
          "mesh3d": [
           {
            "colorbar": {
             "outlinewidth": 0,
             "ticks": ""
            },
            "type": "mesh3d"
           }
          ],
          "parcoords": [
           {
            "line": {
             "colorbar": {
              "outlinewidth": 0,
              "ticks": ""
             }
            },
            "type": "parcoords"
           }
          ],
          "pie": [
           {
            "automargin": true,
            "type": "pie"
           }
          ],
          "scatter": [
           {
            "fillpattern": {
             "fillmode": "overlay",
             "size": 10,
             "solidity": 0.2
            },
            "type": "scatter"
           }
          ],
          "scatter3d": [
           {
            "line": {
             "colorbar": {
              "outlinewidth": 0,
              "ticks": ""
             }
            },
            "marker": {
             "colorbar": {
              "outlinewidth": 0,
              "ticks": ""
             }
            },
            "type": "scatter3d"
           }
          ],
          "scattercarpet": [
           {
            "marker": {
             "colorbar": {
              "outlinewidth": 0,
              "ticks": ""
             }
            },
            "type": "scattercarpet"
           }
          ],
          "scattergeo": [
           {
            "marker": {
             "colorbar": {
              "outlinewidth": 0,
              "ticks": ""
             }
            },
            "type": "scattergeo"
           }
          ],
          "scattergl": [
           {
            "marker": {
             "colorbar": {
              "outlinewidth": 0,
              "ticks": ""
             }
            },
            "type": "scattergl"
           }
          ],
          "scattermapbox": [
           {
            "marker": {
             "colorbar": {
              "outlinewidth": 0,
              "ticks": ""
             }
            },
            "type": "scattermapbox"
           }
          ],
          "scatterpolar": [
           {
            "marker": {
             "colorbar": {
              "outlinewidth": 0,
              "ticks": ""
             }
            },
            "type": "scatterpolar"
           }
          ],
          "scatterpolargl": [
           {
            "marker": {
             "colorbar": {
              "outlinewidth": 0,
              "ticks": ""
             }
            },
            "type": "scatterpolargl"
           }
          ],
          "scatterternary": [
           {
            "marker": {
             "colorbar": {
              "outlinewidth": 0,
              "ticks": ""
             }
            },
            "type": "scatterternary"
           }
          ],
          "surface": [
           {
            "colorbar": {
             "outlinewidth": 0,
             "ticks": ""
            },
            "colorscale": [
             [
              0,
              "#0d0887"
             ],
             [
              0.1111111111111111,
              "#46039f"
             ],
             [
              0.2222222222222222,
              "#7201a8"
             ],
             [
              0.3333333333333333,
              "#9c179e"
             ],
             [
              0.4444444444444444,
              "#bd3786"
             ],
             [
              0.5555555555555556,
              "#d8576b"
             ],
             [
              0.6666666666666666,
              "#ed7953"
             ],
             [
              0.7777777777777778,
              "#fb9f3a"
             ],
             [
              0.8888888888888888,
              "#fdca26"
             ],
             [
              1,
              "#f0f921"
             ]
            ],
            "type": "surface"
           }
          ],
          "table": [
           {
            "cells": {
             "fill": {
              "color": "#EBF0F8"
             },
             "line": {
              "color": "white"
             }
            },
            "header": {
             "fill": {
              "color": "#C8D4E3"
             },
             "line": {
              "color": "white"
             }
            },
            "type": "table"
           }
          ]
         },
         "layout": {
          "annotationdefaults": {
           "arrowcolor": "#2a3f5f",
           "arrowhead": 0,
           "arrowwidth": 1
          },
          "autotypenumbers": "strict",
          "coloraxis": {
           "colorbar": {
            "outlinewidth": 0,
            "ticks": ""
           }
          },
          "colorscale": {
           "diverging": [
            [
             0,
             "#8e0152"
            ],
            [
             0.1,
             "#c51b7d"
            ],
            [
             0.2,
             "#de77ae"
            ],
            [
             0.3,
             "#f1b6da"
            ],
            [
             0.4,
             "#fde0ef"
            ],
            [
             0.5,
             "#f7f7f7"
            ],
            [
             0.6,
             "#e6f5d0"
            ],
            [
             0.7,
             "#b8e186"
            ],
            [
             0.8,
             "#7fbc41"
            ],
            [
             0.9,
             "#4d9221"
            ],
            [
             1,
             "#276419"
            ]
           ],
           "sequential": [
            [
             0,
             "#0d0887"
            ],
            [
             0.1111111111111111,
             "#46039f"
            ],
            [
             0.2222222222222222,
             "#7201a8"
            ],
            [
             0.3333333333333333,
             "#9c179e"
            ],
            [
             0.4444444444444444,
             "#bd3786"
            ],
            [
             0.5555555555555556,
             "#d8576b"
            ],
            [
             0.6666666666666666,
             "#ed7953"
            ],
            [
             0.7777777777777778,
             "#fb9f3a"
            ],
            [
             0.8888888888888888,
             "#fdca26"
            ],
            [
             1,
             "#f0f921"
            ]
           ],
           "sequentialminus": [
            [
             0,
             "#0d0887"
            ],
            [
             0.1111111111111111,
             "#46039f"
            ],
            [
             0.2222222222222222,
             "#7201a8"
            ],
            [
             0.3333333333333333,
             "#9c179e"
            ],
            [
             0.4444444444444444,
             "#bd3786"
            ],
            [
             0.5555555555555556,
             "#d8576b"
            ],
            [
             0.6666666666666666,
             "#ed7953"
            ],
            [
             0.7777777777777778,
             "#fb9f3a"
            ],
            [
             0.8888888888888888,
             "#fdca26"
            ],
            [
             1,
             "#f0f921"
            ]
           ]
          },
          "colorway": [
           "#636efa",
           "#EF553B",
           "#00cc96",
           "#ab63fa",
           "#FFA15A",
           "#19d3f3",
           "#FF6692",
           "#B6E880",
           "#FF97FF",
           "#FECB52"
          ],
          "font": {
           "color": "#2a3f5f"
          },
          "geo": {
           "bgcolor": "white",
           "lakecolor": "white",
           "landcolor": "#E5ECF6",
           "showlakes": true,
           "showland": true,
           "subunitcolor": "white"
          },
          "hoverlabel": {
           "align": "left"
          },
          "hovermode": "closest",
          "mapbox": {
           "style": "light"
          },
          "paper_bgcolor": "white",
          "plot_bgcolor": "#E5ECF6",
          "polar": {
           "angularaxis": {
            "gridcolor": "white",
            "linecolor": "white",
            "ticks": ""
           },
           "bgcolor": "#E5ECF6",
           "radialaxis": {
            "gridcolor": "white",
            "linecolor": "white",
            "ticks": ""
           }
          },
          "scene": {
           "xaxis": {
            "backgroundcolor": "#E5ECF6",
            "gridcolor": "white",
            "gridwidth": 2,
            "linecolor": "white",
            "showbackground": true,
            "ticks": "",
            "zerolinecolor": "white"
           },
           "yaxis": {
            "backgroundcolor": "#E5ECF6",
            "gridcolor": "white",
            "gridwidth": 2,
            "linecolor": "white",
            "showbackground": true,
            "ticks": "",
            "zerolinecolor": "white"
           },
           "zaxis": {
            "backgroundcolor": "#E5ECF6",
            "gridcolor": "white",
            "gridwidth": 2,
            "linecolor": "white",
            "showbackground": true,
            "ticks": "",
            "zerolinecolor": "white"
           }
          },
          "shapedefaults": {
           "line": {
            "color": "#2a3f5f"
           }
          },
          "ternary": {
           "aaxis": {
            "gridcolor": "white",
            "linecolor": "white",
            "ticks": ""
           },
           "baxis": {
            "gridcolor": "white",
            "linecolor": "white",
            "ticks": ""
           },
           "bgcolor": "#E5ECF6",
           "caxis": {
            "gridcolor": "white",
            "linecolor": "white",
            "ticks": ""
           }
          },
          "title": {
           "x": 0.05
          },
          "xaxis": {
           "automargin": true,
           "gridcolor": "white",
           "linecolor": "white",
           "ticks": "",
           "title": {
            "standoff": 15
           },
           "zerolinecolor": "white",
           "zerolinewidth": 2
          },
          "yaxis": {
           "automargin": true,
           "gridcolor": "white",
           "linecolor": "white",
           "ticks": "",
           "title": {
            "standoff": 15
           },
           "zerolinecolor": "white",
           "zerolinewidth": 2
          }
         }
        }
       }
      }
     },
     "metadata": {},
     "output_type": "display_data"
    }
   ],
   "source": [
    "import plotly.graph_objects as go\n",
    "\n",
    "df = pd.read_csv(\"2_output_old_proportions.csv\").drop(\"ID\", axis=1)\n",
    "\n",
    "df[\"R^2\"] = df[\"R^2\"].round(2)\n",
    "df[\"MSE\"] = df[\"MSE\"].round(2)\n",
    "\n",
    "for col in df.columns:\n",
    "    if col not in [\"R^2\", \"MSE\"]:\n",
    "        df[col] = df[col].fillna(\"None\")\n",
    "        df[col] = df[col].astype(\"object\")\n",
    "\n",
    "dimensions = []\n",
    "\n",
    "for col in df.select_dtypes(include=\"object\"):\n",
    "    if col not in [\"R^2\", \"MSE\"]:\n",
    "        unique_dict = {i: num for num, i in enumerate(df[col].unique())}\n",
    "        df[col] = df[col].map(unique_dict)\n",
    "        dimensions.append(\n",
    "            dict(label=str(col), values=df[col], tickvals=list(unique_dict.values()), ticktext=list(unique_dict.keys()))\n",
    "        )\n",
    "\n",
    "for col in [\"R^2\", \"MSE\"]:\n",
    "    dimensions.append(dict(label=str(col), values=df[col]))\n",
    "\n",
    "fig = go.Figure(\n",
    "    data=go.Parcoords(\n",
    "        line=dict(color=df[\"MSE\"], colorscale=\"viridis\", showscale=True), dimensions=dimensions, labelangle=-15\n",
    "    )\n",
    ")\n",
    "\n",
    "fig.update_traces(\n",
    "    dimensions=[\n",
    "        {**d, **{\"tickvals\": np.round(np.linspace(min(d[\"values\"]), max(d[\"values\"]), len(np.unique(d[\"values\"]))), 2)}}\n",
    "        for d in fig.to_dict()[\"data\"][0][\"dimensions\"]\n",
    "    ]\n",
    ")\n",
    "\n",
    "# fig.update_layout(\n",
    "#     paper_bgcolor=\"floralwhite\",\n",
    "# )\n",
    "\n",
    "fig.show()"
   ]
  }
 ],
 "metadata": {
  "kernelspec": {
   "display_name": "Python 3 (ipykernel)",
   "language": "python",
   "name": "python3"
  },
  "language_info": {
   "codemirror_mode": {
    "name": "ipython",
    "version": 3
   },
   "file_extension": ".py",
   "mimetype": "text/x-python",
   "name": "python",
   "nbconvert_exporter": "python",
   "pygments_lexer": "ipython3",
   "version": "3.11.7"
  }
 },
 "nbformat": 4,
 "nbformat_minor": 1
}
