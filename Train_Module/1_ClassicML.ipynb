{
 "cells": [
  {
   "cell_type": "code",
   "execution_count": 2,
   "metadata": {},
   "outputs": [],
   "source": [
    "import numpy as np\n",
    "import os\n",
    "import pandas as pd\n",
    "import matplotlib.pyplot as plt\n",
    "from sklearn.metrics import ConfusionMatrixDisplay\n",
    "import pickle\n",
    "from sklearn import preprocessing\n",
    "from sklearn.covariance import OAS, EmpiricalCovariance, EllipticEnvelope, GraphicalLassoCV\n",
    "from sklearn.metrics import r2_score, mean_squared_error\n",
    "from sklearn.pipeline import Pipeline\n",
    "from sklearn.decomposition import PCA\n",
    "from sklearn.discriminant_analysis import LinearDiscriminantAnalysis\n",
    "from sklearn.ensemble import RandomForestRegressor\n",
    "from sklearn.model_selection import train_test_split, GridSearchCV, PredefinedSplit\n",
    "from sklearn.linear_model import LinearRegression\n",
    "from sklearn.neighbors import KNeighborsRegressor\n",
    "from sklearn.svm import SVR, LinearSVR\n",
    "from sklearn.kernel_approximation import Nystroem\n",
    "\n",
    "plt.style.use(\"seaborn-v0_8\")"
   ]
  },
  {
   "cell_type": "code",
   "execution_count": 3,
   "metadata": {},
   "outputs": [
    {
     "name": "stdout",
     "output_type": "stream",
     "text": [
      "X_train: (176486, 90)\n",
      "X_val: (50424, 90)\n",
      "X_test: (25213, 90)\n",
      "\n",
      "X_train_val: (226910, 90), y_train_val: (226910,)\n"
     ]
    }
   ],
   "source": [
    "random_state = 42\n",
    "\n",
    "df = pd.read_csv(\"train.csv\").drop_duplicates()\n",
    "\n",
    "# \"stratify\" is set because the target is very imbalanced\n",
    "train, test = train_test_split(df, stratify=df[\"Year\"], test_size=0.3, random_state=random_state)\n",
    "val, test = train_test_split(test, stratify=test[\"Year\"], test_size=1 / 3, random_state=random_state)\n",
    "\n",
    "X_train = train.drop(columns=[\"Year\"])\n",
    "y_train = train[\"Year\"]\n",
    "\n",
    "X_val = val.drop(columns=[\"Year\"])\n",
    "y_val = val[\"Year\"]\n",
    "\n",
    "X_test = test.drop(columns=[\"Year\"])\n",
    "y_test = test[\"Year\"]\n",
    "\n",
    "X_train_val = np.vstack((X_train, X_val))\n",
    "y_train_val = np.concatenate((y_train, y_val))\n",
    "\n",
    "print(\"X_train: {}\\nX_val: {}\\nX_test: {}\".format(X_train.shape, X_val.shape, X_test.shape))\n",
    "print(\"\\nX_train_val: {}, y_train_val: {}\".format(X_train_val.shape, y_train_val.shape))"
   ]
  },
  {
   "cell_type": "markdown",
   "metadata": {},
   "source": [
    "---\n",
    "# Preprocessing\n",
    "\n",
    "- [Whitening transformation](https://en.wikipedia.org/wiki/Whitening_transformation) is tested\n",
    "- [Shrinkage, Oracle Approximating Shrinkage (OAS)](https://en.wikipedia.org/wiki/Shrinkage_(statistics)#:~:text=In%20statistics%2C%20shrinkage%20is%20the,coefficient%20of%20determination%20'shrinks') is tested because requires normal distributed data\n",
    "- [Empirical covariance](https://scikit-learn.org/stable/modules/covariance.html#empirical-covariance) is tested because requires normal distributed data\n",
    "- [EllipticEnvelope](https://scikit-learn.org/stable/modules/generated/sklearn.covariance.EllipticEnvelope.html#sklearn.covariance.EllipticEnvelope) is tested because it's robust to anomalies, requires normal and unimodal distributed data\n",
    "- LDA with eigenvalues solver for dimensionality reduction"
   ]
  },
  {
   "cell_type": "code",
   "execution_count": 173,
   "metadata": {},
   "outputs": [],
   "source": [
    "# step_name, [(transformer_name, transformer_constructor()), ...], step_param_grid\n",
    "transformers_list = [\n",
    "    # (\"raw\", [(\"raw\", \"passthrough\")], {}),  # does nothing to the data\n",
    "    # (\"std-scaled\", [(\"std-scaler\", preprocessing.StandardScaler())], {}),\n",
    "    # (\"min-maxed\", [(\"min-max\", preprocessing.MinMaxScaler())], {}),\n",
    "    # (\n",
    "    #     \"std-scaler + pca 0.95\",\n",
    "    #     [\n",
    "    #         (\"std-scaler\", preprocessing.StandardScaler()),\n",
    "    #         (\"pca\", PCA(random_state=random_state)),\n",
    "    #     ],\n",
    "    #     {\n",
    "    #         \"pca__svd_solver\": [\"full\"],\n",
    "    #         \"pca__n_components\": [0.95],\n",
    "    #         \"pca__whiten\": [True, False],\n",
    "    #     },\n",
    "    # ),\n",
    "    # (\n",
    "    #     \"min-max + pca 0.95\",\n",
    "    #     [\n",
    "    #         (\"min-max\", preprocessing.MinMaxScaler()),\n",
    "    #         (\"pca\", PCA(random_state=random_state)),\n",
    "    #     ],\n",
    "    #     {\n",
    "    #         \"pca__svd_solver\": [\"full\"],\n",
    "    #         \"pca__n_components\": [0.95],\n",
    "    #         \"pca__whiten\": [True, False],\n",
    "    #     },\n",
    "    # ),\n",
    "    # (\n",
    "    #     \"min-max + lmax + pca 0.95\",\n",
    "    #     [\n",
    "    #         (\"min-max\", preprocessing.MinMaxScaler()),\n",
    "    #         (\"lmax\", preprocessing.Normalizer(norm=\"max\")),\n",
    "    #         (\"pca\", PCA(random_state=random_state)),\n",
    "    #     ],\n",
    "    #     {\n",
    "    #         \"pca__svd_solver\": [\"full\"],\n",
    "    #         \"pca__n_components\": [0.95],\n",
    "    #         \"pca__whiten\": [True, False],\n",
    "    #     },\n",
    "    # ),\n",
    "    # (\n",
    "    #     \"min-max + lda\",\n",
    "    #     [(\"min-max\", preprocessing.MinMaxScaler()), (\"lda\", LinearDiscriminantAnalysis())],\n",
    "    #     {\n",
    "    #         \"lda__solver\": [\"eigen\"],\n",
    "    #         \"lda__shrinkage\": [None],\n",
    "    #         \"lda__covariance_estimator\": [\n",
    "    #             # EllipticEnvelope(random_state=random_state, contamination=0.001),\n",
    "    #             # EmpiricalCovariance(),\n",
    "    #             OAS(),\n",
    "    #             # None,\n",
    "    #         ],\n",
    "    #     },\n",
    "    # ),\n",
    "    # (\n",
    "    #     \"min-max + lmax + lda\",\n",
    "    #     [\n",
    "    #         (\"min-max\", preprocessing.MinMaxScaler()),\n",
    "    #         (\"lmax\", preprocessing.Normalizer(norm=\"max\")),\n",
    "    #         (\"lda\", LinearDiscriminantAnalysis()),\n",
    "    #     ],\n",
    "    #     {\n",
    "    #         \"lda__solver\": [\"eigen\"],\n",
    "    #         \"lda__shrinkage\": [None],\n",
    "    #         \"lda__covariance_estimator\": [\n",
    "    #             # EllipticEnvelope(random_state=random_state, contamination=0.001),\n",
    "    #             # EmpiricalCovariance(),\n",
    "    #             OAS(),\n",
    "    #             # None,\n",
    "    #         ],\n",
    "    #     },\n",
    "    # ),\n",
    "    # (\n",
    "    #     \"min-max + nystroem\",\n",
    "    #     [\n",
    "    #         (\"min-max\", preprocessing.MinMaxScaler()),\n",
    "    #         (\"nys\", Nystroem(random_state=random_state, n_jobs=-1)),\n",
    "    #     ],\n",
    "    #     {\n",
    "    #         \"nys__gamma\": [0.010],  # 0, 0.00001, 0.0001, 0.001, 0.050, 1\n",
    "    #         \"nys__n_components\": [1000],  # 10, 100, 500, 700, 900,\n",
    "    #     },\n",
    "    # ),\n",
    "    # (\n",
    "    #     \"min-max + lda + nystroem\",\n",
    "    #     [\n",
    "    #         (\"min-max\", preprocessing.MinMaxScaler()),\n",
    "    #         (\"lda\", LinearDiscriminantAnalysis()),\n",
    "    #         (\"nys\", Nystroem(random_state=random_state, n_jobs=-1)),\n",
    "    #     ],\n",
    "    #     {\n",
    "    #         \"lda__solver\": [\"eigen\"],\n",
    "    #         \"lda__covariance_estimator\": [OAS()],\n",
    "    #         \"nys__gamma\": [0.010],  # 0, 0.00001, 0.0001, 0.001, 0.050, 1\n",
    "    #         \"nys__n_components\": [1000],  # 10, 100, 500, 700, 900,\n",
    "    #     },\n",
    "    # ),\n",
    "    # (\n",
    "    #     \"std-scaler + lda + nystroem\",\n",
    "    #     [\n",
    "    #         (\"std-scaler\", preprocessing.StandardScaler()),\n",
    "    #         (\"lda\", LinearDiscriminantAnalysis()),\n",
    "    #         (\"nys\", Nystroem(random_state=random_state, n_jobs=-1)),\n",
    "    #     ],\n",
    "    #     {\n",
    "    #         \"lda__solver\": [\"eigen\"],\n",
    "    #         \"lda__covariance_estimator\": [OAS()],\n",
    "    #         \"nys__gamma\": [0.010],  # 0, 0.00001, 0.0001, 0.001, 0.050, 1\n",
    "    #         \"nys__n_components\": [1000],  # 10, 100, 500, 700, 900,\n",
    "    #     },\n",
    "    # ),\n",
    "    (\n",
    "        \"min-max + l1 + lda + nystroem\",\n",
    "        [\n",
    "            (\"min-max\", preprocessing.MinMaxScaler()),\n",
    "            (\"l1\", preprocessing.Normalizer(norm=\"l1\")),\n",
    "            (\"lda\", LinearDiscriminantAnalysis()),\n",
    "            (\"nys\", Nystroem(random_state=random_state, n_jobs=-1)),\n",
    "        ],\n",
    "        {\n",
    "            \"lda__solver\": [\"eigen\"],\n",
    "            \"lda__covariance_estimator\": [OAS()],\n",
    "            \"nys__gamma\": [0.010],  # 0, 0.00001, 0.0001, 0.001, 0.050, 1\n",
    "            \"nys__n_components\": [1000],  # 10, 100, 500, 700, 900,\n",
    "        },\n",
    "    ),\n",
    "]"
   ]
  },
  {
   "cell_type": "markdown",
   "metadata": {},
   "source": [
    "---\n",
    "---\n",
    "# Modeling\n",
    "- For every preprocess method defined above, execute a GridSearch over the preprocess parameters plus the model parameters\n",
    "- Then it's chosen the best model with the best preprocess method looking at the R^2 score\n",
    "- \"StratifiedKFold\" is chosen to keep the proportion of imbalanced target lables"
   ]
  },
  {
   "cell_type": "code",
   "execution_count": 181,
   "metadata": {},
   "outputs": [],
   "source": [
    "def print_all_results(name_estimator):\n",
    "    df = pd.read_csv(\"1_\" + name_estimator + \"_output.csv\")\n",
    "    display(\n",
    "        df[[col for col in df.columns if col not in [\"MSE\", \"R^2\"]] + [\"MSE\", \"R^2\"]]\n",
    "        .sort_values(by=\"R^2\", ascending=False)\n",
    "        .style.format(precision=7)\n",
    "    )"
   ]
  },
  {
   "cell_type": "code",
   "execution_count": 189,
   "metadata": {},
   "outputs": [],
   "source": [
    "import plotly.graph_objects as go\n",
    "\n",
    "\n",
    "def save_display_results(\n",
    "    name_estimator,\n",
    "    best_preprocessor,\n",
    "    best_estimator,\n",
    "    best_predictions,\n",
    "):\n",
    "\n",
    "    file = open(\"1_\" + name_estimator + \"_preproc_\" + \".save\", \"wb\")\n",
    "    pickle.dump(best_preprocessor, file)\n",
    "    file = open(\"1_\" + name_estimator + \"_model_\" + \".save\", \"wb\")\n",
    "    pickle.dump(best_estimator, file)\n",
    "    file.close()\n",
    "\n",
    "    # Show confusion matrix of best result\n",
    "    fig, ax = plt.subplots(figsize=(10, 10))\n",
    "    ax.grid(None)\n",
    "    fig.tight_layout()\n",
    "    cmp = ConfusionMatrixDisplay.from_predictions(\n",
    "        y_test,\n",
    "        np.round(best_predictions).astype(int),\n",
    "        ax=ax,\n",
    "        # xticks_rotation=80,\n",
    "        include_values=False,\n",
    "        cmap=\"gist_stern\",  # \"magma\",\n",
    "        colorbar=False,\n",
    "    )\n",
    "    ax.set_xticks(range(0, len(cmp.confusion_matrix), 5))\n",
    "    ax.set_yticks(range(0, len(cmp.confusion_matrix), 5))\n",
    "    ax.plot(range(len(cmp.confusion_matrix)), range(len(cmp.confusion_matrix)), color=\"white\", linestyle=\"dotted\")\n",
    "    cax = fig.add_axes([ax.get_position().x1 + 0.01, ax.get_position().y0, 0.02, ax.get_position().height])\n",
    "    plt.colorbar(cmp.im_, cax=cax)\n",
    "    plt.show()\n",
    "\n",
    "    # Show Parallel graph\n",
    "    df = pd.read_csv(\"1_\" + name_estimator + \"_output.csv\")\n",
    "    df[\"R^2\"] = df[\"R^2\"].round(2)\n",
    "    df[\"MSE\"] = df[\"MSE\"].round(2)\n",
    "\n",
    "    for col in df.columns:\n",
    "        if col not in [\"R^2\", \"MSE\"]:\n",
    "            df[col] = df[col].fillna(\"None\")\n",
    "            df[col] = df[col].astype(\"object\")\n",
    "\n",
    "    dimensions = []\n",
    "\n",
    "    for col in df.select_dtypes(include=\"object\"):\n",
    "        if col not in [\"R^2\", \"MSE\"]:\n",
    "            unique_dict = {i: num for num, i in enumerate(df[col].unique())}\n",
    "            df[col] = df[col].map(unique_dict)\n",
    "            dimensions.append(\n",
    "                dict(\n",
    "                    label=str(col),\n",
    "                    values=df[col],\n",
    "                    tickvals=list(unique_dict.values()),\n",
    "                    ticktext=list(unique_dict.keys()),\n",
    "                )\n",
    "            )\n",
    "\n",
    "    for col in [\"R^2\", \"MSE\"]:\n",
    "        dimensions.append(dict(label=str(col), values=df[col]))\n",
    "\n",
    "    fig = go.Figure(\n",
    "        data=go.Parcoords(\n",
    "            line=dict(color=df[\"MSE\"], colorscale=\"viridis\", showscale=True), dimensions=dimensions, labelangle=-15\n",
    "        )\n",
    "    )\n",
    "\n",
    "    fig.update_traces(\n",
    "        dimensions=[\n",
    "            {\n",
    "                **d,\n",
    "                **{\n",
    "                    \"tickvals\": np.round(\n",
    "                        np.linspace(min(d[\"values\"]), max(d[\"values\"]), len(np.unique(d[\"values\"]))), 2\n",
    "                    )\n",
    "                },\n",
    "            }\n",
    "            for d in fig.to_dict()[\"data\"][0][\"dimensions\"]\n",
    "        ]\n",
    "    )\n",
    "\n",
    "    # fig.update_layout(\n",
    "    #     paper_bgcolor=\"floralwhite\",\n",
    "    # )\n",
    "\n",
    "    fig.show()"
   ]
  },
  {
   "cell_type": "code",
   "execution_count": 184,
   "metadata": {},
   "outputs": [],
   "source": [
    "test_fold = np.zeros(X_train_val.shape[0])\n",
    "test_fold[: X_train.shape[0]] = -1  # exclude the train set, setting the train indexes to -1\n",
    "ps = PredefinedSplit(test_fold)\n",
    "\n",
    "\n",
    "def gridSearch(name_estimator, estimator, param_estimator, save):\n",
    "    best_r2_score = float(\"-inf\")\n",
    "    best_MSE_score = float(\"inf\")\n",
    "    best_preprocessor = []\n",
    "    best_estimator = None\n",
    "    best_name_step = None\n",
    "    best_predictions = []\n",
    "    best_params = {}\n",
    "\n",
    "    for name_step, transformers, param_transformers in transformers_list:\n",
    "        pipe = Pipeline([*transformers, (name_estimator, estimator)])\n",
    "        gs = GridSearchCV(\n",
    "            pipe,\n",
    "            param_grid={**param_estimator, **param_transformers},\n",
    "            scoring=\"r2\",\n",
    "            n_jobs=-1,\n",
    "            cv=ps,\n",
    "            # verbose=3,\n",
    "            pre_dispatch=8,\n",
    "        )\n",
    "\n",
    "        # Fit\n",
    "        gs.fit(X_train_val, y_train_val)\n",
    "        # Predict\n",
    "        y_pred = gs.predict(X_test.values)\n",
    "        # Test scores\n",
    "        mse = mean_squared_error(y_test, y_pred)\n",
    "        r2 = r2_score(y_test, y_pred)\n",
    "\n",
    "        if r2 > best_r2_score:\n",
    "            best_r2_score = r2\n",
    "            best_MSE_score = mse\n",
    "            best_name_step = name_step\n",
    "            best_preprocessor = gs.best_estimator_[:-1]  # take all but the estimator\n",
    "            best_estimator = gs.best_estimator_[-1]\n",
    "            best_params = gs.best_params_\n",
    "            best_predictions = y_pred\n",
    "\n",
    "    # Show best result\n",
    "    print(\n",
    "        \"Best:\\n\\t{} data\\n\\tParams: {}\\n\\tR^2: {}\\n\\tMSE: {}\".format(\n",
    "            best_name_step, best_params, best_r2_score, best_MSE_score\n",
    "        )\n",
    "    )\n",
    "\n",
    "    # Save in csv the best result\n",
    "    if save:\n",
    "        results = pd.DataFrame(best_params or None, index=[0])\n",
    "        results = results.assign(preprocess=best_name_step, MSE=best_MSE_score, R2=best_r2_score).rename(\n",
    "            columns={\"R2\": \"R^2\"}\n",
    "        )\n",
    "        file_name = \"1_\" + name_estimator + \"_output.csv\"\n",
    "        results = pd.concat([pd.read_csv(file_name) if os.path.isfile(file_name) else pd.DataFrame(), results], axis=0)\n",
    "        results.to_csv(file_name, index=False)\n",
    "\n",
    "    return (\n",
    "        best_preprocessor,\n",
    "        best_estimator,\n",
    "        best_predictions,\n",
    "    )"
   ]
  },
  {
   "cell_type": "markdown",
   "metadata": {},
   "source": [
    "---\n",
    "## Linear Regression"
   ]
  },
  {
   "cell_type": "code",
   "execution_count": 186,
   "metadata": {},
   "outputs": [
    {
     "name": "stdout",
     "output_type": "stream",
     "text": [
      "Best:\n",
      "\tmin-max + l1 + lda + nystroem data\n",
      "\tParams: {'lda__covariance_estimator': OAS(), 'lda__solver': 'eigen', 'nys__gamma': 0.01, 'nys__n_components': 1000}\n",
      "\tR^2: 0.33129078196843664\n",
      "\tMSE: 73.6070027469092\n"
     ]
    }
   ],
   "source": [
    "param_estimator = {}\n",
    "\n",
    "name_estimator = \"lr\"\n",
    "\n",
    "best_preprocessor, best_estimator, best_predictions = gridSearch(\n",
    "    name_estimator,\n",
    "    LinearRegression(n_jobs=-1),\n",
    "    param_estimator,\n",
    "    False,\n",
    ")"
   ]
  },
  {
   "cell_type": "code",
   "execution_count": 187,
   "metadata": {},
   "outputs": [
    {
     "data": {
      "text/html": [
       "<style type=\"text/css\">\n",
       "</style>\n",
       "<table id=\"T_20d10\">\n",
       "  <thead>\n",
       "    <tr>\n",
       "      <th class=\"blank level0\" >&nbsp;</th>\n",
       "      <th id=\"T_20d10_level0_col0\" class=\"col_heading level0 col0\" >preprocess</th>\n",
       "      <th id=\"T_20d10_level0_col1\" class=\"col_heading level0 col1\" >pca__n_components</th>\n",
       "      <th id=\"T_20d10_level0_col2\" class=\"col_heading level0 col2\" >pca__svd_solver</th>\n",
       "      <th id=\"T_20d10_level0_col3\" class=\"col_heading level0 col3\" >pca__whiten</th>\n",
       "      <th id=\"T_20d10_level0_col4\" class=\"col_heading level0 col4\" >lda__covariance_estimator</th>\n",
       "      <th id=\"T_20d10_level0_col5\" class=\"col_heading level0 col5\" >lda__shrinkage</th>\n",
       "      <th id=\"T_20d10_level0_col6\" class=\"col_heading level0 col6\" >lda__solver</th>\n",
       "      <th id=\"T_20d10_level0_col7\" class=\"col_heading level0 col7\" >nys__gamma</th>\n",
       "      <th id=\"T_20d10_level0_col8\" class=\"col_heading level0 col8\" >nys__n_components</th>\n",
       "      <th id=\"T_20d10_level0_col9\" class=\"col_heading level0 col9\" >MSE</th>\n",
       "      <th id=\"T_20d10_level0_col10\" class=\"col_heading level0 col10\" >R^2</th>\n",
       "    </tr>\n",
       "  </thead>\n",
       "  <tbody>\n",
       "    <tr>\n",
       "      <th id=\"T_20d10_level0_row0\" class=\"row_heading level0 row0\" >11</th>\n",
       "      <td id=\"T_20d10_row0_col0\" class=\"data row0 col0\" >min-max + lda + nystroem</td>\n",
       "      <td id=\"T_20d10_row0_col1\" class=\"data row0 col1\" >nan</td>\n",
       "      <td id=\"T_20d10_row0_col2\" class=\"data row0 col2\" >nan</td>\n",
       "      <td id=\"T_20d10_row0_col3\" class=\"data row0 col3\" >nan</td>\n",
       "      <td id=\"T_20d10_row0_col4\" class=\"data row0 col4\" >OAS()</td>\n",
       "      <td id=\"T_20d10_row0_col5\" class=\"data row0 col5\" >nan</td>\n",
       "      <td id=\"T_20d10_row0_col6\" class=\"data row0 col6\" >eigen</td>\n",
       "      <td id=\"T_20d10_row0_col7\" class=\"data row0 col7\" >0.0100000</td>\n",
       "      <td id=\"T_20d10_row0_col8\" class=\"data row0 col8\" >1000.0000000</td>\n",
       "      <td id=\"T_20d10_row0_col9\" class=\"data row0 col9\" >73.5979577</td>\n",
       "      <td id=\"T_20d10_row0_col10\" class=\"data row0 col10\" >0.3313730</td>\n",
       "    </tr>\n",
       "    <tr>\n",
       "      <th id=\"T_20d10_level0_row1\" class=\"row_heading level0 row1\" >8</th>\n",
       "      <td id=\"T_20d10_row1_col0\" class=\"data row1 col0\" >min-max + lmax + lda + nystroem</td>\n",
       "      <td id=\"T_20d10_row1_col1\" class=\"data row1 col1\" >nan</td>\n",
       "      <td id=\"T_20d10_row1_col2\" class=\"data row1 col2\" >nan</td>\n",
       "      <td id=\"T_20d10_row1_col3\" class=\"data row1 col3\" >nan</td>\n",
       "      <td id=\"T_20d10_row1_col4\" class=\"data row1 col4\" >OAS()</td>\n",
       "      <td id=\"T_20d10_row1_col5\" class=\"data row1 col5\" >nan</td>\n",
       "      <td id=\"T_20d10_row1_col6\" class=\"data row1 col6\" >eigen</td>\n",
       "      <td id=\"T_20d10_row1_col7\" class=\"data row1 col7\" >0.0100000</td>\n",
       "      <td id=\"T_20d10_row1_col8\" class=\"data row1 col8\" >1000.0000000</td>\n",
       "      <td id=\"T_20d10_row1_col9\" class=\"data row1 col9\" >73.6178914</td>\n",
       "      <td id=\"T_20d10_row1_col10\" class=\"data row1 col10\" >0.3311919</td>\n",
       "    </tr>\n",
       "    <tr>\n",
       "      <th id=\"T_20d10_level0_row2\" class=\"row_heading level0 row2\" >10</th>\n",
       "      <td id=\"T_20d10_row2_col0\" class=\"data row2 col0\" >std-scaler + lda + nystroem</td>\n",
       "      <td id=\"T_20d10_row2_col1\" class=\"data row2 col1\" >nan</td>\n",
       "      <td id=\"T_20d10_row2_col2\" class=\"data row2 col2\" >nan</td>\n",
       "      <td id=\"T_20d10_row2_col3\" class=\"data row2 col3\" >nan</td>\n",
       "      <td id=\"T_20d10_row2_col4\" class=\"data row2 col4\" >OAS()</td>\n",
       "      <td id=\"T_20d10_row2_col5\" class=\"data row2 col5\" >nan</td>\n",
       "      <td id=\"T_20d10_row2_col6\" class=\"data row2 col6\" >eigen</td>\n",
       "      <td id=\"T_20d10_row2_col7\" class=\"data row2 col7\" >0.0100000</td>\n",
       "      <td id=\"T_20d10_row2_col8\" class=\"data row2 col8\" >1000.0000000</td>\n",
       "      <td id=\"T_20d10_row2_col9\" class=\"data row2 col9\" >74.3452920</td>\n",
       "      <td id=\"T_20d10_row2_col10\" class=\"data row2 col10\" >0.3245835</td>\n",
       "    </tr>\n",
       "    <tr>\n",
       "      <th id=\"T_20d10_level0_row3\" class=\"row_heading level0 row3\" >9</th>\n",
       "      <td id=\"T_20d10_row3_col0\" class=\"data row3 col0\" >min-max + nystroem</td>\n",
       "      <td id=\"T_20d10_row3_col1\" class=\"data row3 col1\" >nan</td>\n",
       "      <td id=\"T_20d10_row3_col2\" class=\"data row3 col2\" >nan</td>\n",
       "      <td id=\"T_20d10_row3_col3\" class=\"data row3 col3\" >nan</td>\n",
       "      <td id=\"T_20d10_row3_col4\" class=\"data row3 col4\" >nan</td>\n",
       "      <td id=\"T_20d10_row3_col5\" class=\"data row3 col5\" >nan</td>\n",
       "      <td id=\"T_20d10_row3_col6\" class=\"data row3 col6\" >nan</td>\n",
       "      <td id=\"T_20d10_row3_col7\" class=\"data row3 col7\" >0.0100000</td>\n",
       "      <td id=\"T_20d10_row3_col8\" class=\"data row3 col8\" >1000.0000000</td>\n",
       "      <td id=\"T_20d10_row3_col9\" class=\"data row3 col9\" >75.8561394</td>\n",
       "      <td id=\"T_20d10_row3_col10\" class=\"data row3 col10\" >0.3108577</td>\n",
       "    </tr>\n",
       "    <tr>\n",
       "      <th id=\"T_20d10_level0_row4\" class=\"row_heading level0 row4\" >7</th>\n",
       "      <td id=\"T_20d10_row4_col0\" class=\"data row4 col0\" >min-max + lmax + lda</td>\n",
       "      <td id=\"T_20d10_row4_col1\" class=\"data row4 col1\" >nan</td>\n",
       "      <td id=\"T_20d10_row4_col2\" class=\"data row4 col2\" >nan</td>\n",
       "      <td id=\"T_20d10_row4_col3\" class=\"data row4 col3\" >nan</td>\n",
       "      <td id=\"T_20d10_row4_col4\" class=\"data row4 col4\" >EmpiricalCovariance()</td>\n",
       "      <td id=\"T_20d10_row4_col5\" class=\"data row4 col5\" >nan</td>\n",
       "      <td id=\"T_20d10_row4_col6\" class=\"data row4 col6\" >eigen</td>\n",
       "      <td id=\"T_20d10_row4_col7\" class=\"data row4 col7\" >nan</td>\n",
       "      <td id=\"T_20d10_row4_col8\" class=\"data row4 col8\" >nan</td>\n",
       "      <td id=\"T_20d10_row4_col9\" class=\"data row4 col9\" >83.3157626</td>\n",
       "      <td id=\"T_20d10_row4_col10\" class=\"data row4 col10\" >0.2430881</td>\n",
       "    </tr>\n",
       "    <tr>\n",
       "      <th id=\"T_20d10_level0_row5\" class=\"row_heading level0 row5\" >12</th>\n",
       "      <td id=\"T_20d10_row5_col0\" class=\"data row5 col0\" >min-max + lmax + lda</td>\n",
       "      <td id=\"T_20d10_row5_col1\" class=\"data row5 col1\" >nan</td>\n",
       "      <td id=\"T_20d10_row5_col2\" class=\"data row5 col2\" >nan</td>\n",
       "      <td id=\"T_20d10_row5_col3\" class=\"data row5 col3\" >nan</td>\n",
       "      <td id=\"T_20d10_row5_col4\" class=\"data row5 col4\" >OAS()</td>\n",
       "      <td id=\"T_20d10_row5_col5\" class=\"data row5 col5\" >nan</td>\n",
       "      <td id=\"T_20d10_row5_col6\" class=\"data row5 col6\" >eigen</td>\n",
       "      <td id=\"T_20d10_row5_col7\" class=\"data row5 col7\" >nan</td>\n",
       "      <td id=\"T_20d10_row5_col8\" class=\"data row5 col8\" >nan</td>\n",
       "      <td id=\"T_20d10_row5_col9\" class=\"data row5 col9\" >83.3398224</td>\n",
       "      <td id=\"T_20d10_row5_col10\" class=\"data row5 col10\" >0.2428695</td>\n",
       "    </tr>\n",
       "    <tr>\n",
       "      <th id=\"T_20d10_level0_row6\" class=\"row_heading level0 row6\" >6</th>\n",
       "      <td id=\"T_20d10_row6_col0\" class=\"data row6 col0\" >min-max + lda</td>\n",
       "      <td id=\"T_20d10_row6_col1\" class=\"data row6 col1\" >nan</td>\n",
       "      <td id=\"T_20d10_row6_col2\" class=\"data row6 col2\" >nan</td>\n",
       "      <td id=\"T_20d10_row6_col3\" class=\"data row6 col3\" >nan</td>\n",
       "      <td id=\"T_20d10_row6_col4\" class=\"data row6 col4\" >EmpiricalCovariance()</td>\n",
       "      <td id=\"T_20d10_row6_col5\" class=\"data row6 col5\" >nan</td>\n",
       "      <td id=\"T_20d10_row6_col6\" class=\"data row6 col6\" >eigen</td>\n",
       "      <td id=\"T_20d10_row6_col7\" class=\"data row6 col7\" >nan</td>\n",
       "      <td id=\"T_20d10_row6_col8\" class=\"data row6 col8\" >nan</td>\n",
       "      <td id=\"T_20d10_row6_col9\" class=\"data row6 col9\" >83.9731990</td>\n",
       "      <td id=\"T_20d10_row6_col10\" class=\"data row6 col10\" >0.2371154</td>\n",
       "    </tr>\n",
       "    <tr>\n",
       "      <th id=\"T_20d10_level0_row7\" class=\"row_heading level0 row7\" >2</th>\n",
       "      <td id=\"T_20d10_row7_col0\" class=\"data row7 col0\" >min-maxed</td>\n",
       "      <td id=\"T_20d10_row7_col1\" class=\"data row7 col1\" >nan</td>\n",
       "      <td id=\"T_20d10_row7_col2\" class=\"data row7 col2\" >nan</td>\n",
       "      <td id=\"T_20d10_row7_col3\" class=\"data row7 col3\" >nan</td>\n",
       "      <td id=\"T_20d10_row7_col4\" class=\"data row7 col4\" >nan</td>\n",
       "      <td id=\"T_20d10_row7_col5\" class=\"data row7 col5\" >nan</td>\n",
       "      <td id=\"T_20d10_row7_col6\" class=\"data row7 col6\" >nan</td>\n",
       "      <td id=\"T_20d10_row7_col7\" class=\"data row7 col7\" >nan</td>\n",
       "      <td id=\"T_20d10_row7_col8\" class=\"data row7 col8\" >nan</td>\n",
       "      <td id=\"T_20d10_row7_col9\" class=\"data row7 col9\" >83.9731990</td>\n",
       "      <td id=\"T_20d10_row7_col10\" class=\"data row7 col10\" >0.2371154</td>\n",
       "    </tr>\n",
       "    <tr>\n",
       "      <th id=\"T_20d10_level0_row8\" class=\"row_heading level0 row8\" >1</th>\n",
       "      <td id=\"T_20d10_row8_col0\" class=\"data row8 col0\" >std-scaled</td>\n",
       "      <td id=\"T_20d10_row8_col1\" class=\"data row8 col1\" >nan</td>\n",
       "      <td id=\"T_20d10_row8_col2\" class=\"data row8 col2\" >nan</td>\n",
       "      <td id=\"T_20d10_row8_col3\" class=\"data row8 col3\" >nan</td>\n",
       "      <td id=\"T_20d10_row8_col4\" class=\"data row8 col4\" >nan</td>\n",
       "      <td id=\"T_20d10_row8_col5\" class=\"data row8 col5\" >nan</td>\n",
       "      <td id=\"T_20d10_row8_col6\" class=\"data row8 col6\" >nan</td>\n",
       "      <td id=\"T_20d10_row8_col7\" class=\"data row8 col7\" >nan</td>\n",
       "      <td id=\"T_20d10_row8_col8\" class=\"data row8 col8\" >nan</td>\n",
       "      <td id=\"T_20d10_row8_col9\" class=\"data row8 col9\" >83.9731990</td>\n",
       "      <td id=\"T_20d10_row8_col10\" class=\"data row8 col10\" >0.2371154</td>\n",
       "    </tr>\n",
       "    <tr>\n",
       "      <th id=\"T_20d10_level0_row9\" class=\"row_heading level0 row9\" >0</th>\n",
       "      <td id=\"T_20d10_row9_col0\" class=\"data row9 col0\" >raw</td>\n",
       "      <td id=\"T_20d10_row9_col1\" class=\"data row9 col1\" >nan</td>\n",
       "      <td id=\"T_20d10_row9_col2\" class=\"data row9 col2\" >nan</td>\n",
       "      <td id=\"T_20d10_row9_col3\" class=\"data row9 col3\" >nan</td>\n",
       "      <td id=\"T_20d10_row9_col4\" class=\"data row9 col4\" >nan</td>\n",
       "      <td id=\"T_20d10_row9_col5\" class=\"data row9 col5\" >nan</td>\n",
       "      <td id=\"T_20d10_row9_col6\" class=\"data row9 col6\" >nan</td>\n",
       "      <td id=\"T_20d10_row9_col7\" class=\"data row9 col7\" >nan</td>\n",
       "      <td id=\"T_20d10_row9_col8\" class=\"data row9 col8\" >nan</td>\n",
       "      <td id=\"T_20d10_row9_col9\" class=\"data row9 col9\" >83.9731990</td>\n",
       "      <td id=\"T_20d10_row9_col10\" class=\"data row9 col10\" >0.2371154</td>\n",
       "    </tr>\n",
       "    <tr>\n",
       "      <th id=\"T_20d10_level0_row10\" class=\"row_heading level0 row10\" >5</th>\n",
       "      <td id=\"T_20d10_row10_col0\" class=\"data row10 col0\" >min-max + lmax + pca 0.95</td>\n",
       "      <td id=\"T_20d10_row10_col1\" class=\"data row10 col1\" >0.9500000</td>\n",
       "      <td id=\"T_20d10_row10_col2\" class=\"data row10 col2\" >full</td>\n",
       "      <td id=\"T_20d10_row10_col3\" class=\"data row10 col3\" >False</td>\n",
       "      <td id=\"T_20d10_row10_col4\" class=\"data row10 col4\" >nan</td>\n",
       "      <td id=\"T_20d10_row10_col5\" class=\"data row10 col5\" >nan</td>\n",
       "      <td id=\"T_20d10_row10_col6\" class=\"data row10 col6\" >nan</td>\n",
       "      <td id=\"T_20d10_row10_col7\" class=\"data row10 col7\" >nan</td>\n",
       "      <td id=\"T_20d10_row10_col8\" class=\"data row10 col8\" >nan</td>\n",
       "      <td id=\"T_20d10_row10_col9\" class=\"data row10 col9\" >84.7118548</td>\n",
       "      <td id=\"T_20d10_row10_col10\" class=\"data row10 col10\" >0.2304048</td>\n",
       "    </tr>\n",
       "    <tr>\n",
       "      <th id=\"T_20d10_level0_row11\" class=\"row_heading level0 row11\" >4</th>\n",
       "      <td id=\"T_20d10_row11_col0\" class=\"data row11 col0\" >min-max + pca 0.95</td>\n",
       "      <td id=\"T_20d10_row11_col1\" class=\"data row11 col1\" >0.9500000</td>\n",
       "      <td id=\"T_20d10_row11_col2\" class=\"data row11 col2\" >full</td>\n",
       "      <td id=\"T_20d10_row11_col3\" class=\"data row11 col3\" >True</td>\n",
       "      <td id=\"T_20d10_row11_col4\" class=\"data row11 col4\" >nan</td>\n",
       "      <td id=\"T_20d10_row11_col5\" class=\"data row11 col5\" >nan</td>\n",
       "      <td id=\"T_20d10_row11_col6\" class=\"data row11 col6\" >nan</td>\n",
       "      <td id=\"T_20d10_row11_col7\" class=\"data row11 col7\" >nan</td>\n",
       "      <td id=\"T_20d10_row11_col8\" class=\"data row11 col8\" >nan</td>\n",
       "      <td id=\"T_20d10_row11_col9\" class=\"data row11 col9\" >85.0723431</td>\n",
       "      <td id=\"T_20d10_row11_col10\" class=\"data row11 col10\" >0.2271298</td>\n",
       "    </tr>\n",
       "    <tr>\n",
       "      <th id=\"T_20d10_level0_row12\" class=\"row_heading level0 row12\" >3</th>\n",
       "      <td id=\"T_20d10_row12_col0\" class=\"data row12 col0\" >std-scaler + pca 0.95</td>\n",
       "      <td id=\"T_20d10_row12_col1\" class=\"data row12 col1\" >0.9500000</td>\n",
       "      <td id=\"T_20d10_row12_col2\" class=\"data row12 col2\" >full</td>\n",
       "      <td id=\"T_20d10_row12_col3\" class=\"data row12 col3\" >True</td>\n",
       "      <td id=\"T_20d10_row12_col4\" class=\"data row12 col4\" >nan</td>\n",
       "      <td id=\"T_20d10_row12_col5\" class=\"data row12 col5\" >nan</td>\n",
       "      <td id=\"T_20d10_row12_col6\" class=\"data row12 col6\" >nan</td>\n",
       "      <td id=\"T_20d10_row12_col7\" class=\"data row12 col7\" >nan</td>\n",
       "      <td id=\"T_20d10_row12_col8\" class=\"data row12 col8\" >nan</td>\n",
       "      <td id=\"T_20d10_row12_col9\" class=\"data row12 col9\" >90.2763586</td>\n",
       "      <td id=\"T_20d10_row12_col10\" class=\"data row12 col10\" >0.1798520</td>\n",
       "    </tr>\n",
       "  </tbody>\n",
       "</table>\n"
      ],
      "text/plain": [
       "<pandas.io.formats.style.Styler at 0x224fc7cbe50>"
      ]
     },
     "metadata": {},
     "output_type": "display_data"
    }
   ],
   "source": [
    "print_all_results(name_estimator)"
   ]
  },
  {
   "cell_type": "code",
   "execution_count": 190,
   "metadata": {},
   "outputs": [
    {
     "data": {
      "image/png": "[encoded data removed]",
      "text/plain": [
       "<Figure size 1000x1000 with 2 Axes>"
      ]
     },
     "metadata": {},
     "output_type": "display_data"
    },
    {
     "data": {
      "application/vnd.plotly.v1+json": {
       "config": {
        "plotlyServerURL": "https://plot.ly"
       },
       "data": [
        {
         "dimensions": [
          {
           "label": "preprocess",
           "ticktext": [
            "raw",
            "std-scaled",
            "min-maxed",
            "std-scaler + pca 0.95",
            "min-max + pca 0.95",
            "min-max + lmax + pca 0.95",
            "min-max + lda",
            "min-max + lmax + lda",
            "min-max + lmax + lda + nystroem",
            "min-max + nystroem",
            "std-scaler + lda + nystroem",
            "min-max + lda + nystroem"
           ],
           "tickvals": [
            0,
            1,
            2,
            3,
            4,
            5,
            6,
            7,
            8,
            9,
            10,
            11
           ],
           "values": [
            0,
            1,
            2,
            3,
            4,
            5,
            6,
            7,
            8,
            9,
            10,
            11,
            7
           ]
          },
          {
           "label": "pca__n_components",
           "ticktext": [
            "None",
            0.95
           ],
           "tickvals": [
            0,
            1
           ],
           "values": [
            0,
            0,
            0,
            1,
            1,
            1,
            0,
            0,
            0,
            0,
            0,
            0,
            0
           ]
          },
          {
           "label": "pca__svd_solver",
           "ticktext": [
            "None",
            "full"
           ],
           "tickvals": [
            0,
            1
           ],
           "values": [
            0,
            0,
            0,
            1,
            1,
            1,
            0,
            0,
            0,
            0,
            0,
            0,
            0
           ]
          },
          {
           "label": "pca__whiten",
           "ticktext": [
            "None",
            true,
            false
           ],
           "tickvals": [
            0,
            1,
            2
           ],
           "values": [
            0,
            0,
            0,
            1,
            1,
            2,
            0,
            0,
            0,
            0,
            0,
            0,
            0
           ]
          },
          {
           "label": "lda__covariance_estimator",
           "ticktext": [
            "None",
            "EmpiricalCovariance()",
            "OAS()"
           ],
           "tickvals": [
            0,
            1,
            2
           ],
           "values": [
            0,
            0,
            0,
            0,
            0,
            0,
            1,
            1,
            2,
            0,
            2,
            2,
            2
           ]
          },
          {
           "label": "lda__shrinkage",
           "ticktext": [
            "None"
           ],
           "tickvals": [
            0
           ],
           "values": [
            0,
            0,
            0,
            0,
            0,
            0,
            0,
            0,
            0,
            0,
            0,
            0,
            0
           ]
          },
          {
           "label": "lda__solver",
           "ticktext": [
            "None",
            "eigen"
           ],
           "tickvals": [
            0,
            1
           ],
           "values": [
            0,
            0,
            0,
            0,
            0,
            0,
            1,
            1,
            1,
            0,
            1,
            1,
            1
           ]
          },
          {
           "label": "nys__gamma",
           "ticktext": [
            "None",
            0.01
           ],
           "tickvals": [
            0,
            1
           ],
           "values": [
            0,
            0,
            0,
            0,
            0,
            0,
            0,
            0,
            1,
            1,
            1,
            1,
            0
           ]
          },
          {
           "label": "nys__n_components",
           "ticktext": [
            "None",
            1000
           ],
           "tickvals": [
            0,
            1
           ],
           "values": [
            0,
            0,
            0,
            0,
            0,
            0,
            0,
            0,
            1,
            1,
            1,
            1,
            0
           ]
          },
          {
           "label": "R^2",
           "tickvals": [
            0.18,
            0.21,
            0.24,
            0.27,
            0.3,
            0.33
           ],
           "values": [
            0.24,
            0.24,
            0.24,
            0.18,
            0.23,
            0.23,
            0.24,
            0.24,
            0.33,
            0.31,
            0.32,
            0.33,
            0.24
           ]
          },
          {
           "label": "MSE",
           "tickvals": [
            73.6,
            75.45,
            77.31,
            79.16,
            81.01,
            82.87,
            84.72,
            86.57,
            88.43,
            90.28
           ],
           "values": [
            83.97,
            83.97,
            83.97,
            90.28,
            85.07,
            84.71,
            83.97,
            83.32,
            73.62,
            75.86,
            74.35,
            73.6,
            83.34
           ]
          }
         ],
         "labelangle": -15,
         "line": {
          "color": [
           83.97,
           83.97,
           83.97,
           90.28,
           85.07,
           84.71,
           83.97,
           83.32,
           73.62,
           75.86,
           74.35,
           73.6,
           83.34
          ],
          "colorscale": [
           [
            0,
            "#440154"
           ],
           [
            0.1111111111111111,
            "#482878"
           ],
           [
            0.2222222222222222,
            "#3e4989"
           ],
           [
            0.3333333333333333,
            "#31688e"
           ],
           [
            0.4444444444444444,
            "#26828e"
           ],
           [
            0.5555555555555556,
            "#1f9e89"
           ],
           [
            0.6666666666666666,
            "#35b779"
           ],
           [
            0.7777777777777778,
            "#6ece58"
           ],
           [
            0.8888888888888888,
            "#b5de2b"
           ],
           [
            1,
            "#fde725"
           ]
          ],
          "showscale": true
         },
         "type": "parcoords"
        }
       ],
       "layout": {
        "template": {
         "data": {
          "bar": [
           {
            "error_x": {
             "color": "#2a3f5f"
            },
            "error_y": {
             "color": "#2a3f5f"
            },
            "marker": {
             "line": {
              "color": "#E5ECF6",
              "width": 0.5
             },
             "pattern": {
              "fillmode": "overlay",
              "size": 10,
              "solidity": 0.2
             }
            },
            "type": "bar"
           }
          ],
          "barpolar": [
           {
            "marker": {
             "line": {
              "color": "#E5ECF6",
              "width": 0.5
             },
             "pattern": {
              "fillmode": "overlay",
              "size": 10,
              "solidity": 0.2
             }
            },
            "type": "barpolar"
           }
          ],
          "carpet": [
           {
            "aaxis": {
             "endlinecolor": "#2a3f5f",
             "gridcolor": "white",
             "linecolor": "white",
             "minorgridcolor": "white",
             "startlinecolor": "#2a3f5f"
            },
            "baxis": {
             "endlinecolor": "#2a3f5f",
             "gridcolor": "white",
             "linecolor": "white",
             "minorgridcolor": "white",
             "startlinecolor": "#2a3f5f"
            },
            "type": "carpet"
           }
          ],
          "choropleth": [
           {
            "colorbar": {
             "outlinewidth": 0,
             "ticks": ""
            },
            "type": "choropleth"
           }
          ],
          "contour": [
           {
            "colorbar": {
             "outlinewidth": 0,
             "ticks": ""
            },
            "colorscale": [
             [
              0,
              "#0d0887"
             ],
             [
              0.1111111111111111,
              "#46039f"
             ],
             [
              0.2222222222222222,
              "#7201a8"
             ],
             [
              0.3333333333333333,
              "#9c179e"
             ],
             [
              0.4444444444444444,
              "#bd3786"
             ],
             [
              0.5555555555555556,
              "#d8576b"
             ],
             [
              0.6666666666666666,
              "#ed7953"
             ],
             [
              0.7777777777777778,
              "#fb9f3a"
             ],
             [
              0.8888888888888888,
              "#fdca26"
             ],
             [
              1,
              "#f0f921"
             ]
            ],
            "type": "contour"
           }
          ],
          "contourcarpet": [
           {
            "colorbar": {
             "outlinewidth": 0,
             "ticks": ""
            },
            "type": "contourcarpet"
           }
          ],
          "heatmap": [
           {
            "colorbar": {
             "outlinewidth": 0,
             "ticks": ""
            },
            "colorscale": [
             [
              0,
              "#0d0887"
             ],
             [
              0.1111111111111111,
              "#46039f"
             ],
             [
              0.2222222222222222,
              "#7201a8"
             ],
             [
              0.3333333333333333,
              "#9c179e"
             ],
             [
              0.4444444444444444,
              "#bd3786"
             ],
             [
              0.5555555555555556,
              "#d8576b"
             ],
             [
              0.6666666666666666,
              "#ed7953"
             ],
             [
              0.7777777777777778,
              "#fb9f3a"
             ],
             [
              0.8888888888888888,
              "#fdca26"
             ],
             [
              1,
              "#f0f921"
             ]
            ],
            "type": "heatmap"
           }
          ],
          "heatmapgl": [
           {
            "colorbar": {
             "outlinewidth": 0,
             "ticks": ""
            },
            "colorscale": [
             [
              0,
              "#0d0887"
             ],
             [
              0.1111111111111111,
              "#46039f"
             ],
             [
              0.2222222222222222,
              "#7201a8"
             ],
             [
              0.3333333333333333,
              "#9c179e"
             ],
             [
              0.4444444444444444,
              "#bd3786"
             ],
             [
              0.5555555555555556,
              "#d8576b"
             ],
             [
              0.6666666666666666,
              "#ed7953"
             ],
             [
              0.7777777777777778,
              "#fb9f3a"
             ],
             [
              0.8888888888888888,
              "#fdca26"
             ],
             [
              1,
              "#f0f921"
             ]
            ],
            "type": "heatmapgl"
           }
          ],
          "histogram": [
           {
            "marker": {
             "pattern": {
              "fillmode": "overlay",
              "size": 10,
              "solidity": 0.2
             }
            },
            "type": "histogram"
           }
          ],
          "histogram2d": [
           {
            "colorbar": {
             "outlinewidth": 0,
             "ticks": ""
            },
            "colorscale": [
             [
              0,
              "#0d0887"
             ],
             [
              0.1111111111111111,
              "#46039f"
             ],
             [
              0.2222222222222222,
              "#7201a8"
             ],
             [
              0.3333333333333333,
              "#9c179e"
             ],
             [
              0.4444444444444444,
              "#bd3786"
             ],
             [
              0.5555555555555556,
              "#d8576b"
             ],
             [
              0.6666666666666666,
              "#ed7953"
             ],
             [
              0.7777777777777778,
              "#fb9f3a"
             ],
             [
              0.8888888888888888,
              "#fdca26"
             ],
             [
              1,
              "#f0f921"
             ]
            ],
            "type": "histogram2d"
           }
          ],
          "histogram2dcontour": [
           {
            "colorbar": {
             "outlinewidth": 0,
             "ticks": ""
            },
            "colorscale": [
             [
              0,
              "#0d0887"
             ],
             [
              0.1111111111111111,
              "#46039f"
             ],
             [
              0.2222222222222222,
              "#7201a8"
             ],
             [
              0.3333333333333333,
              "#9c179e"
             ],
             [
              0.4444444444444444,
              "#bd3786"
             ],
             [
              0.5555555555555556,
              "#d8576b"
             ],
             [
              0.6666666666666666,
              "#ed7953"
             ],
             [
              0.7777777777777778,
              "#fb9f3a"
             ],
             [
              0.8888888888888888,
              "#fdca26"
             ],
             [
              1,
              "#f0f921"
             ]
            ],
            "type": "histogram2dcontour"
           }
          ],
          "mesh3d": [
           {
            "colorbar": {
             "outlinewidth": 0,
             "ticks": ""
            },
            "type": "mesh3d"
           }
          ],
          "parcoords": [
           {
            "line": {
             "colorbar": {
              "outlinewidth": 0,
              "ticks": ""
             }
            },
            "type": "parcoords"
           }
          ],
          "pie": [
           {
            "automargin": true,
            "type": "pie"
           }
          ],
          "scatter": [
           {
            "fillpattern": {
             "fillmode": "overlay",
             "size": 10,
             "solidity": 0.2
            },
            "type": "scatter"
           }
          ],
          "scatter3d": [
           {
            "line": {
             "colorbar": {
              "outlinewidth": 0,
              "ticks": ""
             }
            },
            "marker": {
             "colorbar": {
              "outlinewidth": 0,
              "ticks": ""
             }
            },
            "type": "scatter3d"
           }
          ],
          "scattercarpet": [
           {
            "marker": {
             "colorbar": {
              "outlinewidth": 0,
              "ticks": ""
             }
            },
            "type": "scattercarpet"
           }
          ],
          "scattergeo": [
           {
            "marker": {
             "colorbar": {
              "outlinewidth": 0,
              "ticks": ""
             }
            },
            "type": "scattergeo"
           }
          ],
          "scattergl": [
           {
            "marker": {
             "colorbar": {
              "outlinewidth": 0,
              "ticks": ""
             }
            },
            "type": "scattergl"
           }
          ],
          "scattermapbox": [
           {
            "marker": {
             "colorbar": {
              "outlinewidth": 0,
              "ticks": ""
             }
            },
            "type": "scattermapbox"
           }
          ],
          "scatterpolar": [
           {
            "marker": {
             "colorbar": {
              "outlinewidth": 0,
              "ticks": ""
             }
            },
            "type": "scatterpolar"
           }
          ],
          "scatterpolargl": [
           {
            "marker": {
             "colorbar": {
              "outlinewidth": 0,
              "ticks": ""
             }
            },
            "type": "scatterpolargl"
           }
          ],
          "scatterternary": [
           {
            "marker": {
             "colorbar": {
              "outlinewidth": 0,
              "ticks": ""
             }
            },
            "type": "scatterternary"
           }
          ],
          "surface": [
           {
            "colorbar": {
             "outlinewidth": 0,
             "ticks": ""
            },
            "colorscale": [
             [
              0,
              "#0d0887"
             ],
             [
              0.1111111111111111,
              "#46039f"
             ],
             [
              0.2222222222222222,
              "#7201a8"
             ],
             [
              0.3333333333333333,
              "#9c179e"
             ],
             [
              0.4444444444444444,
              "#bd3786"
             ],
             [
              0.5555555555555556,
              "#d8576b"
             ],
             [
              0.6666666666666666,
              "#ed7953"
             ],
             [
              0.7777777777777778,
              "#fb9f3a"
             ],
             [
              0.8888888888888888,
              "#fdca26"
             ],
             [
              1,
              "#f0f921"
             ]
            ],
            "type": "surface"
           }
          ],
          "table": [
           {
            "cells": {
             "fill": {
              "color": "#EBF0F8"
             },
             "line": {
              "color": "white"
             }
            },
            "header": {
             "fill": {
              "color": "#C8D4E3"
             },
             "line": {
              "color": "white"
             }
            },
            "type": "table"
           }
          ]
         },
         "layout": {
          "annotationdefaults": {
           "arrowcolor": "#2a3f5f",
           "arrowhead": 0,
           "arrowwidth": 1
          },
          "autotypenumbers": "strict",
          "coloraxis": {
           "colorbar": {
            "outlinewidth": 0,
            "ticks": ""
           }
          },
          "colorscale": {
           "diverging": [
            [
             0,
             "#8e0152"
            ],
            [
             0.1,
             "#c51b7d"
            ],
            [
             0.2,
             "#de77ae"
            ],
            [
             0.3,
             "#f1b6da"
            ],
            [
             0.4,
             "#fde0ef"
            ],
            [
             0.5,
             "#f7f7f7"
            ],
            [
             0.6,
             "#e6f5d0"
            ],
            [
             0.7,
             "#b8e186"
            ],
            [
             0.8,
             "#7fbc41"
            ],
            [
             0.9,
             "#4d9221"
            ],
            [
             1,
             "#276419"
            ]
           ],
           "sequential": [
            [
             0,
             "#0d0887"
            ],
            [
             0.1111111111111111,
             "#46039f"
            ],
            [
             0.2222222222222222,
             "#7201a8"
            ],
            [
             0.3333333333333333,
             "#9c179e"
            ],
            [
             0.4444444444444444,
             "#bd3786"
            ],
            [
             0.5555555555555556,
             "#d8576b"
            ],
            [
             0.6666666666666666,
             "#ed7953"
            ],
            [
             0.7777777777777778,
             "#fb9f3a"
            ],
            [
             0.8888888888888888,
             "#fdca26"
            ],
            [
             1,
             "#f0f921"
            ]
           ],
           "sequentialminus": [
            [
             0,
             "#0d0887"
            ],
            [
             0.1111111111111111,
             "#46039f"
            ],
            [
             0.2222222222222222,
             "#7201a8"
            ],
            [
             0.3333333333333333,
             "#9c179e"
            ],
            [
             0.4444444444444444,
             "#bd3786"
            ],
            [
             0.5555555555555556,
             "#d8576b"
            ],
            [
             0.6666666666666666,
             "#ed7953"
            ],
            [
             0.7777777777777778,
             "#fb9f3a"
            ],
            [
             0.8888888888888888,
             "#fdca26"
            ],
            [
             1,
             "#f0f921"
            ]
           ]
          },
          "colorway": [
           "#636efa",
           "#EF553B",
           "#00cc96",
           "#ab63fa",
           "#FFA15A",
           "#19d3f3",
           "#FF6692",
           "#B6E880",
           "#FF97FF",
           "#FECB52"
          ],
          "font": {
           "color": "#2a3f5f"
          },
          "geo": {
           "bgcolor": "white",
           "lakecolor": "white",
           "landcolor": "#E5ECF6",
           "showlakes": true,
           "showland": true,
           "subunitcolor": "white"
          },
          "hoverlabel": {
           "align": "left"
          },
          "hovermode": "closest",
          "mapbox": {
           "style": "light"
          },
          "paper_bgcolor": "white",
          "plot_bgcolor": "#E5ECF6",
          "polar": {
           "angularaxis": {
            "gridcolor": "white",
            "linecolor": "white",
            "ticks": ""
           },
           "bgcolor": "#E5ECF6",
           "radialaxis": {
            "gridcolor": "white",
            "linecolor": "white",
            "ticks": ""
           }
          },
          "scene": {
           "xaxis": {
            "backgroundcolor": "#E5ECF6",
            "gridcolor": "white",
            "gridwidth": 2,
            "linecolor": "white",
            "showbackground": true,
            "ticks": "",
            "zerolinecolor": "white"
           },
           "yaxis": {
            "backgroundcolor": "#E5ECF6",
            "gridcolor": "white",
            "gridwidth": 2,
            "linecolor": "white",
            "showbackground": true,
            "ticks": "",
            "zerolinecolor": "white"
           },
           "zaxis": {
            "backgroundcolor": "#E5ECF6",
            "gridcolor": "white",
            "gridwidth": 2,
            "linecolor": "white",
            "showbackground": true,
            "ticks": "",
            "zerolinecolor": "white"
           }
          },
          "shapedefaults": {
           "line": {
            "color": "#2a3f5f"
           }
          },
          "ternary": {
           "aaxis": {
            "gridcolor": "white",
            "linecolor": "white",
            "ticks": ""
           },
           "baxis": {
            "gridcolor": "white",
            "linecolor": "white",
            "ticks": ""
           },
           "bgcolor": "#E5ECF6",
           "caxis": {
            "gridcolor": "white",
            "linecolor": "white",
            "ticks": ""
           }
          },
          "title": {
           "x": 0.05
          },
          "xaxis": {
           "automargin": true,
           "gridcolor": "white",
           "linecolor": "white",
           "ticks": "",
           "title": {
            "standoff": 15
           },
           "zerolinecolor": "white",
           "zerolinewidth": 2
          },
          "yaxis": {
           "automargin": true,
           "gridcolor": "white",
           "linecolor": "white",
           "ticks": "",
           "title": {
            "standoff": 15
           },
           "zerolinecolor": "white",
           "zerolinewidth": 2
          }
         }
        }
       }
      }
     },
     "metadata": {},
     "output_type": "display_data"
    }
   ],
   "source": [
    "save_display_results(\n",
    "    name_estimator,\n",
    "    best_preprocessor,\n",
    "    best_estimator,\n",
    "    best_predictions,\n",
    ")"
   ]
  },
  {
   "cell_type": "markdown",
   "metadata": {},
   "source": [
    "---\n",
    "## RandomForestRegressor\n",
    "- PCA gives worse results than LDA.\n",
    "- LDA gives the best results with MinMax + Lmax-Normalization.\n",
    "- The following results are given with a preprocess of MinMax + Lmax-Normalization + LDA:\n",
    "    - Keeping the number of trees to 200 with samples percentage per tree of 10% (for computational reasons):\n",
    "        - The best covariance estimators are EllipticEnvelope (MinCovDet) and OAS, over EmpiricalCovariance and no-shrinkage: R^2=0.3033, MSE=76.77\n",
    "        - The best \"contamination\" amount for EllipticEnvelope is 0.001, over 0.2, 0.1, 0.05, 0.0001, but the difference is minimal\n",
    "        - The only difference is that the OAS covariance estimator takes much less time to compute instead of EllipticEnvelope\n",
    "    - Incrementing the number of trees (500) and reducing the percentage of samples per tree (2.5%) (for computational reasons), the results were a bit worse but very similar\n",
    "    - Decrementing the number of trees (5) with samples percentage per tree of 100%, the results are far worse (R^2=0.16, MSE=92)\n",
    "- Therefore the best combination is:\n",
    "    - MinMax preprocess + l-max-Normalization + LDA preprocess with OAS covariance estimator and \"eigen\" as solver\n",
    "    - RandomForest with 200 estimators and 100% of sample per estimator: R^2=0.3195, MSE=74.98\n",
    "    - There is a very big downside with this configuration: it is more than 2GB of model size, in comparison with the 328MB of the same model but with 0.1% of samples per tree (the results are the one above)."
   ]
  },
  {
   "cell_type": "code",
   "execution_count": 191,
   "metadata": {},
   "outputs": [
    {
     "name": "stdout",
     "output_type": "stream",
     "text": [
      "Best:\n",
      "\tmin-max + l1 + lda + nystroem data\n",
      "\tParams: {'lda__covariance_estimator': OAS(), 'lda__solver': 'eigen', 'nys__gamma': 0.01, 'nys__n_components': 1000, 'rf__criterion': 'squared_error', 'rf__max_samples': 1, 'rf__n_estimators': 1}\n",
      "\tR^2: -2.736753388248617\n",
      "\tMSE: 411.316622377345\n"
     ]
    }
   ],
   "source": [
    "param_estimator = {\n",
    "    \"rf__max_samples\": [1.0],\n",
    "    \"rf__criterion\": [\"squared_error\"],\n",
    "    \"rf__n_estimators\": [200],\n",
    "}\n",
    "\n",
    "name_estimator = \"rf\"\n",
    "\n",
    "best_preprocessor, best_estimator, best_predictions = gridSearch(\n",
    "    name_estimator,\n",
    "    RandomForestRegressor(n_jobs=-1),\n",
    "    param_estimator,\n",
    "    False,\n",
    ")"
   ]
  },
  {
   "cell_type": "code",
   "execution_count": 192,
   "metadata": {},
   "outputs": [
    {
     "data": {
      "text/html": [
       "<style type=\"text/css\">\n",
       "</style>\n",
       "<table id=\"T_a145c\">\n",
       "  <thead>\n",
       "    <tr>\n",
       "      <th class=\"blank level0\" >&nbsp;</th>\n",
       "      <th id=\"T_a145c_level0_col0\" class=\"col_heading level0 col0\" >rf__criterion</th>\n",
       "      <th id=\"T_a145c_level0_col1\" class=\"col_heading level0 col1\" >rf__max_samples</th>\n",
       "      <th id=\"T_a145c_level0_col2\" class=\"col_heading level0 col2\" >rf__n_estimators</th>\n",
       "      <th id=\"T_a145c_level0_col3\" class=\"col_heading level0 col3\" >preprocess</th>\n",
       "      <th id=\"T_a145c_level0_col4\" class=\"col_heading level0 col4\" >pca__n_components</th>\n",
       "      <th id=\"T_a145c_level0_col5\" class=\"col_heading level0 col5\" >pca__svd_solver</th>\n",
       "      <th id=\"T_a145c_level0_col6\" class=\"col_heading level0 col6\" >pca__whiten</th>\n",
       "      <th id=\"T_a145c_level0_col7\" class=\"col_heading level0 col7\" >lda__covariance_estimator</th>\n",
       "      <th id=\"T_a145c_level0_col8\" class=\"col_heading level0 col8\" >lda__shrinkage</th>\n",
       "      <th id=\"T_a145c_level0_col9\" class=\"col_heading level0 col9\" >lda__solver</th>\n",
       "      <th id=\"T_a145c_level0_col10\" class=\"col_heading level0 col10\" >MSE</th>\n",
       "      <th id=\"T_a145c_level0_col11\" class=\"col_heading level0 col11\" >R^2</th>\n",
       "    </tr>\n",
       "  </thead>\n",
       "  <tbody>\n",
       "    <tr>\n",
       "      <th id=\"T_a145c_level0_row0\" class=\"row_heading level0 row0\" >15</th>\n",
       "      <td id=\"T_a145c_row0_col0\" class=\"data row0 col0\" >squared_error</td>\n",
       "      <td id=\"T_a145c_row0_col1\" class=\"data row0 col1\" >1.0000000</td>\n",
       "      <td id=\"T_a145c_row0_col2\" class=\"data row0 col2\" >200.0000000</td>\n",
       "      <td id=\"T_a145c_row0_col3\" class=\"data row0 col3\" >min-max + lmax + lda</td>\n",
       "      <td id=\"T_a145c_row0_col4\" class=\"data row0 col4\" >nan</td>\n",
       "      <td id=\"T_a145c_row0_col5\" class=\"data row0 col5\" >nan</td>\n",
       "      <td id=\"T_a145c_row0_col6\" class=\"data row0 col6\" >nan</td>\n",
       "      <td id=\"T_a145c_row0_col7\" class=\"data row0 col7\" >OAS()</td>\n",
       "      <td id=\"T_a145c_row0_col8\" class=\"data row0 col8\" >nan</td>\n",
       "      <td id=\"T_a145c_row0_col9\" class=\"data row0 col9\" >eigen</td>\n",
       "      <td id=\"T_a145c_row0_col10\" class=\"data row0 col10\" >74.7329429</td>\n",
       "      <td id=\"T_a145c_row0_col11\" class=\"data row0 col11\" >0.3210618</td>\n",
       "    </tr>\n",
       "    <tr>\n",
       "      <th id=\"T_a145c_level0_row1\" class=\"row_heading level0 row1\" >13</th>\n",
       "      <td id=\"T_a145c_row1_col0\" class=\"data row1 col0\" >squared_error</td>\n",
       "      <td id=\"T_a145c_row1_col1\" class=\"data row1 col1\" >0.2500000</td>\n",
       "      <td id=\"T_a145c_row1_col2\" class=\"data row1 col2\" >500.0000000</td>\n",
       "      <td id=\"T_a145c_row1_col3\" class=\"data row1 col3\" >min-max + lmax + lda</td>\n",
       "      <td id=\"T_a145c_row1_col4\" class=\"data row1 col4\" >nan</td>\n",
       "      <td id=\"T_a145c_row1_col5\" class=\"data row1 col5\" >nan</td>\n",
       "      <td id=\"T_a145c_row1_col6\" class=\"data row1 col6\" >nan</td>\n",
       "      <td id=\"T_a145c_row1_col7\" class=\"data row1 col7\" >OAS()</td>\n",
       "      <td id=\"T_a145c_row1_col8\" class=\"data row1 col8\" >nan</td>\n",
       "      <td id=\"T_a145c_row1_col9\" class=\"data row1 col9\" >eigen</td>\n",
       "      <td id=\"T_a145c_row1_col10\" class=\"data row1 col10\" >75.1682140</td>\n",
       "      <td id=\"T_a145c_row1_col11\" class=\"data row1 col11\" >0.3171074</td>\n",
       "    </tr>\n",
       "    <tr>\n",
       "      <th id=\"T_a145c_level0_row2\" class=\"row_heading level0 row2\" >9</th>\n",
       "      <td id=\"T_a145c_row2_col0\" class=\"data row2 col0\" >squared_error</td>\n",
       "      <td id=\"T_a145c_row2_col1\" class=\"data row2 col1\" >0.1000000</td>\n",
       "      <td id=\"T_a145c_row2_col2\" class=\"data row2 col2\" >200.0000000</td>\n",
       "      <td id=\"T_a145c_row2_col3\" class=\"data row2 col3\" >min-max + lmax + lda</td>\n",
       "      <td id=\"T_a145c_row2_col4\" class=\"data row2 col4\" >nan</td>\n",
       "      <td id=\"T_a145c_row2_col5\" class=\"data row2 col5\" >nan</td>\n",
       "      <td id=\"T_a145c_row2_col6\" class=\"data row2 col6\" >nan</td>\n",
       "      <td id=\"T_a145c_row2_col7\" class=\"data row2 col7\" >OAS()</td>\n",
       "      <td id=\"T_a145c_row2_col8\" class=\"data row2 col8\" >nan</td>\n",
       "      <td id=\"T_a145c_row2_col9\" class=\"data row2 col9\" >eigen</td>\n",
       "      <td id=\"T_a145c_row2_col10\" class=\"data row2 col10\" >76.2823513</td>\n",
       "      <td id=\"T_a145c_row2_col11\" class=\"data row2 col11\" >0.3069856</td>\n",
       "    </tr>\n",
       "    <tr>\n",
       "      <th id=\"T_a145c_level0_row3\" class=\"row_heading level0 row3\" >6</th>\n",
       "      <td id=\"T_a145c_row3_col0\" class=\"data row3 col0\" >squared_error</td>\n",
       "      <td id=\"T_a145c_row3_col1\" class=\"data row3 col1\" >0.1000000</td>\n",
       "      <td id=\"T_a145c_row3_col2\" class=\"data row3 col2\" >200.0000000</td>\n",
       "      <td id=\"T_a145c_row3_col3\" class=\"data row3 col3\" >min-max + lda</td>\n",
       "      <td id=\"T_a145c_row3_col4\" class=\"data row3 col4\" >nan</td>\n",
       "      <td id=\"T_a145c_row3_col5\" class=\"data row3 col5\" >nan</td>\n",
       "      <td id=\"T_a145c_row3_col6\" class=\"data row3 col6\" >nan</td>\n",
       "      <td id=\"T_a145c_row3_col7\" class=\"data row3 col7\" >OAS()</td>\n",
       "      <td id=\"T_a145c_row3_col8\" class=\"data row3 col8\" >nan</td>\n",
       "      <td id=\"T_a145c_row3_col9\" class=\"data row3 col9\" >eigen</td>\n",
       "      <td id=\"T_a145c_row3_col10\" class=\"data row3 col10\" >76.6464378</td>\n",
       "      <td id=\"T_a145c_row3_col11\" class=\"data row3 col11\" >0.3036779</td>\n",
       "    </tr>\n",
       "    <tr>\n",
       "      <th id=\"T_a145c_level0_row4\" class=\"row_heading level0 row4\" >12</th>\n",
       "      <td id=\"T_a145c_row4_col0\" class=\"data row4 col0\" >squared_error</td>\n",
       "      <td id=\"T_a145c_row4_col1\" class=\"data row4 col1\" >0.1000000</td>\n",
       "      <td id=\"T_a145c_row4_col2\" class=\"data row4 col2\" >200.0000000</td>\n",
       "      <td id=\"T_a145c_row4_col3\" class=\"data row4 col3\" >min-max + lmax + lda</td>\n",
       "      <td id=\"T_a145c_row4_col4\" class=\"data row4 col4\" >nan</td>\n",
       "      <td id=\"T_a145c_row4_col5\" class=\"data row4 col5\" >nan</td>\n",
       "      <td id=\"T_a145c_row4_col6\" class=\"data row4 col6\" >nan</td>\n",
       "      <td id=\"T_a145c_row4_col7\" class=\"data row4 col7\" >EllipticEnvelope(contamination=0.001, random_state=42)</td>\n",
       "      <td id=\"T_a145c_row4_col8\" class=\"data row4 col8\" >nan</td>\n",
       "      <td id=\"T_a145c_row4_col9\" class=\"data row4 col9\" >eigen</td>\n",
       "      <td id=\"T_a145c_row4_col10\" class=\"data row4 col10\" >76.7616914</td>\n",
       "      <td id=\"T_a145c_row4_col11\" class=\"data row4 col11\" >0.3026309</td>\n",
       "    </tr>\n",
       "    <tr>\n",
       "      <th id=\"T_a145c_level0_row5\" class=\"row_heading level0 row5\" >11</th>\n",
       "      <td id=\"T_a145c_row5_col0\" class=\"data row5 col0\" >squared_error</td>\n",
       "      <td id=\"T_a145c_row5_col1\" class=\"data row5 col1\" >0.1000000</td>\n",
       "      <td id=\"T_a145c_row5_col2\" class=\"data row5 col2\" >200.0000000</td>\n",
       "      <td id=\"T_a145c_row5_col3\" class=\"data row5 col3\" >min-max + lmax + lda</td>\n",
       "      <td id=\"T_a145c_row5_col4\" class=\"data row5 col4\" >nan</td>\n",
       "      <td id=\"T_a145c_row5_col5\" class=\"data row5 col5\" >nan</td>\n",
       "      <td id=\"T_a145c_row5_col6\" class=\"data row5 col6\" >nan</td>\n",
       "      <td id=\"T_a145c_row5_col7\" class=\"data row5 col7\" >EmpiricalCovariance()</td>\n",
       "      <td id=\"T_a145c_row5_col8\" class=\"data row5 col8\" >nan</td>\n",
       "      <td id=\"T_a145c_row5_col9\" class=\"data row5 col9\" >eigen</td>\n",
       "      <td id=\"T_a145c_row5_col10\" class=\"data row5 col10\" >76.9040794</td>\n",
       "      <td id=\"T_a145c_row5_col11\" class=\"data row5 col11\" >0.3013373</td>\n",
       "    </tr>\n",
       "    <tr>\n",
       "      <th id=\"T_a145c_level0_row6\" class=\"row_heading level0 row6\" >8</th>\n",
       "      <td id=\"T_a145c_row6_col0\" class=\"data row6 col0\" >squared_error</td>\n",
       "      <td id=\"T_a145c_row6_col1\" class=\"data row6 col1\" >0.1000000</td>\n",
       "      <td id=\"T_a145c_row6_col2\" class=\"data row6 col2\" >200.0000000</td>\n",
       "      <td id=\"T_a145c_row6_col3\" class=\"data row6 col3\" >min-max + lda</td>\n",
       "      <td id=\"T_a145c_row6_col4\" class=\"data row6 col4\" >nan</td>\n",
       "      <td id=\"T_a145c_row6_col5\" class=\"data row6 col5\" >nan</td>\n",
       "      <td id=\"T_a145c_row6_col6\" class=\"data row6 col6\" >nan</td>\n",
       "      <td id=\"T_a145c_row6_col7\" class=\"data row6 col7\" >EllipticEnvelope(contamination=0.001, random_state=42)</td>\n",
       "      <td id=\"T_a145c_row6_col8\" class=\"data row6 col8\" >nan</td>\n",
       "      <td id=\"T_a145c_row6_col9\" class=\"data row6 col9\" >eigen</td>\n",
       "      <td id=\"T_a145c_row6_col10\" class=\"data row6 col10\" >76.9266211</td>\n",
       "      <td id=\"T_a145c_row6_col11\" class=\"data row6 col11\" >0.3011325</td>\n",
       "    </tr>\n",
       "    <tr>\n",
       "      <th id=\"T_a145c_level0_row7\" class=\"row_heading level0 row7\" >10</th>\n",
       "      <td id=\"T_a145c_row7_col0\" class=\"data row7 col0\" >squared_error</td>\n",
       "      <td id=\"T_a145c_row7_col1\" class=\"data row7 col1\" >0.1000000</td>\n",
       "      <td id=\"T_a145c_row7_col2\" class=\"data row7 col2\" >200.0000000</td>\n",
       "      <td id=\"T_a145c_row7_col3\" class=\"data row7 col3\" >min-max + lmax + lda</td>\n",
       "      <td id=\"T_a145c_row7_col4\" class=\"data row7 col4\" >nan</td>\n",
       "      <td id=\"T_a145c_row7_col5\" class=\"data row7 col5\" >nan</td>\n",
       "      <td id=\"T_a145c_row7_col6\" class=\"data row7 col6\" >nan</td>\n",
       "      <td id=\"T_a145c_row7_col7\" class=\"data row7 col7\" >nan</td>\n",
       "      <td id=\"T_a145c_row7_col8\" class=\"data row7 col8\" >nan</td>\n",
       "      <td id=\"T_a145c_row7_col9\" class=\"data row7 col9\" >eigen</td>\n",
       "      <td id=\"T_a145c_row7_col10\" class=\"data row7 col10\" >77.0583812</td>\n",
       "      <td id=\"T_a145c_row7_col11\" class=\"data row7 col11\" >0.2999355</td>\n",
       "    </tr>\n",
       "    <tr>\n",
       "      <th id=\"T_a145c_level0_row8\" class=\"row_heading level0 row8\" >5</th>\n",
       "      <td id=\"T_a145c_row8_col0\" class=\"data row8 col0\" >squared_error</td>\n",
       "      <td id=\"T_a145c_row8_col1\" class=\"data row8 col1\" >0.1000000</td>\n",
       "      <td id=\"T_a145c_row8_col2\" class=\"data row8 col2\" >200.0000000</td>\n",
       "      <td id=\"T_a145c_row8_col3\" class=\"data row8 col3\" >min-max + lda</td>\n",
       "      <td id=\"T_a145c_row8_col4\" class=\"data row8 col4\" >nan</td>\n",
       "      <td id=\"T_a145c_row8_col5\" class=\"data row8 col5\" >nan</td>\n",
       "      <td id=\"T_a145c_row8_col6\" class=\"data row8 col6\" >nan</td>\n",
       "      <td id=\"T_a145c_row8_col7\" class=\"data row8 col7\" >nan</td>\n",
       "      <td id=\"T_a145c_row8_col8\" class=\"data row8 col8\" >nan</td>\n",
       "      <td id=\"T_a145c_row8_col9\" class=\"data row8 col9\" >eigen</td>\n",
       "      <td id=\"T_a145c_row8_col10\" class=\"data row8 col10\" >77.2597685</td>\n",
       "      <td id=\"T_a145c_row8_col11\" class=\"data row8 col11\" >0.2981059</td>\n",
       "    </tr>\n",
       "    <tr>\n",
       "      <th id=\"T_a145c_level0_row9\" class=\"row_heading level0 row9\" >7</th>\n",
       "      <td id=\"T_a145c_row9_col0\" class=\"data row9 col0\" >squared_error</td>\n",
       "      <td id=\"T_a145c_row9_col1\" class=\"data row9 col1\" >0.1000000</td>\n",
       "      <td id=\"T_a145c_row9_col2\" class=\"data row9 col2\" >200.0000000</td>\n",
       "      <td id=\"T_a145c_row9_col3\" class=\"data row9 col3\" >min-max + lda</td>\n",
       "      <td id=\"T_a145c_row9_col4\" class=\"data row9 col4\" >nan</td>\n",
       "      <td id=\"T_a145c_row9_col5\" class=\"data row9 col5\" >nan</td>\n",
       "      <td id=\"T_a145c_row9_col6\" class=\"data row9 col6\" >nan</td>\n",
       "      <td id=\"T_a145c_row9_col7\" class=\"data row9 col7\" >EmpiricalCovariance()</td>\n",
       "      <td id=\"T_a145c_row9_col8\" class=\"data row9 col8\" >nan</td>\n",
       "      <td id=\"T_a145c_row9_col9\" class=\"data row9 col9\" >eigen</td>\n",
       "      <td id=\"T_a145c_row9_col10\" class=\"data row9 col10\" >77.2882143</td>\n",
       "      <td id=\"T_a145c_row9_col11\" class=\"data row9 col11\" >0.2978475</td>\n",
       "    </tr>\n",
       "    <tr>\n",
       "      <th id=\"T_a145c_level0_row10\" class=\"row_heading level0 row10\" >16</th>\n",
       "      <td id=\"T_a145c_row10_col0\" class=\"data row10 col0\" >nan</td>\n",
       "      <td id=\"T_a145c_row10_col1\" class=\"data row10 col1\" >nan</td>\n",
       "      <td id=\"T_a145c_row10_col2\" class=\"data row10 col2\" >nan</td>\n",
       "      <td id=\"T_a145c_row10_col3\" class=\"data row10 col3\" >raw</td>\n",
       "      <td id=\"T_a145c_row10_col4\" class=\"data row10 col4\" >nan</td>\n",
       "      <td id=\"T_a145c_row10_col5\" class=\"data row10 col5\" >nan</td>\n",
       "      <td id=\"T_a145c_row10_col6\" class=\"data row10 col6\" >nan</td>\n",
       "      <td id=\"T_a145c_row10_col7\" class=\"data row10 col7\" >nan</td>\n",
       "      <td id=\"T_a145c_row10_col8\" class=\"data row10 col8\" >nan</td>\n",
       "      <td id=\"T_a145c_row10_col9\" class=\"data row10 col9\" >nan</td>\n",
       "      <td id=\"T_a145c_row10_col10\" class=\"data row10 col10\" >77.6018971</td>\n",
       "      <td id=\"T_a145c_row10_col11\" class=\"data row10 col11\" >0.2949977</td>\n",
       "    </tr>\n",
       "    <tr>\n",
       "      <th id=\"T_a145c_level0_row11\" class=\"row_heading level0 row11\" >1</th>\n",
       "      <td id=\"T_a145c_row11_col0\" class=\"data row11 col0\" >squared_error</td>\n",
       "      <td id=\"T_a145c_row11_col1\" class=\"data row11 col1\" >0.1000000</td>\n",
       "      <td id=\"T_a145c_row11_col2\" class=\"data row11 col2\" >200.0000000</td>\n",
       "      <td id=\"T_a145c_row11_col3\" class=\"data row11 col3\" >std-scaled</td>\n",
       "      <td id=\"T_a145c_row11_col4\" class=\"data row11 col4\" >nan</td>\n",
       "      <td id=\"T_a145c_row11_col5\" class=\"data row11 col5\" >nan</td>\n",
       "      <td id=\"T_a145c_row11_col6\" class=\"data row11 col6\" >nan</td>\n",
       "      <td id=\"T_a145c_row11_col7\" class=\"data row11 col7\" >nan</td>\n",
       "      <td id=\"T_a145c_row11_col8\" class=\"data row11 col8\" >nan</td>\n",
       "      <td id=\"T_a145c_row11_col9\" class=\"data row11 col9\" >nan</td>\n",
       "      <td id=\"T_a145c_row11_col10\" class=\"data row11 col10\" >80.0427908</td>\n",
       "      <td id=\"T_a145c_row11_col11\" class=\"data row11 col11\" >0.2728226</td>\n",
       "    </tr>\n",
       "    <tr>\n",
       "      <th id=\"T_a145c_level0_row12\" class=\"row_heading level0 row12\" >2</th>\n",
       "      <td id=\"T_a145c_row12_col0\" class=\"data row12 col0\" >squared_error</td>\n",
       "      <td id=\"T_a145c_row12_col1\" class=\"data row12 col1\" >0.1000000</td>\n",
       "      <td id=\"T_a145c_row12_col2\" class=\"data row12 col2\" >200.0000000</td>\n",
       "      <td id=\"T_a145c_row12_col3\" class=\"data row12 col3\" >min-maxed</td>\n",
       "      <td id=\"T_a145c_row12_col4\" class=\"data row12 col4\" >nan</td>\n",
       "      <td id=\"T_a145c_row12_col5\" class=\"data row12 col5\" >nan</td>\n",
       "      <td id=\"T_a145c_row12_col6\" class=\"data row12 col6\" >nan</td>\n",
       "      <td id=\"T_a145c_row12_col7\" class=\"data row12 col7\" >nan</td>\n",
       "      <td id=\"T_a145c_row12_col8\" class=\"data row12 col8\" >nan</td>\n",
       "      <td id=\"T_a145c_row12_col9\" class=\"data row12 col9\" >nan</td>\n",
       "      <td id=\"T_a145c_row12_col10\" class=\"data row12 col10\" >80.1589672</td>\n",
       "      <td id=\"T_a145c_row12_col11\" class=\"data row12 col11\" >0.2717671</td>\n",
       "    </tr>\n",
       "    <tr>\n",
       "      <th id=\"T_a145c_level0_row13\" class=\"row_heading level0 row13\" >0</th>\n",
       "      <td id=\"T_a145c_row13_col0\" class=\"data row13 col0\" >squared_error</td>\n",
       "      <td id=\"T_a145c_row13_col1\" class=\"data row13 col1\" >0.1000000</td>\n",
       "      <td id=\"T_a145c_row13_col2\" class=\"data row13 col2\" >200.0000000</td>\n",
       "      <td id=\"T_a145c_row13_col3\" class=\"data row13 col3\" >raw</td>\n",
       "      <td id=\"T_a145c_row13_col4\" class=\"data row13 col4\" >nan</td>\n",
       "      <td id=\"T_a145c_row13_col5\" class=\"data row13 col5\" >nan</td>\n",
       "      <td id=\"T_a145c_row13_col6\" class=\"data row13 col6\" >nan</td>\n",
       "      <td id=\"T_a145c_row13_col7\" class=\"data row13 col7\" >nan</td>\n",
       "      <td id=\"T_a145c_row13_col8\" class=\"data row13 col8\" >nan</td>\n",
       "      <td id=\"T_a145c_row13_col9\" class=\"data row13 col9\" >nan</td>\n",
       "      <td id=\"T_a145c_row13_col10\" class=\"data row13 col10\" >80.1877906</td>\n",
       "      <td id=\"T_a145c_row13_col11\" class=\"data row13 col11\" >0.2715053</td>\n",
       "    </tr>\n",
       "    <tr>\n",
       "      <th id=\"T_a145c_level0_row14\" class=\"row_heading level0 row14\" >4</th>\n",
       "      <td id=\"T_a145c_row14_col0\" class=\"data row14 col0\" >squared_error</td>\n",
       "      <td id=\"T_a145c_row14_col1\" class=\"data row14 col1\" >0.1000000</td>\n",
       "      <td id=\"T_a145c_row14_col2\" class=\"data row14 col2\" >200.0000000</td>\n",
       "      <td id=\"T_a145c_row14_col3\" class=\"data row14 col3\" >min-max + pca 0.95</td>\n",
       "      <td id=\"T_a145c_row14_col4\" class=\"data row14 col4\" >0.9500000</td>\n",
       "      <td id=\"T_a145c_row14_col5\" class=\"data row14 col5\" >full</td>\n",
       "      <td id=\"T_a145c_row14_col6\" class=\"data row14 col6\" >False</td>\n",
       "      <td id=\"T_a145c_row14_col7\" class=\"data row14 col7\" >nan</td>\n",
       "      <td id=\"T_a145c_row14_col8\" class=\"data row14 col8\" >nan</td>\n",
       "      <td id=\"T_a145c_row14_col9\" class=\"data row14 col9\" >nan</td>\n",
       "      <td id=\"T_a145c_row14_col10\" class=\"data row14 col10\" >82.6245561</td>\n",
       "      <td id=\"T_a145c_row14_col11\" class=\"data row14 col11\" >0.2493676</td>\n",
       "    </tr>\n",
       "    <tr>\n",
       "      <th id=\"T_a145c_level0_row15\" class=\"row_heading level0 row15\" >3</th>\n",
       "      <td id=\"T_a145c_row15_col0\" class=\"data row15 col0\" >squared_error</td>\n",
       "      <td id=\"T_a145c_row15_col1\" class=\"data row15 col1\" >0.1000000</td>\n",
       "      <td id=\"T_a145c_row15_col2\" class=\"data row15 col2\" >200.0000000</td>\n",
       "      <td id=\"T_a145c_row15_col3\" class=\"data row15 col3\" >std-scaler + pca 0.95</td>\n",
       "      <td id=\"T_a145c_row15_col4\" class=\"data row15 col4\" >0.9500000</td>\n",
       "      <td id=\"T_a145c_row15_col5\" class=\"data row15 col5\" >full</td>\n",
       "      <td id=\"T_a145c_row15_col6\" class=\"data row15 col6\" >True</td>\n",
       "      <td id=\"T_a145c_row15_col7\" class=\"data row15 col7\" >nan</td>\n",
       "      <td id=\"T_a145c_row15_col8\" class=\"data row15 col8\" >nan</td>\n",
       "      <td id=\"T_a145c_row15_col9\" class=\"data row15 col9\" >nan</td>\n",
       "      <td id=\"T_a145c_row15_col10\" class=\"data row15 col10\" >89.6325399</td>\n",
       "      <td id=\"T_a145c_row15_col11\" class=\"data row15 col11\" >0.1857010</td>\n",
       "    </tr>\n",
       "    <tr>\n",
       "      <th id=\"T_a145c_level0_row16\" class=\"row_heading level0 row16\" >14</th>\n",
       "      <td id=\"T_a145c_row16_col0\" class=\"data row16 col0\" >squared_error</td>\n",
       "      <td id=\"T_a145c_row16_col1\" class=\"data row16 col1\" >1.0000000</td>\n",
       "      <td id=\"T_a145c_row16_col2\" class=\"data row16 col2\" >5.0000000</td>\n",
       "      <td id=\"T_a145c_row16_col3\" class=\"data row16 col3\" >min-max + lmax + lda</td>\n",
       "      <td id=\"T_a145c_row16_col4\" class=\"data row16 col4\" >nan</td>\n",
       "      <td id=\"T_a145c_row16_col5\" class=\"data row16 col5\" >nan</td>\n",
       "      <td id=\"T_a145c_row16_col6\" class=\"data row16 col6\" >nan</td>\n",
       "      <td id=\"T_a145c_row16_col7\" class=\"data row16 col7\" >OAS()</td>\n",
       "      <td id=\"T_a145c_row16_col8\" class=\"data row16 col8\" >nan</td>\n",
       "      <td id=\"T_a145c_row16_col9\" class=\"data row16 col9\" >eigen</td>\n",
       "      <td id=\"T_a145c_row16_col10\" class=\"data row16 col10\" >91.1192639</td>\n",
       "      <td id=\"T_a145c_row16_col11\" class=\"data row16 col11\" >0.1721944</td>\n",
       "    </tr>\n",
       "  </tbody>\n",
       "</table>\n"
      ],
      "text/plain": [
       "<pandas.io.formats.style.Styler at 0x224fd801ad0>"
      ]
     },
     "metadata": {},
     "output_type": "display_data"
    }
   ],
   "source": [
    "print_all_results(name_estimator)"
   ]
  },
  {
   "cell_type": "code",
   "execution_count": 193,
   "metadata": {},
   "outputs": [
    {
     "data": {
      "image/png": "[encoded data removed]",
      "text/plain": [
       "<Figure size 1000x1000 with 2 Axes>"
      ]
     },
     "metadata": {},
     "output_type": "display_data"
    },
    {
     "data": {
      "application/vnd.plotly.v1+json": {
       "config": {
        "plotlyServerURL": "https://plot.ly"
       },
       "data": [
        {
         "dimensions": [
          {
           "label": "rf__criterion",
           "ticktext": [
            "squared_error",
            "None"
           ],
           "tickvals": [
            0,
            1
           ],
           "values": [
            0,
            0,
            0,
            0,
            0,
            0,
            0,
            0,
            0,
            0,
            0,
            0,
            0,
            0,
            0,
            0,
            1
           ]
          },
          {
           "label": "rf__max_samples",
           "ticktext": [
            0.1,
            0.25,
            1,
            "None"
           ],
           "tickvals": [
            0,
            1,
            2,
            3
           ],
           "values": [
            0,
            0,
            0,
            0,
            0,
            0,
            0,
            0,
            0,
            0,
            0,
            0,
            0,
            1,
            2,
            2,
            3
           ]
          },
          {
           "label": "rf__n_estimators",
           "ticktext": [
            200,
            500,
            5,
            "None"
           ],
           "tickvals": [
            0,
            1,
            2,
            3
           ],
           "values": [
            0,
            0,
            0,
            0,
            0,
            0,
            0,
            0,
            0,
            0,
            0,
            0,
            0,
            1,
            2,
            0,
            3
           ]
          },
          {
           "label": "preprocess",
           "ticktext": [
            "raw",
            "std-scaled",
            "min-maxed",
            "std-scaler + pca 0.95",
            "min-max + pca 0.95",
            "min-max + lda",
            "min-max + lmax + lda"
           ],
           "tickvals": [
            0,
            1,
            2,
            3,
            4,
            5,
            6
           ],
           "values": [
            0,
            1,
            2,
            3,
            4,
            5,
            5,
            5,
            5,
            6,
            6,
            6,
            6,
            6,
            6,
            6,
            0
           ]
          },
          {
           "label": "pca__n_components",
           "ticktext": [
            "None",
            0.95
           ],
           "tickvals": [
            0,
            1
           ],
           "values": [
            0,
            0,
            0,
            1,
            1,
            0,
            0,
            0,
            0,
            0,
            0,
            0,
            0,
            0,
            0,
            0,
            0
           ]
          },
          {
           "label": "pca__svd_solver",
           "ticktext": [
            "None",
            "full"
           ],
           "tickvals": [
            0,
            1
           ],
           "values": [
            0,
            0,
            0,
            1,
            1,
            0,
            0,
            0,
            0,
            0,
            0,
            0,
            0,
            0,
            0,
            0,
            0
           ]
          },
          {
           "label": "pca__whiten",
           "ticktext": [
            "None",
            true,
            false
           ],
           "tickvals": [
            0,
            1,
            2
           ],
           "values": [
            0,
            0,
            0,
            1,
            2,
            0,
            0,
            0,
            0,
            0,
            0,
            0,
            0,
            0,
            0,
            0,
            0
           ]
          },
          {
           "label": "lda__covariance_estimator",
           "ticktext": [
            "None",
            "OAS()",
            "EmpiricalCovariance()",
            "EllipticEnvelope(contamination=0.001, random_state=42)"
           ],
           "tickvals": [
            0,
            1,
            2,
            3
           ],
           "values": [
            0,
            0,
            0,
            0,
            0,
            0,
            1,
            2,
            3,
            1,
            0,
            2,
            3,
            1,
            1,
            1,
            0
           ]
          },
          {
           "label": "lda__shrinkage",
           "ticktext": [
            "None"
           ],
           "tickvals": [
            0
           ],
           "values": [
            0,
            0,
            0,
            0,
            0,
            0,
            0,
            0,
            0,
            0,
            0,
            0,
            0,
            0,
            0,
            0,
            0
           ]
          },
          {
           "label": "lda__solver",
           "ticktext": [
            "None",
            "eigen"
           ],
           "tickvals": [
            0,
            1
           ],
           "values": [
            0,
            0,
            0,
            0,
            0,
            1,
            1,
            1,
            1,
            1,
            1,
            1,
            1,
            1,
            1,
            1,
            0
           ]
          },
          {
           "label": "R^2",
           "tickvals": [
            0.17,
            0.19,
            0.21,
            0.23,
            0.26,
            0.28,
            0.3,
            0.32
           ],
           "values": [
            0.27,
            0.27,
            0.27,
            0.19,
            0.25,
            0.3,
            0.3,
            0.3,
            0.3,
            0.31,
            0.3,
            0.3,
            0.3,
            0.32,
            0.17,
            0.32,
            0.29
           ]
          },
          {
           "label": "MSE",
           "tickvals": [
            74.73,
            75.75,
            76.78,
            77.8,
            78.83,
            79.85,
            80.88,
            81.9,
            82.93,
            83.95,
            84.97,
            86,
            87.02,
            88.05,
            89.07,
            90.1,
            91.12
           ],
           "values": [
            80.19,
            80.04,
            80.16,
            89.63,
            82.62,
            77.26,
            76.65,
            77.29,
            76.93,
            76.28,
            77.06,
            76.9,
            76.76,
            75.17,
            91.12,
            74.73,
            77.6
           ]
          }
         ],
         "labelangle": -15,
         "line": {
          "color": [
           80.19,
           80.04,
           80.16,
           89.63,
           82.62,
           77.26,
           76.65,
           77.29,
           76.93,
           76.28,
           77.06,
           76.9,
           76.76,
           75.17,
           91.12,
           74.73,
           77.6
          ],
          "colorscale": [
           [
            0,
            "#440154"
           ],
           [
            0.1111111111111111,
            "#482878"
           ],
           [
            0.2222222222222222,
            "#3e4989"
           ],
           [
            0.3333333333333333,
            "#31688e"
           ],
           [
            0.4444444444444444,
            "#26828e"
           ],
           [
            0.5555555555555556,
            "#1f9e89"
           ],
           [
            0.6666666666666666,
            "#35b779"
           ],
           [
            0.7777777777777778,
            "#6ece58"
           ],
           [
            0.8888888888888888,
            "#b5de2b"
           ],
           [
            1,
            "#fde725"
           ]
          ],
          "showscale": true
         },
         "type": "parcoords"
        }
       ],
       "layout": {
        "template": {
         "data": {
          "bar": [
           {
            "error_x": {
             "color": "#2a3f5f"
            },
            "error_y": {
             "color": "#2a3f5f"
            },
            "marker": {
             "line": {
              "color": "#E5ECF6",
              "width": 0.5
             },
             "pattern": {
              "fillmode": "overlay",
              "size": 10,
              "solidity": 0.2
             }
            },
            "type": "bar"
           }
          ],
          "barpolar": [
           {
            "marker": {
             "line": {
              "color": "#E5ECF6",
              "width": 0.5
             },
             "pattern": {
              "fillmode": "overlay",
              "size": 10,
              "solidity": 0.2
             }
            },
            "type": "barpolar"
           }
          ],
          "carpet": [
           {
            "aaxis": {
             "endlinecolor": "#2a3f5f",
             "gridcolor": "white",
             "linecolor": "white",
             "minorgridcolor": "white",
             "startlinecolor": "#2a3f5f"
            },
            "baxis": {
             "endlinecolor": "#2a3f5f",
             "gridcolor": "white",
             "linecolor": "white",
             "minorgridcolor": "white",
             "startlinecolor": "#2a3f5f"
            },
            "type": "carpet"
           }
          ],
          "choropleth": [
           {
            "colorbar": {
             "outlinewidth": 0,
             "ticks": ""
            },
            "type": "choropleth"
           }
          ],
          "contour": [
           {
            "colorbar": {
             "outlinewidth": 0,
             "ticks": ""
            },
            "colorscale": [
             [
              0,
              "#0d0887"
             ],
             [
              0.1111111111111111,
              "#46039f"
             ],
             [
              0.2222222222222222,
              "#7201a8"
             ],
             [
              0.3333333333333333,
              "#9c179e"
             ],
             [
              0.4444444444444444,
              "#bd3786"
             ],
             [
              0.5555555555555556,
              "#d8576b"
             ],
             [
              0.6666666666666666,
              "#ed7953"
             ],
             [
              0.7777777777777778,
              "#fb9f3a"
             ],
             [
              0.8888888888888888,
              "#fdca26"
             ],
             [
              1,
              "#f0f921"
             ]
            ],
            "type": "contour"
           }
          ],
          "contourcarpet": [
           {
            "colorbar": {
             "outlinewidth": 0,
             "ticks": ""
            },
            "type": "contourcarpet"
           }
          ],
          "heatmap": [
           {
            "colorbar": {
             "outlinewidth": 0,
             "ticks": ""
            },
            "colorscale": [
             [
              0,
              "#0d0887"
             ],
             [
              0.1111111111111111,
              "#46039f"
             ],
             [
              0.2222222222222222,
              "#7201a8"
             ],
             [
              0.3333333333333333,
              "#9c179e"
             ],
             [
              0.4444444444444444,
              "#bd3786"
             ],
             [
              0.5555555555555556,
              "#d8576b"
             ],
             [
              0.6666666666666666,
              "#ed7953"
             ],
             [
              0.7777777777777778,
              "#fb9f3a"
             ],
             [
              0.8888888888888888,
              "#fdca26"
             ],
             [
              1,
              "#f0f921"
             ]
            ],
            "type": "heatmap"
           }
          ],
          "heatmapgl": [
           {
            "colorbar": {
             "outlinewidth": 0,
             "ticks": ""
            },
            "colorscale": [
             [
              0,
              "#0d0887"
             ],
             [
              0.1111111111111111,
              "#46039f"
             ],
             [
              0.2222222222222222,
              "#7201a8"
             ],
             [
              0.3333333333333333,
              "#9c179e"
             ],
             [
              0.4444444444444444,
              "#bd3786"
             ],
             [
              0.5555555555555556,
              "#d8576b"
             ],
             [
              0.6666666666666666,
              "#ed7953"
             ],
             [
              0.7777777777777778,
              "#fb9f3a"
             ],
             [
              0.8888888888888888,
              "#fdca26"
             ],
             [
              1,
              "#f0f921"
             ]
            ],
            "type": "heatmapgl"
           }
          ],
          "histogram": [
           {
            "marker": {
             "pattern": {
              "fillmode": "overlay",
              "size": 10,
              "solidity": 0.2
             }
            },
            "type": "histogram"
           }
          ],
          "histogram2d": [
           {
            "colorbar": {
             "outlinewidth": 0,
             "ticks": ""
            },
            "colorscale": [
             [
              0,
              "#0d0887"
             ],
             [
              0.1111111111111111,
              "#46039f"
             ],
             [
              0.2222222222222222,
              "#7201a8"
             ],
             [
              0.3333333333333333,
              "#9c179e"
             ],
             [
              0.4444444444444444,
              "#bd3786"
             ],
             [
              0.5555555555555556,
              "#d8576b"
             ],
             [
              0.6666666666666666,
              "#ed7953"
             ],
             [
              0.7777777777777778,
              "#fb9f3a"
             ],
             [
              0.8888888888888888,
              "#fdca26"
             ],
             [
              1,
              "#f0f921"
             ]
            ],
            "type": "histogram2d"
           }
          ],
          "histogram2dcontour": [
           {
            "colorbar": {
             "outlinewidth": 0,
             "ticks": ""
            },
            "colorscale": [
             [
              0,
              "#0d0887"
             ],
             [
              0.1111111111111111,
              "#46039f"
             ],
             [
              0.2222222222222222,
              "#7201a8"
             ],
             [
              0.3333333333333333,
              "#9c179e"
             ],
             [
              0.4444444444444444,
              "#bd3786"
             ],
             [
              0.5555555555555556,
              "#d8576b"
             ],
             [
              0.6666666666666666,
              "#ed7953"
             ],
             [
              0.7777777777777778,
              "#fb9f3a"
             ],
             [
              0.8888888888888888,
              "#fdca26"
             ],
             [
              1,
              "#f0f921"
             ]
            ],
            "type": "histogram2dcontour"
           }
          ],
          "mesh3d": [
           {
            "colorbar": {
             "outlinewidth": 0,
             "ticks": ""
            },
            "type": "mesh3d"
           }
          ],
          "parcoords": [
           {
            "line": {
             "colorbar": {
              "outlinewidth": 0,
              "ticks": ""
             }
            },
            "type": "parcoords"
           }
          ],
          "pie": [
           {
            "automargin": true,
            "type": "pie"
           }
          ],
          "scatter": [
           {
            "fillpattern": {
             "fillmode": "overlay",
             "size": 10,
             "solidity": 0.2
            },
            "type": "scatter"
           }
          ],
          "scatter3d": [
           {
            "line": {
             "colorbar": {
              "outlinewidth": 0,
              "ticks": ""
             }
            },
            "marker": {
             "colorbar": {
              "outlinewidth": 0,
              "ticks": ""
             }
            },
            "type": "scatter3d"
           }
          ],
          "scattercarpet": [
           {
            "marker": {
             "colorbar": {
              "outlinewidth": 0,
              "ticks": ""
             }
            },
            "type": "scattercarpet"
           }
          ],
          "scattergeo": [
           {
            "marker": {
             "colorbar": {
              "outlinewidth": 0,
              "ticks": ""
             }
            },
            "type": "scattergeo"
           }
          ],
          "scattergl": [
           {
            "marker": {
             "colorbar": {
              "outlinewidth": 0,
              "ticks": ""
             }
            },
            "type": "scattergl"
           }
          ],
          "scattermapbox": [
           {
            "marker": {
             "colorbar": {
              "outlinewidth": 0,
              "ticks": ""
             }
            },
            "type": "scattermapbox"
           }
          ],
          "scatterpolar": [
           {
            "marker": {
             "colorbar": {
              "outlinewidth": 0,
              "ticks": ""
             }
            },
            "type": "scatterpolar"
           }
          ],
          "scatterpolargl": [
           {
            "marker": {
             "colorbar": {
              "outlinewidth": 0,
              "ticks": ""
             }
            },
            "type": "scatterpolargl"
           }
          ],
          "scatterternary": [
           {
            "marker": {
             "colorbar": {
              "outlinewidth": 0,
              "ticks": ""
             }
            },
            "type": "scatterternary"
           }
          ],
          "surface": [
           {
            "colorbar": {
             "outlinewidth": 0,
             "ticks": ""
            },
            "colorscale": [
             [
              0,
              "#0d0887"
             ],
             [
              0.1111111111111111,
              "#46039f"
             ],
             [
              0.2222222222222222,
              "#7201a8"
             ],
             [
              0.3333333333333333,
              "#9c179e"
             ],
             [
              0.4444444444444444,
              "#bd3786"
             ],
             [
              0.5555555555555556,
              "#d8576b"
             ],
             [
              0.6666666666666666,
              "#ed7953"
             ],
             [
              0.7777777777777778,
              "#fb9f3a"
             ],
             [
              0.8888888888888888,
              "#fdca26"
             ],
             [
              1,
              "#f0f921"
             ]
            ],
            "type": "surface"
           }
          ],
          "table": [
           {
            "cells": {
             "fill": {
              "color": "#EBF0F8"
             },
             "line": {
              "color": "white"
             }
            },
            "header": {
             "fill": {
              "color": "#C8D4E3"
             },
             "line": {
              "color": "white"
             }
            },
            "type": "table"
           }
          ]
         },
         "layout": {
          "annotationdefaults": {
           "arrowcolor": "#2a3f5f",
           "arrowhead": 0,
           "arrowwidth": 1
          },
          "autotypenumbers": "strict",
          "coloraxis": {
           "colorbar": {
            "outlinewidth": 0,
            "ticks": ""
           }
          },
          "colorscale": {
           "diverging": [
            [
             0,
             "#8e0152"
            ],
            [
             0.1,
             "#c51b7d"
            ],
            [
             0.2,
             "#de77ae"
            ],
            [
             0.3,
             "#f1b6da"
            ],
            [
             0.4,
             "#fde0ef"
            ],
            [
             0.5,
             "#f7f7f7"
            ],
            [
             0.6,
             "#e6f5d0"
            ],
            [
             0.7,
             "#b8e186"
            ],
            [
             0.8,
             "#7fbc41"
            ],
            [
             0.9,
             "#4d9221"
            ],
            [
             1,
             "#276419"
            ]
           ],
           "sequential": [
            [
             0,
             "#0d0887"
            ],
            [
             0.1111111111111111,
             "#46039f"
            ],
            [
             0.2222222222222222,
             "#7201a8"
            ],
            [
             0.3333333333333333,
             "#9c179e"
            ],
            [
             0.4444444444444444,
             "#bd3786"
            ],
            [
             0.5555555555555556,
             "#d8576b"
            ],
            [
             0.6666666666666666,
             "#ed7953"
            ],
            [
             0.7777777777777778,
             "#fb9f3a"
            ],
            [
             0.8888888888888888,
             "#fdca26"
            ],
            [
             1,
             "#f0f921"
            ]
           ],
           "sequentialminus": [
            [
             0,
             "#0d0887"
            ],
            [
             0.1111111111111111,
             "#46039f"
            ],
            [
             0.2222222222222222,
             "#7201a8"
            ],
            [
             0.3333333333333333,
             "#9c179e"
            ],
            [
             0.4444444444444444,
             "#bd3786"
            ],
            [
             0.5555555555555556,
             "#d8576b"
            ],
            [
             0.6666666666666666,
             "#ed7953"
            ],
            [
             0.7777777777777778,
             "#fb9f3a"
            ],
            [
             0.8888888888888888,
             "#fdca26"
            ],
            [
             1,
             "#f0f921"
            ]
           ]
          },
          "colorway": [
           "#636efa",
           "#EF553B",
           "#00cc96",
           "#ab63fa",
           "#FFA15A",
           "#19d3f3",
           "#FF6692",
           "#B6E880",
           "#FF97FF",
           "#FECB52"
          ],
          "font": {
           "color": "#2a3f5f"
          },
          "geo": {
           "bgcolor": "white",
           "lakecolor": "white",
           "landcolor": "#E5ECF6",
           "showlakes": true,
           "showland": true,
           "subunitcolor": "white"
          },
          "hoverlabel": {
           "align": "left"
          },
          "hovermode": "closest",
          "mapbox": {
           "style": "light"
          },
          "paper_bgcolor": "white",
          "plot_bgcolor": "#E5ECF6",
          "polar": {
           "angularaxis": {
            "gridcolor": "white",
            "linecolor": "white",
            "ticks": ""
           },
           "bgcolor": "#E5ECF6",
           "radialaxis": {
            "gridcolor": "white",
            "linecolor": "white",
            "ticks": ""
           }
          },
          "scene": {
           "xaxis": {
            "backgroundcolor": "#E5ECF6",
            "gridcolor": "white",
            "gridwidth": 2,
            "linecolor": "white",
            "showbackground": true,
            "ticks": "",
            "zerolinecolor": "white"
           },
           "yaxis": {
            "backgroundcolor": "#E5ECF6",
            "gridcolor": "white",
            "gridwidth": 2,
            "linecolor": "white",
            "showbackground": true,
            "ticks": "",
            "zerolinecolor": "white"
           },
           "zaxis": {
            "backgroundcolor": "#E5ECF6",
            "gridcolor": "white",
            "gridwidth": 2,
            "linecolor": "white",
            "showbackground": true,
            "ticks": "",
            "zerolinecolor": "white"
           }
          },
          "shapedefaults": {
           "line": {
            "color": "#2a3f5f"
           }
          },
          "ternary": {
           "aaxis": {
            "gridcolor": "white",
            "linecolor": "white",
            "ticks": ""
           },
           "baxis": {
            "gridcolor": "white",
            "linecolor": "white",
            "ticks": ""
           },
           "bgcolor": "#E5ECF6",
           "caxis": {
            "gridcolor": "white",
            "linecolor": "white",
            "ticks": ""
           }
          },
          "title": {
           "x": 0.05
          },
          "xaxis": {
           "automargin": true,
           "gridcolor": "white",
           "linecolor": "white",
           "ticks": "",
           "title": {
            "standoff": 15
           },
           "zerolinecolor": "white",
           "zerolinewidth": 2
          },
          "yaxis": {
           "automargin": true,
           "gridcolor": "white",
           "linecolor": "white",
           "ticks": "",
           "title": {
            "standoff": 15
           },
           "zerolinecolor": "white",
           "zerolinewidth": 2
          }
         }
        }
       }
      }
     },
     "metadata": {},
     "output_type": "display_data"
    }
   ],
   "source": [
    "save_display_results(\n",
    "    name_estimator,\n",
    "    best_preprocessor,\n",
    "    best_estimator,\n",
    "    best_predictions,\n",
    ")"
   ]
  },
  {
   "cell_type": "markdown",
   "metadata": {},
   "source": [
    "---\n",
    "## KNN\n",
    "- PCA with an explained variance ratio of 0.95 performs much better with a min-max scaling (54 components) instead of a standard-scaling (67 components) and min-max + standard-scaling.\n",
    "- The following search was not exhaustive: we not try all the possible combinations, but we followed the more promising paths\n",
    "- The best result is R^2=0.3224 , MSE=74.66 with:\n",
    "    - MinMax + l-max-Normalization + LDA. It performed better than PCA (and its combinations with preprocessing techniques), l-1-Normalization + LDA, l-2-Normalization + LDA, MinMax + l-1-Normalization + LDA, MinMax + l-2-Normalization + LDA\n",
    "    - Best covariance estimator for LDA is OAS, over EllipticEnvelope, EmpiricalCovariance and no-shrinkage\n",
    "    - Best KNN metric is cosine, over cityblock, euclidean, nan_euclidean, with \"weights\"=\"distance\" over \"uniform\"\n",
    "    - Best number of neighbors is 20 (tried in this order 5,30,25,20,15,17,18,19)"
   ]
  },
  {
   "cell_type": "code",
   "execution_count": 194,
   "metadata": {},
   "outputs": [
    {
     "name": "stdout",
     "output_type": "stream",
     "text": [
      "Best:\n",
      "\tmin-max + l1 + lda + nystroem data\n",
      "\tParams: {'knr__metric': 'cosine', 'knr__n_neighbors': 20, 'knr__weights': 'distance', 'lda__covariance_estimator': OAS(), 'lda__solver': 'eigen', 'nys__gamma': 0.01, 'nys__n_components': 1000}\n",
      "\tR^2: 0.33557361840345756\n",
      "\tMSE: 73.13557698405651\n"
     ]
    }
   ],
   "source": [
    "param_estimator = {\n",
    "    \"knr__n_neighbors\": [21],\n",
    "    \"knr__weights\": [\"distance\"],  # \"uniform\"\n",
    "    \"knr__metric\": [\n",
    "        # \"cityblock\",\n",
    "        \"cosine\",\n",
    "        # \"euclidean\",\n",
    "        # \"nan_euclidean\",\n",
    "    ],\n",
    "}\n",
    "\n",
    "name_estimator = \"knr\"\n",
    "\n",
    "best_preprocessor, best_estimator, best_predictions = gridSearch(\n",
    "    name_estimator,\n",
    "    KNeighborsRegressor(n_jobs=-1),\n",
    "    param_estimator,\n",
    "    False,\n",
    ")"
   ]
  },
  {
   "cell_type": "code",
   "execution_count": 195,
   "metadata": {},
   "outputs": [
    {
     "data": {
      "text/html": [
       "<style type=\"text/css\">\n",
       "</style>\n",
       "<table id=\"T_f381b\">\n",
       "  <thead>\n",
       "    <tr>\n",
       "      <th class=\"blank level0\" >&nbsp;</th>\n",
       "      <th id=\"T_f381b_level0_col0\" class=\"col_heading level0 col0\" >knr__metric</th>\n",
       "      <th id=\"T_f381b_level0_col1\" class=\"col_heading level0 col1\" >knr__n_neighbors</th>\n",
       "      <th id=\"T_f381b_level0_col2\" class=\"col_heading level0 col2\" >knr__weights</th>\n",
       "      <th id=\"T_f381b_level0_col3\" class=\"col_heading level0 col3\" >lda__covariance_estimator</th>\n",
       "      <th id=\"T_f381b_level0_col4\" class=\"col_heading level0 col4\" >lda__shrinkage</th>\n",
       "      <th id=\"T_f381b_level0_col5\" class=\"col_heading level0 col5\" >lda__solver</th>\n",
       "      <th id=\"T_f381b_level0_col6\" class=\"col_heading level0 col6\" >preprocess</th>\n",
       "      <th id=\"T_f381b_level0_col7\" class=\"col_heading level0 col7\" >pca__n_components</th>\n",
       "      <th id=\"T_f381b_level0_col8\" class=\"col_heading level0 col8\" >pca__svd_solver</th>\n",
       "      <th id=\"T_f381b_level0_col9\" class=\"col_heading level0 col9\" >pca__whiten</th>\n",
       "      <th id=\"T_f381b_level0_col10\" class=\"col_heading level0 col10\" >MSE</th>\n",
       "      <th id=\"T_f381b_level0_col11\" class=\"col_heading level0 col11\" >R^2</th>\n",
       "    </tr>\n",
       "  </thead>\n",
       "  <tbody>\n",
       "    <tr>\n",
       "      <th id=\"T_f381b_level0_row0\" class=\"row_heading level0 row0\" >17</th>\n",
       "      <td id=\"T_f381b_row0_col0\" class=\"data row0 col0\" >cosine</td>\n",
       "      <td id=\"T_f381b_row0_col1\" class=\"data row0 col1\" >21</td>\n",
       "      <td id=\"T_f381b_row0_col2\" class=\"data row0 col2\" >distance</td>\n",
       "      <td id=\"T_f381b_row0_col3\" class=\"data row0 col3\" >OAS()</td>\n",
       "      <td id=\"T_f381b_row0_col4\" class=\"data row0 col4\" >nan</td>\n",
       "      <td id=\"T_f381b_row0_col5\" class=\"data row0 col5\" >eigen</td>\n",
       "      <td id=\"T_f381b_row0_col6\" class=\"data row0 col6\" >min-max + lmax + lda</td>\n",
       "      <td id=\"T_f381b_row0_col7\" class=\"data row0 col7\" >nan</td>\n",
       "      <td id=\"T_f381b_row0_col8\" class=\"data row0 col8\" >nan</td>\n",
       "      <td id=\"T_f381b_row0_col9\" class=\"data row0 col9\" >nan</td>\n",
       "      <td id=\"T_f381b_row0_col10\" class=\"data row0 col10\" >73.6558730</td>\n",
       "      <td id=\"T_f381b_row0_col11\" class=\"data row0 col11\" >0.3308468</td>\n",
       "    </tr>\n",
       "    <tr>\n",
       "      <th id=\"T_f381b_level0_row1\" class=\"row_heading level0 row1\" >8</th>\n",
       "      <td id=\"T_f381b_row1_col0\" class=\"data row1 col0\" >cosine</td>\n",
       "      <td id=\"T_f381b_row1_col1\" class=\"data row1 col1\" >25</td>\n",
       "      <td id=\"T_f381b_row1_col2\" class=\"data row1 col2\" >distance</td>\n",
       "      <td id=\"T_f381b_row1_col3\" class=\"data row1 col3\" >OAS()</td>\n",
       "      <td id=\"T_f381b_row1_col4\" class=\"data row1 col4\" >nan</td>\n",
       "      <td id=\"T_f381b_row1_col5\" class=\"data row1 col5\" >eigen</td>\n",
       "      <td id=\"T_f381b_row1_col6\" class=\"data row1 col6\" >min-max + lmax + lda</td>\n",
       "      <td id=\"T_f381b_row1_col7\" class=\"data row1 col7\" >nan</td>\n",
       "      <td id=\"T_f381b_row1_col8\" class=\"data row1 col8\" >nan</td>\n",
       "      <td id=\"T_f381b_row1_col9\" class=\"data row1 col9\" >nan</td>\n",
       "      <td id=\"T_f381b_row1_col10\" class=\"data row1 col10\" >73.6801573</td>\n",
       "      <td id=\"T_f381b_row1_col11\" class=\"data row1 col11\" >0.3306262</td>\n",
       "    </tr>\n",
       "    <tr>\n",
       "      <th id=\"T_f381b_level0_row2\" class=\"row_heading level0 row2\" >18</th>\n",
       "      <td id=\"T_f381b_row2_col0\" class=\"data row2 col0\" >cosine</td>\n",
       "      <td id=\"T_f381b_row2_col1\" class=\"data row2 col1\" >23</td>\n",
       "      <td id=\"T_f381b_row2_col2\" class=\"data row2 col2\" >distance</td>\n",
       "      <td id=\"T_f381b_row2_col3\" class=\"data row2 col3\" >OAS()</td>\n",
       "      <td id=\"T_f381b_row2_col4\" class=\"data row2 col4\" >nan</td>\n",
       "      <td id=\"T_f381b_row2_col5\" class=\"data row2 col5\" >eigen</td>\n",
       "      <td id=\"T_f381b_row2_col6\" class=\"data row2 col6\" >min-max + lmax + lda</td>\n",
       "      <td id=\"T_f381b_row2_col7\" class=\"data row2 col7\" >nan</td>\n",
       "      <td id=\"T_f381b_row2_col8\" class=\"data row2 col8\" >nan</td>\n",
       "      <td id=\"T_f381b_row2_col9\" class=\"data row2 col9\" >nan</td>\n",
       "      <td id=\"T_f381b_row2_col10\" class=\"data row2 col10\" >73.6836591</td>\n",
       "      <td id=\"T_f381b_row2_col11\" class=\"data row2 col11\" >0.3305944</td>\n",
       "    </tr>\n",
       "    <tr>\n",
       "      <th id=\"T_f381b_level0_row3\" class=\"row_heading level0 row3\" >1</th>\n",
       "      <td id=\"T_f381b_row3_col0\" class=\"data row3 col0\" >cosine</td>\n",
       "      <td id=\"T_f381b_row3_col1\" class=\"data row3 col1\" >20</td>\n",
       "      <td id=\"T_f381b_row3_col2\" class=\"data row3 col2\" >distance</td>\n",
       "      <td id=\"T_f381b_row3_col3\" class=\"data row3 col3\" >OAS()</td>\n",
       "      <td id=\"T_f381b_row3_col4\" class=\"data row3 col4\" >nan</td>\n",
       "      <td id=\"T_f381b_row3_col5\" class=\"data row3 col5\" >eigen</td>\n",
       "      <td id=\"T_f381b_row3_col6\" class=\"data row3 col6\" >min-max + lmax + lda</td>\n",
       "      <td id=\"T_f381b_row3_col7\" class=\"data row3 col7\" >nan</td>\n",
       "      <td id=\"T_f381b_row3_col8\" class=\"data row3 col8\" >nan</td>\n",
       "      <td id=\"T_f381b_row3_col9\" class=\"data row3 col9\" >nan</td>\n",
       "      <td id=\"T_f381b_row3_col10\" class=\"data row3 col10\" >73.6861822</td>\n",
       "      <td id=\"T_f381b_row3_col11\" class=\"data row3 col11\" >0.3305714</td>\n",
       "    </tr>\n",
       "    <tr>\n",
       "      <th id=\"T_f381b_level0_row4\" class=\"row_heading level0 row4\" >10</th>\n",
       "      <td id=\"T_f381b_row4_col0\" class=\"data row4 col0\" >cosine</td>\n",
       "      <td id=\"T_f381b_row4_col1\" class=\"data row4 col1\" >20</td>\n",
       "      <td id=\"T_f381b_row4_col2\" class=\"data row4 col2\" >distance</td>\n",
       "      <td id=\"T_f381b_row4_col3\" class=\"data row4 col3\" >OAS()</td>\n",
       "      <td id=\"T_f381b_row4_col4\" class=\"data row4 col4\" >nan</td>\n",
       "      <td id=\"T_f381b_row4_col5\" class=\"data row4 col5\" >eigen</td>\n",
       "      <td id=\"T_f381b_row4_col6\" class=\"data row4 col6\" >min-max + lmax + lda</td>\n",
       "      <td id=\"T_f381b_row4_col7\" class=\"data row4 col7\" >nan</td>\n",
       "      <td id=\"T_f381b_row4_col8\" class=\"data row4 col8\" >nan</td>\n",
       "      <td id=\"T_f381b_row4_col9\" class=\"data row4 col9\" >nan</td>\n",
       "      <td id=\"T_f381b_row4_col10\" class=\"data row4 col10\" >73.6861822</td>\n",
       "      <td id=\"T_f381b_row4_col11\" class=\"data row4 col11\" >0.3305714</td>\n",
       "    </tr>\n",
       "    <tr>\n",
       "      <th id=\"T_f381b_level0_row5\" class=\"row_heading level0 row5\" >7</th>\n",
       "      <td id=\"T_f381b_row5_col0\" class=\"data row5 col0\" >cosine</td>\n",
       "      <td id=\"T_f381b_row5_col1\" class=\"data row5 col1\" >20</td>\n",
       "      <td id=\"T_f381b_row5_col2\" class=\"data row5 col2\" >distance</td>\n",
       "      <td id=\"T_f381b_row5_col3\" class=\"data row5 col3\" >OAS()</td>\n",
       "      <td id=\"T_f381b_row5_col4\" class=\"data row5 col4\" >nan</td>\n",
       "      <td id=\"T_f381b_row5_col5\" class=\"data row5 col5\" >eigen</td>\n",
       "      <td id=\"T_f381b_row5_col6\" class=\"data row5 col6\" >min-max + l1 + lda</td>\n",
       "      <td id=\"T_f381b_row5_col7\" class=\"data row5 col7\" >nan</td>\n",
       "      <td id=\"T_f381b_row5_col8\" class=\"data row5 col8\" >nan</td>\n",
       "      <td id=\"T_f381b_row5_col9\" class=\"data row5 col9\" >nan</td>\n",
       "      <td id=\"T_f381b_row5_col10\" class=\"data row5 col10\" >73.8715901</td>\n",
       "      <td id=\"T_f381b_row5_col11\" class=\"data row5 col11\" >0.3288870</td>\n",
       "    </tr>\n",
       "    <tr>\n",
       "      <th id=\"T_f381b_level0_row6\" class=\"row_heading level0 row6\" >2</th>\n",
       "      <td id=\"T_f381b_row6_col0\" class=\"data row6 col0\" >cosine</td>\n",
       "      <td id=\"T_f381b_row6_col1\" class=\"data row6 col1\" >20</td>\n",
       "      <td id=\"T_f381b_row6_col2\" class=\"data row6 col2\" >distance</td>\n",
       "      <td id=\"T_f381b_row6_col3\" class=\"data row6 col3\" >OAS()</td>\n",
       "      <td id=\"T_f381b_row6_col4\" class=\"data row6 col4\" >nan</td>\n",
       "      <td id=\"T_f381b_row6_col5\" class=\"data row6 col5\" >eigen</td>\n",
       "      <td id=\"T_f381b_row6_col6\" class=\"data row6 col6\" >min-max + lda</td>\n",
       "      <td id=\"T_f381b_row6_col7\" class=\"data row6 col7\" >nan</td>\n",
       "      <td id=\"T_f381b_row6_col8\" class=\"data row6 col8\" >nan</td>\n",
       "      <td id=\"T_f381b_row6_col9\" class=\"data row6 col9\" >nan</td>\n",
       "      <td id=\"T_f381b_row6_col10\" class=\"data row6 col10\" >73.9038913</td>\n",
       "      <td id=\"T_f381b_row6_col11\" class=\"data row6 col11\" >0.3285936</td>\n",
       "    </tr>\n",
       "    <tr>\n",
       "      <th id=\"T_f381b_level0_row7\" class=\"row_heading level0 row7\" >12</th>\n",
       "      <td id=\"T_f381b_row7_col0\" class=\"data row7 col0\" >cosine</td>\n",
       "      <td id=\"T_f381b_row7_col1\" class=\"data row7 col1\" >20</td>\n",
       "      <td id=\"T_f381b_row7_col2\" class=\"data row7 col2\" >distance</td>\n",
       "      <td id=\"T_f381b_row7_col3\" class=\"data row7 col3\" >nan</td>\n",
       "      <td id=\"T_f381b_row7_col4\" class=\"data row7 col4\" >nan</td>\n",
       "      <td id=\"T_f381b_row7_col5\" class=\"data row7 col5\" >nan</td>\n",
       "      <td id=\"T_f381b_row7_col6\" class=\"data row7 col6\" >min-maxed</td>\n",
       "      <td id=\"T_f381b_row7_col7\" class=\"data row7 col7\" >nan</td>\n",
       "      <td id=\"T_f381b_row7_col8\" class=\"data row7 col8\" >nan</td>\n",
       "      <td id=\"T_f381b_row7_col9\" class=\"data row7 col9\" >nan</td>\n",
       "      <td id=\"T_f381b_row7_col10\" class=\"data row7 col10\" >74.5819594</td>\n",
       "      <td id=\"T_f381b_row7_col11\" class=\"data row7 col11\" >0.3224334</td>\n",
       "    </tr>\n",
       "    <tr>\n",
       "      <th id=\"T_f381b_level0_row8\" class=\"row_heading level0 row8\" >14</th>\n",
       "      <td id=\"T_f381b_row8_col0\" class=\"data row8 col0\" >cosine</td>\n",
       "      <td id=\"T_f381b_row8_col1\" class=\"data row8 col1\" >20</td>\n",
       "      <td id=\"T_f381b_row8_col2\" class=\"data row8 col2\" >distance</td>\n",
       "      <td id=\"T_f381b_row8_col3\" class=\"data row8 col3\" >nan</td>\n",
       "      <td id=\"T_f381b_row8_col4\" class=\"data row8 col4\" >nan</td>\n",
       "      <td id=\"T_f381b_row8_col5\" class=\"data row8 col5\" >eigen</td>\n",
       "      <td id=\"T_f381b_row8_col6\" class=\"data row8 col6\" >min-max + lmax + lda</td>\n",
       "      <td id=\"T_f381b_row8_col7\" class=\"data row8 col7\" >nan</td>\n",
       "      <td id=\"T_f381b_row8_col8\" class=\"data row8 col8\" >nan</td>\n",
       "      <td id=\"T_f381b_row8_col9\" class=\"data row8 col9\" >nan</td>\n",
       "      <td id=\"T_f381b_row8_col10\" class=\"data row8 col10\" >74.9271332</td>\n",
       "      <td id=\"T_f381b_row8_col11\" class=\"data row8 col11\" >0.3192976</td>\n",
       "    </tr>\n",
       "    <tr>\n",
       "      <th id=\"T_f381b_level0_row9\" class=\"row_heading level0 row9\" >3</th>\n",
       "      <td id=\"T_f381b_row9_col0\" class=\"data row9 col0\" >cosine</td>\n",
       "      <td id=\"T_f381b_row9_col1\" class=\"data row9 col1\" >20</td>\n",
       "      <td id=\"T_f381b_row9_col2\" class=\"data row9 col2\" >distance</td>\n",
       "      <td id=\"T_f381b_row9_col3\" class=\"data row9 col3\" >EmpiricalCovariance()</td>\n",
       "      <td id=\"T_f381b_row9_col4\" class=\"data row9 col4\" >nan</td>\n",
       "      <td id=\"T_f381b_row9_col5\" class=\"data row9 col5\" >eigen</td>\n",
       "      <td id=\"T_f381b_row9_col6\" class=\"data row9 col6\" >min-max + lmax + lda</td>\n",
       "      <td id=\"T_f381b_row9_col7\" class=\"data row9 col7\" >nan</td>\n",
       "      <td id=\"T_f381b_row9_col8\" class=\"data row9 col8\" >nan</td>\n",
       "      <td id=\"T_f381b_row9_col9\" class=\"data row9 col9\" >nan</td>\n",
       "      <td id=\"T_f381b_row9_col10\" class=\"data row9 col10\" >74.9271332</td>\n",
       "      <td id=\"T_f381b_row9_col11\" class=\"data row9 col11\" >0.3192976</td>\n",
       "    </tr>\n",
       "    <tr>\n",
       "      <th id=\"T_f381b_level0_row10\" class=\"row_heading level0 row10\" >5</th>\n",
       "      <td id=\"T_f381b_row10_col0\" class=\"data row10 col0\" >euclidean</td>\n",
       "      <td id=\"T_f381b_row10_col1\" class=\"data row10 col1\" >20</td>\n",
       "      <td id=\"T_f381b_row10_col2\" class=\"data row10 col2\" >distance</td>\n",
       "      <td id=\"T_f381b_row10_col3\" class=\"data row10 col3\" >OAS()</td>\n",
       "      <td id=\"T_f381b_row10_col4\" class=\"data row10 col4\" >nan</td>\n",
       "      <td id=\"T_f381b_row10_col5\" class=\"data row10 col5\" >eigen</td>\n",
       "      <td id=\"T_f381b_row10_col6\" class=\"data row10 col6\" >min-max + lmax + lda</td>\n",
       "      <td id=\"T_f381b_row10_col7\" class=\"data row10 col7\" >nan</td>\n",
       "      <td id=\"T_f381b_row10_col8\" class=\"data row10 col8\" >nan</td>\n",
       "      <td id=\"T_f381b_row10_col9\" class=\"data row10 col9\" >nan</td>\n",
       "      <td id=\"T_f381b_row10_col10\" class=\"data row10 col10\" >75.0381515</td>\n",
       "      <td id=\"T_f381b_row10_col11\" class=\"data row10 col11\" >0.3182890</td>\n",
       "    </tr>\n",
       "    <tr>\n",
       "      <th id=\"T_f381b_level0_row11\" class=\"row_heading level0 row11\" >6</th>\n",
       "      <td id=\"T_f381b_row11_col0\" class=\"data row11 col0\" >nan_euclidean</td>\n",
       "      <td id=\"T_f381b_row11_col1\" class=\"data row11 col1\" >20</td>\n",
       "      <td id=\"T_f381b_row11_col2\" class=\"data row11 col2\" >distance</td>\n",
       "      <td id=\"T_f381b_row11_col3\" class=\"data row11 col3\" >OAS()</td>\n",
       "      <td id=\"T_f381b_row11_col4\" class=\"data row11 col4\" >nan</td>\n",
       "      <td id=\"T_f381b_row11_col5\" class=\"data row11 col5\" >eigen</td>\n",
       "      <td id=\"T_f381b_row11_col6\" class=\"data row11 col6\" >min-max + lmax + lda</td>\n",
       "      <td id=\"T_f381b_row11_col7\" class=\"data row11 col7\" >nan</td>\n",
       "      <td id=\"T_f381b_row11_col8\" class=\"data row11 col8\" >nan</td>\n",
       "      <td id=\"T_f381b_row11_col9\" class=\"data row11 col9\" >nan</td>\n",
       "      <td id=\"T_f381b_row11_col10\" class=\"data row11 col10\" >75.0381515</td>\n",
       "      <td id=\"T_f381b_row11_col11\" class=\"data row11 col11\" >0.3182890</td>\n",
       "    </tr>\n",
       "    <tr>\n",
       "      <th id=\"T_f381b_level0_row12\" class=\"row_heading level0 row12\" >13</th>\n",
       "      <td id=\"T_f381b_row12_col0\" class=\"data row12 col0\" >cosine</td>\n",
       "      <td id=\"T_f381b_row12_col1\" class=\"data row12 col1\" >20</td>\n",
       "      <td id=\"T_f381b_row12_col2\" class=\"data row12 col2\" >distance</td>\n",
       "      <td id=\"T_f381b_row12_col3\" class=\"data row12 col3\" >nan</td>\n",
       "      <td id=\"T_f381b_row12_col4\" class=\"data row12 col4\" >nan</td>\n",
       "      <td id=\"T_f381b_row12_col5\" class=\"data row12 col5\" >nan</td>\n",
       "      <td id=\"T_f381b_row12_col6\" class=\"data row12 col6\" >min-max + pca 0.95</td>\n",
       "      <td id=\"T_f381b_row12_col7\" class=\"data row12 col7\" >0.9500000</td>\n",
       "      <td id=\"T_f381b_row12_col8\" class=\"data row12 col8\" >full</td>\n",
       "      <td id=\"T_f381b_row12_col9\" class=\"data row12 col9\" >False</td>\n",
       "      <td id=\"T_f381b_row12_col10\" class=\"data row12 col10\" >75.5846592</td>\n",
       "      <td id=\"T_f381b_row12_col11\" class=\"data row12 col11\" >0.3133241</td>\n",
       "    </tr>\n",
       "    <tr>\n",
       "      <th id=\"T_f381b_level0_row13\" class=\"row_heading level0 row13\" >4</th>\n",
       "      <td id=\"T_f381b_row13_col0\" class=\"data row13 col0\" >cityblock</td>\n",
       "      <td id=\"T_f381b_row13_col1\" class=\"data row13 col1\" >20</td>\n",
       "      <td id=\"T_f381b_row13_col2\" class=\"data row13 col2\" >distance</td>\n",
       "      <td id=\"T_f381b_row13_col3\" class=\"data row13 col3\" >OAS()</td>\n",
       "      <td id=\"T_f381b_row13_col4\" class=\"data row13 col4\" >nan</td>\n",
       "      <td id=\"T_f381b_row13_col5\" class=\"data row13 col5\" >eigen</td>\n",
       "      <td id=\"T_f381b_row13_col6\" class=\"data row13 col6\" >min-max + lmax + lda</td>\n",
       "      <td id=\"T_f381b_row13_col7\" class=\"data row13 col7\" >nan</td>\n",
       "      <td id=\"T_f381b_row13_col8\" class=\"data row13 col8\" >nan</td>\n",
       "      <td id=\"T_f381b_row13_col9\" class=\"data row13 col9\" >nan</td>\n",
       "      <td id=\"T_f381b_row13_col10\" class=\"data row13 col10\" >76.6217619</td>\n",
       "      <td id=\"T_f381b_row13_col11\" class=\"data row13 col11\" >0.3039021</td>\n",
       "    </tr>\n",
       "    <tr>\n",
       "      <th id=\"T_f381b_level0_row14\" class=\"row_heading level0 row14\" >0</th>\n",
       "      <td id=\"T_f381b_row14_col0\" class=\"data row14 col0\" >cosine</td>\n",
       "      <td id=\"T_f381b_row14_col1\" class=\"data row14 col1\" >5</td>\n",
       "      <td id=\"T_f381b_row14_col2\" class=\"data row14 col2\" >distance</td>\n",
       "      <td id=\"T_f381b_row14_col3\" class=\"data row14 col3\" >OAS()</td>\n",
       "      <td id=\"T_f381b_row14_col4\" class=\"data row14 col4\" >nan</td>\n",
       "      <td id=\"T_f381b_row14_col5\" class=\"data row14 col5\" >eigen</td>\n",
       "      <td id=\"T_f381b_row14_col6\" class=\"data row14 col6\" >min-max + lmax + lda</td>\n",
       "      <td id=\"T_f381b_row14_col7\" class=\"data row14 col7\" >nan</td>\n",
       "      <td id=\"T_f381b_row14_col8\" class=\"data row14 col8\" >nan</td>\n",
       "      <td id=\"T_f381b_row14_col9\" class=\"data row14 col9\" >nan</td>\n",
       "      <td id=\"T_f381b_row14_col10\" class=\"data row14 col10\" >79.4402168</td>\n",
       "      <td id=\"T_f381b_row14_col11\" class=\"data row14 col11\" >0.2782969</td>\n",
       "    </tr>\n",
       "    <tr>\n",
       "      <th id=\"T_f381b_level0_row15\" class=\"row_heading level0 row15\" >9</th>\n",
       "      <td id=\"T_f381b_row15_col0\" class=\"data row15 col0\" >cosine</td>\n",
       "      <td id=\"T_f381b_row15_col1\" class=\"data row15 col1\" >5</td>\n",
       "      <td id=\"T_f381b_row15_col2\" class=\"data row15 col2\" >distance</td>\n",
       "      <td id=\"T_f381b_row15_col3\" class=\"data row15 col3\" >OAS()</td>\n",
       "      <td id=\"T_f381b_row15_col4\" class=\"data row15 col4\" >nan</td>\n",
       "      <td id=\"T_f381b_row15_col5\" class=\"data row15 col5\" >eigen</td>\n",
       "      <td id=\"T_f381b_row15_col6\" class=\"data row15 col6\" >min-max + lmax + lda</td>\n",
       "      <td id=\"T_f381b_row15_col7\" class=\"data row15 col7\" >nan</td>\n",
       "      <td id=\"T_f381b_row15_col8\" class=\"data row15 col8\" >nan</td>\n",
       "      <td id=\"T_f381b_row15_col9\" class=\"data row15 col9\" >nan</td>\n",
       "      <td id=\"T_f381b_row15_col10\" class=\"data row15 col10\" >79.4402168</td>\n",
       "      <td id=\"T_f381b_row15_col11\" class=\"data row15 col11\" >0.2782969</td>\n",
       "    </tr>\n",
       "    <tr>\n",
       "      <th id=\"T_f381b_level0_row16\" class=\"row_heading level0 row16\" >16</th>\n",
       "      <td id=\"T_f381b_row16_col0\" class=\"data row16 col0\" >cosine</td>\n",
       "      <td id=\"T_f381b_row16_col1\" class=\"data row16 col1\" >20</td>\n",
       "      <td id=\"T_f381b_row16_col2\" class=\"data row16 col2\" >distance</td>\n",
       "      <td id=\"T_f381b_row16_col3\" class=\"data row16 col3\" >OAS()</td>\n",
       "      <td id=\"T_f381b_row16_col4\" class=\"data row16 col4\" >nan</td>\n",
       "      <td id=\"T_f381b_row16_col5\" class=\"data row16 col5\" >eigen</td>\n",
       "      <td id=\"T_f381b_row16_col6\" class=\"data row16 col6\" >min-max + l2 + lda</td>\n",
       "      <td id=\"T_f381b_row16_col7\" class=\"data row16 col7\" >nan</td>\n",
       "      <td id=\"T_f381b_row16_col8\" class=\"data row16 col8\" >nan</td>\n",
       "      <td id=\"T_f381b_row16_col9\" class=\"data row16 col9\" >nan</td>\n",
       "      <td id=\"T_f381b_row16_col10\" class=\"data row16 col10\" >79.9976597</td>\n",
       "      <td id=\"T_f381b_row16_col11\" class=\"data row16 col11\" >0.2732326</td>\n",
       "    </tr>\n",
       "    <tr>\n",
       "      <th id=\"T_f381b_level0_row17\" class=\"row_heading level0 row17\" >15</th>\n",
       "      <td id=\"T_f381b_row17_col0\" class=\"data row17 col0\" >cosine</td>\n",
       "      <td id=\"T_f381b_row17_col1\" class=\"data row17 col1\" >20</td>\n",
       "      <td id=\"T_f381b_row17_col2\" class=\"data row17 col2\" >distance</td>\n",
       "      <td id=\"T_f381b_row17_col3\" class=\"data row17 col3\" >EllipticEnvelope(contamination=0.001, random_state=42)</td>\n",
       "      <td id=\"T_f381b_row17_col4\" class=\"data row17 col4\" >nan</td>\n",
       "      <td id=\"T_f381b_row17_col5\" class=\"data row17 col5\" >eigen</td>\n",
       "      <td id=\"T_f381b_row17_col6\" class=\"data row17 col6\" >min-max + lmax + lda</td>\n",
       "      <td id=\"T_f381b_row17_col7\" class=\"data row17 col7\" >nan</td>\n",
       "      <td id=\"T_f381b_row17_col8\" class=\"data row17 col8\" >nan</td>\n",
       "      <td id=\"T_f381b_row17_col9\" class=\"data row17 col9\" >nan</td>\n",
       "      <td id=\"T_f381b_row17_col10\" class=\"data row17 col10\" >80.0647708</td>\n",
       "      <td id=\"T_f381b_row17_col11\" class=\"data row17 col11\" >0.2726229</td>\n",
       "    </tr>\n",
       "    <tr>\n",
       "      <th id=\"T_f381b_level0_row18\" class=\"row_heading level0 row18\" >11</th>\n",
       "      <td id=\"T_f381b_row18_col0\" class=\"data row18 col0\" >cosine</td>\n",
       "      <td id=\"T_f381b_row18_col1\" class=\"data row18 col1\" >20</td>\n",
       "      <td id=\"T_f381b_row18_col2\" class=\"data row18 col2\" >distance</td>\n",
       "      <td id=\"T_f381b_row18_col3\" class=\"data row18 col3\" >nan</td>\n",
       "      <td id=\"T_f381b_row18_col4\" class=\"data row18 col4\" >nan</td>\n",
       "      <td id=\"T_f381b_row18_col5\" class=\"data row18 col5\" >nan</td>\n",
       "      <td id=\"T_f381b_row18_col6\" class=\"data row18 col6\" >raw</td>\n",
       "      <td id=\"T_f381b_row18_col7\" class=\"data row18 col7\" >nan</td>\n",
       "      <td id=\"T_f381b_row18_col8\" class=\"data row18 col8\" >nan</td>\n",
       "      <td id=\"T_f381b_row18_col9\" class=\"data row18 col9\" >nan</td>\n",
       "      <td id=\"T_f381b_row18_col10\" class=\"data row18 col10\" >94.9237542</td>\n",
       "      <td id=\"T_f381b_row18_col11\" class=\"data row18 col11\" >0.1376311</td>\n",
       "    </tr>\n",
       "  </tbody>\n",
       "</table>\n"
      ],
      "text/plain": [
       "<pandas.io.formats.style.Styler at 0x224fc7cbe50>"
      ]
     },
     "metadata": {},
     "output_type": "display_data"
    }
   ],
   "source": [
    "print_all_results(name_estimator)"
   ]
  },
  {
   "cell_type": "code",
   "execution_count": 200,
   "metadata": {},
   "outputs": [
    {
     "data": {
      "image/png": "[encoded data removed]",
      "text/plain": [
       "<Figure size 1000x1000 with 2 Axes>"
      ]
     },
     "metadata": {},
     "output_type": "display_data"
    },
    {
     "data": {
      "application/vnd.plotly.v1+json": {
       "config": {
        "plotlyServerURL": "https://plot.ly"
       },
       "data": [
        {
         "dimensions": [
          {
           "label": "lda__covariance_estimator",
           "ticktext": [
            "None",
            "OAS()"
           ],
           "tickvals": [
            0,
            1
           ],
           "values": [
            0,
            1,
            1,
            0,
            1,
            1,
            1,
            1,
            1,
            1,
            1
           ]
          },
          {
           "label": "lda__solver",
           "ticktext": [
            "None",
            "eigen"
           ],
           "tickvals": [
            0,
            1
           ],
           "values": [
            0,
            1,
            1,
            0,
            1,
            1,
            1,
            1,
            1,
            1,
            1
           ]
          },
          {
           "label": "nys__gamma",
           "ticktext": [
            "None",
            0.01
           ],
           "tickvals": [
            0,
            1
           ],
           "values": [
            0,
            1,
            1,
            1,
            1,
            1,
            1,
            1,
            1,
            1,
            1
           ]
          },
          {
           "label": "nys__n_components",
           "ticktext": [
            "None",
            1000
           ],
           "tickvals": [
            0,
            1
           ],
           "values": [
            0,
            1,
            1,
            1,
            1,
            1,
            1,
            1,
            1,
            1,
            1
           ]
          },
          {
           "label": "preprocess",
           "ticktext": [
            "raw",
            "min-max + lmax + lda + nystroem",
            "min-max + l1 + lda + nystroem",
            "min-max + pca 0.95 + nystroem",
            "min-max + nystroem",
            "min-max + lda + nystroem",
            "std-scaler + lda + nystroem",
            "min-max + l2 + lda + nystroem"
           ],
           "tickvals": [
            0,
            1,
            2,
            3,
            4,
            5,
            6,
            7
           ],
           "values": [
            0,
            1,
            2,
            3,
            4,
            5,
            6,
            7,
            2,
            5,
            2
           ]
          },
          {
           "label": "pca__n_components",
           "ticktext": [
            "None",
            0.95
           ],
           "tickvals": [
            0,
            1
           ],
           "values": [
            0,
            0,
            0,
            1,
            0,
            0,
            0,
            0,
            0,
            0,
            0
           ]
          },
          {
           "label": "pca__svd_solver",
           "ticktext": [
            "None",
            "full"
           ],
           "tickvals": [
            0,
            1
           ],
           "values": [
            0,
            0,
            0,
            1,
            0,
            0,
            0,
            0,
            0,
            0,
            0
           ]
          },
          {
           "label": "pca__whiten",
           "ticktext": [
            "None",
            true
           ],
           "tickvals": [
            0,
            1
           ],
           "values": [
            0,
            0,
            0,
            1,
            0,
            0,
            0,
            0,
            0,
            0,
            0
           ]
          },
          {
           "label": "svr__C",
           "ticktext": [
            "None",
            10
           ],
           "tickvals": [
            0,
            1
           ],
           "values": [
            0,
            0,
            0,
            1,
            0,
            0,
            0,
            0,
            1,
            1,
            1
           ]
          },
          {
           "label": "svr__epsilon",
           "ticktext": [
            "None",
            0.01
           ],
           "tickvals": [
            0,
            1
           ],
           "values": [
            0,
            0,
            0,
            1,
            0,
            0,
            0,
            0,
            1,
            1,
            0
           ]
          },
          {
           "label": "svr__max_iter",
           "ticktext": [
            "None",
            2000
           ],
           "tickvals": [
            0,
            1
           ],
           "values": [
            0,
            0,
            0,
            1,
            0,
            0,
            0,
            0,
            1,
            1,
            1
           ]
          },
          {
           "label": "R^2",
           "tickvals": [
            -281.88,
            -140.8,
            0.28
           ],
           "values": [
            -281.88,
            0.28,
            0.28,
            0.28,
            0.07,
            0.28,
            0.28,
            0.28,
            0.28,
            0.28,
            0.28
           ]
          },
          {
           "label": "MSE",
           "tickvals": [
            78.72,
            3529.7,
            6980.68,
            10431.66,
            13882.64,
            17333.63,
            20784.61,
            24235.59,
            27686.57,
            31137.55
           ],
           "values": [
            31137.55,
            79.41,
            79.29,
            79.73,
            102.29,
            79.51,
            79.64,
            79.51,
            78.72,
            78.91,
            78.96
           ]
          }
         ],
         "labelangle": -15,
         "line": {
          "color": [
           31137.55,
           79.41,
           79.29,
           79.73,
           102.29,
           79.51,
           79.64,
           79.51,
           78.72,
           78.91,
           78.96
          ],
          "colorscale": [
           [
            0,
            "#440154"
           ],
           [
            0.1111111111111111,
            "#482878"
           ],
           [
            0.2222222222222222,
            "#3e4989"
           ],
           [
            0.3333333333333333,
            "#31688e"
           ],
           [
            0.4444444444444444,
            "#26828e"
           ],
           [
            0.5555555555555556,
            "#1f9e89"
           ],
           [
            0.6666666666666666,
            "#35b779"
           ],
           [
            0.7777777777777778,
            "#6ece58"
           ],
           [
            0.8888888888888888,
            "#b5de2b"
           ],
           [
            1,
            "#fde725"
           ]
          ],
          "showscale": true
         },
         "type": "parcoords"
        }
       ],
       "layout": {
        "template": {
         "data": {
          "bar": [
           {
            "error_x": {
             "color": "#2a3f5f"
            },
            "error_y": {
             "color": "#2a3f5f"
            },
            "marker": {
             "line": {
              "color": "#E5ECF6",
              "width": 0.5
             },
             "pattern": {
              "fillmode": "overlay",
              "size": 10,
              "solidity": 0.2
             }
            },
            "type": "bar"
           }
          ],
          "barpolar": [
           {
            "marker": {
             "line": {
              "color": "#E5ECF6",
              "width": 0.5
             },
             "pattern": {
              "fillmode": "overlay",
              "size": 10,
              "solidity": 0.2
             }
            },
            "type": "barpolar"
           }
          ],
          "carpet": [
           {
            "aaxis": {
             "endlinecolor": "#2a3f5f",
             "gridcolor": "white",
             "linecolor": "white",
             "minorgridcolor": "white",
             "startlinecolor": "#2a3f5f"
            },
            "baxis": {
             "endlinecolor": "#2a3f5f",
             "gridcolor": "white",
             "linecolor": "white",
             "minorgridcolor": "white",
             "startlinecolor": "#2a3f5f"
            },
            "type": "carpet"
           }
          ],
          "choropleth": [
           {
            "colorbar": {
             "outlinewidth": 0,
             "ticks": ""
            },
            "type": "choropleth"
           }
          ],
          "contour": [
           {
            "colorbar": {
             "outlinewidth": 0,
             "ticks": ""
            },
            "colorscale": [
             [
              0,
              "#0d0887"
             ],
             [
              0.1111111111111111,
              "#46039f"
             ],
             [
              0.2222222222222222,
              "#7201a8"
             ],
             [
              0.3333333333333333,
              "#9c179e"
             ],
             [
              0.4444444444444444,
              "#bd3786"
             ],
             [
              0.5555555555555556,
              "#d8576b"
             ],
             [
              0.6666666666666666,
              "#ed7953"
             ],
             [
              0.7777777777777778,
              "#fb9f3a"
             ],
             [
              0.8888888888888888,
              "#fdca26"
             ],
             [
              1,
              "#f0f921"
             ]
            ],
            "type": "contour"
           }
          ],
          "contourcarpet": [
           {
            "colorbar": {
             "outlinewidth": 0,
             "ticks": ""
            },
            "type": "contourcarpet"
           }
          ],
          "heatmap": [
           {
            "colorbar": {
             "outlinewidth": 0,
             "ticks": ""
            },
            "colorscale": [
             [
              0,
              "#0d0887"
             ],
             [
              0.1111111111111111,
              "#46039f"
             ],
             [
              0.2222222222222222,
              "#7201a8"
             ],
             [
              0.3333333333333333,
              "#9c179e"
             ],
             [
              0.4444444444444444,
              "#bd3786"
             ],
             [
              0.5555555555555556,
              "#d8576b"
             ],
             [
              0.6666666666666666,
              "#ed7953"
             ],
             [
              0.7777777777777778,
              "#fb9f3a"
             ],
             [
              0.8888888888888888,
              "#fdca26"
             ],
             [
              1,
              "#f0f921"
             ]
            ],
            "type": "heatmap"
           }
          ],
          "heatmapgl": [
           {
            "colorbar": {
             "outlinewidth": 0,
             "ticks": ""
            },
            "colorscale": [
             [
              0,
              "#0d0887"
             ],
             [
              0.1111111111111111,
              "#46039f"
             ],
             [
              0.2222222222222222,
              "#7201a8"
             ],
             [
              0.3333333333333333,
              "#9c179e"
             ],
             [
              0.4444444444444444,
              "#bd3786"
             ],
             [
              0.5555555555555556,
              "#d8576b"
             ],
             [
              0.6666666666666666,
              "#ed7953"
             ],
             [
              0.7777777777777778,
              "#fb9f3a"
             ],
             [
              0.8888888888888888,
              "#fdca26"
             ],
             [
              1,
              "#f0f921"
             ]
            ],
            "type": "heatmapgl"
           }
          ],
          "histogram": [
           {
            "marker": {
             "pattern": {
              "fillmode": "overlay",
              "size": 10,
              "solidity": 0.2
             }
            },
            "type": "histogram"
           }
          ],
          "histogram2d": [
           {
            "colorbar": {
             "outlinewidth": 0,
             "ticks": ""
            },
            "colorscale": [
             [
              0,
              "#0d0887"
             ],
             [
              0.1111111111111111,
              "#46039f"
             ],
             [
              0.2222222222222222,
              "#7201a8"
             ],
             [
              0.3333333333333333,
              "#9c179e"
             ],
             [
              0.4444444444444444,
              "#bd3786"
             ],
             [
              0.5555555555555556,
              "#d8576b"
             ],
             [
              0.6666666666666666,
              "#ed7953"
             ],
             [
              0.7777777777777778,
              "#fb9f3a"
             ],
             [
              0.8888888888888888,
              "#fdca26"
             ],
             [
              1,
              "#f0f921"
             ]
            ],
            "type": "histogram2d"
           }
          ],
          "histogram2dcontour": [
           {
            "colorbar": {
             "outlinewidth": 0,
             "ticks": ""
            },
            "colorscale": [
             [
              0,
              "#0d0887"
             ],
             [
              0.1111111111111111,
              "#46039f"
             ],
             [
              0.2222222222222222,
              "#7201a8"
             ],
             [
              0.3333333333333333,
              "#9c179e"
             ],
             [
              0.4444444444444444,
              "#bd3786"
             ],
             [
              0.5555555555555556,
              "#d8576b"
             ],
             [
              0.6666666666666666,
              "#ed7953"
             ],
             [
              0.7777777777777778,
              "#fb9f3a"
             ],
             [
              0.8888888888888888,
              "#fdca26"
             ],
             [
              1,
              "#f0f921"
             ]
            ],
            "type": "histogram2dcontour"
           }
          ],
          "mesh3d": [
           {
            "colorbar": {
             "outlinewidth": 0,
             "ticks": ""
            },
            "type": "mesh3d"
           }
          ],
          "parcoords": [
           {
            "line": {
             "colorbar": {
              "outlinewidth": 0,
              "ticks": ""
             }
            },
            "type": "parcoords"
           }
          ],
          "pie": [
           {
            "automargin": true,
            "type": "pie"
           }
          ],
          "scatter": [
           {
            "fillpattern": {
             "fillmode": "overlay",
             "size": 10,
             "solidity": 0.2
            },
            "type": "scatter"
           }
          ],
          "scatter3d": [
           {
            "line": {
             "colorbar": {
              "outlinewidth": 0,
              "ticks": ""
             }
            },
            "marker": {
             "colorbar": {
              "outlinewidth": 0,
              "ticks": ""
             }
            },
            "type": "scatter3d"
           }
          ],
          "scattercarpet": [
           {
            "marker": {
             "colorbar": {
              "outlinewidth": 0,
              "ticks": ""
             }
            },
            "type": "scattercarpet"
           }
          ],
          "scattergeo": [
           {
            "marker": {
             "colorbar": {
              "outlinewidth": 0,
              "ticks": ""
             }
            },
            "type": "scattergeo"
           }
          ],
          "scattergl": [
           {
            "marker": {
             "colorbar": {
              "outlinewidth": 0,
              "ticks": ""
             }
            },
            "type": "scattergl"
           }
          ],
          "scattermapbox": [
           {
            "marker": {
             "colorbar": {
              "outlinewidth": 0,
              "ticks": ""
             }
            },
            "type": "scattermapbox"
           }
          ],
          "scatterpolar": [
           {
            "marker": {
             "colorbar": {
              "outlinewidth": 0,
              "ticks": ""
             }
            },
            "type": "scatterpolar"
           }
          ],
          "scatterpolargl": [
           {
            "marker": {
             "colorbar": {
              "outlinewidth": 0,
              "ticks": ""
             }
            },
            "type": "scatterpolargl"
           }
          ],
          "scatterternary": [
           {
            "marker": {
             "colorbar": {
              "outlinewidth": 0,
              "ticks": ""
             }
            },
            "type": "scatterternary"
           }
          ],
          "surface": [
           {
            "colorbar": {
             "outlinewidth": 0,
             "ticks": ""
            },
            "colorscale": [
             [
              0,
              "#0d0887"
             ],
             [
              0.1111111111111111,
              "#46039f"
             ],
             [
              0.2222222222222222,
              "#7201a8"
             ],
             [
              0.3333333333333333,
              "#9c179e"
             ],
             [
              0.4444444444444444,
              "#bd3786"
             ],
             [
              0.5555555555555556,
              "#d8576b"
             ],
             [
              0.6666666666666666,
              "#ed7953"
             ],
             [
              0.7777777777777778,
              "#fb9f3a"
             ],
             [
              0.8888888888888888,
              "#fdca26"
             ],
             [
              1,
              "#f0f921"
             ]
            ],
            "type": "surface"
           }
          ],
          "table": [
           {
            "cells": {
             "fill": {
              "color": "#EBF0F8"
             },
             "line": {
              "color": "white"
             }
            },
            "header": {
             "fill": {
              "color": "#C8D4E3"
             },
             "line": {
              "color": "white"
             }
            },
            "type": "table"
           }
          ]
         },
         "layout": {
          "annotationdefaults": {
           "arrowcolor": "#2a3f5f",
           "arrowhead": 0,
           "arrowwidth": 1
          },
          "autotypenumbers": "strict",
          "coloraxis": {
           "colorbar": {
            "outlinewidth": 0,
            "ticks": ""
           }
          },
          "colorscale": {
           "diverging": [
            [
             0,
             "#8e0152"
            ],
            [
             0.1,
             "#c51b7d"
            ],
            [
             0.2,
             "#de77ae"
            ],
            [
             0.3,
             "#f1b6da"
            ],
            [
             0.4,
             "#fde0ef"
            ],
            [
             0.5,
             "#f7f7f7"
            ],
            [
             0.6,
             "#e6f5d0"
            ],
            [
             0.7,
             "#b8e186"
            ],
            [
             0.8,
             "#7fbc41"
            ],
            [
             0.9,
             "#4d9221"
            ],
            [
             1,
             "#276419"
            ]
           ],
           "sequential": [
            [
             0,
             "#0d0887"
            ],
            [
             0.1111111111111111,
             "#46039f"
            ],
            [
             0.2222222222222222,
             "#7201a8"
            ],
            [
             0.3333333333333333,
             "#9c179e"
            ],
            [
             0.4444444444444444,
             "#bd3786"
            ],
            [
             0.5555555555555556,
             "#d8576b"
            ],
            [
             0.6666666666666666,
             "#ed7953"
            ],
            [
             0.7777777777777778,
             "#fb9f3a"
            ],
            [
             0.8888888888888888,
             "#fdca26"
            ],
            [
             1,
             "#f0f921"
            ]
           ],
           "sequentialminus": [
            [
             0,
             "#0d0887"
            ],
            [
             0.1111111111111111,
             "#46039f"
            ],
            [
             0.2222222222222222,
             "#7201a8"
            ],
            [
             0.3333333333333333,
             "#9c179e"
            ],
            [
             0.4444444444444444,
             "#bd3786"
            ],
            [
             0.5555555555555556,
             "#d8576b"
            ],
            [
             0.6666666666666666,
             "#ed7953"
            ],
            [
             0.7777777777777778,
             "#fb9f3a"
            ],
            [
             0.8888888888888888,
             "#fdca26"
            ],
            [
             1,
             "#f0f921"
            ]
           ]
          },
          "colorway": [
           "#636efa",
           "#EF553B",
           "#00cc96",
           "#ab63fa",
           "#FFA15A",
           "#19d3f3",
           "#FF6692",
           "#B6E880",
           "#FF97FF",
           "#FECB52"
          ],
          "font": {
           "color": "#2a3f5f"
          },
          "geo": {
           "bgcolor": "white",
           "lakecolor": "white",
           "landcolor": "#E5ECF6",
           "showlakes": true,
           "showland": true,
           "subunitcolor": "white"
          },
          "hoverlabel": {
           "align": "left"
          },
          "hovermode": "closest",
          "mapbox": {
           "style": "light"
          },
          "paper_bgcolor": "white",
          "plot_bgcolor": "#E5ECF6",
          "polar": {
           "angularaxis": {
            "gridcolor": "white",
            "linecolor": "white",
            "ticks": ""
           },
           "bgcolor": "#E5ECF6",
           "radialaxis": {
            "gridcolor": "white",
            "linecolor": "white",
            "ticks": ""
           }
          },
          "scene": {
           "xaxis": {
            "backgroundcolor": "#E5ECF6",
            "gridcolor": "white",
            "gridwidth": 2,
            "linecolor": "white",
            "showbackground": true,
            "ticks": "",
            "zerolinecolor": "white"
           },
           "yaxis": {
            "backgroundcolor": "#E5ECF6",
            "gridcolor": "white",
            "gridwidth": 2,
            "linecolor": "white",
            "showbackground": true,
            "ticks": "",
            "zerolinecolor": "white"
           },
           "zaxis": {
            "backgroundcolor": "#E5ECF6",
            "gridcolor": "white",
            "gridwidth": 2,
            "linecolor": "white",
            "showbackground": true,
            "ticks": "",
            "zerolinecolor": "white"
           }
          },
          "shapedefaults": {
           "line": {
            "color": "#2a3f5f"
           }
          },
          "ternary": {
           "aaxis": {
            "gridcolor": "white",
            "linecolor": "white",
            "ticks": ""
           },
           "baxis": {
            "gridcolor": "white",
            "linecolor": "white",
            "ticks": ""
           },
           "bgcolor": "#E5ECF6",
           "caxis": {
            "gridcolor": "white",
            "linecolor": "white",
            "ticks": ""
           }
          },
          "title": {
           "x": 0.05
          },
          "xaxis": {
           "automargin": true,
           "gridcolor": "white",
           "linecolor": "white",
           "ticks": "",
           "title": {
            "standoff": 15
           },
           "zerolinecolor": "white",
           "zerolinewidth": 2
          },
          "yaxis": {
           "automargin": true,
           "gridcolor": "white",
           "linecolor": "white",
           "ticks": "",
           "title": {
            "standoff": 15
           },
           "zerolinecolor": "white",
           "zerolinewidth": 2
          }
         }
        }
       }
      }
     },
     "metadata": {},
     "output_type": "display_data"
    }
   ],
   "source": [
    "save_display_results(\n",
    "    name_estimator,\n",
    "    best_preprocessor,\n",
    "    best_estimator,\n",
    "    best_predictions,\n",
    ")"
   ]
  },
  {
   "cell_type": "markdown",
   "metadata": {},
   "source": [
    "---\n",
    "## SVM"
   ]
  },
  {
   "cell_type": "code",
   "execution_count": null,
   "metadata": {},
   "outputs": [],
   "source": [
    "param_estimator = {\n",
    "    \"svr__epsilon\": [0.01],\n",
    "    \"svr__C\": [10],  # 0.1, 1, 100, 500, 5, 20, 8, 9,15\n",
    "    \"svr__max_iter\": [2000],\n",
    "}\n",
    "\n",
    "name_estimator = \"svr\"\n",
    "\n",
    "best_preprocessor, best_estimator, best_predictions = gridSearch(\n",
    "    name_estimator,\n",
    "    LinearSVR(dual=\"auto\", random_state=random_state),\n",
    "    param_estimator,\n",
    "    False,\n",
    ")"
   ]
  },
  {
   "cell_type": "code",
   "execution_count": 198,
   "metadata": {},
   "outputs": [
    {
     "data": {
      "text/html": [
       "<style type=\"text/css\">\n",
       "</style>\n",
       "<table id=\"T_aff6d\">\n",
       "  <thead>\n",
       "    <tr>\n",
       "      <th class=\"blank level0\" >&nbsp;</th>\n",
       "      <th id=\"T_aff6d_level0_col0\" class=\"col_heading level0 col0\" >lda__covariance_estimator</th>\n",
       "      <th id=\"T_aff6d_level0_col1\" class=\"col_heading level0 col1\" >lda__solver</th>\n",
       "      <th id=\"T_aff6d_level0_col2\" class=\"col_heading level0 col2\" >nys__gamma</th>\n",
       "      <th id=\"T_aff6d_level0_col3\" class=\"col_heading level0 col3\" >nys__n_components</th>\n",
       "      <th id=\"T_aff6d_level0_col4\" class=\"col_heading level0 col4\" >preprocess</th>\n",
       "      <th id=\"T_aff6d_level0_col5\" class=\"col_heading level0 col5\" >pca__n_components</th>\n",
       "      <th id=\"T_aff6d_level0_col6\" class=\"col_heading level0 col6\" >pca__svd_solver</th>\n",
       "      <th id=\"T_aff6d_level0_col7\" class=\"col_heading level0 col7\" >pca__whiten</th>\n",
       "      <th id=\"T_aff6d_level0_col8\" class=\"col_heading level0 col8\" >svr__C</th>\n",
       "      <th id=\"T_aff6d_level0_col9\" class=\"col_heading level0 col9\" >svr__epsilon</th>\n",
       "      <th id=\"T_aff6d_level0_col10\" class=\"col_heading level0 col10\" >svr__max_iter</th>\n",
       "      <th id=\"T_aff6d_level0_col11\" class=\"col_heading level0 col11\" >MSE</th>\n",
       "      <th id=\"T_aff6d_level0_col12\" class=\"col_heading level0 col12\" >R^2</th>\n",
       "    </tr>\n",
       "  </thead>\n",
       "  <tbody>\n",
       "    <tr>\n",
       "      <th id=\"T_aff6d_level0_row0\" class=\"row_heading level0 row0\" >8</th>\n",
       "      <td id=\"T_aff6d_row0_col0\" class=\"data row0 col0\" >OAS()</td>\n",
       "      <td id=\"T_aff6d_row0_col1\" class=\"data row0 col1\" >eigen</td>\n",
       "      <td id=\"T_aff6d_row0_col2\" class=\"data row0 col2\" >0.0100000</td>\n",
       "      <td id=\"T_aff6d_row0_col3\" class=\"data row0 col3\" >1000.0000000</td>\n",
       "      <td id=\"T_aff6d_row0_col4\" class=\"data row0 col4\" >min-max + l1 + lda + nystroem</td>\n",
       "      <td id=\"T_aff6d_row0_col5\" class=\"data row0 col5\" >nan</td>\n",
       "      <td id=\"T_aff6d_row0_col6\" class=\"data row0 col6\" >nan</td>\n",
       "      <td id=\"T_aff6d_row0_col7\" class=\"data row0 col7\" >nan</td>\n",
       "      <td id=\"T_aff6d_row0_col8\" class=\"data row0 col8\" >10.0000000</td>\n",
       "      <td id=\"T_aff6d_row0_col9\" class=\"data row0 col9\" >0.0100000</td>\n",
       "      <td id=\"T_aff6d_row0_col10\" class=\"data row0 col10\" >2000.0000000</td>\n",
       "      <td id=\"T_aff6d_row0_col11\" class=\"data row0 col11\" >78.7212330</td>\n",
       "      <td id=\"T_aff6d_row0_col12\" class=\"data row0 col12\" >0.2848287</td>\n",
       "    </tr>\n",
       "    <tr>\n",
       "      <th id=\"T_aff6d_level0_row1\" class=\"row_heading level0 row1\" >9</th>\n",
       "      <td id=\"T_aff6d_row1_col0\" class=\"data row1 col0\" >OAS()</td>\n",
       "      <td id=\"T_aff6d_row1_col1\" class=\"data row1 col1\" >eigen</td>\n",
       "      <td id=\"T_aff6d_row1_col2\" class=\"data row1 col2\" >0.0100000</td>\n",
       "      <td id=\"T_aff6d_row1_col3\" class=\"data row1 col3\" >1000.0000000</td>\n",
       "      <td id=\"T_aff6d_row1_col4\" class=\"data row1 col4\" >min-max + lda + nystroem</td>\n",
       "      <td id=\"T_aff6d_row1_col5\" class=\"data row1 col5\" >nan</td>\n",
       "      <td id=\"T_aff6d_row1_col6\" class=\"data row1 col6\" >nan</td>\n",
       "      <td id=\"T_aff6d_row1_col7\" class=\"data row1 col7\" >nan</td>\n",
       "      <td id=\"T_aff6d_row1_col8\" class=\"data row1 col8\" >10.0000000</td>\n",
       "      <td id=\"T_aff6d_row1_col9\" class=\"data row1 col9\" >0.0100000</td>\n",
       "      <td id=\"T_aff6d_row1_col10\" class=\"data row1 col10\" >2000.0000000</td>\n",
       "      <td id=\"T_aff6d_row1_col11\" class=\"data row1 col11\" >78.9061170</td>\n",
       "      <td id=\"T_aff6d_row1_col12\" class=\"data row1 col12\" >0.2831491</td>\n",
       "    </tr>\n",
       "    <tr>\n",
       "      <th id=\"T_aff6d_level0_row2\" class=\"row_heading level0 row2\" >10</th>\n",
       "      <td id=\"T_aff6d_row2_col0\" class=\"data row2 col0\" >OAS()</td>\n",
       "      <td id=\"T_aff6d_row2_col1\" class=\"data row2 col1\" >eigen</td>\n",
       "      <td id=\"T_aff6d_row2_col2\" class=\"data row2 col2\" >0.0100000</td>\n",
       "      <td id=\"T_aff6d_row2_col3\" class=\"data row2 col3\" >1000.0000000</td>\n",
       "      <td id=\"T_aff6d_row2_col4\" class=\"data row2 col4\" >min-max + l1 + lda + nystroem</td>\n",
       "      <td id=\"T_aff6d_row2_col5\" class=\"data row2 col5\" >nan</td>\n",
       "      <td id=\"T_aff6d_row2_col6\" class=\"data row2 col6\" >nan</td>\n",
       "      <td id=\"T_aff6d_row2_col7\" class=\"data row2 col7\" >nan</td>\n",
       "      <td id=\"T_aff6d_row2_col8\" class=\"data row2 col8\" >10.0000000</td>\n",
       "      <td id=\"T_aff6d_row2_col9\" class=\"data row2 col9\" >nan</td>\n",
       "      <td id=\"T_aff6d_row2_col10\" class=\"data row2 col10\" >2000.0000000</td>\n",
       "      <td id=\"T_aff6d_row2_col11\" class=\"data row2 col11\" >78.9567844</td>\n",
       "      <td id=\"T_aff6d_row2_col12\" class=\"data row2 col12\" >0.2826888</td>\n",
       "    </tr>\n",
       "    <tr>\n",
       "      <th id=\"T_aff6d_level0_row3\" class=\"row_heading level0 row3\" >2</th>\n",
       "      <td id=\"T_aff6d_row3_col0\" class=\"data row3 col0\" >OAS()</td>\n",
       "      <td id=\"T_aff6d_row3_col1\" class=\"data row3 col1\" >eigen</td>\n",
       "      <td id=\"T_aff6d_row3_col2\" class=\"data row3 col2\" >0.0100000</td>\n",
       "      <td id=\"T_aff6d_row3_col3\" class=\"data row3 col3\" >1000.0000000</td>\n",
       "      <td id=\"T_aff6d_row3_col4\" class=\"data row3 col4\" >min-max + l1 + lda + nystroem</td>\n",
       "      <td id=\"T_aff6d_row3_col5\" class=\"data row3 col5\" >nan</td>\n",
       "      <td id=\"T_aff6d_row3_col6\" class=\"data row3 col6\" >nan</td>\n",
       "      <td id=\"T_aff6d_row3_col7\" class=\"data row3 col7\" >nan</td>\n",
       "      <td id=\"T_aff6d_row3_col8\" class=\"data row3 col8\" >nan</td>\n",
       "      <td id=\"T_aff6d_row3_col9\" class=\"data row3 col9\" >nan</td>\n",
       "      <td id=\"T_aff6d_row3_col10\" class=\"data row3 col10\" >nan</td>\n",
       "      <td id=\"T_aff6d_row3_col11\" class=\"data row3 col11\" >79.2911086</td>\n",
       "      <td id=\"T_aff6d_row3_col12\" class=\"data row3 col12\" >0.2796515</td>\n",
       "    </tr>\n",
       "    <tr>\n",
       "      <th id=\"T_aff6d_level0_row4\" class=\"row_heading level0 row4\" >1</th>\n",
       "      <td id=\"T_aff6d_row4_col0\" class=\"data row4 col0\" >OAS()</td>\n",
       "      <td id=\"T_aff6d_row4_col1\" class=\"data row4 col1\" >eigen</td>\n",
       "      <td id=\"T_aff6d_row4_col2\" class=\"data row4 col2\" >0.0100000</td>\n",
       "      <td id=\"T_aff6d_row4_col3\" class=\"data row4 col3\" >1000.0000000</td>\n",
       "      <td id=\"T_aff6d_row4_col4\" class=\"data row4 col4\" >min-max + lmax + lda + nystroem</td>\n",
       "      <td id=\"T_aff6d_row4_col5\" class=\"data row4 col5\" >nan</td>\n",
       "      <td id=\"T_aff6d_row4_col6\" class=\"data row4 col6\" >nan</td>\n",
       "      <td id=\"T_aff6d_row4_col7\" class=\"data row4 col7\" >nan</td>\n",
       "      <td id=\"T_aff6d_row4_col8\" class=\"data row4 col8\" >nan</td>\n",
       "      <td id=\"T_aff6d_row4_col9\" class=\"data row4 col9\" >nan</td>\n",
       "      <td id=\"T_aff6d_row4_col10\" class=\"data row4 col10\" >nan</td>\n",
       "      <td id=\"T_aff6d_row4_col11\" class=\"data row4 col11\" >79.4122769</td>\n",
       "      <td id=\"T_aff6d_row4_col12\" class=\"data row4 col12\" >0.2785507</td>\n",
       "    </tr>\n",
       "    <tr>\n",
       "      <th id=\"T_aff6d_level0_row5\" class=\"row_heading level0 row5\" >7</th>\n",
       "      <td id=\"T_aff6d_row5_col0\" class=\"data row5 col0\" >OAS()</td>\n",
       "      <td id=\"T_aff6d_row5_col1\" class=\"data row5 col1\" >eigen</td>\n",
       "      <td id=\"T_aff6d_row5_col2\" class=\"data row5 col2\" >0.0100000</td>\n",
       "      <td id=\"T_aff6d_row5_col3\" class=\"data row5 col3\" >1000.0000000</td>\n",
       "      <td id=\"T_aff6d_row5_col4\" class=\"data row5 col4\" >min-max + l2 + lda + nystroem</td>\n",
       "      <td id=\"T_aff6d_row5_col5\" class=\"data row5 col5\" >nan</td>\n",
       "      <td id=\"T_aff6d_row5_col6\" class=\"data row5 col6\" >nan</td>\n",
       "      <td id=\"T_aff6d_row5_col7\" class=\"data row5 col7\" >nan</td>\n",
       "      <td id=\"T_aff6d_row5_col8\" class=\"data row5 col8\" >nan</td>\n",
       "      <td id=\"T_aff6d_row5_col9\" class=\"data row5 col9\" >nan</td>\n",
       "      <td id=\"T_aff6d_row5_col10\" class=\"data row5 col10\" >nan</td>\n",
       "      <td id=\"T_aff6d_row5_col11\" class=\"data row5 col11\" >79.5118577</td>\n",
       "      <td id=\"T_aff6d_row5_col12\" class=\"data row5 col12\" >0.2776460</td>\n",
       "    </tr>\n",
       "    <tr>\n",
       "      <th id=\"T_aff6d_level0_row6\" class=\"row_heading level0 row6\" >5</th>\n",
       "      <td id=\"T_aff6d_row6_col0\" class=\"data row6 col0\" >OAS()</td>\n",
       "      <td id=\"T_aff6d_row6_col1\" class=\"data row6 col1\" >eigen</td>\n",
       "      <td id=\"T_aff6d_row6_col2\" class=\"data row6 col2\" >0.0100000</td>\n",
       "      <td id=\"T_aff6d_row6_col3\" class=\"data row6 col3\" >1000.0000000</td>\n",
       "      <td id=\"T_aff6d_row6_col4\" class=\"data row6 col4\" >min-max + lda + nystroem</td>\n",
       "      <td id=\"T_aff6d_row6_col5\" class=\"data row6 col5\" >nan</td>\n",
       "      <td id=\"T_aff6d_row6_col6\" class=\"data row6 col6\" >nan</td>\n",
       "      <td id=\"T_aff6d_row6_col7\" class=\"data row6 col7\" >nan</td>\n",
       "      <td id=\"T_aff6d_row6_col8\" class=\"data row6 col8\" >nan</td>\n",
       "      <td id=\"T_aff6d_row6_col9\" class=\"data row6 col9\" >nan</td>\n",
       "      <td id=\"T_aff6d_row6_col10\" class=\"data row6 col10\" >nan</td>\n",
       "      <td id=\"T_aff6d_row6_col11\" class=\"data row6 col11\" >79.5140189</td>\n",
       "      <td id=\"T_aff6d_row6_col12\" class=\"data row6 col12\" >0.2776264</td>\n",
       "    </tr>\n",
       "    <tr>\n",
       "      <th id=\"T_aff6d_level0_row7\" class=\"row_heading level0 row7\" >6</th>\n",
       "      <td id=\"T_aff6d_row7_col0\" class=\"data row7 col0\" >OAS()</td>\n",
       "      <td id=\"T_aff6d_row7_col1\" class=\"data row7 col1\" >eigen</td>\n",
       "      <td id=\"T_aff6d_row7_col2\" class=\"data row7 col2\" >0.0100000</td>\n",
       "      <td id=\"T_aff6d_row7_col3\" class=\"data row7 col3\" >1000.0000000</td>\n",
       "      <td id=\"T_aff6d_row7_col4\" class=\"data row7 col4\" >std-scaler + lda + nystroem</td>\n",
       "      <td id=\"T_aff6d_row7_col5\" class=\"data row7 col5\" >nan</td>\n",
       "      <td id=\"T_aff6d_row7_col6\" class=\"data row7 col6\" >nan</td>\n",
       "      <td id=\"T_aff6d_row7_col7\" class=\"data row7 col7\" >nan</td>\n",
       "      <td id=\"T_aff6d_row7_col8\" class=\"data row7 col8\" >nan</td>\n",
       "      <td id=\"T_aff6d_row7_col9\" class=\"data row7 col9\" >nan</td>\n",
       "      <td id=\"T_aff6d_row7_col10\" class=\"data row7 col10\" >nan</td>\n",
       "      <td id=\"T_aff6d_row7_col11\" class=\"data row7 col11\" >79.6422640</td>\n",
       "      <td id=\"T_aff6d_row7_col12\" class=\"data row7 col12\" >0.2764613</td>\n",
       "    </tr>\n",
       "    <tr>\n",
       "      <th id=\"T_aff6d_level0_row8\" class=\"row_heading level0 row8\" >3</th>\n",
       "      <td id=\"T_aff6d_row8_col0\" class=\"data row8 col0\" >nan</td>\n",
       "      <td id=\"T_aff6d_row8_col1\" class=\"data row8 col1\" >nan</td>\n",
       "      <td id=\"T_aff6d_row8_col2\" class=\"data row8 col2\" >0.0100000</td>\n",
       "      <td id=\"T_aff6d_row8_col3\" class=\"data row8 col3\" >1000.0000000</td>\n",
       "      <td id=\"T_aff6d_row8_col4\" class=\"data row8 col4\" >min-max + pca 0.95 + nystroem</td>\n",
       "      <td id=\"T_aff6d_row8_col5\" class=\"data row8 col5\" >0.9500000</td>\n",
       "      <td id=\"T_aff6d_row8_col6\" class=\"data row8 col6\" >full</td>\n",
       "      <td id=\"T_aff6d_row8_col7\" class=\"data row8 col7\" >True</td>\n",
       "      <td id=\"T_aff6d_row8_col8\" class=\"data row8 col8\" >10.0000000</td>\n",
       "      <td id=\"T_aff6d_row8_col9\" class=\"data row8 col9\" >0.0100000</td>\n",
       "      <td id=\"T_aff6d_row8_col10\" class=\"data row8 col10\" >2000.0000000</td>\n",
       "      <td id=\"T_aff6d_row8_col11\" class=\"data row8 col11\" >79.7303619</td>\n",
       "      <td id=\"T_aff6d_row8_col12\" class=\"data row8 col12\" >0.2756609</td>\n",
       "    </tr>\n",
       "    <tr>\n",
       "      <th id=\"T_aff6d_level0_row9\" class=\"row_heading level0 row9\" >4</th>\n",
       "      <td id=\"T_aff6d_row9_col0\" class=\"data row9 col0\" >OAS()</td>\n",
       "      <td id=\"T_aff6d_row9_col1\" class=\"data row9 col1\" >eigen</td>\n",
       "      <td id=\"T_aff6d_row9_col2\" class=\"data row9 col2\" >0.0100000</td>\n",
       "      <td id=\"T_aff6d_row9_col3\" class=\"data row9 col3\" >1000.0000000</td>\n",
       "      <td id=\"T_aff6d_row9_col4\" class=\"data row9 col4\" >min-max + nystroem</td>\n",
       "      <td id=\"T_aff6d_row9_col5\" class=\"data row9 col5\" >nan</td>\n",
       "      <td id=\"T_aff6d_row9_col6\" class=\"data row9 col6\" >nan</td>\n",
       "      <td id=\"T_aff6d_row9_col7\" class=\"data row9 col7\" >nan</td>\n",
       "      <td id=\"T_aff6d_row9_col8\" class=\"data row9 col8\" >nan</td>\n",
       "      <td id=\"T_aff6d_row9_col9\" class=\"data row9 col9\" >nan</td>\n",
       "      <td id=\"T_aff6d_row9_col10\" class=\"data row9 col10\" >nan</td>\n",
       "      <td id=\"T_aff6d_row9_col11\" class=\"data row9 col11\" >102.2867139</td>\n",
       "      <td id=\"T_aff6d_row9_col12\" class=\"data row9 col12\" >0.0707397</td>\n",
       "    </tr>\n",
       "    <tr>\n",
       "      <th id=\"T_aff6d_level0_row10\" class=\"row_heading level0 row10\" >0</th>\n",
       "      <td id=\"T_aff6d_row10_col0\" class=\"data row10 col0\" >nan</td>\n",
       "      <td id=\"T_aff6d_row10_col1\" class=\"data row10 col1\" >nan</td>\n",
       "      <td id=\"T_aff6d_row10_col2\" class=\"data row10 col2\" >nan</td>\n",
       "      <td id=\"T_aff6d_row10_col3\" class=\"data row10 col3\" >nan</td>\n",
       "      <td id=\"T_aff6d_row10_col4\" class=\"data row10 col4\" >raw</td>\n",
       "      <td id=\"T_aff6d_row10_col5\" class=\"data row10 col5\" >nan</td>\n",
       "      <td id=\"T_aff6d_row10_col6\" class=\"data row10 col6\" >nan</td>\n",
       "      <td id=\"T_aff6d_row10_col7\" class=\"data row10 col7\" >nan</td>\n",
       "      <td id=\"T_aff6d_row10_col8\" class=\"data row10 col8\" >nan</td>\n",
       "      <td id=\"T_aff6d_row10_col9\" class=\"data row10 col9\" >nan</td>\n",
       "      <td id=\"T_aff6d_row10_col10\" class=\"data row10 col10\" >nan</td>\n",
       "      <td id=\"T_aff6d_row10_col11\" class=\"data row10 col11\" >31137.5546060</td>\n",
       "      <td id=\"T_aff6d_row10_col12\" class=\"data row10 col12\" >-281.8802833</td>\n",
       "    </tr>\n",
       "  </tbody>\n",
       "</table>\n"
      ],
      "text/plain": [
       "<pandas.io.formats.style.Styler at 0x224fd801ad0>"
      ]
     },
     "metadata": {},
     "output_type": "display_data"
    }
   ],
   "source": [
    "print_all_results(name_estimator)"
   ]
  },
  {
   "cell_type": "code",
   "execution_count": 199,
   "metadata": {},
   "outputs": [
    {
     "data": {
      "image/png": "[encoded data removed]",
      "text/plain": [
       "<Figure size 1000x1000 with 2 Axes>"
      ]
     },
     "metadata": {},
     "output_type": "display_data"
    },
    {
     "data": {
      "application/vnd.plotly.v1+json": {
       "config": {
        "plotlyServerURL": "https://plot.ly"
       },
       "data": [
        {
         "dimensions": [
          {
           "label": "lda__covariance_estimator",
           "ticktext": [
            "None",
            "OAS()"
           ],
           "tickvals": [
            0,
            1
           ],
           "values": [
            0,
            1,
            1,
            0,
            1,
            1,
            1,
            1,
            1,
            1,
            1
           ]
          },
          {
           "label": "lda__solver",
           "ticktext": [
            "None",
            "eigen"
           ],
           "tickvals": [
            0,
            1
           ],
           "values": [
            0,
            1,
            1,
            0,
            1,
            1,
            1,
            1,
            1,
            1,
            1
           ]
          },
          {
           "label": "nys__gamma",
           "ticktext": [
            "None",
            0.01
           ],
           "tickvals": [
            0,
            1
           ],
           "values": [
            0,
            1,
            1,
            1,
            1,
            1,
            1,
            1,
            1,
            1,
            1
           ]
          },
          {
           "label": "nys__n_components",
           "ticktext": [
            "None",
            1000
           ],
           "tickvals": [
            0,
            1
           ],
           "values": [
            0,
            1,
            1,
            1,
            1,
            1,
            1,
            1,
            1,
            1,
            1
           ]
          },
          {
           "label": "preprocess",
           "ticktext": [
            "raw",
            "min-max + lmax + lda + nystroem",
            "min-max + l1 + lda + nystroem",
            "min-max + pca 0.95 + nystroem",
            "min-max + nystroem",
            "min-max + lda + nystroem",
            "std-scaler + lda + nystroem",
            "min-max + l2 + lda + nystroem"
           ],
           "tickvals": [
            0,
            1,
            2,
            3,
            4,
            5,
            6,
            7
           ],
           "values": [
            0,
            1,
            2,
            3,
            4,
            5,
            6,
            7,
            2,
            5,
            2
           ]
          },
          {
           "label": "pca__n_components",
           "ticktext": [
            "None",
            0.95
           ],
           "tickvals": [
            0,
            1
           ],
           "values": [
            0,
            0,
            0,
            1,
            0,
            0,
            0,
            0,
            0,
            0,
            0
           ]
          },
          {
           "label": "pca__svd_solver",
           "ticktext": [
            "None",
            "full"
           ],
           "tickvals": [
            0,
            1
           ],
           "values": [
            0,
            0,
            0,
            1,
            0,
            0,
            0,
            0,
            0,
            0,
            0
           ]
          },
          {
           "label": "pca__whiten",
           "ticktext": [
            "None",
            true
           ],
           "tickvals": [
            0,
            1
           ],
           "values": [
            0,
            0,
            0,
            1,
            0,
            0,
            0,
            0,
            0,
            0,
            0
           ]
          },
          {
           "label": "svr__C",
           "ticktext": [
            "None",
            10
           ],
           "tickvals": [
            0,
            1
           ],
           "values": [
            0,
            0,
            0,
            1,
            0,
            0,
            0,
            0,
            1,
            1,
            1
           ]
          },
          {
           "label": "svr__epsilon",
           "ticktext": [
            "None",
            0.01
           ],
           "tickvals": [
            0,
            1
           ],
           "values": [
            0,
            0,
            0,
            1,
            0,
            0,
            0,
            0,
            1,
            1,
            0
           ]
          },
          {
           "label": "svr__max_iter",
           "ticktext": [
            "None",
            2000
           ],
           "tickvals": [
            0,
            1
           ],
           "values": [
            0,
            0,
            0,
            1,
            0,
            0,
            0,
            0,
            1,
            1,
            1
           ]
          },
          {
           "label": "R^2",
           "tickvals": [
            -281.88,
            -140.8,
            0.28
           ],
           "values": [
            -281.88,
            0.28,
            0.28,
            0.28,
            0.07,
            0.28,
            0.28,
            0.28,
            0.28,
            0.28,
            0.28
           ]
          },
          {
           "label": "MSE",
           "tickvals": [
            78.72,
            3529.7,
            6980.68,
            10431.66,
            13882.64,
            17333.63,
            20784.61,
            24235.59,
            27686.57,
            31137.55
           ],
           "values": [
            31137.55,
            79.41,
            79.29,
            79.73,
            102.29,
            79.51,
            79.64,
            79.51,
            78.72,
            78.91,
            78.96
           ]
          }
         ],
         "labelangle": -15,
         "line": {
          "color": [
           31137.55,
           79.41,
           79.29,
           79.73,
           102.29,
           79.51,
           79.64,
           79.51,
           78.72,
           78.91,
           78.96
          ],
          "colorscale": [
           [
            0,
            "#440154"
           ],
           [
            0.1111111111111111,
            "#482878"
           ],
           [
            0.2222222222222222,
            "#3e4989"
           ],
           [
            0.3333333333333333,
            "#31688e"
           ],
           [
            0.4444444444444444,
            "#26828e"
           ],
           [
            0.5555555555555556,
            "#1f9e89"
           ],
           [
            0.6666666666666666,
            "#35b779"
           ],
           [
            0.7777777777777778,
            "#6ece58"
           ],
           [
            0.8888888888888888,
            "#b5de2b"
           ],
           [
            1,
            "#fde725"
           ]
          ],
          "showscale": true
         },
         "type": "parcoords"
        }
       ],
       "layout": {
        "template": {
         "data": {
          "bar": [
           {
            "error_x": {
             "color": "#2a3f5f"
            },
            "error_y": {
             "color": "#2a3f5f"
            },
            "marker": {
             "line": {
              "color": "#E5ECF6",
              "width": 0.5
             },
             "pattern": {
              "fillmode": "overlay",
              "size": 10,
              "solidity": 0.2
             }
            },
            "type": "bar"
           }
          ],
          "barpolar": [
           {
            "marker": {
             "line": {
              "color": "#E5ECF6",
              "width": 0.5
             },
             "pattern": {
              "fillmode": "overlay",
              "size": 10,
              "solidity": 0.2
             }
            },
            "type": "barpolar"
           }
          ],
          "carpet": [
           {
            "aaxis": {
             "endlinecolor": "#2a3f5f",
             "gridcolor": "white",
             "linecolor": "white",
             "minorgridcolor": "white",
             "startlinecolor": "#2a3f5f"
            },
            "baxis": {
             "endlinecolor": "#2a3f5f",
             "gridcolor": "white",
             "linecolor": "white",
             "minorgridcolor": "white",
             "startlinecolor": "#2a3f5f"
            },
            "type": "carpet"
           }
          ],
          "choropleth": [
           {
            "colorbar": {
             "outlinewidth": 0,
             "ticks": ""
            },
            "type": "choropleth"
           }
          ],
          "contour": [
           {
            "colorbar": {
             "outlinewidth": 0,
             "ticks": ""
            },
            "colorscale": [
             [
              0,
              "#0d0887"
             ],
             [
              0.1111111111111111,
              "#46039f"
             ],
             [
              0.2222222222222222,
              "#7201a8"
             ],
             [
              0.3333333333333333,
              "#9c179e"
             ],
             [
              0.4444444444444444,
              "#bd3786"
             ],
             [
              0.5555555555555556,
              "#d8576b"
             ],
             [
              0.6666666666666666,
              "#ed7953"
             ],
             [
              0.7777777777777778,
              "#fb9f3a"
             ],
             [
              0.8888888888888888,
              "#fdca26"
             ],
             [
              1,
              "#f0f921"
             ]
            ],
            "type": "contour"
           }
          ],
          "contourcarpet": [
           {
            "colorbar": {
             "outlinewidth": 0,
             "ticks": ""
            },
            "type": "contourcarpet"
           }
          ],
          "heatmap": [
           {
            "colorbar": {
             "outlinewidth": 0,
             "ticks": ""
            },
            "colorscale": [
             [
              0,
              "#0d0887"
             ],
             [
              0.1111111111111111,
              "#46039f"
             ],
             [
              0.2222222222222222,
              "#7201a8"
             ],
             [
              0.3333333333333333,
              "#9c179e"
             ],
             [
              0.4444444444444444,
              "#bd3786"
             ],
             [
              0.5555555555555556,
              "#d8576b"
             ],
             [
              0.6666666666666666,
              "#ed7953"
             ],
             [
              0.7777777777777778,
              "#fb9f3a"
             ],
             [
              0.8888888888888888,
              "#fdca26"
             ],
             [
              1,
              "#f0f921"
             ]
            ],
            "type": "heatmap"
           }
          ],
          "heatmapgl": [
           {
            "colorbar": {
             "outlinewidth": 0,
             "ticks": ""
            },
            "colorscale": [
             [
              0,
              "#0d0887"
             ],
             [
              0.1111111111111111,
              "#46039f"
             ],
             [
              0.2222222222222222,
              "#7201a8"
             ],
             [
              0.3333333333333333,
              "#9c179e"
             ],
             [
              0.4444444444444444,
              "#bd3786"
             ],
             [
              0.5555555555555556,
              "#d8576b"
             ],
             [
              0.6666666666666666,
              "#ed7953"
             ],
             [
              0.7777777777777778,
              "#fb9f3a"
             ],
             [
              0.8888888888888888,
              "#fdca26"
             ],
             [
              1,
              "#f0f921"
             ]
            ],
            "type": "heatmapgl"
           }
          ],
          "histogram": [
           {
            "marker": {
             "pattern": {
              "fillmode": "overlay",
              "size": 10,
              "solidity": 0.2
             }
            },
            "type": "histogram"
           }
          ],
          "histogram2d": [
           {
            "colorbar": {
             "outlinewidth": 0,
             "ticks": ""
            },
            "colorscale": [
             [
              0,
              "#0d0887"
             ],
             [
              0.1111111111111111,
              "#46039f"
             ],
             [
              0.2222222222222222,
              "#7201a8"
             ],
             [
              0.3333333333333333,
              "#9c179e"
             ],
             [
              0.4444444444444444,
              "#bd3786"
             ],
             [
              0.5555555555555556,
              "#d8576b"
             ],
             [
              0.6666666666666666,
              "#ed7953"
             ],
             [
              0.7777777777777778,
              "#fb9f3a"
             ],
             [
              0.8888888888888888,
              "#fdca26"
             ],
             [
              1,
              "#f0f921"
             ]
            ],
            "type": "histogram2d"
           }
          ],
          "histogram2dcontour": [
           {
            "colorbar": {
             "outlinewidth": 0,
             "ticks": ""
            },
            "colorscale": [
             [
              0,
              "#0d0887"
             ],
             [
              0.1111111111111111,
              "#46039f"
             ],
             [
              0.2222222222222222,
              "#7201a8"
             ],
             [
              0.3333333333333333,
              "#9c179e"
             ],
             [
              0.4444444444444444,
              "#bd3786"
             ],
             [
              0.5555555555555556,
              "#d8576b"
             ],
             [
              0.6666666666666666,
              "#ed7953"
             ],
             [
              0.7777777777777778,
              "#fb9f3a"
             ],
             [
              0.8888888888888888,
              "#fdca26"
             ],
             [
              1,
              "#f0f921"
             ]
            ],
            "type": "histogram2dcontour"
           }
          ],
          "mesh3d": [
           {
            "colorbar": {
             "outlinewidth": 0,
             "ticks": ""
            },
            "type": "mesh3d"
           }
          ],
          "parcoords": [
           {
            "line": {
             "colorbar": {
              "outlinewidth": 0,
              "ticks": ""
             }
            },
            "type": "parcoords"
           }
          ],
          "pie": [
           {
            "automargin": true,
            "type": "pie"
           }
          ],
          "scatter": [
           {
            "fillpattern": {
             "fillmode": "overlay",
             "size": 10,
             "solidity": 0.2
            },
            "type": "scatter"
           }
          ],
          "scatter3d": [
           {
            "line": {
             "colorbar": {
              "outlinewidth": 0,
              "ticks": ""
             }
            },
            "marker": {
             "colorbar": {
              "outlinewidth": 0,
              "ticks": ""
             }
            },
            "type": "scatter3d"
           }
          ],
          "scattercarpet": [
           {
            "marker": {
             "colorbar": {
              "outlinewidth": 0,
              "ticks": ""
             }
            },
            "type": "scattercarpet"
           }
          ],
          "scattergeo": [
           {
            "marker": {
             "colorbar": {
              "outlinewidth": 0,
              "ticks": ""
             }
            },
            "type": "scattergeo"
           }
          ],
          "scattergl": [
           {
            "marker": {
             "colorbar": {
              "outlinewidth": 0,
              "ticks": ""
             }
            },
            "type": "scattergl"
           }
          ],
          "scattermapbox": [
           {
            "marker": {
             "colorbar": {
              "outlinewidth": 0,
              "ticks": ""
             }
            },
            "type": "scattermapbox"
           }
          ],
          "scatterpolar": [
           {
            "marker": {
             "colorbar": {
              "outlinewidth": 0,
              "ticks": ""
             }
            },
            "type": "scatterpolar"
           }
          ],
          "scatterpolargl": [
           {
            "marker": {
             "colorbar": {
              "outlinewidth": 0,
              "ticks": ""
             }
            },
            "type": "scatterpolargl"
           }
          ],
          "scatterternary": [
           {
            "marker": {
             "colorbar": {
              "outlinewidth": 0,
              "ticks": ""
             }
            },
            "type": "scatterternary"
           }
          ],
          "surface": [
           {
            "colorbar": {
             "outlinewidth": 0,
             "ticks": ""
            },
            "colorscale": [
             [
              0,
              "#0d0887"
             ],
             [
              0.1111111111111111,
              "#46039f"
             ],
             [
              0.2222222222222222,
              "#7201a8"
             ],
             [
              0.3333333333333333,
              "#9c179e"
             ],
             [
              0.4444444444444444,
              "#bd3786"
             ],
             [
              0.5555555555555556,
              "#d8576b"
             ],
             [
              0.6666666666666666,
              "#ed7953"
             ],
             [
              0.7777777777777778,
              "#fb9f3a"
             ],
             [
              0.8888888888888888,
              "#fdca26"
             ],
             [
              1,
              "#f0f921"
             ]
            ],
            "type": "surface"
           }
          ],
          "table": [
           {
            "cells": {
             "fill": {
              "color": "#EBF0F8"
             },
             "line": {
              "color": "white"
             }
            },
            "header": {
             "fill": {
              "color": "#C8D4E3"
             },
             "line": {
              "color": "white"
             }
            },
            "type": "table"
           }
          ]
         },
         "layout": {
          "annotationdefaults": {
           "arrowcolor": "#2a3f5f",
           "arrowhead": 0,
           "arrowwidth": 1
          },
          "autotypenumbers": "strict",
          "coloraxis": {
           "colorbar": {
            "outlinewidth": 0,
            "ticks": ""
           }
          },
          "colorscale": {
           "diverging": [
            [
             0,
             "#8e0152"
            ],
            [
             0.1,
             "#c51b7d"
            ],
            [
             0.2,
             "#de77ae"
            ],
            [
             0.3,
             "#f1b6da"
            ],
            [
             0.4,
             "#fde0ef"
            ],
            [
             0.5,
             "#f7f7f7"
            ],
            [
             0.6,
             "#e6f5d0"
            ],
            [
             0.7,
             "#b8e186"
            ],
            [
             0.8,
             "#7fbc41"
            ],
            [
             0.9,
             "#4d9221"
            ],
            [
             1,
             "#276419"
            ]
           ],
           "sequential": [
            [
             0,
             "#0d0887"
            ],
            [
             0.1111111111111111,
             "#46039f"
            ],
            [
             0.2222222222222222,
             "#7201a8"
            ],
            [
             0.3333333333333333,
             "#9c179e"
            ],
            [
             0.4444444444444444,
             "#bd3786"
            ],
            [
             0.5555555555555556,
             "#d8576b"
            ],
            [
             0.6666666666666666,
             "#ed7953"
            ],
            [
             0.7777777777777778,
             "#fb9f3a"
            ],
            [
             0.8888888888888888,
             "#fdca26"
            ],
            [
             1,
             "#f0f921"
            ]
           ],
           "sequentialminus": [
            [
             0,
             "#0d0887"
            ],
            [
             0.1111111111111111,
             "#46039f"
            ],
            [
             0.2222222222222222,
             "#7201a8"
            ],
            [
             0.3333333333333333,
             "#9c179e"
            ],
            [
             0.4444444444444444,
             "#bd3786"
            ],
            [
             0.5555555555555556,
             "#d8576b"
            ],
            [
             0.6666666666666666,
             "#ed7953"
            ],
            [
             0.7777777777777778,
             "#fb9f3a"
            ],
            [
             0.8888888888888888,
             "#fdca26"
            ],
            [
             1,
             "#f0f921"
            ]
           ]
          },
          "colorway": [
           "#636efa",
           "#EF553B",
           "#00cc96",
           "#ab63fa",
           "#FFA15A",
           "#19d3f3",
           "#FF6692",
           "#B6E880",
           "#FF97FF",
           "#FECB52"
          ],
          "font": {
           "color": "#2a3f5f"
          },
          "geo": {
           "bgcolor": "white",
           "lakecolor": "white",
           "landcolor": "#E5ECF6",
           "showlakes": true,
           "showland": true,
           "subunitcolor": "white"
          },
          "hoverlabel": {
           "align": "left"
          },
          "hovermode": "closest",
          "mapbox": {
           "style": "light"
          },
          "paper_bgcolor": "white",
          "plot_bgcolor": "#E5ECF6",
          "polar": {
           "angularaxis": {
            "gridcolor": "white",
            "linecolor": "white",
            "ticks": ""
           },
           "bgcolor": "#E5ECF6",
           "radialaxis": {
            "gridcolor": "white",
            "linecolor": "white",
            "ticks": ""
           }
          },
          "scene": {
           "xaxis": {
            "backgroundcolor": "#E5ECF6",
            "gridcolor": "white",
            "gridwidth": 2,
            "linecolor": "white",
            "showbackground": true,
            "ticks": "",
            "zerolinecolor": "white"
           },
           "yaxis": {
            "backgroundcolor": "#E5ECF6",
            "gridcolor": "white",
            "gridwidth": 2,
            "linecolor": "white",
            "showbackground": true,
            "ticks": "",
            "zerolinecolor": "white"
           },
           "zaxis": {
            "backgroundcolor": "#E5ECF6",
            "gridcolor": "white",
            "gridwidth": 2,
            "linecolor": "white",
            "showbackground": true,
            "ticks": "",
            "zerolinecolor": "white"
           }
          },
          "shapedefaults": {
           "line": {
            "color": "#2a3f5f"
           }
          },
          "ternary": {
           "aaxis": {
            "gridcolor": "white",
            "linecolor": "white",
            "ticks": ""
           },
           "baxis": {
            "gridcolor": "white",
            "linecolor": "white",
            "ticks": ""
           },
           "bgcolor": "#E5ECF6",
           "caxis": {
            "gridcolor": "white",
            "linecolor": "white",
            "ticks": ""
           }
          },
          "title": {
           "x": 0.05
          },
          "xaxis": {
           "automargin": true,
           "gridcolor": "white",
           "linecolor": "white",
           "ticks": "",
           "title": {
            "standoff": 15
           },
           "zerolinecolor": "white",
           "zerolinewidth": 2
          },
          "yaxis": {
           "automargin": true,
           "gridcolor": "white",
           "linecolor": "white",
           "ticks": "",
           "title": {
            "standoff": 15
           },
           "zerolinecolor": "white",
           "zerolinewidth": 2
          }
         }
        }
       }
      }
     },
     "metadata": {},
     "output_type": "display_data"
    }
   ],
   "source": [
    "save_display_results(\n",
    "    name_estimator,\n",
    "    best_preprocessor,\n",
    "    best_estimator,\n",
    "    best_predictions,\n",
    ")"
   ]
  }
 ],
 "metadata": {
  "kernelspec": {
   "display_name": "Python 3",
   "language": "python",
   "name": "python3"
  },
  "language_info": {
   "codemirror_mode": {
    "name": "ipython",
    "version": 3
   },
   "file_extension": ".py",
   "mimetype": "text/x-python",
   "name": "python",
   "nbconvert_exporter": "python",
   "pygments_lexer": "ipython3",
   "version": "3.11.7"
  }
 },
 "nbformat": 4,
 "nbformat_minor": 2
}
