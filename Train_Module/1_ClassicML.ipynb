{
 "cells": [
  {
   "cell_type": "code",
   "execution_count": 4,
   "metadata": {},
   "outputs": [],
   "source": [
    "import numpy as np\n",
    "import os\n",
    "import pandas as pd\n",
    "import matplotlib.pyplot as plt\n",
    "from sklearn.metrics import ConfusionMatrixDisplay\n",
    "import pickle\n",
    "from sklearn import preprocessing\n",
    "from sklearn.covariance import OAS, EmpiricalCovariance, EllipticEnvelope\n",
    "from sklearn.metrics import r2_score, mean_squared_error\n",
    "from sklearn.pipeline import Pipeline\n",
    "from sklearn.decomposition import PCA\n",
    "from sklearn.discriminant_analysis import LinearDiscriminantAnalysis\n",
    "from sklearn.ensemble import RandomForestRegressor\n",
    "from sklearn.model_selection import train_test_split, GridSearchCV, PredefinedSplit\n",
    "from sklearn.linear_model import LinearRegression\n",
    "from sklearn.neighbors import KNeighborsRegressor\n",
    "from sklearn.svm import SVR, LinearSVR\n",
    "from sklearn.kernel_approximation import Nystroem\n",
    "from imblearn.over_sampling import SMOTE\n",
    "from imblearn.under_sampling import RandomUnderSampler\n",
    "from sklearn.ensemble import IsolationForest\n",
    "from sklearn.neighbors import LocalOutlierFactor\n",
    "\n",
    "plt.style.use(\"seaborn-v0_8\")\n",
    "\n",
    "random_state = 42"
   ]
  },
  {
   "cell_type": "markdown",
   "metadata": {},
   "source": [
    "# Data Aquisition"
   ]
  },
  {
   "cell_type": "markdown",
   "metadata": {},
   "source": [
    "- Since the dataset is very imbalanced, \"stratify\" is set to be sure of having some samples of every class in all the sets."
   ]
  },
  {
   "cell_type": "code",
   "execution_count": 16,
   "metadata": {},
   "outputs": [
    {
     "name": "stdout",
     "output_type": "stream",
     "text": [
      "X_train: (176486, 90)\n",
      "X_val: (50424, 90)\n",
      "X_test: (25213, 90)\n"
     ]
    }
   ],
   "source": [
    "df = pd.read_csv(\"train.csv\").drop_duplicates()\n",
    "\n",
    "train, test = train_test_split(df, stratify=df[\"Year\"], test_size=0.3, random_state=random_state)\n",
    "val, test = train_test_split(test, stratify=test[\"Year\"], test_size=1 / 3, random_state=random_state)\n",
    "\n",
    "X_train = train.drop(columns=[\"Year\"])\n",
    "y_train = train[\"Year\"]\n",
    "\n",
    "X_val = val.drop(columns=[\"Year\"])\n",
    "y_val = val[\"Year\"]\n",
    "\n",
    "X_test = test.drop(columns=[\"Year\"])\n",
    "y_test = test[\"Year\"]\n",
    "\n",
    "print(\"X_train: {}\\nX_val: {}\\nX_test: {}\".format(X_train.shape, X_val.shape, X_test.shape))"
   ]
  },
  {
   "cell_type": "markdown",
   "metadata": {},
   "source": [
    "## Outlier Removal"
   ]
  },
  {
   "cell_type": "markdown",
   "metadata": {},
   "source": [
    "- Remove the outliers from the training set. Observations belonging to different classes (years) are treated differently, as the dataset is so imbalanced: the model for outlier detection is refitted for every year in the dataset.\n",
    "- It's used [LocalOutlierFactor](https://scikit-learn.org/stable/modules/generated/sklearn.neighbors.LocalOutlierFactor.html#sklearn.neighbors.LocalOutlierFactor) and [IsolationForest](https://scikit-learn.org/stable/modules/generated/sklearn.ensemble.IsolationForest.html#sklearn.ensemble.IsolationForest). The hyperparameters are been chosen during a preliminary search.\n",
    "- With a \"contamination\" of 0.001 there are removed a bit more of 200 observations: the models perform equally or worse.\n",
    "- Incrementing the contamination, all the models perform worse."
   ]
  },
  {
   "cell_type": "code",
   "execution_count": 7,
   "metadata": {},
   "outputs": [],
   "source": [
    "if False:\n",
    "    columns = [col for col in train.columns if col != \"Year\"]\n",
    "    outliers = pd.Series(index=train.index, dtype=bool)\n",
    "\n",
    "    for year in train[\"Year\"].unique():\n",
    "        subset = train[train[\"Year\"] == year]\n",
    "        clf = LocalOutlierFactor(n_neighbors=25, contamination=0.001, n_jobs=-1)\n",
    "        # clf = IsolationForest(\n",
    "        #     max_samples=1.0,\n",
    "        #     contamination=0.001,\n",
    "        #     n_jobs=-1,\n",
    "        #     random_state=random_state,\n",
    "        # )\n",
    "        outliers[subset.index] = clf.fit_predict(subset[columns]) == -1\n",
    "\n",
    "    print(outliers.sum())\n",
    "    train = train[~outliers]\n",
    "\n",
    "    X_train = train.drop(columns=[\"Year\"])\n",
    "    y_train = train[\"Year\"]"
   ]
  },
  {
   "cell_type": "markdown",
   "metadata": {},
   "source": [
    "## Under/Over sampling"
   ]
  },
  {
   "cell_type": "markdown",
   "metadata": {},
   "source": [
    "- To overcome the imbalance of the dataset, we tried oversample and undersample techniques.\n",
    "- Undersample was implemented using [RandomUnderSampler](https://imbalanced-learn.org/stable/references/generated/imblearn.under_sampling.RandomUnderSampler.html), setting a maximum number of samples and decrementing only the most frequent classes (years).\n",
    "- Oversample was implemented using [SMOTE](https://imbalanced-learn.org/stable/references/generated/imblearn.over_sampling.SMOTE.html#imblearn.over_sampling.SMOTE), incrementing all the classes to the number of samples of the most populated class, or incrementing by doubling the number of samples of the less populated class, or a combination of the two.\n",
    "- Undersampling and Oversampling, alone or in combination, underperformed among all the models."
   ]
  },
  {
   "cell_type": "code",
   "execution_count": 8,
   "metadata": {},
   "outputs": [],
   "source": [
    "if False:\n",
    "    with pd.option_context(\"display.max_columns\", None):\n",
    "        display(pd.DataFrame(y_train.value_counts().sort_index()).transpose().style.set_caption(\"TRAIN: labels count\"))\n",
    "\n",
    "    X_resampled, y_resampled = X_train, y_train\n",
    "\n",
    "    # Undersampling strategy: undersample the most frequent classes to a limited number of samples\n",
    "    if False:\n",
    "        print(\"Undersampling...\")\n",
    "        max_samples = 100000  # total samples wanted after undersampling\n",
    "        # number of samples per class to respect the total_samples limit\n",
    "        samples_per_class = max_samples // len(np.unique(y_train))\n",
    "        # count number of samples per label (for each row: index is the label, value is the count)\n",
    "        counts = np.bincount(y_train)\n",
    "        sampling_strategy_under = {\n",
    "            class_label: min(samples_per_class, counts[class_label]) for class_label in np.unique(y_train)\n",
    "        }\n",
    "\n",
    "        under = RandomUnderSampler(sampling_strategy=sampling_strategy_under, random_state=random_state)\n",
    "        X_resampled, y_resampled = under.fit_resample(X_resampled, y_resampled)\n",
    "\n",
    "        # Add to test set the removed samples\n",
    "        mask = np.isin(X_train, X_resampled).all(axis=1)\n",
    "        X_removed = X_train[~mask]\n",
    "        y_removed = y_train[~mask]\n",
    "        X_test = pd.DataFrame(np.concatenate((X_test, X_removed)))\n",
    "        y_test = np.concatenate((y_test, y_removed))\n",
    "\n",
    "        X_train = pd.DataFrame(X_resampled)\n",
    "        y_train = y_resampled\n",
    "\n",
    "    # Oversampling strategy: oversample all the classes to the maximum count\n",
    "    if True:\n",
    "        print(\"Oversampling...\")\n",
    "        # count number of samples per label (for each row: index is the label, value is the count)\n",
    "        counts = np.bincount(y_train)\n",
    "        # find the maximum count across all classes\n",
    "        max_count = np.max(counts)\n",
    "        sampling_strategy_over = {\n",
    "            class_label: max_count for class_label in np.unique(y_train) if counts[class_label] < max_count\n",
    "        }\n",
    "\n",
    "        over = SMOTE(sampling_strategy=sampling_strategy_over, k_neighbors=20, random_state=random_state)\n",
    "        X_resampled, y_resampled = over.fit_resample(X_resampled, y_resampled)\n",
    "\n",
    "        X_train = pd.DataFrame(X_resampled)\n",
    "        y_train = y_resampled\n",
    "\n",
    "    with pd.option_context(\"display.max_columns\", None):\n",
    "        display(\n",
    "            pd.DataFrame(y_train.value_counts().sort_index())\n",
    "            .transpose()\n",
    "            .style.set_caption(\"RESAMPLED Train: labels count\")\n",
    "        )\n",
    "    print(\"X_train: {}\\nX_val: {}\\nX_test: {}\".format(X_train.shape, X_val.shape, X_test.shape))"
   ]
  },
  {
   "cell_type": "markdown",
   "metadata": {},
   "source": [
    "---\n",
    "# Preprocessing\n",
    "- [PCA](https://scikit-learn.org/stable/modules/generated/sklearn.decomposition.PCA.html#sklearn.decomposition.PCA) and [LDA](https://scikit-learn.org/stable/modules/generated/sklearn.discriminant_analysis.LinearDiscriminantAnalysis.html#sklearn.discriminant_analysis.LinearDiscriminantAnalysis) (with eigenvalues) are used to reduce the dimensionality of the dataset.\n",
    "- [Whitening transformation](https://en.wikipedia.org/wiki/Whitening_transformation) is tested\n",
    "- [Shrinkage, Oracle Approximating Shrinkage (OAS)](https://en.wikipedia.org/wiki/Shrinkage_(statistics)#:~:text=In%20statistics%2C%20shrinkage%20is%20the,coefficient%20of%20determination%20'shrinks') is tested because requires normal distributed data\n",
    "- [Empirical covariance](https://scikit-learn.org/stable/modules/covariance.html#empirical-covariance) is tested because requires normal distributed data\n",
    "- [EllipticEnvelope](https://scikit-learn.org/stable/modules/generated/sklearn.covariance.EllipticEnvelope.html#sklearn.covariance.EllipticEnvelope) is tested because it's robust to anomalies, requires normal and unimodal distributed data\n",
    "- [Nystroem](https://scikit-learn.org/stable/modules/generated/sklearn.kernel_approximation.Nystroem.html) was tested because it was suggested from the documentation of the LinearSVR."
   ]
  },
  {
   "cell_type": "code",
   "execution_count": 19,
   "metadata": {},
   "outputs": [],
   "source": [
    "# step_name, [(transformer_name, transformer_constructor()), ...], step_param_grid\n",
    "transformers_list = [\n",
    "    (\"raw\", [(\"raw\", \"passthrough\")], {}),  # does nothing to the data\n",
    "    (\"std-scaled\", [(\"std-scaler\", preprocessing.StandardScaler())], {}),\n",
    "    # (\"min-maxed\", [(\"min-max\", preprocessing.MinMaxScaler())], {}),\n",
    "    # (\n",
    "    #     \"std-scaler + pca 0.95\",\n",
    "    #     [\n",
    "    #         (\"std-scaler\", preprocessing.StandardScaler()),\n",
    "    #         (\"pca\", PCA(random_state=random_state)),\n",
    "    #     ],\n",
    "    #     {\n",
    "    #         \"pca__svd_solver\": [\"full\"],\n",
    "    #         \"pca__n_components\": [0.95],\n",
    "    #         \"pca__whiten\": [True, False],\n",
    "    #     },\n",
    "    # ),\n",
    "    # (\n",
    "    #     \"min-max + pca 0.95\",\n",
    "    #     [\n",
    "    #         (\"min-max\", preprocessing.MinMaxScaler()),\n",
    "    #         (\"pca\", PCA(random_state=random_state)),\n",
    "    #     ],\n",
    "    #     {\n",
    "    #         \"pca__svd_solver\": [\"full\"],\n",
    "    #         \"pca__n_components\": [0.95],\n",
    "    #         \"pca__whiten\": [True, False],\n",
    "    #     },\n",
    "    # ),\n",
    "    # (\n",
    "    #     \"min-max + lmax + pca 0.95\",\n",
    "    #     [\n",
    "    #         (\"min-max\", preprocessing.MinMaxScaler()),\n",
    "    #         (\"lmax\", preprocessing.Normalizer(norm=\"max\")),\n",
    "    #         (\"pca\", PCA(random_state=random_state)),\n",
    "    #     ],\n",
    "    #     {\n",
    "    #         \"pca__svd_solver\": [\"full\"],\n",
    "    #         \"pca__n_components\": [0.95],\n",
    "    #         \"pca__whiten\": [True, False],\n",
    "    #     },\n",
    "    # ),\n",
    "    # (\n",
    "    #     \"min-max + lda\",\n",
    "    #     [(\"min-max\", preprocessing.MinMaxScaler()), (\"lda\", LinearDiscriminantAnalysis())],\n",
    "    #     {\n",
    "    #         \"lda__solver\": [\"eigen\"],\n",
    "    #         \"lda__shrinkage\": [None],\n",
    "    #         \"lda__covariance_estimator\": [\n",
    "    #             # EllipticEnvelope(random_state=random_state, contamination=0.001),\n",
    "    #             # EmpiricalCovariance(),\n",
    "    #             OAS(),\n",
    "    #             # None,\n",
    "    #         ],\n",
    "    #     },\n",
    "    # ),\n",
    "    # (\n",
    "    #     \"min-max + lmax + lda\",\n",
    "    #     [\n",
    "    #         (\"min-max\", preprocessing.MinMaxScaler()),\n",
    "    #         (\"lmax\", preprocessing.Normalizer(norm=\"max\")),\n",
    "    #         (\"lda\", LinearDiscriminantAnalysis()),\n",
    "    #     ],\n",
    "    #     {\n",
    "    #         \"lda__solver\": [\"eigen\"],\n",
    "    #         \"lda__shrinkage\": [None],\n",
    "    #         \"lda__covariance_estimator\": [\n",
    "    #             # EllipticEnvelope(random_state=random_state, contamination=0.001),\n",
    "    #             # EmpiricalCovariance(),\n",
    "    #             OAS(),\n",
    "    #             # None,\n",
    "    #         ],\n",
    "    #     },\n",
    "    # ),\n",
    "    # (\n",
    "    #     \"min-max + nystroem\",\n",
    "    #     [\n",
    "    #         (\"min-max\", preprocessing.MinMaxScaler()),\n",
    "    #         (\"nys\", Nystroem(random_state=random_state, n_jobs=-1)),\n",
    "    #     ],\n",
    "    #     {\n",
    "    #         \"nys__gamma\": [0.010],  # 0, 0.00001, 0.0001, 0.001, 0.050, 1\n",
    "    #         \"nys__n_components\": [1000],  # 10, 100, 500, 700, 900,\n",
    "    #     },\n",
    "    # ),\n",
    "    # (\n",
    "    #     \"min-max + lda + nystroem\",\n",
    "    #     [\n",
    "    #         (\"min-max\", preprocessing.MinMaxScaler()),\n",
    "    #         (\"lda\", LinearDiscriminantAnalysis()),\n",
    "    #         (\"nys\", Nystroem(random_state=random_state, n_jobs=-1)),\n",
    "    #     ],\n",
    "    #     {\n",
    "    #         \"lda__solver\": [\"eigen\"],\n",
    "    #         \"lda__covariance_estimator\": [OAS()],\n",
    "    #         \"nys__gamma\": [0.010],  # 0, 0.00001, 0.0001, 0.001, 0.050, 1\n",
    "    #         \"nys__n_components\": [1000],  # 10, 100, 500, 700, 900,\n",
    "    #     },\n",
    "    # ),\n",
    "    # (\n",
    "    #     \"std-scaler + lda + nystroem\",\n",
    "    #     [\n",
    "    #         (\"std-scaler\", preprocessing.StandardScaler()),\n",
    "    #         (\"lda\", LinearDiscriminantAnalysis()),\n",
    "    #         (\"nys\", Nystroem(random_state=random_state, n_jobs=-1)),\n",
    "    #     ],\n",
    "    #     {\n",
    "    #         \"lda__solver\": [\"eigen\"],\n",
    "    #         \"lda__covariance_estimator\": [OAS()],\n",
    "    #         \"nys__gamma\": [0.010],  # 0, 0.00001, 0.0001, 0.001, 0.050, 1\n",
    "    #         \"nys__n_components\": [1000],  # 10, 100, 500, 700, 900,\n",
    "    #     },\n",
    "    # ),\n",
    "    # (\n",
    "    #     \"min-max + l1 + lda + nystroem\",\n",
    "    #     [\n",
    "    #         (\"min-max\", preprocessing.MinMaxScaler()),\n",
    "    #         (\"l1\", preprocessing.Normalizer(norm=\"l1\")),\n",
    "    #         (\"lda\", LinearDiscriminantAnalysis()),\n",
    "    #         (\"nys\", Nystroem(random_state=random_state, n_jobs=-1)),\n",
    "    #     ],\n",
    "    #     {\n",
    "    #         \"lda__solver\": [\"eigen\"],\n",
    "    #         \"lda__covariance_estimator\": [OAS()],\n",
    "    #         \"nys__gamma\": [0.010],  # 0, 0.00001, 0.0001, 0.001, 0.050, 1\n",
    "    #         \"nys__n_components\": [1000],  # 10, 100, 500, 700, 900,\n",
    "    #     },\n",
    "    # ),\n",
    "]"
   ]
  },
  {
   "cell_type": "markdown",
   "metadata": {},
   "source": [
    "---\n",
    "---\n",
    "# Modeling\n",
    "- For every preprocess method defined above, execute a GridSearch over the preprocess parameters plus the model parameters\n",
    "- Then it's chosen the best model with the best preprocess method looking at the R^2 score\n",
    "- \"StratifiedKFold\" is chosen to keep the proportion of imbalanced target lables"
   ]
  },
  {
   "cell_type": "code",
   "execution_count": 10,
   "metadata": {},
   "outputs": [],
   "source": [
    "def print_all_results(name_estimator):\n",
    "    df = pd.read_csv(\"1_\" + name_estimator + \"_output.csv\")\n",
    "    display(\n",
    "        df[[col for col in df.columns if col not in [\"MSE\", \"R^2\"]] + [\"MSE\", \"R^2\"]]\n",
    "        .sort_values(by=\"R^2\", ascending=False)\n",
    "        .style.format(precision=7)\n",
    "    )"
   ]
  },
  {
   "cell_type": "code",
   "execution_count": 11,
   "metadata": {},
   "outputs": [],
   "source": [
    "import plotly.graph_objects as go\n",
    "\n",
    "\n",
    "def save_display_results(\n",
    "    name_estimator,\n",
    "    best_preprocessor,\n",
    "    best_estimator,\n",
    "    best_predictions,\n",
    "):\n",
    "\n",
    "    file = open(\"1_\" + name_estimator + \"_preproc_\" + \".save\", \"wb\")\n",
    "    pickle.dump(best_preprocessor, file)\n",
    "    file = open(\"1_\" + name_estimator + \"_model_\" + \".save\", \"wb\")\n",
    "    pickle.dump(best_estimator, file)\n",
    "    file.close()\n",
    "\n",
    "    # Show confusion matrix of best result\n",
    "    fig, ax = plt.subplots(figsize=(10, 10))\n",
    "    ax.grid(None)\n",
    "    fig.tight_layout()\n",
    "    cmp = ConfusionMatrixDisplay.from_predictions(\n",
    "        y_test,\n",
    "        np.round(best_predictions).astype(int),\n",
    "        ax=ax,\n",
    "        # xticks_rotation=80,\n",
    "        include_values=False,\n",
    "        cmap=\"gist_stern\",  # \"magma\",\n",
    "        colorbar=False,\n",
    "    )\n",
    "    ax.set_xticks(range(0, len(cmp.confusion_matrix), 5))\n",
    "    ax.set_yticks(range(0, len(cmp.confusion_matrix), 5))\n",
    "    ax.plot(range(len(cmp.confusion_matrix)), range(len(cmp.confusion_matrix)), color=\"white\", linestyle=\"dotted\")\n",
    "    cax = fig.add_axes([ax.get_position().x1 + 0.01, ax.get_position().y0, 0.02, ax.get_position().height])\n",
    "    plt.colorbar(cmp.im_, cax=cax)\n",
    "    plt.show()\n",
    "\n",
    "    # Show Parallel graph\n",
    "    df = pd.read_csv(\"1_\" + name_estimator + \"_output.csv\")\n",
    "    df[\"R^2\"] = df[\"R^2\"].round(2)\n",
    "    df[\"MSE\"] = df[\"MSE\"].round(2)\n",
    "\n",
    "    for col in df.columns:\n",
    "        if col not in [\"R^2\", \"MSE\"]:\n",
    "            df[col] = df[col].fillna(\"None\")\n",
    "            df[col] = df[col].astype(\"object\")\n",
    "\n",
    "    dimensions = []\n",
    "\n",
    "    for col in df.select_dtypes(include=\"object\"):\n",
    "        if col not in [\"R^2\", \"MSE\"]:\n",
    "            unique_dict = {i: num for num, i in enumerate(df[col].unique())}\n",
    "            df[col] = df[col].map(unique_dict)\n",
    "            dimensions.append(\n",
    "                dict(\n",
    "                    label=str(col),\n",
    "                    values=df[col],\n",
    "                    tickvals=list(unique_dict.values()),\n",
    "                    ticktext=list(unique_dict.keys()),\n",
    "                )\n",
    "            )\n",
    "\n",
    "    for col in [\"R^2\", \"MSE\"]:\n",
    "        dimensions.append(dict(label=str(col), values=df[col]))\n",
    "\n",
    "    fig = go.Figure(\n",
    "        data=go.Parcoords(\n",
    "            line=dict(color=df[\"MSE\"], colorscale=\"viridis\", showscale=True), dimensions=dimensions, labelangle=-15\n",
    "        )\n",
    "    )\n",
    "\n",
    "    fig.update_traces(\n",
    "        dimensions=[\n",
    "            {\n",
    "                **d,\n",
    "                **{\n",
    "                    \"tickvals\": np.round(\n",
    "                        np.linspace(min(d[\"values\"]), max(d[\"values\"]), len(np.unique(d[\"values\"]))), 2\n",
    "                    )\n",
    "                },\n",
    "            }\n",
    "            for d in fig.to_dict()[\"data\"][0][\"dimensions\"]\n",
    "        ]\n",
    "    )\n",
    "\n",
    "    # fig.update_layout(\n",
    "    #     paper_bgcolor=\"floralwhite\",\n",
    "    # )\n",
    "\n",
    "    fig.show()"
   ]
  },
  {
   "cell_type": "code",
   "execution_count": 12,
   "metadata": {},
   "outputs": [],
   "source": [
    "X_train_val = np.vstack((X_train, X_val))\n",
    "y_train_val = np.concatenate((y_train, y_val))\n",
    "test_fold = np.zeros(X_train_val.shape[0])\n",
    "test_fold[: X_train.shape[0]] = -1  # exclude the train set, setting the train indexes to -1\n",
    "ps = PredefinedSplit(test_fold)\n",
    "\n",
    "\n",
    "def gridSearch(name_estimator, estimator, param_estimator, save):\n",
    "    best_r2_score = float(\"-inf\")\n",
    "    best_MSE_score = float(\"inf\")\n",
    "    best_preprocessor = []\n",
    "    best_estimator = None\n",
    "    best_name_step = None\n",
    "    best_predictions = []\n",
    "    best_params = {}\n",
    "\n",
    "    for name_step, transformers, param_transformers in transformers_list:\n",
    "        pipe = Pipeline([*transformers, (name_estimator, estimator)])\n",
    "        gs = GridSearchCV(\n",
    "            pipe,\n",
    "            param_grid={**param_estimator, **param_transformers},\n",
    "            scoring=\"r2\",\n",
    "            n_jobs=-1,\n",
    "            cv=ps,\n",
    "            # verbose=3,\n",
    "            pre_dispatch=8,\n",
    "        )\n",
    "\n",
    "        # Fit\n",
    "        gs.fit(X_train_val, y_train_val)\n",
    "        # Predict\n",
    "        y_pred = gs.predict(X_test.values)\n",
    "        # Test scores\n",
    "        mse = mean_squared_error(y_test, y_pred)\n",
    "        r2 = r2_score(y_test, y_pred)\n",
    "\n",
    "        if r2 > best_r2_score:\n",
    "            best_r2_score = r2\n",
    "            best_MSE_score = mse\n",
    "            best_name_step = name_step\n",
    "            best_preprocessor = gs.best_estimator_[:-1]  # take all but the estimator\n",
    "            best_estimator = gs.best_estimator_[-1]\n",
    "            best_params = gs.best_params_\n",
    "            best_predictions = y_pred\n",
    "\n",
    "    # Show best result\n",
    "    print(\n",
    "        \"Best:\\n\\t{} data\\n\\tParams: {}\\n\\tR^2: {}\\n\\tMSE: {}\".format(\n",
    "            best_name_step, best_params, best_r2_score, best_MSE_score\n",
    "        )\n",
    "    )\n",
    "\n",
    "    # Save in csv the best result\n",
    "    if save:\n",
    "        results = pd.DataFrame(best_params or None, index=[0])\n",
    "        results = results.assign(preprocess=best_name_step, MSE=best_MSE_score, R2=best_r2_score).rename(\n",
    "            columns={\"R2\": \"R^2\"}\n",
    "        )\n",
    "        file_name = \"1_\" + name_estimator + \"_output.csv\"\n",
    "        results = pd.concat([pd.read_csv(file_name) if os.path.isfile(file_name) else pd.DataFrame(), results], axis=0)\n",
    "        results.to_csv(file_name, index=False)\n",
    "\n",
    "    return (\n",
    "        best_preprocessor,\n",
    "        best_estimator,\n",
    "        best_predictions,\n",
    "    )"
   ]
  },
  {
   "cell_type": "markdown",
   "metadata": {},
   "source": [
    "---\n",
    "## Linear Regression"
   ]
  },
  {
   "cell_type": "code",
   "execution_count": 13,
   "metadata": {},
   "outputs": [
    {
     "name": "stdout",
     "output_type": "stream",
     "text": [
      "Best:\n",
      "\tmin-max + lda + nystroem data\n",
      "\tParams: {'lda__covariance_estimator': OAS(), 'lda__solver': 'eigen', 'nys__gamma': 0.01, 'nys__n_components': 1000}\n",
      "\tR^2: 0.3313729550461333\n",
      "\tMSE: 73.59795768847027\n"
     ]
    }
   ],
   "source": [
    "param_estimator = {}\n",
    "\n",
    "name_estimator = \"lr\"\n",
    "\n",
    "best_preprocessor, best_estimator, best_predictions = gridSearch(\n",
    "    name_estimator,\n",
    "    LinearRegression(n_jobs=-1),\n",
    "    param_estimator,\n",
    "    False,\n",
    ")"
   ]
  },
  {
   "cell_type": "code",
   "execution_count": 14,
   "metadata": {},
   "outputs": [
    {
     "data": {
      "text/html": [
       "<style type=\"text/css\">\n",
       "</style>\n",
       "<table id=\"T_ec1a0\">\n",
       "  <thead>\n",
       "    <tr>\n",
       "      <th class=\"blank level0\" >&nbsp;</th>\n",
       "      <th id=\"T_ec1a0_level0_col0\" class=\"col_heading level0 col0\" >preprocess</th>\n",
       "      <th id=\"T_ec1a0_level0_col1\" class=\"col_heading level0 col1\" >pca__n_components</th>\n",
       "      <th id=\"T_ec1a0_level0_col2\" class=\"col_heading level0 col2\" >pca__svd_solver</th>\n",
       "      <th id=\"T_ec1a0_level0_col3\" class=\"col_heading level0 col3\" >pca__whiten</th>\n",
       "      <th id=\"T_ec1a0_level0_col4\" class=\"col_heading level0 col4\" >lda__covariance_estimator</th>\n",
       "      <th id=\"T_ec1a0_level0_col5\" class=\"col_heading level0 col5\" >lda__shrinkage</th>\n",
       "      <th id=\"T_ec1a0_level0_col6\" class=\"col_heading level0 col6\" >lda__solver</th>\n",
       "      <th id=\"T_ec1a0_level0_col7\" class=\"col_heading level0 col7\" >nys__gamma</th>\n",
       "      <th id=\"T_ec1a0_level0_col8\" class=\"col_heading level0 col8\" >nys__n_components</th>\n",
       "      <th id=\"T_ec1a0_level0_col9\" class=\"col_heading level0 col9\" >MSE</th>\n",
       "      <th id=\"T_ec1a0_level0_col10\" class=\"col_heading level0 col10\" >R^2</th>\n",
       "    </tr>\n",
       "  </thead>\n",
       "  <tbody>\n",
       "    <tr>\n",
       "      <th id=\"T_ec1a0_level0_row0\" class=\"row_heading level0 row0\" >11</th>\n",
       "      <td id=\"T_ec1a0_row0_col0\" class=\"data row0 col0\" >min-max + lda + nystroem</td>\n",
       "      <td id=\"T_ec1a0_row0_col1\" class=\"data row0 col1\" >nan</td>\n",
       "      <td id=\"T_ec1a0_row0_col2\" class=\"data row0 col2\" >nan</td>\n",
       "      <td id=\"T_ec1a0_row0_col3\" class=\"data row0 col3\" >nan</td>\n",
       "      <td id=\"T_ec1a0_row0_col4\" class=\"data row0 col4\" >OAS()</td>\n",
       "      <td id=\"T_ec1a0_row0_col5\" class=\"data row0 col5\" >nan</td>\n",
       "      <td id=\"T_ec1a0_row0_col6\" class=\"data row0 col6\" >eigen</td>\n",
       "      <td id=\"T_ec1a0_row0_col7\" class=\"data row0 col7\" >0.0100000</td>\n",
       "      <td id=\"T_ec1a0_row0_col8\" class=\"data row0 col8\" >1000.0000000</td>\n",
       "      <td id=\"T_ec1a0_row0_col9\" class=\"data row0 col9\" >73.5979577</td>\n",
       "      <td id=\"T_ec1a0_row0_col10\" class=\"data row0 col10\" >0.3313730</td>\n",
       "    </tr>\n",
       "    <tr>\n",
       "      <th id=\"T_ec1a0_level0_row1\" class=\"row_heading level0 row1\" >8</th>\n",
       "      <td id=\"T_ec1a0_row1_col0\" class=\"data row1 col0\" >min-max + lmax + lda + nystroem</td>\n",
       "      <td id=\"T_ec1a0_row1_col1\" class=\"data row1 col1\" >nan</td>\n",
       "      <td id=\"T_ec1a0_row1_col2\" class=\"data row1 col2\" >nan</td>\n",
       "      <td id=\"T_ec1a0_row1_col3\" class=\"data row1 col3\" >nan</td>\n",
       "      <td id=\"T_ec1a0_row1_col4\" class=\"data row1 col4\" >OAS()</td>\n",
       "      <td id=\"T_ec1a0_row1_col5\" class=\"data row1 col5\" >nan</td>\n",
       "      <td id=\"T_ec1a0_row1_col6\" class=\"data row1 col6\" >eigen</td>\n",
       "      <td id=\"T_ec1a0_row1_col7\" class=\"data row1 col7\" >0.0100000</td>\n",
       "      <td id=\"T_ec1a0_row1_col8\" class=\"data row1 col8\" >1000.0000000</td>\n",
       "      <td id=\"T_ec1a0_row1_col9\" class=\"data row1 col9\" >73.6178914</td>\n",
       "      <td id=\"T_ec1a0_row1_col10\" class=\"data row1 col10\" >0.3311919</td>\n",
       "    </tr>\n",
       "    <tr>\n",
       "      <th id=\"T_ec1a0_level0_row2\" class=\"row_heading level0 row2\" >10</th>\n",
       "      <td id=\"T_ec1a0_row2_col0\" class=\"data row2 col0\" >std-scaler + lda + nystroem</td>\n",
       "      <td id=\"T_ec1a0_row2_col1\" class=\"data row2 col1\" >nan</td>\n",
       "      <td id=\"T_ec1a0_row2_col2\" class=\"data row2 col2\" >nan</td>\n",
       "      <td id=\"T_ec1a0_row2_col3\" class=\"data row2 col3\" >nan</td>\n",
       "      <td id=\"T_ec1a0_row2_col4\" class=\"data row2 col4\" >OAS()</td>\n",
       "      <td id=\"T_ec1a0_row2_col5\" class=\"data row2 col5\" >nan</td>\n",
       "      <td id=\"T_ec1a0_row2_col6\" class=\"data row2 col6\" >eigen</td>\n",
       "      <td id=\"T_ec1a0_row2_col7\" class=\"data row2 col7\" >0.0100000</td>\n",
       "      <td id=\"T_ec1a0_row2_col8\" class=\"data row2 col8\" >1000.0000000</td>\n",
       "      <td id=\"T_ec1a0_row2_col9\" class=\"data row2 col9\" >74.3452920</td>\n",
       "      <td id=\"T_ec1a0_row2_col10\" class=\"data row2 col10\" >0.3245835</td>\n",
       "    </tr>\n",
       "    <tr>\n",
       "      <th id=\"T_ec1a0_level0_row3\" class=\"row_heading level0 row3\" >9</th>\n",
       "      <td id=\"T_ec1a0_row3_col0\" class=\"data row3 col0\" >min-max + nystroem</td>\n",
       "      <td id=\"T_ec1a0_row3_col1\" class=\"data row3 col1\" >nan</td>\n",
       "      <td id=\"T_ec1a0_row3_col2\" class=\"data row3 col2\" >nan</td>\n",
       "      <td id=\"T_ec1a0_row3_col3\" class=\"data row3 col3\" >nan</td>\n",
       "      <td id=\"T_ec1a0_row3_col4\" class=\"data row3 col4\" >nan</td>\n",
       "      <td id=\"T_ec1a0_row3_col5\" class=\"data row3 col5\" >nan</td>\n",
       "      <td id=\"T_ec1a0_row3_col6\" class=\"data row3 col6\" >nan</td>\n",
       "      <td id=\"T_ec1a0_row3_col7\" class=\"data row3 col7\" >0.0100000</td>\n",
       "      <td id=\"T_ec1a0_row3_col8\" class=\"data row3 col8\" >1000.0000000</td>\n",
       "      <td id=\"T_ec1a0_row3_col9\" class=\"data row3 col9\" >75.8561394</td>\n",
       "      <td id=\"T_ec1a0_row3_col10\" class=\"data row3 col10\" >0.3108577</td>\n",
       "    </tr>\n",
       "    <tr>\n",
       "      <th id=\"T_ec1a0_level0_row4\" class=\"row_heading level0 row4\" >7</th>\n",
       "      <td id=\"T_ec1a0_row4_col0\" class=\"data row4 col0\" >min-max + lmax + lda</td>\n",
       "      <td id=\"T_ec1a0_row4_col1\" class=\"data row4 col1\" >nan</td>\n",
       "      <td id=\"T_ec1a0_row4_col2\" class=\"data row4 col2\" >nan</td>\n",
       "      <td id=\"T_ec1a0_row4_col3\" class=\"data row4 col3\" >nan</td>\n",
       "      <td id=\"T_ec1a0_row4_col4\" class=\"data row4 col4\" >EmpiricalCovariance()</td>\n",
       "      <td id=\"T_ec1a0_row4_col5\" class=\"data row4 col5\" >nan</td>\n",
       "      <td id=\"T_ec1a0_row4_col6\" class=\"data row4 col6\" >eigen</td>\n",
       "      <td id=\"T_ec1a0_row4_col7\" class=\"data row4 col7\" >nan</td>\n",
       "      <td id=\"T_ec1a0_row4_col8\" class=\"data row4 col8\" >nan</td>\n",
       "      <td id=\"T_ec1a0_row4_col9\" class=\"data row4 col9\" >83.3157626</td>\n",
       "      <td id=\"T_ec1a0_row4_col10\" class=\"data row4 col10\" >0.2430881</td>\n",
       "    </tr>\n",
       "    <tr>\n",
       "      <th id=\"T_ec1a0_level0_row5\" class=\"row_heading level0 row5\" >12</th>\n",
       "      <td id=\"T_ec1a0_row5_col0\" class=\"data row5 col0\" >min-max + lmax + lda</td>\n",
       "      <td id=\"T_ec1a0_row5_col1\" class=\"data row5 col1\" >nan</td>\n",
       "      <td id=\"T_ec1a0_row5_col2\" class=\"data row5 col2\" >nan</td>\n",
       "      <td id=\"T_ec1a0_row5_col3\" class=\"data row5 col3\" >nan</td>\n",
       "      <td id=\"T_ec1a0_row5_col4\" class=\"data row5 col4\" >OAS()</td>\n",
       "      <td id=\"T_ec1a0_row5_col5\" class=\"data row5 col5\" >nan</td>\n",
       "      <td id=\"T_ec1a0_row5_col6\" class=\"data row5 col6\" >eigen</td>\n",
       "      <td id=\"T_ec1a0_row5_col7\" class=\"data row5 col7\" >nan</td>\n",
       "      <td id=\"T_ec1a0_row5_col8\" class=\"data row5 col8\" >nan</td>\n",
       "      <td id=\"T_ec1a0_row5_col9\" class=\"data row5 col9\" >83.3398224</td>\n",
       "      <td id=\"T_ec1a0_row5_col10\" class=\"data row5 col10\" >0.2428695</td>\n",
       "    </tr>\n",
       "    <tr>\n",
       "      <th id=\"T_ec1a0_level0_row6\" class=\"row_heading level0 row6\" >6</th>\n",
       "      <td id=\"T_ec1a0_row6_col0\" class=\"data row6 col0\" >min-max + lda</td>\n",
       "      <td id=\"T_ec1a0_row6_col1\" class=\"data row6 col1\" >nan</td>\n",
       "      <td id=\"T_ec1a0_row6_col2\" class=\"data row6 col2\" >nan</td>\n",
       "      <td id=\"T_ec1a0_row6_col3\" class=\"data row6 col3\" >nan</td>\n",
       "      <td id=\"T_ec1a0_row6_col4\" class=\"data row6 col4\" >EmpiricalCovariance()</td>\n",
       "      <td id=\"T_ec1a0_row6_col5\" class=\"data row6 col5\" >nan</td>\n",
       "      <td id=\"T_ec1a0_row6_col6\" class=\"data row6 col6\" >eigen</td>\n",
       "      <td id=\"T_ec1a0_row6_col7\" class=\"data row6 col7\" >nan</td>\n",
       "      <td id=\"T_ec1a0_row6_col8\" class=\"data row6 col8\" >nan</td>\n",
       "      <td id=\"T_ec1a0_row6_col9\" class=\"data row6 col9\" >83.9731990</td>\n",
       "      <td id=\"T_ec1a0_row6_col10\" class=\"data row6 col10\" >0.2371154</td>\n",
       "    </tr>\n",
       "    <tr>\n",
       "      <th id=\"T_ec1a0_level0_row7\" class=\"row_heading level0 row7\" >2</th>\n",
       "      <td id=\"T_ec1a0_row7_col0\" class=\"data row7 col0\" >min-maxed</td>\n",
       "      <td id=\"T_ec1a0_row7_col1\" class=\"data row7 col1\" >nan</td>\n",
       "      <td id=\"T_ec1a0_row7_col2\" class=\"data row7 col2\" >nan</td>\n",
       "      <td id=\"T_ec1a0_row7_col3\" class=\"data row7 col3\" >nan</td>\n",
       "      <td id=\"T_ec1a0_row7_col4\" class=\"data row7 col4\" >nan</td>\n",
       "      <td id=\"T_ec1a0_row7_col5\" class=\"data row7 col5\" >nan</td>\n",
       "      <td id=\"T_ec1a0_row7_col6\" class=\"data row7 col6\" >nan</td>\n",
       "      <td id=\"T_ec1a0_row7_col7\" class=\"data row7 col7\" >nan</td>\n",
       "      <td id=\"T_ec1a0_row7_col8\" class=\"data row7 col8\" >nan</td>\n",
       "      <td id=\"T_ec1a0_row7_col9\" class=\"data row7 col9\" >83.9731990</td>\n",
       "      <td id=\"T_ec1a0_row7_col10\" class=\"data row7 col10\" >0.2371154</td>\n",
       "    </tr>\n",
       "    <tr>\n",
       "      <th id=\"T_ec1a0_level0_row8\" class=\"row_heading level0 row8\" >1</th>\n",
       "      <td id=\"T_ec1a0_row8_col0\" class=\"data row8 col0\" >std-scaled</td>\n",
       "      <td id=\"T_ec1a0_row8_col1\" class=\"data row8 col1\" >nan</td>\n",
       "      <td id=\"T_ec1a0_row8_col2\" class=\"data row8 col2\" >nan</td>\n",
       "      <td id=\"T_ec1a0_row8_col3\" class=\"data row8 col3\" >nan</td>\n",
       "      <td id=\"T_ec1a0_row8_col4\" class=\"data row8 col4\" >nan</td>\n",
       "      <td id=\"T_ec1a0_row8_col5\" class=\"data row8 col5\" >nan</td>\n",
       "      <td id=\"T_ec1a0_row8_col6\" class=\"data row8 col6\" >nan</td>\n",
       "      <td id=\"T_ec1a0_row8_col7\" class=\"data row8 col7\" >nan</td>\n",
       "      <td id=\"T_ec1a0_row8_col8\" class=\"data row8 col8\" >nan</td>\n",
       "      <td id=\"T_ec1a0_row8_col9\" class=\"data row8 col9\" >83.9731990</td>\n",
       "      <td id=\"T_ec1a0_row8_col10\" class=\"data row8 col10\" >0.2371154</td>\n",
       "    </tr>\n",
       "    <tr>\n",
       "      <th id=\"T_ec1a0_level0_row9\" class=\"row_heading level0 row9\" >0</th>\n",
       "      <td id=\"T_ec1a0_row9_col0\" class=\"data row9 col0\" >raw</td>\n",
       "      <td id=\"T_ec1a0_row9_col1\" class=\"data row9 col1\" >nan</td>\n",
       "      <td id=\"T_ec1a0_row9_col2\" class=\"data row9 col2\" >nan</td>\n",
       "      <td id=\"T_ec1a0_row9_col3\" class=\"data row9 col3\" >nan</td>\n",
       "      <td id=\"T_ec1a0_row9_col4\" class=\"data row9 col4\" >nan</td>\n",
       "      <td id=\"T_ec1a0_row9_col5\" class=\"data row9 col5\" >nan</td>\n",
       "      <td id=\"T_ec1a0_row9_col6\" class=\"data row9 col6\" >nan</td>\n",
       "      <td id=\"T_ec1a0_row9_col7\" class=\"data row9 col7\" >nan</td>\n",
       "      <td id=\"T_ec1a0_row9_col8\" class=\"data row9 col8\" >nan</td>\n",
       "      <td id=\"T_ec1a0_row9_col9\" class=\"data row9 col9\" >83.9731990</td>\n",
       "      <td id=\"T_ec1a0_row9_col10\" class=\"data row9 col10\" >0.2371154</td>\n",
       "    </tr>\n",
       "    <tr>\n",
       "      <th id=\"T_ec1a0_level0_row10\" class=\"row_heading level0 row10\" >5</th>\n",
       "      <td id=\"T_ec1a0_row10_col0\" class=\"data row10 col0\" >min-max + lmax + pca 0.95</td>\n",
       "      <td id=\"T_ec1a0_row10_col1\" class=\"data row10 col1\" >0.9500000</td>\n",
       "      <td id=\"T_ec1a0_row10_col2\" class=\"data row10 col2\" >full</td>\n",
       "      <td id=\"T_ec1a0_row10_col3\" class=\"data row10 col3\" >False</td>\n",
       "      <td id=\"T_ec1a0_row10_col4\" class=\"data row10 col4\" >nan</td>\n",
       "      <td id=\"T_ec1a0_row10_col5\" class=\"data row10 col5\" >nan</td>\n",
       "      <td id=\"T_ec1a0_row10_col6\" class=\"data row10 col6\" >nan</td>\n",
       "      <td id=\"T_ec1a0_row10_col7\" class=\"data row10 col7\" >nan</td>\n",
       "      <td id=\"T_ec1a0_row10_col8\" class=\"data row10 col8\" >nan</td>\n",
       "      <td id=\"T_ec1a0_row10_col9\" class=\"data row10 col9\" >84.7118548</td>\n",
       "      <td id=\"T_ec1a0_row10_col10\" class=\"data row10 col10\" >0.2304048</td>\n",
       "    </tr>\n",
       "    <tr>\n",
       "      <th id=\"T_ec1a0_level0_row11\" class=\"row_heading level0 row11\" >4</th>\n",
       "      <td id=\"T_ec1a0_row11_col0\" class=\"data row11 col0\" >min-max + pca 0.95</td>\n",
       "      <td id=\"T_ec1a0_row11_col1\" class=\"data row11 col1\" >0.9500000</td>\n",
       "      <td id=\"T_ec1a0_row11_col2\" class=\"data row11 col2\" >full</td>\n",
       "      <td id=\"T_ec1a0_row11_col3\" class=\"data row11 col3\" >True</td>\n",
       "      <td id=\"T_ec1a0_row11_col4\" class=\"data row11 col4\" >nan</td>\n",
       "      <td id=\"T_ec1a0_row11_col5\" class=\"data row11 col5\" >nan</td>\n",
       "      <td id=\"T_ec1a0_row11_col6\" class=\"data row11 col6\" >nan</td>\n",
       "      <td id=\"T_ec1a0_row11_col7\" class=\"data row11 col7\" >nan</td>\n",
       "      <td id=\"T_ec1a0_row11_col8\" class=\"data row11 col8\" >nan</td>\n",
       "      <td id=\"T_ec1a0_row11_col9\" class=\"data row11 col9\" >85.0723431</td>\n",
       "      <td id=\"T_ec1a0_row11_col10\" class=\"data row11 col10\" >0.2271298</td>\n",
       "    </tr>\n",
       "    <tr>\n",
       "      <th id=\"T_ec1a0_level0_row12\" class=\"row_heading level0 row12\" >3</th>\n",
       "      <td id=\"T_ec1a0_row12_col0\" class=\"data row12 col0\" >std-scaler + pca 0.95</td>\n",
       "      <td id=\"T_ec1a0_row12_col1\" class=\"data row12 col1\" >0.9500000</td>\n",
       "      <td id=\"T_ec1a0_row12_col2\" class=\"data row12 col2\" >full</td>\n",
       "      <td id=\"T_ec1a0_row12_col3\" class=\"data row12 col3\" >True</td>\n",
       "      <td id=\"T_ec1a0_row12_col4\" class=\"data row12 col4\" >nan</td>\n",
       "      <td id=\"T_ec1a0_row12_col5\" class=\"data row12 col5\" >nan</td>\n",
       "      <td id=\"T_ec1a0_row12_col6\" class=\"data row12 col6\" >nan</td>\n",
       "      <td id=\"T_ec1a0_row12_col7\" class=\"data row12 col7\" >nan</td>\n",
       "      <td id=\"T_ec1a0_row12_col8\" class=\"data row12 col8\" >nan</td>\n",
       "      <td id=\"T_ec1a0_row12_col9\" class=\"data row12 col9\" >90.2763586</td>\n",
       "      <td id=\"T_ec1a0_row12_col10\" class=\"data row12 col10\" >0.1798520</td>\n",
       "    </tr>\n",
       "  </tbody>\n",
       "</table>\n"
      ],
      "text/plain": [
       "<pandas.io.formats.style.Styler at 0x1f1da4eb650>"
      ]
     },
     "metadata": {},
     "output_type": "display_data"
    }
   ],
   "source": [
    "print_all_results(name_estimator)"
   ]
  },
  {
   "cell_type": "code",
   "execution_count": 15,
   "metadata": {},
   "outputs": [
    {
     "data": {
      "image/png": "[encoded data removed]",
      "text/plain": [
       "<Figure size 1000x1000 with 2 Axes>"
      ]
     },
     "metadata": {},
     "output_type": "display_data"
    },
    {
     "data": {
      "application/vnd.plotly.v1+json": {
       "config": {
        "plotlyServerURL": "https://plot.ly"
       },
       "data": [
        {
         "dimensions": [
          {
           "label": "preprocess",
           "ticktext": [
            "raw",
            "std-scaled",
            "min-maxed",
            "std-scaler + pca 0.95",
            "min-max + pca 0.95",
            "min-max + lmax + pca 0.95",
            "min-max + lda",
            "min-max + lmax + lda",
            "min-max + lmax + lda + nystroem",
            "min-max + nystroem",
            "std-scaler + lda + nystroem",
            "min-max + lda + nystroem"
           ],
           "tickvals": [
            0,
            1,
            2,
            3,
            4,
            5,
            6,
            7,
            8,
            9,
            10,
            11
           ],
           "values": [
            0,
            1,
            2,
            3,
            4,
            5,
            6,
            7,
            8,
            9,
            10,
            11,
            7
           ]
          },
          {
           "label": "pca__n_components",
           "ticktext": [
            "None",
            0.95
           ],
           "tickvals": [
            0,
            1
           ],
           "values": [
            0,
            0,
            0,
            1,
            1,
            1,
            0,
            0,
            0,
            0,
            0,
            0,
            0
           ]
          },
          {
           "label": "pca__svd_solver",
           "ticktext": [
            "None",
            "full"
           ],
           "tickvals": [
            0,
            1
           ],
           "values": [
            0,
            0,
            0,
            1,
            1,
            1,
            0,
            0,
            0,
            0,
            0,
            0,
            0
           ]
          },
          {
           "label": "pca__whiten",
           "ticktext": [
            "None",
            true,
            false
           ],
           "tickvals": [
            0,
            1,
            2
           ],
           "values": [
            0,
            0,
            0,
            1,
            1,
            2,
            0,
            0,
            0,
            0,
            0,
            0,
            0
           ]
          },
          {
           "label": "lda__covariance_estimator",
           "ticktext": [
            "None",
            "EmpiricalCovariance()",
            "OAS()"
           ],
           "tickvals": [
            0,
            1,
            2
           ],
           "values": [
            0,
            0,
            0,
            0,
            0,
            0,
            1,
            1,
            2,
            0,
            2,
            2,
            2
           ]
          },
          {
           "label": "lda__shrinkage",
           "ticktext": [
            "None"
           ],
           "tickvals": [
            0
           ],
           "values": [
            0,
            0,
            0,
            0,
            0,
            0,
            0,
            0,
            0,
            0,
            0,
            0,
            0
           ]
          },
          {
           "label": "lda__solver",
           "ticktext": [
            "None",
            "eigen"
           ],
           "tickvals": [
            0,
            1
           ],
           "values": [
            0,
            0,
            0,
            0,
            0,
            0,
            1,
            1,
            1,
            0,
            1,
            1,
            1
           ]
          },
          {
           "label": "nys__gamma",
           "ticktext": [
            "None",
            0.01
           ],
           "tickvals": [
            0,
            1
           ],
           "values": [
            0,
            0,
            0,
            0,
            0,
            0,
            0,
            0,
            1,
            1,
            1,
            1,
            0
           ]
          },
          {
           "label": "nys__n_components",
           "ticktext": [
            "None",
            1000
           ],
           "tickvals": [
            0,
            1
           ],
           "values": [
            0,
            0,
            0,
            0,
            0,
            0,
            0,
            0,
            1,
            1,
            1,
            1,
            0
           ]
          },
          {
           "label": "R^2",
           "tickvals": [
            0.18,
            0.21,
            0.24,
            0.27,
            0.3,
            0.33
           ],
           "values": [
            0.24,
            0.24,
            0.24,
            0.18,
            0.23,
            0.23,
            0.24,
            0.24,
            0.33,
            0.31,
            0.32,
            0.33,
            0.24
           ]
          },
          {
           "label": "MSE",
           "tickvals": [
            73.6,
            75.45,
            77.31,
            79.16,
            81.01,
            82.87,
            84.72,
            86.57,
            88.43,
            90.28
           ],
           "values": [
            83.97,
            83.97,
            83.97,
            90.28,
            85.07,
            84.71,
            83.97,
            83.32,
            73.62,
            75.86,
            74.35,
            73.6,
            83.34
           ]
          }
         ],
         "labelangle": -15,
         "line": {
          "color": [
           83.97,
           83.97,
           83.97,
           90.28,
           85.07,
           84.71,
           83.97,
           83.32,
           73.62,
           75.86,
           74.35,
           73.6,
           83.34
          ],
          "colorscale": [
           [
            0,
            "#440154"
           ],
           [
            0.1111111111111111,
            "#482878"
           ],
           [
            0.2222222222222222,
            "#3e4989"
           ],
           [
            0.3333333333333333,
            "#31688e"
           ],
           [
            0.4444444444444444,
            "#26828e"
           ],
           [
            0.5555555555555556,
            "#1f9e89"
           ],
           [
            0.6666666666666666,
            "#35b779"
           ],
           [
            0.7777777777777778,
            "#6ece58"
           ],
           [
            0.8888888888888888,
            "#b5de2b"
           ],
           [
            1,
            "#fde725"
           ]
          ],
          "showscale": true
         },
         "type": "parcoords"
        }
       ],
       "layout": {
        "template": {
         "data": {
          "bar": [
           {
            "error_x": {
             "color": "#2a3f5f"
            },
            "error_y": {
             "color": "#2a3f5f"
            },
            "marker": {
             "line": {
              "color": "#E5ECF6",
              "width": 0.5
             },
             "pattern": {
              "fillmode": "overlay",
              "size": 10,
              "solidity": 0.2
             }
            },
            "type": "bar"
           }
          ],
          "barpolar": [
           {
            "marker": {
             "line": {
              "color": "#E5ECF6",
              "width": 0.5
             },
             "pattern": {
              "fillmode": "overlay",
              "size": 10,
              "solidity": 0.2
             }
            },
            "type": "barpolar"
           }
          ],
          "carpet": [
           {
            "aaxis": {
             "endlinecolor": "#2a3f5f",
             "gridcolor": "white",
             "linecolor": "white",
             "minorgridcolor": "white",
             "startlinecolor": "#2a3f5f"
            },
            "baxis": {
             "endlinecolor": "#2a3f5f",
             "gridcolor": "white",
             "linecolor": "white",
             "minorgridcolor": "white",
             "startlinecolor": "#2a3f5f"
            },
            "type": "carpet"
           }
          ],
          "choropleth": [
           {
            "colorbar": {
             "outlinewidth": 0,
             "ticks": ""
            },
            "type": "choropleth"
           }
          ],
          "contour": [
           {
            "colorbar": {
             "outlinewidth": 0,
             "ticks": ""
            },
            "colorscale": [
             [
              0,
              "#0d0887"
             ],
             [
              0.1111111111111111,
              "#46039f"
             ],
             [
              0.2222222222222222,
              "#7201a8"
             ],
             [
              0.3333333333333333,
              "#9c179e"
             ],
             [
              0.4444444444444444,
              "#bd3786"
             ],
             [
              0.5555555555555556,
              "#d8576b"
             ],
             [
              0.6666666666666666,
              "#ed7953"
             ],
             [
              0.7777777777777778,
              "#fb9f3a"
             ],
             [
              0.8888888888888888,
              "#fdca26"
             ],
             [
              1,
              "#f0f921"
             ]
            ],
            "type": "contour"
           }
          ],
          "contourcarpet": [
           {
            "colorbar": {
             "outlinewidth": 0,
             "ticks": ""
            },
            "type": "contourcarpet"
           }
          ],
          "heatmap": [
           {
            "colorbar": {
             "outlinewidth": 0,
             "ticks": ""
            },
            "colorscale": [
             [
              0,
              "#0d0887"
             ],
             [
              0.1111111111111111,
              "#46039f"
             ],
             [
              0.2222222222222222,
              "#7201a8"
             ],
             [
              0.3333333333333333,
              "#9c179e"
             ],
             [
              0.4444444444444444,
              "#bd3786"
             ],
             [
              0.5555555555555556,
              "#d8576b"
             ],
             [
              0.6666666666666666,
              "#ed7953"
             ],
             [
              0.7777777777777778,
              "#fb9f3a"
             ],
             [
              0.8888888888888888,
              "#fdca26"
             ],
             [
              1,
              "#f0f921"
             ]
            ],
            "type": "heatmap"
           }
          ],
          "heatmapgl": [
           {
            "colorbar": {
             "outlinewidth": 0,
             "ticks": ""
            },
            "colorscale": [
             [
              0,
              "#0d0887"
             ],
             [
              0.1111111111111111,
              "#46039f"
             ],
             [
              0.2222222222222222,
              "#7201a8"
             ],
             [
              0.3333333333333333,
              "#9c179e"
             ],
             [
              0.4444444444444444,
              "#bd3786"
             ],
             [
              0.5555555555555556,
              "#d8576b"
             ],
             [
              0.6666666666666666,
              "#ed7953"
             ],
             [
              0.7777777777777778,
              "#fb9f3a"
             ],
             [
              0.8888888888888888,
              "#fdca26"
             ],
             [
              1,
              "#f0f921"
             ]
            ],
            "type": "heatmapgl"
           }
          ],
          "histogram": [
           {
            "marker": {
             "pattern": {
              "fillmode": "overlay",
              "size": 10,
              "solidity": 0.2
             }
            },
            "type": "histogram"
           }
          ],
          "histogram2d": [
           {
            "colorbar": {
             "outlinewidth": 0,
             "ticks": ""
            },
            "colorscale": [
             [
              0,
              "#0d0887"
             ],
             [
              0.1111111111111111,
              "#46039f"
             ],
             [
              0.2222222222222222,
              "#7201a8"
             ],
             [
              0.3333333333333333,
              "#9c179e"
             ],
             [
              0.4444444444444444,
              "#bd3786"
             ],
             [
              0.5555555555555556,
              "#d8576b"
             ],
             [
              0.6666666666666666,
              "#ed7953"
             ],
             [
              0.7777777777777778,
              "#fb9f3a"
             ],
             [
              0.8888888888888888,
              "#fdca26"
             ],
             [
              1,
              "#f0f921"
             ]
            ],
            "type": "histogram2d"
           }
          ],
          "histogram2dcontour": [
           {
            "colorbar": {
             "outlinewidth": 0,
             "ticks": ""
            },
            "colorscale": [
             [
              0,
              "#0d0887"
             ],
             [
              0.1111111111111111,
              "#46039f"
             ],
             [
              0.2222222222222222,
              "#7201a8"
             ],
             [
              0.3333333333333333,
              "#9c179e"
             ],
             [
              0.4444444444444444,
              "#bd3786"
             ],
             [
              0.5555555555555556,
              "#d8576b"
             ],
             [
              0.6666666666666666,
              "#ed7953"
             ],
             [
              0.7777777777777778,
              "#fb9f3a"
             ],
             [
              0.8888888888888888,
              "#fdca26"
             ],
             [
              1,
              "#f0f921"
             ]
            ],
            "type": "histogram2dcontour"
           }
          ],
          "mesh3d": [
           {
            "colorbar": {
             "outlinewidth": 0,
             "ticks": ""
            },
            "type": "mesh3d"
           }
          ],
          "parcoords": [
           {
            "line": {
             "colorbar": {
              "outlinewidth": 0,
              "ticks": ""
             }
            },
            "type": "parcoords"
           }
          ],
          "pie": [
           {
            "automargin": true,
            "type": "pie"
           }
          ],
          "scatter": [
           {
            "fillpattern": {
             "fillmode": "overlay",
             "size": 10,
             "solidity": 0.2
            },
            "type": "scatter"
           }
          ],
          "scatter3d": [
           {
            "line": {
             "colorbar": {
              "outlinewidth": 0,
              "ticks": ""
             }
            },
            "marker": {
             "colorbar": {
              "outlinewidth": 0,
              "ticks": ""
             }
            },
            "type": "scatter3d"
           }
          ],
          "scattercarpet": [
           {
            "marker": {
             "colorbar": {
              "outlinewidth": 0,
              "ticks": ""
             }
            },
            "type": "scattercarpet"
           }
          ],
          "scattergeo": [
           {
            "marker": {
             "colorbar": {
              "outlinewidth": 0,
              "ticks": ""
             }
            },
            "type": "scattergeo"
           }
          ],
          "scattergl": [
           {
            "marker": {
             "colorbar": {
              "outlinewidth": 0,
              "ticks": ""
             }
            },
            "type": "scattergl"
           }
          ],
          "scattermapbox": [
           {
            "marker": {
             "colorbar": {
              "outlinewidth": 0,
              "ticks": ""
             }
            },
            "type": "scattermapbox"
           }
          ],
          "scatterpolar": [
           {
            "marker": {
             "colorbar": {
              "outlinewidth": 0,
              "ticks": ""
             }
            },
            "type": "scatterpolar"
           }
          ],
          "scatterpolargl": [
           {
            "marker": {
             "colorbar": {
              "outlinewidth": 0,
              "ticks": ""
             }
            },
            "type": "scatterpolargl"
           }
          ],
          "scatterternary": [
           {
            "marker": {
             "colorbar": {
              "outlinewidth": 0,
              "ticks": ""
             }
            },
            "type": "scatterternary"
           }
          ],
          "surface": [
           {
            "colorbar": {
             "outlinewidth": 0,
             "ticks": ""
            },
            "colorscale": [
             [
              0,
              "#0d0887"
             ],
             [
              0.1111111111111111,
              "#46039f"
             ],
             [
              0.2222222222222222,
              "#7201a8"
             ],
             [
              0.3333333333333333,
              "#9c179e"
             ],
             [
              0.4444444444444444,
              "#bd3786"
             ],
             [
              0.5555555555555556,
              "#d8576b"
             ],
             [
              0.6666666666666666,
              "#ed7953"
             ],
             [
              0.7777777777777778,
              "#fb9f3a"
             ],
             [
              0.8888888888888888,
              "#fdca26"
             ],
             [
              1,
              "#f0f921"
             ]
            ],
            "type": "surface"
           }
          ],
          "table": [
           {
            "cells": {
             "fill": {
              "color": "#EBF0F8"
             },
             "line": {
              "color": "white"
             }
            },
            "header": {
             "fill": {
              "color": "#C8D4E3"
             },
             "line": {
              "color": "white"
             }
            },
            "type": "table"
           }
          ]
         },
         "layout": {
          "annotationdefaults": {
           "arrowcolor": "#2a3f5f",
           "arrowhead": 0,
           "arrowwidth": 1
          },
          "autotypenumbers": "strict",
          "coloraxis": {
           "colorbar": {
            "outlinewidth": 0,
            "ticks": ""
           }
          },
          "colorscale": {
           "diverging": [
            [
             0,
             "#8e0152"
            ],
            [
             0.1,
             "#c51b7d"
            ],
            [
             0.2,
             "#de77ae"
            ],
            [
             0.3,
             "#f1b6da"
            ],
            [
             0.4,
             "#fde0ef"
            ],
            [
             0.5,
             "#f7f7f7"
            ],
            [
             0.6,
             "#e6f5d0"
            ],
            [
             0.7,
             "#b8e186"
            ],
            [
             0.8,
             "#7fbc41"
            ],
            [
             0.9,
             "#4d9221"
            ],
            [
             1,
             "#276419"
            ]
           ],
           "sequential": [
            [
             0,
             "#0d0887"
            ],
            [
             0.1111111111111111,
             "#46039f"
            ],
            [
             0.2222222222222222,
             "#7201a8"
            ],
            [
             0.3333333333333333,
             "#9c179e"
            ],
            [
             0.4444444444444444,
             "#bd3786"
            ],
            [
             0.5555555555555556,
             "#d8576b"
            ],
            [
             0.6666666666666666,
             "#ed7953"
            ],
            [
             0.7777777777777778,
             "#fb9f3a"
            ],
            [
             0.8888888888888888,
             "#fdca26"
            ],
            [
             1,
             "#f0f921"
            ]
           ],
           "sequentialminus": [
            [
             0,
             "#0d0887"
            ],
            [
             0.1111111111111111,
             "#46039f"
            ],
            [
             0.2222222222222222,
             "#7201a8"
            ],
            [
             0.3333333333333333,
             "#9c179e"
            ],
            [
             0.4444444444444444,
             "#bd3786"
            ],
            [
             0.5555555555555556,
             "#d8576b"
            ],
            [
             0.6666666666666666,
             "#ed7953"
            ],
            [
             0.7777777777777778,
             "#fb9f3a"
            ],
            [
             0.8888888888888888,
             "#fdca26"
            ],
            [
             1,
             "#f0f921"
            ]
           ]
          },
          "colorway": [
           "#636efa",
           "#EF553B",
           "#00cc96",
           "#ab63fa",
           "#FFA15A",
           "#19d3f3",
           "#FF6692",
           "#B6E880",
           "#FF97FF",
           "#FECB52"
          ],
          "font": {
           "color": "#2a3f5f"
          },
          "geo": {
           "bgcolor": "white",
           "lakecolor": "white",
           "landcolor": "#E5ECF6",
           "showlakes": true,
           "showland": true,
           "subunitcolor": "white"
          },
          "hoverlabel": {
           "align": "left"
          },
          "hovermode": "closest",
          "mapbox": {
           "style": "light"
          },
          "paper_bgcolor": "white",
          "plot_bgcolor": "#E5ECF6",
          "polar": {
           "angularaxis": {
            "gridcolor": "white",
            "linecolor": "white",
            "ticks": ""
           },
           "bgcolor": "#E5ECF6",
           "radialaxis": {
            "gridcolor": "white",
            "linecolor": "white",
            "ticks": ""
           }
          },
          "scene": {
           "xaxis": {
            "backgroundcolor": "#E5ECF6",
            "gridcolor": "white",
            "gridwidth": 2,
            "linecolor": "white",
            "showbackground": true,
            "ticks": "",
            "zerolinecolor": "white"
           },
           "yaxis": {
            "backgroundcolor": "#E5ECF6",
            "gridcolor": "white",
            "gridwidth": 2,
            "linecolor": "white",
            "showbackground": true,
            "ticks": "",
            "zerolinecolor": "white"
           },
           "zaxis": {
            "backgroundcolor": "#E5ECF6",
            "gridcolor": "white",
            "gridwidth": 2,
            "linecolor": "white",
            "showbackground": true,
            "ticks": "",
            "zerolinecolor": "white"
           }
          },
          "shapedefaults": {
           "line": {
            "color": "#2a3f5f"
           }
          },
          "ternary": {
           "aaxis": {
            "gridcolor": "white",
            "linecolor": "white",
            "ticks": ""
           },
           "baxis": {
            "gridcolor": "white",
            "linecolor": "white",
            "ticks": ""
           },
           "bgcolor": "#E5ECF6",
           "caxis": {
            "gridcolor": "white",
            "linecolor": "white",
            "ticks": ""
           }
          },
          "title": {
           "x": 0.05
          },
          "xaxis": {
           "automargin": true,
           "gridcolor": "white",
           "linecolor": "white",
           "ticks": "",
           "title": {
            "standoff": 15
           },
           "zerolinecolor": "white",
           "zerolinewidth": 2
          },
          "yaxis": {
           "automargin": true,
           "gridcolor": "white",
           "linecolor": "white",
           "ticks": "",
           "title": {
            "standoff": 15
           },
           "zerolinecolor": "white",
           "zerolinewidth": 2
          }
         }
        }
       }
      }
     },
     "metadata": {},
     "output_type": "display_data"
    }
   ],
   "source": [
    "save_display_results(\n",
    "    name_estimator,\n",
    "    best_preprocessor,\n",
    "    best_estimator,\n",
    "    best_predictions,\n",
    ")"
   ]
  },
  {
   "cell_type": "markdown",
   "metadata": {},
   "source": [
    "---\n",
    "## RandomForestRegressor\n",
    "- PCA gives worse results than LDA.\n",
    "- LDA gives the best results with MinMax + Lmax-Normalization.\n",
    "- The following results are given with a preprocess of MinMax + Lmax-Normalization + LDA:\n",
    "    - Keeping the number of trees to 200 with samples percentage per tree of 10% (for computational reasons):\n",
    "        - The best covariance estimators are EllipticEnvelope (MinCovDet) and OAS, over EmpiricalCovariance and no-shrinkage: R^2=0.3033, MSE=76.77\n",
    "        - The best \"contamination\" amount for EllipticEnvelope is 0.001, over 0.2, 0.1, 0.05, 0.0001, but the difference is minimal\n",
    "        - The only difference is that the OAS covariance estimator takes much less time to compute instead of EllipticEnvelope\n",
    "    - Incrementing the number of trees (500) and reducing the percentage of samples per tree (2.5%) (for computational reasons), the results were a bit worse but very similar\n",
    "    - Decrementing the number of trees (5) with samples percentage per tree of 100%, the results are far worse (R^2=0.16, MSE=92)\n",
    "- Therefore the best combination is:\n",
    "    - MinMax preprocess + l-max-Normalization + LDA preprocess with OAS covariance estimator and \"eigen\" as solver\n",
    "    - RandomForest with 200 estimators and 100% of sample per estimator: R^2=0.3195, MSE=74.98\n",
    "    - There is a very big downside with this configuration: it is more than 2GB of model size, in comparison with the 328MB of the same model but with 0.1% of samples per tree (the results are the one above)."
   ]
  },
  {
   "cell_type": "code",
   "execution_count": 20,
   "metadata": {},
   "outputs": [],
   "source": [
    "param_estimator = {\n",
    "    \"rf__max_samples\": [0.1],\n",
    "    \"rf__criterion\": [\"squared_error\"],\n",
    "    \"rf__n_estimators\": [200],\n",
    "    \"rf__max_depth\": [5, 10, 15, 20],\n",
    "    \"rf__max_leaf_nodes\": [200, 300, 400, 500, None],\n",
    "    \"rf__ccp_alpha\": [0.0, 0.0001, 0.001, 0.01, 0.1, 1.0],\n",
    "}\n",
    "\n",
    "name_estimator = \"rf\"\n",
    "\n",
    "best_preprocessor, best_estimator, best_predictions = gridSearch(\n",
    "    name_estimator,\n",
    "    RandomForestRegressor(n_jobs=-1),\n",
    "    param_estimator,\n",
    "    True,\n",
    ")"
   ]
  },
  {
   "cell_type": "code",
   "execution_count": null,
   "metadata": {},
   "outputs": [
    {
     "data": {
      "text/html": [
       "<style type=\"text/css\">\n",
       "</style>\n",
       "<table id=\"T_8276d\">\n",
       "  <thead>\n",
       "    <tr>\n",
       "      <th class=\"blank level0\" >&nbsp;</th>\n",
       "      <th id=\"T_8276d_level0_col0\" class=\"col_heading level0 col0\" >rf__criterion</th>\n",
       "      <th id=\"T_8276d_level0_col1\" class=\"col_heading level0 col1\" >rf__max_samples</th>\n",
       "      <th id=\"T_8276d_level0_col2\" class=\"col_heading level0 col2\" >rf__n_estimators</th>\n",
       "      <th id=\"T_8276d_level0_col3\" class=\"col_heading level0 col3\" >preprocess</th>\n",
       "      <th id=\"T_8276d_level0_col4\" class=\"col_heading level0 col4\" >pca__n_components</th>\n",
       "      <th id=\"T_8276d_level0_col5\" class=\"col_heading level0 col5\" >pca__svd_solver</th>\n",
       "      <th id=\"T_8276d_level0_col6\" class=\"col_heading level0 col6\" >pca__whiten</th>\n",
       "      <th id=\"T_8276d_level0_col7\" class=\"col_heading level0 col7\" >lda__covariance_estimator</th>\n",
       "      <th id=\"T_8276d_level0_col8\" class=\"col_heading level0 col8\" >lda__shrinkage</th>\n",
       "      <th id=\"T_8276d_level0_col9\" class=\"col_heading level0 col9\" >lda__solver</th>\n",
       "      <th id=\"T_8276d_level0_col10\" class=\"col_heading level0 col10\" >rf__max_depth</th>\n",
       "      <th id=\"T_8276d_level0_col11\" class=\"col_heading level0 col11\" >rf__max_leaf_nodes</th>\n",
       "      <th id=\"T_8276d_level0_col12\" class=\"col_heading level0 col12\" >rf__ccp_alpha</th>\n",
       "      <th id=\"T_8276d_level0_col13\" class=\"col_heading level0 col13\" >MSE</th>\n",
       "      <th id=\"T_8276d_level0_col14\" class=\"col_heading level0 col14\" >R^2</th>\n",
       "    </tr>\n",
       "  </thead>\n",
       "  <tbody>\n",
       "    <tr>\n",
       "      <th id=\"T_8276d_level0_row0\" class=\"row_heading level0 row0\" >15</th>\n",
       "      <td id=\"T_8276d_row0_col0\" class=\"data row0 col0\" >squared_error</td>\n",
       "      <td id=\"T_8276d_row0_col1\" class=\"data row0 col1\" >1.0000000</td>\n",
       "      <td id=\"T_8276d_row0_col2\" class=\"data row0 col2\" >200.0000000</td>\n",
       "      <td id=\"T_8276d_row0_col3\" class=\"data row0 col3\" >min-max + lmax + lda</td>\n",
       "      <td id=\"T_8276d_row0_col4\" class=\"data row0 col4\" >nan</td>\n",
       "      <td id=\"T_8276d_row0_col5\" class=\"data row0 col5\" >nan</td>\n",
       "      <td id=\"T_8276d_row0_col6\" class=\"data row0 col6\" >nan</td>\n",
       "      <td id=\"T_8276d_row0_col7\" class=\"data row0 col7\" >OAS()</td>\n",
       "      <td id=\"T_8276d_row0_col8\" class=\"data row0 col8\" >nan</td>\n",
       "      <td id=\"T_8276d_row0_col9\" class=\"data row0 col9\" >eigen</td>\n",
       "      <td id=\"T_8276d_row0_col10\" class=\"data row0 col10\" >nan</td>\n",
       "      <td id=\"T_8276d_row0_col11\" class=\"data row0 col11\" >nan</td>\n",
       "      <td id=\"T_8276d_row0_col12\" class=\"data row0 col12\" >nan</td>\n",
       "      <td id=\"T_8276d_row0_col13\" class=\"data row0 col13\" >74.7329429</td>\n",
       "      <td id=\"T_8276d_row0_col14\" class=\"data row0 col14\" >0.3210618</td>\n",
       "    </tr>\n",
       "    <tr>\n",
       "      <th id=\"T_8276d_level0_row1\" class=\"row_heading level0 row1\" >13</th>\n",
       "      <td id=\"T_8276d_row1_col0\" class=\"data row1 col0\" >squared_error</td>\n",
       "      <td id=\"T_8276d_row1_col1\" class=\"data row1 col1\" >0.2500000</td>\n",
       "      <td id=\"T_8276d_row1_col2\" class=\"data row1 col2\" >500.0000000</td>\n",
       "      <td id=\"T_8276d_row1_col3\" class=\"data row1 col3\" >min-max + lmax + lda</td>\n",
       "      <td id=\"T_8276d_row1_col4\" class=\"data row1 col4\" >nan</td>\n",
       "      <td id=\"T_8276d_row1_col5\" class=\"data row1 col5\" >nan</td>\n",
       "      <td id=\"T_8276d_row1_col6\" class=\"data row1 col6\" >nan</td>\n",
       "      <td id=\"T_8276d_row1_col7\" class=\"data row1 col7\" >OAS()</td>\n",
       "      <td id=\"T_8276d_row1_col8\" class=\"data row1 col8\" >nan</td>\n",
       "      <td id=\"T_8276d_row1_col9\" class=\"data row1 col9\" >eigen</td>\n",
       "      <td id=\"T_8276d_row1_col10\" class=\"data row1 col10\" >nan</td>\n",
       "      <td id=\"T_8276d_row1_col11\" class=\"data row1 col11\" >nan</td>\n",
       "      <td id=\"T_8276d_row1_col12\" class=\"data row1 col12\" >nan</td>\n",
       "      <td id=\"T_8276d_row1_col13\" class=\"data row1 col13\" >75.1682140</td>\n",
       "      <td id=\"T_8276d_row1_col14\" class=\"data row1 col14\" >0.3171074</td>\n",
       "    </tr>\n",
       "    <tr>\n",
       "      <th id=\"T_8276d_level0_row2\" class=\"row_heading level0 row2\" >24</th>\n",
       "      <td id=\"T_8276d_row2_col0\" class=\"data row2 col0\" >squared_error</td>\n",
       "      <td id=\"T_8276d_row2_col1\" class=\"data row2 col1\" >0.1000000</td>\n",
       "      <td id=\"T_8276d_row2_col2\" class=\"data row2 col2\" >200.0000000</td>\n",
       "      <td id=\"T_8276d_row2_col3\" class=\"data row2 col3\" >min-max + lmax + lda</td>\n",
       "      <td id=\"T_8276d_row2_col4\" class=\"data row2 col4\" >nan</td>\n",
       "      <td id=\"T_8276d_row2_col5\" class=\"data row2 col5\" >nan</td>\n",
       "      <td id=\"T_8276d_row2_col6\" class=\"data row2 col6\" >nan</td>\n",
       "      <td id=\"T_8276d_row2_col7\" class=\"data row2 col7\" >OAS()</td>\n",
       "      <td id=\"T_8276d_row2_col8\" class=\"data row2 col8\" >nan</td>\n",
       "      <td id=\"T_8276d_row2_col9\" class=\"data row2 col9\" >eigen</td>\n",
       "      <td id=\"T_8276d_row2_col10\" class=\"data row2 col10\" >20.0000000</td>\n",
       "      <td id=\"T_8276d_row2_col11\" class=\"data row2 col11\" >300.0000000</td>\n",
       "      <td id=\"T_8276d_row2_col12\" class=\"data row2 col12\" >0.0000000</td>\n",
       "      <td id=\"T_8276d_row2_col13\" class=\"data row2 col13\" >75.4455660</td>\n",
       "      <td id=\"T_8276d_row2_col14\" class=\"data row2 col14\" >0.3145877</td>\n",
       "    </tr>\n",
       "    <tr>\n",
       "      <th id=\"T_8276d_level0_row3\" class=\"row_heading level0 row3\" >25</th>\n",
       "      <td id=\"T_8276d_row3_col0\" class=\"data row3 col0\" >squared_error</td>\n",
       "      <td id=\"T_8276d_row3_col1\" class=\"data row3 col1\" >0.1000000</td>\n",
       "      <td id=\"T_8276d_row3_col2\" class=\"data row3 col2\" >200.0000000</td>\n",
       "      <td id=\"T_8276d_row3_col3\" class=\"data row3 col3\" >min-max + lda</td>\n",
       "      <td id=\"T_8276d_row3_col4\" class=\"data row3 col4\" >nan</td>\n",
       "      <td id=\"T_8276d_row3_col5\" class=\"data row3 col5\" >nan</td>\n",
       "      <td id=\"T_8276d_row3_col6\" class=\"data row3 col6\" >nan</td>\n",
       "      <td id=\"T_8276d_row3_col7\" class=\"data row3 col7\" >OAS()</td>\n",
       "      <td id=\"T_8276d_row3_col8\" class=\"data row3 col8\" >nan</td>\n",
       "      <td id=\"T_8276d_row3_col9\" class=\"data row3 col9\" >eigen</td>\n",
       "      <td id=\"T_8276d_row3_col10\" class=\"data row3 col10\" >20.0000000</td>\n",
       "      <td id=\"T_8276d_row3_col11\" class=\"data row3 col11\" >300.0000000</td>\n",
       "      <td id=\"T_8276d_row3_col12\" class=\"data row3 col12\" >0.0010000</td>\n",
       "      <td id=\"T_8276d_row3_col13\" class=\"data row3 col13\" >75.6769245</td>\n",
       "      <td id=\"T_8276d_row3_col14\" class=\"data row3 col14\" >0.3124858</td>\n",
       "    </tr>\n",
       "    <tr>\n",
       "      <th id=\"T_8276d_level0_row4\" class=\"row_heading level0 row4\" >23</th>\n",
       "      <td id=\"T_8276d_row4_col0\" class=\"data row4 col0\" >squared_error</td>\n",
       "      <td id=\"T_8276d_row4_col1\" class=\"data row4 col1\" >0.1000000</td>\n",
       "      <td id=\"T_8276d_row4_col2\" class=\"data row4 col2\" >200.0000000</td>\n",
       "      <td id=\"T_8276d_row4_col3\" class=\"data row4 col3\" >min-max + lmax + lda</td>\n",
       "      <td id=\"T_8276d_row4_col4\" class=\"data row4 col4\" >nan</td>\n",
       "      <td id=\"T_8276d_row4_col5\" class=\"data row4 col5\" >nan</td>\n",
       "      <td id=\"T_8276d_row4_col6\" class=\"data row4 col6\" >nan</td>\n",
       "      <td id=\"T_8276d_row4_col7\" class=\"data row4 col7\" >OAS()</td>\n",
       "      <td id=\"T_8276d_row4_col8\" class=\"data row4 col8\" >nan</td>\n",
       "      <td id=\"T_8276d_row4_col9\" class=\"data row4 col9\" >eigen</td>\n",
       "      <td id=\"T_8276d_row4_col10\" class=\"data row4 col10\" >10.0000000</td>\n",
       "      <td id=\"T_8276d_row4_col11\" class=\"data row4 col11\" >200.0000000</td>\n",
       "      <td id=\"T_8276d_row4_col12\" class=\"data row4 col12\" >0.0010000</td>\n",
       "      <td id=\"T_8276d_row4_col13\" class=\"data row4 col13\" >75.7272966</td>\n",
       "      <td id=\"T_8276d_row4_col14\" class=\"data row4 col14\" >0.3120282</td>\n",
       "    </tr>\n",
       "    <tr>\n",
       "      <th id=\"T_8276d_level0_row5\" class=\"row_heading level0 row5\" >17</th>\n",
       "      <td id=\"T_8276d_row5_col0\" class=\"data row5 col0\" >squared_error</td>\n",
       "      <td id=\"T_8276d_row5_col1\" class=\"data row5 col1\" >0.1000000</td>\n",
       "      <td id=\"T_8276d_row5_col2\" class=\"data row5 col2\" >200.0000000</td>\n",
       "      <td id=\"T_8276d_row5_col3\" class=\"data row5 col3\" >min-max + lmax + lda</td>\n",
       "      <td id=\"T_8276d_row5_col4\" class=\"data row5 col4\" >nan</td>\n",
       "      <td id=\"T_8276d_row5_col5\" class=\"data row5 col5\" >nan</td>\n",
       "      <td id=\"T_8276d_row5_col6\" class=\"data row5 col6\" >nan</td>\n",
       "      <td id=\"T_8276d_row5_col7\" class=\"data row5 col7\" >OAS()</td>\n",
       "      <td id=\"T_8276d_row5_col8\" class=\"data row5 col8\" >nan</td>\n",
       "      <td id=\"T_8276d_row5_col9\" class=\"data row5 col9\" >eigen</td>\n",
       "      <td id=\"T_8276d_row5_col10\" class=\"data row5 col10\" >10.0000000</td>\n",
       "      <td id=\"T_8276d_row5_col11\" class=\"data row5 col11\" >nan</td>\n",
       "      <td id=\"T_8276d_row5_col12\" class=\"data row5 col12\" >nan</td>\n",
       "      <td id=\"T_8276d_row5_col13\" class=\"data row5 col13\" >75.7375483</td>\n",
       "      <td id=\"T_8276d_row5_col14\" class=\"data row5 col14\" >0.3119351</td>\n",
       "    </tr>\n",
       "    <tr>\n",
       "      <th id=\"T_8276d_level0_row6\" class=\"row_heading level0 row6\" >21</th>\n",
       "      <td id=\"T_8276d_row6_col0\" class=\"data row6 col0\" >squared_error</td>\n",
       "      <td id=\"T_8276d_row6_col1\" class=\"data row6 col1\" >0.1000000</td>\n",
       "      <td id=\"T_8276d_row6_col2\" class=\"data row6 col2\" >200.0000000</td>\n",
       "      <td id=\"T_8276d_row6_col3\" class=\"data row6 col3\" >min-max + lmax + lda</td>\n",
       "      <td id=\"T_8276d_row6_col4\" class=\"data row6 col4\" >nan</td>\n",
       "      <td id=\"T_8276d_row6_col5\" class=\"data row6 col5\" >nan</td>\n",
       "      <td id=\"T_8276d_row6_col6\" class=\"data row6 col6\" >nan</td>\n",
       "      <td id=\"T_8276d_row6_col7\" class=\"data row6 col7\" >OAS()</td>\n",
       "      <td id=\"T_8276d_row6_col8\" class=\"data row6 col8\" >nan</td>\n",
       "      <td id=\"T_8276d_row6_col9\" class=\"data row6 col9\" >eigen</td>\n",
       "      <td id=\"T_8276d_row6_col10\" class=\"data row6 col10\" >11.0000000</td>\n",
       "      <td id=\"T_8276d_row6_col11\" class=\"data row6 col11\" >nan</td>\n",
       "      <td id=\"T_8276d_row6_col12\" class=\"data row6 col12\" >nan</td>\n",
       "      <td id=\"T_8276d_row6_col13\" class=\"data row6 col13\" >75.7577321</td>\n",
       "      <td id=\"T_8276d_row6_col14\" class=\"data row6 col14\" >0.3117517</td>\n",
       "    </tr>\n",
       "    <tr>\n",
       "      <th id=\"T_8276d_level0_row7\" class=\"row_heading level0 row7\" >20</th>\n",
       "      <td id=\"T_8276d_row7_col0\" class=\"data row7 col0\" >squared_error</td>\n",
       "      <td id=\"T_8276d_row7_col1\" class=\"data row7 col1\" >0.1000000</td>\n",
       "      <td id=\"T_8276d_row7_col2\" class=\"data row7 col2\" >200.0000000</td>\n",
       "      <td id=\"T_8276d_row7_col3\" class=\"data row7 col3\" >min-max + lmax + lda</td>\n",
       "      <td id=\"T_8276d_row7_col4\" class=\"data row7 col4\" >nan</td>\n",
       "      <td id=\"T_8276d_row7_col5\" class=\"data row7 col5\" >nan</td>\n",
       "      <td id=\"T_8276d_row7_col6\" class=\"data row7 col6\" >nan</td>\n",
       "      <td id=\"T_8276d_row7_col7\" class=\"data row7 col7\" >OAS()</td>\n",
       "      <td id=\"T_8276d_row7_col8\" class=\"data row7 col8\" >nan</td>\n",
       "      <td id=\"T_8276d_row7_col9\" class=\"data row7 col9\" >eigen</td>\n",
       "      <td id=\"T_8276d_row7_col10\" class=\"data row7 col10\" >9.0000000</td>\n",
       "      <td id=\"T_8276d_row7_col11\" class=\"data row7 col11\" >nan</td>\n",
       "      <td id=\"T_8276d_row7_col12\" class=\"data row7 col12\" >nan</td>\n",
       "      <td id=\"T_8276d_row7_col13\" class=\"data row7 col13\" >75.8989607</td>\n",
       "      <td id=\"T_8276d_row7_col14\" class=\"data row7 col14\" >0.3104687</td>\n",
       "    </tr>\n",
       "    <tr>\n",
       "      <th id=\"T_8276d_level0_row8\" class=\"row_heading level0 row8\" >22</th>\n",
       "      <td id=\"T_8276d_row8_col0\" class=\"data row8 col0\" >squared_error</td>\n",
       "      <td id=\"T_8276d_row8_col1\" class=\"data row8 col1\" >0.1000000</td>\n",
       "      <td id=\"T_8276d_row8_col2\" class=\"data row8 col2\" >200.0000000</td>\n",
       "      <td id=\"T_8276d_row8_col3\" class=\"data row8 col3\" >min-max + lmax + lda</td>\n",
       "      <td id=\"T_8276d_row8_col4\" class=\"data row8 col4\" >nan</td>\n",
       "      <td id=\"T_8276d_row8_col5\" class=\"data row8 col5\" >nan</td>\n",
       "      <td id=\"T_8276d_row8_col6\" class=\"data row8 col6\" >nan</td>\n",
       "      <td id=\"T_8276d_row8_col7\" class=\"data row8 col7\" >OAS()</td>\n",
       "      <td id=\"T_8276d_row8_col8\" class=\"data row8 col8\" >nan</td>\n",
       "      <td id=\"T_8276d_row8_col9\" class=\"data row8 col9\" >eigen</td>\n",
       "      <td id=\"T_8276d_row8_col10\" class=\"data row8 col10\" >10.0000000</td>\n",
       "      <td id=\"T_8276d_row8_col11\" class=\"data row8 col11\" >100.0000000</td>\n",
       "      <td id=\"T_8276d_row8_col12\" class=\"data row8 col12\" >nan</td>\n",
       "      <td id=\"T_8276d_row8_col13\" class=\"data row8 col13\" >75.9802818</td>\n",
       "      <td id=\"T_8276d_row8_col14\" class=\"data row8 col14\" >0.3097299</td>\n",
       "    </tr>\n",
       "    <tr>\n",
       "      <th id=\"T_8276d_level0_row9\" class=\"row_heading level0 row9\" >18</th>\n",
       "      <td id=\"T_8276d_row9_col0\" class=\"data row9 col0\" >squared_error</td>\n",
       "      <td id=\"T_8276d_row9_col1\" class=\"data row9 col1\" >0.1000000</td>\n",
       "      <td id=\"T_8276d_row9_col2\" class=\"data row9 col2\" >200.0000000</td>\n",
       "      <td id=\"T_8276d_row9_col3\" class=\"data row9 col3\" >min-max + lmax + lda</td>\n",
       "      <td id=\"T_8276d_row9_col4\" class=\"data row9 col4\" >nan</td>\n",
       "      <td id=\"T_8276d_row9_col5\" class=\"data row9 col5\" >nan</td>\n",
       "      <td id=\"T_8276d_row9_col6\" class=\"data row9 col6\" >nan</td>\n",
       "      <td id=\"T_8276d_row9_col7\" class=\"data row9 col7\" >OAS()</td>\n",
       "      <td id=\"T_8276d_row9_col8\" class=\"data row9 col8\" >nan</td>\n",
       "      <td id=\"T_8276d_row9_col9\" class=\"data row9 col9\" >eigen</td>\n",
       "      <td id=\"T_8276d_row9_col10\" class=\"data row9 col10\" >20.0000000</td>\n",
       "      <td id=\"T_8276d_row9_col11\" class=\"data row9 col11\" >nan</td>\n",
       "      <td id=\"T_8276d_row9_col12\" class=\"data row9 col12\" >nan</td>\n",
       "      <td id=\"T_8276d_row9_col13\" class=\"data row9 col13\" >76.2003497</td>\n",
       "      <td id=\"T_8276d_row9_col14\" class=\"data row9 col14\" >0.3077306</td>\n",
       "    </tr>\n",
       "    <tr>\n",
       "      <th id=\"T_8276d_level0_row10\" class=\"row_heading level0 row10\" >9</th>\n",
       "      <td id=\"T_8276d_row10_col0\" class=\"data row10 col0\" >squared_error</td>\n",
       "      <td id=\"T_8276d_row10_col1\" class=\"data row10 col1\" >0.1000000</td>\n",
       "      <td id=\"T_8276d_row10_col2\" class=\"data row10 col2\" >200.0000000</td>\n",
       "      <td id=\"T_8276d_row10_col3\" class=\"data row10 col3\" >min-max + lmax + lda</td>\n",
       "      <td id=\"T_8276d_row10_col4\" class=\"data row10 col4\" >nan</td>\n",
       "      <td id=\"T_8276d_row10_col5\" class=\"data row10 col5\" >nan</td>\n",
       "      <td id=\"T_8276d_row10_col6\" class=\"data row10 col6\" >nan</td>\n",
       "      <td id=\"T_8276d_row10_col7\" class=\"data row10 col7\" >OAS()</td>\n",
       "      <td id=\"T_8276d_row10_col8\" class=\"data row10 col8\" >nan</td>\n",
       "      <td id=\"T_8276d_row10_col9\" class=\"data row10 col9\" >eigen</td>\n",
       "      <td id=\"T_8276d_row10_col10\" class=\"data row10 col10\" >nan</td>\n",
       "      <td id=\"T_8276d_row10_col11\" class=\"data row10 col11\" >nan</td>\n",
       "      <td id=\"T_8276d_row10_col12\" class=\"data row10 col12\" >nan</td>\n",
       "      <td id=\"T_8276d_row10_col13\" class=\"data row10 col13\" >76.2823513</td>\n",
       "      <td id=\"T_8276d_row10_col14\" class=\"data row10 col14\" >0.3069856</td>\n",
       "    </tr>\n",
       "    <tr>\n",
       "      <th id=\"T_8276d_level0_row11\" class=\"row_heading level0 row11\" >6</th>\n",
       "      <td id=\"T_8276d_row11_col0\" class=\"data row11 col0\" >squared_error</td>\n",
       "      <td id=\"T_8276d_row11_col1\" class=\"data row11 col1\" >0.1000000</td>\n",
       "      <td id=\"T_8276d_row11_col2\" class=\"data row11 col2\" >200.0000000</td>\n",
       "      <td id=\"T_8276d_row11_col3\" class=\"data row11 col3\" >min-max + lda</td>\n",
       "      <td id=\"T_8276d_row11_col4\" class=\"data row11 col4\" >nan</td>\n",
       "      <td id=\"T_8276d_row11_col5\" class=\"data row11 col5\" >nan</td>\n",
       "      <td id=\"T_8276d_row11_col6\" class=\"data row11 col6\" >nan</td>\n",
       "      <td id=\"T_8276d_row11_col7\" class=\"data row11 col7\" >OAS()</td>\n",
       "      <td id=\"T_8276d_row11_col8\" class=\"data row11 col8\" >nan</td>\n",
       "      <td id=\"T_8276d_row11_col9\" class=\"data row11 col9\" >eigen</td>\n",
       "      <td id=\"T_8276d_row11_col10\" class=\"data row11 col10\" >nan</td>\n",
       "      <td id=\"T_8276d_row11_col11\" class=\"data row11 col11\" >nan</td>\n",
       "      <td id=\"T_8276d_row11_col12\" class=\"data row11 col12\" >nan</td>\n",
       "      <td id=\"T_8276d_row11_col13\" class=\"data row11 col13\" >76.6464378</td>\n",
       "      <td id=\"T_8276d_row11_col14\" class=\"data row11 col14\" >0.3036779</td>\n",
       "    </tr>\n",
       "    <tr>\n",
       "      <th id=\"T_8276d_level0_row12\" class=\"row_heading level0 row12\" >12</th>\n",
       "      <td id=\"T_8276d_row12_col0\" class=\"data row12 col0\" >squared_error</td>\n",
       "      <td id=\"T_8276d_row12_col1\" class=\"data row12 col1\" >0.1000000</td>\n",
       "      <td id=\"T_8276d_row12_col2\" class=\"data row12 col2\" >200.0000000</td>\n",
       "      <td id=\"T_8276d_row12_col3\" class=\"data row12 col3\" >min-max + lmax + lda</td>\n",
       "      <td id=\"T_8276d_row12_col4\" class=\"data row12 col4\" >nan</td>\n",
       "      <td id=\"T_8276d_row12_col5\" class=\"data row12 col5\" >nan</td>\n",
       "      <td id=\"T_8276d_row12_col6\" class=\"data row12 col6\" >nan</td>\n",
       "      <td id=\"T_8276d_row12_col7\" class=\"data row12 col7\" >EllipticEnvelope(contamination=0.001, random_state=42)</td>\n",
       "      <td id=\"T_8276d_row12_col8\" class=\"data row12 col8\" >nan</td>\n",
       "      <td id=\"T_8276d_row12_col9\" class=\"data row12 col9\" >eigen</td>\n",
       "      <td id=\"T_8276d_row12_col10\" class=\"data row12 col10\" >nan</td>\n",
       "      <td id=\"T_8276d_row12_col11\" class=\"data row12 col11\" >nan</td>\n",
       "      <td id=\"T_8276d_row12_col12\" class=\"data row12 col12\" >nan</td>\n",
       "      <td id=\"T_8276d_row12_col13\" class=\"data row12 col13\" >76.7616914</td>\n",
       "      <td id=\"T_8276d_row12_col14\" class=\"data row12 col14\" >0.3026309</td>\n",
       "    </tr>\n",
       "    <tr>\n",
       "      <th id=\"T_8276d_level0_row13\" class=\"row_heading level0 row13\" >11</th>\n",
       "      <td id=\"T_8276d_row13_col0\" class=\"data row13 col0\" >squared_error</td>\n",
       "      <td id=\"T_8276d_row13_col1\" class=\"data row13 col1\" >0.1000000</td>\n",
       "      <td id=\"T_8276d_row13_col2\" class=\"data row13 col2\" >200.0000000</td>\n",
       "      <td id=\"T_8276d_row13_col3\" class=\"data row13 col3\" >min-max + lmax + lda</td>\n",
       "      <td id=\"T_8276d_row13_col4\" class=\"data row13 col4\" >nan</td>\n",
       "      <td id=\"T_8276d_row13_col5\" class=\"data row13 col5\" >nan</td>\n",
       "      <td id=\"T_8276d_row13_col6\" class=\"data row13 col6\" >nan</td>\n",
       "      <td id=\"T_8276d_row13_col7\" class=\"data row13 col7\" >EmpiricalCovariance()</td>\n",
       "      <td id=\"T_8276d_row13_col8\" class=\"data row13 col8\" >nan</td>\n",
       "      <td id=\"T_8276d_row13_col9\" class=\"data row13 col9\" >eigen</td>\n",
       "      <td id=\"T_8276d_row13_col10\" class=\"data row13 col10\" >nan</td>\n",
       "      <td id=\"T_8276d_row13_col11\" class=\"data row13 col11\" >nan</td>\n",
       "      <td id=\"T_8276d_row13_col12\" class=\"data row13 col12\" >nan</td>\n",
       "      <td id=\"T_8276d_row13_col13\" class=\"data row13 col13\" >76.9040794</td>\n",
       "      <td id=\"T_8276d_row13_col14\" class=\"data row13 col14\" >0.3013373</td>\n",
       "    </tr>\n",
       "    <tr>\n",
       "      <th id=\"T_8276d_level0_row14\" class=\"row_heading level0 row14\" >8</th>\n",
       "      <td id=\"T_8276d_row14_col0\" class=\"data row14 col0\" >squared_error</td>\n",
       "      <td id=\"T_8276d_row14_col1\" class=\"data row14 col1\" >0.1000000</td>\n",
       "      <td id=\"T_8276d_row14_col2\" class=\"data row14 col2\" >200.0000000</td>\n",
       "      <td id=\"T_8276d_row14_col3\" class=\"data row14 col3\" >min-max + lda</td>\n",
       "      <td id=\"T_8276d_row14_col4\" class=\"data row14 col4\" >nan</td>\n",
       "      <td id=\"T_8276d_row14_col5\" class=\"data row14 col5\" >nan</td>\n",
       "      <td id=\"T_8276d_row14_col6\" class=\"data row14 col6\" >nan</td>\n",
       "      <td id=\"T_8276d_row14_col7\" class=\"data row14 col7\" >EllipticEnvelope(contamination=0.001, random_state=42)</td>\n",
       "      <td id=\"T_8276d_row14_col8\" class=\"data row14 col8\" >nan</td>\n",
       "      <td id=\"T_8276d_row14_col9\" class=\"data row14 col9\" >eigen</td>\n",
       "      <td id=\"T_8276d_row14_col10\" class=\"data row14 col10\" >nan</td>\n",
       "      <td id=\"T_8276d_row14_col11\" class=\"data row14 col11\" >nan</td>\n",
       "      <td id=\"T_8276d_row14_col12\" class=\"data row14 col12\" >nan</td>\n",
       "      <td id=\"T_8276d_row14_col13\" class=\"data row14 col13\" >76.9266211</td>\n",
       "      <td id=\"T_8276d_row14_col14\" class=\"data row14 col14\" >0.3011325</td>\n",
       "    </tr>\n",
       "    <tr>\n",
       "      <th id=\"T_8276d_level0_row15\" class=\"row_heading level0 row15\" >10</th>\n",
       "      <td id=\"T_8276d_row15_col0\" class=\"data row15 col0\" >squared_error</td>\n",
       "      <td id=\"T_8276d_row15_col1\" class=\"data row15 col1\" >0.1000000</td>\n",
       "      <td id=\"T_8276d_row15_col2\" class=\"data row15 col2\" >200.0000000</td>\n",
       "      <td id=\"T_8276d_row15_col3\" class=\"data row15 col3\" >min-max + lmax + lda</td>\n",
       "      <td id=\"T_8276d_row15_col4\" class=\"data row15 col4\" >nan</td>\n",
       "      <td id=\"T_8276d_row15_col5\" class=\"data row15 col5\" >nan</td>\n",
       "      <td id=\"T_8276d_row15_col6\" class=\"data row15 col6\" >nan</td>\n",
       "      <td id=\"T_8276d_row15_col7\" class=\"data row15 col7\" >nan</td>\n",
       "      <td id=\"T_8276d_row15_col8\" class=\"data row15 col8\" >nan</td>\n",
       "      <td id=\"T_8276d_row15_col9\" class=\"data row15 col9\" >eigen</td>\n",
       "      <td id=\"T_8276d_row15_col10\" class=\"data row15 col10\" >nan</td>\n",
       "      <td id=\"T_8276d_row15_col11\" class=\"data row15 col11\" >nan</td>\n",
       "      <td id=\"T_8276d_row15_col12\" class=\"data row15 col12\" >nan</td>\n",
       "      <td id=\"T_8276d_row15_col13\" class=\"data row15 col13\" >77.0583812</td>\n",
       "      <td id=\"T_8276d_row15_col14\" class=\"data row15 col14\" >0.2999355</td>\n",
       "    </tr>\n",
       "    <tr>\n",
       "      <th id=\"T_8276d_level0_row16\" class=\"row_heading level0 row16\" >5</th>\n",
       "      <td id=\"T_8276d_row16_col0\" class=\"data row16 col0\" >squared_error</td>\n",
       "      <td id=\"T_8276d_row16_col1\" class=\"data row16 col1\" >0.1000000</td>\n",
       "      <td id=\"T_8276d_row16_col2\" class=\"data row16 col2\" >200.0000000</td>\n",
       "      <td id=\"T_8276d_row16_col3\" class=\"data row16 col3\" >min-max + lda</td>\n",
       "      <td id=\"T_8276d_row16_col4\" class=\"data row16 col4\" >nan</td>\n",
       "      <td id=\"T_8276d_row16_col5\" class=\"data row16 col5\" >nan</td>\n",
       "      <td id=\"T_8276d_row16_col6\" class=\"data row16 col6\" >nan</td>\n",
       "      <td id=\"T_8276d_row16_col7\" class=\"data row16 col7\" >nan</td>\n",
       "      <td id=\"T_8276d_row16_col8\" class=\"data row16 col8\" >nan</td>\n",
       "      <td id=\"T_8276d_row16_col9\" class=\"data row16 col9\" >eigen</td>\n",
       "      <td id=\"T_8276d_row16_col10\" class=\"data row16 col10\" >nan</td>\n",
       "      <td id=\"T_8276d_row16_col11\" class=\"data row16 col11\" >nan</td>\n",
       "      <td id=\"T_8276d_row16_col12\" class=\"data row16 col12\" >nan</td>\n",
       "      <td id=\"T_8276d_row16_col13\" class=\"data row16 col13\" >77.2597685</td>\n",
       "      <td id=\"T_8276d_row16_col14\" class=\"data row16 col14\" >0.2981059</td>\n",
       "    </tr>\n",
       "    <tr>\n",
       "      <th id=\"T_8276d_level0_row17\" class=\"row_heading level0 row17\" >7</th>\n",
       "      <td id=\"T_8276d_row17_col0\" class=\"data row17 col0\" >squared_error</td>\n",
       "      <td id=\"T_8276d_row17_col1\" class=\"data row17 col1\" >0.1000000</td>\n",
       "      <td id=\"T_8276d_row17_col2\" class=\"data row17 col2\" >200.0000000</td>\n",
       "      <td id=\"T_8276d_row17_col3\" class=\"data row17 col3\" >min-max + lda</td>\n",
       "      <td id=\"T_8276d_row17_col4\" class=\"data row17 col4\" >nan</td>\n",
       "      <td id=\"T_8276d_row17_col5\" class=\"data row17 col5\" >nan</td>\n",
       "      <td id=\"T_8276d_row17_col6\" class=\"data row17 col6\" >nan</td>\n",
       "      <td id=\"T_8276d_row17_col7\" class=\"data row17 col7\" >EmpiricalCovariance()</td>\n",
       "      <td id=\"T_8276d_row17_col8\" class=\"data row17 col8\" >nan</td>\n",
       "      <td id=\"T_8276d_row17_col9\" class=\"data row17 col9\" >eigen</td>\n",
       "      <td id=\"T_8276d_row17_col10\" class=\"data row17 col10\" >nan</td>\n",
       "      <td id=\"T_8276d_row17_col11\" class=\"data row17 col11\" >nan</td>\n",
       "      <td id=\"T_8276d_row17_col12\" class=\"data row17 col12\" >nan</td>\n",
       "      <td id=\"T_8276d_row17_col13\" class=\"data row17 col13\" >77.2882143</td>\n",
       "      <td id=\"T_8276d_row17_col14\" class=\"data row17 col14\" >0.2978475</td>\n",
       "    </tr>\n",
       "    <tr>\n",
       "      <th id=\"T_8276d_level0_row18\" class=\"row_heading level0 row18\" >19</th>\n",
       "      <td id=\"T_8276d_row18_col0\" class=\"data row18 col0\" >squared_error</td>\n",
       "      <td id=\"T_8276d_row18_col1\" class=\"data row18 col1\" >0.1000000</td>\n",
       "      <td id=\"T_8276d_row18_col2\" class=\"data row18 col2\" >200.0000000</td>\n",
       "      <td id=\"T_8276d_row18_col3\" class=\"data row18 col3\" >min-max + lmax + lda</td>\n",
       "      <td id=\"T_8276d_row18_col4\" class=\"data row18 col4\" >nan</td>\n",
       "      <td id=\"T_8276d_row18_col5\" class=\"data row18 col5\" >nan</td>\n",
       "      <td id=\"T_8276d_row18_col6\" class=\"data row18 col6\" >nan</td>\n",
       "      <td id=\"T_8276d_row18_col7\" class=\"data row18 col7\" >OAS()</td>\n",
       "      <td id=\"T_8276d_row18_col8\" class=\"data row18 col8\" >nan</td>\n",
       "      <td id=\"T_8276d_row18_col9\" class=\"data row18 col9\" >eigen</td>\n",
       "      <td id=\"T_8276d_row18_col10\" class=\"data row18 col10\" >5.0000000</td>\n",
       "      <td id=\"T_8276d_row18_col11\" class=\"data row18 col11\" >nan</td>\n",
       "      <td id=\"T_8276d_row18_col12\" class=\"data row18 col12\" >nan</td>\n",
       "      <td id=\"T_8276d_row18_col13\" class=\"data row18 col13\" >77.3667111</td>\n",
       "      <td id=\"T_8276d_row18_col14\" class=\"data row18 col14\" >0.2971344</td>\n",
       "    </tr>\n",
       "    <tr>\n",
       "      <th id=\"T_8276d_level0_row19\" class=\"row_heading level0 row19\" >16</th>\n",
       "      <td id=\"T_8276d_row19_col0\" class=\"data row19 col0\" >nan</td>\n",
       "      <td id=\"T_8276d_row19_col1\" class=\"data row19 col1\" >nan</td>\n",
       "      <td id=\"T_8276d_row19_col2\" class=\"data row19 col2\" >nan</td>\n",
       "      <td id=\"T_8276d_row19_col3\" class=\"data row19 col3\" >raw</td>\n",
       "      <td id=\"T_8276d_row19_col4\" class=\"data row19 col4\" >nan</td>\n",
       "      <td id=\"T_8276d_row19_col5\" class=\"data row19 col5\" >nan</td>\n",
       "      <td id=\"T_8276d_row19_col6\" class=\"data row19 col6\" >nan</td>\n",
       "      <td id=\"T_8276d_row19_col7\" class=\"data row19 col7\" >nan</td>\n",
       "      <td id=\"T_8276d_row19_col8\" class=\"data row19 col8\" >nan</td>\n",
       "      <td id=\"T_8276d_row19_col9\" class=\"data row19 col9\" >nan</td>\n",
       "      <td id=\"T_8276d_row19_col10\" class=\"data row19 col10\" >nan</td>\n",
       "      <td id=\"T_8276d_row19_col11\" class=\"data row19 col11\" >nan</td>\n",
       "      <td id=\"T_8276d_row19_col12\" class=\"data row19 col12\" >nan</td>\n",
       "      <td id=\"T_8276d_row19_col13\" class=\"data row19 col13\" >77.6018971</td>\n",
       "      <td id=\"T_8276d_row19_col14\" class=\"data row19 col14\" >0.2949977</td>\n",
       "    </tr>\n",
       "    <tr>\n",
       "      <th id=\"T_8276d_level0_row20\" class=\"row_heading level0 row20\" >1</th>\n",
       "      <td id=\"T_8276d_row20_col0\" class=\"data row20 col0\" >squared_error</td>\n",
       "      <td id=\"T_8276d_row20_col1\" class=\"data row20 col1\" >0.1000000</td>\n",
       "      <td id=\"T_8276d_row20_col2\" class=\"data row20 col2\" >200.0000000</td>\n",
       "      <td id=\"T_8276d_row20_col3\" class=\"data row20 col3\" >std-scaled</td>\n",
       "      <td id=\"T_8276d_row20_col4\" class=\"data row20 col4\" >nan</td>\n",
       "      <td id=\"T_8276d_row20_col5\" class=\"data row20 col5\" >nan</td>\n",
       "      <td id=\"T_8276d_row20_col6\" class=\"data row20 col6\" >nan</td>\n",
       "      <td id=\"T_8276d_row20_col7\" class=\"data row20 col7\" >nan</td>\n",
       "      <td id=\"T_8276d_row20_col8\" class=\"data row20 col8\" >nan</td>\n",
       "      <td id=\"T_8276d_row20_col9\" class=\"data row20 col9\" >nan</td>\n",
       "      <td id=\"T_8276d_row20_col10\" class=\"data row20 col10\" >nan</td>\n",
       "      <td id=\"T_8276d_row20_col11\" class=\"data row20 col11\" >nan</td>\n",
       "      <td id=\"T_8276d_row20_col12\" class=\"data row20 col12\" >nan</td>\n",
       "      <td id=\"T_8276d_row20_col13\" class=\"data row20 col13\" >80.0427908</td>\n",
       "      <td id=\"T_8276d_row20_col14\" class=\"data row20 col14\" >0.2728226</td>\n",
       "    </tr>\n",
       "    <tr>\n",
       "      <th id=\"T_8276d_level0_row21\" class=\"row_heading level0 row21\" >2</th>\n",
       "      <td id=\"T_8276d_row21_col0\" class=\"data row21 col0\" >squared_error</td>\n",
       "      <td id=\"T_8276d_row21_col1\" class=\"data row21 col1\" >0.1000000</td>\n",
       "      <td id=\"T_8276d_row21_col2\" class=\"data row21 col2\" >200.0000000</td>\n",
       "      <td id=\"T_8276d_row21_col3\" class=\"data row21 col3\" >min-maxed</td>\n",
       "      <td id=\"T_8276d_row21_col4\" class=\"data row21 col4\" >nan</td>\n",
       "      <td id=\"T_8276d_row21_col5\" class=\"data row21 col5\" >nan</td>\n",
       "      <td id=\"T_8276d_row21_col6\" class=\"data row21 col6\" >nan</td>\n",
       "      <td id=\"T_8276d_row21_col7\" class=\"data row21 col7\" >nan</td>\n",
       "      <td id=\"T_8276d_row21_col8\" class=\"data row21 col8\" >nan</td>\n",
       "      <td id=\"T_8276d_row21_col9\" class=\"data row21 col9\" >nan</td>\n",
       "      <td id=\"T_8276d_row21_col10\" class=\"data row21 col10\" >nan</td>\n",
       "      <td id=\"T_8276d_row21_col11\" class=\"data row21 col11\" >nan</td>\n",
       "      <td id=\"T_8276d_row21_col12\" class=\"data row21 col12\" >nan</td>\n",
       "      <td id=\"T_8276d_row21_col13\" class=\"data row21 col13\" >80.1589672</td>\n",
       "      <td id=\"T_8276d_row21_col14\" class=\"data row21 col14\" >0.2717671</td>\n",
       "    </tr>\n",
       "    <tr>\n",
       "      <th id=\"T_8276d_level0_row22\" class=\"row_heading level0 row22\" >0</th>\n",
       "      <td id=\"T_8276d_row22_col0\" class=\"data row22 col0\" >squared_error</td>\n",
       "      <td id=\"T_8276d_row22_col1\" class=\"data row22 col1\" >0.1000000</td>\n",
       "      <td id=\"T_8276d_row22_col2\" class=\"data row22 col2\" >200.0000000</td>\n",
       "      <td id=\"T_8276d_row22_col3\" class=\"data row22 col3\" >raw</td>\n",
       "      <td id=\"T_8276d_row22_col4\" class=\"data row22 col4\" >nan</td>\n",
       "      <td id=\"T_8276d_row22_col5\" class=\"data row22 col5\" >nan</td>\n",
       "      <td id=\"T_8276d_row22_col6\" class=\"data row22 col6\" >nan</td>\n",
       "      <td id=\"T_8276d_row22_col7\" class=\"data row22 col7\" >nan</td>\n",
       "      <td id=\"T_8276d_row22_col8\" class=\"data row22 col8\" >nan</td>\n",
       "      <td id=\"T_8276d_row22_col9\" class=\"data row22 col9\" >nan</td>\n",
       "      <td id=\"T_8276d_row22_col10\" class=\"data row22 col10\" >nan</td>\n",
       "      <td id=\"T_8276d_row22_col11\" class=\"data row22 col11\" >nan</td>\n",
       "      <td id=\"T_8276d_row22_col12\" class=\"data row22 col12\" >nan</td>\n",
       "      <td id=\"T_8276d_row22_col13\" class=\"data row22 col13\" >80.1877906</td>\n",
       "      <td id=\"T_8276d_row22_col14\" class=\"data row22 col14\" >0.2715053</td>\n",
       "    </tr>\n",
       "    <tr>\n",
       "      <th id=\"T_8276d_level0_row23\" class=\"row_heading level0 row23\" >4</th>\n",
       "      <td id=\"T_8276d_row23_col0\" class=\"data row23 col0\" >squared_error</td>\n",
       "      <td id=\"T_8276d_row23_col1\" class=\"data row23 col1\" >0.1000000</td>\n",
       "      <td id=\"T_8276d_row23_col2\" class=\"data row23 col2\" >200.0000000</td>\n",
       "      <td id=\"T_8276d_row23_col3\" class=\"data row23 col3\" >min-max + pca 0.95</td>\n",
       "      <td id=\"T_8276d_row23_col4\" class=\"data row23 col4\" >0.9500000</td>\n",
       "      <td id=\"T_8276d_row23_col5\" class=\"data row23 col5\" >full</td>\n",
       "      <td id=\"T_8276d_row23_col6\" class=\"data row23 col6\" >False</td>\n",
       "      <td id=\"T_8276d_row23_col7\" class=\"data row23 col7\" >nan</td>\n",
       "      <td id=\"T_8276d_row23_col8\" class=\"data row23 col8\" >nan</td>\n",
       "      <td id=\"T_8276d_row23_col9\" class=\"data row23 col9\" >nan</td>\n",
       "      <td id=\"T_8276d_row23_col10\" class=\"data row23 col10\" >nan</td>\n",
       "      <td id=\"T_8276d_row23_col11\" class=\"data row23 col11\" >nan</td>\n",
       "      <td id=\"T_8276d_row23_col12\" class=\"data row23 col12\" >nan</td>\n",
       "      <td id=\"T_8276d_row23_col13\" class=\"data row23 col13\" >82.6245561</td>\n",
       "      <td id=\"T_8276d_row23_col14\" class=\"data row23 col14\" >0.2493676</td>\n",
       "    </tr>\n",
       "    <tr>\n",
       "      <th id=\"T_8276d_level0_row24\" class=\"row_heading level0 row24\" >3</th>\n",
       "      <td id=\"T_8276d_row24_col0\" class=\"data row24 col0\" >squared_error</td>\n",
       "      <td id=\"T_8276d_row24_col1\" class=\"data row24 col1\" >0.1000000</td>\n",
       "      <td id=\"T_8276d_row24_col2\" class=\"data row24 col2\" >200.0000000</td>\n",
       "      <td id=\"T_8276d_row24_col3\" class=\"data row24 col3\" >std-scaler + pca 0.95</td>\n",
       "      <td id=\"T_8276d_row24_col4\" class=\"data row24 col4\" >0.9500000</td>\n",
       "      <td id=\"T_8276d_row24_col5\" class=\"data row24 col5\" >full</td>\n",
       "      <td id=\"T_8276d_row24_col6\" class=\"data row24 col6\" >True</td>\n",
       "      <td id=\"T_8276d_row24_col7\" class=\"data row24 col7\" >nan</td>\n",
       "      <td id=\"T_8276d_row24_col8\" class=\"data row24 col8\" >nan</td>\n",
       "      <td id=\"T_8276d_row24_col9\" class=\"data row24 col9\" >nan</td>\n",
       "      <td id=\"T_8276d_row24_col10\" class=\"data row24 col10\" >nan</td>\n",
       "      <td id=\"T_8276d_row24_col11\" class=\"data row24 col11\" >nan</td>\n",
       "      <td id=\"T_8276d_row24_col12\" class=\"data row24 col12\" >nan</td>\n",
       "      <td id=\"T_8276d_row24_col13\" class=\"data row24 col13\" >89.6325399</td>\n",
       "      <td id=\"T_8276d_row24_col14\" class=\"data row24 col14\" >0.1857010</td>\n",
       "    </tr>\n",
       "    <tr>\n",
       "      <th id=\"T_8276d_level0_row25\" class=\"row_heading level0 row25\" >14</th>\n",
       "      <td id=\"T_8276d_row25_col0\" class=\"data row25 col0\" >squared_error</td>\n",
       "      <td id=\"T_8276d_row25_col1\" class=\"data row25 col1\" >1.0000000</td>\n",
       "      <td id=\"T_8276d_row25_col2\" class=\"data row25 col2\" >5.0000000</td>\n",
       "      <td id=\"T_8276d_row25_col3\" class=\"data row25 col3\" >min-max + lmax + lda</td>\n",
       "      <td id=\"T_8276d_row25_col4\" class=\"data row25 col4\" >nan</td>\n",
       "      <td id=\"T_8276d_row25_col5\" class=\"data row25 col5\" >nan</td>\n",
       "      <td id=\"T_8276d_row25_col6\" class=\"data row25 col6\" >nan</td>\n",
       "      <td id=\"T_8276d_row25_col7\" class=\"data row25 col7\" >OAS()</td>\n",
       "      <td id=\"T_8276d_row25_col8\" class=\"data row25 col8\" >nan</td>\n",
       "      <td id=\"T_8276d_row25_col9\" class=\"data row25 col9\" >eigen</td>\n",
       "      <td id=\"T_8276d_row25_col10\" class=\"data row25 col10\" >nan</td>\n",
       "      <td id=\"T_8276d_row25_col11\" class=\"data row25 col11\" >nan</td>\n",
       "      <td id=\"T_8276d_row25_col12\" class=\"data row25 col12\" >nan</td>\n",
       "      <td id=\"T_8276d_row25_col13\" class=\"data row25 col13\" >91.1192639</td>\n",
       "      <td id=\"T_8276d_row25_col14\" class=\"data row25 col14\" >0.1721944</td>\n",
       "    </tr>\n",
       "  </tbody>\n",
       "</table>\n"
      ],
      "text/plain": [
       "<pandas.io.formats.style.Styler at 0x7fcfc785a2f0>"
      ]
     },
     "metadata": {},
     "output_type": "display_data"
    }
   ],
   "source": [
    "print_all_results(name_estimator)"
   ]
  },
  {
   "cell_type": "code",
   "execution_count": null,
   "metadata": {},
   "outputs": [
    {
     "data": {
      "image/png": "[encoded data removed]",
      "text/plain": [
       "<Figure size 1000x1000 with 2 Axes>"
      ]
     },
     "metadata": {},
     "output_type": "display_data"
    },
    {
     "data": {
      "application/vnd.plotly.v1+json": {
       "config": {
        "plotlyServerURL": "https://plot.ly"
       },
       "data": [
        {
         "dimensions": [
          {
           "label": "rf__criterion",
           "ticktext": [
            "squared_error",
            "None"
           ],
           "tickvals": [
            0,
            1
           ],
           "values": [
            0,
            0,
            0,
            0,
            0,
            0,
            0,
            0,
            0,
            0,
            0,
            0,
            0,
            0,
            0,
            0,
            1,
            0,
            0,
            0
           ]
          },
          {
           "label": "rf__max_samples",
           "ticktext": [
            0.1,
            0.25,
            1,
            "None"
           ],
           "tickvals": [
            0,
            1,
            2,
            3
           ],
           "values": [
            0,
            0,
            0,
            0,
            0,
            0,
            0,
            0,
            0,
            0,
            0,
            0,
            0,
            1,
            2,
            2,
            3,
            0,
            0,
            0
           ]
          },
          {
           "label": "rf__n_estimators",
           "ticktext": [
            200,
            500,
            5,
            "None"
           ],
           "tickvals": [
            0,
            1,
            2,
            3
           ],
           "values": [
            0,
            0,
            0,
            0,
            0,
            0,
            0,
            0,
            0,
            0,
            0,
            0,
            0,
            1,
            2,
            0,
            3,
            0,
            0,
            0
           ]
          },
          {
           "label": "preprocess",
           "ticktext": [
            "raw",
            "std-scaled",
            "min-maxed",
            "std-scaler + pca 0.95",
            "min-max + pca 0.95",
            "min-max + lda",
            "min-max + lmax + lda"
           ],
           "tickvals": [
            0,
            1,
            2,
            3,
            4,
            5,
            6
           ],
           "values": [
            0,
            1,
            2,
            3,
            4,
            5,
            5,
            5,
            5,
            6,
            6,
            6,
            6,
            6,
            6,
            6,
            0,
            6,
            6,
            6
           ]
          },
          {
           "label": "pca__n_components",
           "ticktext": [
            "None",
            0.95
           ],
           "tickvals": [
            0,
            1
           ],
           "values": [
            0,
            0,
            0,
            1,
            1,
            0,
            0,
            0,
            0,
            0,
            0,
            0,
            0,
            0,
            0,
            0,
            0,
            0,
            0,
            0
           ]
          },
          {
           "label": "pca__svd_solver",
           "ticktext": [
            "None",
            "full"
           ],
           "tickvals": [
            0,
            1
           ],
           "values": [
            0,
            0,
            0,
            1,
            1,
            0,
            0,
            0,
            0,
            0,
            0,
            0,
            0,
            0,
            0,
            0,
            0,
            0,
            0,
            0
           ]
          },
          {
           "label": "pca__whiten",
           "ticktext": [
            "None",
            true,
            false
           ],
           "tickvals": [
            0,
            1,
            2
           ],
           "values": [
            0,
            0,
            0,
            1,
            2,
            0,
            0,
            0,
            0,
            0,
            0,
            0,
            0,
            0,
            0,
            0,
            0,
            0,
            0,
            0
           ]
          },
          {
           "label": "lda__covariance_estimator",
           "ticktext": [
            "None",
            "OAS()",
            "EmpiricalCovariance()",
            "EllipticEnvelope(contamination=0.001, random_state=42)"
           ],
           "tickvals": [
            0,
            1,
            2,
            3
           ],
           "values": [
            0,
            0,
            0,
            0,
            0,
            0,
            1,
            2,
            3,
            1,
            0,
            2,
            3,
            1,
            1,
            1,
            0,
            1,
            1,
            1
           ]
          },
          {
           "label": "lda__shrinkage",
           "ticktext": [
            "None"
           ],
           "tickvals": [
            0
           ],
           "values": [
            0,
            0,
            0,
            0,
            0,
            0,
            0,
            0,
            0,
            0,
            0,
            0,
            0,
            0,
            0,
            0,
            0,
            0,
            0,
            0
           ]
          },
          {
           "label": "lda__solver",
           "ticktext": [
            "None",
            "eigen"
           ],
           "tickvals": [
            0,
            1
           ],
           "values": [
            0,
            0,
            0,
            0,
            0,
            1,
            1,
            1,
            1,
            1,
            1,
            1,
            1,
            1,
            1,
            1,
            0,
            1,
            1,
            1
           ]
          },
          {
           "label": "rf__max_depth",
           "ticktext": [
            "None",
            10,
            20,
            5
           ],
           "tickvals": [
            0,
            1,
            2,
            3
           ],
           "values": [
            0,
            0,
            0,
            0,
            0,
            0,
            0,
            0,
            0,
            0,
            0,
            0,
            0,
            0,
            0,
            0,
            0,
            1,
            2,
            3
           ]
          },
          {
           "label": "R^2",
           "tickvals": [
            0.17,
            0.19,
            0.21,
            0.23,
            0.26,
            0.28,
            0.3,
            0.32
           ],
           "values": [
            0.27,
            0.27,
            0.27,
            0.19,
            0.25,
            0.3,
            0.3,
            0.3,
            0.3,
            0.31,
            0.3,
            0.3,
            0.3,
            0.32,
            0.17,
            0.32,
            0.29,
            0.31,
            0.31,
            0.3
           ]
          },
          {
           "label": "MSE",
           "tickvals": [
            74.73,
            75.59,
            76.46,
            77.32,
            78.18,
            79.04,
            79.91,
            80.77,
            81.63,
            82.49,
            83.36,
            84.22,
            85.08,
            85.94,
            86.81,
            87.67,
            88.53,
            89.39,
            90.26,
            91.12
           ],
           "values": [
            80.19,
            80.04,
            80.16,
            89.63,
            82.62,
            77.26,
            76.65,
            77.29,
            76.93,
            76.28,
            77.06,
            76.9,
            76.76,
            75.17,
            91.12,
            74.73,
            77.6,
            75.74,
            76.2,
            77.37
           ]
          }
         ],
         "labelangle": -15,
         "line": {
          "color": [
           80.19,
           80.04,
           80.16,
           89.63,
           82.62,
           77.26,
           76.65,
           77.29,
           76.93,
           76.28,
           77.06,
           76.9,
           76.76,
           75.17,
           91.12,
           74.73,
           77.6,
           75.74,
           76.2,
           77.37
          ],
          "colorscale": [
           [
            0,
            "#440154"
           ],
           [
            0.1111111111111111,
            "#482878"
           ],
           [
            0.2222222222222222,
            "#3e4989"
           ],
           [
            0.3333333333333333,
            "#31688e"
           ],
           [
            0.4444444444444444,
            "#26828e"
           ],
           [
            0.5555555555555556,
            "#1f9e89"
           ],
           [
            0.6666666666666666,
            "#35b779"
           ],
           [
            0.7777777777777778,
            "#6ece58"
           ],
           [
            0.8888888888888888,
            "#b5de2b"
           ],
           [
            1,
            "#fde725"
           ]
          ],
          "showscale": true
         },
         "type": "parcoords"
        }
       ],
       "layout": {
        "template": {
         "data": {
          "bar": [
           {
            "error_x": {
             "color": "#2a3f5f"
            },
            "error_y": {
             "color": "#2a3f5f"
            },
            "marker": {
             "line": {
              "color": "#E5ECF6",
              "width": 0.5
             },
             "pattern": {
              "fillmode": "overlay",
              "size": 10,
              "solidity": 0.2
             }
            },
            "type": "bar"
           }
          ],
          "barpolar": [
           {
            "marker": {
             "line": {
              "color": "#E5ECF6",
              "width": 0.5
             },
             "pattern": {
              "fillmode": "overlay",
              "size": 10,
              "solidity": 0.2
             }
            },
            "type": "barpolar"
           }
          ],
          "carpet": [
           {
            "aaxis": {
             "endlinecolor": "#2a3f5f",
             "gridcolor": "white",
             "linecolor": "white",
             "minorgridcolor": "white",
             "startlinecolor": "#2a3f5f"
            },
            "baxis": {
             "endlinecolor": "#2a3f5f",
             "gridcolor": "white",
             "linecolor": "white",
             "minorgridcolor": "white",
             "startlinecolor": "#2a3f5f"
            },
            "type": "carpet"
           }
          ],
          "choropleth": [
           {
            "colorbar": {
             "outlinewidth": 0,
             "ticks": ""
            },
            "type": "choropleth"
           }
          ],
          "contour": [
           {
            "colorbar": {
             "outlinewidth": 0,
             "ticks": ""
            },
            "colorscale": [
             [
              0,
              "#0d0887"
             ],
             [
              0.1111111111111111,
              "#46039f"
             ],
             [
              0.2222222222222222,
              "#7201a8"
             ],
             [
              0.3333333333333333,
              "#9c179e"
             ],
             [
              0.4444444444444444,
              "#bd3786"
             ],
             [
              0.5555555555555556,
              "#d8576b"
             ],
             [
              0.6666666666666666,
              "#ed7953"
             ],
             [
              0.7777777777777778,
              "#fb9f3a"
             ],
             [
              0.8888888888888888,
              "#fdca26"
             ],
             [
              1,
              "#f0f921"
             ]
            ],
            "type": "contour"
           }
          ],
          "contourcarpet": [
           {
            "colorbar": {
             "outlinewidth": 0,
             "ticks": ""
            },
            "type": "contourcarpet"
           }
          ],
          "heatmap": [
           {
            "colorbar": {
             "outlinewidth": 0,
             "ticks": ""
            },
            "colorscale": [
             [
              0,
              "#0d0887"
             ],
             [
              0.1111111111111111,
              "#46039f"
             ],
             [
              0.2222222222222222,
              "#7201a8"
             ],
             [
              0.3333333333333333,
              "#9c179e"
             ],
             [
              0.4444444444444444,
              "#bd3786"
             ],
             [
              0.5555555555555556,
              "#d8576b"
             ],
             [
              0.6666666666666666,
              "#ed7953"
             ],
             [
              0.7777777777777778,
              "#fb9f3a"
             ],
             [
              0.8888888888888888,
              "#fdca26"
             ],
             [
              1,
              "#f0f921"
             ]
            ],
            "type": "heatmap"
           }
          ],
          "heatmapgl": [
           {
            "colorbar": {
             "outlinewidth": 0,
             "ticks": ""
            },
            "colorscale": [
             [
              0,
              "#0d0887"
             ],
             [
              0.1111111111111111,
              "#46039f"
             ],
             [
              0.2222222222222222,
              "#7201a8"
             ],
             [
              0.3333333333333333,
              "#9c179e"
             ],
             [
              0.4444444444444444,
              "#bd3786"
             ],
             [
              0.5555555555555556,
              "#d8576b"
             ],
             [
              0.6666666666666666,
              "#ed7953"
             ],
             [
              0.7777777777777778,
              "#fb9f3a"
             ],
             [
              0.8888888888888888,
              "#fdca26"
             ],
             [
              1,
              "#f0f921"
             ]
            ],
            "type": "heatmapgl"
           }
          ],
          "histogram": [
           {
            "marker": {
             "pattern": {
              "fillmode": "overlay",
              "size": 10,
              "solidity": 0.2
             }
            },
            "type": "histogram"
           }
          ],
          "histogram2d": [
           {
            "colorbar": {
             "outlinewidth": 0,
             "ticks": ""
            },
            "colorscale": [
             [
              0,
              "#0d0887"
             ],
             [
              0.1111111111111111,
              "#46039f"
             ],
             [
              0.2222222222222222,
              "#7201a8"
             ],
             [
              0.3333333333333333,
              "#9c179e"
             ],
             [
              0.4444444444444444,
              "#bd3786"
             ],
             [
              0.5555555555555556,
              "#d8576b"
             ],
             [
              0.6666666666666666,
              "#ed7953"
             ],
             [
              0.7777777777777778,
              "#fb9f3a"
             ],
             [
              0.8888888888888888,
              "#fdca26"
             ],
             [
              1,
              "#f0f921"
             ]
            ],
            "type": "histogram2d"
           }
          ],
          "histogram2dcontour": [
           {
            "colorbar": {
             "outlinewidth": 0,
             "ticks": ""
            },
            "colorscale": [
             [
              0,
              "#0d0887"
             ],
             [
              0.1111111111111111,
              "#46039f"
             ],
             [
              0.2222222222222222,
              "#7201a8"
             ],
             [
              0.3333333333333333,
              "#9c179e"
             ],
             [
              0.4444444444444444,
              "#bd3786"
             ],
             [
              0.5555555555555556,
              "#d8576b"
             ],
             [
              0.6666666666666666,
              "#ed7953"
             ],
             [
              0.7777777777777778,
              "#fb9f3a"
             ],
             [
              0.8888888888888888,
              "#fdca26"
             ],
             [
              1,
              "#f0f921"
             ]
            ],
            "type": "histogram2dcontour"
           }
          ],
          "mesh3d": [
           {
            "colorbar": {
             "outlinewidth": 0,
             "ticks": ""
            },
            "type": "mesh3d"
           }
          ],
          "parcoords": [
           {
            "line": {
             "colorbar": {
              "outlinewidth": 0,
              "ticks": ""
             }
            },
            "type": "parcoords"
           }
          ],
          "pie": [
           {
            "automargin": true,
            "type": "pie"
           }
          ],
          "scatter": [
           {
            "fillpattern": {
             "fillmode": "overlay",
             "size": 10,
             "solidity": 0.2
            },
            "type": "scatter"
           }
          ],
          "scatter3d": [
           {
            "line": {
             "colorbar": {
              "outlinewidth": 0,
              "ticks": ""
             }
            },
            "marker": {
             "colorbar": {
              "outlinewidth": 0,
              "ticks": ""
             }
            },
            "type": "scatter3d"
           }
          ],
          "scattercarpet": [
           {
            "marker": {
             "colorbar": {
              "outlinewidth": 0,
              "ticks": ""
             }
            },
            "type": "scattercarpet"
           }
          ],
          "scattergeo": [
           {
            "marker": {
             "colorbar": {
              "outlinewidth": 0,
              "ticks": ""
             }
            },
            "type": "scattergeo"
           }
          ],
          "scattergl": [
           {
            "marker": {
             "colorbar": {
              "outlinewidth": 0,
              "ticks": ""
             }
            },
            "type": "scattergl"
           }
          ],
          "scattermapbox": [
           {
            "marker": {
             "colorbar": {
              "outlinewidth": 0,
              "ticks": ""
             }
            },
            "type": "scattermapbox"
           }
          ],
          "scatterpolar": [
           {
            "marker": {
             "colorbar": {
              "outlinewidth": 0,
              "ticks": ""
             }
            },
            "type": "scatterpolar"
           }
          ],
          "scatterpolargl": [
           {
            "marker": {
             "colorbar": {
              "outlinewidth": 0,
              "ticks": ""
             }
            },
            "type": "scatterpolargl"
           }
          ],
          "scatterternary": [
           {
            "marker": {
             "colorbar": {
              "outlinewidth": 0,
              "ticks": ""
             }
            },
            "type": "scatterternary"
           }
          ],
          "surface": [
           {
            "colorbar": {
             "outlinewidth": 0,
             "ticks": ""
            },
            "colorscale": [
             [
              0,
              "#0d0887"
             ],
             [
              0.1111111111111111,
              "#46039f"
             ],
             [
              0.2222222222222222,
              "#7201a8"
             ],
             [
              0.3333333333333333,
              "#9c179e"
             ],
             [
              0.4444444444444444,
              "#bd3786"
             ],
             [
              0.5555555555555556,
              "#d8576b"
             ],
             [
              0.6666666666666666,
              "#ed7953"
             ],
             [
              0.7777777777777778,
              "#fb9f3a"
             ],
             [
              0.8888888888888888,
              "#fdca26"
             ],
             [
              1,
              "#f0f921"
             ]
            ],
            "type": "surface"
           }
          ],
          "table": [
           {
            "cells": {
             "fill": {
              "color": "#EBF0F8"
             },
             "line": {
              "color": "white"
             }
            },
            "header": {
             "fill": {
              "color": "#C8D4E3"
             },
             "line": {
              "color": "white"
             }
            },
            "type": "table"
           }
          ]
         },
         "layout": {
          "annotationdefaults": {
           "arrowcolor": "#2a3f5f",
           "arrowhead": 0,
           "arrowwidth": 1
          },
          "autotypenumbers": "strict",
          "coloraxis": {
           "colorbar": {
            "outlinewidth": 0,
            "ticks": ""
           }
          },
          "colorscale": {
           "diverging": [
            [
             0,
             "#8e0152"
            ],
            [
             0.1,
             "#c51b7d"
            ],
            [
             0.2,
             "#de77ae"
            ],
            [
             0.3,
             "#f1b6da"
            ],
            [
             0.4,
             "#fde0ef"
            ],
            [
             0.5,
             "#f7f7f7"
            ],
            [
             0.6,
             "#e6f5d0"
            ],
            [
             0.7,
             "#b8e186"
            ],
            [
             0.8,
             "#7fbc41"
            ],
            [
             0.9,
             "#4d9221"
            ],
            [
             1,
             "#276419"
            ]
           ],
           "sequential": [
            [
             0,
             "#0d0887"
            ],
            [
             0.1111111111111111,
             "#46039f"
            ],
            [
             0.2222222222222222,
             "#7201a8"
            ],
            [
             0.3333333333333333,
             "#9c179e"
            ],
            [
             0.4444444444444444,
             "#bd3786"
            ],
            [
             0.5555555555555556,
             "#d8576b"
            ],
            [
             0.6666666666666666,
             "#ed7953"
            ],
            [
             0.7777777777777778,
             "#fb9f3a"
            ],
            [
             0.8888888888888888,
             "#fdca26"
            ],
            [
             1,
             "#f0f921"
            ]
           ],
           "sequentialminus": [
            [
             0,
             "#0d0887"
            ],
            [
             0.1111111111111111,
             "#46039f"
            ],
            [
             0.2222222222222222,
             "#7201a8"
            ],
            [
             0.3333333333333333,
             "#9c179e"
            ],
            [
             0.4444444444444444,
             "#bd3786"
            ],
            [
             0.5555555555555556,
             "#d8576b"
            ],
            [
             0.6666666666666666,
             "#ed7953"
            ],
            [
             0.7777777777777778,
             "#fb9f3a"
            ],
            [
             0.8888888888888888,
             "#fdca26"
            ],
            [
             1,
             "#f0f921"
            ]
           ]
          },
          "colorway": [
           "#636efa",
           "#EF553B",
           "#00cc96",
           "#ab63fa",
           "#FFA15A",
           "#19d3f3",
           "#FF6692",
           "#B6E880",
           "#FF97FF",
           "#FECB52"
          ],
          "font": {
           "color": "#2a3f5f"
          },
          "geo": {
           "bgcolor": "white",
           "lakecolor": "white",
           "landcolor": "#E5ECF6",
           "showlakes": true,
           "showland": true,
           "subunitcolor": "white"
          },
          "hoverlabel": {
           "align": "left"
          },
          "hovermode": "closest",
          "mapbox": {
           "style": "light"
          },
          "paper_bgcolor": "white",
          "plot_bgcolor": "#E5ECF6",
          "polar": {
           "angularaxis": {
            "gridcolor": "white",
            "linecolor": "white",
            "ticks": ""
           },
           "bgcolor": "#E5ECF6",
           "radialaxis": {
            "gridcolor": "white",
            "linecolor": "white",
            "ticks": ""
           }
          },
          "scene": {
           "xaxis": {
            "backgroundcolor": "#E5ECF6",
            "gridcolor": "white",
            "gridwidth": 2,
            "linecolor": "white",
            "showbackground": true,
            "ticks": "",
            "zerolinecolor": "white"
           },
           "yaxis": {
            "backgroundcolor": "#E5ECF6",
            "gridcolor": "white",
            "gridwidth": 2,
            "linecolor": "white",
            "showbackground": true,
            "ticks": "",
            "zerolinecolor": "white"
           },
           "zaxis": {
            "backgroundcolor": "#E5ECF6",
            "gridcolor": "white",
            "gridwidth": 2,
            "linecolor": "white",
            "showbackground": true,
            "ticks": "",
            "zerolinecolor": "white"
           }
          },
          "shapedefaults": {
           "line": {
            "color": "#2a3f5f"
           }
          },
          "ternary": {
           "aaxis": {
            "gridcolor": "white",
            "linecolor": "white",
            "ticks": ""
           },
           "baxis": {
            "gridcolor": "white",
            "linecolor": "white",
            "ticks": ""
           },
           "bgcolor": "#E5ECF6",
           "caxis": {
            "gridcolor": "white",
            "linecolor": "white",
            "ticks": ""
           }
          },
          "title": {
           "x": 0.05
          },
          "xaxis": {
           "automargin": true,
           "gridcolor": "white",
           "linecolor": "white",
           "ticks": "",
           "title": {
            "standoff": 15
           },
           "zerolinecolor": "white",
           "zerolinewidth": 2
          },
          "yaxis": {
           "automargin": true,
           "gridcolor": "white",
           "linecolor": "white",
           "ticks": "",
           "title": {
            "standoff": 15
           },
           "zerolinecolor": "white",
           "zerolinewidth": 2
          }
         }
        }
       }
      }
     },
     "metadata": {},
     "output_type": "display_data"
    }
   ],
   "source": [
    "save_display_results(\n",
    "    name_estimator,\n",
    "    best_preprocessor,\n",
    "    best_estimator,\n",
    "    best_predictions,\n",
    ")"
   ]
  },
  {
   "cell_type": "markdown",
   "metadata": {},
   "source": [
    "---\n",
    "## KNN\n",
    "- PCA with an explained variance ratio of 0.95 performs much better with a min-max scaling (54 components) instead of a standard-scaling (67 components) and min-max + standard-scaling.\n",
    "- The following search was not exhaustive: we not try all the possible combinations, but we followed the more promising paths\n",
    "- The best result is R^2=0.3224 , MSE=74.66 with:\n",
    "    - MinMax + l-max-Normalization + LDA. It performed better than PCA (and its combinations with preprocessing techniques), l-1-Normalization + LDA, l-2-Normalization + LDA, MinMax + l-1-Normalization + LDA, MinMax + l-2-Normalization + LDA\n",
    "    - Best covariance estimator for LDA is OAS, over EllipticEnvelope, EmpiricalCovariance and no-shrinkage\n",
    "    - Best KNN metric is cosine, over cityblock, euclidean, nan_euclidean, with \"weights\"=\"distance\" over \"uniform\"\n",
    "    - Best number of neighbors is 20 (tried in this order 5,30,25,20,15,17,18,19)"
   ]
  },
  {
   "cell_type": "code",
   "execution_count": null,
   "metadata": {},
   "outputs": [],
   "source": [
    "param_estimator = {\n",
    "    \"knr__n_neighbors\": [21],\n",
    "    \"knr__weights\": [\"distance\"],  # \"uniform\"\n",
    "    \"knr__metric\": [\n",
    "        # \"cityblock\",\n",
    "        \"cosine\",\n",
    "        # \"euclidean\",\n",
    "        # \"nan_euclidean\",\n",
    "    ],\n",
    "    \"knr__leaf_size\": [10],\n",
    "}\n",
    "\n",
    "name_estimator = \"knr\"\n",
    "\n",
    "best_preprocessor, best_estimator, best_predictions = gridSearch(\n",
    "    name_estimator,\n",
    "    KNeighborsRegressor(n_jobs=-1),\n",
    "    param_estimator,\n",
    "    True,\n",
    ")"
   ]
  },
  {
   "cell_type": "code",
   "execution_count": null,
   "metadata": {},
   "outputs": [
    {
     "data": {
      "text/html": [
       "<style type=\"text/css\">\n",
       "</style>\n",
       "<table id=\"T_f381b\">\n",
       "  <thead>\n",
       "    <tr>\n",
       "      <th class=\"blank level0\" >&nbsp;</th>\n",
       "      <th id=\"T_f381b_level0_col0\" class=\"col_heading level0 col0\" >knr__metric</th>\n",
       "      <th id=\"T_f381b_level0_col1\" class=\"col_heading level0 col1\" >knr__n_neighbors</th>\n",
       "      <th id=\"T_f381b_level0_col2\" class=\"col_heading level0 col2\" >knr__weights</th>\n",
       "      <th id=\"T_f381b_level0_col3\" class=\"col_heading level0 col3\" >lda__covariance_estimator</th>\n",
       "      <th id=\"T_f381b_level0_col4\" class=\"col_heading level0 col4\" >lda__shrinkage</th>\n",
       "      <th id=\"T_f381b_level0_col5\" class=\"col_heading level0 col5\" >lda__solver</th>\n",
       "      <th id=\"T_f381b_level0_col6\" class=\"col_heading level0 col6\" >preprocess</th>\n",
       "      <th id=\"T_f381b_level0_col7\" class=\"col_heading level0 col7\" >pca__n_components</th>\n",
       "      <th id=\"T_f381b_level0_col8\" class=\"col_heading level0 col8\" >pca__svd_solver</th>\n",
       "      <th id=\"T_f381b_level0_col9\" class=\"col_heading level0 col9\" >pca__whiten</th>\n",
       "      <th id=\"T_f381b_level0_col10\" class=\"col_heading level0 col10\" >MSE</th>\n",
       "      <th id=\"T_f381b_level0_col11\" class=\"col_heading level0 col11\" >R^2</th>\n",
       "    </tr>\n",
       "  </thead>\n",
       "  <tbody>\n",
       "    <tr>\n",
       "      <th id=\"T_f381b_level0_row0\" class=\"row_heading level0 row0\" >17</th>\n",
       "      <td id=\"T_f381b_row0_col0\" class=\"data row0 col0\" >cosine</td>\n",
       "      <td id=\"T_f381b_row0_col1\" class=\"data row0 col1\" >21</td>\n",
       "      <td id=\"T_f381b_row0_col2\" class=\"data row0 col2\" >distance</td>\n",
       "      <td id=\"T_f381b_row0_col3\" class=\"data row0 col3\" >OAS()</td>\n",
       "      <td id=\"T_f381b_row0_col4\" class=\"data row0 col4\" >nan</td>\n",
       "      <td id=\"T_f381b_row0_col5\" class=\"data row0 col5\" >eigen</td>\n",
       "      <td id=\"T_f381b_row0_col6\" class=\"data row0 col6\" >min-max + lmax + lda</td>\n",
       "      <td id=\"T_f381b_row0_col7\" class=\"data row0 col7\" >nan</td>\n",
       "      <td id=\"T_f381b_row0_col8\" class=\"data row0 col8\" >nan</td>\n",
       "      <td id=\"T_f381b_row0_col9\" class=\"data row0 col9\" >nan</td>\n",
       "      <td id=\"T_f381b_row0_col10\" class=\"data row0 col10\" >73.6558730</td>\n",
       "      <td id=\"T_f381b_row0_col11\" class=\"data row0 col11\" >0.3308468</td>\n",
       "    </tr>\n",
       "    <tr>\n",
       "      <th id=\"T_f381b_level0_row1\" class=\"row_heading level0 row1\" >8</th>\n",
       "      <td id=\"T_f381b_row1_col0\" class=\"data row1 col0\" >cosine</td>\n",
       "      <td id=\"T_f381b_row1_col1\" class=\"data row1 col1\" >25</td>\n",
       "      <td id=\"T_f381b_row1_col2\" class=\"data row1 col2\" >distance</td>\n",
       "      <td id=\"T_f381b_row1_col3\" class=\"data row1 col3\" >OAS()</td>\n",
       "      <td id=\"T_f381b_row1_col4\" class=\"data row1 col4\" >nan</td>\n",
       "      <td id=\"T_f381b_row1_col5\" class=\"data row1 col5\" >eigen</td>\n",
       "      <td id=\"T_f381b_row1_col6\" class=\"data row1 col6\" >min-max + lmax + lda</td>\n",
       "      <td id=\"T_f381b_row1_col7\" class=\"data row1 col7\" >nan</td>\n",
       "      <td id=\"T_f381b_row1_col8\" class=\"data row1 col8\" >nan</td>\n",
       "      <td id=\"T_f381b_row1_col9\" class=\"data row1 col9\" >nan</td>\n",
       "      <td id=\"T_f381b_row1_col10\" class=\"data row1 col10\" >73.6801573</td>\n",
       "      <td id=\"T_f381b_row1_col11\" class=\"data row1 col11\" >0.3306262</td>\n",
       "    </tr>\n",
       "    <tr>\n",
       "      <th id=\"T_f381b_level0_row2\" class=\"row_heading level0 row2\" >18</th>\n",
       "      <td id=\"T_f381b_row2_col0\" class=\"data row2 col0\" >cosine</td>\n",
       "      <td id=\"T_f381b_row2_col1\" class=\"data row2 col1\" >23</td>\n",
       "      <td id=\"T_f381b_row2_col2\" class=\"data row2 col2\" >distance</td>\n",
       "      <td id=\"T_f381b_row2_col3\" class=\"data row2 col3\" >OAS()</td>\n",
       "      <td id=\"T_f381b_row2_col4\" class=\"data row2 col4\" >nan</td>\n",
       "      <td id=\"T_f381b_row2_col5\" class=\"data row2 col5\" >eigen</td>\n",
       "      <td id=\"T_f381b_row2_col6\" class=\"data row2 col6\" >min-max + lmax + lda</td>\n",
       "      <td id=\"T_f381b_row2_col7\" class=\"data row2 col7\" >nan</td>\n",
       "      <td id=\"T_f381b_row2_col8\" class=\"data row2 col8\" >nan</td>\n",
       "      <td id=\"T_f381b_row2_col9\" class=\"data row2 col9\" >nan</td>\n",
       "      <td id=\"T_f381b_row2_col10\" class=\"data row2 col10\" >73.6836591</td>\n",
       "      <td id=\"T_f381b_row2_col11\" class=\"data row2 col11\" >0.3305944</td>\n",
       "    </tr>\n",
       "    <tr>\n",
       "      <th id=\"T_f381b_level0_row3\" class=\"row_heading level0 row3\" >1</th>\n",
       "      <td id=\"T_f381b_row3_col0\" class=\"data row3 col0\" >cosine</td>\n",
       "      <td id=\"T_f381b_row3_col1\" class=\"data row3 col1\" >20</td>\n",
       "      <td id=\"T_f381b_row3_col2\" class=\"data row3 col2\" >distance</td>\n",
       "      <td id=\"T_f381b_row3_col3\" class=\"data row3 col3\" >OAS()</td>\n",
       "      <td id=\"T_f381b_row3_col4\" class=\"data row3 col4\" >nan</td>\n",
       "      <td id=\"T_f381b_row3_col5\" class=\"data row3 col5\" >eigen</td>\n",
       "      <td id=\"T_f381b_row3_col6\" class=\"data row3 col6\" >min-max + lmax + lda</td>\n",
       "      <td id=\"T_f381b_row3_col7\" class=\"data row3 col7\" >nan</td>\n",
       "      <td id=\"T_f381b_row3_col8\" class=\"data row3 col8\" >nan</td>\n",
       "      <td id=\"T_f381b_row3_col9\" class=\"data row3 col9\" >nan</td>\n",
       "      <td id=\"T_f381b_row3_col10\" class=\"data row3 col10\" >73.6861822</td>\n",
       "      <td id=\"T_f381b_row3_col11\" class=\"data row3 col11\" >0.3305714</td>\n",
       "    </tr>\n",
       "    <tr>\n",
       "      <th id=\"T_f381b_level0_row4\" class=\"row_heading level0 row4\" >10</th>\n",
       "      <td id=\"T_f381b_row4_col0\" class=\"data row4 col0\" >cosine</td>\n",
       "      <td id=\"T_f381b_row4_col1\" class=\"data row4 col1\" >20</td>\n",
       "      <td id=\"T_f381b_row4_col2\" class=\"data row4 col2\" >distance</td>\n",
       "      <td id=\"T_f381b_row4_col3\" class=\"data row4 col3\" >OAS()</td>\n",
       "      <td id=\"T_f381b_row4_col4\" class=\"data row4 col4\" >nan</td>\n",
       "      <td id=\"T_f381b_row4_col5\" class=\"data row4 col5\" >eigen</td>\n",
       "      <td id=\"T_f381b_row4_col6\" class=\"data row4 col6\" >min-max + lmax + lda</td>\n",
       "      <td id=\"T_f381b_row4_col7\" class=\"data row4 col7\" >nan</td>\n",
       "      <td id=\"T_f381b_row4_col8\" class=\"data row4 col8\" >nan</td>\n",
       "      <td id=\"T_f381b_row4_col9\" class=\"data row4 col9\" >nan</td>\n",
       "      <td id=\"T_f381b_row4_col10\" class=\"data row4 col10\" >73.6861822</td>\n",
       "      <td id=\"T_f381b_row4_col11\" class=\"data row4 col11\" >0.3305714</td>\n",
       "    </tr>\n",
       "    <tr>\n",
       "      <th id=\"T_f381b_level0_row5\" class=\"row_heading level0 row5\" >7</th>\n",
       "      <td id=\"T_f381b_row5_col0\" class=\"data row5 col0\" >cosine</td>\n",
       "      <td id=\"T_f381b_row5_col1\" class=\"data row5 col1\" >20</td>\n",
       "      <td id=\"T_f381b_row5_col2\" class=\"data row5 col2\" >distance</td>\n",
       "      <td id=\"T_f381b_row5_col3\" class=\"data row5 col3\" >OAS()</td>\n",
       "      <td id=\"T_f381b_row5_col4\" class=\"data row5 col4\" >nan</td>\n",
       "      <td id=\"T_f381b_row5_col5\" class=\"data row5 col5\" >eigen</td>\n",
       "      <td id=\"T_f381b_row5_col6\" class=\"data row5 col6\" >min-max + l1 + lda</td>\n",
       "      <td id=\"T_f381b_row5_col7\" class=\"data row5 col7\" >nan</td>\n",
       "      <td id=\"T_f381b_row5_col8\" class=\"data row5 col8\" >nan</td>\n",
       "      <td id=\"T_f381b_row5_col9\" class=\"data row5 col9\" >nan</td>\n",
       "      <td id=\"T_f381b_row5_col10\" class=\"data row5 col10\" >73.8715901</td>\n",
       "      <td id=\"T_f381b_row5_col11\" class=\"data row5 col11\" >0.3288870</td>\n",
       "    </tr>\n",
       "    <tr>\n",
       "      <th id=\"T_f381b_level0_row6\" class=\"row_heading level0 row6\" >2</th>\n",
       "      <td id=\"T_f381b_row6_col0\" class=\"data row6 col0\" >cosine</td>\n",
       "      <td id=\"T_f381b_row6_col1\" class=\"data row6 col1\" >20</td>\n",
       "      <td id=\"T_f381b_row6_col2\" class=\"data row6 col2\" >distance</td>\n",
       "      <td id=\"T_f381b_row6_col3\" class=\"data row6 col3\" >OAS()</td>\n",
       "      <td id=\"T_f381b_row6_col4\" class=\"data row6 col4\" >nan</td>\n",
       "      <td id=\"T_f381b_row6_col5\" class=\"data row6 col5\" >eigen</td>\n",
       "      <td id=\"T_f381b_row6_col6\" class=\"data row6 col6\" >min-max + lda</td>\n",
       "      <td id=\"T_f381b_row6_col7\" class=\"data row6 col7\" >nan</td>\n",
       "      <td id=\"T_f381b_row6_col8\" class=\"data row6 col8\" >nan</td>\n",
       "      <td id=\"T_f381b_row6_col9\" class=\"data row6 col9\" >nan</td>\n",
       "      <td id=\"T_f381b_row6_col10\" class=\"data row6 col10\" >73.9038913</td>\n",
       "      <td id=\"T_f381b_row6_col11\" class=\"data row6 col11\" >0.3285936</td>\n",
       "    </tr>\n",
       "    <tr>\n",
       "      <th id=\"T_f381b_level0_row7\" class=\"row_heading level0 row7\" >12</th>\n",
       "      <td id=\"T_f381b_row7_col0\" class=\"data row7 col0\" >cosine</td>\n",
       "      <td id=\"T_f381b_row7_col1\" class=\"data row7 col1\" >20</td>\n",
       "      <td id=\"T_f381b_row7_col2\" class=\"data row7 col2\" >distance</td>\n",
       "      <td id=\"T_f381b_row7_col3\" class=\"data row7 col3\" >nan</td>\n",
       "      <td id=\"T_f381b_row7_col4\" class=\"data row7 col4\" >nan</td>\n",
       "      <td id=\"T_f381b_row7_col5\" class=\"data row7 col5\" >nan</td>\n",
       "      <td id=\"T_f381b_row7_col6\" class=\"data row7 col6\" >min-maxed</td>\n",
       "      <td id=\"T_f381b_row7_col7\" class=\"data row7 col7\" >nan</td>\n",
       "      <td id=\"T_f381b_row7_col8\" class=\"data row7 col8\" >nan</td>\n",
       "      <td id=\"T_f381b_row7_col9\" class=\"data row7 col9\" >nan</td>\n",
       "      <td id=\"T_f381b_row7_col10\" class=\"data row7 col10\" >74.5819594</td>\n",
       "      <td id=\"T_f381b_row7_col11\" class=\"data row7 col11\" >0.3224334</td>\n",
       "    </tr>\n",
       "    <tr>\n",
       "      <th id=\"T_f381b_level0_row8\" class=\"row_heading level0 row8\" >14</th>\n",
       "      <td id=\"T_f381b_row8_col0\" class=\"data row8 col0\" >cosine</td>\n",
       "      <td id=\"T_f381b_row8_col1\" class=\"data row8 col1\" >20</td>\n",
       "      <td id=\"T_f381b_row8_col2\" class=\"data row8 col2\" >distance</td>\n",
       "      <td id=\"T_f381b_row8_col3\" class=\"data row8 col3\" >nan</td>\n",
       "      <td id=\"T_f381b_row8_col4\" class=\"data row8 col4\" >nan</td>\n",
       "      <td id=\"T_f381b_row8_col5\" class=\"data row8 col5\" >eigen</td>\n",
       "      <td id=\"T_f381b_row8_col6\" class=\"data row8 col6\" >min-max + lmax + lda</td>\n",
       "      <td id=\"T_f381b_row8_col7\" class=\"data row8 col7\" >nan</td>\n",
       "      <td id=\"T_f381b_row8_col8\" class=\"data row8 col8\" >nan</td>\n",
       "      <td id=\"T_f381b_row8_col9\" class=\"data row8 col9\" >nan</td>\n",
       "      <td id=\"T_f381b_row8_col10\" class=\"data row8 col10\" >74.9271332</td>\n",
       "      <td id=\"T_f381b_row8_col11\" class=\"data row8 col11\" >0.3192976</td>\n",
       "    </tr>\n",
       "    <tr>\n",
       "      <th id=\"T_f381b_level0_row9\" class=\"row_heading level0 row9\" >3</th>\n",
       "      <td id=\"T_f381b_row9_col0\" class=\"data row9 col0\" >cosine</td>\n",
       "      <td id=\"T_f381b_row9_col1\" class=\"data row9 col1\" >20</td>\n",
       "      <td id=\"T_f381b_row9_col2\" class=\"data row9 col2\" >distance</td>\n",
       "      <td id=\"T_f381b_row9_col3\" class=\"data row9 col3\" >EmpiricalCovariance()</td>\n",
       "      <td id=\"T_f381b_row9_col4\" class=\"data row9 col4\" >nan</td>\n",
       "      <td id=\"T_f381b_row9_col5\" class=\"data row9 col5\" >eigen</td>\n",
       "      <td id=\"T_f381b_row9_col6\" class=\"data row9 col6\" >min-max + lmax + lda</td>\n",
       "      <td id=\"T_f381b_row9_col7\" class=\"data row9 col7\" >nan</td>\n",
       "      <td id=\"T_f381b_row9_col8\" class=\"data row9 col8\" >nan</td>\n",
       "      <td id=\"T_f381b_row9_col9\" class=\"data row9 col9\" >nan</td>\n",
       "      <td id=\"T_f381b_row9_col10\" class=\"data row9 col10\" >74.9271332</td>\n",
       "      <td id=\"T_f381b_row9_col11\" class=\"data row9 col11\" >0.3192976</td>\n",
       "    </tr>\n",
       "    <tr>\n",
       "      <th id=\"T_f381b_level0_row10\" class=\"row_heading level0 row10\" >5</th>\n",
       "      <td id=\"T_f381b_row10_col0\" class=\"data row10 col0\" >euclidean</td>\n",
       "      <td id=\"T_f381b_row10_col1\" class=\"data row10 col1\" >20</td>\n",
       "      <td id=\"T_f381b_row10_col2\" class=\"data row10 col2\" >distance</td>\n",
       "      <td id=\"T_f381b_row10_col3\" class=\"data row10 col3\" >OAS()</td>\n",
       "      <td id=\"T_f381b_row10_col4\" class=\"data row10 col4\" >nan</td>\n",
       "      <td id=\"T_f381b_row10_col5\" class=\"data row10 col5\" >eigen</td>\n",
       "      <td id=\"T_f381b_row10_col6\" class=\"data row10 col6\" >min-max + lmax + lda</td>\n",
       "      <td id=\"T_f381b_row10_col7\" class=\"data row10 col7\" >nan</td>\n",
       "      <td id=\"T_f381b_row10_col8\" class=\"data row10 col8\" >nan</td>\n",
       "      <td id=\"T_f381b_row10_col9\" class=\"data row10 col9\" >nan</td>\n",
       "      <td id=\"T_f381b_row10_col10\" class=\"data row10 col10\" >75.0381515</td>\n",
       "      <td id=\"T_f381b_row10_col11\" class=\"data row10 col11\" >0.3182890</td>\n",
       "    </tr>\n",
       "    <tr>\n",
       "      <th id=\"T_f381b_level0_row11\" class=\"row_heading level0 row11\" >6</th>\n",
       "      <td id=\"T_f381b_row11_col0\" class=\"data row11 col0\" >nan_euclidean</td>\n",
       "      <td id=\"T_f381b_row11_col1\" class=\"data row11 col1\" >20</td>\n",
       "      <td id=\"T_f381b_row11_col2\" class=\"data row11 col2\" >distance</td>\n",
       "      <td id=\"T_f381b_row11_col3\" class=\"data row11 col3\" >OAS()</td>\n",
       "      <td id=\"T_f381b_row11_col4\" class=\"data row11 col4\" >nan</td>\n",
       "      <td id=\"T_f381b_row11_col5\" class=\"data row11 col5\" >eigen</td>\n",
       "      <td id=\"T_f381b_row11_col6\" class=\"data row11 col6\" >min-max + lmax + lda</td>\n",
       "      <td id=\"T_f381b_row11_col7\" class=\"data row11 col7\" >nan</td>\n",
       "      <td id=\"T_f381b_row11_col8\" class=\"data row11 col8\" >nan</td>\n",
       "      <td id=\"T_f381b_row11_col9\" class=\"data row11 col9\" >nan</td>\n",
       "      <td id=\"T_f381b_row11_col10\" class=\"data row11 col10\" >75.0381515</td>\n",
       "      <td id=\"T_f381b_row11_col11\" class=\"data row11 col11\" >0.3182890</td>\n",
       "    </tr>\n",
       "    <tr>\n",
       "      <th id=\"T_f381b_level0_row12\" class=\"row_heading level0 row12\" >13</th>\n",
       "      <td id=\"T_f381b_row12_col0\" class=\"data row12 col0\" >cosine</td>\n",
       "      <td id=\"T_f381b_row12_col1\" class=\"data row12 col1\" >20</td>\n",
       "      <td id=\"T_f381b_row12_col2\" class=\"data row12 col2\" >distance</td>\n",
       "      <td id=\"T_f381b_row12_col3\" class=\"data row12 col3\" >nan</td>\n",
       "      <td id=\"T_f381b_row12_col4\" class=\"data row12 col4\" >nan</td>\n",
       "      <td id=\"T_f381b_row12_col5\" class=\"data row12 col5\" >nan</td>\n",
       "      <td id=\"T_f381b_row12_col6\" class=\"data row12 col6\" >min-max + pca 0.95</td>\n",
       "      <td id=\"T_f381b_row12_col7\" class=\"data row12 col7\" >0.9500000</td>\n",
       "      <td id=\"T_f381b_row12_col8\" class=\"data row12 col8\" >full</td>\n",
       "      <td id=\"T_f381b_row12_col9\" class=\"data row12 col9\" >False</td>\n",
       "      <td id=\"T_f381b_row12_col10\" class=\"data row12 col10\" >75.5846592</td>\n",
       "      <td id=\"T_f381b_row12_col11\" class=\"data row12 col11\" >0.3133241</td>\n",
       "    </tr>\n",
       "    <tr>\n",
       "      <th id=\"T_f381b_level0_row13\" class=\"row_heading level0 row13\" >4</th>\n",
       "      <td id=\"T_f381b_row13_col0\" class=\"data row13 col0\" >cityblock</td>\n",
       "      <td id=\"T_f381b_row13_col1\" class=\"data row13 col1\" >20</td>\n",
       "      <td id=\"T_f381b_row13_col2\" class=\"data row13 col2\" >distance</td>\n",
       "      <td id=\"T_f381b_row13_col3\" class=\"data row13 col3\" >OAS()</td>\n",
       "      <td id=\"T_f381b_row13_col4\" class=\"data row13 col4\" >nan</td>\n",
       "      <td id=\"T_f381b_row13_col5\" class=\"data row13 col5\" >eigen</td>\n",
       "      <td id=\"T_f381b_row13_col6\" class=\"data row13 col6\" >min-max + lmax + lda</td>\n",
       "      <td id=\"T_f381b_row13_col7\" class=\"data row13 col7\" >nan</td>\n",
       "      <td id=\"T_f381b_row13_col8\" class=\"data row13 col8\" >nan</td>\n",
       "      <td id=\"T_f381b_row13_col9\" class=\"data row13 col9\" >nan</td>\n",
       "      <td id=\"T_f381b_row13_col10\" class=\"data row13 col10\" >76.6217619</td>\n",
       "      <td id=\"T_f381b_row13_col11\" class=\"data row13 col11\" >0.3039021</td>\n",
       "    </tr>\n",
       "    <tr>\n",
       "      <th id=\"T_f381b_level0_row14\" class=\"row_heading level0 row14\" >0</th>\n",
       "      <td id=\"T_f381b_row14_col0\" class=\"data row14 col0\" >cosine</td>\n",
       "      <td id=\"T_f381b_row14_col1\" class=\"data row14 col1\" >5</td>\n",
       "      <td id=\"T_f381b_row14_col2\" class=\"data row14 col2\" >distance</td>\n",
       "      <td id=\"T_f381b_row14_col3\" class=\"data row14 col3\" >OAS()</td>\n",
       "      <td id=\"T_f381b_row14_col4\" class=\"data row14 col4\" >nan</td>\n",
       "      <td id=\"T_f381b_row14_col5\" class=\"data row14 col5\" >eigen</td>\n",
       "      <td id=\"T_f381b_row14_col6\" class=\"data row14 col6\" >min-max + lmax + lda</td>\n",
       "      <td id=\"T_f381b_row14_col7\" class=\"data row14 col7\" >nan</td>\n",
       "      <td id=\"T_f381b_row14_col8\" class=\"data row14 col8\" >nan</td>\n",
       "      <td id=\"T_f381b_row14_col9\" class=\"data row14 col9\" >nan</td>\n",
       "      <td id=\"T_f381b_row14_col10\" class=\"data row14 col10\" >79.4402168</td>\n",
       "      <td id=\"T_f381b_row14_col11\" class=\"data row14 col11\" >0.2782969</td>\n",
       "    </tr>\n",
       "    <tr>\n",
       "      <th id=\"T_f381b_level0_row15\" class=\"row_heading level0 row15\" >9</th>\n",
       "      <td id=\"T_f381b_row15_col0\" class=\"data row15 col0\" >cosine</td>\n",
       "      <td id=\"T_f381b_row15_col1\" class=\"data row15 col1\" >5</td>\n",
       "      <td id=\"T_f381b_row15_col2\" class=\"data row15 col2\" >distance</td>\n",
       "      <td id=\"T_f381b_row15_col3\" class=\"data row15 col3\" >OAS()</td>\n",
       "      <td id=\"T_f381b_row15_col4\" class=\"data row15 col4\" >nan</td>\n",
       "      <td id=\"T_f381b_row15_col5\" class=\"data row15 col5\" >eigen</td>\n",
       "      <td id=\"T_f381b_row15_col6\" class=\"data row15 col6\" >min-max + lmax + lda</td>\n",
       "      <td id=\"T_f381b_row15_col7\" class=\"data row15 col7\" >nan</td>\n",
       "      <td id=\"T_f381b_row15_col8\" class=\"data row15 col8\" >nan</td>\n",
       "      <td id=\"T_f381b_row15_col9\" class=\"data row15 col9\" >nan</td>\n",
       "      <td id=\"T_f381b_row15_col10\" class=\"data row15 col10\" >79.4402168</td>\n",
       "      <td id=\"T_f381b_row15_col11\" class=\"data row15 col11\" >0.2782969</td>\n",
       "    </tr>\n",
       "    <tr>\n",
       "      <th id=\"T_f381b_level0_row16\" class=\"row_heading level0 row16\" >16</th>\n",
       "      <td id=\"T_f381b_row16_col0\" class=\"data row16 col0\" >cosine</td>\n",
       "      <td id=\"T_f381b_row16_col1\" class=\"data row16 col1\" >20</td>\n",
       "      <td id=\"T_f381b_row16_col2\" class=\"data row16 col2\" >distance</td>\n",
       "      <td id=\"T_f381b_row16_col3\" class=\"data row16 col3\" >OAS()</td>\n",
       "      <td id=\"T_f381b_row16_col4\" class=\"data row16 col4\" >nan</td>\n",
       "      <td id=\"T_f381b_row16_col5\" class=\"data row16 col5\" >eigen</td>\n",
       "      <td id=\"T_f381b_row16_col6\" class=\"data row16 col6\" >min-max + l2 + lda</td>\n",
       "      <td id=\"T_f381b_row16_col7\" class=\"data row16 col7\" >nan</td>\n",
       "      <td id=\"T_f381b_row16_col8\" class=\"data row16 col8\" >nan</td>\n",
       "      <td id=\"T_f381b_row16_col9\" class=\"data row16 col9\" >nan</td>\n",
       "      <td id=\"T_f381b_row16_col10\" class=\"data row16 col10\" >79.9976597</td>\n",
       "      <td id=\"T_f381b_row16_col11\" class=\"data row16 col11\" >0.2732326</td>\n",
       "    </tr>\n",
       "    <tr>\n",
       "      <th id=\"T_f381b_level0_row17\" class=\"row_heading level0 row17\" >15</th>\n",
       "      <td id=\"T_f381b_row17_col0\" class=\"data row17 col0\" >cosine</td>\n",
       "      <td id=\"T_f381b_row17_col1\" class=\"data row17 col1\" >20</td>\n",
       "      <td id=\"T_f381b_row17_col2\" class=\"data row17 col2\" >distance</td>\n",
       "      <td id=\"T_f381b_row17_col3\" class=\"data row17 col3\" >EllipticEnvelope(contamination=0.001, random_state=42)</td>\n",
       "      <td id=\"T_f381b_row17_col4\" class=\"data row17 col4\" >nan</td>\n",
       "      <td id=\"T_f381b_row17_col5\" class=\"data row17 col5\" >eigen</td>\n",
       "      <td id=\"T_f381b_row17_col6\" class=\"data row17 col6\" >min-max + lmax + lda</td>\n",
       "      <td id=\"T_f381b_row17_col7\" class=\"data row17 col7\" >nan</td>\n",
       "      <td id=\"T_f381b_row17_col8\" class=\"data row17 col8\" >nan</td>\n",
       "      <td id=\"T_f381b_row17_col9\" class=\"data row17 col9\" >nan</td>\n",
       "      <td id=\"T_f381b_row17_col10\" class=\"data row17 col10\" >80.0647708</td>\n",
       "      <td id=\"T_f381b_row17_col11\" class=\"data row17 col11\" >0.2726229</td>\n",
       "    </tr>\n",
       "    <tr>\n",
       "      <th id=\"T_f381b_level0_row18\" class=\"row_heading level0 row18\" >11</th>\n",
       "      <td id=\"T_f381b_row18_col0\" class=\"data row18 col0\" >cosine</td>\n",
       "      <td id=\"T_f381b_row18_col1\" class=\"data row18 col1\" >20</td>\n",
       "      <td id=\"T_f381b_row18_col2\" class=\"data row18 col2\" >distance</td>\n",
       "      <td id=\"T_f381b_row18_col3\" class=\"data row18 col3\" >nan</td>\n",
       "      <td id=\"T_f381b_row18_col4\" class=\"data row18 col4\" >nan</td>\n",
       "      <td id=\"T_f381b_row18_col5\" class=\"data row18 col5\" >nan</td>\n",
       "      <td id=\"T_f381b_row18_col6\" class=\"data row18 col6\" >raw</td>\n",
       "      <td id=\"T_f381b_row18_col7\" class=\"data row18 col7\" >nan</td>\n",
       "      <td id=\"T_f381b_row18_col8\" class=\"data row18 col8\" >nan</td>\n",
       "      <td id=\"T_f381b_row18_col9\" class=\"data row18 col9\" >nan</td>\n",
       "      <td id=\"T_f381b_row18_col10\" class=\"data row18 col10\" >94.9237542</td>\n",
       "      <td id=\"T_f381b_row18_col11\" class=\"data row18 col11\" >0.1376311</td>\n",
       "    </tr>\n",
       "  </tbody>\n",
       "</table>\n"
      ],
      "text/plain": [
       "<pandas.io.formats.style.Styler at 0x224fc7cbe50>"
      ]
     },
     "metadata": {},
     "output_type": "display_data"
    }
   ],
   "source": [
    "print_all_results(name_estimator)"
   ]
  },
  {
   "cell_type": "code",
   "execution_count": 200,
   "metadata": {},
   "outputs": [
    {
     "data": {
      "image/png": "[encoded data removed]",
      "text/plain": [
       "<Figure size 1000x1000 with 2 Axes>"
      ]
     },
     "metadata": {},
     "output_type": "display_data"
    },
    {
     "data": {
      "application/vnd.plotly.v1+json": {
       "config": {
        "plotlyServerURL": "https://plot.ly"
       },
       "data": [
        {
         "dimensions": [
          {
           "label": "lda__covariance_estimator",
           "ticktext": [
            "None",
            "OAS()"
           ],
           "tickvals": [
            0,
            1
           ],
           "values": [
            0,
            1,
            1,
            0,
            1,
            1,
            1,
            1,
            1,
            1,
            1
           ]
          },
          {
           "label": "lda__solver",
           "ticktext": [
            "None",
            "eigen"
           ],
           "tickvals": [
            0,
            1
           ],
           "values": [
            0,
            1,
            1,
            0,
            1,
            1,
            1,
            1,
            1,
            1,
            1
           ]
          },
          {
           "label": "nys__gamma",
           "ticktext": [
            "None",
            0.01
           ],
           "tickvals": [
            0,
            1
           ],
           "values": [
            0,
            1,
            1,
            1,
            1,
            1,
            1,
            1,
            1,
            1,
            1
           ]
          },
          {
           "label": "nys__n_components",
           "ticktext": [
            "None",
            1000
           ],
           "tickvals": [
            0,
            1
           ],
           "values": [
            0,
            1,
            1,
            1,
            1,
            1,
            1,
            1,
            1,
            1,
            1
           ]
          },
          {
           "label": "preprocess",
           "ticktext": [
            "raw",
            "min-max + lmax + lda + nystroem",
            "min-max + l1 + lda + nystroem",
            "min-max + pca 0.95 + nystroem",
            "min-max + nystroem",
            "min-max + lda + nystroem",
            "std-scaler + lda + nystroem",
            "min-max + l2 + lda + nystroem"
           ],
           "tickvals": [
            0,
            1,
            2,
            3,
            4,
            5,
            6,
            7
           ],
           "values": [
            0,
            1,
            2,
            3,
            4,
            5,
            6,
            7,
            2,
            5,
            2
           ]
          },
          {
           "label": "pca__n_components",
           "ticktext": [
            "None",
            0.95
           ],
           "tickvals": [
            0,
            1
           ],
           "values": [
            0,
            0,
            0,
            1,
            0,
            0,
            0,
            0,
            0,
            0,
            0
           ]
          },
          {
           "label": "pca__svd_solver",
           "ticktext": [
            "None",
            "full"
           ],
           "tickvals": [
            0,
            1
           ],
           "values": [
            0,
            0,
            0,
            1,
            0,
            0,
            0,
            0,
            0,
            0,
            0
           ]
          },
          {
           "label": "pca__whiten",
           "ticktext": [
            "None",
            true
           ],
           "tickvals": [
            0,
            1
           ],
           "values": [
            0,
            0,
            0,
            1,
            0,
            0,
            0,
            0,
            0,
            0,
            0
           ]
          },
          {
           "label": "svr__C",
           "ticktext": [
            "None",
            10
           ],
           "tickvals": [
            0,
            1
           ],
           "values": [
            0,
            0,
            0,
            1,
            0,
            0,
            0,
            0,
            1,
            1,
            1
           ]
          },
          {
           "label": "svr__epsilon",
           "ticktext": [
            "None",
            0.01
           ],
           "tickvals": [
            0,
            1
           ],
           "values": [
            0,
            0,
            0,
            1,
            0,
            0,
            0,
            0,
            1,
            1,
            0
           ]
          },
          {
           "label": "svr__max_iter",
           "ticktext": [
            "None",
            2000
           ],
           "tickvals": [
            0,
            1
           ],
           "values": [
            0,
            0,
            0,
            1,
            0,
            0,
            0,
            0,
            1,
            1,
            1
           ]
          },
          {
           "label": "R^2",
           "tickvals": [
            -281.88,
            -140.8,
            0.28
           ],
           "values": [
            -281.88,
            0.28,
            0.28,
            0.28,
            0.07,
            0.28,
            0.28,
            0.28,
            0.28,
            0.28,
            0.28
           ]
          },
          {
           "label": "MSE",
           "tickvals": [
            78.72,
            3529.7,
            6980.68,
            10431.66,
            13882.64,
            17333.63,
            20784.61,
            24235.59,
            27686.57,
            31137.55
           ],
           "values": [
            31137.55,
            79.41,
            79.29,
            79.73,
            102.29,
            79.51,
            79.64,
            79.51,
            78.72,
            78.91,
            78.96
           ]
          }
         ],
         "labelangle": -15,
         "line": {
          "color": [
           31137.55,
           79.41,
           79.29,
           79.73,
           102.29,
           79.51,
           79.64,
           79.51,
           78.72,
           78.91,
           78.96
          ],
          "colorscale": [
           [
            0,
            "#440154"
           ],
           [
            0.1111111111111111,
            "#482878"
           ],
           [
            0.2222222222222222,
            "#3e4989"
           ],
           [
            0.3333333333333333,
            "#31688e"
           ],
           [
            0.4444444444444444,
            "#26828e"
           ],
           [
            0.5555555555555556,
            "#1f9e89"
           ],
           [
            0.6666666666666666,
            "#35b779"
           ],
           [
            0.7777777777777778,
            "#6ece58"
           ],
           [
            0.8888888888888888,
            "#b5de2b"
           ],
           [
            1,
            "#fde725"
           ]
          ],
          "showscale": true
         },
         "type": "parcoords"
        }
       ],
       "layout": {
        "template": {
         "data": {
          "bar": [
           {
            "error_x": {
             "color": "#2a3f5f"
            },
            "error_y": {
             "color": "#2a3f5f"
            },
            "marker": {
             "line": {
              "color": "#E5ECF6",
              "width": 0.5
             },
             "pattern": {
              "fillmode": "overlay",
              "size": 10,
              "solidity": 0.2
             }
            },
            "type": "bar"
           }
          ],
          "barpolar": [
           {
            "marker": {
             "line": {
              "color": "#E5ECF6",
              "width": 0.5
             },
             "pattern": {
              "fillmode": "overlay",
              "size": 10,
              "solidity": 0.2
             }
            },
            "type": "barpolar"
           }
          ],
          "carpet": [
           {
            "aaxis": {
             "endlinecolor": "#2a3f5f",
             "gridcolor": "white",
             "linecolor": "white",
             "minorgridcolor": "white",
             "startlinecolor": "#2a3f5f"
            },
            "baxis": {
             "endlinecolor": "#2a3f5f",
             "gridcolor": "white",
             "linecolor": "white",
             "minorgridcolor": "white",
             "startlinecolor": "#2a3f5f"
            },
            "type": "carpet"
           }
          ],
          "choropleth": [
           {
            "colorbar": {
             "outlinewidth": 0,
             "ticks": ""
            },
            "type": "choropleth"
           }
          ],
          "contour": [
           {
            "colorbar": {
             "outlinewidth": 0,
             "ticks": ""
            },
            "colorscale": [
             [
              0,
              "#0d0887"
             ],
             [
              0.1111111111111111,
              "#46039f"
             ],
             [
              0.2222222222222222,
              "#7201a8"
             ],
             [
              0.3333333333333333,
              "#9c179e"
             ],
             [
              0.4444444444444444,
              "#bd3786"
             ],
             [
              0.5555555555555556,
              "#d8576b"
             ],
             [
              0.6666666666666666,
              "#ed7953"
             ],
             [
              0.7777777777777778,
              "#fb9f3a"
             ],
             [
              0.8888888888888888,
              "#fdca26"
             ],
             [
              1,
              "#f0f921"
             ]
            ],
            "type": "contour"
           }
          ],
          "contourcarpet": [
           {
            "colorbar": {
             "outlinewidth": 0,
             "ticks": ""
            },
            "type": "contourcarpet"
           }
          ],
          "heatmap": [
           {
            "colorbar": {
             "outlinewidth": 0,
             "ticks": ""
            },
            "colorscale": [
             [
              0,
              "#0d0887"
             ],
             [
              0.1111111111111111,
              "#46039f"
             ],
             [
              0.2222222222222222,
              "#7201a8"
             ],
             [
              0.3333333333333333,
              "#9c179e"
             ],
             [
              0.4444444444444444,
              "#bd3786"
             ],
             [
              0.5555555555555556,
              "#d8576b"
             ],
             [
              0.6666666666666666,
              "#ed7953"
             ],
             [
              0.7777777777777778,
              "#fb9f3a"
             ],
             [
              0.8888888888888888,
              "#fdca26"
             ],
             [
              1,
              "#f0f921"
             ]
            ],
            "type": "heatmap"
           }
          ],
          "heatmapgl": [
           {
            "colorbar": {
             "outlinewidth": 0,
             "ticks": ""
            },
            "colorscale": [
             [
              0,
              "#0d0887"
             ],
             [
              0.1111111111111111,
              "#46039f"
             ],
             [
              0.2222222222222222,
              "#7201a8"
             ],
             [
              0.3333333333333333,
              "#9c179e"
             ],
             [
              0.4444444444444444,
              "#bd3786"
             ],
             [
              0.5555555555555556,
              "#d8576b"
             ],
             [
              0.6666666666666666,
              "#ed7953"
             ],
             [
              0.7777777777777778,
              "#fb9f3a"
             ],
             [
              0.8888888888888888,
              "#fdca26"
             ],
             [
              1,
              "#f0f921"
             ]
            ],
            "type": "heatmapgl"
           }
          ],
          "histogram": [
           {
            "marker": {
             "pattern": {
              "fillmode": "overlay",
              "size": 10,
              "solidity": 0.2
             }
            },
            "type": "histogram"
           }
          ],
          "histogram2d": [
           {
            "colorbar": {
             "outlinewidth": 0,
             "ticks": ""
            },
            "colorscale": [
             [
              0,
              "#0d0887"
             ],
             [
              0.1111111111111111,
              "#46039f"
             ],
             [
              0.2222222222222222,
              "#7201a8"
             ],
             [
              0.3333333333333333,
              "#9c179e"
             ],
             [
              0.4444444444444444,
              "#bd3786"
             ],
             [
              0.5555555555555556,
              "#d8576b"
             ],
             [
              0.6666666666666666,
              "#ed7953"
             ],
             [
              0.7777777777777778,
              "#fb9f3a"
             ],
             [
              0.8888888888888888,
              "#fdca26"
             ],
             [
              1,
              "#f0f921"
             ]
            ],
            "type": "histogram2d"
           }
          ],
          "histogram2dcontour": [
           {
            "colorbar": {
             "outlinewidth": 0,
             "ticks": ""
            },
            "colorscale": [
             [
              0,
              "#0d0887"
             ],
             [
              0.1111111111111111,
              "#46039f"
             ],
             [
              0.2222222222222222,
              "#7201a8"
             ],
             [
              0.3333333333333333,
              "#9c179e"
             ],
             [
              0.4444444444444444,
              "#bd3786"
             ],
             [
              0.5555555555555556,
              "#d8576b"
             ],
             [
              0.6666666666666666,
              "#ed7953"
             ],
             [
              0.7777777777777778,
              "#fb9f3a"
             ],
             [
              0.8888888888888888,
              "#fdca26"
             ],
             [
              1,
              "#f0f921"
             ]
            ],
            "type": "histogram2dcontour"
           }
          ],
          "mesh3d": [
           {
            "colorbar": {
             "outlinewidth": 0,
             "ticks": ""
            },
            "type": "mesh3d"
           }
          ],
          "parcoords": [
           {
            "line": {
             "colorbar": {
              "outlinewidth": 0,
              "ticks": ""
             }
            },
            "type": "parcoords"
           }
          ],
          "pie": [
           {
            "automargin": true,
            "type": "pie"
           }
          ],
          "scatter": [
           {
            "fillpattern": {
             "fillmode": "overlay",
             "size": 10,
             "solidity": 0.2
            },
            "type": "scatter"
           }
          ],
          "scatter3d": [
           {
            "line": {
             "colorbar": {
              "outlinewidth": 0,
              "ticks": ""
             }
            },
            "marker": {
             "colorbar": {
              "outlinewidth": 0,
              "ticks": ""
             }
            },
            "type": "scatter3d"
           }
          ],
          "scattercarpet": [
           {
            "marker": {
             "colorbar": {
              "outlinewidth": 0,
              "ticks": ""
             }
            },
            "type": "scattercarpet"
           }
          ],
          "scattergeo": [
           {
            "marker": {
             "colorbar": {
              "outlinewidth": 0,
              "ticks": ""
             }
            },
            "type": "scattergeo"
           }
          ],
          "scattergl": [
           {
            "marker": {
             "colorbar": {
              "outlinewidth": 0,
              "ticks": ""
             }
            },
            "type": "scattergl"
           }
          ],
          "scattermapbox": [
           {
            "marker": {
             "colorbar": {
              "outlinewidth": 0,
              "ticks": ""
             }
            },
            "type": "scattermapbox"
           }
          ],
          "scatterpolar": [
           {
            "marker": {
             "colorbar": {
              "outlinewidth": 0,
              "ticks": ""
             }
            },
            "type": "scatterpolar"
           }
          ],
          "scatterpolargl": [
           {
            "marker": {
             "colorbar": {
              "outlinewidth": 0,
              "ticks": ""
             }
            },
            "type": "scatterpolargl"
           }
          ],
          "scatterternary": [
           {
            "marker": {
             "colorbar": {
              "outlinewidth": 0,
              "ticks": ""
             }
            },
            "type": "scatterternary"
           }
          ],
          "surface": [
           {
            "colorbar": {
             "outlinewidth": 0,
             "ticks": ""
            },
            "colorscale": [
             [
              0,
              "#0d0887"
             ],
             [
              0.1111111111111111,
              "#46039f"
             ],
             [
              0.2222222222222222,
              "#7201a8"
             ],
             [
              0.3333333333333333,
              "#9c179e"
             ],
             [
              0.4444444444444444,
              "#bd3786"
             ],
             [
              0.5555555555555556,
              "#d8576b"
             ],
             [
              0.6666666666666666,
              "#ed7953"
             ],
             [
              0.7777777777777778,
              "#fb9f3a"
             ],
             [
              0.8888888888888888,
              "#fdca26"
             ],
             [
              1,
              "#f0f921"
             ]
            ],
            "type": "surface"
           }
          ],
          "table": [
           {
            "cells": {
             "fill": {
              "color": "#EBF0F8"
             },
             "line": {
              "color": "white"
             }
            },
            "header": {
             "fill": {
              "color": "#C8D4E3"
             },
             "line": {
              "color": "white"
             }
            },
            "type": "table"
           }
          ]
         },
         "layout": {
          "annotationdefaults": {
           "arrowcolor": "#2a3f5f",
           "arrowhead": 0,
           "arrowwidth": 1
          },
          "autotypenumbers": "strict",
          "coloraxis": {
           "colorbar": {
            "outlinewidth": 0,
            "ticks": ""
           }
          },
          "colorscale": {
           "diverging": [
            [
             0,
             "#8e0152"
            ],
            [
             0.1,
             "#c51b7d"
            ],
            [
             0.2,
             "#de77ae"
            ],
            [
             0.3,
             "#f1b6da"
            ],
            [
             0.4,
             "#fde0ef"
            ],
            [
             0.5,
             "#f7f7f7"
            ],
            [
             0.6,
             "#e6f5d0"
            ],
            [
             0.7,
             "#b8e186"
            ],
            [
             0.8,
             "#7fbc41"
            ],
            [
             0.9,
             "#4d9221"
            ],
            [
             1,
             "#276419"
            ]
           ],
           "sequential": [
            [
             0,
             "#0d0887"
            ],
            [
             0.1111111111111111,
             "#46039f"
            ],
            [
             0.2222222222222222,
             "#7201a8"
            ],
            [
             0.3333333333333333,
             "#9c179e"
            ],
            [
             0.4444444444444444,
             "#bd3786"
            ],
            [
             0.5555555555555556,
             "#d8576b"
            ],
            [
             0.6666666666666666,
             "#ed7953"
            ],
            [
             0.7777777777777778,
             "#fb9f3a"
            ],
            [
             0.8888888888888888,
             "#fdca26"
            ],
            [
             1,
             "#f0f921"
            ]
           ],
           "sequentialminus": [
            [
             0,
             "#0d0887"
            ],
            [
             0.1111111111111111,
             "#46039f"
            ],
            [
             0.2222222222222222,
             "#7201a8"
            ],
            [
             0.3333333333333333,
             "#9c179e"
            ],
            [
             0.4444444444444444,
             "#bd3786"
            ],
            [
             0.5555555555555556,
             "#d8576b"
            ],
            [
             0.6666666666666666,
             "#ed7953"
            ],
            [
             0.7777777777777778,
             "#fb9f3a"
            ],
            [
             0.8888888888888888,
             "#fdca26"
            ],
            [
             1,
             "#f0f921"
            ]
           ]
          },
          "colorway": [
           "#636efa",
           "#EF553B",
           "#00cc96",
           "#ab63fa",
           "#FFA15A",
           "#19d3f3",
           "#FF6692",
           "#B6E880",
           "#FF97FF",
           "#FECB52"
          ],
          "font": {
           "color": "#2a3f5f"
          },
          "geo": {
           "bgcolor": "white",
           "lakecolor": "white",
           "landcolor": "#E5ECF6",
           "showlakes": true,
           "showland": true,
           "subunitcolor": "white"
          },
          "hoverlabel": {
           "align": "left"
          },
          "hovermode": "closest",
          "mapbox": {
           "style": "light"
          },
          "paper_bgcolor": "white",
          "plot_bgcolor": "#E5ECF6",
          "polar": {
           "angularaxis": {
            "gridcolor": "white",
            "linecolor": "white",
            "ticks": ""
           },
           "bgcolor": "#E5ECF6",
           "radialaxis": {
            "gridcolor": "white",
            "linecolor": "white",
            "ticks": ""
           }
          },
          "scene": {
           "xaxis": {
            "backgroundcolor": "#E5ECF6",
            "gridcolor": "white",
            "gridwidth": 2,
            "linecolor": "white",
            "showbackground": true,
            "ticks": "",
            "zerolinecolor": "white"
           },
           "yaxis": {
            "backgroundcolor": "#E5ECF6",
            "gridcolor": "white",
            "gridwidth": 2,
            "linecolor": "white",
            "showbackground": true,
            "ticks": "",
            "zerolinecolor": "white"
           },
           "zaxis": {
            "backgroundcolor": "#E5ECF6",
            "gridcolor": "white",
            "gridwidth": 2,
            "linecolor": "white",
            "showbackground": true,
            "ticks": "",
            "zerolinecolor": "white"
           }
          },
          "shapedefaults": {
           "line": {
            "color": "#2a3f5f"
           }
          },
          "ternary": {
           "aaxis": {
            "gridcolor": "white",
            "linecolor": "white",
            "ticks": ""
           },
           "baxis": {
            "gridcolor": "white",
            "linecolor": "white",
            "ticks": ""
           },
           "bgcolor": "#E5ECF6",
           "caxis": {
            "gridcolor": "white",
            "linecolor": "white",
            "ticks": ""
           }
          },
          "title": {
           "x": 0.05
          },
          "xaxis": {
           "automargin": true,
           "gridcolor": "white",
           "linecolor": "white",
           "ticks": "",
           "title": {
            "standoff": 15
           },
           "zerolinecolor": "white",
           "zerolinewidth": 2
          },
          "yaxis": {
           "automargin": true,
           "gridcolor": "white",
           "linecolor": "white",
           "ticks": "",
           "title": {
            "standoff": 15
           },
           "zerolinecolor": "white",
           "zerolinewidth": 2
          }
         }
        }
       }
      }
     },
     "metadata": {},
     "output_type": "display_data"
    }
   ],
   "source": [
    "save_display_results(\n",
    "    name_estimator,\n",
    "    best_preprocessor,\n",
    "    best_estimator,\n",
    "    best_predictions,\n",
    ")"
   ]
  },
  {
   "cell_type": "markdown",
   "metadata": {},
   "source": [
    "---\n",
    "## SVM"
   ]
  },
  {
   "cell_type": "code",
   "execution_count": 130,
   "metadata": {},
   "outputs": [
    {
     "ename": "",
     "evalue": "",
     "output_type": "error",
     "traceback": [
      "\u001b[1;31mSi è verificato un arresto anomalo del Kernel durante l'esecuzione del codice nella cella attiva o in una cella precedente. \n",
      "\u001b[1;31mEsaminare il codice nelle celle per identificare una possibile causa dell'errore. \n",
      "\u001b[1;31mPer altre informazioni, fare clic<a href='https://aka.ms/vscodeJupyterKernelCrash'>qui</a>. \n",
      "\u001b[1;31mPer ulteriori dettagli, visualizzare Jupyter <a href='command:jupyter.viewOutput'>log</a>."
     ]
    }
   ],
   "source": [
    "param_estimator = {\n",
    "    \"svr__epsilon\": [0.01],\n",
    "    \"svr__C\": [10],  # 0.1, 1, 100, 500, 5, 20, 8, 9,15\n",
    "    \"svr__max_iter\": [2000],\n",
    "}\n",
    "\n",
    "name_estimator = \"svr\"\n",
    "\n",
    "best_preprocessor, best_estimator, best_predictions = gridSearch(\n",
    "    name_estimator,\n",
    "    LinearSVR(dual=\"auto\", random_state=random_state),\n",
    "    param_estimator,\n",
    "    False,\n",
    ")"
   ]
  },
  {
   "cell_type": "code",
   "execution_count": 198,
   "metadata": {},
   "outputs": [
    {
     "data": {
      "text/html": [
       "<style type=\"text/css\">\n",
       "</style>\n",
       "<table id=\"T_aff6d\">\n",
       "  <thead>\n",
       "    <tr>\n",
       "      <th class=\"blank level0\" >&nbsp;</th>\n",
       "      <th id=\"T_aff6d_level0_col0\" class=\"col_heading level0 col0\" >lda__covariance_estimator</th>\n",
       "      <th id=\"T_aff6d_level0_col1\" class=\"col_heading level0 col1\" >lda__solver</th>\n",
       "      <th id=\"T_aff6d_level0_col2\" class=\"col_heading level0 col2\" >nys__gamma</th>\n",
       "      <th id=\"T_aff6d_level0_col3\" class=\"col_heading level0 col3\" >nys__n_components</th>\n",
       "      <th id=\"T_aff6d_level0_col4\" class=\"col_heading level0 col4\" >preprocess</th>\n",
       "      <th id=\"T_aff6d_level0_col5\" class=\"col_heading level0 col5\" >pca__n_components</th>\n",
       "      <th id=\"T_aff6d_level0_col6\" class=\"col_heading level0 col6\" >pca__svd_solver</th>\n",
       "      <th id=\"T_aff6d_level0_col7\" class=\"col_heading level0 col7\" >pca__whiten</th>\n",
       "      <th id=\"T_aff6d_level0_col8\" class=\"col_heading level0 col8\" >svr__C</th>\n",
       "      <th id=\"T_aff6d_level0_col9\" class=\"col_heading level0 col9\" >svr__epsilon</th>\n",
       "      <th id=\"T_aff6d_level0_col10\" class=\"col_heading level0 col10\" >svr__max_iter</th>\n",
       "      <th id=\"T_aff6d_level0_col11\" class=\"col_heading level0 col11\" >MSE</th>\n",
       "      <th id=\"T_aff6d_level0_col12\" class=\"col_heading level0 col12\" >R^2</th>\n",
       "    </tr>\n",
       "  </thead>\n",
       "  <tbody>\n",
       "    <tr>\n",
       "      <th id=\"T_aff6d_level0_row0\" class=\"row_heading level0 row0\" >8</th>\n",
       "      <td id=\"T_aff6d_row0_col0\" class=\"data row0 col0\" >OAS()</td>\n",
       "      <td id=\"T_aff6d_row0_col1\" class=\"data row0 col1\" >eigen</td>\n",
       "      <td id=\"T_aff6d_row0_col2\" class=\"data row0 col2\" >0.0100000</td>\n",
       "      <td id=\"T_aff6d_row0_col3\" class=\"data row0 col3\" >1000.0000000</td>\n",
       "      <td id=\"T_aff6d_row0_col4\" class=\"data row0 col4\" >min-max + l1 + lda + nystroem</td>\n",
       "      <td id=\"T_aff6d_row0_col5\" class=\"data row0 col5\" >nan</td>\n",
       "      <td id=\"T_aff6d_row0_col6\" class=\"data row0 col6\" >nan</td>\n",
       "      <td id=\"T_aff6d_row0_col7\" class=\"data row0 col7\" >nan</td>\n",
       "      <td id=\"T_aff6d_row0_col8\" class=\"data row0 col8\" >10.0000000</td>\n",
       "      <td id=\"T_aff6d_row0_col9\" class=\"data row0 col9\" >0.0100000</td>\n",
       "      <td id=\"T_aff6d_row0_col10\" class=\"data row0 col10\" >2000.0000000</td>\n",
       "      <td id=\"T_aff6d_row0_col11\" class=\"data row0 col11\" >78.7212330</td>\n",
       "      <td id=\"T_aff6d_row0_col12\" class=\"data row0 col12\" >0.2848287</td>\n",
       "    </tr>\n",
       "    <tr>\n",
       "      <th id=\"T_aff6d_level0_row1\" class=\"row_heading level0 row1\" >9</th>\n",
       "      <td id=\"T_aff6d_row1_col0\" class=\"data row1 col0\" >OAS()</td>\n",
       "      <td id=\"T_aff6d_row1_col1\" class=\"data row1 col1\" >eigen</td>\n",
       "      <td id=\"T_aff6d_row1_col2\" class=\"data row1 col2\" >0.0100000</td>\n",
       "      <td id=\"T_aff6d_row1_col3\" class=\"data row1 col3\" >1000.0000000</td>\n",
       "      <td id=\"T_aff6d_row1_col4\" class=\"data row1 col4\" >min-max + lda + nystroem</td>\n",
       "      <td id=\"T_aff6d_row1_col5\" class=\"data row1 col5\" >nan</td>\n",
       "      <td id=\"T_aff6d_row1_col6\" class=\"data row1 col6\" >nan</td>\n",
       "      <td id=\"T_aff6d_row1_col7\" class=\"data row1 col7\" >nan</td>\n",
       "      <td id=\"T_aff6d_row1_col8\" class=\"data row1 col8\" >10.0000000</td>\n",
       "      <td id=\"T_aff6d_row1_col9\" class=\"data row1 col9\" >0.0100000</td>\n",
       "      <td id=\"T_aff6d_row1_col10\" class=\"data row1 col10\" >2000.0000000</td>\n",
       "      <td id=\"T_aff6d_row1_col11\" class=\"data row1 col11\" >78.9061170</td>\n",
       "      <td id=\"T_aff6d_row1_col12\" class=\"data row1 col12\" >0.2831491</td>\n",
       "    </tr>\n",
       "    <tr>\n",
       "      <th id=\"T_aff6d_level0_row2\" class=\"row_heading level0 row2\" >10</th>\n",
       "      <td id=\"T_aff6d_row2_col0\" class=\"data row2 col0\" >OAS()</td>\n",
       "      <td id=\"T_aff6d_row2_col1\" class=\"data row2 col1\" >eigen</td>\n",
       "      <td id=\"T_aff6d_row2_col2\" class=\"data row2 col2\" >0.0100000</td>\n",
       "      <td id=\"T_aff6d_row2_col3\" class=\"data row2 col3\" >1000.0000000</td>\n",
       "      <td id=\"T_aff6d_row2_col4\" class=\"data row2 col4\" >min-max + l1 + lda + nystroem</td>\n",
       "      <td id=\"T_aff6d_row2_col5\" class=\"data row2 col5\" >nan</td>\n",
       "      <td id=\"T_aff6d_row2_col6\" class=\"data row2 col6\" >nan</td>\n",
       "      <td id=\"T_aff6d_row2_col7\" class=\"data row2 col7\" >nan</td>\n",
       "      <td id=\"T_aff6d_row2_col8\" class=\"data row2 col8\" >10.0000000</td>\n",
       "      <td id=\"T_aff6d_row2_col9\" class=\"data row2 col9\" >nan</td>\n",
       "      <td id=\"T_aff6d_row2_col10\" class=\"data row2 col10\" >2000.0000000</td>\n",
       "      <td id=\"T_aff6d_row2_col11\" class=\"data row2 col11\" >78.9567844</td>\n",
       "      <td id=\"T_aff6d_row2_col12\" class=\"data row2 col12\" >0.2826888</td>\n",
       "    </tr>\n",
       "    <tr>\n",
       "      <th id=\"T_aff6d_level0_row3\" class=\"row_heading level0 row3\" >2</th>\n",
       "      <td id=\"T_aff6d_row3_col0\" class=\"data row3 col0\" >OAS()</td>\n",
       "      <td id=\"T_aff6d_row3_col1\" class=\"data row3 col1\" >eigen</td>\n",
       "      <td id=\"T_aff6d_row3_col2\" class=\"data row3 col2\" >0.0100000</td>\n",
       "      <td id=\"T_aff6d_row3_col3\" class=\"data row3 col3\" >1000.0000000</td>\n",
       "      <td id=\"T_aff6d_row3_col4\" class=\"data row3 col4\" >min-max + l1 + lda + nystroem</td>\n",
       "      <td id=\"T_aff6d_row3_col5\" class=\"data row3 col5\" >nan</td>\n",
       "      <td id=\"T_aff6d_row3_col6\" class=\"data row3 col6\" >nan</td>\n",
       "      <td id=\"T_aff6d_row3_col7\" class=\"data row3 col7\" >nan</td>\n",
       "      <td id=\"T_aff6d_row3_col8\" class=\"data row3 col8\" >nan</td>\n",
       "      <td id=\"T_aff6d_row3_col9\" class=\"data row3 col9\" >nan</td>\n",
       "      <td id=\"T_aff6d_row3_col10\" class=\"data row3 col10\" >nan</td>\n",
       "      <td id=\"T_aff6d_row3_col11\" class=\"data row3 col11\" >79.2911086</td>\n",
       "      <td id=\"T_aff6d_row3_col12\" class=\"data row3 col12\" >0.2796515</td>\n",
       "    </tr>\n",
       "    <tr>\n",
       "      <th id=\"T_aff6d_level0_row4\" class=\"row_heading level0 row4\" >1</th>\n",
       "      <td id=\"T_aff6d_row4_col0\" class=\"data row4 col0\" >OAS()</td>\n",
       "      <td id=\"T_aff6d_row4_col1\" class=\"data row4 col1\" >eigen</td>\n",
       "      <td id=\"T_aff6d_row4_col2\" class=\"data row4 col2\" >0.0100000</td>\n",
       "      <td id=\"T_aff6d_row4_col3\" class=\"data row4 col3\" >1000.0000000</td>\n",
       "      <td id=\"T_aff6d_row4_col4\" class=\"data row4 col4\" >min-max + lmax + lda + nystroem</td>\n",
       "      <td id=\"T_aff6d_row4_col5\" class=\"data row4 col5\" >nan</td>\n",
       "      <td id=\"T_aff6d_row4_col6\" class=\"data row4 col6\" >nan</td>\n",
       "      <td id=\"T_aff6d_row4_col7\" class=\"data row4 col7\" >nan</td>\n",
       "      <td id=\"T_aff6d_row4_col8\" class=\"data row4 col8\" >nan</td>\n",
       "      <td id=\"T_aff6d_row4_col9\" class=\"data row4 col9\" >nan</td>\n",
       "      <td id=\"T_aff6d_row4_col10\" class=\"data row4 col10\" >nan</td>\n",
       "      <td id=\"T_aff6d_row4_col11\" class=\"data row4 col11\" >79.4122769</td>\n",
       "      <td id=\"T_aff6d_row4_col12\" class=\"data row4 col12\" >0.2785507</td>\n",
       "    </tr>\n",
       "    <tr>\n",
       "      <th id=\"T_aff6d_level0_row5\" class=\"row_heading level0 row5\" >7</th>\n",
       "      <td id=\"T_aff6d_row5_col0\" class=\"data row5 col0\" >OAS()</td>\n",
       "      <td id=\"T_aff6d_row5_col1\" class=\"data row5 col1\" >eigen</td>\n",
       "      <td id=\"T_aff6d_row5_col2\" class=\"data row5 col2\" >0.0100000</td>\n",
       "      <td id=\"T_aff6d_row5_col3\" class=\"data row5 col3\" >1000.0000000</td>\n",
       "      <td id=\"T_aff6d_row5_col4\" class=\"data row5 col4\" >min-max + l2 + lda + nystroem</td>\n",
       "      <td id=\"T_aff6d_row5_col5\" class=\"data row5 col5\" >nan</td>\n",
       "      <td id=\"T_aff6d_row5_col6\" class=\"data row5 col6\" >nan</td>\n",
       "      <td id=\"T_aff6d_row5_col7\" class=\"data row5 col7\" >nan</td>\n",
       "      <td id=\"T_aff6d_row5_col8\" class=\"data row5 col8\" >nan</td>\n",
       "      <td id=\"T_aff6d_row5_col9\" class=\"data row5 col9\" >nan</td>\n",
       "      <td id=\"T_aff6d_row5_col10\" class=\"data row5 col10\" >nan</td>\n",
       "      <td id=\"T_aff6d_row5_col11\" class=\"data row5 col11\" >79.5118577</td>\n",
       "      <td id=\"T_aff6d_row5_col12\" class=\"data row5 col12\" >0.2776460</td>\n",
       "    </tr>\n",
       "    <tr>\n",
       "      <th id=\"T_aff6d_level0_row6\" class=\"row_heading level0 row6\" >5</th>\n",
       "      <td id=\"T_aff6d_row6_col0\" class=\"data row6 col0\" >OAS()</td>\n",
       "      <td id=\"T_aff6d_row6_col1\" class=\"data row6 col1\" >eigen</td>\n",
       "      <td id=\"T_aff6d_row6_col2\" class=\"data row6 col2\" >0.0100000</td>\n",
       "      <td id=\"T_aff6d_row6_col3\" class=\"data row6 col3\" >1000.0000000</td>\n",
       "      <td id=\"T_aff6d_row6_col4\" class=\"data row6 col4\" >min-max + lda + nystroem</td>\n",
       "      <td id=\"T_aff6d_row6_col5\" class=\"data row6 col5\" >nan</td>\n",
       "      <td id=\"T_aff6d_row6_col6\" class=\"data row6 col6\" >nan</td>\n",
       "      <td id=\"T_aff6d_row6_col7\" class=\"data row6 col7\" >nan</td>\n",
       "      <td id=\"T_aff6d_row6_col8\" class=\"data row6 col8\" >nan</td>\n",
       "      <td id=\"T_aff6d_row6_col9\" class=\"data row6 col9\" >nan</td>\n",
       "      <td id=\"T_aff6d_row6_col10\" class=\"data row6 col10\" >nan</td>\n",
       "      <td id=\"T_aff6d_row6_col11\" class=\"data row6 col11\" >79.5140189</td>\n",
       "      <td id=\"T_aff6d_row6_col12\" class=\"data row6 col12\" >0.2776264</td>\n",
       "    </tr>\n",
       "    <tr>\n",
       "      <th id=\"T_aff6d_level0_row7\" class=\"row_heading level0 row7\" >6</th>\n",
       "      <td id=\"T_aff6d_row7_col0\" class=\"data row7 col0\" >OAS()</td>\n",
       "      <td id=\"T_aff6d_row7_col1\" class=\"data row7 col1\" >eigen</td>\n",
       "      <td id=\"T_aff6d_row7_col2\" class=\"data row7 col2\" >0.0100000</td>\n",
       "      <td id=\"T_aff6d_row7_col3\" class=\"data row7 col3\" >1000.0000000</td>\n",
       "      <td id=\"T_aff6d_row7_col4\" class=\"data row7 col4\" >std-scaler + lda + nystroem</td>\n",
       "      <td id=\"T_aff6d_row7_col5\" class=\"data row7 col5\" >nan</td>\n",
       "      <td id=\"T_aff6d_row7_col6\" class=\"data row7 col6\" >nan</td>\n",
       "      <td id=\"T_aff6d_row7_col7\" class=\"data row7 col7\" >nan</td>\n",
       "      <td id=\"T_aff6d_row7_col8\" class=\"data row7 col8\" >nan</td>\n",
       "      <td id=\"T_aff6d_row7_col9\" class=\"data row7 col9\" >nan</td>\n",
       "      <td id=\"T_aff6d_row7_col10\" class=\"data row7 col10\" >nan</td>\n",
       "      <td id=\"T_aff6d_row7_col11\" class=\"data row7 col11\" >79.6422640</td>\n",
       "      <td id=\"T_aff6d_row7_col12\" class=\"data row7 col12\" >0.2764613</td>\n",
       "    </tr>\n",
       "    <tr>\n",
       "      <th id=\"T_aff6d_level0_row8\" class=\"row_heading level0 row8\" >3</th>\n",
       "      <td id=\"T_aff6d_row8_col0\" class=\"data row8 col0\" >nan</td>\n",
       "      <td id=\"T_aff6d_row8_col1\" class=\"data row8 col1\" >nan</td>\n",
       "      <td id=\"T_aff6d_row8_col2\" class=\"data row8 col2\" >0.0100000</td>\n",
       "      <td id=\"T_aff6d_row8_col3\" class=\"data row8 col3\" >1000.0000000</td>\n",
       "      <td id=\"T_aff6d_row8_col4\" class=\"data row8 col4\" >min-max + pca 0.95 + nystroem</td>\n",
       "      <td id=\"T_aff6d_row8_col5\" class=\"data row8 col5\" >0.9500000</td>\n",
       "      <td id=\"T_aff6d_row8_col6\" class=\"data row8 col6\" >full</td>\n",
       "      <td id=\"T_aff6d_row8_col7\" class=\"data row8 col7\" >True</td>\n",
       "      <td id=\"T_aff6d_row8_col8\" class=\"data row8 col8\" >10.0000000</td>\n",
       "      <td id=\"T_aff6d_row8_col9\" class=\"data row8 col9\" >0.0100000</td>\n",
       "      <td id=\"T_aff6d_row8_col10\" class=\"data row8 col10\" >2000.0000000</td>\n",
       "      <td id=\"T_aff6d_row8_col11\" class=\"data row8 col11\" >79.7303619</td>\n",
       "      <td id=\"T_aff6d_row8_col12\" class=\"data row8 col12\" >0.2756609</td>\n",
       "    </tr>\n",
       "    <tr>\n",
       "      <th id=\"T_aff6d_level0_row9\" class=\"row_heading level0 row9\" >4</th>\n",
       "      <td id=\"T_aff6d_row9_col0\" class=\"data row9 col0\" >OAS()</td>\n",
       "      <td id=\"T_aff6d_row9_col1\" class=\"data row9 col1\" >eigen</td>\n",
       "      <td id=\"T_aff6d_row9_col2\" class=\"data row9 col2\" >0.0100000</td>\n",
       "      <td id=\"T_aff6d_row9_col3\" class=\"data row9 col3\" >1000.0000000</td>\n",
       "      <td id=\"T_aff6d_row9_col4\" class=\"data row9 col4\" >min-max + nystroem</td>\n",
       "      <td id=\"T_aff6d_row9_col5\" class=\"data row9 col5\" >nan</td>\n",
       "      <td id=\"T_aff6d_row9_col6\" class=\"data row9 col6\" >nan</td>\n",
       "      <td id=\"T_aff6d_row9_col7\" class=\"data row9 col7\" >nan</td>\n",
       "      <td id=\"T_aff6d_row9_col8\" class=\"data row9 col8\" >nan</td>\n",
       "      <td id=\"T_aff6d_row9_col9\" class=\"data row9 col9\" >nan</td>\n",
       "      <td id=\"T_aff6d_row9_col10\" class=\"data row9 col10\" >nan</td>\n",
       "      <td id=\"T_aff6d_row9_col11\" class=\"data row9 col11\" >102.2867139</td>\n",
       "      <td id=\"T_aff6d_row9_col12\" class=\"data row9 col12\" >0.0707397</td>\n",
       "    </tr>\n",
       "    <tr>\n",
       "      <th id=\"T_aff6d_level0_row10\" class=\"row_heading level0 row10\" >0</th>\n",
       "      <td id=\"T_aff6d_row10_col0\" class=\"data row10 col0\" >nan</td>\n",
       "      <td id=\"T_aff6d_row10_col1\" class=\"data row10 col1\" >nan</td>\n",
       "      <td id=\"T_aff6d_row10_col2\" class=\"data row10 col2\" >nan</td>\n",
       "      <td id=\"T_aff6d_row10_col3\" class=\"data row10 col3\" >nan</td>\n",
       "      <td id=\"T_aff6d_row10_col4\" class=\"data row10 col4\" >raw</td>\n",
       "      <td id=\"T_aff6d_row10_col5\" class=\"data row10 col5\" >nan</td>\n",
       "      <td id=\"T_aff6d_row10_col6\" class=\"data row10 col6\" >nan</td>\n",
       "      <td id=\"T_aff6d_row10_col7\" class=\"data row10 col7\" >nan</td>\n",
       "      <td id=\"T_aff6d_row10_col8\" class=\"data row10 col8\" >nan</td>\n",
       "      <td id=\"T_aff6d_row10_col9\" class=\"data row10 col9\" >nan</td>\n",
       "      <td id=\"T_aff6d_row10_col10\" class=\"data row10 col10\" >nan</td>\n",
       "      <td id=\"T_aff6d_row10_col11\" class=\"data row10 col11\" >31137.5546060</td>\n",
       "      <td id=\"T_aff6d_row10_col12\" class=\"data row10 col12\" >-281.8802833</td>\n",
       "    </tr>\n",
       "  </tbody>\n",
       "</table>\n"
      ],
      "text/plain": [
       "<pandas.io.formats.style.Styler at 0x224fd801ad0>"
      ]
     },
     "metadata": {},
     "output_type": "display_data"
    }
   ],
   "source": [
    "print_all_results(name_estimator)"
   ]
  },
  {
   "cell_type": "code",
   "execution_count": 123,
   "metadata": {},
   "outputs": [
    {
     "data": {
      "image/png": "[encoded data removed]",
      "text/plain": [
       "<Figure size 1000x1000 with 2 Axes>"
      ]
     },
     "metadata": {},
     "output_type": "display_data"
    },
    {
     "data": {
      "application/vnd.plotly.v1+json": {
       "config": {
        "plotlyServerURL": "https://plot.ly"
       },
       "data": [
        {
         "dimensions": [
          {
           "label": "lda__covariance_estimator",
           "ticktext": [
            "None",
            "OAS()"
           ],
           "tickvals": [
            0,
            1
           ],
           "values": [
            0,
            1,
            1,
            0,
            1,
            1,
            1,
            1,
            1,
            1,
            1
           ]
          },
          {
           "label": "lda__solver",
           "ticktext": [
            "None",
            "eigen"
           ],
           "tickvals": [
            0,
            1
           ],
           "values": [
            0,
            1,
            1,
            0,
            1,
            1,
            1,
            1,
            1,
            1,
            1
           ]
          },
          {
           "label": "nys__gamma",
           "ticktext": [
            "None",
            0.01
           ],
           "tickvals": [
            0,
            1
           ],
           "values": [
            0,
            1,
            1,
            1,
            1,
            1,
            1,
            1,
            1,
            1,
            1
           ]
          },
          {
           "label": "nys__n_components",
           "ticktext": [
            "None",
            1000
           ],
           "tickvals": [
            0,
            1
           ],
           "values": [
            0,
            1,
            1,
            1,
            1,
            1,
            1,
            1,
            1,
            1,
            1
           ]
          },
          {
           "label": "preprocess",
           "ticktext": [
            "raw",
            "min-max + lmax + lda + nystroem",
            "min-max + l1 + lda + nystroem",
            "min-max + pca 0.95 + nystroem",
            "min-max + nystroem",
            "min-max + lda + nystroem",
            "std-scaler + lda + nystroem",
            "min-max + l2 + lda + nystroem"
           ],
           "tickvals": [
            0,
            1,
            2,
            3,
            4,
            5,
            6,
            7
           ],
           "values": [
            0,
            1,
            2,
            3,
            4,
            5,
            6,
            7,
            2,
            5,
            2
           ]
          },
          {
           "label": "pca__n_components",
           "ticktext": [
            "None",
            0.95
           ],
           "tickvals": [
            0,
            1
           ],
           "values": [
            0,
            0,
            0,
            1,
            0,
            0,
            0,
            0,
            0,
            0,
            0
           ]
          },
          {
           "label": "pca__svd_solver",
           "ticktext": [
            "None",
            "full"
           ],
           "tickvals": [
            0,
            1
           ],
           "values": [
            0,
            0,
            0,
            1,
            0,
            0,
            0,
            0,
            0,
            0,
            0
           ]
          },
          {
           "label": "pca__whiten",
           "ticktext": [
            "None",
            true
           ],
           "tickvals": [
            0,
            1
           ],
           "values": [
            0,
            0,
            0,
            1,
            0,
            0,
            0,
            0,
            0,
            0,
            0
           ]
          },
          {
           "label": "svr__C",
           "ticktext": [
            "None",
            10
           ],
           "tickvals": [
            0,
            1
           ],
           "values": [
            0,
            0,
            0,
            1,
            0,
            0,
            0,
            0,
            1,
            1,
            1
           ]
          },
          {
           "label": "svr__epsilon",
           "ticktext": [
            "None",
            0.01
           ],
           "tickvals": [
            0,
            1
           ],
           "values": [
            0,
            0,
            0,
            1,
            0,
            0,
            0,
            0,
            1,
            1,
            0
           ]
          },
          {
           "label": "svr__max_iter",
           "ticktext": [
            "None",
            2000
           ],
           "tickvals": [
            0,
            1
           ],
           "values": [
            0,
            0,
            0,
            1,
            0,
            0,
            0,
            0,
            1,
            1,
            1
           ]
          },
          {
           "label": "R^2",
           "tickvals": [
            -281.88,
            -140.8,
            0.28
           ],
           "values": [
            -281.88,
            0.28,
            0.28,
            0.28,
            0.07,
            0.28,
            0.28,
            0.28,
            0.28,
            0.28,
            0.28
           ]
          },
          {
           "label": "MSE",
           "tickvals": [
            78.72,
            3529.7,
            6980.68,
            10431.66,
            13882.64,
            17333.63,
            20784.61,
            24235.59,
            27686.57,
            31137.55
           ],
           "values": [
            31137.55,
            79.41,
            79.29,
            79.73,
            102.29,
            79.51,
            79.64,
            79.51,
            78.72,
            78.91,
            78.96
           ]
          }
         ],
         "labelangle": -15,
         "line": {
          "color": [
           31137.55,
           79.41,
           79.29,
           79.73,
           102.29,
           79.51,
           79.64,
           79.51,
           78.72,
           78.91,
           78.96
          ],
          "colorscale": [
           [
            0,
            "#440154"
           ],
           [
            0.1111111111111111,
            "#482878"
           ],
           [
            0.2222222222222222,
            "#3e4989"
           ],
           [
            0.3333333333333333,
            "#31688e"
           ],
           [
            0.4444444444444444,
            "#26828e"
           ],
           [
            0.5555555555555556,
            "#1f9e89"
           ],
           [
            0.6666666666666666,
            "#35b779"
           ],
           [
            0.7777777777777778,
            "#6ece58"
           ],
           [
            0.8888888888888888,
            "#b5de2b"
           ],
           [
            1,
            "#fde725"
           ]
          ],
          "showscale": true
         },
         "type": "parcoords"
        }
       ],
       "layout": {
        "template": {
         "data": {
          "bar": [
           {
            "error_x": {
             "color": "#2a3f5f"
            },
            "error_y": {
             "color": "#2a3f5f"
            },
            "marker": {
             "line": {
              "color": "#E5ECF6",
              "width": 0.5
             },
             "pattern": {
              "fillmode": "overlay",
              "size": 10,
              "solidity": 0.2
             }
            },
            "type": "bar"
           }
          ],
          "barpolar": [
           {
            "marker": {
             "line": {
              "color": "#E5ECF6",
              "width": 0.5
             },
             "pattern": {
              "fillmode": "overlay",
              "size": 10,
              "solidity": 0.2
             }
            },
            "type": "barpolar"
           }
          ],
          "carpet": [
           {
            "aaxis": {
             "endlinecolor": "#2a3f5f",
             "gridcolor": "white",
             "linecolor": "white",
             "minorgridcolor": "white",
             "startlinecolor": "#2a3f5f"
            },
            "baxis": {
             "endlinecolor": "#2a3f5f",
             "gridcolor": "white",
             "linecolor": "white",
             "minorgridcolor": "white",
             "startlinecolor": "#2a3f5f"
            },
            "type": "carpet"
           }
          ],
          "choropleth": [
           {
            "colorbar": {
             "outlinewidth": 0,
             "ticks": ""
            },
            "type": "choropleth"
           }
          ],
          "contour": [
           {
            "colorbar": {
             "outlinewidth": 0,
             "ticks": ""
            },
            "colorscale": [
             [
              0,
              "#0d0887"
             ],
             [
              0.1111111111111111,
              "#46039f"
             ],
             [
              0.2222222222222222,
              "#7201a8"
             ],
             [
              0.3333333333333333,
              "#9c179e"
             ],
             [
              0.4444444444444444,
              "#bd3786"
             ],
             [
              0.5555555555555556,
              "#d8576b"
             ],
             [
              0.6666666666666666,
              "#ed7953"
             ],
             [
              0.7777777777777778,
              "#fb9f3a"
             ],
             [
              0.8888888888888888,
              "#fdca26"
             ],
             [
              1,
              "#f0f921"
             ]
            ],
            "type": "contour"
           }
          ],
          "contourcarpet": [
           {
            "colorbar": {
             "outlinewidth": 0,
             "ticks": ""
            },
            "type": "contourcarpet"
           }
          ],
          "heatmap": [
           {
            "colorbar": {
             "outlinewidth": 0,
             "ticks": ""
            },
            "colorscale": [
             [
              0,
              "#0d0887"
             ],
             [
              0.1111111111111111,
              "#46039f"
             ],
             [
              0.2222222222222222,
              "#7201a8"
             ],
             [
              0.3333333333333333,
              "#9c179e"
             ],
             [
              0.4444444444444444,
              "#bd3786"
             ],
             [
              0.5555555555555556,
              "#d8576b"
             ],
             [
              0.6666666666666666,
              "#ed7953"
             ],
             [
              0.7777777777777778,
              "#fb9f3a"
             ],
             [
              0.8888888888888888,
              "#fdca26"
             ],
             [
              1,
              "#f0f921"
             ]
            ],
            "type": "heatmap"
           }
          ],
          "heatmapgl": [
           {
            "colorbar": {
             "outlinewidth": 0,
             "ticks": ""
            },
            "colorscale": [
             [
              0,
              "#0d0887"
             ],
             [
              0.1111111111111111,
              "#46039f"
             ],
             [
              0.2222222222222222,
              "#7201a8"
             ],
             [
              0.3333333333333333,
              "#9c179e"
             ],
             [
              0.4444444444444444,
              "#bd3786"
             ],
             [
              0.5555555555555556,
              "#d8576b"
             ],
             [
              0.6666666666666666,
              "#ed7953"
             ],
             [
              0.7777777777777778,
              "#fb9f3a"
             ],
             [
              0.8888888888888888,
              "#fdca26"
             ],
             [
              1,
              "#f0f921"
             ]
            ],
            "type": "heatmapgl"
           }
          ],
          "histogram": [
           {
            "marker": {
             "pattern": {
              "fillmode": "overlay",
              "size": 10,
              "solidity": 0.2
             }
            },
            "type": "histogram"
           }
          ],
          "histogram2d": [
           {
            "colorbar": {
             "outlinewidth": 0,
             "ticks": ""
            },
            "colorscale": [
             [
              0,
              "#0d0887"
             ],
             [
              0.1111111111111111,
              "#46039f"
             ],
             [
              0.2222222222222222,
              "#7201a8"
             ],
             [
              0.3333333333333333,
              "#9c179e"
             ],
             [
              0.4444444444444444,
              "#bd3786"
             ],
             [
              0.5555555555555556,
              "#d8576b"
             ],
             [
              0.6666666666666666,
              "#ed7953"
             ],
             [
              0.7777777777777778,
              "#fb9f3a"
             ],
             [
              0.8888888888888888,
              "#fdca26"
             ],
             [
              1,
              "#f0f921"
             ]
            ],
            "type": "histogram2d"
           }
          ],
          "histogram2dcontour": [
           {
            "colorbar": {
             "outlinewidth": 0,
             "ticks": ""
            },
            "colorscale": [
             [
              0,
              "#0d0887"
             ],
             [
              0.1111111111111111,
              "#46039f"
             ],
             [
              0.2222222222222222,
              "#7201a8"
             ],
             [
              0.3333333333333333,
              "#9c179e"
             ],
             [
              0.4444444444444444,
              "#bd3786"
             ],
             [
              0.5555555555555556,
              "#d8576b"
             ],
             [
              0.6666666666666666,
              "#ed7953"
             ],
             [
              0.7777777777777778,
              "#fb9f3a"
             ],
             [
              0.8888888888888888,
              "#fdca26"
             ],
             [
              1,
              "#f0f921"
             ]
            ],
            "type": "histogram2dcontour"
           }
          ],
          "mesh3d": [
           {
            "colorbar": {
             "outlinewidth": 0,
             "ticks": ""
            },
            "type": "mesh3d"
           }
          ],
          "parcoords": [
           {
            "line": {
             "colorbar": {
              "outlinewidth": 0,
              "ticks": ""
             }
            },
            "type": "parcoords"
           }
          ],
          "pie": [
           {
            "automargin": true,
            "type": "pie"
           }
          ],
          "scatter": [
           {
            "fillpattern": {
             "fillmode": "overlay",
             "size": 10,
             "solidity": 0.2
            },
            "type": "scatter"
           }
          ],
          "scatter3d": [
           {
            "line": {
             "colorbar": {
              "outlinewidth": 0,
              "ticks": ""
             }
            },
            "marker": {
             "colorbar": {
              "outlinewidth": 0,
              "ticks": ""
             }
            },
            "type": "scatter3d"
           }
          ],
          "scattercarpet": [
           {
            "marker": {
             "colorbar": {
              "outlinewidth": 0,
              "ticks": ""
             }
            },
            "type": "scattercarpet"
           }
          ],
          "scattergeo": [
           {
            "marker": {
             "colorbar": {
              "outlinewidth": 0,
              "ticks": ""
             }
            },
            "type": "scattergeo"
           }
          ],
          "scattergl": [
           {
            "marker": {
             "colorbar": {
              "outlinewidth": 0,
              "ticks": ""
             }
            },
            "type": "scattergl"
           }
          ],
          "scattermapbox": [
           {
            "marker": {
             "colorbar": {
              "outlinewidth": 0,
              "ticks": ""
             }
            },
            "type": "scattermapbox"
           }
          ],
          "scatterpolar": [
           {
            "marker": {
             "colorbar": {
              "outlinewidth": 0,
              "ticks": ""
             }
            },
            "type": "scatterpolar"
           }
          ],
          "scatterpolargl": [
           {
            "marker": {
             "colorbar": {
              "outlinewidth": 0,
              "ticks": ""
             }
            },
            "type": "scatterpolargl"
           }
          ],
          "scatterternary": [
           {
            "marker": {
             "colorbar": {
              "outlinewidth": 0,
              "ticks": ""
             }
            },
            "type": "scatterternary"
           }
          ],
          "surface": [
           {
            "colorbar": {
             "outlinewidth": 0,
             "ticks": ""
            },
            "colorscale": [
             [
              0,
              "#0d0887"
             ],
             [
              0.1111111111111111,
              "#46039f"
             ],
             [
              0.2222222222222222,
              "#7201a8"
             ],
             [
              0.3333333333333333,
              "#9c179e"
             ],
             [
              0.4444444444444444,
              "#bd3786"
             ],
             [
              0.5555555555555556,
              "#d8576b"
             ],
             [
              0.6666666666666666,
              "#ed7953"
             ],
             [
              0.7777777777777778,
              "#fb9f3a"
             ],
             [
              0.8888888888888888,
              "#fdca26"
             ],
             [
              1,
              "#f0f921"
             ]
            ],
            "type": "surface"
           }
          ],
          "table": [
           {
            "cells": {
             "fill": {
              "color": "#EBF0F8"
             },
             "line": {
              "color": "white"
             }
            },
            "header": {
             "fill": {
              "color": "#C8D4E3"
             },
             "line": {
              "color": "white"
             }
            },
            "type": "table"
           }
          ]
         },
         "layout": {
          "annotationdefaults": {
           "arrowcolor": "#2a3f5f",
           "arrowhead": 0,
           "arrowwidth": 1
          },
          "autotypenumbers": "strict",
          "coloraxis": {
           "colorbar": {
            "outlinewidth": 0,
            "ticks": ""
           }
          },
          "colorscale": {
           "diverging": [
            [
             0,
             "#8e0152"
            ],
            [
             0.1,
             "#c51b7d"
            ],
            [
             0.2,
             "#de77ae"
            ],
            [
             0.3,
             "#f1b6da"
            ],
            [
             0.4,
             "#fde0ef"
            ],
            [
             0.5,
             "#f7f7f7"
            ],
            [
             0.6,
             "#e6f5d0"
            ],
            [
             0.7,
             "#b8e186"
            ],
            [
             0.8,
             "#7fbc41"
            ],
            [
             0.9,
             "#4d9221"
            ],
            [
             1,
             "#276419"
            ]
           ],
           "sequential": [
            [
             0,
             "#0d0887"
            ],
            [
             0.1111111111111111,
             "#46039f"
            ],
            [
             0.2222222222222222,
             "#7201a8"
            ],
            [
             0.3333333333333333,
             "#9c179e"
            ],
            [
             0.4444444444444444,
             "#bd3786"
            ],
            [
             0.5555555555555556,
             "#d8576b"
            ],
            [
             0.6666666666666666,
             "#ed7953"
            ],
            [
             0.7777777777777778,
             "#fb9f3a"
            ],
            [
             0.8888888888888888,
             "#fdca26"
            ],
            [
             1,
             "#f0f921"
            ]
           ],
           "sequentialminus": [
            [
             0,
             "#0d0887"
            ],
            [
             0.1111111111111111,
             "#46039f"
            ],
            [
             0.2222222222222222,
             "#7201a8"
            ],
            [
             0.3333333333333333,
             "#9c179e"
            ],
            [
             0.4444444444444444,
             "#bd3786"
            ],
            [
             0.5555555555555556,
             "#d8576b"
            ],
            [
             0.6666666666666666,
             "#ed7953"
            ],
            [
             0.7777777777777778,
             "#fb9f3a"
            ],
            [
             0.8888888888888888,
             "#fdca26"
            ],
            [
             1,
             "#f0f921"
            ]
           ]
          },
          "colorway": [
           "#636efa",
           "#EF553B",
           "#00cc96",
           "#ab63fa",
           "#FFA15A",
           "#19d3f3",
           "#FF6692",
           "#B6E880",
           "#FF97FF",
           "#FECB52"
          ],
          "font": {
           "color": "#2a3f5f"
          },
          "geo": {
           "bgcolor": "white",
           "lakecolor": "white",
           "landcolor": "#E5ECF6",
           "showlakes": true,
           "showland": true,
           "subunitcolor": "white"
          },
          "hoverlabel": {
           "align": "left"
          },
          "hovermode": "closest",
          "mapbox": {
           "style": "light"
          },
          "paper_bgcolor": "white",
          "plot_bgcolor": "#E5ECF6",
          "polar": {
           "angularaxis": {
            "gridcolor": "white",
            "linecolor": "white",
            "ticks": ""
           },
           "bgcolor": "#E5ECF6",
           "radialaxis": {
            "gridcolor": "white",
            "linecolor": "white",
            "ticks": ""
           }
          },
          "scene": {
           "xaxis": {
            "backgroundcolor": "#E5ECF6",
            "gridcolor": "white",
            "gridwidth": 2,
            "linecolor": "white",
            "showbackground": true,
            "ticks": "",
            "zerolinecolor": "white"
           },
           "yaxis": {
            "backgroundcolor": "#E5ECF6",
            "gridcolor": "white",
            "gridwidth": 2,
            "linecolor": "white",
            "showbackground": true,
            "ticks": "",
            "zerolinecolor": "white"
           },
           "zaxis": {
            "backgroundcolor": "#E5ECF6",
            "gridcolor": "white",
            "gridwidth": 2,
            "linecolor": "white",
            "showbackground": true,
            "ticks": "",
            "zerolinecolor": "white"
           }
          },
          "shapedefaults": {
           "line": {
            "color": "#2a3f5f"
           }
          },
          "ternary": {
           "aaxis": {
            "gridcolor": "white",
            "linecolor": "white",
            "ticks": ""
           },
           "baxis": {
            "gridcolor": "white",
            "linecolor": "white",
            "ticks": ""
           },
           "bgcolor": "#E5ECF6",
           "caxis": {
            "gridcolor": "white",
            "linecolor": "white",
            "ticks": ""
           }
          },
          "title": {
           "x": 0.05
          },
          "xaxis": {
           "automargin": true,
           "gridcolor": "white",
           "linecolor": "white",
           "ticks": "",
           "title": {
            "standoff": 15
           },
           "zerolinecolor": "white",
           "zerolinewidth": 2
          },
          "yaxis": {
           "automargin": true,
           "gridcolor": "white",
           "linecolor": "white",
           "ticks": "",
           "title": {
            "standoff": 15
           },
           "zerolinecolor": "white",
           "zerolinewidth": 2
          }
         }
        }
       }
      }
     },
     "metadata": {},
     "output_type": "display_data"
    }
   ],
   "source": [
    "save_display_results(\n",
    "    name_estimator,\n",
    "    best_preprocessor,\n",
    "    best_estimator,\n",
    "    best_predictions,\n",
    ")"
   ]
  }
 ],
 "metadata": {
  "kernelspec": {
   "display_name": "Python 3",
   "language": "python",
   "name": "python3"
  },
  "language_info": {
   "codemirror_mode": {
    "name": "ipython",
    "version": 3
   },
   "file_extension": ".py",
   "mimetype": "text/x-python",
   "name": "python",
   "nbconvert_exporter": "python",
   "pygments_lexer": "ipython3",
   "version": "3.11.7"
  }
 },
 "nbformat": 4,
 "nbformat_minor": 2
}
