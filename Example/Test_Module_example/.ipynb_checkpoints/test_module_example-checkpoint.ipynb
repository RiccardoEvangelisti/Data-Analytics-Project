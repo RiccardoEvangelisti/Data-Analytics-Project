{
 "cells": [
  {
   "cell_type": "markdown",
   "id": "c59a279a",
   "metadata": {},
   "source": [
    "## API Implementation"
   ]
  },
  {
   "cell_type": "code",
   "execution_count": 1,
   "id": "38a45915",
   "metadata": {},
   "outputs": [],
   "source": [
    "MY_UNIQUE_ID = \"343435631\"\n",
    "\n",
    "from sklearn.preprocessing import MinMaxScaler\n",
    "from sklearn.linear_model import LinearRegression\n",
    "from sklearn.svm import SVR\n",
    "from sklearn.metrics import mean_squared_error\n",
    "from sklearn.metrics import mean_absolute_error\n",
    "from sklearn.metrics import mean_absolute_percentage_error\n",
    "from sklearn.metrics import r2_score\n",
    "import pickle\n",
    "\n",
    "# Output: unique ID of the team\n",
    "def getName():\n",
    "    return MY_UNIQUE_ID\n",
    "\n",
    "# Input: Test dataframe\n",
    "# Output: PreProcessed test dataframe\n",
    "def preprocess(df, clfName):\n",
    "    if ((clfName == \"lr\") or (clfName == \"svr\")):\n",
    "        X = df.iloc[:, :5]\n",
    "        y = df.iloc[:, 5]\n",
    "        scaler = pickle.load(open(\"scaler.save\", 'rb'))\n",
    "        X = pd.DataFrame(scaler.transform(X))\n",
    "        dfNew = pd.concat([X, y], axis = 1)\n",
    "        return dfNew\n",
    "\n",
    "# Input: Regressor name (\"lr\": Linear Regression, \"SVR\": Support Vector Regressor)\n",
    "# Output: Regressor object\n",
    "def load(clfName):\n",
    "    if (clfName == \"lr\"):\n",
    "        clf = pickle.load(open(\"regression.save\", 'rb'))\n",
    "        return clf\n",
    "    elif (clfName == \"svr\"):\n",
    "        clf = pickle.load(open(\"svr.save\", 'rb'))\n",
    "        return clf\n",
    "    else:\n",
    "        return None\n",
    "    \n",
    "# Input: PreProcessed dataset, Regressor Object \n",
    "# Output: Performance dictionary\n",
    "def predict(df, clf):\n",
    "    X = df.iloc[:, :5]\n",
    "    y = df.iloc[:, 5]\n",
    "    ypred = clf.predict(X)\n",
    "    mse = mean_squared_error(ypred, y)\n",
    "    mae = mean_absolute_error(ypred, y)\n",
    "    mape = mean_absolute_percentage_error(ypred, y)\n",
    "    r2 = r2_score(ypred, y)\n",
    "    perf = {\"mse\": mse, \"mae\": mae, \"mape\": mape, \"r2square\": r2}\n",
    "    return perf\n",
    "    "
   ]
  },
  {
   "cell_type": "markdown",
   "id": "6a03d0c5",
   "metadata": {},
   "source": [
    "# Example of test execution\n",
    "This part shows our your code will be executed by our tool.\n",
    "\n",
    " <b> Must not be included in your submission!!! </b>"
   ]
  },
  {
   "cell_type": "code",
   "execution_count": 2,
   "id": "ede41fed",
   "metadata": {},
   "outputs": [
    {
     "name": "stdout",
     "output_type": "stream",
     "text": [
      "RESULT team: 343435631 algoName: lr perf: {'mse': 0.02124209173915271, 'mae': 0.11183057740130471, 'mape': 0.1783625334214022, 'r2square': 0.7977877068998055}\n",
      "RESULT team: 343435631 algoName: svr perf: {'mse': 0.013473600013370451, 'mae': 0.0908919920805323, 'mape': 0.12743712267589455, 'r2square': 0.788539028216227}\n"
     ]
    }
   ],
   "source": [
    "import pandas as pd\n",
    "\n",
    "FILENAME = \"test.csv\"\n",
    "CLF_NAME_LIST = [ \"lr\", \"svr\" ]\n",
    "df = pd.read_csv(FILENAME)\n",
    "\n",
    "#Esecuzione degli algoritmi\n",
    "for modelName in CLF_NAME_LIST:\n",
    "    dfProcessed = preprocess(df, modelName)\n",
    "    clf = load(modelName)\n",
    "    perf = predict(dfProcessed, clf)\n",
    "    print(\"RESULT team: \"+str(getName())+\" algoName: \"+ modelName + \" perf: \"+ str(perf))\n",
    "\n",
    "\n"
   ]
  },
  {
   "cell_type": "code",
   "execution_count": null,
   "id": "cce39a37",
   "metadata": {},
   "outputs": [],
   "source": []
  }
 ],
 "metadata": {
  "kernelspec": {
   "display_name": "Python 3 (ipykernel)",
   "language": "python",
   "name": "python3"
  },
  "language_info": {
   "codemirror_mode": {
    "name": "ipython",
    "version": 3
   },
   "file_extension": ".py",
   "mimetype": "text/x-python",
   "name": "python",
   "nbconvert_exporter": "python",
   "pygments_lexer": "ipython3",
   "version": "3.8.18"
  }
 },
 "nbformat": 4,
 "nbformat_minor": 5
}
